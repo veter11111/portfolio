{
  "cells": [
    {
      "cell_type": "markdown",
      "metadata": {
        "id": "MOyQqMkvS-jx"
      },
      "source": [
        "# Прогнозирование оттока клиентов"
      ]
    },
    {
      "cell_type": "markdown",
      "metadata": {
        "id": "71phxpUzS-jy"
      },
      "source": [
        "Оператор связи «Ниединогоразрыва.ком» хочет научиться прогнозировать отток клиентов. Если выяснится, что пользователь планирует уйти, ему будут предложены промокоды и специальные условия. Команда оператора собрала персональные данные о некоторых клиентах, информацию об их тарифах и договорах.\n",
        "\n",
        "Описание услуг\n",
        "\n",
        "Оператор предоставляет два основных типа услуг:\n",
        "\n",
        "1.\tСтационарную телефонную связь. Возможно подключение телефонного аппарата к нескольким линиям одновременно.\n",
        "2.\tИнтернет. Подключение может быть двух типов: через телефонную линию (DSL, от англ. digital subscriber line, «цифровая абонентская линия») или оптоволоконный кабель (Fiber optic).\n",
        "\n",
        "Также доступны такие услуги:\n",
        "\n",
        "-\tИнтернет-безопасность: антивирус (DeviceProtection) и блокировка небезопасных сайтов (OnlineSecurity);\n",
        "-\tВыделенная линия технической поддержки (TechSupport);\n",
        "-\tОблачное хранилище файлов для резервного копирования данных (OnlineBackup);\n",
        "-\tСтриминговое телевидение (StreamingTV) и каталог фильмов (StreamingMovies).\n",
        "\n",
        "За услуги клиенты могут платить каждый месяц или заключить договор на 1–2 года. Доступны различные способы расчёта и возможность получения электронного чека.\n",
        "\n",
        "Описание данных\n",
        "\n",
        "Данные состоят из файлов, полученных из разных источников:\n",
        "-\tcontract_new.csv — информация о договоре;\n",
        "-\tpersonal_new.csv — персональные данные клиента;\n",
        "-\tinternet_new.csv — информация об интернет-услугах;\n",
        "-   phone_new.csv — информация об услугах телефонии.\n",
        "\n",
        "Во всех файлах столбец customerID содержит код клиента.\n",
        "Информация о договорах актуальна на 1 февраля 2020."
      ]
    },
    {
      "cell_type": "markdown",
      "metadata": {
        "id": "fUpFrngQS-jz"
      },
      "source": [
        "**Цель проекта:** спрогнозировать уйдет клиент оператора связи «Ниединогоразрыва.ком» в ближайшее время или нет."
      ]
    },
    {
      "cell_type": "markdown",
      "metadata": {
        "id": "td4k3yvJS-j0"
      },
      "source": [
        "**Содержание (план) проекта:**\n",
        "\n",
        "1. Подготовка данных\n",
        "\n",
        "     1.1. Открытие и изучение файлов\n",
        "     \n",
        "     1.2. Предобработка данных\n",
        "     \n",
        "          1.2.1. Объединение таблиц\n",
        "          1.2.2. Обработка пропущенных значений\n",
        "          1.2.3. Преобразование типов данных\n",
        "          1.2.4. Проверка на дубликаты\n",
        "          1.2.5. Выявление выбросов и аномалий\n",
        "          1.2.6. Добавление новых столбцов (с целевым признаком, с  длительностью обслуживания)\n",
        "2. Исследовательский анализ данных\n",
        "\n",
        "    2.1. Проверка на дисбаланс классов\n",
        "    \n",
        "    2.2. Сравнение распределения признаков для ушедших и оставшихся клиентов\n",
        "    \n",
        "    2.3. Исследование корреляции между признаками\n",
        "    \n",
        "\n",
        "3. Обучение моделей\n",
        "\n",
        "    3.1. Подготовка выборок для обучения моделей\n",
        "    \n",
        "    3.2. Обучение моделей и оценка их качества кросс-валидацией\n",
        "    \n",
        "          3.2.1. LogisticRegression\n",
        "          3.2.2. RandomForestClassifier\n",
        "          3.2.3. CatBoostClassifier\n",
        "          \n",
        "4. Тестирование лучшей модели."
      ]
    },
    {
      "cell_type": "markdown",
      "metadata": {
        "id": "iPUGb79nS-j2"
      },
      "source": [
        "## 1 Подготовка данных"
      ]
    },
    {
      "cell_type": "code",
      "execution_count": null,
      "metadata": {
        "id": "aa-0-FfVS-j3",
        "outputId": "52d0b733-46c9-4cee-cf82-274203c39328"
      },
      "outputs": [
        {
          "name": "stdout",
          "output_type": "stream",
          "text": [
            "Collecting phik\n",
            "  Downloading phik-0.12.3-cp39-cp39-manylinux_2_17_x86_64.manylinux2014_x86_64.whl (679 kB)\n",
            "\u001b[K     |████████████████████████████████| 679 kB 1.8 MB/s eta 0:00:01\n",
            "\u001b[?25hRequirement already satisfied: matplotlib>=2.2.3 in /opt/conda/lib/python3.9/site-packages (from phik) (3.3.4)\n",
            "Requirement already satisfied: joblib>=0.14.1 in /opt/conda/lib/python3.9/site-packages (from phik) (1.1.0)\n",
            "Requirement already satisfied: pandas>=0.25.1 in /opt/conda/lib/python3.9/site-packages (from phik) (1.2.4)\n",
            "Requirement already satisfied: numpy>=1.18.0 in /opt/conda/lib/python3.9/site-packages (from phik) (1.21.1)\n",
            "Requirement already satisfied: scipy>=1.5.2 in /opt/conda/lib/python3.9/site-packages (from phik) (1.9.1)\n",
            "Requirement already satisfied: kiwisolver>=1.0.1 in /opt/conda/lib/python3.9/site-packages (from matplotlib>=2.2.3->phik) (1.4.4)\n",
            "Requirement already satisfied: python-dateutil>=2.1 in /opt/conda/lib/python3.9/site-packages (from matplotlib>=2.2.3->phik) (2.8.1)\n",
            "Requirement already satisfied: cycler>=0.10 in /opt/conda/lib/python3.9/site-packages (from matplotlib>=2.2.3->phik) (0.11.0)\n",
            "Requirement already satisfied: pyparsing!=2.0.4,!=2.1.2,!=2.1.6,>=2.0.3 in /opt/conda/lib/python3.9/site-packages (from matplotlib>=2.2.3->phik) (2.4.7)\n",
            "Requirement already satisfied: pillow>=6.2.0 in /opt/conda/lib/python3.9/site-packages (from matplotlib>=2.2.3->phik) (8.4.0)\n",
            "Requirement already satisfied: pytz>=2017.3 in /opt/conda/lib/python3.9/site-packages (from pandas>=0.25.1->phik) (2021.1)\n",
            "Requirement already satisfied: six>=1.5 in /opt/conda/lib/python3.9/site-packages (from python-dateutil>=2.1->matplotlib>=2.2.3->phik) (1.16.0)\n",
            "Installing collected packages: phik\n",
            "Successfully installed phik-0.12.3\n"
          ]
        }
      ],
      "source": [
        "!pip install phik"
      ]
    },
    {
      "cell_type": "code",
      "execution_count": null,
      "metadata": {
        "id": "VnCcCMdiS-j5"
      },
      "outputs": [],
      "source": [
        "import pandas as pd\n",
        "import numpy as np\n",
        "import matplotlib.pyplot as plt\n",
        "from sklearn.model_selection import train_test_split, RandomizedSearchCV, cross_val_score\n",
        "from sklearn.linear_model import LogisticRegression\n",
        "from sklearn.ensemble import RandomForestClassifier\n",
        "from sklearn.compose import make_column_transformer\n",
        "from sklearn.pipeline import make_pipeline\n",
        "from sklearn.metrics import roc_auc_score, accuracy_score, roc_curve\n",
        "from sklearn.preprocessing import OneHotEncoder, StandardScaler\n",
        "from catboost import CatBoostClassifier, Pool\n",
        "import phik\n",
        "import warnings\n",
        "warnings.filterwarnings(\"ignore\")"
      ]
    },
    {
      "cell_type": "markdown",
      "metadata": {
        "id": "mFvGQMMVS-j6"
      },
      "source": [
        "### 1.1 Открытие и изучение файлов"
      ]
    },
    {
      "cell_type": "code",
      "execution_count": null,
      "metadata": {
        "id": "p0WSev6zS-j6"
      },
      "outputs": [],
      "source": [
        "contract_new = pd.read_csv('/datasets/contract_new.csv')"
      ]
    },
    {
      "cell_type": "code",
      "execution_count": null,
      "metadata": {
        "id": "JUM_xxZaS-j6",
        "outputId": "da8e9c15-2504-47b1-fc9c-39756c8e1431"
      },
      "outputs": [
        {
          "data": {
            "text/html": [
              "<div>\n",
              "<style scoped>\n",
              "    .dataframe tbody tr th:only-of-type {\n",
              "        vertical-align: middle;\n",
              "    }\n",
              "\n",
              "    .dataframe tbody tr th {\n",
              "        vertical-align: top;\n",
              "    }\n",
              "\n",
              "    .dataframe thead th {\n",
              "        text-align: right;\n",
              "    }\n",
              "</style>\n",
              "<table border=\"1\" class=\"dataframe\">\n",
              "  <thead>\n",
              "    <tr style=\"text-align: right;\">\n",
              "      <th></th>\n",
              "      <th>customerID</th>\n",
              "      <th>BeginDate</th>\n",
              "      <th>EndDate</th>\n",
              "      <th>Type</th>\n",
              "      <th>PaperlessBilling</th>\n",
              "      <th>PaymentMethod</th>\n",
              "      <th>MonthlyCharges</th>\n",
              "      <th>TotalCharges</th>\n",
              "    </tr>\n",
              "  </thead>\n",
              "  <tbody>\n",
              "    <tr>\n",
              "      <th>0</th>\n",
              "      <td>7590-VHVEG</td>\n",
              "      <td>2020-01-01</td>\n",
              "      <td>No</td>\n",
              "      <td>Month-to-month</td>\n",
              "      <td>Yes</td>\n",
              "      <td>Electronic check</td>\n",
              "      <td>29.85</td>\n",
              "      <td>31.04</td>\n",
              "    </tr>\n",
              "    <tr>\n",
              "      <th>1</th>\n",
              "      <td>5575-GNVDE</td>\n",
              "      <td>2017-04-01</td>\n",
              "      <td>No</td>\n",
              "      <td>One year</td>\n",
              "      <td>No</td>\n",
              "      <td>Mailed check</td>\n",
              "      <td>56.95</td>\n",
              "      <td>2071.84</td>\n",
              "    </tr>\n",
              "    <tr>\n",
              "      <th>2</th>\n",
              "      <td>3668-QPYBK</td>\n",
              "      <td>2019-10-01</td>\n",
              "      <td>No</td>\n",
              "      <td>Month-to-month</td>\n",
              "      <td>Yes</td>\n",
              "      <td>Mailed check</td>\n",
              "      <td>53.85</td>\n",
              "      <td>226.17</td>\n",
              "    </tr>\n",
              "    <tr>\n",
              "      <th>3</th>\n",
              "      <td>7795-CFOCW</td>\n",
              "      <td>2016-05-01</td>\n",
              "      <td>No</td>\n",
              "      <td>One year</td>\n",
              "      <td>No</td>\n",
              "      <td>Bank transfer (automatic)</td>\n",
              "      <td>42.30</td>\n",
              "      <td>1960.6</td>\n",
              "    </tr>\n",
              "    <tr>\n",
              "      <th>4</th>\n",
              "      <td>9237-HQITU</td>\n",
              "      <td>2019-09-01</td>\n",
              "      <td>No</td>\n",
              "      <td>Month-to-month</td>\n",
              "      <td>Yes</td>\n",
              "      <td>Electronic check</td>\n",
              "      <td>70.70</td>\n",
              "      <td>353.5</td>\n",
              "    </tr>\n",
              "  </tbody>\n",
              "</table>\n",
              "</div>"
            ],
            "text/plain": [
              "   customerID   BeginDate EndDate            Type PaperlessBilling  \\\n",
              "0  7590-VHVEG  2020-01-01      No  Month-to-month              Yes   \n",
              "1  5575-GNVDE  2017-04-01      No        One year               No   \n",
              "2  3668-QPYBK  2019-10-01      No  Month-to-month              Yes   \n",
              "3  7795-CFOCW  2016-05-01      No        One year               No   \n",
              "4  9237-HQITU  2019-09-01      No  Month-to-month              Yes   \n",
              "\n",
              "               PaymentMethod  MonthlyCharges TotalCharges  \n",
              "0           Electronic check           29.85        31.04  \n",
              "1               Mailed check           56.95      2071.84  \n",
              "2               Mailed check           53.85       226.17  \n",
              "3  Bank transfer (automatic)           42.30       1960.6  \n",
              "4           Electronic check           70.70        353.5  "
            ]
          },
          "execution_count": 5,
          "metadata": {},
          "output_type": "execute_result"
        }
      ],
      "source": [
        "contract_new.head()"
      ]
    },
    {
      "cell_type": "code",
      "execution_count": null,
      "metadata": {
        "id": "1-78Kd8gS-j7",
        "outputId": "394aab91-65cc-4782-ce7e-9676caa9a70b"
      },
      "outputs": [
        {
          "name": "stdout",
          "output_type": "stream",
          "text": [
            "<class 'pandas.core.frame.DataFrame'>\n",
            "RangeIndex: 7043 entries, 0 to 7042\n",
            "Data columns (total 8 columns):\n",
            " #   Column            Non-Null Count  Dtype  \n",
            "---  ------            --------------  -----  \n",
            " 0   customerID        7043 non-null   object \n",
            " 1   BeginDate         7043 non-null   object \n",
            " 2   EndDate           7043 non-null   object \n",
            " 3   Type              7043 non-null   object \n",
            " 4   PaperlessBilling  7043 non-null   object \n",
            " 5   PaymentMethod     7043 non-null   object \n",
            " 6   MonthlyCharges    7043 non-null   float64\n",
            " 7   TotalCharges      7043 non-null   object \n",
            "dtypes: float64(1), object(7)\n",
            "memory usage: 440.3+ KB\n"
          ]
        }
      ],
      "source": [
        "contract_new.info()"
      ]
    },
    {
      "cell_type": "code",
      "execution_count": null,
      "metadata": {
        "id": "zJOdx1YQS-j7",
        "outputId": "5cac614c-4819-403c-f65f-411571985ab1"
      },
      "outputs": [
        {
          "data": {
            "text/html": [
              "<div>\n",
              "<style scoped>\n",
              "    .dataframe tbody tr th:only-of-type {\n",
              "        vertical-align: middle;\n",
              "    }\n",
              "\n",
              "    .dataframe tbody tr th {\n",
              "        vertical-align: top;\n",
              "    }\n",
              "\n",
              "    .dataframe thead th {\n",
              "        text-align: right;\n",
              "    }\n",
              "</style>\n",
              "<table border=\"1\" class=\"dataframe\">\n",
              "  <thead>\n",
              "    <tr style=\"text-align: right;\">\n",
              "      <th></th>\n",
              "      <th>MonthlyCharges</th>\n",
              "    </tr>\n",
              "  </thead>\n",
              "  <tbody>\n",
              "    <tr>\n",
              "      <th>count</th>\n",
              "      <td>7043.000000</td>\n",
              "    </tr>\n",
              "    <tr>\n",
              "      <th>mean</th>\n",
              "      <td>64.761692</td>\n",
              "    </tr>\n",
              "    <tr>\n",
              "      <th>std</th>\n",
              "      <td>30.090047</td>\n",
              "    </tr>\n",
              "    <tr>\n",
              "      <th>min</th>\n",
              "      <td>18.250000</td>\n",
              "    </tr>\n",
              "    <tr>\n",
              "      <th>25%</th>\n",
              "      <td>35.500000</td>\n",
              "    </tr>\n",
              "    <tr>\n",
              "      <th>50%</th>\n",
              "      <td>70.350000</td>\n",
              "    </tr>\n",
              "    <tr>\n",
              "      <th>75%</th>\n",
              "      <td>89.850000</td>\n",
              "    </tr>\n",
              "    <tr>\n",
              "      <th>max</th>\n",
              "      <td>118.750000</td>\n",
              "    </tr>\n",
              "  </tbody>\n",
              "</table>\n",
              "</div>"
            ],
            "text/plain": [
              "       MonthlyCharges\n",
              "count     7043.000000\n",
              "mean        64.761692\n",
              "std         30.090047\n",
              "min         18.250000\n",
              "25%         35.500000\n",
              "50%         70.350000\n",
              "75%         89.850000\n",
              "max        118.750000"
            ]
          },
          "execution_count": 7,
          "metadata": {},
          "output_type": "execute_result"
        }
      ],
      "source": [
        "contract_new.describe()"
      ]
    },
    {
      "cell_type": "code",
      "execution_count": null,
      "metadata": {
        "id": "2In4BkykS-j8"
      },
      "outputs": [],
      "source": [
        "personal_new = pd.read_csv('/datasets/personal_new.csv')"
      ]
    },
    {
      "cell_type": "code",
      "execution_count": null,
      "metadata": {
        "id": "iYRi_yExS-j8",
        "outputId": "1d8ea1cf-7301-483c-b321-34dcd0693613"
      },
      "outputs": [
        {
          "data": {
            "text/html": [
              "<div>\n",
              "<style scoped>\n",
              "    .dataframe tbody tr th:only-of-type {\n",
              "        vertical-align: middle;\n",
              "    }\n",
              "\n",
              "    .dataframe tbody tr th {\n",
              "        vertical-align: top;\n",
              "    }\n",
              "\n",
              "    .dataframe thead th {\n",
              "        text-align: right;\n",
              "    }\n",
              "</style>\n",
              "<table border=\"1\" class=\"dataframe\">\n",
              "  <thead>\n",
              "    <tr style=\"text-align: right;\">\n",
              "      <th></th>\n",
              "      <th>customerID</th>\n",
              "      <th>gender</th>\n",
              "      <th>SeniorCitizen</th>\n",
              "      <th>Partner</th>\n",
              "      <th>Dependents</th>\n",
              "    </tr>\n",
              "  </thead>\n",
              "  <tbody>\n",
              "    <tr>\n",
              "      <th>0</th>\n",
              "      <td>7590-VHVEG</td>\n",
              "      <td>Female</td>\n",
              "      <td>0</td>\n",
              "      <td>Yes</td>\n",
              "      <td>No</td>\n",
              "    </tr>\n",
              "    <tr>\n",
              "      <th>1</th>\n",
              "      <td>5575-GNVDE</td>\n",
              "      <td>Male</td>\n",
              "      <td>0</td>\n",
              "      <td>No</td>\n",
              "      <td>No</td>\n",
              "    </tr>\n",
              "    <tr>\n",
              "      <th>2</th>\n",
              "      <td>3668-QPYBK</td>\n",
              "      <td>Male</td>\n",
              "      <td>0</td>\n",
              "      <td>No</td>\n",
              "      <td>No</td>\n",
              "    </tr>\n",
              "    <tr>\n",
              "      <th>3</th>\n",
              "      <td>7795-CFOCW</td>\n",
              "      <td>Male</td>\n",
              "      <td>0</td>\n",
              "      <td>No</td>\n",
              "      <td>No</td>\n",
              "    </tr>\n",
              "    <tr>\n",
              "      <th>4</th>\n",
              "      <td>9237-HQITU</td>\n",
              "      <td>Female</td>\n",
              "      <td>0</td>\n",
              "      <td>No</td>\n",
              "      <td>No</td>\n",
              "    </tr>\n",
              "  </tbody>\n",
              "</table>\n",
              "</div>"
            ],
            "text/plain": [
              "   customerID  gender  SeniorCitizen Partner Dependents\n",
              "0  7590-VHVEG  Female              0     Yes         No\n",
              "1  5575-GNVDE    Male              0      No         No\n",
              "2  3668-QPYBK    Male              0      No         No\n",
              "3  7795-CFOCW    Male              0      No         No\n",
              "4  9237-HQITU  Female              0      No         No"
            ]
          },
          "execution_count": 9,
          "metadata": {},
          "output_type": "execute_result"
        }
      ],
      "source": [
        "personal_new.head()"
      ]
    },
    {
      "cell_type": "code",
      "execution_count": null,
      "metadata": {
        "id": "-VmYLwDXS-j8",
        "outputId": "5c419d0c-3417-450d-dae9-c19b4031e440"
      },
      "outputs": [
        {
          "name": "stdout",
          "output_type": "stream",
          "text": [
            "<class 'pandas.core.frame.DataFrame'>\n",
            "RangeIndex: 7043 entries, 0 to 7042\n",
            "Data columns (total 5 columns):\n",
            " #   Column         Non-Null Count  Dtype \n",
            "---  ------         --------------  ----- \n",
            " 0   customerID     7043 non-null   object\n",
            " 1   gender         7043 non-null   object\n",
            " 2   SeniorCitizen  7043 non-null   int64 \n",
            " 3   Partner        7043 non-null   object\n",
            " 4   Dependents     7043 non-null   object\n",
            "dtypes: int64(1), object(4)\n",
            "memory usage: 275.2+ KB\n"
          ]
        }
      ],
      "source": [
        "personal_new.info()"
      ]
    },
    {
      "cell_type": "code",
      "execution_count": null,
      "metadata": {
        "id": "x7oPTOEyS-j9",
        "outputId": "da96423a-1b81-443b-902e-ca79b4ee76ed"
      },
      "outputs": [
        {
          "data": {
            "text/html": [
              "<div>\n",
              "<style scoped>\n",
              "    .dataframe tbody tr th:only-of-type {\n",
              "        vertical-align: middle;\n",
              "    }\n",
              "\n",
              "    .dataframe tbody tr th {\n",
              "        vertical-align: top;\n",
              "    }\n",
              "\n",
              "    .dataframe thead th {\n",
              "        text-align: right;\n",
              "    }\n",
              "</style>\n",
              "<table border=\"1\" class=\"dataframe\">\n",
              "  <thead>\n",
              "    <tr style=\"text-align: right;\">\n",
              "      <th></th>\n",
              "      <th>SeniorCitizen</th>\n",
              "    </tr>\n",
              "  </thead>\n",
              "  <tbody>\n",
              "    <tr>\n",
              "      <th>count</th>\n",
              "      <td>7043.000000</td>\n",
              "    </tr>\n",
              "    <tr>\n",
              "      <th>mean</th>\n",
              "      <td>0.162147</td>\n",
              "    </tr>\n",
              "    <tr>\n",
              "      <th>std</th>\n",
              "      <td>0.368612</td>\n",
              "    </tr>\n",
              "    <tr>\n",
              "      <th>min</th>\n",
              "      <td>0.000000</td>\n",
              "    </tr>\n",
              "    <tr>\n",
              "      <th>25%</th>\n",
              "      <td>0.000000</td>\n",
              "    </tr>\n",
              "    <tr>\n",
              "      <th>50%</th>\n",
              "      <td>0.000000</td>\n",
              "    </tr>\n",
              "    <tr>\n",
              "      <th>75%</th>\n",
              "      <td>0.000000</td>\n",
              "    </tr>\n",
              "    <tr>\n",
              "      <th>max</th>\n",
              "      <td>1.000000</td>\n",
              "    </tr>\n",
              "  </tbody>\n",
              "</table>\n",
              "</div>"
            ],
            "text/plain": [
              "       SeniorCitizen\n",
              "count    7043.000000\n",
              "mean        0.162147\n",
              "std         0.368612\n",
              "min         0.000000\n",
              "25%         0.000000\n",
              "50%         0.000000\n",
              "75%         0.000000\n",
              "max         1.000000"
            ]
          },
          "execution_count": 11,
          "metadata": {},
          "output_type": "execute_result"
        }
      ],
      "source": [
        "personal_new.describe()"
      ]
    },
    {
      "cell_type": "code",
      "execution_count": null,
      "metadata": {
        "id": "0SsjN4tqS-j9"
      },
      "outputs": [],
      "source": [
        "internet_new = pd.read_csv('/datasets/internet_new.csv')"
      ]
    },
    {
      "cell_type": "code",
      "execution_count": null,
      "metadata": {
        "id": "8_2S2GNmS-j9",
        "outputId": "581697d0-e4ef-4cae-9a34-0d37f7588900"
      },
      "outputs": [
        {
          "data": {
            "text/html": [
              "<div>\n",
              "<style scoped>\n",
              "    .dataframe tbody tr th:only-of-type {\n",
              "        vertical-align: middle;\n",
              "    }\n",
              "\n",
              "    .dataframe tbody tr th {\n",
              "        vertical-align: top;\n",
              "    }\n",
              "\n",
              "    .dataframe thead th {\n",
              "        text-align: right;\n",
              "    }\n",
              "</style>\n",
              "<table border=\"1\" class=\"dataframe\">\n",
              "  <thead>\n",
              "    <tr style=\"text-align: right;\">\n",
              "      <th></th>\n",
              "      <th>customerID</th>\n",
              "      <th>InternetService</th>\n",
              "      <th>OnlineSecurity</th>\n",
              "      <th>OnlineBackup</th>\n",
              "      <th>DeviceProtection</th>\n",
              "      <th>TechSupport</th>\n",
              "      <th>StreamingTV</th>\n",
              "      <th>StreamingMovies</th>\n",
              "    </tr>\n",
              "  </thead>\n",
              "  <tbody>\n",
              "    <tr>\n",
              "      <th>0</th>\n",
              "      <td>7590-VHVEG</td>\n",
              "      <td>DSL</td>\n",
              "      <td>No</td>\n",
              "      <td>Yes</td>\n",
              "      <td>No</td>\n",
              "      <td>No</td>\n",
              "      <td>No</td>\n",
              "      <td>No</td>\n",
              "    </tr>\n",
              "    <tr>\n",
              "      <th>1</th>\n",
              "      <td>5575-GNVDE</td>\n",
              "      <td>DSL</td>\n",
              "      <td>Yes</td>\n",
              "      <td>No</td>\n",
              "      <td>Yes</td>\n",
              "      <td>No</td>\n",
              "      <td>No</td>\n",
              "      <td>No</td>\n",
              "    </tr>\n",
              "    <tr>\n",
              "      <th>2</th>\n",
              "      <td>3668-QPYBK</td>\n",
              "      <td>DSL</td>\n",
              "      <td>Yes</td>\n",
              "      <td>Yes</td>\n",
              "      <td>No</td>\n",
              "      <td>No</td>\n",
              "      <td>No</td>\n",
              "      <td>No</td>\n",
              "    </tr>\n",
              "    <tr>\n",
              "      <th>3</th>\n",
              "      <td>7795-CFOCW</td>\n",
              "      <td>DSL</td>\n",
              "      <td>Yes</td>\n",
              "      <td>No</td>\n",
              "      <td>Yes</td>\n",
              "      <td>Yes</td>\n",
              "      <td>No</td>\n",
              "      <td>No</td>\n",
              "    </tr>\n",
              "    <tr>\n",
              "      <th>4</th>\n",
              "      <td>9237-HQITU</td>\n",
              "      <td>Fiber optic</td>\n",
              "      <td>No</td>\n",
              "      <td>No</td>\n",
              "      <td>No</td>\n",
              "      <td>No</td>\n",
              "      <td>No</td>\n",
              "      <td>No</td>\n",
              "    </tr>\n",
              "  </tbody>\n",
              "</table>\n",
              "</div>"
            ],
            "text/plain": [
              "   customerID InternetService OnlineSecurity OnlineBackup DeviceProtection  \\\n",
              "0  7590-VHVEG             DSL             No          Yes               No   \n",
              "1  5575-GNVDE             DSL            Yes           No              Yes   \n",
              "2  3668-QPYBK             DSL            Yes          Yes               No   \n",
              "3  7795-CFOCW             DSL            Yes           No              Yes   \n",
              "4  9237-HQITU     Fiber optic             No           No               No   \n",
              "\n",
              "  TechSupport StreamingTV StreamingMovies  \n",
              "0          No          No              No  \n",
              "1          No          No              No  \n",
              "2          No          No              No  \n",
              "3         Yes          No              No  \n",
              "4          No          No              No  "
            ]
          },
          "execution_count": 13,
          "metadata": {},
          "output_type": "execute_result"
        }
      ],
      "source": [
        "internet_new.head()"
      ]
    },
    {
      "cell_type": "code",
      "execution_count": null,
      "metadata": {
        "id": "5IYDklI9S-j-",
        "outputId": "8cfcb333-ea03-4096-9267-d469fea17b1d"
      },
      "outputs": [
        {
          "name": "stdout",
          "output_type": "stream",
          "text": [
            "<class 'pandas.core.frame.DataFrame'>\n",
            "RangeIndex: 5517 entries, 0 to 5516\n",
            "Data columns (total 8 columns):\n",
            " #   Column            Non-Null Count  Dtype \n",
            "---  ------            --------------  ----- \n",
            " 0   customerID        5517 non-null   object\n",
            " 1   InternetService   5517 non-null   object\n",
            " 2   OnlineSecurity    5517 non-null   object\n",
            " 3   OnlineBackup      5517 non-null   object\n",
            " 4   DeviceProtection  5517 non-null   object\n",
            " 5   TechSupport       5517 non-null   object\n",
            " 6   StreamingTV       5517 non-null   object\n",
            " 7   StreamingMovies   5517 non-null   object\n",
            "dtypes: object(8)\n",
            "memory usage: 344.9+ KB\n"
          ]
        }
      ],
      "source": [
        "internet_new.info()"
      ]
    },
    {
      "cell_type": "code",
      "execution_count": null,
      "metadata": {
        "id": "mMZIyyLOS-j-",
        "outputId": "bc83f8c3-fcd6-41dc-cf48-af87d0803c9b"
      },
      "outputs": [
        {
          "data": {
            "image/png": "[encoded data removed]",
            "text/plain": [
              "<Figure size 432x288 with 1 Axes>"
            ]
          },
          "metadata": {
            "needs_background": "light"
          },
          "output_type": "display_data"
        }
      ],
      "source": [
        "(internet_new.pivot_table(values='customerID', index='InternetService', aggfunc='count').reset_index()\n",
        "         .plot.bar(x='InternetService', xlabel='InternetService', ylabel='количество клиентов',\n",
        "                       title='Распределение интернет-сервисов',legend=None)\n",
        ");"
      ]
    },
    {
      "cell_type": "code",
      "execution_count": null,
      "metadata": {
        "id": "kQUQhdomS-j_"
      },
      "outputs": [],
      "source": [
        "phone_new = pd.read_csv('/datasets/phone_new.csv')"
      ]
    },
    {
      "cell_type": "code",
      "execution_count": null,
      "metadata": {
        "id": "fX6fZnxwS-j_",
        "outputId": "6f96c94b-b3ea-4c25-bb17-7b29ce65edd0"
      },
      "outputs": [
        {
          "data": {
            "text/html": [
              "<div>\n",
              "<style scoped>\n",
              "    .dataframe tbody tr th:only-of-type {\n",
              "        vertical-align: middle;\n",
              "    }\n",
              "\n",
              "    .dataframe tbody tr th {\n",
              "        vertical-align: top;\n",
              "    }\n",
              "\n",
              "    .dataframe thead th {\n",
              "        text-align: right;\n",
              "    }\n",
              "</style>\n",
              "<table border=\"1\" class=\"dataframe\">\n",
              "  <thead>\n",
              "    <tr style=\"text-align: right;\">\n",
              "      <th></th>\n",
              "      <th>customerID</th>\n",
              "      <th>MultipleLines</th>\n",
              "    </tr>\n",
              "  </thead>\n",
              "  <tbody>\n",
              "    <tr>\n",
              "      <th>0</th>\n",
              "      <td>5575-GNVDE</td>\n",
              "      <td>No</td>\n",
              "    </tr>\n",
              "    <tr>\n",
              "      <th>1</th>\n",
              "      <td>3668-QPYBK</td>\n",
              "      <td>No</td>\n",
              "    </tr>\n",
              "    <tr>\n",
              "      <th>2</th>\n",
              "      <td>9237-HQITU</td>\n",
              "      <td>No</td>\n",
              "    </tr>\n",
              "    <tr>\n",
              "      <th>3</th>\n",
              "      <td>9305-CDSKC</td>\n",
              "      <td>Yes</td>\n",
              "    </tr>\n",
              "    <tr>\n",
              "      <th>4</th>\n",
              "      <td>1452-KIOVK</td>\n",
              "      <td>Yes</td>\n",
              "    </tr>\n",
              "  </tbody>\n",
              "</table>\n",
              "</div>"
            ],
            "text/plain": [
              "   customerID MultipleLines\n",
              "0  5575-GNVDE            No\n",
              "1  3668-QPYBK            No\n",
              "2  9237-HQITU            No\n",
              "3  9305-CDSKC           Yes\n",
              "4  1452-KIOVK           Yes"
            ]
          },
          "execution_count": 17,
          "metadata": {},
          "output_type": "execute_result"
        }
      ],
      "source": [
        "phone_new.head()"
      ]
    },
    {
      "cell_type": "code",
      "execution_count": null,
      "metadata": {
        "id": "gbJJIPzYS-j_",
        "outputId": "e47da804-2436-44f6-bde0-0f35f51b1423"
      },
      "outputs": [
        {
          "name": "stdout",
          "output_type": "stream",
          "text": [
            "<class 'pandas.core.frame.DataFrame'>\n",
            "RangeIndex: 6361 entries, 0 to 6360\n",
            "Data columns (total 2 columns):\n",
            " #   Column         Non-Null Count  Dtype \n",
            "---  ------         --------------  ----- \n",
            " 0   customerID     6361 non-null   object\n",
            " 1   MultipleLines  6361 non-null   object\n",
            "dtypes: object(2)\n",
            "memory usage: 99.5+ KB\n"
          ]
        }
      ],
      "source": [
        "phone_new.info()"
      ]
    },
    {
      "cell_type": "code",
      "execution_count": null,
      "metadata": {
        "id": "ThoruebhS-j_",
        "outputId": "1b9c34d0-9491-4418-a9e3-f2fdcf902257"
      },
      "outputs": [
        {
          "data": {
            "image/png": "[encoded data removed]",
            "text/plain": [
              "<Figure size 432x288 with 1 Axes>"
            ]
          },
          "metadata": {
            "needs_background": "light"
          },
          "output_type": "display_data"
        }
      ],
      "source": [
        "phone_new['MultipleLines'].value_counts().plot.bar(xlabel='наличие MultipleLines',\n",
        "                                                   ylabel='количество клиентов',\n",
        "                                                   title='Наличие MultipleLines у клиентов');"
      ]
    },
    {
      "cell_type": "markdown",
      "metadata": {
        "id": "SuJUg09yS-kA"
      },
      "source": [
        "Данные содержаться в 4 таблицах.\n",
        "Таблица \"contract_new\" с  информацией о договоре содержит 7043 строк и 8 столбцов, все столбцы, кроме MonthlyCharges(float64), имеют тип данных object, столбец TotalCharges имеет тип - object, но содержит числовые значения. Таблица с персональными данными клиентов \"personal_new\"  сожержит также 7043 строк, но столбцов в ней 5, столбец SeniorCitizen имеет тип  int64 , остальные - object. Таблица c информацией об интернет-услугах \"internet_new\" содержит 5517 строк и 8 столбцов, тип данных во всех столбцах object. В таблице с информацией об услугах телефонии \"phone_new\" всего 2 столбца, 6361 строк, тип данных столбцов - object."
      ]
    },
    {
      "cell_type": "markdown",
      "metadata": {
        "id": "wmsR-O7sS-kB"
      },
      "source": [
        "###1.2 Предобработка данных"
      ]
    },
    {
      "cell_type": "markdown",
      "metadata": {
        "id": "XEEDwYYtS-kB"
      },
      "source": [
        "####1.2.1 Объединение таблиц"
      ]
    },
    {
      "cell_type": "code",
      "execution_count": null,
      "metadata": {
        "id": "fZJU2xf-S-kB"
      },
      "outputs": [],
      "source": [
        "data = contract_new.merge(personal_new, how='outer')\n",
        "data = data.merge(internet_new, how='outer')\n",
        "data = data.merge(phone_new, how='outer')"
      ]
    },
    {
      "cell_type": "code",
      "execution_count": null,
      "metadata": {
        "id": "FZt2EcchS-kD",
        "outputId": "5ac58542-a149-4700-82c5-2029ebc9c201"
      },
      "outputs": [
        {
          "name": "stdout",
          "output_type": "stream",
          "text": [
            "<class 'pandas.core.frame.DataFrame'>\n",
            "Int64Index: 7043 entries, 0 to 7042\n",
            "Data columns (total 20 columns):\n",
            " #   Column            Non-Null Count  Dtype  \n",
            "---  ------            --------------  -----  \n",
            " 0   customerID        7043 non-null   object \n",
            " 1   BeginDate         7043 non-null   object \n",
            " 2   EndDate           7043 non-null   object \n",
            " 3   Type              7043 non-null   object \n",
            " 4   PaperlessBilling  7043 non-null   object \n",
            " 5   PaymentMethod     7043 non-null   object \n",
            " 6   MonthlyCharges    7043 non-null   float64\n",
            " 7   TotalCharges      7043 non-null   object \n",
            " 8   gender            7043 non-null   object \n",
            " 9   SeniorCitizen     7043 non-null   int64  \n",
            " 10  Partner           7043 non-null   object \n",
            " 11  Dependents        7043 non-null   object \n",
            " 12  InternetService   5517 non-null   object \n",
            " 13  OnlineSecurity    5517 non-null   object \n",
            " 14  OnlineBackup      5517 non-null   object \n",
            " 15  DeviceProtection  5517 non-null   object \n",
            " 16  TechSupport       5517 non-null   object \n",
            " 17  StreamingTV       5517 non-null   object \n",
            " 18  StreamingMovies   5517 non-null   object \n",
            " 19  MultipleLines     6361 non-null   object \n",
            "dtypes: float64(1), int64(1), object(18)\n",
            "memory usage: 1.1+ MB\n"
          ]
        }
      ],
      "source": [
        "data.info()"
      ]
    },
    {
      "cell_type": "markdown",
      "metadata": {
        "id": "ydkXGIoIS-kD"
      },
      "source": [
        "Методом merge() объединены 4 таблицы в одну -\"date\", после объединения в таблице имеется пропуски."
      ]
    },
    {
      "cell_type": "markdown",
      "metadata": {
        "id": "Iti4t7OFS-kD"
      },
      "source": [
        "####1.2.2 Обработка пропущенных значений"
      ]
    },
    {
      "cell_type": "code",
      "execution_count": null,
      "metadata": {
        "id": "M-7tfvXxS-kE",
        "outputId": "335bd4c2-1b57-4f73-e36f-5ea5553637a6"
      },
      "outputs": [
        {
          "data": {
            "text/plain": [
              "customerID             0\n",
              "BeginDate              0\n",
              "EndDate                0\n",
              "Type                   0\n",
              "PaperlessBilling       0\n",
              "PaymentMethod          0\n",
              "MonthlyCharges         0\n",
              "TotalCharges           0\n",
              "gender                 0\n",
              "SeniorCitizen          0\n",
              "Partner                0\n",
              "Dependents             0\n",
              "InternetService     1526\n",
              "OnlineSecurity      1526\n",
              "OnlineBackup        1526\n",
              "DeviceProtection    1526\n",
              "TechSupport         1526\n",
              "StreamingTV         1526\n",
              "StreamingMovies     1526\n",
              "MultipleLines        682\n",
              "dtype: int64"
            ]
          },
          "execution_count": 22,
          "metadata": {},
          "output_type": "execute_result"
        }
      ],
      "source": [
        "data.isna().sum()"
      ]
    },
    {
      "cell_type": "code",
      "execution_count": null,
      "metadata": {
        "id": "54s5Hp1pS-kE"
      },
      "outputs": [],
      "source": [
        "data = data.fillna('No')"
      ]
    },
    {
      "cell_type": "code",
      "execution_count": null,
      "metadata": {
        "id": "I_l3Q3m9S-kE",
        "outputId": "2951d1f6-59ca-4987-f66a-cf28b80a8cc6"
      },
      "outputs": [
        {
          "data": {
            "text/plain": [
              "customerID          0\n",
              "BeginDate           0\n",
              "EndDate             0\n",
              "Type                0\n",
              "PaperlessBilling    0\n",
              "PaymentMethod       0\n",
              "MonthlyCharges      0\n",
              "TotalCharges        0\n",
              "gender              0\n",
              "SeniorCitizen       0\n",
              "Partner             0\n",
              "Dependents          0\n",
              "InternetService     0\n",
              "OnlineSecurity      0\n",
              "OnlineBackup        0\n",
              "DeviceProtection    0\n",
              "TechSupport         0\n",
              "StreamingTV         0\n",
              "StreamingMovies     0\n",
              "MultipleLines       0\n",
              "dtype: int64"
            ]
          },
          "execution_count": 24,
          "metadata": {},
          "output_type": "execute_result"
        }
      ],
      "source": [
        "data.isna().sum()"
      ]
    },
    {
      "cell_type": "markdown",
      "metadata": {
        "id": "-sgSGdNaS-kF"
      },
      "source": [
        "Пропущенные значения заполнены значением \"No\", т.к. у данных клиентов данные услуги отсутствуют."
      ]
    },
    {
      "cell_type": "markdown",
      "metadata": {
        "id": "3Pjh1z02S-kF"
      },
      "source": [
        "####1.2.3 Преобразование типов данных"
      ]
    },
    {
      "cell_type": "code",
      "execution_count": null,
      "metadata": {
        "id": "-fYPM7HrS-kF"
      },
      "outputs": [],
      "source": [
        "data['BeginDate'] = pd.to_datetime(data['BeginDate'])"
      ]
    },
    {
      "cell_type": "code",
      "execution_count": null,
      "metadata": {
        "id": "wbnIOkrhS-kG"
      },
      "outputs": [],
      "source": [
        "data.loc[data['EndDate'] == 'No', 'EndDate'] = '2020-02-01'"
      ]
    },
    {
      "cell_type": "code",
      "execution_count": null,
      "metadata": {
        "id": "Z4Yh3yz1S-kG"
      },
      "outputs": [],
      "source": [
        "data['EndDate'] = pd.to_datetime(data['EndDate'])"
      ]
    },
    {
      "cell_type": "code",
      "execution_count": null,
      "metadata": {
        "id": "TXA6XFVvS-kG"
      },
      "outputs": [],
      "source": [
        "data['TotalCharges'] = pd.to_numeric(data['TotalCharges'], errors='coerce')"
      ]
    },
    {
      "cell_type": "code",
      "execution_count": null,
      "metadata": {
        "id": "_tq7hFqBS-kG",
        "outputId": "53896164-a8c2-4417-866b-c462ca47abdc"
      },
      "outputs": [
        {
          "name": "stdout",
          "output_type": "stream",
          "text": [
            "<class 'pandas.core.frame.DataFrame'>\n",
            "Int64Index: 7043 entries, 0 to 7042\n",
            "Data columns (total 20 columns):\n",
            " #   Column            Non-Null Count  Dtype         \n",
            "---  ------            --------------  -----         \n",
            " 0   customerID        7043 non-null   object        \n",
            " 1   BeginDate         7043 non-null   datetime64[ns]\n",
            " 2   EndDate           7043 non-null   datetime64[ns]\n",
            " 3   Type              7043 non-null   object        \n",
            " 4   PaperlessBilling  7043 non-null   object        \n",
            " 5   PaymentMethod     7043 non-null   object        \n",
            " 6   MonthlyCharges    7043 non-null   float64       \n",
            " 7   TotalCharges      7032 non-null   float64       \n",
            " 8   gender            7043 non-null   object        \n",
            " 9   SeniorCitizen     7043 non-null   int64         \n",
            " 10  Partner           7043 non-null   object        \n",
            " 11  Dependents        7043 non-null   object        \n",
            " 12  InternetService   7043 non-null   object        \n",
            " 13  OnlineSecurity    7043 non-null   object        \n",
            " 14  OnlineBackup      7043 non-null   object        \n",
            " 15  DeviceProtection  7043 non-null   object        \n",
            " 16  TechSupport       7043 non-null   object        \n",
            " 17  StreamingTV       7043 non-null   object        \n",
            " 18  StreamingMovies   7043 non-null   object        \n",
            " 19  MultipleLines     7043 non-null   object        \n",
            "dtypes: datetime64[ns](2), float64(2), int64(1), object(15)\n",
            "memory usage: 1.1+ MB\n"
          ]
        }
      ],
      "source": [
        "data.info()"
      ]
    },
    {
      "cell_type": "code",
      "execution_count": null,
      "metadata": {
        "id": "C2jZ79JzS-kG",
        "outputId": "efb19260-324c-4bb4-b128-2c89489ef2af"
      },
      "outputs": [
        {
          "data": {
            "text/html": [
              "<div>\n",
              "<style scoped>\n",
              "    .dataframe tbody tr th:only-of-type {\n",
              "        vertical-align: middle;\n",
              "    }\n",
              "\n",
              "    .dataframe tbody tr th {\n",
              "        vertical-align: top;\n",
              "    }\n",
              "\n",
              "    .dataframe thead th {\n",
              "        text-align: right;\n",
              "    }\n",
              "</style>\n",
              "<table border=\"1\" class=\"dataframe\">\n",
              "  <thead>\n",
              "    <tr style=\"text-align: right;\">\n",
              "      <th></th>\n",
              "      <th>customerID</th>\n",
              "      <th>BeginDate</th>\n",
              "      <th>EndDate</th>\n",
              "      <th>Type</th>\n",
              "      <th>PaperlessBilling</th>\n",
              "      <th>PaymentMethod</th>\n",
              "      <th>MonthlyCharges</th>\n",
              "      <th>TotalCharges</th>\n",
              "      <th>gender</th>\n",
              "      <th>SeniorCitizen</th>\n",
              "      <th>Partner</th>\n",
              "      <th>Dependents</th>\n",
              "      <th>InternetService</th>\n",
              "      <th>OnlineSecurity</th>\n",
              "      <th>OnlineBackup</th>\n",
              "      <th>DeviceProtection</th>\n",
              "      <th>TechSupport</th>\n",
              "      <th>StreamingTV</th>\n",
              "      <th>StreamingMovies</th>\n",
              "      <th>MultipleLines</th>\n",
              "    </tr>\n",
              "  </thead>\n",
              "  <tbody>\n",
              "    <tr>\n",
              "      <th>488</th>\n",
              "      <td>4472-LVYGI</td>\n",
              "      <td>2020-02-01</td>\n",
              "      <td>2020-02-01</td>\n",
              "      <td>Two year</td>\n",
              "      <td>Yes</td>\n",
              "      <td>Bank transfer (automatic)</td>\n",
              "      <td>52.55</td>\n",
              "      <td>NaN</td>\n",
              "      <td>Female</td>\n",
              "      <td>0</td>\n",
              "      <td>Yes</td>\n",
              "      <td>Yes</td>\n",
              "      <td>DSL</td>\n",
              "      <td>Yes</td>\n",
              "      <td>No</td>\n",
              "      <td>Yes</td>\n",
              "      <td>Yes</td>\n",
              "      <td>Yes</td>\n",
              "      <td>No</td>\n",
              "      <td>No</td>\n",
              "    </tr>\n",
              "    <tr>\n",
              "      <th>753</th>\n",
              "      <td>3115-CZMZD</td>\n",
              "      <td>2020-02-01</td>\n",
              "      <td>2020-02-01</td>\n",
              "      <td>Two year</td>\n",
              "      <td>No</td>\n",
              "      <td>Mailed check</td>\n",
              "      <td>20.25</td>\n",
              "      <td>NaN</td>\n",
              "      <td>Male</td>\n",
              "      <td>0</td>\n",
              "      <td>No</td>\n",
              "      <td>Yes</td>\n",
              "      <td>No</td>\n",
              "      <td>No</td>\n",
              "      <td>No</td>\n",
              "      <td>No</td>\n",
              "      <td>No</td>\n",
              "      <td>No</td>\n",
              "      <td>No</td>\n",
              "      <td>No</td>\n",
              "    </tr>\n",
              "    <tr>\n",
              "      <th>936</th>\n",
              "      <td>5709-LVOEQ</td>\n",
              "      <td>2020-02-01</td>\n",
              "      <td>2020-02-01</td>\n",
              "      <td>Two year</td>\n",
              "      <td>No</td>\n",
              "      <td>Mailed check</td>\n",
              "      <td>80.85</td>\n",
              "      <td>NaN</td>\n",
              "      <td>Female</td>\n",
              "      <td>0</td>\n",
              "      <td>Yes</td>\n",
              "      <td>Yes</td>\n",
              "      <td>DSL</td>\n",
              "      <td>Yes</td>\n",
              "      <td>Yes</td>\n",
              "      <td>Yes</td>\n",
              "      <td>No</td>\n",
              "      <td>Yes</td>\n",
              "      <td>Yes</td>\n",
              "      <td>No</td>\n",
              "    </tr>\n",
              "    <tr>\n",
              "      <th>1082</th>\n",
              "      <td>4367-NUYAO</td>\n",
              "      <td>2020-02-01</td>\n",
              "      <td>2020-02-01</td>\n",
              "      <td>Two year</td>\n",
              "      <td>No</td>\n",
              "      <td>Mailed check</td>\n",
              "      <td>25.75</td>\n",
              "      <td>NaN</td>\n",
              "      <td>Male</td>\n",
              "      <td>0</td>\n",
              "      <td>Yes</td>\n",
              "      <td>Yes</td>\n",
              "      <td>No</td>\n",
              "      <td>No</td>\n",
              "      <td>No</td>\n",
              "      <td>No</td>\n",
              "      <td>No</td>\n",
              "      <td>No</td>\n",
              "      <td>No</td>\n",
              "      <td>Yes</td>\n",
              "    </tr>\n",
              "    <tr>\n",
              "      <th>1340</th>\n",
              "      <td>1371-DWPAZ</td>\n",
              "      <td>2020-02-01</td>\n",
              "      <td>2020-02-01</td>\n",
              "      <td>Two year</td>\n",
              "      <td>No</td>\n",
              "      <td>Credit card (automatic)</td>\n",
              "      <td>56.05</td>\n",
              "      <td>NaN</td>\n",
              "      <td>Female</td>\n",
              "      <td>0</td>\n",
              "      <td>Yes</td>\n",
              "      <td>Yes</td>\n",
              "      <td>DSL</td>\n",
              "      <td>Yes</td>\n",
              "      <td>Yes</td>\n",
              "      <td>Yes</td>\n",
              "      <td>Yes</td>\n",
              "      <td>Yes</td>\n",
              "      <td>No</td>\n",
              "      <td>No</td>\n",
              "    </tr>\n",
              "    <tr>\n",
              "      <th>3331</th>\n",
              "      <td>7644-OMVMY</td>\n",
              "      <td>2020-02-01</td>\n",
              "      <td>2020-02-01</td>\n",
              "      <td>Two year</td>\n",
              "      <td>No</td>\n",
              "      <td>Mailed check</td>\n",
              "      <td>19.85</td>\n",
              "      <td>NaN</td>\n",
              "      <td>Male</td>\n",
              "      <td>0</td>\n",
              "      <td>Yes</td>\n",
              "      <td>Yes</td>\n",
              "      <td>No</td>\n",
              "      <td>No</td>\n",
              "      <td>No</td>\n",
              "      <td>No</td>\n",
              "      <td>No</td>\n",
              "      <td>No</td>\n",
              "      <td>No</td>\n",
              "      <td>No</td>\n",
              "    </tr>\n",
              "    <tr>\n",
              "      <th>3826</th>\n",
              "      <td>3213-VVOLG</td>\n",
              "      <td>2020-02-01</td>\n",
              "      <td>2020-02-01</td>\n",
              "      <td>Two year</td>\n",
              "      <td>No</td>\n",
              "      <td>Mailed check</td>\n",
              "      <td>25.35</td>\n",
              "      <td>NaN</td>\n",
              "      <td>Male</td>\n",
              "      <td>0</td>\n",
              "      <td>Yes</td>\n",
              "      <td>Yes</td>\n",
              "      <td>No</td>\n",
              "      <td>No</td>\n",
              "      <td>No</td>\n",
              "      <td>No</td>\n",
              "      <td>No</td>\n",
              "      <td>No</td>\n",
              "      <td>No</td>\n",
              "      <td>Yes</td>\n",
              "    </tr>\n",
              "    <tr>\n",
              "      <th>4380</th>\n",
              "      <td>2520-SGTTA</td>\n",
              "      <td>2020-02-01</td>\n",
              "      <td>2020-02-01</td>\n",
              "      <td>Two year</td>\n",
              "      <td>No</td>\n",
              "      <td>Mailed check</td>\n",
              "      <td>20.00</td>\n",
              "      <td>NaN</td>\n",
              "      <td>Female</td>\n",
              "      <td>0</td>\n",
              "      <td>Yes</td>\n",
              "      <td>Yes</td>\n",
              "      <td>No</td>\n",
              "      <td>No</td>\n",
              "      <td>No</td>\n",
              "      <td>No</td>\n",
              "      <td>No</td>\n",
              "      <td>No</td>\n",
              "      <td>No</td>\n",
              "      <td>No</td>\n",
              "    </tr>\n",
              "    <tr>\n",
              "      <th>5218</th>\n",
              "      <td>2923-ARZLG</td>\n",
              "      <td>2020-02-01</td>\n",
              "      <td>2020-02-01</td>\n",
              "      <td>One year</td>\n",
              "      <td>Yes</td>\n",
              "      <td>Mailed check</td>\n",
              "      <td>19.70</td>\n",
              "      <td>NaN</td>\n",
              "      <td>Male</td>\n",
              "      <td>0</td>\n",
              "      <td>Yes</td>\n",
              "      <td>Yes</td>\n",
              "      <td>No</td>\n",
              "      <td>No</td>\n",
              "      <td>No</td>\n",
              "      <td>No</td>\n",
              "      <td>No</td>\n",
              "      <td>No</td>\n",
              "      <td>No</td>\n",
              "      <td>No</td>\n",
              "    </tr>\n",
              "    <tr>\n",
              "      <th>6670</th>\n",
              "      <td>4075-WKNIU</td>\n",
              "      <td>2020-02-01</td>\n",
              "      <td>2020-02-01</td>\n",
              "      <td>Two year</td>\n",
              "      <td>No</td>\n",
              "      <td>Mailed check</td>\n",
              "      <td>73.35</td>\n",
              "      <td>NaN</td>\n",
              "      <td>Female</td>\n",
              "      <td>0</td>\n",
              "      <td>Yes</td>\n",
              "      <td>Yes</td>\n",
              "      <td>DSL</td>\n",
              "      <td>No</td>\n",
              "      <td>Yes</td>\n",
              "      <td>Yes</td>\n",
              "      <td>Yes</td>\n",
              "      <td>Yes</td>\n",
              "      <td>No</td>\n",
              "      <td>Yes</td>\n",
              "    </tr>\n",
              "    <tr>\n",
              "      <th>6754</th>\n",
              "      <td>2775-SEFEE</td>\n",
              "      <td>2020-02-01</td>\n",
              "      <td>2020-02-01</td>\n",
              "      <td>Two year</td>\n",
              "      <td>Yes</td>\n",
              "      <td>Bank transfer (automatic)</td>\n",
              "      <td>61.90</td>\n",
              "      <td>NaN</td>\n",
              "      <td>Male</td>\n",
              "      <td>0</td>\n",
              "      <td>No</td>\n",
              "      <td>Yes</td>\n",
              "      <td>DSL</td>\n",
              "      <td>Yes</td>\n",
              "      <td>Yes</td>\n",
              "      <td>No</td>\n",
              "      <td>Yes</td>\n",
              "      <td>No</td>\n",
              "      <td>No</td>\n",
              "      <td>Yes</td>\n",
              "    </tr>\n",
              "  </tbody>\n",
              "</table>\n",
              "</div>"
            ],
            "text/plain": [
              "      customerID  BeginDate    EndDate      Type PaperlessBilling  \\\n",
              "488   4472-LVYGI 2020-02-01 2020-02-01  Two year              Yes   \n",
              "753   3115-CZMZD 2020-02-01 2020-02-01  Two year               No   \n",
              "936   5709-LVOEQ 2020-02-01 2020-02-01  Two year               No   \n",
              "1082  4367-NUYAO 2020-02-01 2020-02-01  Two year               No   \n",
              "1340  1371-DWPAZ 2020-02-01 2020-02-01  Two year               No   \n",
              "3331  7644-OMVMY 2020-02-01 2020-02-01  Two year               No   \n",
              "3826  3213-VVOLG 2020-02-01 2020-02-01  Two year               No   \n",
              "4380  2520-SGTTA 2020-02-01 2020-02-01  Two year               No   \n",
              "5218  2923-ARZLG 2020-02-01 2020-02-01  One year              Yes   \n",
              "6670  4075-WKNIU 2020-02-01 2020-02-01  Two year               No   \n",
              "6754  2775-SEFEE 2020-02-01 2020-02-01  Two year              Yes   \n",
              "\n",
              "                  PaymentMethod  MonthlyCharges  TotalCharges  gender  \\\n",
              "488   Bank transfer (automatic)           52.55           NaN  Female   \n",
              "753                Mailed check           20.25           NaN    Male   \n",
              "936                Mailed check           80.85           NaN  Female   \n",
              "1082               Mailed check           25.75           NaN    Male   \n",
              "1340    Credit card (automatic)           56.05           NaN  Female   \n",
              "3331               Mailed check           19.85           NaN    Male   \n",
              "3826               Mailed check           25.35           NaN    Male   \n",
              "4380               Mailed check           20.00           NaN  Female   \n",
              "5218               Mailed check           19.70           NaN    Male   \n",
              "6670               Mailed check           73.35           NaN  Female   \n",
              "6754  Bank transfer (automatic)           61.90           NaN    Male   \n",
              "\n",
              "      SeniorCitizen Partner Dependents InternetService OnlineSecurity  \\\n",
              "488               0     Yes        Yes             DSL            Yes   \n",
              "753               0      No        Yes              No             No   \n",
              "936               0     Yes        Yes             DSL            Yes   \n",
              "1082              0     Yes        Yes              No             No   \n",
              "1340              0     Yes        Yes             DSL            Yes   \n",
              "3331              0     Yes        Yes              No             No   \n",
              "3826              0     Yes        Yes              No             No   \n",
              "4380              0     Yes        Yes              No             No   \n",
              "5218              0     Yes        Yes              No             No   \n",
              "6670              0     Yes        Yes             DSL             No   \n",
              "6754              0      No        Yes             DSL            Yes   \n",
              "\n",
              "     OnlineBackup DeviceProtection TechSupport StreamingTV StreamingMovies  \\\n",
              "488            No              Yes         Yes         Yes              No   \n",
              "753            No               No          No          No              No   \n",
              "936           Yes              Yes          No         Yes             Yes   \n",
              "1082           No               No          No          No              No   \n",
              "1340          Yes              Yes         Yes         Yes              No   \n",
              "3331           No               No          No          No              No   \n",
              "3826           No               No          No          No              No   \n",
              "4380           No               No          No          No              No   \n",
              "5218           No               No          No          No              No   \n",
              "6670          Yes              Yes         Yes         Yes              No   \n",
              "6754          Yes               No         Yes          No              No   \n",
              "\n",
              "     MultipleLines  \n",
              "488             No  \n",
              "753             No  \n",
              "936             No  \n",
              "1082           Yes  \n",
              "1340            No  \n",
              "3331            No  \n",
              "3826           Yes  \n",
              "4380            No  \n",
              "5218            No  \n",
              "6670           Yes  \n",
              "6754           Yes  "
            ]
          },
          "execution_count": 30,
          "metadata": {},
          "output_type": "execute_result"
        }
      ],
      "source": [
        "data[data['TotalCharges'].isna()]"
      ]
    },
    {
      "cell_type": "code",
      "execution_count": null,
      "metadata": {
        "id": "jDA4riHAS-kH"
      },
      "outputs": [],
      "source": [
        "data = data[data['BeginDate'] != '2020-02-01']"
      ]
    },
    {
      "cell_type": "code",
      "execution_count": null,
      "metadata": {
        "id": "lwkpq8NFS-kI",
        "outputId": "fea0bec5-b406-49e9-f394-a1c7bb76db80"
      },
      "outputs": [
        {
          "name": "stdout",
          "output_type": "stream",
          "text": [
            "<class 'pandas.core.frame.DataFrame'>\n",
            "Int64Index: 7032 entries, 0 to 7042\n",
            "Data columns (total 20 columns):\n",
            " #   Column            Non-Null Count  Dtype         \n",
            "---  ------            --------------  -----         \n",
            " 0   customerID        7032 non-null   object        \n",
            " 1   BeginDate         7032 non-null   datetime64[ns]\n",
            " 2   EndDate           7032 non-null   datetime64[ns]\n",
            " 3   Type              7032 non-null   object        \n",
            " 4   PaperlessBilling  7032 non-null   object        \n",
            " 5   PaymentMethod     7032 non-null   object        \n",
            " 6   MonthlyCharges    7032 non-null   float64       \n",
            " 7   TotalCharges      7032 non-null   float64       \n",
            " 8   gender            7032 non-null   object        \n",
            " 9   SeniorCitizen     7032 non-null   int64         \n",
            " 10  Partner           7032 non-null   object        \n",
            " 11  Dependents        7032 non-null   object        \n",
            " 12  InternetService   7032 non-null   object        \n",
            " 13  OnlineSecurity    7032 non-null   object        \n",
            " 14  OnlineBackup      7032 non-null   object        \n",
            " 15  DeviceProtection  7032 non-null   object        \n",
            " 16  TechSupport       7032 non-null   object        \n",
            " 17  StreamingTV       7032 non-null   object        \n",
            " 18  StreamingMovies   7032 non-null   object        \n",
            " 19  MultipleLines     7032 non-null   object        \n",
            "dtypes: datetime64[ns](2), float64(2), int64(1), object(15)\n",
            "memory usage: 1.1+ MB\n"
          ]
        }
      ],
      "source": [
        "data.info()"
      ]
    },
    {
      "cell_type": "markdown",
      "metadata": {
        "id": "6MVywrhhS-kI"
      },
      "source": [
        "В столбцах BeginDate и EndDate был изменен тип данных на datetime, предварительно в столбце EndDate все значения \"No\" были заменены на дату 2020-02-01, т.к. из описания данных известно, что информация о договорах актуальна на 1 февраля 2020. В столбце TotalCharges тип данных был изменен на float, после данного изменения в указанном столбце появились пропуски, строки с пропусками были удалены, т.к. это строки с пользователями, которые только заключили договор."
      ]
    },
    {
      "cell_type": "markdown",
      "metadata": {
        "id": "8HunZf6FS-kI"
      },
      "source": [
        "####1.2.4 Проверка на дубликаты"
      ]
    },
    {
      "cell_type": "code",
      "execution_count": null,
      "metadata": {
        "id": "BseegESkS-kI",
        "outputId": "8d8c81dc-1970-4425-d2bc-62629d97c93f"
      },
      "outputs": [
        {
          "data": {
            "text/plain": [
              "0"
            ]
          },
          "execution_count": 33,
          "metadata": {},
          "output_type": "execute_result"
        }
      ],
      "source": [
        "data.duplicated().sum()"
      ]
    },
    {
      "cell_type": "markdown",
      "metadata": {
        "id": "xJ_yKb1dS-kJ"
      },
      "source": [
        "Дубликаты отсутствуют"
      ]
    },
    {
      "cell_type": "markdown",
      "metadata": {
        "id": "Vy3TZ1tRS-kJ"
      },
      "source": [
        "####1.2.5 Выявление выбросов и аномалий"
      ]
    },
    {
      "cell_type": "code",
      "execution_count": null,
      "metadata": {
        "id": "u46sjAp7S-kJ",
        "outputId": "93e829d0-ee8f-4ef0-9efa-e5dd2fc63991"
      },
      "outputs": [
        {
          "data": {
            "text/html": [
              "<div>\n",
              "<style scoped>\n",
              "    .dataframe tbody tr th:only-of-type {\n",
              "        vertical-align: middle;\n",
              "    }\n",
              "\n",
              "    .dataframe tbody tr th {\n",
              "        vertical-align: top;\n",
              "    }\n",
              "\n",
              "    .dataframe thead th {\n",
              "        text-align: right;\n",
              "    }\n",
              "</style>\n",
              "<table border=\"1\" class=\"dataframe\">\n",
              "  <thead>\n",
              "    <tr style=\"text-align: right;\">\n",
              "      <th></th>\n",
              "      <th>MonthlyCharges</th>\n",
              "      <th>TotalCharges</th>\n",
              "      <th>SeniorCitizen</th>\n",
              "    </tr>\n",
              "  </thead>\n",
              "  <tbody>\n",
              "    <tr>\n",
              "      <th>count</th>\n",
              "      <td>7032.000000</td>\n",
              "      <td>7032.000000</td>\n",
              "      <td>7032.000000</td>\n",
              "    </tr>\n",
              "    <tr>\n",
              "      <th>mean</th>\n",
              "      <td>64.798208</td>\n",
              "      <td>2118.621822</td>\n",
              "      <td>0.162400</td>\n",
              "    </tr>\n",
              "    <tr>\n",
              "      <th>std</th>\n",
              "      <td>30.085974</td>\n",
              "      <td>2112.736199</td>\n",
              "      <td>0.368844</td>\n",
              "    </tr>\n",
              "    <tr>\n",
              "      <th>min</th>\n",
              "      <td>18.250000</td>\n",
              "      <td>19.050000</td>\n",
              "      <td>0.000000</td>\n",
              "    </tr>\n",
              "    <tr>\n",
              "      <th>25%</th>\n",
              "      <td>35.587500</td>\n",
              "      <td>439.745000</td>\n",
              "      <td>0.000000</td>\n",
              "    </tr>\n",
              "    <tr>\n",
              "      <th>50%</th>\n",
              "      <td>70.350000</td>\n",
              "      <td>1345.275000</td>\n",
              "      <td>0.000000</td>\n",
              "    </tr>\n",
              "    <tr>\n",
              "      <th>75%</th>\n",
              "      <td>89.862500</td>\n",
              "      <td>3239.317500</td>\n",
              "      <td>0.000000</td>\n",
              "    </tr>\n",
              "    <tr>\n",
              "      <th>max</th>\n",
              "      <td>118.750000</td>\n",
              "      <td>9221.380000</td>\n",
              "      <td>1.000000</td>\n",
              "    </tr>\n",
              "  </tbody>\n",
              "</table>\n",
              "</div>"
            ],
            "text/plain": [
              "       MonthlyCharges  TotalCharges  SeniorCitizen\n",
              "count     7032.000000   7032.000000    7032.000000\n",
              "mean        64.798208   2118.621822       0.162400\n",
              "std         30.085974   2112.736199       0.368844\n",
              "min         18.250000     19.050000       0.000000\n",
              "25%         35.587500    439.745000       0.000000\n",
              "50%         70.350000   1345.275000       0.000000\n",
              "75%         89.862500   3239.317500       0.000000\n",
              "max        118.750000   9221.380000       1.000000"
            ]
          },
          "execution_count": 34,
          "metadata": {},
          "output_type": "execute_result"
        }
      ],
      "source": [
        "data.describe()"
      ]
    },
    {
      "cell_type": "code",
      "execution_count": null,
      "metadata": {
        "id": "82hxIefES-kJ",
        "outputId": "5ebf8473-f724-400f-eb30-4524fac4273a"
      },
      "outputs": [
        {
          "data": {
            "image/png": "[encoded data removed]",
            "text/plain": [
              "<Figure size 432x288 with 1 Axes>"
            ]
          },
          "metadata": {
            "needs_background": "light"
          },
          "output_type": "display_data"
        }
      ],
      "source": [
        "data.boxplot(column='MonthlyCharges');"
      ]
    },
    {
      "cell_type": "code",
      "execution_count": null,
      "metadata": {
        "id": "IBbfyVr5S-kK",
        "outputId": "d7abc475-0092-4bca-c12e-2a99d1c90216"
      },
      "outputs": [
        {
          "data": {
            "image/png": "[encoded data removed]",
            "text/plain": [
              "<Figure size 432x288 with 1 Axes>"
            ]
          },
          "metadata": {
            "needs_background": "light"
          },
          "output_type": "display_data"
        }
      ],
      "source": [
        "data.boxplot(column='TotalCharges');"
      ]
    },
    {
      "cell_type": "code",
      "execution_count": null,
      "metadata": {
        "id": "EXtNjZDiS-kK",
        "outputId": "12ab2127-8ca0-44af-8ef3-104e1659c796"
      },
      "outputs": [
        {
          "data": {
            "text/html": [
              "<div>\n",
              "<style scoped>\n",
              "    .dataframe tbody tr th:only-of-type {\n",
              "        vertical-align: middle;\n",
              "    }\n",
              "\n",
              "    .dataframe tbody tr th {\n",
              "        vertical-align: top;\n",
              "    }\n",
              "\n",
              "    .dataframe thead th {\n",
              "        text-align: right;\n",
              "    }\n",
              "</style>\n",
              "<table border=\"1\" class=\"dataframe\">\n",
              "  <thead>\n",
              "    <tr style=\"text-align: right;\">\n",
              "      <th></th>\n",
              "      <th>customerID</th>\n",
              "      <th>BeginDate</th>\n",
              "      <th>EndDate</th>\n",
              "      <th>Type</th>\n",
              "      <th>PaperlessBilling</th>\n",
              "      <th>PaymentMethod</th>\n",
              "      <th>MonthlyCharges</th>\n",
              "      <th>TotalCharges</th>\n",
              "      <th>gender</th>\n",
              "      <th>SeniorCitizen</th>\n",
              "      <th>Partner</th>\n",
              "      <th>Dependents</th>\n",
              "      <th>InternetService</th>\n",
              "      <th>OnlineSecurity</th>\n",
              "      <th>OnlineBackup</th>\n",
              "      <th>DeviceProtection</th>\n",
              "      <th>TechSupport</th>\n",
              "      <th>StreamingTV</th>\n",
              "      <th>StreamingMovies</th>\n",
              "      <th>MultipleLines</th>\n",
              "    </tr>\n",
              "  </thead>\n",
              "  <tbody>\n",
              "    <tr>\n",
              "      <th>17</th>\n",
              "      <td>9959-WOFKT</td>\n",
              "      <td>2014-03-01</td>\n",
              "      <td>2020-02-01</td>\n",
              "      <td>Two year</td>\n",
              "      <td>No</td>\n",
              "      <td>Bank transfer (automatic)</td>\n",
              "      <td>106.70</td>\n",
              "      <td>8257.51</td>\n",
              "      <td>Male</td>\n",
              "      <td>0</td>\n",
              "      <td>No</td>\n",
              "      <td>Yes</td>\n",
              "      <td>Fiber optic</td>\n",
              "      <td>Yes</td>\n",
              "      <td>No</td>\n",
              "      <td>Yes</td>\n",
              "      <td>No</td>\n",
              "      <td>Yes</td>\n",
              "      <td>Yes</td>\n",
              "      <td>Yes</td>\n",
              "    </tr>\n",
              "    <tr>\n",
              "      <th>57</th>\n",
              "      <td>5067-XJQFU</td>\n",
              "      <td>2014-08-01</td>\n",
              "      <td>2020-02-01</td>\n",
              "      <td>One year</td>\n",
              "      <td>Yes</td>\n",
              "      <td>Electronic check</td>\n",
              "      <td>108.45</td>\n",
              "      <td>7730.32</td>\n",
              "      <td>Male</td>\n",
              "      <td>1</td>\n",
              "      <td>Yes</td>\n",
              "      <td>Yes</td>\n",
              "      <td>Fiber optic</td>\n",
              "      <td>No</td>\n",
              "      <td>Yes</td>\n",
              "      <td>Yes</td>\n",
              "      <td>Yes</td>\n",
              "      <td>Yes</td>\n",
              "      <td>Yes</td>\n",
              "      <td>Yes</td>\n",
              "    </tr>\n",
              "    <tr>\n",
              "      <th>59</th>\n",
              "      <td>5954-BDFSG</td>\n",
              "      <td>2014-02-01</td>\n",
              "      <td>2020-02-01</td>\n",
              "      <td>Two year</td>\n",
              "      <td>Yes</td>\n",
              "      <td>Credit card (automatic)</td>\n",
              "      <td>107.50</td>\n",
              "      <td>7740.00</td>\n",
              "      <td>Female</td>\n",
              "      <td>0</td>\n",
              "      <td>No</td>\n",
              "      <td>No</td>\n",
              "      <td>Fiber optic</td>\n",
              "      <td>No</td>\n",
              "      <td>No</td>\n",
              "      <td>Yes</td>\n",
              "      <td>Yes</td>\n",
              "      <td>Yes</td>\n",
              "      <td>Yes</td>\n",
              "      <td>Yes</td>\n",
              "    </tr>\n",
              "    <tr>\n",
              "      <th>198</th>\n",
              "      <td>7255-SSFBC</td>\n",
              "      <td>2014-02-01</td>\n",
              "      <td>2020-02-01</td>\n",
              "      <td>Two year</td>\n",
              "      <td>Yes</td>\n",
              "      <td>Bank transfer (automatic)</td>\n",
              "      <td>112.25</td>\n",
              "      <td>8324.46</td>\n",
              "      <td>Male</td>\n",
              "      <td>0</td>\n",
              "      <td>Yes</td>\n",
              "      <td>Yes</td>\n",
              "      <td>Fiber optic</td>\n",
              "      <td>No</td>\n",
              "      <td>Yes</td>\n",
              "      <td>Yes</td>\n",
              "      <td>Yes</td>\n",
              "      <td>Yes</td>\n",
              "      <td>Yes</td>\n",
              "      <td>Yes</td>\n",
              "    </tr>\n",
              "    <tr>\n",
              "      <th>369</th>\n",
              "      <td>3520-FJGCV</td>\n",
              "      <td>2014-02-01</td>\n",
              "      <td>2020-02-01</td>\n",
              "      <td>Two year</td>\n",
              "      <td>Yes</td>\n",
              "      <td>Credit card (automatic)</td>\n",
              "      <td>112.60</td>\n",
              "      <td>8755.78</td>\n",
              "      <td>Male</td>\n",
              "      <td>0</td>\n",
              "      <td>Yes</td>\n",
              "      <td>Yes</td>\n",
              "      <td>Fiber optic</td>\n",
              "      <td>Yes</td>\n",
              "      <td>Yes</td>\n",
              "      <td>Yes</td>\n",
              "      <td>Yes</td>\n",
              "      <td>Yes</td>\n",
              "      <td>Yes</td>\n",
              "      <td>Yes</td>\n",
              "    </tr>\n",
              "    <tr>\n",
              "      <th>...</th>\n",
              "      <td>...</td>\n",
              "      <td>...</td>\n",
              "      <td>...</td>\n",
              "      <td>...</td>\n",
              "      <td>...</td>\n",
              "      <td>...</td>\n",
              "      <td>...</td>\n",
              "      <td>...</td>\n",
              "      <td>...</td>\n",
              "      <td>...</td>\n",
              "      <td>...</td>\n",
              "      <td>...</td>\n",
              "      <td>...</td>\n",
              "      <td>...</td>\n",
              "      <td>...</td>\n",
              "      <td>...</td>\n",
              "      <td>...</td>\n",
              "      <td>...</td>\n",
              "      <td>...</td>\n",
              "      <td>...</td>\n",
              "    </tr>\n",
              "    <tr>\n",
              "      <th>6859</th>\n",
              "      <td>3508-CFVZL</td>\n",
              "      <td>2014-03-01</td>\n",
              "      <td>2020-02-01</td>\n",
              "      <td>Two year</td>\n",
              "      <td>No</td>\n",
              "      <td>Mailed check</td>\n",
              "      <td>111.30</td>\n",
              "      <td>7902.30</td>\n",
              "      <td>Female</td>\n",
              "      <td>0</td>\n",
              "      <td>No</td>\n",
              "      <td>No</td>\n",
              "      <td>Fiber optic</td>\n",
              "      <td>Yes</td>\n",
              "      <td>Yes</td>\n",
              "      <td>Yes</td>\n",
              "      <td>Yes</td>\n",
              "      <td>Yes</td>\n",
              "      <td>Yes</td>\n",
              "      <td>Yes</td>\n",
              "    </tr>\n",
              "    <tr>\n",
              "      <th>6910</th>\n",
              "      <td>0530-IJVDB</td>\n",
              "      <td>2014-04-01</td>\n",
              "      <td>2020-02-01</td>\n",
              "      <td>Two year</td>\n",
              "      <td>Yes</td>\n",
              "      <td>Electronic check</td>\n",
              "      <td>114.60</td>\n",
              "      <td>8182.44</td>\n",
              "      <td>Male</td>\n",
              "      <td>0</td>\n",
              "      <td>No</td>\n",
              "      <td>Yes</td>\n",
              "      <td>Fiber optic</td>\n",
              "      <td>Yes</td>\n",
              "      <td>Yes</td>\n",
              "      <td>Yes</td>\n",
              "      <td>Yes</td>\n",
              "      <td>Yes</td>\n",
              "      <td>Yes</td>\n",
              "      <td>Yes</td>\n",
              "    </tr>\n",
              "    <tr>\n",
              "      <th>6913</th>\n",
              "      <td>8213-TAZPM</td>\n",
              "      <td>2014-05-01</td>\n",
              "      <td>2020-02-01</td>\n",
              "      <td>One year</td>\n",
              "      <td>Yes</td>\n",
              "      <td>Bank transfer (automatic)</td>\n",
              "      <td>108.75</td>\n",
              "      <td>7728.86</td>\n",
              "      <td>Female</td>\n",
              "      <td>0</td>\n",
              "      <td>Yes</td>\n",
              "      <td>Yes</td>\n",
              "      <td>Fiber optic</td>\n",
              "      <td>No</td>\n",
              "      <td>Yes</td>\n",
              "      <td>Yes</td>\n",
              "      <td>Yes</td>\n",
              "      <td>Yes</td>\n",
              "      <td>Yes</td>\n",
              "      <td>Yes</td>\n",
              "    </tr>\n",
              "    <tr>\n",
              "      <th>6992</th>\n",
              "      <td>0218-QNVAS</td>\n",
              "      <td>2014-03-01</td>\n",
              "      <td>2020-02-01</td>\n",
              "      <td>One year</td>\n",
              "      <td>No</td>\n",
              "      <td>Bank transfer (automatic)</td>\n",
              "      <td>100.55</td>\n",
              "      <td>7638.78</td>\n",
              "      <td>Male</td>\n",
              "      <td>0</td>\n",
              "      <td>Yes</td>\n",
              "      <td>Yes</td>\n",
              "      <td>Fiber optic</td>\n",
              "      <td>No</td>\n",
              "      <td>Yes</td>\n",
              "      <td>No</td>\n",
              "      <td>No</td>\n",
              "      <td>Yes</td>\n",
              "      <td>Yes</td>\n",
              "      <td>Yes</td>\n",
              "    </tr>\n",
              "    <tr>\n",
              "      <th>7022</th>\n",
              "      <td>7203-OYKCT</td>\n",
              "      <td>2014-02-01</td>\n",
              "      <td>2020-02-01</td>\n",
              "      <td>One year</td>\n",
              "      <td>Yes</td>\n",
              "      <td>Electronic check</td>\n",
              "      <td>104.95</td>\n",
              "      <td>8085.35</td>\n",
              "      <td>Male</td>\n",
              "      <td>0</td>\n",
              "      <td>No</td>\n",
              "      <td>No</td>\n",
              "      <td>Fiber optic</td>\n",
              "      <td>No</td>\n",
              "      <td>Yes</td>\n",
              "      <td>Yes</td>\n",
              "      <td>No</td>\n",
              "      <td>Yes</td>\n",
              "      <td>Yes</td>\n",
              "      <td>Yes</td>\n",
              "    </tr>\n",
              "  </tbody>\n",
              "</table>\n",
              "<p>181 rows × 20 columns</p>\n",
              "</div>"
            ],
            "text/plain": [
              "      customerID  BeginDate    EndDate      Type PaperlessBilling  \\\n",
              "17    9959-WOFKT 2014-03-01 2020-02-01  Two year               No   \n",
              "57    5067-XJQFU 2014-08-01 2020-02-01  One year              Yes   \n",
              "59    5954-BDFSG 2014-02-01 2020-02-01  Two year              Yes   \n",
              "198   7255-SSFBC 2014-02-01 2020-02-01  Two year              Yes   \n",
              "369   3520-FJGCV 2014-02-01 2020-02-01  Two year              Yes   \n",
              "...          ...        ...        ...       ...              ...   \n",
              "6859  3508-CFVZL 2014-03-01 2020-02-01  Two year               No   \n",
              "6910  0530-IJVDB 2014-04-01 2020-02-01  Two year              Yes   \n",
              "6913  8213-TAZPM 2014-05-01 2020-02-01  One year              Yes   \n",
              "6992  0218-QNVAS 2014-03-01 2020-02-01  One year               No   \n",
              "7022  7203-OYKCT 2014-02-01 2020-02-01  One year              Yes   \n",
              "\n",
              "                  PaymentMethod  MonthlyCharges  TotalCharges  gender  \\\n",
              "17    Bank transfer (automatic)          106.70       8257.51    Male   \n",
              "57             Electronic check          108.45       7730.32    Male   \n",
              "59      Credit card (automatic)          107.50       7740.00  Female   \n",
              "198   Bank transfer (automatic)          112.25       8324.46    Male   \n",
              "369     Credit card (automatic)          112.60       8755.78    Male   \n",
              "...                         ...             ...           ...     ...   \n",
              "6859               Mailed check          111.30       7902.30  Female   \n",
              "6910           Electronic check          114.60       8182.44    Male   \n",
              "6913  Bank transfer (automatic)          108.75       7728.86  Female   \n",
              "6992  Bank transfer (automatic)          100.55       7638.78    Male   \n",
              "7022           Electronic check          104.95       8085.35    Male   \n",
              "\n",
              "      SeniorCitizen Partner Dependents InternetService OnlineSecurity  \\\n",
              "17                0      No        Yes     Fiber optic            Yes   \n",
              "57                1     Yes        Yes     Fiber optic             No   \n",
              "59                0      No         No     Fiber optic             No   \n",
              "198               0     Yes        Yes     Fiber optic             No   \n",
              "369               0     Yes        Yes     Fiber optic            Yes   \n",
              "...             ...     ...        ...             ...            ...   \n",
              "6859              0      No         No     Fiber optic            Yes   \n",
              "6910              0      No        Yes     Fiber optic            Yes   \n",
              "6913              0     Yes        Yes     Fiber optic             No   \n",
              "6992              0     Yes        Yes     Fiber optic             No   \n",
              "7022              0      No         No     Fiber optic             No   \n",
              "\n",
              "     OnlineBackup DeviceProtection TechSupport StreamingTV StreamingMovies  \\\n",
              "17             No              Yes          No         Yes             Yes   \n",
              "57            Yes              Yes         Yes         Yes             Yes   \n",
              "59             No              Yes         Yes         Yes             Yes   \n",
              "198           Yes              Yes         Yes         Yes             Yes   \n",
              "369           Yes              Yes         Yes         Yes             Yes   \n",
              "...           ...              ...         ...         ...             ...   \n",
              "6859          Yes              Yes         Yes         Yes             Yes   \n",
              "6910          Yes              Yes         Yes         Yes             Yes   \n",
              "6913          Yes              Yes         Yes         Yes             Yes   \n",
              "6992          Yes               No          No         Yes             Yes   \n",
              "7022          Yes              Yes          No         Yes             Yes   \n",
              "\n",
              "     MultipleLines  \n",
              "17             Yes  \n",
              "57             Yes  \n",
              "59             Yes  \n",
              "198            Yes  \n",
              "369            Yes  \n",
              "...            ...  \n",
              "6859           Yes  \n",
              "6910           Yes  \n",
              "6913           Yes  \n",
              "6992           Yes  \n",
              "7022           Yes  \n",
              "\n",
              "[181 rows x 20 columns]"
            ]
          },
          "execution_count": 37,
          "metadata": {},
          "output_type": "execute_result"
        }
      ],
      "source": [
        "data[data['TotalCharges']>7500]"
      ]
    },
    {
      "cell_type": "markdown",
      "metadata": {
        "id": "_iloWjw0S-kK"
      },
      "source": [
        "Рассмотрены на выбросы столбцы MonthlyCharges и TotalCharges. В столбце MonthlyCharges выбросы отсутствуют, в столбце TotalCharges присутствуют значения превышающие верхнюю границу расчитанную по правилу 1,5*IQR, это клиенты у которых высокая стоимость услуг и высокая длительность обслуживания, эти данные целесообразнее оставить."
      ]
    },
    {
      "cell_type": "markdown",
      "metadata": {
        "id": "lElyHOB3S-kK"
      },
      "source": [
        "####1.2.6 Добавление новых столбцов"
      ]
    },
    {
      "cell_type": "code",
      "execution_count": null,
      "metadata": {
        "id": "QagGI__WS-kL"
      },
      "outputs": [],
      "source": [
        "data['Target'] = np.where(data['EndDate']=='2020-02-01', 0, 1)"
      ]
    },
    {
      "cell_type": "code",
      "execution_count": null,
      "metadata": {
        "id": "TLTLn_HYS-kL"
      },
      "outputs": [],
      "source": [
        "data['Service_duration'] = (data['EndDate'] - data['BeginDate']).astype('timedelta64[D]')"
      ]
    },
    {
      "cell_type": "code",
      "execution_count": null,
      "metadata": {
        "id": "cO-9K3s3S-kM",
        "outputId": "f2337b00-54d2-412e-d3ee-e59788c0ad30"
      },
      "outputs": [
        {
          "name": "stdout",
          "output_type": "stream",
          "text": [
            "<class 'pandas.core.frame.DataFrame'>\n",
            "Int64Index: 7032 entries, 0 to 7042\n",
            "Data columns (total 22 columns):\n",
            " #   Column            Non-Null Count  Dtype         \n",
            "---  ------            --------------  -----         \n",
            " 0   customerID        7032 non-null   object        \n",
            " 1   BeginDate         7032 non-null   datetime64[ns]\n",
            " 2   EndDate           7032 non-null   datetime64[ns]\n",
            " 3   Type              7032 non-null   object        \n",
            " 4   PaperlessBilling  7032 non-null   object        \n",
            " 5   PaymentMethod     7032 non-null   object        \n",
            " 6   MonthlyCharges    7032 non-null   float64       \n",
            " 7   TotalCharges      7032 non-null   float64       \n",
            " 8   gender            7032 non-null   object        \n",
            " 9   SeniorCitizen     7032 non-null   int64         \n",
            " 10  Partner           7032 non-null   object        \n",
            " 11  Dependents        7032 non-null   object        \n",
            " 12  InternetService   7032 non-null   object        \n",
            " 13  OnlineSecurity    7032 non-null   object        \n",
            " 14  OnlineBackup      7032 non-null   object        \n",
            " 15  DeviceProtection  7032 non-null   object        \n",
            " 16  TechSupport       7032 non-null   object        \n",
            " 17  StreamingTV       7032 non-null   object        \n",
            " 18  StreamingMovies   7032 non-null   object        \n",
            " 19  MultipleLines     7032 non-null   object        \n",
            " 20  Target            7032 non-null   int64         \n",
            " 21  Service_duration  7032 non-null   float64       \n",
            "dtypes: datetime64[ns](2), float64(3), int64(2), object(15)\n",
            "memory usage: 1.2+ MB\n"
          ]
        }
      ],
      "source": [
        "data.info()"
      ]
    },
    {
      "cell_type": "code",
      "execution_count": null,
      "metadata": {
        "id": "6xsDIWiXS-kM",
        "outputId": "917e7088-b91d-4927-ea58-a03f7dc799d1"
      },
      "outputs": [
        {
          "data": {
            "text/html": [
              "<div>\n",
              "<style scoped>\n",
              "    .dataframe tbody tr th:only-of-type {\n",
              "        vertical-align: middle;\n",
              "    }\n",
              "\n",
              "    .dataframe tbody tr th {\n",
              "        vertical-align: top;\n",
              "    }\n",
              "\n",
              "    .dataframe thead th {\n",
              "        text-align: right;\n",
              "    }\n",
              "</style>\n",
              "<table border=\"1\" class=\"dataframe\">\n",
              "  <thead>\n",
              "    <tr style=\"text-align: right;\">\n",
              "      <th></th>\n",
              "      <th>customerID</th>\n",
              "      <th>BeginDate</th>\n",
              "      <th>EndDate</th>\n",
              "      <th>Type</th>\n",
              "      <th>PaperlessBilling</th>\n",
              "      <th>PaymentMethod</th>\n",
              "      <th>MonthlyCharges</th>\n",
              "      <th>TotalCharges</th>\n",
              "      <th>gender</th>\n",
              "      <th>SeniorCitizen</th>\n",
              "      <th>...</th>\n",
              "      <th>InternetService</th>\n",
              "      <th>OnlineSecurity</th>\n",
              "      <th>OnlineBackup</th>\n",
              "      <th>DeviceProtection</th>\n",
              "      <th>TechSupport</th>\n",
              "      <th>StreamingTV</th>\n",
              "      <th>StreamingMovies</th>\n",
              "      <th>MultipleLines</th>\n",
              "      <th>Target</th>\n",
              "      <th>Service_duration</th>\n",
              "    </tr>\n",
              "  </thead>\n",
              "  <tbody>\n",
              "    <tr>\n",
              "      <th>0</th>\n",
              "      <td>7590-VHVEG</td>\n",
              "      <td>2020-01-01</td>\n",
              "      <td>2020-02-01</td>\n",
              "      <td>Month-to-month</td>\n",
              "      <td>Yes</td>\n",
              "      <td>Electronic check</td>\n",
              "      <td>29.85</td>\n",
              "      <td>31.04</td>\n",
              "      <td>Female</td>\n",
              "      <td>0</td>\n",
              "      <td>...</td>\n",
              "      <td>DSL</td>\n",
              "      <td>No</td>\n",
              "      <td>Yes</td>\n",
              "      <td>No</td>\n",
              "      <td>No</td>\n",
              "      <td>No</td>\n",
              "      <td>No</td>\n",
              "      <td>No</td>\n",
              "      <td>0</td>\n",
              "      <td>31.0</td>\n",
              "    </tr>\n",
              "    <tr>\n",
              "      <th>1</th>\n",
              "      <td>5575-GNVDE</td>\n",
              "      <td>2017-04-01</td>\n",
              "      <td>2020-02-01</td>\n",
              "      <td>One year</td>\n",
              "      <td>No</td>\n",
              "      <td>Mailed check</td>\n",
              "      <td>56.95</td>\n",
              "      <td>2071.84</td>\n",
              "      <td>Male</td>\n",
              "      <td>0</td>\n",
              "      <td>...</td>\n",
              "      <td>DSL</td>\n",
              "      <td>Yes</td>\n",
              "      <td>No</td>\n",
              "      <td>Yes</td>\n",
              "      <td>No</td>\n",
              "      <td>No</td>\n",
              "      <td>No</td>\n",
              "      <td>No</td>\n",
              "      <td>0</td>\n",
              "      <td>1036.0</td>\n",
              "    </tr>\n",
              "    <tr>\n",
              "      <th>2</th>\n",
              "      <td>3668-QPYBK</td>\n",
              "      <td>2019-10-01</td>\n",
              "      <td>2020-02-01</td>\n",
              "      <td>Month-to-month</td>\n",
              "      <td>Yes</td>\n",
              "      <td>Mailed check</td>\n",
              "      <td>53.85</td>\n",
              "      <td>226.17</td>\n",
              "      <td>Male</td>\n",
              "      <td>0</td>\n",
              "      <td>...</td>\n",
              "      <td>DSL</td>\n",
              "      <td>Yes</td>\n",
              "      <td>Yes</td>\n",
              "      <td>No</td>\n",
              "      <td>No</td>\n",
              "      <td>No</td>\n",
              "      <td>No</td>\n",
              "      <td>No</td>\n",
              "      <td>0</td>\n",
              "      <td>123.0</td>\n",
              "    </tr>\n",
              "    <tr>\n",
              "      <th>3</th>\n",
              "      <td>7795-CFOCW</td>\n",
              "      <td>2016-05-01</td>\n",
              "      <td>2020-02-01</td>\n",
              "      <td>One year</td>\n",
              "      <td>No</td>\n",
              "      <td>Bank transfer (automatic)</td>\n",
              "      <td>42.30</td>\n",
              "      <td>1960.60</td>\n",
              "      <td>Male</td>\n",
              "      <td>0</td>\n",
              "      <td>...</td>\n",
              "      <td>DSL</td>\n",
              "      <td>Yes</td>\n",
              "      <td>No</td>\n",
              "      <td>Yes</td>\n",
              "      <td>Yes</td>\n",
              "      <td>No</td>\n",
              "      <td>No</td>\n",
              "      <td>No</td>\n",
              "      <td>0</td>\n",
              "      <td>1371.0</td>\n",
              "    </tr>\n",
              "    <tr>\n",
              "      <th>4</th>\n",
              "      <td>9237-HQITU</td>\n",
              "      <td>2019-09-01</td>\n",
              "      <td>2020-02-01</td>\n",
              "      <td>Month-to-month</td>\n",
              "      <td>Yes</td>\n",
              "      <td>Electronic check</td>\n",
              "      <td>70.70</td>\n",
              "      <td>353.50</td>\n",
              "      <td>Female</td>\n",
              "      <td>0</td>\n",
              "      <td>...</td>\n",
              "      <td>Fiber optic</td>\n",
              "      <td>No</td>\n",
              "      <td>No</td>\n",
              "      <td>No</td>\n",
              "      <td>No</td>\n",
              "      <td>No</td>\n",
              "      <td>No</td>\n",
              "      <td>No</td>\n",
              "      <td>0</td>\n",
              "      <td>153.0</td>\n",
              "    </tr>\n",
              "  </tbody>\n",
              "</table>\n",
              "<p>5 rows × 22 columns</p>\n",
              "</div>"
            ],
            "text/plain": [
              "   customerID  BeginDate    EndDate            Type PaperlessBilling  \\\n",
              "0  7590-VHVEG 2020-01-01 2020-02-01  Month-to-month              Yes   \n",
              "1  5575-GNVDE 2017-04-01 2020-02-01        One year               No   \n",
              "2  3668-QPYBK 2019-10-01 2020-02-01  Month-to-month              Yes   \n",
              "3  7795-CFOCW 2016-05-01 2020-02-01        One year               No   \n",
              "4  9237-HQITU 2019-09-01 2020-02-01  Month-to-month              Yes   \n",
              "\n",
              "               PaymentMethod  MonthlyCharges  TotalCharges  gender  \\\n",
              "0           Electronic check           29.85         31.04  Female   \n",
              "1               Mailed check           56.95       2071.84    Male   \n",
              "2               Mailed check           53.85        226.17    Male   \n",
              "3  Bank transfer (automatic)           42.30       1960.60    Male   \n",
              "4           Electronic check           70.70        353.50  Female   \n",
              "\n",
              "   SeniorCitizen  ... InternetService OnlineSecurity OnlineBackup  \\\n",
              "0              0  ...             DSL             No          Yes   \n",
              "1              0  ...             DSL            Yes           No   \n",
              "2              0  ...             DSL            Yes          Yes   \n",
              "3              0  ...             DSL            Yes           No   \n",
              "4              0  ...     Fiber optic             No           No   \n",
              "\n",
              "  DeviceProtection TechSupport StreamingTV StreamingMovies MultipleLines  \\\n",
              "0               No          No          No              No            No   \n",
              "1              Yes          No          No              No            No   \n",
              "2               No          No          No              No            No   \n",
              "3              Yes         Yes          No              No            No   \n",
              "4               No          No          No              No            No   \n",
              "\n",
              "  Target Service_duration  \n",
              "0      0             31.0  \n",
              "1      0           1036.0  \n",
              "2      0            123.0  \n",
              "3      0           1371.0  \n",
              "4      0            153.0  \n",
              "\n",
              "[5 rows x 22 columns]"
            ]
          },
          "execution_count": 41,
          "metadata": {},
          "output_type": "execute_result"
        }
      ],
      "source": [
        "data.head()"
      ]
    },
    {
      "cell_type": "markdown",
      "metadata": {
        "id": "GeYaSntcS-kN"
      },
      "source": [
        "В данные добавлены два новых столбца - столбец с целевым признаком 'Target' и столбец с длительностью обслуживания 'Service_duration'"
      ]
    },
    {
      "cell_type": "markdown",
      "metadata": {
        "id": "2E7_r-E2S-kN"
      },
      "source": [
        "Данные из 4 таблиц были объединены в одну, полученные после объединения пропуски были заполненные значением \"No\". В столбцах BeginDate и EndDate был изменен тип данных на datetime, предварительно в столбце EndDate все значения \"No\" были заменены на дату 2020-02-01. В столбце TotalCharges тип данных был изменен на float, после чего появившиеся в нем строки с пропусками были удалены, т.к. это строки с пользователями, которые только заключили договор. Были рассмотрены на выбросы столбцы MonthlyCharges и TotalCharges. В данные были добавлены два новых столбца - столбец с целевым признаком 'Target' и столбец с длительностью обслуживания 'Service_duration'"
      ]
    },
    {
      "cell_type": "markdown",
      "metadata": {
        "id": "s8DD73fBS-kN"
      },
      "source": [
        "##2 Исследовательский анализ данных"
      ]
    },
    {
      "cell_type": "markdown",
      "metadata": {
        "id": "wz9OB0RdS-kO"
      },
      "source": [
        "###2.1 Проверка на дисбаланс классов"
      ]
    },
    {
      "cell_type": "code",
      "execution_count": null,
      "metadata": {
        "id": "ObxBU6OkS-kP",
        "outputId": "001fe6f1-fd04-42b6-efe0-214dbd71dd9b"
      },
      "outputs": [
        {
          "data": {
            "text/plain": [
              "Target\n",
              "0    0.84343\n",
              "1    0.15657\n",
              "dtype: float64"
            ]
          },
          "execution_count": 42,
          "metadata": {},
          "output_type": "execute_result"
        }
      ],
      "source": [
        "data.groupby('Target').size()/len(data)"
      ]
    },
    {
      "cell_type": "code",
      "execution_count": null,
      "metadata": {
        "id": "-0ckErbmS-kP",
        "outputId": "a1470957-e86b-4f3b-f93f-8c5a4ca3fe34"
      },
      "outputs": [
        {
          "data": {
            "image/png": "[encoded data removed]",
            "text/plain": [
              "<Figure size 432x288 with 1 Axes>"
            ]
          },
          "metadata": {
            "needs_background": "light"
          },
          "output_type": "display_data"
        }
      ],
      "source": [
        "data['Target'].value_counts().plot.bar(xlabel='Target', ylabel='количество', title='Баланс классов');"
      ]
    },
    {
      "cell_type": "markdown",
      "metadata": {
        "id": "n_6olMCDS-kP"
      },
      "source": [
        "Присутствует дисбаланс классов"
      ]
    },
    {
      "cell_type": "markdown",
      "metadata": {
        "id": "O7WTpxwpS-kQ"
      },
      "source": [
        "###2.2 Сравнение распределения признаков для ушедших и оставшихся клиентов"
      ]
    },
    {
      "cell_type": "code",
      "execution_count": null,
      "metadata": {
        "id": "9maBTLVAS-kQ"
      },
      "outputs": [],
      "source": [
        "def func(name, title):\n",
        "    (data.pivot_table(index='Target', columns=name, values='customerID', aggfunc='count').reset_index(drop=True)\n",
        "         .plot.bar(xlabel='Target', ylabel='количество клиентов',\n",
        "                   title=title, grid=True)\n",
        "    );"
      ]
    },
    {
      "cell_type": "code",
      "execution_count": null,
      "metadata": {
        "id": "7blSqq-HS-kQ",
        "outputId": "4d703cdc-5827-4aa9-ff24-315bfd363ba9"
      },
      "outputs": [
        {
          "data": {
            "image/png": "[encoded data removed]",
            "text/plain": [
              "<Figure size 432x288 with 1 Axes>"
            ]
          },
          "metadata": {
            "needs_background": "light"
          },
          "output_type": "display_data"
        }
      ],
      "source": [
        "func('PaperlessBilling', 'Распределение по признаку \"безналичный расчет\" среди ушедших и оставшихся клиентов')"
      ]
    },
    {
      "cell_type": "markdown",
      "metadata": {
        "id": "Cwd3xqPhS-kQ"
      },
      "source": [
        "Распределение по признаку \"безналичный расчет\" среди ушедших и оставшихся клиентов похожее, но по пропорциям немного различается. Данный признак скорее всего сильное влияние не оказывает."
      ]
    },
    {
      "cell_type": "code",
      "execution_count": null,
      "metadata": {
        "id": "5KT3rCiDS-kQ",
        "outputId": "69c9c4ca-08df-45da-89d1-e84143dd4a73"
      },
      "outputs": [
        {
          "data": {
            "image/png": "[encoded data removed]",
            "text/plain": [
              "<Figure size 432x288 with 1 Axes>"
            ]
          },
          "metadata": {
            "needs_background": "light"
          },
          "output_type": "display_data"
        }
      ],
      "source": [
        "func('PaymentMethod', 'Распределение по способу оплаты среди ушедших и оставшихся клиентов')"
      ]
    },
    {
      "cell_type": "markdown",
      "metadata": {
        "id": "a31JK96kS-kR"
      },
      "source": [
        "Среди ушедших клиентов доля использовавших способ оплаты Mailed check самая маленькая. Данный признак может оказывать влияние."
      ]
    },
    {
      "cell_type": "code",
      "execution_count": null,
      "metadata": {
        "id": "XCX74osGS-kR",
        "outputId": "765d9801-4394-4b97-9eb3-ae659f802b05"
      },
      "outputs": [
        {
          "data": {
            "image/png": "[encoded data removed]",
            "text/plain": [
              "<Figure size 1800x504 with 1 Axes>"
            ]
          },
          "metadata": {
            "needs_background": "light"
          },
          "output_type": "display_data"
        }
      ],
      "source": [
        "plt.figure(figsize=(25, 7))\n",
        "plt.plot('MonthlyCharges', 'customerID',\n",
        "         data=data[data['Target']==0].pivot_table(index='MonthlyCharges', values='customerID', aggfunc='count')\n",
        "         .reset_index())\n",
        "plt.plot('MonthlyCharges', 'customerID',\n",
        "         data=data[data['Target']==1].pivot_table(index='MonthlyCharges', values='customerID', aggfunc='count')\n",
        "         .reset_index())\n",
        "#plt.xticks(np.arange(0, 2400, step=100))\n",
        "plt.xlabel('Ежемесячные траты на услуги')\n",
        "plt.ylabel('количество клиентов')\n",
        "plt.title('Распределение ежемесячных трат на услуги')\n",
        "plt.legend(['оставшиеся клиенты', 'ушедшие клиенты'], loc='upper right')\n",
        "plt.show()"
      ]
    },
    {
      "cell_type": "markdown",
      "metadata": {
        "id": "dNOGmXPHS-kR"
      },
      "source": [
        " Распределение ежемесячных трат имеет отличия и может оказывать влияние."
      ]
    },
    {
      "cell_type": "code",
      "execution_count": null,
      "metadata": {
        "id": "l9GYuI2YS-kS",
        "outputId": "17609df0-1e2f-404c-f1b0-f3761e597d97"
      },
      "outputs": [
        {
          "data": {
            "image/png": "[encoded data removed]",
            "text/plain": [
              "<Figure size 432x288 with 1 Axes>"
            ]
          },
          "metadata": {
            "needs_background": "light"
          },
          "output_type": "display_data"
        }
      ],
      "source": [
        "func('gender', 'Распределение по полу среди ушедших и оставшихся клиентов')"
      ]
    },
    {
      "cell_type": "markdown",
      "metadata": {
        "id": "E656imJXS-kS"
      },
      "source": [
        "Распределение по полу среди ушедших и оставшихся клиентов идентичное. Данный признак влияние оказывать не будет."
      ]
    },
    {
      "cell_type": "code",
      "execution_count": null,
      "metadata": {
        "id": "iF5PR2mHS-kS",
        "outputId": "629c3610-b618-433f-9831-c3f9594cdaa2"
      },
      "outputs": [
        {
          "data": {
            "image/png": "[encoded data removed]",
            "text/plain": [
              "<Figure size 432x288 with 1 Axes>"
            ]
          },
          "metadata": {
            "needs_background": "light"
          },
          "output_type": "display_data"
        }
      ],
      "source": [
        "func('Type', 'Распределение по типу оплаты среди ушедших и оставшихся клиентов')"
      ]
    },
    {
      "cell_type": "markdown",
      "metadata": {
        "id": "9L-deDYrS-kS"
      },
      "source": [
        "Большинство действующих клиентов используют способ оплаты - помесяный, в тоже время распределение у ушедших клиентов среди имеющихся трех типов оплаты практически одинаковое.Данный признак может оказывать влияние."
      ]
    },
    {
      "cell_type": "code",
      "execution_count": null,
      "metadata": {
        "id": "QCDFU-hcS-kT",
        "outputId": "c2ec8aee-4577-41fd-c48d-5af782b0e665"
      },
      "outputs": [
        {
          "data": {
            "image/png": "[encoded data removed]",
            "text/plain": [
              "<Figure size 432x288 with 1 Axes>"
            ]
          },
          "metadata": {
            "needs_background": "light"
          },
          "output_type": "display_data"
        }
      ],
      "source": [
        "func('Partner', 'Распределение по наличию супруга(и) среди ушедших и оставшихся клиентов')"
      ]
    },
    {
      "cell_type": "markdown",
      "metadata": {
        "id": "VIzFxaeXS-kT"
      },
      "source": [
        "Среди ушедших клиентов доля состоящих в браке выше, а среди оставшихся ниже, данный признак может оказывать влияние."
      ]
    },
    {
      "cell_type": "code",
      "execution_count": null,
      "metadata": {
        "id": "SvY7t44nS-kT",
        "outputId": "5411fd21-f417-4f81-b59a-d89561d2c693"
      },
      "outputs": [
        {
          "data": {
            "image/png": "[encoded data removed]",
            "text/plain": [
              "<Figure size 432x288 with 1 Axes>"
            ]
          },
          "metadata": {
            "needs_background": "light"
          },
          "output_type": "display_data"
        }
      ],
      "source": [
        "func('Dependents', 'Распределение по наличию еждевенцев среди ушедших и оставшихся клиентов')"
      ]
    },
    {
      "cell_type": "markdown",
      "metadata": {
        "id": "AfJeuJh0S-kT"
      },
      "source": [
        "Распределение по наличию еждевенцев среди ушедших и оставшихся клиентов похожее, но различается немного по пропорциям. Данный признак скорее всего не оказывает сильное влияние."
      ]
    },
    {
      "cell_type": "code",
      "execution_count": null,
      "metadata": {
        "id": "gsyLKTVxS-kU",
        "outputId": "d905c117-615d-41ab-94cd-db45773f36af"
      },
      "outputs": [
        {
          "data": {
            "image/png": "[encoded data removed]",
            "text/plain": [
              "<Figure size 432x288 with 1 Axes>"
            ]
          },
          "metadata": {
            "needs_background": "light"
          },
          "output_type": "display_data"
        }
      ],
      "source": [
        "func('InternetService', 'Распределение интернет-сервиса среди ушедших и оставшихся клиентов')"
      ]
    },
    {
      "cell_type": "markdown",
      "metadata": {
        "id": "VlsHsBzDS-kU"
      },
      "source": [
        "Распределение интернет-сервиса среди ушедших и оставшихся клиентов похожее, различается по пропорциям(оставшиеся DSL пользуютя где-то процентов на 15 меньше, чем Fiber optic, а у ушедших разница между сервисами почти в 2 раза). Данный признак скорее всего  имеет не сильное влияние."
      ]
    },
    {
      "cell_type": "code",
      "execution_count": null,
      "metadata": {
        "id": "hIKTTb3hS-kU"
      },
      "outputs": [],
      "source": [
        "target_0 = []\n",
        "target_1 = []\n",
        "\n",
        "for i in data.columns[13:-2]:\n",
        "    table_0 = data[data['Target'] == 0][i].value_counts()\n",
        "    target_0.append(table_0)\n",
        "    table_1 = data[data['Target'] == 1][i].value_counts()\n",
        "    target_1.append(table_1)"
      ]
    },
    {
      "cell_type": "code",
      "execution_count": null,
      "metadata": {
        "id": "tEEw2V2pS-kV",
        "outputId": "e54d7798-0b2d-4856-a143-0652a5c54157"
      },
      "outputs": [
        {
          "data": {
            "image/png": "[encoded data removed]",
            "text/plain": [
              "<Figure size 864x288 with 1 Axes>"
            ]
          },
          "metadata": {
            "needs_background": "light"
          },
          "output_type": "display_data"
        },
        {
          "data": {
            "image/png": "[encoded data removed]",
            "text/plain": [
              "<Figure size 864x288 with 1 Axes>"
            ]
          },
          "metadata": {
            "needs_background": "light"
          },
          "output_type": "display_data"
        }
      ],
      "source": [
        "pd.DataFrame(target_0).plot.bar(xlabel='Наименование услуги', ylabel='количество клиентов',\n",
        "                   title='Распределение наличия дополнительных услуг у оставшихся клиентов', figsize=(12,4), grid=True)\n",
        "pd.DataFrame(target_1).plot.bar(xlabel='Наименование услуги', ylabel='количество клиентов',\n",
        "                   title='Распределение наличия дополнительных услуг у ушедших клиентов', figsize=(12,4), grid=True);"
      ]
    },
    {
      "cell_type": "markdown",
      "metadata": {
        "id": "mnMAh6aCS-kV"
      },
      "source": [
        "Распределение наличия доп. услуг среди ушедших и оставшихся клиентов имеет различия, данные признаки могут иметь влияние."
      ]
    },
    {
      "cell_type": "code",
      "execution_count": null,
      "metadata": {
        "id": "r9Y4E7q6S-kV",
        "outputId": "a6c1fc49-5cc0-4c65-9bf5-789fa3d2ae29"
      },
      "outputs": [
        {
          "data": {
            "image/png": "[encoded data removed]",
            "text/plain": [
              "<Figure size 1440x432 with 1 Axes>"
            ]
          },
          "metadata": {
            "needs_background": "light"
          },
          "output_type": "display_data"
        }
      ],
      "source": [
        "plt.figure(figsize=(20, 6))\n",
        "plt.plot('Service_duration', 'customerID',\n",
        "         data=data[data['Target']==0].pivot_table(index='Service_duration', values='customerID', aggfunc='count')\n",
        "         .reset_index())\n",
        "plt.plot('Service_duration', 'customerID',\n",
        "         data=data[data['Target']==1].pivot_table(index='Service_duration', values='customerID', aggfunc='count')\n",
        "         .reset_index())\n",
        "plt.xticks(np.arange(0, 2400, step=100))\n",
        "plt.xlabel('Длительность обслуживания, дни')\n",
        "plt.ylabel('количество клиентов')\n",
        "plt.title('Распределение длительности обслуживания')\n",
        "plt.legend(['оставшиеся клиенты', 'ушедшие клиенты'], loc='upper center')\n",
        "plt.show()"
      ]
    },
    {
      "cell_type": "markdown",
      "metadata": {
        "id": "OagLlSwnS-kW"
      },
      "source": [
        "Распределение по длительности обслуживания среди ушедших клиентов довольно равномерное."
      ]
    },
    {
      "cell_type": "markdown",
      "metadata": {
        "id": "n78b8-TeS-kW"
      },
      "source": [
        "В рассматриваемых данных присутствуют признаки, которые в большей, либо в меньшей степени могут оказывать влияние, а есть признаки, которые скорее всего никакого влияния вообще не оказывают - распределение по полу."
      ]
    },
    {
      "cell_type": "markdown",
      "metadata": {
        "id": "6IhEXO9uS-kW"
      },
      "source": [
        "###2.3 Исследование корреляции между признаками"
      ]
    },
    {
      "cell_type": "code",
      "execution_count": null,
      "metadata": {
        "id": "ZLcVEKNOS-kX"
      },
      "outputs": [],
      "source": [
        "pd.set_option('display.max_columns', None)"
      ]
    },
    {
      "cell_type": "code",
      "execution_count": null,
      "metadata": {
        "id": "-7q88FL6S-kX",
        "outputId": "c85efe9c-32a7-4e3e-921d-8ff05dc85980"
      },
      "outputs": [
        {
          "name": "stdout",
          "output_type": "stream",
          "text": [
            "interval columns not set, guessing: ['MonthlyCharges', 'TotalCharges', 'SeniorCitizen', 'Target', 'Service_duration']\n"
          ]
        },
        {
          "data": {
            "text/html": [
              "<div>\n",
              "<style scoped>\n",
              "    .dataframe tbody tr th:only-of-type {\n",
              "        vertical-align: middle;\n",
              "    }\n",
              "\n",
              "    .dataframe tbody tr th {\n",
              "        vertical-align: top;\n",
              "    }\n",
              "\n",
              "    .dataframe thead th {\n",
              "        text-align: right;\n",
              "    }\n",
              "</style>\n",
              "<table border=\"1\" class=\"dataframe\">\n",
              "  <thead>\n",
              "    <tr style=\"text-align: right;\">\n",
              "      <th></th>\n",
              "      <th>customerID</th>\n",
              "      <th>BeginDate</th>\n",
              "      <th>EndDate</th>\n",
              "      <th>Type</th>\n",
              "      <th>PaperlessBilling</th>\n",
              "      <th>PaymentMethod</th>\n",
              "      <th>MonthlyCharges</th>\n",
              "      <th>TotalCharges</th>\n",
              "      <th>gender</th>\n",
              "      <th>SeniorCitizen</th>\n",
              "      <th>Partner</th>\n",
              "      <th>Dependents</th>\n",
              "      <th>InternetService</th>\n",
              "      <th>OnlineSecurity</th>\n",
              "      <th>OnlineBackup</th>\n",
              "      <th>DeviceProtection</th>\n",
              "      <th>TechSupport</th>\n",
              "      <th>StreamingTV</th>\n",
              "      <th>StreamingMovies</th>\n",
              "      <th>MultipleLines</th>\n",
              "      <th>Target</th>\n",
              "      <th>Service_duration</th>\n",
              "    </tr>\n",
              "  </thead>\n",
              "  <tbody>\n",
              "    <tr>\n",
              "      <th>customerID</th>\n",
              "      <td>1.0</td>\n",
              "      <td>1.000000</td>\n",
              "      <td>1.000000</td>\n",
              "      <td>1.000000</td>\n",
              "      <td>1.000000</td>\n",
              "      <td>1.000000</td>\n",
              "      <td>1.000000</td>\n",
              "      <td>1.000000</td>\n",
              "      <td>1.000000</td>\n",
              "      <td>1.000000</td>\n",
              "      <td>1.000000</td>\n",
              "      <td>1.000000</td>\n",
              "      <td>1.000000</td>\n",
              "      <td>1.000000</td>\n",
              "      <td>1.000000</td>\n",
              "      <td>1.000000</td>\n",
              "      <td>1.000000</td>\n",
              "      <td>1.000000</td>\n",
              "      <td>1.000000</td>\n",
              "      <td>1.000000</td>\n",
              "      <td>1.000000</td>\n",
              "      <td>1.000000</td>\n",
              "    </tr>\n",
              "    <tr>\n",
              "      <th>BeginDate</th>\n",
              "      <td>1.0</td>\n",
              "      <td>1.000000</td>\n",
              "      <td>0.549761</td>\n",
              "      <td>0.765275</td>\n",
              "      <td>0.078664</td>\n",
              "      <td>0.467586</td>\n",
              "      <td>0.421848</td>\n",
              "      <td>0.773731</td>\n",
              "      <td>0.018540</td>\n",
              "      <td>0.049516</td>\n",
              "      <td>0.485513</td>\n",
              "      <td>0.201169</td>\n",
              "      <td>0.185601</td>\n",
              "      <td>0.414870</td>\n",
              "      <td>0.457995</td>\n",
              "      <td>0.468675</td>\n",
              "      <td>0.410714</td>\n",
              "      <td>0.369979</td>\n",
              "      <td>0.381092</td>\n",
              "      <td>0.440017</td>\n",
              "      <td>0.461977</td>\n",
              "      <td>0.978241</td>\n",
              "    </tr>\n",
              "    <tr>\n",
              "      <th>EndDate</th>\n",
              "      <td>1.0</td>\n",
              "      <td>0.549761</td>\n",
              "      <td>1.000000</td>\n",
              "      <td>0.286678</td>\n",
              "      <td>0.062480</td>\n",
              "      <td>0.168837</td>\n",
              "      <td>0.172986</td>\n",
              "      <td>0.215829</td>\n",
              "      <td>0.018351</td>\n",
              "      <td>0.090149</td>\n",
              "      <td>0.178225</td>\n",
              "      <td>0.056795</td>\n",
              "      <td>0.116149</td>\n",
              "      <td>0.129869</td>\n",
              "      <td>0.203878</td>\n",
              "      <td>0.197905</td>\n",
              "      <td>0.113035</td>\n",
              "      <td>0.164908</td>\n",
              "      <td>0.177174</td>\n",
              "      <td>0.209427</td>\n",
              "      <td>1.000000</td>\n",
              "      <td>0.399183</td>\n",
              "    </tr>\n",
              "    <tr>\n",
              "      <th>Type</th>\n",
              "      <td>1.0</td>\n",
              "      <td>0.765275</td>\n",
              "      <td>0.286678</td>\n",
              "      <td>1.000000</td>\n",
              "      <td>0.106151</td>\n",
              "      <td>0.277528</td>\n",
              "      <td>0.388557</td>\n",
              "      <td>0.470700</td>\n",
              "      <td>0.000000</td>\n",
              "      <td>0.085800</td>\n",
              "      <td>0.179294</td>\n",
              "      <td>0.146126</td>\n",
              "      <td>0.503776</td>\n",
              "      <td>0.152239</td>\n",
              "      <td>0.099016</td>\n",
              "      <td>0.137817</td>\n",
              "      <td>0.180169</td>\n",
              "      <td>0.067123</td>\n",
              "      <td>0.070375</td>\n",
              "      <td>0.065750</td>\n",
              "      <td>0.094622</td>\n",
              "      <td>0.635623</td>\n",
              "    </tr>\n",
              "    <tr>\n",
              "      <th>PaperlessBilling</th>\n",
              "      <td>1.0</td>\n",
              "      <td>0.078664</td>\n",
              "      <td>0.062480</td>\n",
              "      <td>0.106151</td>\n",
              "      <td>1.000000</td>\n",
              "      <td>0.368945</td>\n",
              "      <td>0.467547</td>\n",
              "      <td>0.202168</td>\n",
              "      <td>0.000000</td>\n",
              "      <td>0.241715</td>\n",
              "      <td>0.010489</td>\n",
              "      <td>0.170650</td>\n",
              "      <td>0.231145</td>\n",
              "      <td>0.000000</td>\n",
              "      <td>0.196937</td>\n",
              "      <td>0.161234</td>\n",
              "      <td>0.055354</td>\n",
              "      <td>0.344114</td>\n",
              "      <td>0.325351</td>\n",
              "      <td>0.253299</td>\n",
              "      <td>0.082789</td>\n",
              "      <td>0.018839</td>\n",
              "    </tr>\n",
              "    <tr>\n",
              "      <th>PaymentMethod</th>\n",
              "      <td>1.0</td>\n",
              "      <td>0.467586</td>\n",
              "      <td>0.168837</td>\n",
              "      <td>0.277528</td>\n",
              "      <td>0.368945</td>\n",
              "      <td>1.000000</td>\n",
              "      <td>0.398849</td>\n",
              "      <td>0.334563</td>\n",
              "      <td>0.000000</td>\n",
              "      <td>0.291989</td>\n",
              "      <td>0.244661</td>\n",
              "      <td>0.222859</td>\n",
              "      <td>0.323013</td>\n",
              "      <td>0.261704</td>\n",
              "      <td>0.282245</td>\n",
              "      <td>0.306678</td>\n",
              "      <td>0.270893</td>\n",
              "      <td>0.377241</td>\n",
              "      <td>0.378375</td>\n",
              "      <td>0.339987</td>\n",
              "      <td>0.214300</td>\n",
              "      <td>0.348275</td>\n",
              "    </tr>\n",
              "    <tr>\n",
              "      <th>MonthlyCharges</th>\n",
              "      <td>1.0</td>\n",
              "      <td>0.421848</td>\n",
              "      <td>0.172986</td>\n",
              "      <td>0.388557</td>\n",
              "      <td>0.467547</td>\n",
              "      <td>0.398849</td>\n",
              "      <td>1.000000</td>\n",
              "      <td>0.711015</td>\n",
              "      <td>0.005522</td>\n",
              "      <td>0.304546</td>\n",
              "      <td>0.204575</td>\n",
              "      <td>0.182283</td>\n",
              "      <td>0.919005</td>\n",
              "      <td>0.550855</td>\n",
              "      <td>0.629276</td>\n",
              "      <td>0.667621</td>\n",
              "      <td>0.576163</td>\n",
              "      <td>0.835680</td>\n",
              "      <td>0.833111</td>\n",
              "      <td>0.676393</td>\n",
              "      <td>0.225823</td>\n",
              "      <td>0.387649</td>\n",
              "    </tr>\n",
              "    <tr>\n",
              "      <th>TotalCharges</th>\n",
              "      <td>1.0</td>\n",
              "      <td>0.773731</td>\n",
              "      <td>0.215829</td>\n",
              "      <td>0.470700</td>\n",
              "      <td>0.202168</td>\n",
              "      <td>0.334563</td>\n",
              "      <td>0.711015</td>\n",
              "      <td>1.000000</td>\n",
              "      <td>0.000000</td>\n",
              "      <td>0.136856</td>\n",
              "      <td>0.383135</td>\n",
              "      <td>0.085809</td>\n",
              "      <td>0.489363</td>\n",
              "      <td>0.522660</td>\n",
              "      <td>0.623588</td>\n",
              "      <td>0.642431</td>\n",
              "      <td>0.550988</td>\n",
              "      <td>0.642937</td>\n",
              "      <td>0.644346</td>\n",
              "      <td>0.573224</td>\n",
              "      <td>0.303758</td>\n",
              "      <td>0.847572</td>\n",
              "    </tr>\n",
              "    <tr>\n",
              "      <th>gender</th>\n",
              "      <td>1.0</td>\n",
              "      <td>0.018540</td>\n",
              "      <td>0.018351</td>\n",
              "      <td>0.000000</td>\n",
              "      <td>0.000000</td>\n",
              "      <td>0.000000</td>\n",
              "      <td>0.005522</td>\n",
              "      <td>0.000000</td>\n",
              "      <td>1.000000</td>\n",
              "      <td>0.000000</td>\n",
              "      <td>0.000000</td>\n",
              "      <td>0.000000</td>\n",
              "      <td>0.000000</td>\n",
              "      <td>0.016788</td>\n",
              "      <td>0.007277</td>\n",
              "      <td>0.000000</td>\n",
              "      <td>0.000000</td>\n",
              "      <td>0.000000</td>\n",
              "      <td>0.000000</td>\n",
              "      <td>0.000000</td>\n",
              "      <td>0.008800</td>\n",
              "      <td>0.000000</td>\n",
              "    </tr>\n",
              "    <tr>\n",
              "      <th>SeniorCitizen</th>\n",
              "      <td>1.0</td>\n",
              "      <td>0.049516</td>\n",
              "      <td>0.090149</td>\n",
              "      <td>0.085800</td>\n",
              "      <td>0.241715</td>\n",
              "      <td>0.291989</td>\n",
              "      <td>0.304546</td>\n",
              "      <td>0.136856</td>\n",
              "      <td>0.000000</td>\n",
              "      <td>1.000000</td>\n",
              "      <td>0.018075</td>\n",
              "      <td>0.323629</td>\n",
              "      <td>0.160452</td>\n",
              "      <td>0.056897</td>\n",
              "      <td>0.102206</td>\n",
              "      <td>0.090818</td>\n",
              "      <td>0.092485</td>\n",
              "      <td>0.163223</td>\n",
              "      <td>0.185621</td>\n",
              "      <td>0.221386</td>\n",
              "      <td>0.085708</td>\n",
              "      <td>0.065128</td>\n",
              "    </tr>\n",
              "    <tr>\n",
              "      <th>Partner</th>\n",
              "      <td>1.0</td>\n",
              "      <td>0.485513</td>\n",
              "      <td>0.178225</td>\n",
              "      <td>0.179294</td>\n",
              "      <td>0.010489</td>\n",
              "      <td>0.244661</td>\n",
              "      <td>0.204575</td>\n",
              "      <td>0.383135</td>\n",
              "      <td>0.000000</td>\n",
              "      <td>0.018075</td>\n",
              "      <td>1.000000</td>\n",
              "      <td>0.651635</td>\n",
              "      <td>0.000000</td>\n",
              "      <td>0.222040</td>\n",
              "      <td>0.219762</td>\n",
              "      <td>0.237725</td>\n",
              "      <td>0.186312</td>\n",
              "      <td>0.192973</td>\n",
              "      <td>0.183090</td>\n",
              "      <td>0.220874</td>\n",
              "      <td>0.227597</td>\n",
              "      <td>0.450246</td>\n",
              "    </tr>\n",
              "    <tr>\n",
              "      <th>Dependents</th>\n",
              "      <td>1.0</td>\n",
              "      <td>0.201169</td>\n",
              "      <td>0.056795</td>\n",
              "      <td>0.146126</td>\n",
              "      <td>0.170650</td>\n",
              "      <td>0.222859</td>\n",
              "      <td>0.182283</td>\n",
              "      <td>0.085809</td>\n",
              "      <td>0.000000</td>\n",
              "      <td>0.323629</td>\n",
              "      <td>0.651635</td>\n",
              "      <td>1.000000</td>\n",
              "      <td>0.107328</td>\n",
              "      <td>0.124648</td>\n",
              "      <td>0.031464</td>\n",
              "      <td>0.010181</td>\n",
              "      <td>0.096565</td>\n",
              "      <td>0.017176</td>\n",
              "      <td>0.056742</td>\n",
              "      <td>0.032697</td>\n",
              "      <td>0.048710</td>\n",
              "      <td>0.197317</td>\n",
              "    </tr>\n",
              "    <tr>\n",
              "      <th>InternetService</th>\n",
              "      <td>1.0</td>\n",
              "      <td>0.185601</td>\n",
              "      <td>0.116149</td>\n",
              "      <td>0.503776</td>\n",
              "      <td>0.231145</td>\n",
              "      <td>0.323013</td>\n",
              "      <td>0.919005</td>\n",
              "      <td>0.489363</td>\n",
              "      <td>0.000000</td>\n",
              "      <td>0.160452</td>\n",
              "      <td>0.000000</td>\n",
              "      <td>0.107328</td>\n",
              "      <td>1.000000</td>\n",
              "      <td>0.240905</td>\n",
              "      <td>0.233205</td>\n",
              "      <td>0.232532</td>\n",
              "      <td>0.239149</td>\n",
              "      <td>0.272629</td>\n",
              "      <td>0.272562</td>\n",
              "      <td>0.225602</td>\n",
              "      <td>0.056279</td>\n",
              "      <td>0.058903</td>\n",
              "    </tr>\n",
              "    <tr>\n",
              "      <th>OnlineSecurity</th>\n",
              "      <td>1.0</td>\n",
              "      <td>0.414870</td>\n",
              "      <td>0.129869</td>\n",
              "      <td>0.152239</td>\n",
              "      <td>0.000000</td>\n",
              "      <td>0.261704</td>\n",
              "      <td>0.550855</td>\n",
              "      <td>0.522660</td>\n",
              "      <td>0.016788</td>\n",
              "      <td>0.056897</td>\n",
              "      <td>0.222040</td>\n",
              "      <td>0.124648</td>\n",
              "      <td>0.240905</td>\n",
              "      <td>1.000000</td>\n",
              "      <td>0.429646</td>\n",
              "      <td>0.417668</td>\n",
              "      <td>0.527759</td>\n",
              "      <td>0.271134</td>\n",
              "      <td>0.289137</td>\n",
              "      <td>0.152640</td>\n",
              "      <td>0.132914</td>\n",
              "      <td>0.394666</td>\n",
              "    </tr>\n",
              "    <tr>\n",
              "      <th>OnlineBackup</th>\n",
              "      <td>1.0</td>\n",
              "      <td>0.457995</td>\n",
              "      <td>0.203878</td>\n",
              "      <td>0.099016</td>\n",
              "      <td>0.196937</td>\n",
              "      <td>0.282245</td>\n",
              "      <td>0.629276</td>\n",
              "      <td>0.623588</td>\n",
              "      <td>0.007277</td>\n",
              "      <td>0.102206</td>\n",
              "      <td>0.219762</td>\n",
              "      <td>0.031464</td>\n",
              "      <td>0.233205</td>\n",
              "      <td>0.429646</td>\n",
              "      <td>1.000000</td>\n",
              "      <td>0.457527</td>\n",
              "      <td>0.444385</td>\n",
              "      <td>0.427288</td>\n",
              "      <td>0.417200</td>\n",
              "      <td>0.311389</td>\n",
              "      <td>0.229736</td>\n",
              "      <td>0.416097</td>\n",
              "    </tr>\n",
              "    <tr>\n",
              "      <th>DeviceProtection</th>\n",
              "      <td>1.0</td>\n",
              "      <td>0.468675</td>\n",
              "      <td>0.197905</td>\n",
              "      <td>0.137817</td>\n",
              "      <td>0.161234</td>\n",
              "      <td>0.306678</td>\n",
              "      <td>0.667621</td>\n",
              "      <td>0.642431</td>\n",
              "      <td>0.000000</td>\n",
              "      <td>0.090818</td>\n",
              "      <td>0.237725</td>\n",
              "      <td>0.010181</td>\n",
              "      <td>0.232532</td>\n",
              "      <td>0.417668</td>\n",
              "      <td>0.457527</td>\n",
              "      <td>1.000000</td>\n",
              "      <td>0.498636</td>\n",
              "      <td>0.574316</td>\n",
              "      <td>0.590139</td>\n",
              "      <td>0.310647</td>\n",
              "      <td>0.218622</td>\n",
              "      <td>0.429177</td>\n",
              "    </tr>\n",
              "    <tr>\n",
              "      <th>TechSupport</th>\n",
              "      <td>1.0</td>\n",
              "      <td>0.410714</td>\n",
              "      <td>0.113035</td>\n",
              "      <td>0.180169</td>\n",
              "      <td>0.055354</td>\n",
              "      <td>0.270893</td>\n",
              "      <td>0.576163</td>\n",
              "      <td>0.550988</td>\n",
              "      <td>0.000000</td>\n",
              "      <td>0.092485</td>\n",
              "      <td>0.186312</td>\n",
              "      <td>0.096565</td>\n",
              "      <td>0.239149</td>\n",
              "      <td>0.527759</td>\n",
              "      <td>0.444385</td>\n",
              "      <td>0.498636</td>\n",
              "      <td>1.000000</td>\n",
              "      <td>0.421497</td>\n",
              "      <td>0.425211</td>\n",
              "      <td>0.155502</td>\n",
              "      <td>0.103933</td>\n",
              "      <td>0.403311</td>\n",
              "    </tr>\n",
              "    <tr>\n",
              "      <th>StreamingTV</th>\n",
              "      <td>1.0</td>\n",
              "      <td>0.369979</td>\n",
              "      <td>0.164908</td>\n",
              "      <td>0.067123</td>\n",
              "      <td>0.344114</td>\n",
              "      <td>0.377241</td>\n",
              "      <td>0.835680</td>\n",
              "      <td>0.642937</td>\n",
              "      <td>0.000000</td>\n",
              "      <td>0.163223</td>\n",
              "      <td>0.192973</td>\n",
              "      <td>0.017176</td>\n",
              "      <td>0.272629</td>\n",
              "      <td>0.271134</td>\n",
              "      <td>0.427288</td>\n",
              "      <td>0.574316</td>\n",
              "      <td>0.421497</td>\n",
              "      <td>1.000000</td>\n",
              "      <td>0.742780</td>\n",
              "      <td>0.393180</td>\n",
              "      <td>0.200334</td>\n",
              "      <td>0.340939</td>\n",
              "    </tr>\n",
              "    <tr>\n",
              "      <th>StreamingMovies</th>\n",
              "      <td>1.0</td>\n",
              "      <td>0.381092</td>\n",
              "      <td>0.177174</td>\n",
              "      <td>0.070375</td>\n",
              "      <td>0.325351</td>\n",
              "      <td>0.378375</td>\n",
              "      <td>0.833111</td>\n",
              "      <td>0.644346</td>\n",
              "      <td>0.000000</td>\n",
              "      <td>0.185621</td>\n",
              "      <td>0.183090</td>\n",
              "      <td>0.056742</td>\n",
              "      <td>0.272562</td>\n",
              "      <td>0.289137</td>\n",
              "      <td>0.417200</td>\n",
              "      <td>0.590139</td>\n",
              "      <td>0.425211</td>\n",
              "      <td>0.742780</td>\n",
              "      <td>1.000000</td>\n",
              "      <td>0.395191</td>\n",
              "      <td>0.221756</td>\n",
              "      <td>0.338454</td>\n",
              "    </tr>\n",
              "    <tr>\n",
              "      <th>MultipleLines</th>\n",
              "      <td>1.0</td>\n",
              "      <td>0.440017</td>\n",
              "      <td>0.209427</td>\n",
              "      <td>0.065750</td>\n",
              "      <td>0.253299</td>\n",
              "      <td>0.339987</td>\n",
              "      <td>0.676393</td>\n",
              "      <td>0.573224</td>\n",
              "      <td>0.000000</td>\n",
              "      <td>0.221386</td>\n",
              "      <td>0.220874</td>\n",
              "      <td>0.032697</td>\n",
              "      <td>0.225602</td>\n",
              "      <td>0.152640</td>\n",
              "      <td>0.311389</td>\n",
              "      <td>0.310647</td>\n",
              "      <td>0.155502</td>\n",
              "      <td>0.393180</td>\n",
              "      <td>0.395191</td>\n",
              "      <td>1.000000</td>\n",
              "      <td>0.261345</td>\n",
              "      <td>0.397584</td>\n",
              "    </tr>\n",
              "    <tr>\n",
              "      <th>Target</th>\n",
              "      <td>1.0</td>\n",
              "      <td>0.461977</td>\n",
              "      <td>1.000000</td>\n",
              "      <td>0.094622</td>\n",
              "      <td>0.082789</td>\n",
              "      <td>0.214300</td>\n",
              "      <td>0.225823</td>\n",
              "      <td>0.303758</td>\n",
              "      <td>0.008800</td>\n",
              "      <td>0.085708</td>\n",
              "      <td>0.227597</td>\n",
              "      <td>0.048710</td>\n",
              "      <td>0.056279</td>\n",
              "      <td>0.132914</td>\n",
              "      <td>0.229736</td>\n",
              "      <td>0.218622</td>\n",
              "      <td>0.103933</td>\n",
              "      <td>0.200334</td>\n",
              "      <td>0.221756</td>\n",
              "      <td>0.261345</td>\n",
              "      <td>1.000000</td>\n",
              "      <td>0.374101</td>\n",
              "    </tr>\n",
              "    <tr>\n",
              "      <th>Service_duration</th>\n",
              "      <td>1.0</td>\n",
              "      <td>0.978241</td>\n",
              "      <td>0.399183</td>\n",
              "      <td>0.635623</td>\n",
              "      <td>0.018839</td>\n",
              "      <td>0.348275</td>\n",
              "      <td>0.387649</td>\n",
              "      <td>0.847572</td>\n",
              "      <td>0.000000</td>\n",
              "      <td>0.065128</td>\n",
              "      <td>0.450246</td>\n",
              "      <td>0.197317</td>\n",
              "      <td>0.058903</td>\n",
              "      <td>0.394666</td>\n",
              "      <td>0.416097</td>\n",
              "      <td>0.429177</td>\n",
              "      <td>0.403311</td>\n",
              "      <td>0.340939</td>\n",
              "      <td>0.338454</td>\n",
              "      <td>0.397584</td>\n",
              "      <td>0.374101</td>\n",
              "      <td>1.000000</td>\n",
              "    </tr>\n",
              "  </tbody>\n",
              "</table>\n",
              "</div>"
            ],
            "text/plain": [
              "                  customerID  BeginDate   EndDate      Type  PaperlessBilling  \\\n",
              "customerID               1.0   1.000000  1.000000  1.000000          1.000000   \n",
              "BeginDate                1.0   1.000000  0.549761  0.765275          0.078664   \n",
              "EndDate                  1.0   0.549761  1.000000  0.286678          0.062480   \n",
              "Type                     1.0   0.765275  0.286678  1.000000          0.106151   \n",
              "PaperlessBilling         1.0   0.078664  0.062480  0.106151          1.000000   \n",
              "PaymentMethod            1.0   0.467586  0.168837  0.277528          0.368945   \n",
              "MonthlyCharges           1.0   0.421848  0.172986  0.388557          0.467547   \n",
              "TotalCharges             1.0   0.773731  0.215829  0.470700          0.202168   \n",
              "gender                   1.0   0.018540  0.018351  0.000000          0.000000   \n",
              "SeniorCitizen            1.0   0.049516  0.090149  0.085800          0.241715   \n",
              "Partner                  1.0   0.485513  0.178225  0.179294          0.010489   \n",
              "Dependents               1.0   0.201169  0.056795  0.146126          0.170650   \n",
              "InternetService          1.0   0.185601  0.116149  0.503776          0.231145   \n",
              "OnlineSecurity           1.0   0.414870  0.129869  0.152239          0.000000   \n",
              "OnlineBackup             1.0   0.457995  0.203878  0.099016          0.196937   \n",
              "DeviceProtection         1.0   0.468675  0.197905  0.137817          0.161234   \n",
              "TechSupport              1.0   0.410714  0.113035  0.180169          0.055354   \n",
              "StreamingTV              1.0   0.369979  0.164908  0.067123          0.344114   \n",
              "StreamingMovies          1.0   0.381092  0.177174  0.070375          0.325351   \n",
              "MultipleLines            1.0   0.440017  0.209427  0.065750          0.253299   \n",
              "Target                   1.0   0.461977  1.000000  0.094622          0.082789   \n",
              "Service_duration         1.0   0.978241  0.399183  0.635623          0.018839   \n",
              "\n",
              "                  PaymentMethod  MonthlyCharges  TotalCharges    gender  \\\n",
              "customerID             1.000000        1.000000      1.000000  1.000000   \n",
              "BeginDate              0.467586        0.421848      0.773731  0.018540   \n",
              "EndDate                0.168837        0.172986      0.215829  0.018351   \n",
              "Type                   0.277528        0.388557      0.470700  0.000000   \n",
              "PaperlessBilling       0.368945        0.467547      0.202168  0.000000   \n",
              "PaymentMethod          1.000000        0.398849      0.334563  0.000000   \n",
              "MonthlyCharges         0.398849        1.000000      0.711015  0.005522   \n",
              "TotalCharges           0.334563        0.711015      1.000000  0.000000   \n",
              "gender                 0.000000        0.005522      0.000000  1.000000   \n",
              "SeniorCitizen          0.291989        0.304546      0.136856  0.000000   \n",
              "Partner                0.244661        0.204575      0.383135  0.000000   \n",
              "Dependents             0.222859        0.182283      0.085809  0.000000   \n",
              "InternetService        0.323013        0.919005      0.489363  0.000000   \n",
              "OnlineSecurity         0.261704        0.550855      0.522660  0.016788   \n",
              "OnlineBackup           0.282245        0.629276      0.623588  0.007277   \n",
              "DeviceProtection       0.306678        0.667621      0.642431  0.000000   \n",
              "TechSupport            0.270893        0.576163      0.550988  0.000000   \n",
              "StreamingTV            0.377241        0.835680      0.642937  0.000000   \n",
              "StreamingMovies        0.378375        0.833111      0.644346  0.000000   \n",
              "MultipleLines          0.339987        0.676393      0.573224  0.000000   \n",
              "Target                 0.214300        0.225823      0.303758  0.008800   \n",
              "Service_duration       0.348275        0.387649      0.847572  0.000000   \n",
              "\n",
              "                  SeniorCitizen   Partner  Dependents  InternetService  \\\n",
              "customerID             1.000000  1.000000    1.000000         1.000000   \n",
              "BeginDate              0.049516  0.485513    0.201169         0.185601   \n",
              "EndDate                0.090149  0.178225    0.056795         0.116149   \n",
              "Type                   0.085800  0.179294    0.146126         0.503776   \n",
              "PaperlessBilling       0.241715  0.010489    0.170650         0.231145   \n",
              "PaymentMethod          0.291989  0.244661    0.222859         0.323013   \n",
              "MonthlyCharges         0.304546  0.204575    0.182283         0.919005   \n",
              "TotalCharges           0.136856  0.383135    0.085809         0.489363   \n",
              "gender                 0.000000  0.000000    0.000000         0.000000   \n",
              "SeniorCitizen          1.000000  0.018075    0.323629         0.160452   \n",
              "Partner                0.018075  1.000000    0.651635         0.000000   \n",
              "Dependents             0.323629  0.651635    1.000000         0.107328   \n",
              "InternetService        0.160452  0.000000    0.107328         1.000000   \n",
              "OnlineSecurity         0.056897  0.222040    0.124648         0.240905   \n",
              "OnlineBackup           0.102206  0.219762    0.031464         0.233205   \n",
              "DeviceProtection       0.090818  0.237725    0.010181         0.232532   \n",
              "TechSupport            0.092485  0.186312    0.096565         0.239149   \n",
              "StreamingTV            0.163223  0.192973    0.017176         0.272629   \n",
              "StreamingMovies        0.185621  0.183090    0.056742         0.272562   \n",
              "MultipleLines          0.221386  0.220874    0.032697         0.225602   \n",
              "Target                 0.085708  0.227597    0.048710         0.056279   \n",
              "Service_duration       0.065128  0.450246    0.197317         0.058903   \n",
              "\n",
              "                  OnlineSecurity  OnlineBackup  DeviceProtection  TechSupport  \\\n",
              "customerID              1.000000      1.000000          1.000000     1.000000   \n",
              "BeginDate               0.414870      0.457995          0.468675     0.410714   \n",
              "EndDate                 0.129869      0.203878          0.197905     0.113035   \n",
              "Type                    0.152239      0.099016          0.137817     0.180169   \n",
              "PaperlessBilling        0.000000      0.196937          0.161234     0.055354   \n",
              "PaymentMethod           0.261704      0.282245          0.306678     0.270893   \n",
              "MonthlyCharges          0.550855      0.629276          0.667621     0.576163   \n",
              "TotalCharges            0.522660      0.623588          0.642431     0.550988   \n",
              "gender                  0.016788      0.007277          0.000000     0.000000   \n",
              "SeniorCitizen           0.056897      0.102206          0.090818     0.092485   \n",
              "Partner                 0.222040      0.219762          0.237725     0.186312   \n",
              "Dependents              0.124648      0.031464          0.010181     0.096565   \n",
              "InternetService         0.240905      0.233205          0.232532     0.239149   \n",
              "OnlineSecurity          1.000000      0.429646          0.417668     0.527759   \n",
              "OnlineBackup            0.429646      1.000000          0.457527     0.444385   \n",
              "DeviceProtection        0.417668      0.457527          1.000000     0.498636   \n",
              "TechSupport             0.527759      0.444385          0.498636     1.000000   \n",
              "StreamingTV             0.271134      0.427288          0.574316     0.421497   \n",
              "StreamingMovies         0.289137      0.417200          0.590139     0.425211   \n",
              "MultipleLines           0.152640      0.311389          0.310647     0.155502   \n",
              "Target                  0.132914      0.229736          0.218622     0.103933   \n",
              "Service_duration        0.394666      0.416097          0.429177     0.403311   \n",
              "\n",
              "                  StreamingTV  StreamingMovies  MultipleLines    Target  \\\n",
              "customerID           1.000000         1.000000       1.000000  1.000000   \n",
              "BeginDate            0.369979         0.381092       0.440017  0.461977   \n",
              "EndDate              0.164908         0.177174       0.209427  1.000000   \n",
              "Type                 0.067123         0.070375       0.065750  0.094622   \n",
              "PaperlessBilling     0.344114         0.325351       0.253299  0.082789   \n",
              "PaymentMethod        0.377241         0.378375       0.339987  0.214300   \n",
              "MonthlyCharges       0.835680         0.833111       0.676393  0.225823   \n",
              "TotalCharges         0.642937         0.644346       0.573224  0.303758   \n",
              "gender               0.000000         0.000000       0.000000  0.008800   \n",
              "SeniorCitizen        0.163223         0.185621       0.221386  0.085708   \n",
              "Partner              0.192973         0.183090       0.220874  0.227597   \n",
              "Dependents           0.017176         0.056742       0.032697  0.048710   \n",
              "InternetService      0.272629         0.272562       0.225602  0.056279   \n",
              "OnlineSecurity       0.271134         0.289137       0.152640  0.132914   \n",
              "OnlineBackup         0.427288         0.417200       0.311389  0.229736   \n",
              "DeviceProtection     0.574316         0.590139       0.310647  0.218622   \n",
              "TechSupport          0.421497         0.425211       0.155502  0.103933   \n",
              "StreamingTV          1.000000         0.742780       0.393180  0.200334   \n",
              "StreamingMovies      0.742780         1.000000       0.395191  0.221756   \n",
              "MultipleLines        0.393180         0.395191       1.000000  0.261345   \n",
              "Target               0.200334         0.221756       0.261345  1.000000   \n",
              "Service_duration     0.340939         0.338454       0.397584  0.374101   \n",
              "\n",
              "                  Service_duration  \n",
              "customerID                1.000000  \n",
              "BeginDate                 0.978241  \n",
              "EndDate                   0.399183  \n",
              "Type                      0.635623  \n",
              "PaperlessBilling          0.018839  \n",
              "PaymentMethod             0.348275  \n",
              "MonthlyCharges            0.387649  \n",
              "TotalCharges              0.847572  \n",
              "gender                    0.000000  \n",
              "SeniorCitizen             0.065128  \n",
              "Partner                   0.450246  \n",
              "Dependents                0.197317  \n",
              "InternetService           0.058903  \n",
              "OnlineSecurity            0.394666  \n",
              "OnlineBackup              0.416097  \n",
              "DeviceProtection          0.429177  \n",
              "TechSupport               0.403311  \n",
              "StreamingTV               0.340939  \n",
              "StreamingMovies           0.338454  \n",
              "MultipleLines             0.397584  \n",
              "Target                    0.374101  \n",
              "Service_duration          1.000000  "
            ]
          },
          "execution_count": 57,
          "metadata": {},
          "output_type": "execute_result"
        }
      ],
      "source": [
        "data.phik_matrix()"
      ]
    },
    {
      "cell_type": "markdown",
      "metadata": {
        "id": "u1lzNSvyS-kX"
      },
      "source": [
        "Меджу двумя числовыми признаками MonthlyCharges и TotalCharges присутствует сильная положительная корреляция. Также присутствует сильная положительная корреляция между MonthlyCharges и InternetService,  StreamingTV,\tStreamingMovies и умеренная между MonthlyCharges и другими доп. услугами. Между TotalCharges и доп. услугами присутствует умеренная корреляция. между TotalCharges и Service_duration сильная корреляция."
      ]
    },
    {
      "cell_type": "markdown",
      "metadata": {
        "id": "72dxjmpES-kY"
      },
      "source": [
        "##3 Обучение моделей"
      ]
    },
    {
      "cell_type": "markdown",
      "metadata": {
        "id": "NAS_mHexS-kY"
      },
      "source": [
        "###3.1 Подготовка выборок для обучения моделей"
      ]
    },
    {
      "cell_type": "code",
      "execution_count": null,
      "metadata": {
        "id": "PChRn0AZS-kY"
      },
      "outputs": [],
      "source": [
        "RANDOM_STATE = 140823"
      ]
    },
    {
      "cell_type": "code",
      "execution_count": null,
      "metadata": {
        "id": "RqMcB_7XS-kY"
      },
      "outputs": [],
      "source": [
        "target = data['Target']\n",
        "features = data.drop(['customerID', 'Target', 'BeginDate', 'EndDate','TotalCharges'], axis=1)"
      ]
    },
    {
      "cell_type": "code",
      "execution_count": null,
      "metadata": {
        "id": "9tsjuBSsS-kZ",
        "outputId": "3c2a3698-563e-448f-dbec-f57b6c264690"
      },
      "outputs": [
        {
          "data": {
            "text/plain": [
              "((7032,), (7032, 17))"
            ]
          },
          "execution_count": 60,
          "metadata": {},
          "output_type": "execute_result"
        }
      ],
      "source": [
        "target.shape, features.shape"
      ]
    },
    {
      "cell_type": "code",
      "execution_count": null,
      "metadata": {
        "id": "SUorhlhTS-kZ"
      },
      "outputs": [],
      "source": [
        "features_train, features_test, target_train, target_test = train_test_split(features, target,\n",
        "                                                                            test_size=0.25,\n",
        "                                                                            random_state=RANDOM_STATE,\n",
        "                                                                            stratify=target)"
      ]
    },
    {
      "cell_type": "code",
      "execution_count": null,
      "metadata": {
        "id": "euKcu6OLS-kZ",
        "outputId": "7aabc17c-9f09-460c-98f6-5accbed62956"
      },
      "outputs": [
        {
          "data": {
            "text/plain": [
              "((5274, 17), (1758, 17), (5274,), (1758,))"
            ]
          },
          "execution_count": 62,
          "metadata": {},
          "output_type": "execute_result"
        }
      ],
      "source": [
        "features_train.shape, features_test.shape, target_train.shape, target_test.shape"
      ]
    },
    {
      "cell_type": "code",
      "execution_count": null,
      "metadata": {
        "id": "Ho8OT5DSS-kZ",
        "outputId": "0871b0a3-08de-4ff1-cdc7-a6ec81067897"
      },
      "outputs": [
        {
          "data": {
            "text/plain": [
              "['MonthlyCharges', 'Service_duration']"
            ]
          },
          "execution_count": 63,
          "metadata": {},
          "output_type": "execute_result"
        }
      ],
      "source": [
        "num_features = features_train.select_dtypes(exclude='object').columns.to_list()\n",
        "num_features.remove('SeniorCitizen')\n",
        "num_features"
      ]
    },
    {
      "cell_type": "code",
      "execution_count": null,
      "metadata": {
        "id": "Usrj8mB5S-ka",
        "outputId": "3f993c9a-f35a-47ea-fca3-086d8aeb0083"
      },
      "outputs": [
        {
          "data": {
            "text/plain": [
              "['Type',\n",
              " 'PaperlessBilling',\n",
              " 'PaymentMethod',\n",
              " 'gender',\n",
              " 'Partner',\n",
              " 'Dependents',\n",
              " 'InternetService',\n",
              " 'OnlineSecurity',\n",
              " 'OnlineBackup',\n",
              " 'DeviceProtection',\n",
              " 'TechSupport',\n",
              " 'StreamingTV',\n",
              " 'StreamingMovies',\n",
              " 'MultipleLines']"
            ]
          },
          "execution_count": 64,
          "metadata": {},
          "output_type": "execute_result"
        }
      ],
      "source": [
        "categ_features = features_train.select_dtypes(include='object').columns.to_list()\n",
        "categ_features"
      ]
    },
    {
      "cell_type": "markdown",
      "metadata": {
        "id": "W51uUJIdS-ka"
      },
      "source": [
        "Для обучения будут использоваться все признаки кроме 'customerID'(т.к. это просто индентификатор клиента), 'BeginDate', 'EndDate' и 'TotalCharges'(это просто суммирующий нарастающим итогом столбец, кроме того мы наблюдали сильную корреляцию между MonthlyCharges и TotalCharges). Данные были разбиты на обучающую и тестовую выборки. Были созданы списки с наименованием столбцов с числовыми и категориальными признаками."
      ]
    },
    {
      "cell_type": "markdown",
      "metadata": {
        "id": "gH0KKQLuS-ka"
      },
      "source": [
        "###3.2 Обучение моделей и оценка их качества кросс-валидацией"
      ]
    },
    {
      "cell_type": "markdown",
      "metadata": {
        "id": "SUrqX67fS-ka"
      },
      "source": [
        "####3.2.1 LogisticRegression"
      ]
    },
    {
      "cell_type": "code",
      "execution_count": null,
      "metadata": {
        "id": "FRP_w948S-kb",
        "outputId": "89156de9-aa56-4534-d6e3-6fd379b8ef74"
      },
      "outputs": [
        {
          "name": "stdout",
          "output_type": "stream",
          "text": [
            "AUC-ROC наилучшей модели: 0.7596319859638501\n",
            "Accuracy: 0.6981418563450452\n",
            "Параметры наилучшей модели: {'logisticregression__solver': 'newton-cg', 'logisticregression__C': 0.1}\n"
          ]
        }
      ],
      "source": [
        "col_transformer_lr = make_column_transformer(\n",
        "    (\n",
        "        OneHotEncoder(handle_unknown='ignore', sparse=False),\n",
        "        categ_features\n",
        "    ),\n",
        "\n",
        "    (\n",
        "        StandardScaler(),\n",
        "        num_features\n",
        "    ),\n",
        "        remainder='passthrough'\n",
        ")\n",
        "model_lr = LogisticRegression(random_state=RANDOM_STATE, class_weight='balanced')\n",
        "pipline_lr = make_pipeline(col_transformer_lr, model_lr)\n",
        "param_lr = {\n",
        "      'logisticregression__solver': ('lbfgs', 'liblinear', 'newton-cg', 'newton-cholesky', 'sag', 'saga'),\n",
        "      'logisticregression__C': [0.05, 0.1, 0.5, 1, 2]\n",
        "           }\n",
        "rs_lr = RandomizedSearchCV(\n",
        "                pipline_lr,\n",
        "                param_distributions = param_lr,\n",
        "                scoring='roc_auc',\n",
        "                n_jobs=-1,\n",
        "                random_state=RANDOM_STATE,\n",
        "                cv=5\n",
        "                          )\n",
        "rs_lr.fit(features_train, target_train)\n",
        "rs_lr_best_score = rs_lr.best_score_\n",
        "rs_lr_best_params = rs_lr.best_params_\n",
        "acc_lr = cross_val_score(rs_lr.best_estimator_, features_train, target_train, cv=5, scoring='accuracy').mean()\n",
        "print('AUC-ROC наилучшей модели:', rs_lr_best_score)\n",
        "print('Accuracy:', acc_lr)\n",
        "print('Параметры наилучшей модели:', rs_lr_best_params)"
      ]
    },
    {
      "cell_type": "markdown",
      "metadata": {
        "id": "oKfi1kcaS-kb"
      },
      "source": [
        "Модель LogisticRegression была обучена и проверена кросс-валидацией с использованием pipeline, внутри которого данные были закодированы и масштабированы. Лучший результат с метриками качества AUC-ROC: 0.7596319859638501, Accuracy: 0.6981418563450452 показала модель с параметрами 'logisticregression__solver': 'newton-cg', 'logisticregression__C': 0.1."
      ]
    },
    {
      "cell_type": "markdown",
      "metadata": {
        "id": "ETP5Ao6CS-kc"
      },
      "source": [
        "####3.2.2 RandomForestClassifier"
      ]
    },
    {
      "cell_type": "code",
      "execution_count": null,
      "metadata": {
        "id": "z-EfjHbpS-kc",
        "outputId": "c886bad1-0573-459a-8eab-cd4d40795260"
      },
      "outputs": [
        {
          "name": "stdout",
          "output_type": "stream",
          "text": [
            "AUC-ROC наилучшей модели: 0.8216693688105656\n",
            "Accuracy: 0.8073566733891611\n",
            "Параметры наилучшей модели: {'randomforestclassifier__n_estimators': 150, 'randomforestclassifier__min_samples_split': 4, 'randomforestclassifier__min_samples_leaf': 3, 'randomforestclassifier__max_depth': 8, 'randomforestclassifier__criterion': 'entropy'}\n"
          ]
        }
      ],
      "source": [
        "col_transformer_rf = make_column_transformer(\n",
        "    (\n",
        "        OneHotEncoder(handle_unknown='ignore', sparse=False),\n",
        "        categ_features\n",
        "    ),\n",
        "       remainder='passthrough'\n",
        ")\n",
        "model_rf = RandomForestClassifier(random_state=RANDOM_STATE, class_weight='balanced')\n",
        "\n",
        "pipline_rf = make_pipeline(col_transformer_rf, model_rf)\n",
        "\n",
        "param_rf = {\n",
        "    'randomforestclassifier__n_estimators': range(50, 351, 50),\n",
        "    'randomforestclassifier__max_depth': range(2, 15),\n",
        "    'randomforestclassifier__min_samples_split': (2, 3, 4),\n",
        "    'randomforestclassifier__min_samples_leaf': (1, 2, 3, 4),\n",
        "    'randomforestclassifier__criterion': ('gini', 'entropy', 'log_loss')\n",
        "    }\n",
        "\n",
        "rs_rf = RandomizedSearchCV(\n",
        "    pipline_rf,\n",
        "    param_distributions=param_rf,\n",
        "    scoring='roc_auc',\n",
        "    n_jobs=-1,\n",
        "    random_state=RANDOM_STATE,\n",
        "    cv=4\n",
        ")\n",
        "\n",
        "rs_rf.fit(features_train, target_train)\n",
        "acc_rf = cross_val_score(rs_rf.best_estimator_, features_train, target_train, cv=4, scoring='accuracy').mean()\n",
        "rs_rf_best_score = rs_rf.best_score_\n",
        "rs_rf_best_params = rs_rf.best_params_\n",
        "print('AUC-ROC наилучшей модели:', rs_rf_best_score)\n",
        "print('Accuracy:', acc_rf)\n",
        "print('Параметры наилучшей модели:', rs_rf_best_params)"
      ]
    },
    {
      "cell_type": "markdown",
      "metadata": {
        "id": "gV94cuIYS-kd"
      },
      "source": [
        "Модель RandomForestClassifier была обучена и проверена кросс-валидацией с использованием pipeline, внутри которого данные были закодированы. Лучший результат с метриками качества AUC-ROC: 0.8216693688105656, Accuracy: 0.8073566733891611 показала модель с параметрами 'randomforestclassifier__n_estimators': 150, 'randomforestclassifier__min_samples_split': 4, 'randomforestclassifier__min_samples_leaf': 3, 'randomforestclassifier__max_depth': 8, 'randomforestclassifier__criterion': 'entropy'."
      ]
    },
    {
      "cell_type": "markdown",
      "metadata": {
        "id": "UgazTfJ3S-ke"
      },
      "source": [
        "####3.2.3 CatBoostClassifier"
      ]
    },
    {
      "cell_type": "code",
      "execution_count": null,
      "metadata": {
        "id": "liZ6dd6-S-ke",
        "outputId": "e1d16812-04d4-415e-b6e7-5586c11d5f02"
      },
      "outputs": [
        {
          "name": "stdout",
          "output_type": "stream",
          "text": [
            "Learning rate set to 0.055898\n",
            "0:\ttotal: 79.8ms\tremaining: 23.9s\n",
            "50:\ttotal: 7.49s\tremaining: 36.6s\n",
            "100:\ttotal: 13.6s\tremaining: 26.8s\n",
            "150:\ttotal: 22.3s\tremaining: 22s\n",
            "200:\ttotal: 42.5s\tremaining: 20.9s\n",
            "250:\ttotal: 1m 3s\tremaining: 12.3s\n",
            "299:\ttotal: 1m 25s\tremaining: 0us\n",
            "Learning rate set to 0.055898\n",
            "0:\ttotal: 476ms\tremaining: 2m 22s\n",
            "50:\ttotal: 9.24s\tremaining: 45.1s\n",
            "100:\ttotal: 17.2s\tremaining: 33.8s\n",
            "150:\ttotal: 23.6s\tremaining: 23.2s\n",
            "200:\ttotal: 42.3s\tremaining: 20.8s\n",
            "250:\ttotal: 1m 5s\tremaining: 12.9s\n",
            "299:\ttotal: 1m 26s\tremaining: 0us\n",
            "Learning rate set to 0.055904\n",
            "0:\ttotal: 16.7ms\tremaining: 5s\n",
            "50:\ttotal: 7.47s\tremaining: 36.5s\n",
            "100:\ttotal: 14.5s\tremaining: 28.6s\n",
            "150:\ttotal: 25.4s\tremaining: 25.1s\n",
            "200:\ttotal: 44.2s\tremaining: 21.8s\n",
            "250:\ttotal: 1m 7s\tremaining: 13.1s\n",
            "299:\ttotal: 1m 29s\tremaining: 0us\n",
            "Learning rate set to 0.055904\n",
            "0:\ttotal: 18.6ms\tremaining: 5.57s\n",
            "50:\ttotal: 10.6s\tremaining: 51.7s\n",
            "100:\ttotal: 17.2s\tremaining: 33.8s\n",
            "150:\ttotal: 26.5s\tremaining: 26.2s\n",
            "200:\ttotal: 46.9s\tremaining: 23.1s\n",
            "250:\ttotal: 1m 9s\tremaining: 13.5s\n",
            "299:\ttotal: 1m 31s\tremaining: 0us\n",
            "Learning rate set to 0.081072\n",
            "0:\ttotal: 6.57ms\tremaining: 1.31s\n",
            "50:\ttotal: 292ms\tremaining: 852ms\n",
            "100:\ttotal: 553ms\tremaining: 542ms\n",
            "150:\ttotal: 870ms\tremaining: 282ms\n",
            "199:\ttotal: 1.2s\tremaining: 0us\n",
            "Learning rate set to 0.081072\n",
            "0:\ttotal: 7.74ms\tremaining: 1.54s\n",
            "50:\ttotal: 311ms\tremaining: 909ms\n",
            "100:\ttotal: 562ms\tremaining: 551ms\n",
            "150:\ttotal: 893ms\tremaining: 290ms\n",
            "199:\ttotal: 1.26s\tremaining: 0us\n",
            "Learning rate set to 0.081081\n",
            "0:\ttotal: 11.4ms\tremaining: 2.27s\n",
            "50:\ttotal: 331ms\tremaining: 967ms\n",
            "100:\ttotal: 617ms\tremaining: 605ms\n",
            "150:\ttotal: 966ms\tremaining: 314ms\n",
            "199:\ttotal: 1.36s\tremaining: 0us\n",
            "Learning rate set to 0.081081\n",
            "0:\ttotal: 10.6ms\tremaining: 2.11s\n",
            "50:\ttotal: 352ms\tremaining: 1.03s\n",
            "100:\ttotal: 632ms\tremaining: 620ms\n",
            "150:\ttotal: 988ms\tremaining: 321ms\n",
            "199:\ttotal: 1.34s\tremaining: 0us\n",
            "Learning rate set to 0.081072\n",
            "0:\ttotal: 24.5ms\tremaining: 4.87s\n",
            "50:\ttotal: 7.04s\tremaining: 20.6s\n",
            "100:\ttotal: 16.4s\tremaining: 16s\n",
            "150:\ttotal: 35.6s\tremaining: 11.5s\n",
            "199:\ttotal: 57.4s\tremaining: 0us\n",
            "Learning rate set to 0.081072\n",
            "0:\ttotal: 466ms\tremaining: 1m 32s\n",
            "50:\ttotal: 9.33s\tremaining: 27.3s\n",
            "100:\ttotal: 18.5s\tremaining: 18.2s\n",
            "150:\ttotal: 38.1s\tremaining: 12.4s\n",
            "199:\ttotal: 59.7s\tremaining: 0us\n",
            "Learning rate set to 0.081081\n",
            "0:\ttotal: 10.2ms\tremaining: 2.03s\n",
            "50:\ttotal: 7.01s\tremaining: 20.5s\n",
            "100:\ttotal: 15.2s\tremaining: 14.9s\n",
            "150:\ttotal: 35.5s\tremaining: 11.5s\n",
            "199:\ttotal: 56.7s\tremaining: 0us\n",
            "Learning rate set to 0.081081\n",
            "0:\ttotal: 15.9ms\tremaining: 3.16s\n",
            "50:\ttotal: 5.62s\tremaining: 16.4s\n",
            "100:\ttotal: 13.3s\tremaining: 13.1s\n",
            "150:\ttotal: 30s\tremaining: 9.72s\n",
            "199:\ttotal: 50.1s\tremaining: 0us\n",
            "Learning rate set to 0.055898\n",
            "0:\ttotal: 6.5ms\tremaining: 1.94s\n",
            "50:\ttotal: 275ms\tremaining: 1.34s\n",
            "100:\ttotal: 510ms\tremaining: 1s\n",
            "150:\ttotal: 741ms\tremaining: 731ms\n",
            "200:\ttotal: 1.06s\tremaining: 525ms\n",
            "250:\ttotal: 1.39s\tremaining: 271ms\n",
            "299:\ttotal: 1.71s\tremaining: 0us\n",
            "Learning rate set to 0.055898\n",
            "0:\ttotal: 6.96ms\tremaining: 2.08s\n",
            "50:\ttotal: 279ms\tremaining: 1.36s\n",
            "100:\ttotal: 539ms\tremaining: 1.06s\n",
            "150:\ttotal: 806ms\tremaining: 795ms\n",
            "200:\ttotal: 1.12s\tremaining: 552ms\n",
            "250:\ttotal: 1.44s\tremaining: 282ms\n",
            "299:\ttotal: 1.8s\tremaining: 0us\n",
            "Learning rate set to 0.055904\n",
            "0:\ttotal: 11.7ms\tremaining: 3.51s\n",
            "50:\ttotal: 320ms\tremaining: 1.56s\n",
            "100:\ttotal: 554ms\tremaining: 1.09s\n",
            "150:\ttotal: 804ms\tremaining: 793ms\n",
            "200:\ttotal: 1.11s\tremaining: 546ms\n",
            "250:\ttotal: 1.44s\tremaining: 281ms\n",
            "299:\ttotal: 1.78s\tremaining: 0us\n",
            "Learning rate set to 0.055904\n",
            "0:\ttotal: 13.1ms\tremaining: 3.92s\n",
            "50:\ttotal: 338ms\tremaining: 1.65s\n",
            "100:\ttotal: 622ms\tremaining: 1.23s\n",
            "150:\ttotal: 902ms\tremaining: 890ms\n",
            "200:\ttotal: 1.25s\tremaining: 614ms\n",
            "250:\ttotal: 1.6s\tremaining: 313ms\n",
            "299:\ttotal: 1.97s\tremaining: 0us\n",
            "Learning rate set to 0.055898\n",
            "0:\ttotal: 30.9ms\tremaining: 9.23s\n",
            "50:\ttotal: 2.41s\tremaining: 11.8s\n",
            "100:\ttotal: 4.15s\tremaining: 8.18s\n",
            "150:\ttotal: 6.51s\tremaining: 6.42s\n",
            "200:\ttotal: 10.6s\tremaining: 5.23s\n",
            "250:\ttotal: 15.1s\tremaining: 2.95s\n",
            "299:\ttotal: 19.6s\tremaining: 0us\n",
            "Learning rate set to 0.055898\n",
            "0:\ttotal: 107ms\tremaining: 32s\n",
            "50:\ttotal: 2.69s\tremaining: 13.1s\n",
            "100:\ttotal: 4.36s\tremaining: 8.59s\n",
            "150:\ttotal: 6.16s\tremaining: 6.08s\n",
            "200:\ttotal: 10.2s\tremaining: 5.03s\n",
            "250:\ttotal: 14.7s\tremaining: 2.88s\n",
            "299:\ttotal: 19s\tremaining: 0us\n",
            "Learning rate set to 0.055904\n",
            "0:\ttotal: 10.2ms\tremaining: 3.04s\n",
            "50:\ttotal: 2.53s\tremaining: 12.4s\n",
            "100:\ttotal: 4.19s\tremaining: 8.25s\n",
            "150:\ttotal: 5.83s\tremaining: 5.75s\n",
            "200:\ttotal: 9.57s\tremaining: 4.72s\n",
            "250:\ttotal: 13.8s\tremaining: 2.7s\n",
            "299:\ttotal: 18s\tremaining: 0us\n",
            "Learning rate set to 0.055904\n",
            "0:\ttotal: 12.4ms\tremaining: 3.7s\n",
            "50:\ttotal: 1.75s\tremaining: 8.53s\n",
            "100:\ttotal: 3.25s\tremaining: 6.41s\n",
            "150:\ttotal: 5.21s\tremaining: 5.14s\n",
            "200:\ttotal: 9.15s\tremaining: 4.51s\n",
            "250:\ttotal: 13.4s\tremaining: 2.62s\n",
            "299:\ttotal: 17.7s\tremaining: 0us\n",
            "Learning rate set to 0.081072\n",
            "0:\ttotal: 27.3ms\tremaining: 5.44s\n",
            "50:\ttotal: 4.28s\tremaining: 12.5s\n",
            "100:\ttotal: 7.48s\tremaining: 7.33s\n",
            "150:\ttotal: 15s\tremaining: 4.87s\n",
            "199:\ttotal: 23.5s\tremaining: 0us\n",
            "Learning rate set to 0.081072\n",
            "0:\ttotal: 284ms\tremaining: 56.5s\n",
            "50:\ttotal: 4.57s\tremaining: 13.3s\n",
            "100:\ttotal: 7.43s\tremaining: 7.28s\n",
            "150:\ttotal: 15s\tremaining: 4.86s\n",
            "199:\ttotal: 23.4s\tremaining: 0us\n",
            "Learning rate set to 0.081081\n",
            "0:\ttotal: 10.9ms\tremaining: 2.16s\n",
            "50:\ttotal: 4.54s\tremaining: 13.3s\n",
            "100:\ttotal: 7.72s\tremaining: 7.57s\n",
            "150:\ttotal: 15.6s\tremaining: 5.08s\n",
            "199:\ttotal: 24.2s\tremaining: 0us\n",
            "Learning rate set to 0.081081\n",
            "0:\ttotal: 13.4ms\tremaining: 2.67s\n",
            "50:\ttotal: 3.37s\tremaining: 9.83s\n",
            "100:\ttotal: 6.14s\tremaining: 6.02s\n",
            "150:\ttotal: 14.1s\tremaining: 4.59s\n",
            "199:\ttotal: 23.2s\tremaining: 0us\n",
            "Learning rate set to 0.048529\n",
            "0:\ttotal: 21.3ms\tremaining: 7.43s\n",
            "50:\ttotal: 708ms\tremaining: 4.15s\n",
            "100:\ttotal: 1.29s\tremaining: 3.19s\n",
            "150:\ttotal: 1.94s\tremaining: 2.55s\n",
            "200:\ttotal: 2.84s\tremaining: 2.1s\n",
            "250:\ttotal: 4.01s\tremaining: 1.58s\n",
            "300:\ttotal: 5.23s\tremaining: 851ms\n",
            "349:\ttotal: 6.4s\tremaining: 0us\n",
            "Learning rate set to 0.048529\n",
            "0:\ttotal: 29.4ms\tremaining: 10.3s\n",
            "50:\ttotal: 873ms\tremaining: 5.12s\n",
            "100:\ttotal: 1.51s\tremaining: 3.73s\n",
            "150:\ttotal: 2.13s\tremaining: 2.81s\n",
            "200:\ttotal: 3.05s\tremaining: 2.26s\n",
            "250:\ttotal: 4.19s\tremaining: 1.65s\n",
            "300:\ttotal: 5.36s\tremaining: 872ms\n",
            "349:\ttotal: 6.5s\tremaining: 0us\n",
            "Learning rate set to 0.048535\n",
            "0:\ttotal: 15.4ms\tremaining: 5.37s\n",
            "50:\ttotal: 687ms\tremaining: 4.03s\n",
            "100:\ttotal: 1.32s\tremaining: 3.25s\n",
            "150:\ttotal: 1.97s\tremaining: 2.6s\n",
            "200:\ttotal: 2.82s\tremaining: 2.09s\n",
            "250:\ttotal: 4.09s\tremaining: 1.61s\n",
            "300:\ttotal: 5.37s\tremaining: 874ms\n",
            "349:\ttotal: 6.71s\tremaining: 0us\n",
            "Learning rate set to 0.048535\n",
            "0:\ttotal: 17.9ms\tremaining: 6.23s\n",
            "50:\ttotal: 744ms\tremaining: 4.36s\n",
            "100:\ttotal: 1.47s\tremaining: 3.63s\n",
            "150:\ttotal: 2.23s\tremaining: 2.94s\n",
            "200:\ttotal: 3.11s\tremaining: 2.31s\n",
            "250:\ttotal: 4.33s\tremaining: 1.71s\n",
            "300:\ttotal: 5.44s\tremaining: 886ms\n",
            "349:\ttotal: 6.55s\tremaining: 0us\n",
            "Learning rate set to 0.055898\n",
            "0:\ttotal: 19.3ms\tremaining: 5.77s\n",
            "50:\ttotal: 955ms\tremaining: 4.66s\n",
            "100:\ttotal: 1.58s\tremaining: 3.11s\n",
            "150:\ttotal: 2.41s\tremaining: 2.38s\n",
            "200:\ttotal: 3.41s\tremaining: 1.68s\n",
            "250:\ttotal: 4.69s\tremaining: 915ms\n",
            "299:\ttotal: 5.97s\tremaining: 0us\n",
            "Learning rate set to 0.055898\n",
            "0:\ttotal: 39.7ms\tremaining: 11.9s\n",
            "50:\ttotal: 766ms\tremaining: 3.74s\n",
            "100:\ttotal: 1.41s\tremaining: 2.78s\n",
            "150:\ttotal: 2.12s\tremaining: 2.09s\n",
            "200:\ttotal: 3.14s\tremaining: 1.54s\n",
            "250:\ttotal: 4.39s\tremaining: 857ms\n",
            "299:\ttotal: 5.67s\tremaining: 0us\n",
            "Learning rate set to 0.055904\n",
            "0:\ttotal: 16.3ms\tremaining: 4.87s\n",
            "50:\ttotal: 802ms\tremaining: 3.91s\n",
            "100:\ttotal: 1.42s\tremaining: 2.8s\n",
            "150:\ttotal: 2.14s\tremaining: 2.11s\n",
            "200:\ttotal: 3.09s\tremaining: 1.52s\n",
            "250:\ttotal: 4.33s\tremaining: 845ms\n",
            "299:\ttotal: 5.44s\tremaining: 0us\n",
            "Learning rate set to 0.055904\n",
            "0:\ttotal: 14.7ms\tremaining: 4.4s\n",
            "50:\ttotal: 744ms\tremaining: 3.63s\n",
            "100:\ttotal: 1.4s\tremaining: 2.75s\n",
            "150:\ttotal: 1.97s\tremaining: 1.95s\n",
            "200:\ttotal: 3.08s\tremaining: 1.52s\n",
            "250:\ttotal: 4.22s\tremaining: 825ms\n",
            "299:\ttotal: 5.29s\tremaining: 0us\n",
            "Learning rate set to 0.153079\n",
            "0:\ttotal: 25.8ms\tremaining: 2.56s\n",
            "50:\ttotal: 636ms\tremaining: 611ms\n",
            "99:\ttotal: 1.64s\tremaining: 0us\n",
            "Learning rate set to 0.153079\n",
            "0:\ttotal: 22.5ms\tremaining: 2.22s\n",
            "50:\ttotal: 678ms\tremaining: 652ms\n",
            "99:\ttotal: 1.48s\tremaining: 0us\n",
            "Learning rate set to 0.153096\n",
            "0:\ttotal: 17.8ms\tremaining: 1.76s\n",
            "50:\ttotal: 620ms\tremaining: 595ms\n",
            "99:\ttotal: 1.59s\tremaining: 0us\n",
            "Learning rate set to 0.153096\n",
            "0:\ttotal: 16.3ms\tremaining: 1.61s\n",
            "50:\ttotal: 808ms\tremaining: 776ms\n",
            "99:\ttotal: 1.68s\tremaining: 0us\n",
            "Learning rate set to 0.105546\n",
            "0:\ttotal: 2.33ms\tremaining: 347ms\n",
            "50:\ttotal: 138ms\tremaining: 267ms\n",
            "100:\ttotal: 272ms\tremaining: 132ms\n",
            "149:\ttotal: 387ms\tremaining: 0us\n",
            "Learning rate set to 0.105546\n",
            "0:\ttotal: 3.96ms\tremaining: 590ms\n",
            "50:\ttotal: 159ms\tremaining: 308ms\n",
            "100:\ttotal: 262ms\tremaining: 127ms\n",
            "149:\ttotal: 410ms\tremaining: 0us\n",
            "Learning rate set to 0.105557\n",
            "0:\ttotal: 3.17ms\tremaining: 473ms\n",
            "50:\ttotal: 111ms\tremaining: 216ms\n",
            "100:\ttotal: 221ms\tremaining: 107ms\n",
            "149:\ttotal: 333ms\tremaining: 0us\n",
            "Learning rate set to 0.105557\n",
            "0:\ttotal: 3.85ms\tremaining: 574ms\n",
            "50:\ttotal: 134ms\tremaining: 261ms\n",
            "100:\ttotal: 276ms\tremaining: 134ms\n",
            "149:\ttotal: 413ms\tremaining: 0us\n",
            "Learning rate set to 0.063207\n",
            "0:\ttotal: 11.7ms\tremaining: 3.5s\n",
            "50:\ttotal: 429ms\tremaining: 2.09s\n",
            "100:\ttotal: 786ms\tremaining: 1.55s\n",
            "150:\ttotal: 1.18s\tremaining: 1.16s\n",
            "200:\ttotal: 1.64s\tremaining: 806ms\n",
            "250:\ttotal: 2.15s\tremaining: 420ms\n",
            "299:\ttotal: 2.58s\tremaining: 0us\n",
            "Learning rate set to 0.057462\n",
            "0:\ttotal: 14.6ms\tremaining: 4.37s\n",
            "1:\ttotal: 28.8ms\tremaining: 4.3s\n",
            "2:\ttotal: 40ms\tremaining: 3.96s\n",
            "3:\ttotal: 48.3ms\tremaining: 3.57s\n",
            "4:\ttotal: 58ms\tremaining: 3.42s\n",
            "5:\ttotal: 67.1ms\tremaining: 3.29s\n",
            "6:\ttotal: 74.5ms\tremaining: 3.12s\n",
            "7:\ttotal: 84.7ms\tremaining: 3.09s\n",
            "8:\ttotal: 93ms\tremaining: 3.01s\n",
            "9:\ttotal: 101ms\tremaining: 2.93s\n",
            "10:\ttotal: 111ms\tremaining: 2.9s\n",
            "11:\ttotal: 118ms\tremaining: 2.83s\n",
            "12:\ttotal: 123ms\tremaining: 2.72s\n",
            "13:\ttotal: 132ms\tremaining: 2.69s\n",
            "14:\ttotal: 142ms\tremaining: 2.69s\n",
            "15:\ttotal: 153ms\tremaining: 2.71s\n",
            "16:\ttotal: 161ms\tremaining: 2.68s\n",
            "17:\ttotal: 171ms\tremaining: 2.68s\n",
            "18:\ttotal: 179ms\tremaining: 2.65s\n",
            "19:\ttotal: 189ms\tremaining: 2.65s\n",
            "20:\ttotal: 199ms\tremaining: 2.64s\n",
            "21:\ttotal: 209ms\tremaining: 2.64s\n",
            "22:\ttotal: 219ms\tremaining: 2.64s\n",
            "23:\ttotal: 230ms\tremaining: 2.65s\n",
            "24:\ttotal: 240ms\tremaining: 2.64s\n",
            "25:\ttotal: 248ms\tremaining: 2.62s\n",
            "26:\ttotal: 255ms\tremaining: 2.57s\n",
            "27:\ttotal: 262ms\tremaining: 2.54s\n",
            "28:\ttotal: 270ms\tremaining: 2.52s\n",
            "29:\ttotal: 279ms\tremaining: 2.51s\n",
            "30:\ttotal: 284ms\tremaining: 2.46s\n",
            "31:\ttotal: 292ms\tremaining: 2.45s\n",
            "32:\ttotal: 301ms\tremaining: 2.44s\n",
            "33:\ttotal: 313ms\tremaining: 2.45s\n",
            "34:\ttotal: 320ms\tremaining: 2.42s\n",
            "35:\ttotal: 328ms\tremaining: 2.41s\n",
            "36:\ttotal: 333ms\tremaining: 2.37s\n",
            "37:\ttotal: 343ms\tremaining: 2.36s\n",
            "38:\ttotal: 353ms\tremaining: 2.36s\n",
            "39:\ttotal: 363ms\tremaining: 2.36s\n",
            "40:\ttotal: 368ms\tremaining: 2.32s\n",
            "41:\ttotal: 377ms\tremaining: 2.32s\n",
            "42:\ttotal: 387ms\tremaining: 2.31s\n",
            "43:\ttotal: 397ms\tremaining: 2.31s\n",
            "44:\ttotal: 403ms\tremaining: 2.28s\n",
            "45:\ttotal: 414ms\tremaining: 2.29s\n",
            "46:\ttotal: 421ms\tremaining: 2.27s\n",
            "47:\ttotal: 429ms\tremaining: 2.25s\n",
            "48:\ttotal: 435ms\tremaining: 2.23s\n",
            "49:\ttotal: 441ms\tremaining: 2.21s\n",
            "50:\ttotal: 446ms\tremaining: 2.18s\n",
            "51:\ttotal: 453ms\tremaining: 2.16s\n",
            "52:\ttotal: 455ms\tremaining: 2.12s\n",
            "53:\ttotal: 464ms\tremaining: 2.11s\n",
            "54:\ttotal: 472ms\tremaining: 2.1s\n",
            "55:\ttotal: 481ms\tremaining: 2.1s\n",
            "56:\ttotal: 493ms\tremaining: 2.1s\n",
            "57:\ttotal: 506ms\tremaining: 2.11s\n",
            "58:\ttotal: 517ms\tremaining: 2.11s\n",
            "59:\ttotal: 524ms\tremaining: 2.09s\n",
            "60:\ttotal: 527ms\tremaining: 2.06s\n",
            "61:\ttotal: 531ms\tremaining: 2.04s\n",
            "62:\ttotal: 538ms\tremaining: 2.02s\n",
            "63:\ttotal: 542ms\tremaining: 2s\n",
            "64:\ttotal: 553ms\tremaining: 2s\n",
            "65:\ttotal: 564ms\tremaining: 2s\n",
            "66:\ttotal: 568ms\tremaining: 1.98s\n",
            "67:\ttotal: 579ms\tremaining: 1.97s\n",
            "68:\ttotal: 583ms\tremaining: 1.95s\n",
            "69:\ttotal: 587ms\tremaining: 1.93s\n",
            "70:\ttotal: 596ms\tremaining: 1.92s\n",
            "71:\ttotal: 603ms\tremaining: 1.91s\n",
            "72:\ttotal: 610ms\tremaining: 1.9s\n",
            "73:\ttotal: 614ms\tremaining: 1.88s\n",
            "74:\ttotal: 619ms\tremaining: 1.86s\n",
            "75:\ttotal: 627ms\tremaining: 1.85s\n",
            "76:\ttotal: 634ms\tremaining: 1.83s\n",
            "77:\ttotal: 644ms\tremaining: 1.83s\n",
            "78:\ttotal: 655ms\tremaining: 1.83s\n",
            "79:\ttotal: 665ms\tremaining: 1.83s\n",
            "80:\ttotal: 676ms\tremaining: 1.83s\n",
            "81:\ttotal: 686ms\tremaining: 1.82s\n",
            "82:\ttotal: 697ms\tremaining: 1.82s\n",
            "83:\ttotal: 702ms\tremaining: 1.8s\n",
            "84:\ttotal: 708ms\tremaining: 1.79s\n",
            "85:\ttotal: 713ms\tremaining: 1.77s\n",
            "86:\ttotal: 721ms\tremaining: 1.77s\n",
            "87:\ttotal: 730ms\tremaining: 1.76s\n",
            "88:\ttotal: 738ms\tremaining: 1.75s\n",
            "89:\ttotal: 743ms\tremaining: 1.73s\n",
            "90:\ttotal: 750ms\tremaining: 1.72s\n",
            "91:\ttotal: 753ms\tremaining: 1.7s\n",
            "92:\ttotal: 763ms\tremaining: 1.7s\n",
            "93:\ttotal: 767ms\tremaining: 1.68s\n",
            "94:\ttotal: 777ms\tremaining: 1.68s\n",
            "95:\ttotal: 780ms\tremaining: 1.66s\n",
            "96:\ttotal: 782ms\tremaining: 1.64s\n",
            "97:\ttotal: 788ms\tremaining: 1.62s\n",
            "98:\ttotal: 795ms\tremaining: 1.61s\n",
            "99:\ttotal: 801ms\tremaining: 1.6s\n",
            "100:\ttotal: 806ms\tremaining: 1.59s\n",
            "101:\ttotal: 810ms\tremaining: 1.57s\n",
            "102:\ttotal: 819ms\tremaining: 1.57s\n",
            "103:\ttotal: 830ms\tremaining: 1.56s\n",
            "104:\ttotal: 840ms\tremaining: 1.56s\n",
            "105:\ttotal: 850ms\tremaining: 1.56s\n",
            "106:\ttotal: 860ms\tremaining: 1.55s\n",
            "107:\ttotal: 867ms\tremaining: 1.54s\n",
            "108:\ttotal: 873ms\tremaining: 1.53s\n",
            "109:\ttotal: 879ms\tremaining: 1.52s\n",
            "110:\ttotal: 888ms\tremaining: 1.51s\n",
            "111:\ttotal: 897ms\tremaining: 1.5s\n",
            "112:\ttotal: 902ms\tremaining: 1.49s\n",
            "113:\ttotal: 911ms\tremaining: 1.49s\n",
            "114:\ttotal: 920ms\tremaining: 1.48s\n",
            "115:\ttotal: 924ms\tremaining: 1.47s\n",
            "116:\ttotal: 930ms\tremaining: 1.46s\n",
            "117:\ttotal: 935ms\tremaining: 1.44s\n",
            "118:\ttotal: 943ms\tremaining: 1.43s\n",
            "119:\ttotal: 946ms\tremaining: 1.42s\n",
            "120:\ttotal: 955ms\tremaining: 1.41s\n",
            "121:\ttotal: 962ms\tremaining: 1.4s\n",
            "122:\ttotal: 972ms\tremaining: 1.4s\n",
            "123:\ttotal: 976ms\tremaining: 1.39s\n",
            "124:\ttotal: 981ms\tremaining: 1.37s\n",
            "125:\ttotal: 987ms\tremaining: 1.36s\n",
            "126:\ttotal: 994ms\tremaining: 1.35s\n",
            "127:\ttotal: 1000ms\tremaining: 1.34s\n",
            "128:\ttotal: 1.01s\tremaining: 1.33s\n",
            "129:\ttotal: 1.02s\tremaining: 1.33s\n",
            "130:\ttotal: 1.02s\tremaining: 1.32s\n",
            "131:\ttotal: 1.03s\tremaining: 1.32s\n",
            "132:\ttotal: 1.04s\tremaining: 1.31s\n",
            "133:\ttotal: 1.04s\tremaining: 1.29s\n",
            "134:\ttotal: 1.05s\tremaining: 1.28s\n",
            "135:\ttotal: 1.06s\tremaining: 1.27s\n",
            "136:\ttotal: 1.07s\tremaining: 1.27s\n",
            "137:\ttotal: 1.07s\tremaining: 1.26s\n",
            "138:\ttotal: 1.08s\tremaining: 1.25s\n",
            "139:\ttotal: 1.09s\tremaining: 1.25s\n",
            "140:\ttotal: 1.1s\tremaining: 1.24s\n",
            "141:\ttotal: 1.11s\tremaining: 1.24s\n",
            "142:\ttotal: 1.11s\tremaining: 1.22s\n",
            "143:\ttotal: 1.12s\tremaining: 1.22s\n",
            "144:\ttotal: 1.13s\tremaining: 1.21s\n",
            "145:\ttotal: 1.14s\tremaining: 1.2s\n",
            "146:\ttotal: 1.15s\tremaining: 1.2s\n",
            "147:\ttotal: 1.16s\tremaining: 1.19s\n",
            "148:\ttotal: 1.16s\tremaining: 1.18s\n",
            "149:\ttotal: 1.17s\tremaining: 1.17s\n",
            "150:\ttotal: 1.18s\tremaining: 1.16s\n",
            "151:\ttotal: 1.18s\tremaining: 1.15s\n",
            "152:\ttotal: 1.19s\tremaining: 1.14s\n",
            "153:\ttotal: 1.2s\tremaining: 1.13s\n",
            "154:\ttotal: 1.21s\tremaining: 1.13s\n",
            "155:\ttotal: 1.21s\tremaining: 1.12s\n",
            "156:\ttotal: 1.22s\tremaining: 1.11s\n",
            "157:\ttotal: 1.23s\tremaining: 1.1s\n",
            "158:\ttotal: 1.23s\tremaining: 1.09s\n",
            "159:\ttotal: 1.24s\tremaining: 1.08s\n",
            "160:\ttotal: 1.24s\tremaining: 1.07s\n",
            "161:\ttotal: 1.25s\tremaining: 1.06s\n",
            "162:\ttotal: 1.25s\tremaining: 1.05s\n",
            "163:\ttotal: 1.26s\tremaining: 1.04s\n",
            "164:\ttotal: 1.26s\tremaining: 1.03s\n",
            "165:\ttotal: 1.27s\tremaining: 1.02s\n",
            "166:\ttotal: 1.28s\tremaining: 1.02s\n",
            "167:\ttotal: 1.28s\tremaining: 1.01s\n",
            "168:\ttotal: 1.29s\tremaining: 1s\n",
            "169:\ttotal: 1.3s\tremaining: 993ms\n",
            "170:\ttotal: 1.3s\tremaining: 983ms\n",
            "171:\ttotal: 1.31s\tremaining: 975ms\n",
            "172:\ttotal: 1.32s\tremaining: 967ms\n",
            "173:\ttotal: 1.32s\tremaining: 960ms\n",
            "174:\ttotal: 1.33s\tremaining: 954ms\n",
            "175:\ttotal: 1.34s\tremaining: 945ms\n",
            "176:\ttotal: 1.35s\tremaining: 936ms\n",
            "177:\ttotal: 1.36s\tremaining: 930ms\n",
            "178:\ttotal: 1.36s\tremaining: 923ms\n",
            "179:\ttotal: 1.37s\tremaining: 916ms\n",
            "180:\ttotal: 1.38s\tremaining: 907ms\n",
            "181:\ttotal: 1.39s\tremaining: 898ms\n",
            "182:\ttotal: 1.39s\tremaining: 890ms\n",
            "183:\ttotal: 1.4s\tremaining: 881ms\n",
            "184:\ttotal: 1.4s\tremaining: 872ms\n",
            "185:\ttotal: 1.41s\tremaining: 864ms\n",
            "186:\ttotal: 1.42s\tremaining: 855ms\n",
            "187:\ttotal: 1.42s\tremaining: 846ms\n",
            "188:\ttotal: 1.43s\tremaining: 838ms\n",
            "189:\ttotal: 1.44s\tremaining: 831ms\n",
            "190:\ttotal: 1.44s\tremaining: 823ms\n",
            "191:\ttotal: 1.45s\tremaining: 815ms\n",
            "192:\ttotal: 1.46s\tremaining: 807ms\n",
            "193:\ttotal: 1.46s\tremaining: 799ms\n",
            "194:\ttotal: 1.47s\tremaining: 789ms\n",
            "195:\ttotal: 1.47s\tremaining: 781ms\n",
            "196:\ttotal: 1.48s\tremaining: 772ms\n",
            "197:\ttotal: 1.48s\tremaining: 764ms\n",
            "198:\ttotal: 1.49s\tremaining: 756ms\n",
            "199:\ttotal: 1.5s\tremaining: 748ms\n",
            "200:\ttotal: 1.5s\tremaining: 741ms\n",
            "201:\ttotal: 1.52s\tremaining: 737ms\n",
            "202:\ttotal: 1.53s\tremaining: 734ms\n",
            "203:\ttotal: 1.54s\tremaining: 726ms\n",
            "204:\ttotal: 1.55s\tremaining: 718ms\n",
            "205:\ttotal: 1.56s\tremaining: 710ms\n",
            "206:\ttotal: 1.56s\tremaining: 703ms\n",
            "207:\ttotal: 1.57s\tremaining: 695ms\n",
            "208:\ttotal: 1.58s\tremaining: 687ms\n",
            "209:\ttotal: 1.58s\tremaining: 679ms\n",
            "210:\ttotal: 1.59s\tremaining: 671ms\n",
            "211:\ttotal: 1.6s\tremaining: 663ms\n",
            "212:\ttotal: 1.6s\tremaining: 655ms\n",
            "213:\ttotal: 1.61s\tremaining: 648ms\n",
            "214:\ttotal: 1.62s\tremaining: 640ms\n",
            "215:\ttotal: 1.63s\tremaining: 633ms\n",
            "216:\ttotal: 1.63s\tremaining: 625ms\n",
            "217:\ttotal: 1.64s\tremaining: 617ms\n",
            "218:\ttotal: 1.65s\tremaining: 609ms\n",
            "219:\ttotal: 1.65s\tremaining: 601ms\n",
            "220:\ttotal: 1.66s\tremaining: 593ms\n",
            "221:\ttotal: 1.67s\tremaining: 585ms\n",
            "222:\ttotal: 1.67s\tremaining: 577ms\n",
            "223:\ttotal: 1.68s\tremaining: 569ms\n",
            "224:\ttotal: 1.69s\tremaining: 562ms\n",
            "225:\ttotal: 1.7s\tremaining: 555ms\n",
            "226:\ttotal: 1.71s\tremaining: 549ms\n",
            "227:\ttotal: 1.71s\tremaining: 542ms\n",
            "228:\ttotal: 1.72s\tremaining: 535ms\n",
            "229:\ttotal: 1.73s\tremaining: 528ms\n",
            "230:\ttotal: 1.74s\tremaining: 520ms\n",
            "231:\ttotal: 1.75s\tremaining: 512ms\n",
            "232:\ttotal: 1.75s\tremaining: 505ms\n",
            "233:\ttotal: 1.76s\tremaining: 497ms\n",
            "234:\ttotal: 1.77s\tremaining: 490ms\n",
            "235:\ttotal: 1.78s\tremaining: 483ms\n",
            "236:\ttotal: 1.79s\tremaining: 475ms\n",
            "237:\ttotal: 1.8s\tremaining: 468ms\n",
            "238:\ttotal: 1.8s\tremaining: 460ms\n",
            "239:\ttotal: 1.81s\tremaining: 452ms\n",
            "240:\ttotal: 1.82s\tremaining: 445ms\n",
            "241:\ttotal: 1.82s\tremaining: 437ms\n",
            "242:\ttotal: 1.83s\tremaining: 429ms\n",
            "243:\ttotal: 1.84s\tremaining: 422ms\n",
            "244:\ttotal: 1.84s\tremaining: 414ms\n",
            "245:\ttotal: 1.85s\tremaining: 407ms\n",
            "246:\ttotal: 1.86s\tremaining: 399ms\n",
            "247:\ttotal: 1.87s\tremaining: 392ms\n",
            "248:\ttotal: 1.88s\tremaining: 385ms\n",
            "249:\ttotal: 1.89s\tremaining: 377ms\n",
            "250:\ttotal: 1.89s\tremaining: 370ms\n",
            "251:\ttotal: 1.9s\tremaining: 362ms\n",
            "252:\ttotal: 1.91s\tremaining: 354ms\n",
            "253:\ttotal: 1.91s\tremaining: 347ms\n",
            "254:\ttotal: 1.92s\tremaining: 339ms\n",
            "255:\ttotal: 1.93s\tremaining: 331ms\n",
            "256:\ttotal: 1.94s\tremaining: 324ms\n",
            "257:\ttotal: 1.94s\tremaining: 316ms\n",
            "258:\ttotal: 1.95s\tremaining: 309ms\n",
            "259:\ttotal: 1.96s\tremaining: 301ms\n",
            "260:\ttotal: 1.97s\tremaining: 294ms\n",
            "261:\ttotal: 1.98s\tremaining: 287ms\n",
            "262:\ttotal: 1.99s\tremaining: 280ms\n",
            "263:\ttotal: 2s\tremaining: 273ms\n",
            "264:\ttotal: 2.01s\tremaining: 266ms\n",
            "265:\ttotal: 2.02s\tremaining: 259ms\n",
            "266:\ttotal: 2.03s\tremaining: 251ms\n",
            "267:\ttotal: 2.04s\tremaining: 244ms\n",
            "268:\ttotal: 2.06s\tremaining: 237ms\n",
            "269:\ttotal: 2.06s\tremaining: 229ms\n",
            "270:\ttotal: 2.07s\tremaining: 222ms\n",
            "271:\ttotal: 2.08s\tremaining: 214ms\n",
            "272:\ttotal: 2.09s\tremaining: 207ms\n",
            "273:\ttotal: 2.1s\tremaining: 200ms\n",
            "274:\ttotal: 2.11s\tremaining: 192ms\n",
            "275:\ttotal: 2.13s\tremaining: 185ms\n",
            "276:\ttotal: 2.14s\tremaining: 178ms\n",
            "277:\ttotal: 2.15s\tremaining: 170ms\n",
            "278:\ttotal: 2.16s\tremaining: 163ms\n",
            "279:\ttotal: 2.17s\tremaining: 155ms\n",
            "280:\ttotal: 2.18s\tremaining: 148ms\n",
            "281:\ttotal: 2.19s\tremaining: 140ms\n",
            "282:\ttotal: 2.21s\tremaining: 132ms\n",
            "283:\ttotal: 2.22s\tremaining: 125ms\n",
            "284:\ttotal: 2.23s\tremaining: 117ms\n",
            "285:\ttotal: 2.24s\tremaining: 110ms\n",
            "286:\ttotal: 2.25s\tremaining: 102ms\n",
            "287:\ttotal: 2.25s\tremaining: 93.9ms\n",
            "288:\ttotal: 2.26s\tremaining: 86.1ms\n",
            "289:\ttotal: 2.27s\tremaining: 78.3ms\n",
            "290:\ttotal: 2.28s\tremaining: 70.4ms\n",
            "291:\ttotal: 2.29s\tremaining: 62.6ms\n",
            "292:\ttotal: 2.29s\tremaining: 54.8ms\n",
            "293:\ttotal: 2.3s\tremaining: 47ms\n",
            "294:\ttotal: 2.31s\tremaining: 39.2ms\n",
            "295:\ttotal: 2.32s\tremaining: 31.4ms\n",
            "296:\ttotal: 2.33s\tremaining: 23.6ms\n",
            "297:\ttotal: 2.34s\tremaining: 15.7ms\n",
            "298:\ttotal: 2.35s\tremaining: 7.86ms\n",
            "299:\ttotal: 2.36s\tremaining: 0us\n",
            "Learning rate set to 0.057462\n",
            "0:\ttotal: 8.16ms\tremaining: 2.44s\n",
            "1:\ttotal: 15.9ms\tremaining: 2.36s\n",
            "2:\ttotal: 23.6ms\tremaining: 2.34s\n",
            "3:\ttotal: 32.8ms\tremaining: 2.43s\n",
            "4:\ttotal: 40.1ms\tremaining: 2.37s\n",
            "5:\ttotal: 49.4ms\tremaining: 2.42s\n",
            "6:\ttotal: 58.5ms\tremaining: 2.45s\n",
            "7:\ttotal: 68.3ms\tremaining: 2.49s\n",
            "8:\ttotal: 77.1ms\tremaining: 2.49s\n",
            "9:\ttotal: 86.2ms\tremaining: 2.5s\n",
            "10:\ttotal: 94.5ms\tremaining: 2.48s\n",
            "11:\ttotal: 104ms\tremaining: 2.49s\n",
            "12:\ttotal: 113ms\tremaining: 2.5s\n",
            "13:\ttotal: 123ms\tremaining: 2.5s\n",
            "14:\ttotal: 130ms\tremaining: 2.46s\n",
            "15:\ttotal: 135ms\tremaining: 2.39s\n",
            "16:\ttotal: 144ms\tremaining: 2.4s\n",
            "17:\ttotal: 154ms\tremaining: 2.41s\n",
            "18:\ttotal: 163ms\tremaining: 2.4s\n",
            "19:\ttotal: 172ms\tremaining: 2.4s\n",
            "20:\ttotal: 180ms\tremaining: 2.4s\n",
            "21:\ttotal: 190ms\tremaining: 2.4s\n",
            "22:\ttotal: 199ms\tremaining: 2.39s\n",
            "23:\ttotal: 208ms\tremaining: 2.39s\n",
            "24:\ttotal: 220ms\tremaining: 2.42s\n",
            "25:\ttotal: 230ms\tremaining: 2.42s\n",
            "26:\ttotal: 237ms\tremaining: 2.39s\n",
            "27:\ttotal: 246ms\tremaining: 2.39s\n",
            "28:\ttotal: 255ms\tremaining: 2.38s\n",
            "29:\ttotal: 265ms\tremaining: 2.38s\n",
            "30:\ttotal: 273ms\tremaining: 2.37s\n",
            "31:\ttotal: 282ms\tremaining: 2.36s\n",
            "32:\ttotal: 292ms\tremaining: 2.36s\n",
            "33:\ttotal: 302ms\tremaining: 2.37s\n",
            "34:\ttotal: 315ms\tremaining: 2.38s\n",
            "35:\ttotal: 323ms\tremaining: 2.37s\n",
            "36:\ttotal: 333ms\tremaining: 2.37s\n",
            "37:\ttotal: 344ms\tremaining: 2.37s\n",
            "38:\ttotal: 353ms\tremaining: 2.36s\n",
            "39:\ttotal: 358ms\tremaining: 2.33s\n",
            "40:\ttotal: 361ms\tremaining: 2.28s\n",
            "41:\ttotal: 366ms\tremaining: 2.25s\n",
            "42:\ttotal: 372ms\tremaining: 2.22s\n",
            "43:\ttotal: 381ms\tremaining: 2.22s\n",
            "44:\ttotal: 391ms\tremaining: 2.22s\n",
            "45:\ttotal: 400ms\tremaining: 2.21s\n",
            "46:\ttotal: 410ms\tremaining: 2.21s\n",
            "47:\ttotal: 422ms\tremaining: 2.21s\n",
            "48:\ttotal: 432ms\tremaining: 2.21s\n",
            "49:\ttotal: 436ms\tremaining: 2.18s\n",
            "50:\ttotal: 440ms\tremaining: 2.15s\n",
            "51:\ttotal: 449ms\tremaining: 2.14s\n",
            "52:\ttotal: 455ms\tremaining: 2.12s\n",
            "53:\ttotal: 463ms\tremaining: 2.11s\n",
            "54:\ttotal: 471ms\tremaining: 2.1s\n",
            "55:\ttotal: 478ms\tremaining: 2.08s\n",
            "56:\ttotal: 488ms\tremaining: 2.08s\n",
            "57:\ttotal: 498ms\tremaining: 2.08s\n",
            "58:\ttotal: 507ms\tremaining: 2.07s\n",
            "59:\ttotal: 516ms\tremaining: 2.06s\n",
            "60:\ttotal: 520ms\tremaining: 2.04s\n",
            "61:\ttotal: 530ms\tremaining: 2.04s\n",
            "62:\ttotal: 540ms\tremaining: 2.03s\n",
            "63:\ttotal: 549ms\tremaining: 2.02s\n",
            "64:\ttotal: 553ms\tremaining: 2s\n",
            "65:\ttotal: 562ms\tremaining: 1.99s\n",
            "66:\ttotal: 565ms\tremaining: 1.97s\n",
            "67:\ttotal: 575ms\tremaining: 1.96s\n",
            "68:\ttotal: 585ms\tremaining: 1.96s\n",
            "69:\ttotal: 593ms\tremaining: 1.95s\n",
            "70:\ttotal: 602ms\tremaining: 1.94s\n",
            "71:\ttotal: 610ms\tremaining: 1.93s\n",
            "72:\ttotal: 614ms\tremaining: 1.91s\n",
            "73:\ttotal: 619ms\tremaining: 1.89s\n",
            "74:\ttotal: 623ms\tremaining: 1.87s\n",
            "75:\ttotal: 630ms\tremaining: 1.86s\n",
            "76:\ttotal: 637ms\tremaining: 1.85s\n",
            "77:\ttotal: 645ms\tremaining: 1.83s\n",
            "78:\ttotal: 652ms\tremaining: 1.82s\n",
            "79:\ttotal: 656ms\tremaining: 1.8s\n",
            "80:\ttotal: 661ms\tremaining: 1.79s\n",
            "81:\ttotal: 667ms\tremaining: 1.77s\n",
            "82:\ttotal: 672ms\tremaining: 1.76s\n",
            "83:\ttotal: 679ms\tremaining: 1.75s\n",
            "84:\ttotal: 682ms\tremaining: 1.73s\n",
            "85:\ttotal: 688ms\tremaining: 1.71s\n",
            "86:\ttotal: 694ms\tremaining: 1.7s\n",
            "87:\ttotal: 701ms\tremaining: 1.69s\n",
            "88:\ttotal: 709ms\tremaining: 1.68s\n",
            "89:\ttotal: 714ms\tremaining: 1.67s\n",
            "90:\ttotal: 721ms\tremaining: 1.66s\n",
            "91:\ttotal: 727ms\tremaining: 1.64s\n",
            "92:\ttotal: 736ms\tremaining: 1.64s\n",
            "93:\ttotal: 741ms\tremaining: 1.62s\n",
            "94:\ttotal: 744ms\tremaining: 1.6s\n",
            "95:\ttotal: 747ms\tremaining: 1.59s\n",
            "96:\ttotal: 754ms\tremaining: 1.58s\n",
            "97:\ttotal: 757ms\tremaining: 1.56s\n",
            "98:\ttotal: 766ms\tremaining: 1.55s\n",
            "99:\ttotal: 768ms\tremaining: 1.54s\n",
            "100:\ttotal: 781ms\tremaining: 1.54s\n",
            "101:\ttotal: 788ms\tremaining: 1.53s\n",
            "102:\ttotal: 796ms\tremaining: 1.52s\n",
            "103:\ttotal: 799ms\tremaining: 1.5s\n",
            "104:\ttotal: 808ms\tremaining: 1.5s\n",
            "105:\ttotal: 815ms\tremaining: 1.49s\n",
            "106:\ttotal: 818ms\tremaining: 1.47s\n",
            "107:\ttotal: 825ms\tremaining: 1.47s\n",
            "108:\ttotal: 831ms\tremaining: 1.46s\n",
            "109:\ttotal: 836ms\tremaining: 1.44s\n",
            "110:\ttotal: 848ms\tremaining: 1.44s\n",
            "111:\ttotal: 858ms\tremaining: 1.44s\n",
            "112:\ttotal: 866ms\tremaining: 1.43s\n",
            "113:\ttotal: 869ms\tremaining: 1.42s\n",
            "114:\ttotal: 878ms\tremaining: 1.41s\n",
            "115:\ttotal: 887ms\tremaining: 1.41s\n",
            "116:\ttotal: 898ms\tremaining: 1.4s\n",
            "117:\ttotal: 907ms\tremaining: 1.4s\n",
            "118:\ttotal: 915ms\tremaining: 1.39s\n",
            "119:\ttotal: 921ms\tremaining: 1.38s\n",
            "120:\ttotal: 929ms\tremaining: 1.37s\n",
            "121:\ttotal: 932ms\tremaining: 1.36s\n",
            "122:\ttotal: 937ms\tremaining: 1.35s\n",
            "123:\ttotal: 946ms\tremaining: 1.34s\n",
            "124:\ttotal: 958ms\tremaining: 1.34s\n",
            "125:\ttotal: 967ms\tremaining: 1.33s\n",
            "126:\ttotal: 973ms\tremaining: 1.32s\n",
            "127:\ttotal: 980ms\tremaining: 1.32s\n",
            "128:\ttotal: 987ms\tremaining: 1.31s\n",
            "129:\ttotal: 992ms\tremaining: 1.3s\n",
            "130:\ttotal: 1000ms\tremaining: 1.29s\n",
            "131:\ttotal: 1s\tremaining: 1.28s\n",
            "132:\ttotal: 1.01s\tremaining: 1.27s\n",
            "133:\ttotal: 1.01s\tremaining: 1.26s\n",
            "134:\ttotal: 1.02s\tremaining: 1.25s\n",
            "135:\ttotal: 1.03s\tremaining: 1.25s\n",
            "136:\ttotal: 1.04s\tremaining: 1.24s\n",
            "137:\ttotal: 1.04s\tremaining: 1.23s\n",
            "138:\ttotal: 1.05s\tremaining: 1.22s\n",
            "139:\ttotal: 1.06s\tremaining: 1.21s\n",
            "140:\ttotal: 1.07s\tremaining: 1.21s\n",
            "141:\ttotal: 1.08s\tremaining: 1.2s\n",
            "142:\ttotal: 1.09s\tremaining: 1.19s\n",
            "143:\ttotal: 1.1s\tremaining: 1.19s\n",
            "144:\ttotal: 1.1s\tremaining: 1.18s\n",
            "145:\ttotal: 1.11s\tremaining: 1.17s\n",
            "146:\ttotal: 1.12s\tremaining: 1.16s\n",
            "147:\ttotal: 1.12s\tremaining: 1.16s\n",
            "148:\ttotal: 1.13s\tremaining: 1.15s\n",
            "149:\ttotal: 1.15s\tremaining: 1.15s\n",
            "150:\ttotal: 1.16s\tremaining: 1.15s\n",
            "151:\ttotal: 1.17s\tremaining: 1.14s\n",
            "152:\ttotal: 1.18s\tremaining: 1.13s\n",
            "153:\ttotal: 1.19s\tremaining: 1.12s\n",
            "154:\ttotal: 1.2s\tremaining: 1.12s\n",
            "155:\ttotal: 1.21s\tremaining: 1.11s\n",
            "156:\ttotal: 1.22s\tremaining: 1.11s\n",
            "157:\ttotal: 1.23s\tremaining: 1.11s\n",
            "158:\ttotal: 1.24s\tremaining: 1.1s\n",
            "159:\ttotal: 1.25s\tremaining: 1.09s\n",
            "160:\ttotal: 1.26s\tremaining: 1.09s\n",
            "161:\ttotal: 1.27s\tremaining: 1.08s\n",
            "162:\ttotal: 1.28s\tremaining: 1.08s\n",
            "163:\ttotal: 1.29s\tremaining: 1.07s\n",
            "164:\ttotal: 1.3s\tremaining: 1.06s\n",
            "165:\ttotal: 1.31s\tremaining: 1.06s\n",
            "166:\ttotal: 1.32s\tremaining: 1.05s\n",
            "167:\ttotal: 1.32s\tremaining: 1.04s\n",
            "168:\ttotal: 1.33s\tremaining: 1.03s\n",
            "169:\ttotal: 1.34s\tremaining: 1.02s\n",
            "170:\ttotal: 1.35s\tremaining: 1.02s\n",
            "171:\ttotal: 1.36s\tremaining: 1.01s\n",
            "172:\ttotal: 1.37s\tremaining: 1s\n",
            "173:\ttotal: 1.37s\tremaining: 995ms\n",
            "174:\ttotal: 1.39s\tremaining: 990ms\n",
            "175:\ttotal: 1.4s\tremaining: 984ms\n",
            "176:\ttotal: 1.41s\tremaining: 979ms\n",
            "177:\ttotal: 1.42s\tremaining: 974ms\n",
            "178:\ttotal: 1.43s\tremaining: 968ms\n",
            "179:\ttotal: 1.44s\tremaining: 960ms\n",
            "180:\ttotal: 1.45s\tremaining: 953ms\n",
            "181:\ttotal: 1.46s\tremaining: 945ms\n",
            "182:\ttotal: 1.47s\tremaining: 939ms\n",
            "183:\ttotal: 1.48s\tremaining: 932ms\n",
            "184:\ttotal: 1.49s\tremaining: 925ms\n",
            "185:\ttotal: 1.5s\tremaining: 919ms\n",
            "186:\ttotal: 1.51s\tremaining: 913ms\n",
            "187:\ttotal: 1.52s\tremaining: 906ms\n",
            "188:\ttotal: 1.53s\tremaining: 900ms\n",
            "189:\ttotal: 1.54s\tremaining: 893ms\n",
            "190:\ttotal: 1.55s\tremaining: 886ms\n",
            "191:\ttotal: 1.56s\tremaining: 879ms\n",
            "192:\ttotal: 1.57s\tremaining: 873ms\n",
            "193:\ttotal: 1.58s\tremaining: 865ms\n",
            "194:\ttotal: 1.59s\tremaining: 858ms\n",
            "195:\ttotal: 1.6s\tremaining: 850ms\n",
            "196:\ttotal: 1.61s\tremaining: 843ms\n",
            "197:\ttotal: 1.62s\tremaining: 836ms\n",
            "198:\ttotal: 1.63s\tremaining: 827ms\n",
            "199:\ttotal: 1.64s\tremaining: 820ms\n",
            "200:\ttotal: 1.65s\tremaining: 813ms\n",
            "201:\ttotal: 1.66s\tremaining: 806ms\n",
            "202:\ttotal: 1.67s\tremaining: 799ms\n",
            "203:\ttotal: 1.68s\tremaining: 793ms\n",
            "204:\ttotal: 1.7s\tremaining: 786ms\n",
            "205:\ttotal: 1.71s\tremaining: 779ms\n",
            "206:\ttotal: 1.72s\tremaining: 771ms\n",
            "207:\ttotal: 1.73s\tremaining: 764ms\n",
            "208:\ttotal: 1.74s\tremaining: 756ms\n",
            "209:\ttotal: 1.75s\tremaining: 748ms\n",
            "210:\ttotal: 1.75s\tremaining: 740ms\n",
            "211:\ttotal: 1.76s\tremaining: 732ms\n",
            "212:\ttotal: 1.77s\tremaining: 724ms\n",
            "213:\ttotal: 1.78s\tremaining: 716ms\n",
            "214:\ttotal: 1.79s\tremaining: 708ms\n",
            "215:\ttotal: 1.8s\tremaining: 701ms\n",
            "216:\ttotal: 1.81s\tremaining: 692ms\n",
            "217:\ttotal: 1.82s\tremaining: 684ms\n",
            "218:\ttotal: 1.83s\tremaining: 677ms\n",
            "219:\ttotal: 1.84s\tremaining: 669ms\n",
            "220:\ttotal: 1.85s\tremaining: 661ms\n",
            "221:\ttotal: 1.86s\tremaining: 653ms\n",
            "222:\ttotal: 1.86s\tremaining: 644ms\n",
            "223:\ttotal: 1.87s\tremaining: 636ms\n",
            "224:\ttotal: 1.88s\tremaining: 628ms\n",
            "225:\ttotal: 1.89s\tremaining: 620ms\n",
            "226:\ttotal: 1.9s\tremaining: 612ms\n",
            "227:\ttotal: 1.91s\tremaining: 604ms\n",
            "228:\ttotal: 1.92s\tremaining: 595ms\n",
            "229:\ttotal: 1.93s\tremaining: 588ms\n",
            "230:\ttotal: 1.94s\tremaining: 579ms\n",
            "231:\ttotal: 1.95s\tremaining: 571ms\n",
            "232:\ttotal: 1.96s\tremaining: 563ms\n",
            "233:\ttotal: 1.97s\tremaining: 555ms\n",
            "234:\ttotal: 1.98s\tremaining: 547ms\n",
            "235:\ttotal: 1.99s\tremaining: 541ms\n",
            "236:\ttotal: 2s\tremaining: 532ms\n",
            "237:\ttotal: 2.01s\tremaining: 524ms\n",
            "238:\ttotal: 2.02s\tremaining: 515ms\n",
            "239:\ttotal: 2.03s\tremaining: 508ms\n",
            "240:\ttotal: 2.04s\tremaining: 500ms\n",
            "241:\ttotal: 2.05s\tremaining: 492ms\n",
            "242:\ttotal: 2.06s\tremaining: 484ms\n",
            "243:\ttotal: 2.07s\tremaining: 475ms\n",
            "244:\ttotal: 2.08s\tremaining: 468ms\n",
            "245:\ttotal: 2.09s\tremaining: 459ms\n",
            "246:\ttotal: 2.1s\tremaining: 451ms\n",
            "247:\ttotal: 2.11s\tremaining: 442ms\n",
            "248:\ttotal: 2.12s\tremaining: 433ms\n",
            "249:\ttotal: 2.13s\tremaining: 425ms\n",
            "250:\ttotal: 2.13s\tremaining: 417ms\n",
            "251:\ttotal: 2.14s\tremaining: 408ms\n",
            "252:\ttotal: 2.15s\tremaining: 399ms\n",
            "253:\ttotal: 2.15s\tremaining: 390ms\n",
            "254:\ttotal: 2.16s\tremaining: 382ms\n",
            "255:\ttotal: 2.17s\tremaining: 373ms\n",
            "256:\ttotal: 2.18s\tremaining: 365ms\n",
            "257:\ttotal: 2.19s\tremaining: 357ms\n",
            "258:\ttotal: 2.2s\tremaining: 349ms\n",
            "259:\ttotal: 2.21s\tremaining: 340ms\n",
            "260:\ttotal: 2.21s\tremaining: 331ms\n",
            "261:\ttotal: 2.22s\tremaining: 322ms\n",
            "262:\ttotal: 2.23s\tremaining: 314ms\n",
            "263:\ttotal: 2.24s\tremaining: 306ms\n",
            "264:\ttotal: 2.25s\tremaining: 297ms\n",
            "265:\ttotal: 2.26s\tremaining: 289ms\n",
            "266:\ttotal: 2.27s\tremaining: 280ms\n",
            "267:\ttotal: 2.27s\tremaining: 272ms\n",
            "268:\ttotal: 2.28s\tremaining: 263ms\n",
            "269:\ttotal: 2.29s\tremaining: 254ms\n",
            "270:\ttotal: 2.3s\tremaining: 246ms\n",
            "271:\ttotal: 2.31s\tremaining: 237ms\n",
            "272:\ttotal: 2.31s\tremaining: 229ms\n",
            "273:\ttotal: 2.33s\tremaining: 221ms\n",
            "274:\ttotal: 2.33s\tremaining: 212ms\n",
            "275:\ttotal: 2.34s\tremaining: 204ms\n",
            "276:\ttotal: 2.35s\tremaining: 195ms\n",
            "277:\ttotal: 2.35s\tremaining: 186ms\n",
            "278:\ttotal: 2.36s\tremaining: 178ms\n",
            "279:\ttotal: 2.37s\tremaining: 169ms\n",
            "280:\ttotal: 2.38s\tremaining: 161ms\n",
            "281:\ttotal: 2.38s\tremaining: 152ms\n",
            "282:\ttotal: 2.39s\tremaining: 144ms\n",
            "283:\ttotal: 2.4s\tremaining: 135ms\n",
            "284:\ttotal: 2.41s\tremaining: 127ms\n",
            "285:\ttotal: 2.42s\tremaining: 118ms\n",
            "286:\ttotal: 2.43s\tremaining: 110ms\n",
            "287:\ttotal: 2.44s\tremaining: 102ms\n",
            "288:\ttotal: 2.45s\tremaining: 93.3ms\n",
            "289:\ttotal: 2.46s\tremaining: 84.9ms\n",
            "290:\ttotal: 2.47s\tremaining: 76.3ms\n",
            "291:\ttotal: 2.48s\tremaining: 68ms\n",
            "292:\ttotal: 2.49s\tremaining: 59.5ms\n",
            "293:\ttotal: 2.5s\tremaining: 51.1ms\n",
            "294:\ttotal: 2.51s\tremaining: 42.6ms\n",
            "295:\ttotal: 2.52s\tremaining: 34.1ms\n",
            "296:\ttotal: 2.53s\tremaining: 25.6ms\n",
            "297:\ttotal: 2.54s\tremaining: 17.1ms\n",
            "298:\ttotal: 2.55s\tremaining: 8.53ms\n",
            "299:\ttotal: 2.56s\tremaining: 0us\n",
            "Learning rate set to 0.057462\n",
            "0:\ttotal: 6.84ms\tremaining: 2.05s\n",
            "1:\ttotal: 18.9ms\tremaining: 2.82s\n",
            "2:\ttotal: 32.7ms\tremaining: 3.23s\n",
            "3:\ttotal: 40.7ms\tremaining: 3.01s\n",
            "4:\ttotal: 48ms\tremaining: 2.83s\n",
            "5:\ttotal: 54.4ms\tremaining: 2.66s\n",
            "6:\ttotal: 60.3ms\tremaining: 2.52s\n",
            "7:\ttotal: 64.6ms\tremaining: 2.36s\n",
            "8:\ttotal: 71.1ms\tremaining: 2.3s\n",
            "9:\ttotal: 77.5ms\tremaining: 2.25s\n",
            "10:\ttotal: 83.5ms\tremaining: 2.19s\n",
            "11:\ttotal: 90.3ms\tremaining: 2.17s\n",
            "12:\ttotal: 96.5ms\tremaining: 2.13s\n",
            "13:\ttotal: 104ms\tremaining: 2.13s\n",
            "14:\ttotal: 108ms\tremaining: 2.06s\n",
            "15:\ttotal: 116ms\tremaining: 2.06s\n",
            "16:\ttotal: 124ms\tremaining: 2.07s\n",
            "17:\ttotal: 131ms\tremaining: 2.05s\n",
            "18:\ttotal: 138ms\tremaining: 2.03s\n",
            "19:\ttotal: 146ms\tremaining: 2.04s\n",
            "20:\ttotal: 153ms\tremaining: 2.04s\n",
            "21:\ttotal: 160ms\tremaining: 2.02s\n",
            "22:\ttotal: 167ms\tremaining: 2.01s\n",
            "23:\ttotal: 170ms\tremaining: 1.96s\n",
            "24:\ttotal: 177ms\tremaining: 1.94s\n",
            "25:\ttotal: 184ms\tremaining: 1.94s\n",
            "26:\ttotal: 189ms\tremaining: 1.91s\n",
            "27:\ttotal: 197ms\tremaining: 1.92s\n",
            "28:\ttotal: 206ms\tremaining: 1.92s\n",
            "29:\ttotal: 215ms\tremaining: 1.94s\n",
            "30:\ttotal: 222ms\tremaining: 1.92s\n",
            "31:\ttotal: 230ms\tremaining: 1.93s\n",
            "32:\ttotal: 235ms\tremaining: 1.9s\n",
            "33:\ttotal: 242ms\tremaining: 1.89s\n",
            "34:\ttotal: 249ms\tremaining: 1.88s\n",
            "35:\ttotal: 256ms\tremaining: 1.88s\n",
            "36:\ttotal: 262ms\tremaining: 1.86s\n",
            "37:\ttotal: 270ms\tremaining: 1.86s\n",
            "38:\ttotal: 277ms\tremaining: 1.86s\n",
            "39:\ttotal: 286ms\tremaining: 1.86s\n",
            "40:\ttotal: 293ms\tremaining: 1.85s\n",
            "41:\ttotal: 300ms\tremaining: 1.84s\n",
            "42:\ttotal: 307ms\tremaining: 1.83s\n",
            "43:\ttotal: 313ms\tremaining: 1.82s\n",
            "44:\ttotal: 319ms\tremaining: 1.81s\n",
            "45:\ttotal: 321ms\tremaining: 1.77s\n",
            "46:\ttotal: 327ms\tremaining: 1.76s\n",
            "47:\ttotal: 333ms\tremaining: 1.75s\n",
            "48:\ttotal: 340ms\tremaining: 1.74s\n",
            "49:\ttotal: 343ms\tremaining: 1.72s\n",
            "50:\ttotal: 351ms\tremaining: 1.71s\n",
            "51:\ttotal: 354ms\tremaining: 1.69s\n",
            "52:\ttotal: 362ms\tremaining: 1.69s\n",
            "53:\ttotal: 367ms\tremaining: 1.67s\n",
            "54:\ttotal: 371ms\tremaining: 1.65s\n",
            "55:\ttotal: 379ms\tremaining: 1.65s\n",
            "56:\ttotal: 388ms\tremaining: 1.65s\n",
            "57:\ttotal: 394ms\tremaining: 1.65s\n",
            "58:\ttotal: 404ms\tremaining: 1.65s\n",
            "59:\ttotal: 407ms\tremaining: 1.63s\n",
            "60:\ttotal: 415ms\tremaining: 1.63s\n",
            "61:\ttotal: 418ms\tremaining: 1.61s\n",
            "62:\ttotal: 421ms\tremaining: 1.58s\n",
            "63:\ttotal: 426ms\tremaining: 1.57s\n",
            "64:\ttotal: 437ms\tremaining: 1.58s\n",
            "65:\ttotal: 440ms\tremaining: 1.56s\n",
            "66:\ttotal: 450ms\tremaining: 1.56s\n",
            "67:\ttotal: 462ms\tremaining: 1.58s\n",
            "68:\ttotal: 472ms\tremaining: 1.58s\n",
            "69:\ttotal: 485ms\tremaining: 1.59s\n",
            "70:\ttotal: 493ms\tremaining: 1.59s\n",
            "71:\ttotal: 500ms\tremaining: 1.58s\n",
            "72:\ttotal: 505ms\tremaining: 1.57s\n",
            "73:\ttotal: 510ms\tremaining: 1.56s\n",
            "74:\ttotal: 516ms\tremaining: 1.55s\n",
            "75:\ttotal: 521ms\tremaining: 1.53s\n",
            "76:\ttotal: 528ms\tremaining: 1.53s\n",
            "77:\ttotal: 534ms\tremaining: 1.52s\n",
            "78:\ttotal: 537ms\tremaining: 1.5s\n",
            "79:\ttotal: 546ms\tremaining: 1.5s\n",
            "80:\ttotal: 551ms\tremaining: 1.49s\n",
            "81:\ttotal: 559ms\tremaining: 1.49s\n",
            "82:\ttotal: 568ms\tremaining: 1.49s\n",
            "83:\ttotal: 574ms\tremaining: 1.48s\n",
            "84:\ttotal: 577ms\tremaining: 1.46s\n",
            "85:\ttotal: 580ms\tremaining: 1.44s\n",
            "86:\ttotal: 583ms\tremaining: 1.43s\n",
            "87:\ttotal: 590ms\tremaining: 1.42s\n",
            "88:\ttotal: 599ms\tremaining: 1.42s\n",
            "89:\ttotal: 606ms\tremaining: 1.41s\n",
            "90:\ttotal: 614ms\tremaining: 1.41s\n",
            "91:\ttotal: 622ms\tremaining: 1.41s\n",
            "92:\ttotal: 629ms\tremaining: 1.4s\n",
            "93:\ttotal: 632ms\tremaining: 1.39s\n",
            "94:\ttotal: 642ms\tremaining: 1.39s\n",
            "95:\ttotal: 653ms\tremaining: 1.39s\n",
            "96:\ttotal: 662ms\tremaining: 1.39s\n",
            "97:\ttotal: 668ms\tremaining: 1.38s\n",
            "98:\ttotal: 674ms\tremaining: 1.37s\n",
            "99:\ttotal: 678ms\tremaining: 1.36s\n",
            "100:\ttotal: 689ms\tremaining: 1.36s\n",
            "101:\ttotal: 692ms\tremaining: 1.34s\n",
            "102:\ttotal: 702ms\tremaining: 1.34s\n",
            "103:\ttotal: 711ms\tremaining: 1.34s\n",
            "104:\ttotal: 721ms\tremaining: 1.34s\n",
            "105:\ttotal: 726ms\tremaining: 1.33s\n",
            "106:\ttotal: 736ms\tremaining: 1.33s\n",
            "107:\ttotal: 741ms\tremaining: 1.32s\n",
            "108:\ttotal: 747ms\tremaining: 1.31s\n",
            "109:\ttotal: 753ms\tremaining: 1.3s\n",
            "110:\ttotal: 765ms\tremaining: 1.3s\n",
            "111:\ttotal: 770ms\tremaining: 1.29s\n",
            "112:\ttotal: 773ms\tremaining: 1.28s\n",
            "113:\ttotal: 777ms\tremaining: 1.27s\n",
            "114:\ttotal: 784ms\tremaining: 1.26s\n",
            "115:\ttotal: 790ms\tremaining: 1.25s\n",
            "116:\ttotal: 796ms\tremaining: 1.25s\n",
            "117:\ttotal: 802ms\tremaining: 1.24s\n",
            "118:\ttotal: 809ms\tremaining: 1.23s\n",
            "119:\ttotal: 817ms\tremaining: 1.23s\n",
            "120:\ttotal: 820ms\tremaining: 1.21s\n",
            "121:\ttotal: 824ms\tremaining: 1.2s\n",
            "122:\ttotal: 830ms\tremaining: 1.19s\n",
            "123:\ttotal: 839ms\tremaining: 1.19s\n",
            "124:\ttotal: 846ms\tremaining: 1.18s\n",
            "125:\ttotal: 849ms\tremaining: 1.17s\n",
            "126:\ttotal: 858ms\tremaining: 1.17s\n",
            "127:\ttotal: 868ms\tremaining: 1.17s\n",
            "128:\ttotal: 878ms\tremaining: 1.16s\n",
            "129:\ttotal: 888ms\tremaining: 1.16s\n",
            "130:\ttotal: 897ms\tremaining: 1.16s\n",
            "131:\ttotal: 903ms\tremaining: 1.15s\n",
            "132:\ttotal: 906ms\tremaining: 1.14s\n",
            "133:\ttotal: 913ms\tremaining: 1.13s\n",
            "134:\ttotal: 924ms\tremaining: 1.13s\n",
            "135:\ttotal: 932ms\tremaining: 1.12s\n",
            "136:\ttotal: 939ms\tremaining: 1.12s\n",
            "137:\ttotal: 947ms\tremaining: 1.11s\n",
            "138:\ttotal: 954ms\tremaining: 1.1s\n",
            "139:\ttotal: 961ms\tremaining: 1.1s\n",
            "140:\ttotal: 968ms\tremaining: 1.09s\n",
            "141:\ttotal: 976ms\tremaining: 1.08s\n",
            "142:\ttotal: 986ms\tremaining: 1.08s\n",
            "143:\ttotal: 995ms\tremaining: 1.08s\n",
            "144:\ttotal: 1s\tremaining: 1.07s\n",
            "145:\ttotal: 1.02s\tremaining: 1.07s\n",
            "146:\ttotal: 1.02s\tremaining: 1.06s\n",
            "147:\ttotal: 1.03s\tremaining: 1.06s\n",
            "148:\ttotal: 1.04s\tremaining: 1.05s\n",
            "149:\ttotal: 1.04s\tremaining: 1.04s\n",
            "150:\ttotal: 1.05s\tremaining: 1.04s\n",
            "151:\ttotal: 1.06s\tremaining: 1.03s\n",
            "152:\ttotal: 1.06s\tremaining: 1.02s\n",
            "153:\ttotal: 1.07s\tremaining: 1.01s\n",
            "154:\ttotal: 1.08s\tremaining: 1.01s\n",
            "155:\ttotal: 1.08s\tremaining: 1s\n",
            "156:\ttotal: 1.09s\tremaining: 995ms\n",
            "157:\ttotal: 1.1s\tremaining: 989ms\n",
            "158:\ttotal: 1.11s\tremaining: 985ms\n",
            "159:\ttotal: 1.12s\tremaining: 980ms\n",
            "160:\ttotal: 1.13s\tremaining: 975ms\n",
            "161:\ttotal: 1.14s\tremaining: 967ms\n",
            "162:\ttotal: 1.14s\tremaining: 960ms\n",
            "163:\ttotal: 1.15s\tremaining: 953ms\n",
            "164:\ttotal: 1.16s\tremaining: 945ms\n",
            "165:\ttotal: 1.17s\tremaining: 941ms\n",
            "166:\ttotal: 1.18s\tremaining: 938ms\n",
            "167:\ttotal: 1.19s\tremaining: 935ms\n",
            "168:\ttotal: 1.2s\tremaining: 932ms\n",
            "169:\ttotal: 1.21s\tremaining: 926ms\n",
            "170:\ttotal: 1.22s\tremaining: 922ms\n",
            "171:\ttotal: 1.23s\tremaining: 916ms\n",
            "172:\ttotal: 1.24s\tremaining: 908ms\n",
            "173:\ttotal: 1.24s\tremaining: 901ms\n",
            "174:\ttotal: 1.26s\tremaining: 898ms\n",
            "175:\ttotal: 1.27s\tremaining: 893ms\n",
            "176:\ttotal: 1.28s\tremaining: 888ms\n",
            "177:\ttotal: 1.29s\tremaining: 884ms\n",
            "178:\ttotal: 1.3s\tremaining: 879ms\n",
            "179:\ttotal: 1.31s\tremaining: 874ms\n",
            "180:\ttotal: 1.32s\tremaining: 869ms\n",
            "181:\ttotal: 1.33s\tremaining: 864ms\n",
            "182:\ttotal: 1.34s\tremaining: 859ms\n",
            "183:\ttotal: 1.35s\tremaining: 854ms\n",
            "184:\ttotal: 1.36s\tremaining: 846ms\n",
            "185:\ttotal: 1.37s\tremaining: 841ms\n",
            "186:\ttotal: 1.38s\tremaining: 835ms\n",
            "187:\ttotal: 1.39s\tremaining: 829ms\n",
            "188:\ttotal: 1.4s\tremaining: 822ms\n",
            "189:\ttotal: 1.41s\tremaining: 816ms\n",
            "190:\ttotal: 1.42s\tremaining: 808ms\n",
            "191:\ttotal: 1.42s\tremaining: 800ms\n",
            "192:\ttotal: 1.43s\tremaining: 792ms\n",
            "193:\ttotal: 1.44s\tremaining: 784ms\n",
            "194:\ttotal: 1.44s\tremaining: 777ms\n",
            "195:\ttotal: 1.45s\tremaining: 769ms\n",
            "196:\ttotal: 1.46s\tremaining: 762ms\n",
            "197:\ttotal: 1.47s\tremaining: 756ms\n",
            "198:\ttotal: 1.48s\tremaining: 751ms\n",
            "199:\ttotal: 1.49s\tremaining: 745ms\n",
            "200:\ttotal: 1.5s\tremaining: 738ms\n",
            "201:\ttotal: 1.5s\tremaining: 730ms\n",
            "202:\ttotal: 1.51s\tremaining: 723ms\n",
            "203:\ttotal: 1.52s\tremaining: 715ms\n",
            "204:\ttotal: 1.52s\tremaining: 707ms\n",
            "205:\ttotal: 1.53s\tremaining: 699ms\n",
            "206:\ttotal: 1.54s\tremaining: 692ms\n",
            "207:\ttotal: 1.55s\tremaining: 684ms\n",
            "208:\ttotal: 1.55s\tremaining: 677ms\n",
            "209:\ttotal: 1.56s\tremaining: 670ms\n",
            "210:\ttotal: 1.57s\tremaining: 664ms\n",
            "211:\ttotal: 1.58s\tremaining: 658ms\n",
            "212:\ttotal: 1.59s\tremaining: 651ms\n",
            "213:\ttotal: 1.6s\tremaining: 643ms\n",
            "214:\ttotal: 1.6s\tremaining: 635ms\n",
            "215:\ttotal: 1.61s\tremaining: 627ms\n",
            "216:\ttotal: 1.62s\tremaining: 619ms\n",
            "217:\ttotal: 1.63s\tremaining: 612ms\n",
            "218:\ttotal: 1.64s\tremaining: 607ms\n",
            "219:\ttotal: 1.66s\tremaining: 603ms\n",
            "220:\ttotal: 1.67s\tremaining: 598ms\n",
            "221:\ttotal: 1.69s\tremaining: 594ms\n",
            "222:\ttotal: 1.7s\tremaining: 589ms\n",
            "223:\ttotal: 1.72s\tremaining: 584ms\n",
            "224:\ttotal: 1.74s\tremaining: 579ms\n",
            "225:\ttotal: 1.75s\tremaining: 574ms\n",
            "226:\ttotal: 1.77s\tremaining: 569ms\n",
            "227:\ttotal: 1.78s\tremaining: 562ms\n",
            "228:\ttotal: 1.79s\tremaining: 555ms\n",
            "229:\ttotal: 1.8s\tremaining: 548ms\n",
            "230:\ttotal: 1.81s\tremaining: 540ms\n",
            "231:\ttotal: 1.82s\tremaining: 533ms\n",
            "232:\ttotal: 1.83s\tremaining: 525ms\n",
            "233:\ttotal: 1.84s\tremaining: 518ms\n",
            "234:\ttotal: 1.84s\tremaining: 510ms\n",
            "235:\ttotal: 1.85s\tremaining: 503ms\n",
            "236:\ttotal: 1.86s\tremaining: 496ms\n",
            "237:\ttotal: 1.87s\tremaining: 488ms\n",
            "238:\ttotal: 1.88s\tremaining: 480ms\n",
            "239:\ttotal: 1.89s\tremaining: 472ms\n",
            "240:\ttotal: 1.9s\tremaining: 464ms\n",
            "241:\ttotal: 1.9s\tremaining: 456ms\n",
            "242:\ttotal: 1.91s\tremaining: 448ms\n",
            "243:\ttotal: 1.92s\tremaining: 440ms\n",
            "244:\ttotal: 1.93s\tremaining: 433ms\n",
            "245:\ttotal: 1.94s\tremaining: 425ms\n",
            "246:\ttotal: 1.95s\tremaining: 418ms\n",
            "247:\ttotal: 1.95s\tremaining: 410ms\n",
            "248:\ttotal: 1.96s\tremaining: 402ms\n",
            "249:\ttotal: 1.97s\tremaining: 394ms\n",
            "250:\ttotal: 1.97s\tremaining: 386ms\n",
            "251:\ttotal: 1.98s\tremaining: 378ms\n",
            "252:\ttotal: 1.99s\tremaining: 370ms\n",
            "253:\ttotal: 2s\tremaining: 362ms\n",
            "254:\ttotal: 2s\tremaining: 354ms\n",
            "255:\ttotal: 2.01s\tremaining: 346ms\n",
            "256:\ttotal: 2.03s\tremaining: 339ms\n",
            "257:\ttotal: 2.04s\tremaining: 331ms\n",
            "258:\ttotal: 2.04s\tremaining: 324ms\n",
            "259:\ttotal: 2.05s\tremaining: 316ms\n",
            "260:\ttotal: 2.06s\tremaining: 308ms\n",
            "261:\ttotal: 2.06s\tremaining: 300ms\n",
            "262:\ttotal: 2.07s\tremaining: 292ms\n",
            "263:\ttotal: 2.08s\tremaining: 284ms\n",
            "264:\ttotal: 2.08s\tremaining: 275ms\n",
            "265:\ttotal: 2.09s\tremaining: 267ms\n",
            "266:\ttotal: 2.1s\tremaining: 260ms\n",
            "267:\ttotal: 2.11s\tremaining: 252ms\n",
            "268:\ttotal: 2.12s\tremaining: 244ms\n",
            "269:\ttotal: 2.13s\tremaining: 236ms\n",
            "270:\ttotal: 2.13s\tremaining: 228ms\n",
            "271:\ttotal: 2.14s\tremaining: 220ms\n",
            "272:\ttotal: 2.15s\tremaining: 212ms\n",
            "273:\ttotal: 2.15s\tremaining: 205ms\n",
            "274:\ttotal: 2.16s\tremaining: 196ms\n",
            "275:\ttotal: 2.17s\tremaining: 188ms\n",
            "276:\ttotal: 2.17s\tremaining: 181ms\n",
            "277:\ttotal: 2.18s\tremaining: 173ms\n",
            "278:\ttotal: 2.19s\tremaining: 165ms\n",
            "279:\ttotal: 2.2s\tremaining: 157ms\n",
            "280:\ttotal: 2.21s\tremaining: 150ms\n",
            "281:\ttotal: 2.22s\tremaining: 142ms\n",
            "282:\ttotal: 2.23s\tremaining: 134ms\n",
            "283:\ttotal: 2.23s\tremaining: 126ms\n",
            "284:\ttotal: 2.24s\tremaining: 118ms\n",
            "285:\ttotal: 2.25s\tremaining: 110ms\n",
            "286:\ttotal: 2.26s\tremaining: 102ms\n",
            "287:\ttotal: 2.27s\tremaining: 94.6ms\n",
            "288:\ttotal: 2.28s\tremaining: 86.9ms\n",
            "289:\ttotal: 2.29s\tremaining: 79ms\n",
            "290:\ttotal: 2.3s\tremaining: 71.1ms\n",
            "291:\ttotal: 2.31s\tremaining: 63.2ms\n",
            "292:\ttotal: 2.31s\tremaining: 55.3ms\n",
            "293:\ttotal: 2.32s\tremaining: 47.3ms\n",
            "294:\ttotal: 2.33s\tremaining: 39.5ms\n",
            "295:\ttotal: 2.33s\tremaining: 31.5ms\n",
            "296:\ttotal: 2.34s\tremaining: 23.6ms\n",
            "297:\ttotal: 2.35s\tremaining: 15.8ms\n",
            "298:\ttotal: 2.36s\tremaining: 7.88ms\n",
            "299:\ttotal: 2.37s\tremaining: 0us\n",
            "Learning rate set to 0.057462\n",
            "0:\ttotal: 11.1ms\tremaining: 3.31s\n",
            "1:\ttotal: 27.1ms\tremaining: 4.04s\n",
            "2:\ttotal: 45ms\tremaining: 4.46s\n",
            "3:\ttotal: 59.2ms\tremaining: 4.38s\n",
            "4:\ttotal: 68.2ms\tremaining: 4.02s\n",
            "5:\ttotal: 76.9ms\tremaining: 3.77s\n",
            "6:\ttotal: 86.1ms\tremaining: 3.6s\n",
            "7:\ttotal: 93.9ms\tremaining: 3.43s\n",
            "8:\ttotal: 101ms\tremaining: 3.26s\n",
            "9:\ttotal: 108ms\tremaining: 3.13s\n",
            "10:\ttotal: 116ms\tremaining: 3.05s\n",
            "11:\ttotal: 124ms\tremaining: 2.96s\n",
            "12:\ttotal: 130ms\tremaining: 2.87s\n",
            "13:\ttotal: 135ms\tremaining: 2.76s\n",
            "14:\ttotal: 143ms\tremaining: 2.73s\n",
            "15:\ttotal: 151ms\tremaining: 2.68s\n",
            "16:\ttotal: 157ms\tremaining: 2.62s\n",
            "17:\ttotal: 163ms\tremaining: 2.56s\n",
            "18:\ttotal: 170ms\tremaining: 2.51s\n",
            "19:\ttotal: 172ms\tremaining: 2.41s\n",
            "20:\ttotal: 178ms\tremaining: 2.37s\n",
            "21:\ttotal: 184ms\tremaining: 2.33s\n",
            "22:\ttotal: 187ms\tremaining: 2.25s\n",
            "23:\ttotal: 193ms\tremaining: 2.22s\n",
            "24:\ttotal: 204ms\tremaining: 2.24s\n",
            "25:\ttotal: 215ms\tremaining: 2.27s\n",
            "26:\ttotal: 220ms\tremaining: 2.22s\n",
            "27:\ttotal: 228ms\tremaining: 2.22s\n",
            "28:\ttotal: 238ms\tremaining: 2.23s\n",
            "29:\ttotal: 249ms\tremaining: 2.24s\n",
            "30:\ttotal: 253ms\tremaining: 2.19s\n",
            "31:\ttotal: 259ms\tremaining: 2.17s\n",
            "32:\ttotal: 269ms\tremaining: 2.17s\n",
            "33:\ttotal: 276ms\tremaining: 2.16s\n",
            "34:\ttotal: 282ms\tremaining: 2.14s\n",
            "35:\ttotal: 291ms\tremaining: 2.13s\n",
            "36:\ttotal: 299ms\tremaining: 2.13s\n",
            "37:\ttotal: 306ms\tremaining: 2.11s\n",
            "38:\ttotal: 309ms\tremaining: 2.07s\n",
            "39:\ttotal: 314ms\tremaining: 2.04s\n",
            "40:\ttotal: 321ms\tremaining: 2.03s\n",
            "41:\ttotal: 328ms\tremaining: 2.01s\n",
            "42:\ttotal: 334ms\tremaining: 1.99s\n",
            "43:\ttotal: 340ms\tremaining: 1.98s\n",
            "44:\ttotal: 350ms\tremaining: 1.98s\n",
            "45:\ttotal: 355ms\tremaining: 1.96s\n",
            "46:\ttotal: 358ms\tremaining: 1.93s\n",
            "47:\ttotal: 371ms\tremaining: 1.95s\n",
            "48:\ttotal: 379ms\tremaining: 1.94s\n",
            "49:\ttotal: 386ms\tremaining: 1.93s\n",
            "50:\ttotal: 392ms\tremaining: 1.92s\n",
            "51:\ttotal: 398ms\tremaining: 1.9s\n",
            "52:\ttotal: 402ms\tremaining: 1.87s\n",
            "53:\ttotal: 408ms\tremaining: 1.86s\n",
            "54:\ttotal: 411ms\tremaining: 1.83s\n",
            "55:\ttotal: 417ms\tremaining: 1.81s\n",
            "56:\ttotal: 420ms\tremaining: 1.79s\n",
            "57:\ttotal: 425ms\tremaining: 1.77s\n",
            "58:\ttotal: 431ms\tremaining: 1.76s\n",
            "59:\ttotal: 435ms\tremaining: 1.74s\n",
            "60:\ttotal: 439ms\tremaining: 1.72s\n",
            "61:\ttotal: 442ms\tremaining: 1.7s\n",
            "62:\ttotal: 455ms\tremaining: 1.71s\n",
            "63:\ttotal: 458ms\tremaining: 1.69s\n",
            "64:\ttotal: 465ms\tremaining: 1.68s\n",
            "65:\ttotal: 470ms\tremaining: 1.67s\n",
            "66:\ttotal: 473ms\tremaining: 1.64s\n",
            "67:\ttotal: 475ms\tremaining: 1.62s\n",
            "68:\ttotal: 481ms\tremaining: 1.61s\n",
            "69:\ttotal: 488ms\tremaining: 1.6s\n",
            "70:\ttotal: 491ms\tremaining: 1.58s\n",
            "71:\ttotal: 493ms\tremaining: 1.56s\n",
            "72:\ttotal: 499ms\tremaining: 1.55s\n",
            "73:\ttotal: 501ms\tremaining: 1.53s\n",
            "74:\ttotal: 503ms\tremaining: 1.51s\n",
            "75:\ttotal: 510ms\tremaining: 1.5s\n",
            "76:\ttotal: 519ms\tremaining: 1.5s\n",
            "77:\ttotal: 528ms\tremaining: 1.5s\n",
            "78:\ttotal: 536ms\tremaining: 1.5s\n",
            "79:\ttotal: 543ms\tremaining: 1.49s\n",
            "80:\ttotal: 551ms\tremaining: 1.49s\n",
            "81:\ttotal: 553ms\tremaining: 1.47s\n",
            "82:\ttotal: 559ms\tremaining: 1.46s\n",
            "83:\ttotal: 562ms\tremaining: 1.45s\n",
            "84:\ttotal: 568ms\tremaining: 1.44s\n",
            "85:\ttotal: 576ms\tremaining: 1.43s\n",
            "86:\ttotal: 582ms\tremaining: 1.43s\n",
            "87:\ttotal: 588ms\tremaining: 1.42s\n",
            "88:\ttotal: 594ms\tremaining: 1.41s\n",
            "89:\ttotal: 596ms\tremaining: 1.39s\n",
            "90:\ttotal: 599ms\tremaining: 1.38s\n",
            "91:\ttotal: 603ms\tremaining: 1.36s\n",
            "92:\ttotal: 612ms\tremaining: 1.36s\n",
            "93:\ttotal: 620ms\tremaining: 1.36s\n",
            "94:\ttotal: 629ms\tremaining: 1.36s\n",
            "95:\ttotal: 637ms\tremaining: 1.35s\n",
            "96:\ttotal: 645ms\tremaining: 1.35s\n",
            "97:\ttotal: 650ms\tremaining: 1.34s\n",
            "98:\ttotal: 656ms\tremaining: 1.33s\n",
            "99:\ttotal: 661ms\tremaining: 1.32s\n",
            "100:\ttotal: 667ms\tremaining: 1.31s\n",
            "101:\ttotal: 675ms\tremaining: 1.31s\n",
            "102:\ttotal: 682ms\tremaining: 1.3s\n",
            "103:\ttotal: 690ms\tremaining: 1.3s\n",
            "104:\ttotal: 694ms\tremaining: 1.29s\n",
            "105:\ttotal: 703ms\tremaining: 1.29s\n",
            "106:\ttotal: 711ms\tremaining: 1.28s\n",
            "107:\ttotal: 721ms\tremaining: 1.28s\n",
            "108:\ttotal: 728ms\tremaining: 1.27s\n",
            "109:\ttotal: 735ms\tremaining: 1.27s\n",
            "110:\ttotal: 740ms\tremaining: 1.26s\n",
            "111:\ttotal: 748ms\tremaining: 1.25s\n",
            "112:\ttotal: 757ms\tremaining: 1.25s\n",
            "113:\ttotal: 767ms\tremaining: 1.25s\n",
            "114:\ttotal: 778ms\tremaining: 1.25s\n",
            "115:\ttotal: 787ms\tremaining: 1.25s\n",
            "116:\ttotal: 790ms\tremaining: 1.24s\n",
            "117:\ttotal: 799ms\tremaining: 1.23s\n",
            "118:\ttotal: 807ms\tremaining: 1.23s\n",
            "119:\ttotal: 817ms\tremaining: 1.22s\n",
            "120:\ttotal: 820ms\tremaining: 1.21s\n",
            "121:\ttotal: 823ms\tremaining: 1.2s\n",
            "122:\ttotal: 829ms\tremaining: 1.19s\n",
            "123:\ttotal: 838ms\tremaining: 1.19s\n",
            "124:\ttotal: 841ms\tremaining: 1.18s\n",
            "125:\ttotal: 851ms\tremaining: 1.18s\n",
            "126:\ttotal: 861ms\tremaining: 1.17s\n",
            "127:\ttotal: 869ms\tremaining: 1.17s\n",
            "128:\ttotal: 871ms\tremaining: 1.15s\n",
            "129:\ttotal: 879ms\tremaining: 1.15s\n",
            "130:\ttotal: 885ms\tremaining: 1.14s\n",
            "131:\ttotal: 892ms\tremaining: 1.14s\n",
            "132:\ttotal: 895ms\tremaining: 1.12s\n",
            "133:\ttotal: 902ms\tremaining: 1.12s\n",
            "134:\ttotal: 910ms\tremaining: 1.11s\n",
            "135:\ttotal: 919ms\tremaining: 1.11s\n",
            "136:\ttotal: 929ms\tremaining: 1.1s\n",
            "137:\ttotal: 936ms\tremaining: 1.1s\n",
            "138:\ttotal: 942ms\tremaining: 1.09s\n",
            "139:\ttotal: 950ms\tremaining: 1.09s\n",
            "140:\ttotal: 957ms\tremaining: 1.08s\n",
            "141:\ttotal: 959ms\tremaining: 1.07s\n",
            "142:\ttotal: 964ms\tremaining: 1.06s\n",
            "143:\ttotal: 975ms\tremaining: 1.05s\n",
            "144:\ttotal: 983ms\tremaining: 1.05s\n",
            "145:\ttotal: 992ms\tremaining: 1.05s\n",
            "146:\ttotal: 999ms\tremaining: 1.04s\n",
            "147:\ttotal: 1s\tremaining: 1.03s\n",
            "148:\ttotal: 1.01s\tremaining: 1.02s\n",
            "149:\ttotal: 1.02s\tremaining: 1.02s\n",
            "150:\ttotal: 1.02s\tremaining: 1.01s\n",
            "151:\ttotal: 1.03s\tremaining: 1s\n",
            "152:\ttotal: 1.04s\tremaining: 999ms\n",
            "153:\ttotal: 1.05s\tremaining: 995ms\n",
            "154:\ttotal: 1.06s\tremaining: 990ms\n",
            "155:\ttotal: 1.07s\tremaining: 985ms\n",
            "156:\ttotal: 1.07s\tremaining: 980ms\n",
            "157:\ttotal: 1.08s\tremaining: 975ms\n",
            "158:\ttotal: 1.09s\tremaining: 967ms\n",
            "159:\ttotal: 1.1s\tremaining: 959ms\n",
            "160:\ttotal: 1.1s\tremaining: 951ms\n",
            "161:\ttotal: 1.11s\tremaining: 943ms\n",
            "162:\ttotal: 1.11s\tremaining: 936ms\n",
            "163:\ttotal: 1.12s\tremaining: 929ms\n",
            "164:\ttotal: 1.13s\tremaining: 922ms\n",
            "165:\ttotal: 1.13s\tremaining: 915ms\n",
            "166:\ttotal: 1.14s\tremaining: 909ms\n",
            "167:\ttotal: 1.15s\tremaining: 904ms\n",
            "168:\ttotal: 1.16s\tremaining: 899ms\n",
            "169:\ttotal: 1.17s\tremaining: 891ms\n",
            "170:\ttotal: 1.17s\tremaining: 886ms\n",
            "171:\ttotal: 1.18s\tremaining: 880ms\n",
            "172:\ttotal: 1.19s\tremaining: 872ms\n",
            "173:\ttotal: 1.19s\tremaining: 864ms\n",
            "174:\ttotal: 1.2s\tremaining: 858ms\n",
            "175:\ttotal: 1.21s\tremaining: 852ms\n",
            "176:\ttotal: 1.22s\tremaining: 846ms\n",
            "177:\ttotal: 1.23s\tremaining: 843ms\n",
            "178:\ttotal: 1.24s\tremaining: 837ms\n",
            "179:\ttotal: 1.25s\tremaining: 831ms\n",
            "180:\ttotal: 1.25s\tremaining: 824ms\n",
            "181:\ttotal: 1.26s\tremaining: 820ms\n",
            "182:\ttotal: 1.27s\tremaining: 813ms\n",
            "183:\ttotal: 1.28s\tremaining: 807ms\n",
            "184:\ttotal: 1.29s\tremaining: 801ms\n",
            "185:\ttotal: 1.3s\tremaining: 795ms\n",
            "186:\ttotal: 1.31s\tremaining: 791ms\n",
            "187:\ttotal: 1.32s\tremaining: 785ms\n",
            "188:\ttotal: 1.33s\tremaining: 779ms\n",
            "189:\ttotal: 1.33s\tremaining: 773ms\n",
            "190:\ttotal: 1.34s\tremaining: 766ms\n",
            "191:\ttotal: 1.35s\tremaining: 760ms\n",
            "192:\ttotal: 1.36s\tremaining: 752ms\n",
            "193:\ttotal: 1.36s\tremaining: 746ms\n",
            "194:\ttotal: 1.37s\tremaining: 739ms\n",
            "195:\ttotal: 1.38s\tremaining: 733ms\n",
            "196:\ttotal: 1.39s\tremaining: 728ms\n",
            "197:\ttotal: 1.4s\tremaining: 721ms\n",
            "198:\ttotal: 1.41s\tremaining: 716ms\n",
            "199:\ttotal: 1.42s\tremaining: 709ms\n",
            "200:\ttotal: 1.43s\tremaining: 702ms\n",
            "201:\ttotal: 1.43s\tremaining: 695ms\n",
            "202:\ttotal: 1.44s\tremaining: 688ms\n",
            "203:\ttotal: 1.45s\tremaining: 681ms\n",
            "204:\ttotal: 1.46s\tremaining: 676ms\n",
            "205:\ttotal: 1.47s\tremaining: 670ms\n",
            "206:\ttotal: 1.48s\tremaining: 663ms\n",
            "207:\ttotal: 1.49s\tremaining: 657ms\n",
            "208:\ttotal: 1.49s\tremaining: 651ms\n",
            "209:\ttotal: 1.5s\tremaining: 645ms\n",
            "210:\ttotal: 1.51s\tremaining: 639ms\n",
            "211:\ttotal: 1.52s\tremaining: 633ms\n",
            "212:\ttotal: 1.53s\tremaining: 626ms\n",
            "213:\ttotal: 1.54s\tremaining: 619ms\n",
            "214:\ttotal: 1.55s\tremaining: 613ms\n",
            "215:\ttotal: 1.56s\tremaining: 607ms\n",
            "216:\ttotal: 1.57s\tremaining: 601ms\n",
            "217:\ttotal: 1.58s\tremaining: 594ms\n",
            "218:\ttotal: 1.59s\tremaining: 588ms\n",
            "219:\ttotal: 1.6s\tremaining: 580ms\n",
            "220:\ttotal: 1.6s\tremaining: 573ms\n",
            "221:\ttotal: 1.61s\tremaining: 566ms\n",
            "222:\ttotal: 1.62s\tremaining: 559ms\n",
            "223:\ttotal: 1.63s\tremaining: 552ms\n",
            "224:\ttotal: 1.64s\tremaining: 546ms\n",
            "225:\ttotal: 1.65s\tremaining: 540ms\n",
            "226:\ttotal: 1.66s\tremaining: 533ms\n",
            "227:\ttotal: 1.66s\tremaining: 525ms\n",
            "228:\ttotal: 1.67s\tremaining: 518ms\n",
            "229:\ttotal: 1.68s\tremaining: 510ms\n",
            "230:\ttotal: 1.68s\tremaining: 503ms\n",
            "231:\ttotal: 1.69s\tremaining: 496ms\n",
            "232:\ttotal: 1.7s\tremaining: 489ms\n",
            "233:\ttotal: 1.71s\tremaining: 482ms\n",
            "234:\ttotal: 1.72s\tremaining: 475ms\n",
            "235:\ttotal: 1.73s\tremaining: 468ms\n",
            "236:\ttotal: 1.73s\tremaining: 461ms\n",
            "237:\ttotal: 1.74s\tremaining: 453ms\n",
            "238:\ttotal: 1.75s\tremaining: 446ms\n",
            "239:\ttotal: 1.76s\tremaining: 440ms\n",
            "240:\ttotal: 1.77s\tremaining: 433ms\n",
            "241:\ttotal: 1.77s\tremaining: 425ms\n",
            "242:\ttotal: 1.78s\tremaining: 418ms\n",
            "243:\ttotal: 1.79s\tremaining: 410ms\n",
            "244:\ttotal: 1.79s\tremaining: 403ms\n",
            "245:\ttotal: 1.81s\tremaining: 396ms\n",
            "246:\ttotal: 1.82s\tremaining: 390ms\n",
            "247:\ttotal: 1.83s\tremaining: 384ms\n",
            "248:\ttotal: 1.84s\tremaining: 377ms\n",
            "249:\ttotal: 1.85s\tremaining: 369ms\n",
            "250:\ttotal: 1.85s\tremaining: 362ms\n",
            "251:\ttotal: 1.86s\tremaining: 354ms\n",
            "252:\ttotal: 1.87s\tremaining: 347ms\n",
            "253:\ttotal: 1.87s\tremaining: 339ms\n",
            "254:\ttotal: 1.88s\tremaining: 332ms\n",
            "255:\ttotal: 1.89s\tremaining: 325ms\n",
            "256:\ttotal: 1.9s\tremaining: 318ms\n",
            "257:\ttotal: 1.91s\tremaining: 311ms\n",
            "258:\ttotal: 1.92s\tremaining: 304ms\n",
            "259:\ttotal: 1.93s\tremaining: 297ms\n",
            "260:\ttotal: 1.94s\tremaining: 290ms\n",
            "261:\ttotal: 1.95s\tremaining: 282ms\n",
            "262:\ttotal: 1.95s\tremaining: 275ms\n",
            "263:\ttotal: 1.96s\tremaining: 268ms\n",
            "264:\ttotal: 1.97s\tremaining: 260ms\n",
            "265:\ttotal: 1.98s\tremaining: 253ms\n",
            "266:\ttotal: 1.99s\tremaining: 245ms\n",
            "267:\ttotal: 1.99s\tremaining: 238ms\n",
            "268:\ttotal: 2s\tremaining: 231ms\n",
            "269:\ttotal: 2.02s\tremaining: 224ms\n",
            "270:\ttotal: 2.03s\tremaining: 217ms\n",
            "271:\ttotal: 2.04s\tremaining: 210ms\n",
            "272:\ttotal: 2.05s\tremaining: 203ms\n",
            "273:\ttotal: 2.06s\tremaining: 196ms\n",
            "274:\ttotal: 2.07s\tremaining: 188ms\n",
            "275:\ttotal: 2.07s\tremaining: 180ms\n",
            "276:\ttotal: 2.08s\tremaining: 173ms\n",
            "277:\ttotal: 2.09s\tremaining: 165ms\n",
            "278:\ttotal: 2.1s\tremaining: 158ms\n",
            "279:\ttotal: 2.1s\tremaining: 150ms\n",
            "280:\ttotal: 2.11s\tremaining: 143ms\n",
            "281:\ttotal: 2.13s\tremaining: 136ms\n",
            "282:\ttotal: 2.13s\tremaining: 128ms\n",
            "283:\ttotal: 2.14s\tremaining: 121ms\n",
            "284:\ttotal: 2.15s\tremaining: 113ms\n",
            "285:\ttotal: 2.15s\tremaining: 106ms\n",
            "286:\ttotal: 2.16s\tremaining: 97.9ms\n",
            "287:\ttotal: 2.17s\tremaining: 90.4ms\n",
            "288:\ttotal: 2.17s\tremaining: 82.8ms\n",
            "289:\ttotal: 2.18s\tremaining: 75.2ms\n",
            "290:\ttotal: 2.19s\tremaining: 67.7ms\n",
            "291:\ttotal: 2.2s\tremaining: 60.2ms\n",
            "292:\ttotal: 2.2s\tremaining: 52.7ms\n",
            "293:\ttotal: 2.21s\tremaining: 45.2ms\n",
            "294:\ttotal: 2.23s\tremaining: 37.7ms\n",
            "295:\ttotal: 2.23s\tremaining: 30.2ms\n",
            "296:\ttotal: 2.24s\tremaining: 22.6ms\n",
            "297:\ttotal: 2.25s\tremaining: 15.1ms\n",
            "298:\ttotal: 2.26s\tremaining: 7.56ms\n",
            "299:\ttotal: 2.27s\tremaining: 0us\n",
            "Learning rate set to 0.057467\n",
            "0:\ttotal: 11.9ms\tremaining: 3.55s\n",
            "1:\ttotal: 19.7ms\tremaining: 2.94s\n",
            "2:\ttotal: 27.2ms\tremaining: 2.69s\n",
            "3:\ttotal: 34.6ms\tremaining: 2.56s\n",
            "4:\ttotal: 41.1ms\tremaining: 2.43s\n",
            "5:\ttotal: 47.3ms\tremaining: 2.32s\n",
            "6:\ttotal: 53ms\tremaining: 2.22s\n",
            "7:\ttotal: 58.9ms\tremaining: 2.15s\n",
            "8:\ttotal: 65.5ms\tremaining: 2.12s\n",
            "9:\ttotal: 72.7ms\tremaining: 2.11s\n",
            "10:\ttotal: 80.4ms\tremaining: 2.11s\n",
            "11:\ttotal: 89.5ms\tremaining: 2.15s\n",
            "12:\ttotal: 94.9ms\tremaining: 2.1s\n",
            "13:\ttotal: 103ms\tremaining: 2.11s\n",
            "14:\ttotal: 112ms\tremaining: 2.14s\n",
            "15:\ttotal: 120ms\tremaining: 2.13s\n",
            "16:\ttotal: 128ms\tremaining: 2.13s\n",
            "17:\ttotal: 134ms\tremaining: 2.09s\n",
            "18:\ttotal: 141ms\tremaining: 2.08s\n",
            "19:\ttotal: 147ms\tremaining: 2.06s\n",
            "20:\ttotal: 150ms\tremaining: 2s\n",
            "21:\ttotal: 157ms\tremaining: 1.98s\n",
            "22:\ttotal: 163ms\tremaining: 1.96s\n",
            "23:\ttotal: 171ms\tremaining: 1.97s\n",
            "24:\ttotal: 183ms\tremaining: 2.01s\n",
            "25:\ttotal: 190ms\tremaining: 2s\n",
            "26:\ttotal: 202ms\tremaining: 2.04s\n",
            "27:\ttotal: 210ms\tremaining: 2.04s\n",
            "28:\ttotal: 217ms\tremaining: 2.03s\n",
            "29:\ttotal: 224ms\tremaining: 2.02s\n",
            "30:\ttotal: 229ms\tremaining: 1.99s\n",
            "31:\ttotal: 238ms\tremaining: 1.99s\n",
            "32:\ttotal: 244ms\tremaining: 1.97s\n",
            "33:\ttotal: 247ms\tremaining: 1.94s\n",
            "34:\ttotal: 254ms\tremaining: 1.92s\n",
            "35:\ttotal: 256ms\tremaining: 1.88s\n",
            "36:\ttotal: 260ms\tremaining: 1.84s\n",
            "37:\ttotal: 268ms\tremaining: 1.85s\n",
            "38:\ttotal: 272ms\tremaining: 1.82s\n",
            "39:\ttotal: 279ms\tremaining: 1.81s\n",
            "40:\ttotal: 288ms\tremaining: 1.82s\n",
            "41:\ttotal: 298ms\tremaining: 1.83s\n",
            "42:\ttotal: 305ms\tremaining: 1.82s\n",
            "43:\ttotal: 309ms\tremaining: 1.8s\n",
            "44:\ttotal: 315ms\tremaining: 1.78s\n",
            "45:\ttotal: 319ms\tremaining: 1.76s\n",
            "46:\ttotal: 325ms\tremaining: 1.75s\n",
            "47:\ttotal: 331ms\tremaining: 1.74s\n",
            "48:\ttotal: 337ms\tremaining: 1.73s\n",
            "49:\ttotal: 343ms\tremaining: 1.71s\n",
            "50:\ttotal: 349ms\tremaining: 1.71s\n",
            "51:\ttotal: 356ms\tremaining: 1.7s\n",
            "52:\ttotal: 364ms\tremaining: 1.7s\n",
            "53:\ttotal: 372ms\tremaining: 1.69s\n",
            "54:\ttotal: 378ms\tremaining: 1.68s\n",
            "55:\ttotal: 385ms\tremaining: 1.68s\n",
            "56:\ttotal: 389ms\tremaining: 1.66s\n",
            "57:\ttotal: 395ms\tremaining: 1.65s\n",
            "58:\ttotal: 401ms\tremaining: 1.64s\n",
            "59:\ttotal: 407ms\tremaining: 1.63s\n",
            "60:\ttotal: 413ms\tremaining: 1.62s\n",
            "61:\ttotal: 416ms\tremaining: 1.6s\n",
            "62:\ttotal: 424ms\tremaining: 1.59s\n",
            "63:\ttotal: 429ms\tremaining: 1.58s\n",
            "64:\ttotal: 434ms\tremaining: 1.57s\n",
            "65:\ttotal: 436ms\tremaining: 1.55s\n",
            "66:\ttotal: 441ms\tremaining: 1.53s\n",
            "67:\ttotal: 448ms\tremaining: 1.53s\n",
            "68:\ttotal: 451ms\tremaining: 1.51s\n",
            "69:\ttotal: 460ms\tremaining: 1.51s\n",
            "70:\ttotal: 467ms\tremaining: 1.51s\n",
            "71:\ttotal: 479ms\tremaining: 1.52s\n",
            "72:\ttotal: 487ms\tremaining: 1.51s\n",
            "73:\ttotal: 495ms\tremaining: 1.51s\n",
            "74:\ttotal: 499ms\tremaining: 1.5s\n",
            "75:\ttotal: 502ms\tremaining: 1.48s\n",
            "76:\ttotal: 511ms\tremaining: 1.48s\n",
            "77:\ttotal: 519ms\tremaining: 1.48s\n",
            "78:\ttotal: 527ms\tremaining: 1.47s\n",
            "79:\ttotal: 539ms\tremaining: 1.48s\n",
            "80:\ttotal: 543ms\tremaining: 1.47s\n",
            "81:\ttotal: 550ms\tremaining: 1.46s\n",
            "82:\ttotal: 558ms\tremaining: 1.46s\n",
            "83:\ttotal: 563ms\tremaining: 1.45s\n",
            "84:\ttotal: 571ms\tremaining: 1.44s\n",
            "85:\ttotal: 579ms\tremaining: 1.44s\n",
            "86:\ttotal: 584ms\tremaining: 1.43s\n",
            "87:\ttotal: 587ms\tremaining: 1.42s\n",
            "88:\ttotal: 597ms\tremaining: 1.41s\n",
            "89:\ttotal: 601ms\tremaining: 1.4s\n",
            "90:\ttotal: 605ms\tremaining: 1.39s\n",
            "91:\ttotal: 614ms\tremaining: 1.39s\n",
            "92:\ttotal: 617ms\tremaining: 1.37s\n",
            "93:\ttotal: 626ms\tremaining: 1.37s\n",
            "94:\ttotal: 631ms\tremaining: 1.36s\n",
            "95:\ttotal: 638ms\tremaining: 1.35s\n",
            "96:\ttotal: 645ms\tremaining: 1.35s\n",
            "97:\ttotal: 648ms\tremaining: 1.33s\n",
            "98:\ttotal: 655ms\tremaining: 1.33s\n",
            "99:\ttotal: 662ms\tremaining: 1.32s\n",
            "100:\ttotal: 668ms\tremaining: 1.31s\n",
            "101:\ttotal: 672ms\tremaining: 1.3s\n",
            "102:\ttotal: 678ms\tremaining: 1.3s\n",
            "103:\ttotal: 686ms\tremaining: 1.29s\n",
            "104:\ttotal: 693ms\tremaining: 1.29s\n",
            "105:\ttotal: 700ms\tremaining: 1.28s\n",
            "106:\ttotal: 708ms\tremaining: 1.28s\n",
            "107:\ttotal: 719ms\tremaining: 1.28s\n",
            "108:\ttotal: 728ms\tremaining: 1.27s\n",
            "109:\ttotal: 737ms\tremaining: 1.27s\n",
            "110:\ttotal: 744ms\tremaining: 1.27s\n",
            "111:\ttotal: 751ms\tremaining: 1.26s\n",
            "112:\ttotal: 760ms\tremaining: 1.26s\n",
            "113:\ttotal: 769ms\tremaining: 1.25s\n",
            "114:\ttotal: 775ms\tremaining: 1.25s\n",
            "115:\ttotal: 788ms\tremaining: 1.25s\n",
            "116:\ttotal: 799ms\tremaining: 1.25s\n",
            "117:\ttotal: 805ms\tremaining: 1.24s\n",
            "118:\ttotal: 811ms\tremaining: 1.23s\n",
            "119:\ttotal: 823ms\tremaining: 1.24s\n",
            "120:\ttotal: 841ms\tremaining: 1.24s\n",
            "121:\ttotal: 844ms\tremaining: 1.23s\n",
            "122:\ttotal: 859ms\tremaining: 1.24s\n",
            "123:\ttotal: 867ms\tremaining: 1.23s\n",
            "124:\ttotal: 874ms\tremaining: 1.22s\n",
            "125:\ttotal: 881ms\tremaining: 1.22s\n",
            "126:\ttotal: 887ms\tremaining: 1.21s\n",
            "127:\ttotal: 890ms\tremaining: 1.2s\n",
            "128:\ttotal: 894ms\tremaining: 1.19s\n",
            "129:\ttotal: 902ms\tremaining: 1.18s\n",
            "130:\ttotal: 911ms\tremaining: 1.17s\n",
            "131:\ttotal: 919ms\tremaining: 1.17s\n",
            "132:\ttotal: 927ms\tremaining: 1.16s\n",
            "133:\ttotal: 935ms\tremaining: 1.16s\n",
            "134:\ttotal: 943ms\tremaining: 1.15s\n",
            "135:\ttotal: 949ms\tremaining: 1.14s\n",
            "136:\ttotal: 956ms\tremaining: 1.14s\n",
            "137:\ttotal: 964ms\tremaining: 1.13s\n",
            "138:\ttotal: 971ms\tremaining: 1.12s\n",
            "139:\ttotal: 975ms\tremaining: 1.11s\n",
            "140:\ttotal: 978ms\tremaining: 1.1s\n",
            "141:\ttotal: 982ms\tremaining: 1.09s\n",
            "142:\ttotal: 989ms\tremaining: 1.08s\n",
            "143:\ttotal: 996ms\tremaining: 1.08s\n",
            "144:\ttotal: 1s\tremaining: 1.07s\n",
            "145:\ttotal: 1.01s\tremaining: 1.06s\n",
            "146:\ttotal: 1.01s\tremaining: 1.05s\n",
            "147:\ttotal: 1.02s\tremaining: 1.04s\n",
            "148:\ttotal: 1.02s\tremaining: 1.04s\n",
            "149:\ttotal: 1.03s\tremaining: 1.03s\n",
            "150:\ttotal: 1.03s\tremaining: 1.02s\n",
            "151:\ttotal: 1.04s\tremaining: 1.01s\n",
            "152:\ttotal: 1.05s\tremaining: 1.01s\n",
            "153:\ttotal: 1.06s\tremaining: 1.01s\n",
            "154:\ttotal: 1.07s\tremaining: 1s\n",
            "155:\ttotal: 1.08s\tremaining: 995ms\n",
            "156:\ttotal: 1.08s\tremaining: 988ms\n",
            "157:\ttotal: 1.09s\tremaining: 980ms\n",
            "158:\ttotal: 1.1s\tremaining: 973ms\n",
            "159:\ttotal: 1.1s\tremaining: 966ms\n",
            "160:\ttotal: 1.11s\tremaining: 958ms\n",
            "161:\ttotal: 1.12s\tremaining: 953ms\n",
            "162:\ttotal: 1.13s\tremaining: 948ms\n",
            "163:\ttotal: 1.14s\tremaining: 943ms\n",
            "164:\ttotal: 1.14s\tremaining: 937ms\n",
            "165:\ttotal: 1.15s\tremaining: 932ms\n",
            "166:\ttotal: 1.17s\tremaining: 932ms\n",
            "167:\ttotal: 1.18s\tremaining: 929ms\n",
            "168:\ttotal: 1.19s\tremaining: 925ms\n",
            "169:\ttotal: 1.2s\tremaining: 918ms\n",
            "170:\ttotal: 1.21s\tremaining: 914ms\n",
            "171:\ttotal: 1.22s\tremaining: 910ms\n",
            "172:\ttotal: 1.23s\tremaining: 906ms\n",
            "173:\ttotal: 1.25s\tremaining: 903ms\n",
            "174:\ttotal: 1.26s\tremaining: 901ms\n",
            "175:\ttotal: 1.27s\tremaining: 898ms\n",
            "176:\ttotal: 1.29s\tremaining: 894ms\n",
            "177:\ttotal: 1.3s\tremaining: 889ms\n",
            "178:\ttotal: 1.31s\tremaining: 885ms\n",
            "179:\ttotal: 1.32s\tremaining: 880ms\n",
            "180:\ttotal: 1.33s\tremaining: 875ms\n",
            "181:\ttotal: 1.34s\tremaining: 870ms\n",
            "182:\ttotal: 1.35s\tremaining: 864ms\n",
            "183:\ttotal: 1.36s\tremaining: 858ms\n",
            "184:\ttotal: 1.37s\tremaining: 852ms\n",
            "185:\ttotal: 1.38s\tremaining: 846ms\n",
            "186:\ttotal: 1.39s\tremaining: 840ms\n",
            "187:\ttotal: 1.4s\tremaining: 835ms\n",
            "188:\ttotal: 1.41s\tremaining: 829ms\n",
            "189:\ttotal: 1.42s\tremaining: 823ms\n",
            "190:\ttotal: 1.43s\tremaining: 816ms\n",
            "191:\ttotal: 1.44s\tremaining: 809ms\n",
            "192:\ttotal: 1.45s\tremaining: 801ms\n",
            "193:\ttotal: 1.46s\tremaining: 795ms\n",
            "194:\ttotal: 1.47s\tremaining: 789ms\n",
            "195:\ttotal: 1.47s\tremaining: 782ms\n",
            "196:\ttotal: 1.48s\tremaining: 775ms\n",
            "197:\ttotal: 1.49s\tremaining: 767ms\n",
            "198:\ttotal: 1.49s\tremaining: 759ms\n",
            "199:\ttotal: 1.5s\tremaining: 751ms\n",
            "200:\ttotal: 1.51s\tremaining: 743ms\n",
            "201:\ttotal: 1.52s\tremaining: 736ms\n",
            "202:\ttotal: 1.53s\tremaining: 731ms\n",
            "203:\ttotal: 1.54s\tremaining: 725ms\n",
            "204:\ttotal: 1.55s\tremaining: 719ms\n",
            "205:\ttotal: 1.56s\tremaining: 711ms\n",
            "206:\ttotal: 1.57s\tremaining: 705ms\n",
            "207:\ttotal: 1.58s\tremaining: 697ms\n",
            "208:\ttotal: 1.58s\tremaining: 691ms\n",
            "209:\ttotal: 1.6s\tremaining: 684ms\n",
            "210:\ttotal: 1.61s\tremaining: 678ms\n",
            "211:\ttotal: 1.61s\tremaining: 671ms\n",
            "212:\ttotal: 1.62s\tremaining: 664ms\n",
            "213:\ttotal: 1.63s\tremaining: 657ms\n",
            "214:\ttotal: 1.64s\tremaining: 650ms\n",
            "215:\ttotal: 1.65s\tremaining: 642ms\n",
            "216:\ttotal: 1.66s\tremaining: 634ms\n",
            "217:\ttotal: 1.66s\tremaining: 626ms\n",
            "218:\ttotal: 1.67s\tremaining: 618ms\n",
            "219:\ttotal: 1.68s\tremaining: 610ms\n",
            "220:\ttotal: 1.68s\tremaining: 602ms\n",
            "221:\ttotal: 1.69s\tremaining: 594ms\n",
            "222:\ttotal: 1.7s\tremaining: 586ms\n",
            "223:\ttotal: 1.71s\tremaining: 579ms\n",
            "224:\ttotal: 1.73s\tremaining: 575ms\n",
            "225:\ttotal: 1.74s\tremaining: 569ms\n",
            "226:\ttotal: 1.75s\tremaining: 562ms\n",
            "227:\ttotal: 1.75s\tremaining: 553ms\n",
            "228:\ttotal: 1.76s\tremaining: 545ms\n",
            "229:\ttotal: 1.77s\tremaining: 538ms\n",
            "230:\ttotal: 1.77s\tremaining: 530ms\n",
            "231:\ttotal: 1.78s\tremaining: 522ms\n",
            "232:\ttotal: 1.79s\tremaining: 514ms\n",
            "233:\ttotal: 1.79s\tremaining: 506ms\n",
            "234:\ttotal: 1.8s\tremaining: 499ms\n",
            "235:\ttotal: 1.81s\tremaining: 491ms\n",
            "236:\ttotal: 1.82s\tremaining: 484ms\n",
            "237:\ttotal: 1.83s\tremaining: 476ms\n",
            "238:\ttotal: 1.84s\tremaining: 469ms\n",
            "239:\ttotal: 1.85s\tremaining: 462ms\n",
            "240:\ttotal: 1.86s\tremaining: 455ms\n",
            "241:\ttotal: 1.87s\tremaining: 447ms\n",
            "242:\ttotal: 1.87s\tremaining: 440ms\n",
            "243:\ttotal: 1.88s\tremaining: 431ms\n",
            "244:\ttotal: 1.9s\tremaining: 426ms\n",
            "245:\ttotal: 1.91s\tremaining: 419ms\n",
            "246:\ttotal: 1.92s\tremaining: 411ms\n",
            "247:\ttotal: 1.92s\tremaining: 403ms\n",
            "248:\ttotal: 1.93s\tremaining: 395ms\n",
            "249:\ttotal: 1.94s\tremaining: 387ms\n",
            "250:\ttotal: 1.94s\tremaining: 379ms\n",
            "251:\ttotal: 1.95s\tremaining: 371ms\n",
            "252:\ttotal: 1.96s\tremaining: 364ms\n",
            "253:\ttotal: 1.97s\tremaining: 356ms\n",
            "254:\ttotal: 1.98s\tremaining: 349ms\n",
            "255:\ttotal: 1.99s\tremaining: 341ms\n",
            "256:\ttotal: 1.99s\tremaining: 333ms\n",
            "257:\ttotal: 2s\tremaining: 325ms\n",
            "258:\ttotal: 2.01s\tremaining: 318ms\n",
            "259:\ttotal: 2.01s\tremaining: 310ms\n",
            "260:\ttotal: 2.02s\tremaining: 302ms\n",
            "261:\ttotal: 2.03s\tremaining: 294ms\n",
            "262:\ttotal: 2.03s\tremaining: 286ms\n",
            "263:\ttotal: 2.04s\tremaining: 278ms\n",
            "264:\ttotal: 2.05s\tremaining: 271ms\n",
            "265:\ttotal: 2.06s\tremaining: 264ms\n",
            "266:\ttotal: 2.07s\tremaining: 256ms\n",
            "267:\ttotal: 2.08s\tremaining: 249ms\n",
            "268:\ttotal: 2.09s\tremaining: 241ms\n",
            "269:\ttotal: 2.1s\tremaining: 233ms\n",
            "270:\ttotal: 2.1s\tremaining: 225ms\n",
            "271:\ttotal: 2.11s\tremaining: 217ms\n",
            "272:\ttotal: 2.12s\tremaining: 210ms\n",
            "273:\ttotal: 2.13s\tremaining: 202ms\n",
            "274:\ttotal: 2.14s\tremaining: 195ms\n",
            "275:\ttotal: 2.15s\tremaining: 187ms\n",
            "276:\ttotal: 2.16s\tremaining: 179ms\n",
            "277:\ttotal: 2.17s\tremaining: 172ms\n",
            "278:\ttotal: 2.18s\tremaining: 164ms\n",
            "279:\ttotal: 2.19s\tremaining: 156ms\n",
            "280:\ttotal: 2.19s\tremaining: 148ms\n",
            "281:\ttotal: 2.2s\tremaining: 140ms\n",
            "282:\ttotal: 2.21s\tremaining: 133ms\n",
            "283:\ttotal: 2.21s\tremaining: 125ms\n",
            "284:\ttotal: 2.22s\tremaining: 117ms\n",
            "285:\ttotal: 2.23s\tremaining: 109ms\n",
            "286:\ttotal: 2.24s\tremaining: 101ms\n",
            "287:\ttotal: 2.25s\tremaining: 93.6ms\n",
            "288:\ttotal: 2.26s\tremaining: 85.9ms\n",
            "289:\ttotal: 2.27s\tremaining: 78.3ms\n",
            "290:\ttotal: 2.28s\tremaining: 70.5ms\n",
            "291:\ttotal: 2.29s\tremaining: 62.7ms\n",
            "292:\ttotal: 2.3s\tremaining: 54.9ms\n",
            "293:\ttotal: 2.31s\tremaining: 47.1ms\n",
            "294:\ttotal: 2.32s\tremaining: 39.3ms\n",
            "295:\ttotal: 2.33s\tremaining: 31.4ms\n",
            "296:\ttotal: 2.33s\tremaining: 23.6ms\n",
            "297:\ttotal: 2.34s\tremaining: 15.7ms\n",
            "298:\ttotal: 2.35s\tremaining: 7.87ms\n",
            "299:\ttotal: 2.36s\tremaining: 0us\n",
            "AUC-ROC наилучшей модели: 0.8631658782302989\n",
            "Accuracy: 0.8062170742016421\n",
            "Параметры наилучшей модели: {'iterations': 300, 'depth': 6}\n"
          ]
        }
      ],
      "source": [
        "model_cb = CatBoostClassifier(random_state=RANDOM_STATE, eval_metric='AUC', auto_class_weights='Balanced',\n",
        "                              cat_features=categ_features)\n",
        "param_cb = {\n",
        "    'iterations': range(50, 351, 50),\n",
        "    'depth': range(2, 15)\n",
        "    }\n",
        "\n",
        "rs_cb = RandomizedSearchCV(\n",
        "    model_cb,\n",
        "    param_distributions=param_cb,\n",
        "    scoring='roc_auc',\n",
        "    n_jobs=-1,\n",
        "    random_state=RANDOM_STATE,\n",
        "    cv=4\n",
        ")\n",
        "rs_cb.fit(features_train, target_train, verbose=50)\n",
        "rs_cb_best_score = rs_cb.best_score_\n",
        "rs_cb_best_params = rs_cb.best_params_\n",
        "acc_cb = cross_val_score(rs_cb.best_estimator_, features_train, target_train, cv=5, scoring='accuracy').mean()\n",
        "print('AUC-ROC наилучшей модели:', rs_cb_best_score)\n",
        "print('Accuracy:', acc_cb)\n",
        "print('Параметры наилучшей модели:', rs_cb_best_params)"
      ]
    },
    {
      "cell_type": "markdown",
      "metadata": {
        "id": "oTkhQ2LOS-ke"
      },
      "source": [
        "Модель CatBoostClassifier была обучена и проверена кросс-валидацией  Лучший результат с метриками качества AUC-ROC: 0.8631658782302989, Accuracy: 0.8062170742016421 показала модель с параметрами 'iterations': 300, 'depth': 6."
      ]
    },
    {
      "cell_type": "code",
      "execution_count": null,
      "metadata": {
        "id": "rTw9Ipp-S-kf",
        "outputId": "fde5df31-df65-4348-a47f-86d1c63ae101"
      },
      "outputs": [
        {
          "data": {
            "text/html": [
              "<div>\n",
              "<style scoped>\n",
              "    .dataframe tbody tr th:only-of-type {\n",
              "        vertical-align: middle;\n",
              "    }\n",
              "\n",
              "    .dataframe tbody tr th {\n",
              "        vertical-align: top;\n",
              "    }\n",
              "\n",
              "    .dataframe thead th {\n",
              "        text-align: right;\n",
              "    }\n",
              "</style>\n",
              "<table border=\"1\" class=\"dataframe\">\n",
              "  <thead>\n",
              "    <tr style=\"text-align: right;\">\n",
              "      <th></th>\n",
              "      <th>модель</th>\n",
              "      <th>AUC-ROC</th>\n",
              "      <th>Accuracy</th>\n",
              "    </tr>\n",
              "  </thead>\n",
              "  <tbody>\n",
              "    <tr>\n",
              "      <th>0</th>\n",
              "      <td>LogisticRegression</td>\n",
              "      <td>0.759632</td>\n",
              "      <td>0.698142</td>\n",
              "    </tr>\n",
              "    <tr>\n",
              "      <th>1</th>\n",
              "      <td>RandomForestClassifier</td>\n",
              "      <td>0.821669</td>\n",
              "      <td>0.807357</td>\n",
              "    </tr>\n",
              "    <tr>\n",
              "      <th>2</th>\n",
              "      <td>CatBoostClassifier</td>\n",
              "      <td>0.863166</td>\n",
              "      <td>0.806217</td>\n",
              "    </tr>\n",
              "  </tbody>\n",
              "</table>\n",
              "</div>"
            ],
            "text/plain": [
              "                   модель   AUC-ROC  Accuracy\n",
              "0      LogisticRegression  0.759632  0.698142\n",
              "1  RandomForestClassifier  0.821669  0.807357\n",
              "2      CatBoostClassifier  0.863166  0.806217"
            ]
          },
          "execution_count": 68,
          "metadata": {},
          "output_type": "execute_result"
        }
      ],
      "source": [
        "result = pd.DataFrame([['LogisticRegression', rs_lr_best_score, acc_lr],\n",
        "                       ['RandomForestClassifier', rs_rf_best_score, acc_rf],\n",
        "                       ['CatBoostClassifier',rs_cb_best_score, acc_cb]],\n",
        "                       columns=['модель', 'AUC-ROC', 'Accuracy'])\n",
        "result"
      ]
    },
    {
      "cell_type": "markdown",
      "metadata": {
        "id": "gLHuzHTHS-kg"
      },
      "source": [
        "Были обучены модели LogisticRegression, RandomForestClassifier, CatBoostClassifier и проверены кросс-валидацией с использованием RandomizedSearchCV для подбора гиперпараметров. Для проверки качества моделей использовались метрики AUC-ROC и Accuracy. Лучшие результаты показала модель CatBoostClassifier с параметрами 'iterations': 300, 'depth': 6. Данная модель будет проверена на тестовой выборке."
      ]
    },
    {
      "cell_type": "markdown",
      "metadata": {
        "id": "S6Rvmw9-S-kg"
      },
      "source": [
        "##4 Тестирование лучшей модели"
      ]
    },
    {
      "cell_type": "code",
      "execution_count": null,
      "metadata": {
        "id": "I4GK6E3ES-kg",
        "outputId": "bd7e40ff-8f43-4247-edc3-be53f3c85fa6"
      },
      "outputs": [
        {
          "name": "stdout",
          "output_type": "stream",
          "text": [
            "AUC-ROC: 0.8744645374854411\n",
            "Accuracy: 0.8031854379977247\n"
          ]
        }
      ],
      "source": [
        "predict_test = rs_cb.predict(features_test)\n",
        "acc_test = accuracy_score(target_test, predict_test)\n",
        "probabilities_test = rs_cb.predict_proba(features_test)\n",
        "probabilities_one_test = probabilities_test[:, 1]\n",
        "auc_test = roc_auc_score(target_test, probabilities_one_test)\n",
        "print('AUC-ROC:', auc_test)\n",
        "print('Accuracy:', acc_test)"
      ]
    },
    {
      "cell_type": "markdown",
      "metadata": {
        "id": "HHSkCYBOS-kg"
      },
      "source": [
        "После тестирования модель показала метрики качества AUC-ROC: 0.8744645374854411, Accuracy: 0.8031854379977247."
      ]
    },
    {
      "cell_type": "code",
      "execution_count": null,
      "metadata": {
        "id": "G9nZcXf3S-kh",
        "outputId": "6b7ca5a7-f682-43fa-efa3-44b5c37e0e9c"
      },
      "outputs": [
        {
          "data": {
            "image/png": "[encoded data removed]",
            "text/plain": [
              "<Figure size 432x288 with 1 Axes>"
            ]
          },
          "metadata": {
            "needs_background": "light"
          },
          "output_type": "display_data"
        }
      ],
      "source": [
        "cb_feature_importance = pd.DataFrame(rs_cb.best_estimator_.get_feature_importance(), features_test.columns)\n",
        "cb_feature_importance.plot.bar(xlabel='Наименование признака', ylabel='Важность',\n",
        "                               title='Важность признаков лучшей модели', legend=None);"
      ]
    },
    {
      "cell_type": "code",
      "execution_count": null,
      "metadata": {
        "id": "nkEFvpnpS-kh",
        "outputId": "1fdf3642-e0dd-4b18-eddc-d73315f22c00"
      },
      "outputs": [
        {
          "data": {
            "image/png": "[encoded data removed]",
            "text/plain": [
              "<Figure size 432x288 with 1 Axes>"
            ]
          },
          "metadata": {
            "needs_background": "light"
          },
          "output_type": "display_data"
        }
      ],
      "source": [
        "fpr, tpr, thresholds = roc_curve(target_test, probabilities_one_test)\n",
        "plt.plot([0, 1], [0, 1], linestyle='--')\n",
        "plt.plot(fpr, tpr)\n",
        "plt.xlim([0., 1.0])\n",
        "plt.ylim([0.0, 1.05])\n",
        "plt.xlabel('False Positive Rate')\n",
        "plt.ylabel('True Positive Rate')\n",
        "plt.title(\"ROC-кривая\")\n",
        "plt.show()"
      ]
    },
    {
      "cell_type": "markdown",
      "metadata": {
        "id": "RRATNBmxS-kj"
      },
      "source": [
        "# Отчет"
      ]
    },
    {
      "cell_type": "markdown",
      "source": [
        "Целью проекта являлось построение модели, которая сможет спрогнозировать уйдет клиент оператора связи «Ниединогоразрыва.ком» в ближайшее время или нет.\n",
        "В нашем распоряжении были данные, состоящие из 4 файлов, полученных из разных источников с информацией о договоре, персональных данных клиента, об интернет-услугах и услугах телефонии.\n",
        "Для реализации поставленной цели в первую очередь был составлен план проекта, состоящий из 4 основных пунктов с подпунктами. При работе все запланированные пункты были исполнены и структура плана была полностью соблюдена.\n",
        "В реализации данного проекта никаких затруднений не возникало, все этапы выполнялись в соответствии с планом.\n",
        "Проект состоит из четырех основных этапов: подготовка данных, исследовательский анализ данных, обучение моделей, тестирование лучшей модели. Все этапы важны и выявить ключевые не представляется возможным, т.к. все этапы последовательно приводят к требуемому результату. Подготовка данных позволила избежать искажений и ошибок в дальнейшем обучении, исследовательский анализ данных помог определить признаки для обучения, обучение моделей с их оценкой кросс-валидацией с подбором гиперпараметров позволили выявить лучшую модель, тестирование модели подтвердило правильность сделанного выбора.\n",
        "Первым этапом работы являлась подготовка данных. На данном этапе данные из четырех таблиц были объединены в одну, образовавшиеся пропуски были заполнены значением “No”. Кроме того, были преобразованы типы данных, выполнена проверка на дубликаты. Были удалены строки с пустыми значениями в столбце «TotalCharges» (т.к. это строки с пользователями, которые только заключили договор). Также данные были проверены на выбросы и аномалии. Одним из важных моментов данного этапа проекта было добавление новых столбцов: с длительностью обслуживания («Service_duration») и собственно столбца с целевым значением («Target»).\n",
        "Далее был проведен исследовательский анализ данных. Был обнаружен дисбаланс классов, были рассмотрены признаки и сделаны предположения об их влиянии либо отсутствии влияния на отток клиентов. Также с помощью библиотеки phik была исследована корреляция между признаками, так в частности была обнаружена сильная положительная корреляция между числовыми признаками MonthlyCharges и TotalCharges и между TotalCharges и Service_duration.\n",
        "Следующим этапом было обучение моделей. Для обучения использовались следующие признаки:\n",
        "*   числовые признаки: 'MonthlyCharges', 'Service_duration'\n",
        "*   категориальные признаки: 'Type', 'PaperlessBilling', 'PaymentMethod', 'gender', ‘SeniorCitizen’, 'Partner', 'Dependents', 'InternetService','OnlineSecurity','OnlineBackup', 'DeviceProtection','TechSupport','StreamingTV','StreamingMovies','MultipleLines.\n",
        "\n",
        "Не использовались - 'customerID'(т.к. это просто идентификатор клиента), 'BeginDate', 'EndDate' и 'TotalCharges'(это просто суммирующий нарастающим итогом столбец, кроме того мы наблюдали сильную корреляцию между MonthlyCharges, Service_duration и TotalCharges).\n",
        "Был зафиксирован параметр RANDOM_STATE = 140823. Данные были разбиты на обучающую и тестовую выборки, размер тестовой выборки = 0.25.\n",
        "Для оценки качества моделей были выбраны две метрики AUC-ROC и Accuracy. Были обучены и протестированы кросс-валидацией три модели: LogisticRegression, RandomForestClassifier, CatBoostClassifier. Для подготовки признаков и обучения моделей использовался Pipeline. При помощи RandomizedSearchCV был выполнен подбор гиперпараметров моделей. Т.к. был выявлен дисбаланс классов внутри моделей использовался параметр class_weight=’balanced’.\n",
        "Модель LogisticRegression показала результат AUC-ROC: 0.7596319859638501, Accuracy: 0.6981418563450452 с параметрами 'logisticregression__solver': 'newton-cg', 'logisticregression__C': 0.1.\n",
        "Модель RandomForestClassifier показала результат AUC-ROC: 0.8216693688105656, Accuracy: 0.8073566733891611 с параметрами 'randomforestclassifier__n_estimators': 150, 'randomforestclassifier__min_samples_split': 4, 'randomforestclassifier__min_samples_leaf': 3, 'randomforestclassifier__max_depth': 8, 'randomforestclassifier__criterion': 'entropy'.\n",
        "Лучшие результаты AUC-ROC: 0.8631658782302989, Accuracy: 0.8062170742016421 были получены у модели CatBoostClassifier.\n",
        "Параметры лучшей модели CatBoostClassifier: auto_class_weights='Balanced', iterations=300, depth=6.\n",
        "Лучшая модель была проверена на тестовой выборке. Качество модели на тестовой выборке не ухудшилось. В результате тестирования модель показала метрики качества AUC-ROC: 0.8744645374854411, Accuracy: 0.8031854379977247.\n",
        "Также был проведен анализ важности признаков лучшей модели, который показал, что самым главным признаком, влияющим на отток является 'Service_duration', также хотя и со значительным отрывом выделяются 'Type', 'PaymentMethod', 'MonthlyCharges'. На данные признаки руководству «Ниединогоразрыва.ком» можно рекомендовать обратить особое внимание.\n"
      ],
      "metadata": {
        "id": "F7QuFkN2v5B3"
      }
    }
  ],
  "metadata": {
    "ExecuteTimeLog": [
      {
        "duration": 3080,
        "start_time": "2023-08-22T13:04:24.705Z"
      },
      {
        "duration": 1821,
        "start_time": "2023-08-22T13:04:43.479Z"
      },
      {
        "duration": 338,
        "start_time": "2023-08-22T13:05:42.886Z"
      },
      {
        "duration": 19,
        "start_time": "2023-08-22T13:05:51.259Z"
      },
      {
        "duration": 18,
        "start_time": "2023-08-22T13:06:07.518Z"
      },
      {
        "duration": 17,
        "start_time": "2023-08-22T13:06:24.650Z"
      },
      {
        "duration": 72,
        "start_time": "2023-08-22T13:06:43.874Z"
      },
      {
        "duration": 9,
        "start_time": "2023-08-22T13:06:52.500Z"
      },
      {
        "duration": 12,
        "start_time": "2023-08-22T13:07:06.892Z"
      },
      {
        "duration": 23,
        "start_time": "2023-08-22T13:07:18.453Z"
      },
      {
        "duration": 129,
        "start_time": "2023-08-22T13:07:33.726Z"
      },
      {
        "duration": 17,
        "start_time": "2023-08-22T13:07:41.754Z"
      },
      {
        "duration": 16,
        "start_time": "2023-08-22T13:07:52.247Z"
      },
      {
        "duration": 149,
        "start_time": "2023-08-22T13:08:08.474Z"
      },
      {
        "duration": 111,
        "start_time": "2023-08-22T13:08:23.138Z"
      },
      {
        "duration": 7,
        "start_time": "2023-08-22T13:08:31.104Z"
      },
      {
        "duration": 12,
        "start_time": "2023-08-22T13:08:42.569Z"
      },
      {
        "duration": 134,
        "start_time": "2023-08-22T13:08:57.877Z"
      },
      {
        "duration": 116,
        "start_time": "2023-08-22T13:09:45.178Z"
      },
      {
        "duration": 97,
        "start_time": "2023-08-22T13:10:58.347Z"
      },
      {
        "duration": 29,
        "start_time": "2023-08-22T13:12:13.670Z"
      },
      {
        "duration": 18,
        "start_time": "2023-08-22T13:12:49.597Z"
      },
      {
        "duration": 13,
        "start_time": "2023-08-22T13:13:35.715Z"
      },
      {
        "duration": 14,
        "start_time": "2023-08-22T13:13:53.478Z"
      },
      {
        "duration": 17,
        "start_time": "2023-08-22T13:14:19.349Z"
      },
      {
        "duration": 7,
        "start_time": "2023-08-22T13:15:09.789Z"
      },
      {
        "duration": 6,
        "start_time": "2023-08-22T13:15:18.340Z"
      },
      {
        "duration": 6,
        "start_time": "2023-08-22T13:15:26.315Z"
      },
      {
        "duration": 6,
        "start_time": "2023-08-22T13:15:34.746Z"
      },
      {
        "duration": 19,
        "start_time": "2023-08-22T13:15:42.508Z"
      },
      {
        "duration": 27,
        "start_time": "2023-08-22T13:15:58.447Z"
      },
      {
        "duration": 388,
        "start_time": "2023-08-22T13:16:18.258Z"
      },
      {
        "duration": 6,
        "start_time": "2023-08-22T13:16:37.427Z"
      },
      {
        "duration": 16,
        "start_time": "2023-08-22T13:16:44.922Z"
      },
      {
        "duration": 15,
        "start_time": "2023-08-22T13:17:31.714Z"
      },
      {
        "duration": 18,
        "start_time": "2023-08-22T13:18:14.323Z"
      },
      {
        "duration": 102,
        "start_time": "2023-08-22T13:18:27.484Z"
      },
      {
        "duration": 187,
        "start_time": "2023-08-22T13:18:41.908Z"
      },
      {
        "duration": 33,
        "start_time": "2023-08-22T13:18:53.289Z"
      },
      {
        "duration": 6,
        "start_time": "2023-08-22T13:20:09.139Z"
      },
      {
        "duration": 7,
        "start_time": "2023-08-22T13:20:18.933Z"
      },
      {
        "duration": 14,
        "start_time": "2023-08-22T13:20:46.879Z"
      },
      {
        "duration": 28,
        "start_time": "2023-08-22T13:21:02.533Z"
      },
      {
        "duration": 2110,
        "start_time": "2023-08-22T13:22:16.653Z"
      },
      {
        "duration": 1593,
        "start_time": "2023-08-22T13:22:18.766Z"
      },
      {
        "duration": 40,
        "start_time": "2023-08-22T13:22:20.361Z"
      },
      {
        "duration": 15,
        "start_time": "2023-08-22T13:22:20.403Z"
      },
      {
        "duration": 16,
        "start_time": "2023-08-22T13:22:20.420Z"
      },
      {
        "duration": 19,
        "start_time": "2023-08-22T13:22:20.437Z"
      },
      {
        "duration": 23,
        "start_time": "2023-08-22T13:22:20.457Z"
      },
      {
        "duration": 20,
        "start_time": "2023-08-22T13:22:20.482Z"
      },
      {
        "duration": 39,
        "start_time": "2023-08-22T13:22:20.504Z"
      },
      {
        "duration": 22,
        "start_time": "2023-08-22T13:22:20.546Z"
      },
      {
        "duration": 24,
        "start_time": "2023-08-22T13:22:20.569Z"
      },
      {
        "duration": 11,
        "start_time": "2023-08-22T13:22:20.594Z"
      },
      {
        "duration": 17,
        "start_time": "2023-08-22T13:22:20.607Z"
      },
      {
        "duration": 169,
        "start_time": "2023-08-22T13:22:20.625Z"
      },
      {
        "duration": 19,
        "start_time": "2023-08-22T13:22:20.796Z"
      },
      {
        "duration": 7,
        "start_time": "2023-08-22T13:22:20.817Z"
      },
      {
        "duration": 14,
        "start_time": "2023-08-22T13:22:20.826Z"
      },
      {
        "duration": 129,
        "start_time": "2023-08-22T13:22:20.856Z"
      },
      {
        "duration": 27,
        "start_time": "2023-08-22T13:22:20.987Z"
      },
      {
        "duration": 22,
        "start_time": "2023-08-22T13:22:21.016Z"
      },
      {
        "duration": 29,
        "start_time": "2023-08-22T13:22:21.040Z"
      },
      {
        "duration": 26,
        "start_time": "2023-08-22T13:22:21.072Z"
      },
      {
        "duration": 34,
        "start_time": "2023-08-22T13:22:21.100Z"
      },
      {
        "duration": 8,
        "start_time": "2023-08-22T13:22:21.136Z"
      },
      {
        "duration": 13,
        "start_time": "2023-08-22T13:22:21.146Z"
      },
      {
        "duration": 17,
        "start_time": "2023-08-22T13:22:21.161Z"
      },
      {
        "duration": 10,
        "start_time": "2023-08-22T13:22:21.180Z"
      },
      {
        "duration": 19,
        "start_time": "2023-08-22T13:22:21.193Z"
      },
      {
        "duration": 27,
        "start_time": "2023-08-22T13:22:21.214Z"
      },
      {
        "duration": 14,
        "start_time": "2023-08-22T13:22:21.243Z"
      },
      {
        "duration": 19,
        "start_time": "2023-08-22T13:22:21.259Z"
      },
      {
        "duration": 16,
        "start_time": "2023-08-22T13:22:21.279Z"
      },
      {
        "duration": 16,
        "start_time": "2023-08-22T13:22:21.297Z"
      },
      {
        "duration": 124,
        "start_time": "2023-08-22T13:22:21.315Z"
      },
      {
        "duration": 177,
        "start_time": "2023-08-22T13:22:21.441Z"
      },
      {
        "duration": 25,
        "start_time": "2023-08-22T13:22:21.620Z"
      },
      {
        "duration": 4,
        "start_time": "2023-08-22T13:22:21.657Z"
      },
      {
        "duration": 18,
        "start_time": "2023-08-22T13:22:21.663Z"
      },
      {
        "duration": 31,
        "start_time": "2023-08-22T13:22:21.683Z"
      },
      {
        "duration": 25,
        "start_time": "2023-08-22T13:22:21.716Z"
      },
      {
        "duration": 7,
        "start_time": "2023-08-22T13:22:36.309Z"
      },
      {
        "duration": 122,
        "start_time": "2023-08-22T13:22:45.954Z"
      },
      {
        "duration": 6,
        "start_time": "2023-08-22T13:23:34.818Z"
      },
      {
        "duration": 161,
        "start_time": "2023-08-22T13:23:46.801Z"
      },
      {
        "duration": 186,
        "start_time": "2023-08-22T13:24:20.843Z"
      },
      {
        "duration": 256,
        "start_time": "2023-08-22T13:24:56.561Z"
      },
      {
        "duration": 190,
        "start_time": "2023-08-22T13:25:30.616Z"
      },
      {
        "duration": 172,
        "start_time": "2023-08-22T13:26:04.250Z"
      },
      {
        "duration": 167,
        "start_time": "2023-08-22T13:26:35.952Z"
      },
      {
        "duration": 172,
        "start_time": "2023-08-22T13:27:15.472Z"
      },
      {
        "duration": 161,
        "start_time": "2023-08-22T13:27:43.890Z"
      },
      {
        "duration": 31,
        "start_time": "2023-08-22T13:28:17.209Z"
      },
      {
        "duration": 545,
        "start_time": "2023-08-22T13:28:43.946Z"
      },
      {
        "duration": 300,
        "start_time": "2023-08-22T13:29:19.937Z"
      },
      {
        "duration": 3,
        "start_time": "2023-08-22T13:30:44.338Z"
      },
      {
        "duration": 27819,
        "start_time": "2023-08-22T13:30:52.676Z"
      },
      {
        "duration": 3,
        "start_time": "2023-08-22T13:32:14.873Z"
      },
      {
        "duration": 4,
        "start_time": "2023-08-22T13:32:24.412Z"
      },
      {
        "duration": 5,
        "start_time": "2023-08-22T13:32:32.765Z"
      },
      {
        "duration": 10,
        "start_time": "2023-08-22T13:32:45.514Z"
      },
      {
        "duration": 5,
        "start_time": "2023-08-22T13:32:55.406Z"
      },
      {
        "duration": 7,
        "start_time": "2023-08-22T13:33:05.938Z"
      },
      {
        "duration": 7,
        "start_time": "2023-08-22T13:33:15.420Z"
      },
      {
        "duration": 25924,
        "start_time": "2023-08-22T13:35:14.039Z"
      },
      {
        "duration": 13522,
        "start_time": "2023-08-22T13:36:35.945Z"
      },
      {
        "duration": 745338,
        "start_time": "2023-08-22T13:38:01.921Z"
      },
      {
        "duration": 14,
        "start_time": "2023-08-22T13:50:27.261Z"
      },
      {
        "duration": 22,
        "start_time": "2023-08-22T13:50:27.277Z"
      },
      {
        "duration": 257,
        "start_time": "2023-08-22T13:50:27.302Z"
      },
      {
        "duration": 141,
        "start_time": "2023-08-22T13:50:27.561Z"
      },
      {
        "duration": 79,
        "start_time": "2023-08-24T11:27:50.709Z"
      },
      {
        "duration": 3917,
        "start_time": "2023-08-24T11:27:55.414Z"
      },
      {
        "duration": 2039,
        "start_time": "2023-08-24T11:27:59.334Z"
      },
      {
        "duration": 183,
        "start_time": "2023-08-24T11:28:01.377Z"
      },
      {
        "duration": 29,
        "start_time": "2023-08-24T11:28:01.582Z"
      },
      {
        "duration": 84,
        "start_time": "2023-08-24T11:28:01.620Z"
      },
      {
        "duration": 83,
        "start_time": "2023-08-24T11:28:01.706Z"
      },
      {
        "duration": 115,
        "start_time": "2023-08-24T11:28:01.791Z"
      },
      {
        "duration": 11,
        "start_time": "2023-08-24T11:28:01.914Z"
      },
      {
        "duration": 196,
        "start_time": "2023-08-24T11:28:01.928Z"
      },
      {
        "duration": 36,
        "start_time": "2023-08-24T11:28:02.127Z"
      },
      {
        "duration": 142,
        "start_time": "2023-08-24T11:28:02.165Z"
      },
      {
        "duration": 20,
        "start_time": "2023-08-24T11:28:02.310Z"
      },
      {
        "duration": 56,
        "start_time": "2023-08-24T11:28:02.332Z"
      },
      {
        "duration": 216,
        "start_time": "2023-08-24T11:28:02.395Z"
      },
      {
        "duration": 88,
        "start_time": "2023-08-24T11:28:02.615Z"
      },
      {
        "duration": 13,
        "start_time": "2023-08-24T11:28:02.708Z"
      },
      {
        "duration": 83,
        "start_time": "2023-08-24T11:28:02.725Z"
      },
      {
        "duration": 182,
        "start_time": "2023-08-24T11:28:02.810Z"
      },
      {
        "duration": 45,
        "start_time": "2023-08-24T11:28:02.994Z"
      },
      {
        "duration": 45,
        "start_time": "2023-08-24T11:28:03.042Z"
      },
      {
        "duration": 44,
        "start_time": "2023-08-24T11:28:03.089Z"
      },
      {
        "duration": 51,
        "start_time": "2023-08-24T11:28:03.135Z"
      },
      {
        "duration": 46,
        "start_time": "2023-08-24T11:28:03.187Z"
      },
      {
        "duration": 10,
        "start_time": "2023-08-24T11:28:03.238Z"
      },
      {
        "duration": 24,
        "start_time": "2023-08-24T11:28:03.250Z"
      },
      {
        "duration": 17,
        "start_time": "2023-08-24T11:28:03.276Z"
      },
      {
        "duration": 28,
        "start_time": "2023-08-24T11:28:03.295Z"
      },
      {
        "duration": 148,
        "start_time": "2023-08-24T11:28:03.325Z"
      },
      {
        "duration": 37,
        "start_time": "2023-08-24T11:28:03.481Z"
      },
      {
        "duration": 32,
        "start_time": "2023-08-24T11:28:03.519Z"
      },
      {
        "duration": 57,
        "start_time": "2023-08-24T11:28:03.553Z"
      },
      {
        "duration": 30,
        "start_time": "2023-08-24T11:28:03.612Z"
      },
      {
        "duration": 63,
        "start_time": "2023-08-24T11:28:03.644Z"
      },
      {
        "duration": 129,
        "start_time": "2023-08-24T11:28:03.709Z"
      },
      {
        "duration": 146,
        "start_time": "2023-08-24T11:28:03.840Z"
      },
      {
        "duration": 48,
        "start_time": "2023-08-24T11:28:03.989Z"
      },
      {
        "duration": 6,
        "start_time": "2023-08-24T11:28:04.039Z"
      },
      {
        "duration": 23,
        "start_time": "2023-08-24T11:28:04.047Z"
      },
      {
        "duration": 23,
        "start_time": "2023-08-24T11:28:04.074Z"
      },
      {
        "duration": 43,
        "start_time": "2023-08-24T11:28:04.099Z"
      },
      {
        "duration": 17,
        "start_time": "2023-08-24T11:28:04.149Z"
      },
      {
        "duration": 180,
        "start_time": "2023-08-24T11:28:04.169Z"
      },
      {
        "duration": 7,
        "start_time": "2023-08-24T11:28:04.351Z"
      },
      {
        "duration": 268,
        "start_time": "2023-08-24T11:28:04.367Z"
      },
      {
        "duration": 303,
        "start_time": "2023-08-24T11:28:04.638Z"
      },
      {
        "duration": 334,
        "start_time": "2023-08-24T11:28:04.943Z"
      },
      {
        "duration": 183,
        "start_time": "2023-08-24T11:28:05.279Z"
      },
      {
        "duration": 215,
        "start_time": "2023-08-24T11:28:05.463Z"
      },
      {
        "duration": 188,
        "start_time": "2023-08-24T11:28:05.680Z"
      },
      {
        "duration": 271,
        "start_time": "2023-08-24T11:28:05.872Z"
      },
      {
        "duration": 195,
        "start_time": "2023-08-24T11:28:06.145Z"
      },
      {
        "duration": 34,
        "start_time": "2023-08-24T11:28:06.342Z"
      },
      {
        "duration": 656,
        "start_time": "2023-08-24T11:28:06.379Z"
      },
      {
        "duration": 319,
        "start_time": "2023-08-24T11:28:07.038Z"
      },
      {
        "duration": 17,
        "start_time": "2023-08-24T11:28:07.359Z"
      },
      {
        "duration": 32801,
        "start_time": "2023-08-24T11:28:07.383Z"
      },
      {
        "duration": 6,
        "start_time": "2023-08-24T11:28:40.187Z"
      },
      {
        "duration": 18,
        "start_time": "2023-08-24T11:28:40.204Z"
      },
      {
        "duration": 42,
        "start_time": "2023-08-24T11:28:40.224Z"
      },
      {
        "duration": 30,
        "start_time": "2023-08-24T11:28:40.268Z"
      },
      {
        "duration": 6,
        "start_time": "2023-08-24T11:28:40.301Z"
      },
      {
        "duration": 20,
        "start_time": "2023-08-24T11:28:40.309Z"
      },
      {
        "duration": 8,
        "start_time": "2023-08-24T11:28:40.331Z"
      },
      {
        "duration": 48844,
        "start_time": "2023-08-24T11:28:40.341Z"
      },
      {
        "duration": 17157,
        "start_time": "2023-08-24T11:29:29.196Z"
      },
      {
        "duration": 890150,
        "start_time": "2023-08-24T11:29:46.355Z"
      },
      {
        "duration": 13,
        "start_time": "2023-08-24T11:44:36.507Z"
      },
      {
        "duration": 39,
        "start_time": "2023-08-24T11:44:36.521Z"
      },
      {
        "duration": 289,
        "start_time": "2023-08-24T11:44:36.562Z"
      },
      {
        "duration": 169,
        "start_time": "2023-08-24T11:44:36.853Z"
      },
      {
        "duration": 236,
        "start_time": "2023-08-24T11:44:37.024Z"
      },
      {
        "duration": 190,
        "start_time": "2023-08-24T11:49:26.646Z"
      },
      {
        "duration": 181,
        "start_time": "2023-08-24T11:49:50.867Z"
      },
      {
        "duration": 252,
        "start_time": "2023-08-24T11:51:53.328Z"
      },
      {
        "duration": 209,
        "start_time": "2023-08-24T11:52:06.427Z"
      },
      {
        "duration": 235,
        "start_time": "2023-08-24T11:52:17.326Z"
      },
      {
        "duration": 227,
        "start_time": "2023-08-24T11:53:39.729Z"
      }
    ],
    "kernelspec": {
      "display_name": "Python 3 (ipykernel)",
      "language": "python",
      "name": "python3"
    },
    "language_info": {
      "codemirror_mode": {
        "name": "ipython",
        "version": 3
      },
      "file_extension": ".py",
      "mimetype": "text/x-python",
      "name": "python",
      "nbconvert_exporter": "python",
      "pygments_lexer": "ipython3",
      "version": "3.9.5"
    },
    "toc": {
      "base_numbering": 1,
      "nav_menu": {},
      "number_sections": true,
      "sideBar": true,
      "skip_h1_title": true,
      "title_cell": "Table of Contents",
      "title_sidebar": "Contents",
      "toc_cell": false,
      "toc_position": {},
      "toc_section_display": true,
      "toc_window_display": false
    },
    "colab": {
      "provenance": []
    }
  },
  "nbformat": 4,
  "nbformat_minor": 0
}