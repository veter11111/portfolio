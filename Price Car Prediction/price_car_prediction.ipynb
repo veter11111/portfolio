{
  "cells": [
    {
      "cell_type": "markdown",
      "metadata": {
        "id": "Ryo9YOZugzIC"
      },
      "source": [
        "# Определение рыночной стоимости автомобилей"
      ]
    },
    {
      "cell_type": "markdown",
      "metadata": {
        "id": "uRepS2BJgzID"
      },
      "source": [
        "Сервис по продаже автомобилей с пробегом «Не бит, не крашен» разрабатывает приложение для привлечения новых клиентов. В нём можно быстро узнать рыночную стоимость своего автомобиля.\n",
        "\n",
        "Цель проекта - построить модель, которая умеет определять рыночную стоимость автомобиля.\n",
        "\n",
        "В нашем распоряжении исторические данные: технические характеристики, комплектации и цены автомобилей.\n",
        "\n",
        "Описание данных:\n",
        "\n",
        "Признаки\n",
        "-\tDateCrawled — дата скачивания анкеты из базы\n",
        "-\tVehicleType — тип автомобильного кузова\n",
        "-\tRegistrationYear — год регистрации автомобиля\n",
        "-\tGearbox — тип коробки передач\n",
        "-\tPower — мощность (л. с.)\n",
        "-\tModel — модель автомобиля\n",
        "-\tKilometer — пробег (км)\n",
        "-\tRegistrationMonth — месяц регистрации автомобиля\n",
        "-\tFuelType — тип топлива\n",
        "-\tBrand — марка автомобиля\n",
        "-\tRepaired — была машина в ремонте или нет\n",
        "-\tDateCreated — дата создания анкеты\n",
        "-\tNumberOfPictures — количество фотографий автомобиля\n",
        "-\tPostalCode — почтовый индекс владельца анкеты (пользователя)\n",
        "-\tLastSeen — дата последней активности пользователя\n",
        "\n",
        "Целевой признак\n",
        "- Price — цена (евро)\n",
        "\n",
        "Заказчику важны:\n",
        "\n",
        "- качество предсказания;\n",
        "- скорость предсказания;\n",
        "- время обучения."
      ]
    },
    {
      "cell_type": "markdown",
      "metadata": {
        "id": "_LWK765YgzID"
      },
      "source": [
        "## Подготовка данных"
      ]
    },
    {
      "cell_type": "code",
      "execution_count": null,
      "metadata": {
        "id": "R1Q8ZlUagzID"
      },
      "outputs": [],
      "source": [
        "import pandas as pd\n",
        "import numpy as np\n",
        "import matplotlib.pyplot as plt\n",
        "import lightgbm as lgb\n",
        "from sklearn.model_selection import train_test_split\n",
        "from sklearn.preprocessing import OneHotEncoder\n",
        "from sklearn.metrics import mean_squared_error\n",
        "from catboost import CatBoostRegressor\n",
        "from sklearn.linear_model import LinearRegression\n",
        "from sklearn.ensemble import RandomForestRegressor\n",
        "import warnings\n",
        "import time"
      ]
    },
    {
      "cell_type": "markdown",
      "metadata": {
        "id": "CW1DXh3igzIE"
      },
      "source": [
        "### Загрузка данных"
      ]
    },
    {
      "cell_type": "code",
      "execution_count": null,
      "metadata": {
        "id": "oCvqMQCPgzIF"
      },
      "outputs": [],
      "source": [
        "df = pd.read_csv('/datasets/autos.csv')"
      ]
    },
    {
      "cell_type": "code",
      "execution_count": null,
      "metadata": {
        "id": "SNPLRNN7gzIF",
        "outputId": "f6bd648f-d40f-4f4a-bf86-0ebe64d79605"
      },
      "outputs": [
        {
          "data": {
            "text/html": [
              "<div>\n",
              "<style scoped>\n",
              "    .dataframe tbody tr th:only-of-type {\n",
              "        vertical-align: middle;\n",
              "    }\n",
              "\n",
              "    .dataframe tbody tr th {\n",
              "        vertical-align: top;\n",
              "    }\n",
              "\n",
              "    .dataframe thead th {\n",
              "        text-align: right;\n",
              "    }\n",
              "</style>\n",
              "<table border=\"1\" class=\"dataframe\">\n",
              "  <thead>\n",
              "    <tr style=\"text-align: right;\">\n",
              "      <th></th>\n",
              "      <th>DateCrawled</th>\n",
              "      <th>Price</th>\n",
              "      <th>VehicleType</th>\n",
              "      <th>RegistrationYear</th>\n",
              "      <th>Gearbox</th>\n",
              "      <th>Power</th>\n",
              "      <th>Model</th>\n",
              "      <th>Kilometer</th>\n",
              "      <th>RegistrationMonth</th>\n",
              "      <th>FuelType</th>\n",
              "      <th>Brand</th>\n",
              "      <th>Repaired</th>\n",
              "      <th>DateCreated</th>\n",
              "      <th>NumberOfPictures</th>\n",
              "      <th>PostalCode</th>\n",
              "      <th>LastSeen</th>\n",
              "    </tr>\n",
              "  </thead>\n",
              "  <tbody>\n",
              "    <tr>\n",
              "      <th>0</th>\n",
              "      <td>2016-03-24 11:52:17</td>\n",
              "      <td>480</td>\n",
              "      <td>NaN</td>\n",
              "      <td>1993</td>\n",
              "      <td>manual</td>\n",
              "      <td>0</td>\n",
              "      <td>golf</td>\n",
              "      <td>150000</td>\n",
              "      <td>0</td>\n",
              "      <td>petrol</td>\n",
              "      <td>volkswagen</td>\n",
              "      <td>NaN</td>\n",
              "      <td>2016-03-24 00:00:00</td>\n",
              "      <td>0</td>\n",
              "      <td>70435</td>\n",
              "      <td>2016-04-07 03:16:57</td>\n",
              "    </tr>\n",
              "    <tr>\n",
              "      <th>1</th>\n",
              "      <td>2016-03-24 10:58:45</td>\n",
              "      <td>18300</td>\n",
              "      <td>coupe</td>\n",
              "      <td>2011</td>\n",
              "      <td>manual</td>\n",
              "      <td>190</td>\n",
              "      <td>NaN</td>\n",
              "      <td>125000</td>\n",
              "      <td>5</td>\n",
              "      <td>gasoline</td>\n",
              "      <td>audi</td>\n",
              "      <td>yes</td>\n",
              "      <td>2016-03-24 00:00:00</td>\n",
              "      <td>0</td>\n",
              "      <td>66954</td>\n",
              "      <td>2016-04-07 01:46:50</td>\n",
              "    </tr>\n",
              "    <tr>\n",
              "      <th>2</th>\n",
              "      <td>2016-03-14 12:52:21</td>\n",
              "      <td>9800</td>\n",
              "      <td>suv</td>\n",
              "      <td>2004</td>\n",
              "      <td>auto</td>\n",
              "      <td>163</td>\n",
              "      <td>grand</td>\n",
              "      <td>125000</td>\n",
              "      <td>8</td>\n",
              "      <td>gasoline</td>\n",
              "      <td>jeep</td>\n",
              "      <td>NaN</td>\n",
              "      <td>2016-03-14 00:00:00</td>\n",
              "      <td>0</td>\n",
              "      <td>90480</td>\n",
              "      <td>2016-04-05 12:47:46</td>\n",
              "    </tr>\n",
              "    <tr>\n",
              "      <th>3</th>\n",
              "      <td>2016-03-17 16:54:04</td>\n",
              "      <td>1500</td>\n",
              "      <td>small</td>\n",
              "      <td>2001</td>\n",
              "      <td>manual</td>\n",
              "      <td>75</td>\n",
              "      <td>golf</td>\n",
              "      <td>150000</td>\n",
              "      <td>6</td>\n",
              "      <td>petrol</td>\n",
              "      <td>volkswagen</td>\n",
              "      <td>no</td>\n",
              "      <td>2016-03-17 00:00:00</td>\n",
              "      <td>0</td>\n",
              "      <td>91074</td>\n",
              "      <td>2016-03-17 17:40:17</td>\n",
              "    </tr>\n",
              "    <tr>\n",
              "      <th>4</th>\n",
              "      <td>2016-03-31 17:25:20</td>\n",
              "      <td>3600</td>\n",
              "      <td>small</td>\n",
              "      <td>2008</td>\n",
              "      <td>manual</td>\n",
              "      <td>69</td>\n",
              "      <td>fabia</td>\n",
              "      <td>90000</td>\n",
              "      <td>7</td>\n",
              "      <td>gasoline</td>\n",
              "      <td>skoda</td>\n",
              "      <td>no</td>\n",
              "      <td>2016-03-31 00:00:00</td>\n",
              "      <td>0</td>\n",
              "      <td>60437</td>\n",
              "      <td>2016-04-06 10:17:21</td>\n",
              "    </tr>\n",
              "  </tbody>\n",
              "</table>\n",
              "</div>"
            ],
            "text/plain": [
              "           DateCrawled  Price VehicleType  RegistrationYear Gearbox  Power  \\\n",
              "0  2016-03-24 11:52:17    480         NaN              1993  manual      0   \n",
              "1  2016-03-24 10:58:45  18300       coupe              2011  manual    190   \n",
              "2  2016-03-14 12:52:21   9800         suv              2004    auto    163   \n",
              "3  2016-03-17 16:54:04   1500       small              2001  manual     75   \n",
              "4  2016-03-31 17:25:20   3600       small              2008  manual     69   \n",
              "\n",
              "   Model  Kilometer  RegistrationMonth  FuelType       Brand Repaired  \\\n",
              "0   golf     150000                  0    petrol  volkswagen      NaN   \n",
              "1    NaN     125000                  5  gasoline        audi      yes   \n",
              "2  grand     125000                  8  gasoline        jeep      NaN   \n",
              "3   golf     150000                  6    petrol  volkswagen       no   \n",
              "4  fabia      90000                  7  gasoline       skoda       no   \n",
              "\n",
              "           DateCreated  NumberOfPictures  PostalCode             LastSeen  \n",
              "0  2016-03-24 00:00:00                 0       70435  2016-04-07 03:16:57  \n",
              "1  2016-03-24 00:00:00                 0       66954  2016-04-07 01:46:50  \n",
              "2  2016-03-14 00:00:00                 0       90480  2016-04-05 12:47:46  \n",
              "3  2016-03-17 00:00:00                 0       91074  2016-03-17 17:40:17  \n",
              "4  2016-03-31 00:00:00                 0       60437  2016-04-06 10:17:21  "
            ]
          },
          "execution_count": 3,
          "metadata": {},
          "output_type": "execute_result"
        }
      ],
      "source": [
        "df.head()"
      ]
    },
    {
      "cell_type": "code",
      "execution_count": null,
      "metadata": {
        "id": "CNL8RpM3gzIG",
        "outputId": "ec6236b3-fa81-4333-e1a3-c9c81a844a88"
      },
      "outputs": [
        {
          "name": "stdout",
          "output_type": "stream",
          "text": [
            "<class 'pandas.core.frame.DataFrame'>\n",
            "RangeIndex: 354369 entries, 0 to 354368\n",
            "Data columns (total 16 columns):\n",
            " #   Column             Non-Null Count   Dtype \n",
            "---  ------             --------------   ----- \n",
            " 0   DateCrawled        354369 non-null  object\n",
            " 1   Price              354369 non-null  int64 \n",
            " 2   VehicleType        316879 non-null  object\n",
            " 3   RegistrationYear   354369 non-null  int64 \n",
            " 4   Gearbox            334536 non-null  object\n",
            " 5   Power              354369 non-null  int64 \n",
            " 6   Model              334664 non-null  object\n",
            " 7   Kilometer          354369 non-null  int64 \n",
            " 8   RegistrationMonth  354369 non-null  int64 \n",
            " 9   FuelType           321474 non-null  object\n",
            " 10  Brand              354369 non-null  object\n",
            " 11  Repaired           283215 non-null  object\n",
            " 12  DateCreated        354369 non-null  object\n",
            " 13  NumberOfPictures   354369 non-null  int64 \n",
            " 14  PostalCode         354369 non-null  int64 \n",
            " 15  LastSeen           354369 non-null  object\n",
            "dtypes: int64(7), object(9)\n",
            "memory usage: 43.3+ MB\n"
          ]
        }
      ],
      "source": [
        "df.info()"
      ]
    },
    {
      "cell_type": "markdown",
      "metadata": {
        "id": "F6ENjGh_gzIH"
      },
      "source": [
        "Данные содержат 16 столбцов и 354369 строк, в строках есть пропуски. В данных присутствует два типа данных object и int64."
      ]
    },
    {
      "cell_type": "markdown",
      "metadata": {
        "id": "O_Oha0AwgzIH"
      },
      "source": [
        "### Изучение и обработка данных"
      ]
    },
    {
      "cell_type": "code",
      "execution_count": null,
      "metadata": {
        "id": "gA8bPw8zgzIH",
        "outputId": "9608d0b2-b58a-40a9-f6d8-a50d993d6b0d"
      },
      "outputs": [
        {
          "data": {
            "text/plain": [
              "4"
            ]
          },
          "execution_count": 5,
          "metadata": {},
          "output_type": "execute_result"
        }
      ],
      "source": [
        "df.duplicated().sum()"
      ]
    },
    {
      "cell_type": "code",
      "execution_count": null,
      "metadata": {
        "id": "cmWtcyIMgzII"
      },
      "outputs": [],
      "source": [
        "df = df.drop_duplicates()"
      ]
    },
    {
      "cell_type": "markdown",
      "metadata": {
        "id": "H2sdijVvgzIJ"
      },
      "source": [
        "В данных присутствовали дубликаты, они удалены"
      ]
    },
    {
      "cell_type": "code",
      "execution_count": null,
      "metadata": {
        "id": "Zi-0sp31gzIJ",
        "outputId": "680c44c0-431f-49fd-a4a0-23a8da7ef73e"
      },
      "outputs": [
        {
          "data": {
            "text/plain": [
              "Repaired             71154\n",
              "VehicleType          37490\n",
              "FuelType             32895\n",
              "Gearbox              19833\n",
              "Model                19705\n",
              "DateCrawled              0\n",
              "Price                    0\n",
              "RegistrationYear         0\n",
              "Power                    0\n",
              "Kilometer                0\n",
              "RegistrationMonth        0\n",
              "Brand                    0\n",
              "DateCreated              0\n",
              "NumberOfPictures         0\n",
              "PostalCode               0\n",
              "LastSeen                 0\n",
              "dtype: int64"
            ]
          },
          "execution_count": 7,
          "metadata": {},
          "output_type": "execute_result"
        }
      ],
      "source": [
        "df.isna().sum().sort_values(ascending=False)"
      ]
    },
    {
      "cell_type": "code",
      "execution_count": null,
      "metadata": {
        "id": "16G4FrpGgzIJ",
        "outputId": "45413bce-0464-4445-a23f-c5d42ecd00e0"
      },
      "outputs": [
        {
          "data": {
            "text/plain": [
              "DateCrawled           0.000000\n",
              "Price                 0.000000\n",
              "VehicleType          10.579487\n",
              "RegistrationYear      0.000000\n",
              "Gearbox               5.596772\n",
              "Power                 0.000000\n",
              "Model                 5.560651\n",
              "Kilometer             0.000000\n",
              "RegistrationMonth     0.000000\n",
              "FuelType              9.282802\n",
              "Brand                 0.000000\n",
              "Repaired             20.079297\n",
              "DateCreated           0.000000\n",
              "NumberOfPictures      0.000000\n",
              "PostalCode            0.000000\n",
              "LastSeen              0.000000\n",
              "dtype: float64"
            ]
          },
          "execution_count": 8,
          "metadata": {},
          "output_type": "execute_result"
        }
      ],
      "source": [
        "df.isna().sum()/len(df)*100"
      ]
    },
    {
      "cell_type": "code",
      "execution_count": null,
      "metadata": {
        "id": "qX91Ynt9gzIK",
        "outputId": "1db65d44-869d-445b-f4f9-eb46be1620a5"
      },
      "outputs": [
        {
          "data": {
            "text/plain": [
              "array([nan, 'yes', 'no'], dtype=object)"
            ]
          },
          "execution_count": 9,
          "metadata": {},
          "output_type": "execute_result"
        }
      ],
      "source": [
        "df['Repaired'].unique()"
      ]
    },
    {
      "cell_type": "code",
      "execution_count": null,
      "metadata": {
        "id": "CzejC7HIgzIK",
        "outputId": "a5ac5be0-c26a-48f1-ae31-dfeb21e385bd"
      },
      "outputs": [
        {
          "data": {
            "text/plain": [
              "array([nan, 'coupe', 'suv', 'small', 'sedan', 'convertible', 'bus',\n",
              "       'wagon', 'other'], dtype=object)"
            ]
          },
          "execution_count": 10,
          "metadata": {},
          "output_type": "execute_result"
        }
      ],
      "source": [
        "df['VehicleType'].unique()"
      ]
    },
    {
      "cell_type": "code",
      "execution_count": null,
      "metadata": {
        "id": "THOvGVg_gzIK",
        "outputId": "a72ba9b7-32d9-4ed5-9fb9-f5d2624b633b"
      },
      "outputs": [
        {
          "data": {
            "text/plain": [
              "array(['petrol', 'gasoline', nan, 'lpg', 'other', 'hybrid', 'cng',\n",
              "       'electric'], dtype=object)"
            ]
          },
          "execution_count": 11,
          "metadata": {},
          "output_type": "execute_result"
        }
      ],
      "source": [
        "df['FuelType'].unique()"
      ]
    },
    {
      "cell_type": "code",
      "execution_count": null,
      "metadata": {
        "id": "14q9kgYfgzIK",
        "outputId": "bcafd5b9-02a9-4594-a0cf-9f68b3a6d018"
      },
      "outputs": [
        {
          "data": {
            "text/plain": [
              "array(['manual', 'auto', nan], dtype=object)"
            ]
          },
          "execution_count": 12,
          "metadata": {},
          "output_type": "execute_result"
        }
      ],
      "source": [
        "df['Gearbox'].unique()"
      ]
    },
    {
      "cell_type": "code",
      "execution_count": null,
      "metadata": {
        "id": "WG2fawa_gzIL",
        "outputId": "3eebeb42-388c-4c92-8412-b2d9fffa0698"
      },
      "outputs": [
        {
          "data": {
            "text/plain": [
              "array(['golf', nan, 'grand', 'fabia', '3er', '2_reihe', 'other', 'c_max',\n",
              "       '3_reihe', 'passat', 'navara', 'ka', 'polo', 'twingo', 'a_klasse',\n",
              "       'scirocco', '5er', 'meriva', 'arosa', 'c4', 'civic', 'transporter',\n",
              "       'punto', 'e_klasse', 'clio', 'kadett', 'kangoo', 'corsa', 'one',\n",
              "       'fortwo', '1er', 'b_klasse', 'signum', 'astra', 'a8', 'jetta',\n",
              "       'fiesta', 'c_klasse', 'micra', 'vito', 'sprinter', '156', 'escort',\n",
              "       'forester', 'xc_reihe', 'scenic', 'a4', 'a1', 'insignia', 'combo',\n",
              "       'focus', 'tt', 'a6', 'jazz', 'omega', 'slk', '7er', '80', '147',\n",
              "       '100', 'z_reihe', 'sportage', 'sorento', 'v40', 'ibiza', 'mustang',\n",
              "       'eos', 'touran', 'getz', 'a3', 'almera', 'megane', 'lupo', 'r19',\n",
              "       'zafira', 'caddy', 'mondeo', 'cordoba', 'colt', 'impreza',\n",
              "       'vectra', 'berlingo', 'tiguan', 'i_reihe', 'espace', 'sharan',\n",
              "       '6_reihe', 'panda', 'up', 'seicento', 'ceed', '5_reihe', 'yeti',\n",
              "       'octavia', 'mii', 'rx_reihe', '6er', 'modus', 'fox', 'matiz',\n",
              "       'beetle', 'c1', 'rio', 'touareg', 'logan', 'spider', 'cuore',\n",
              "       's_max', 'a2', 'galaxy', 'c3', 'viano', 's_klasse', '1_reihe',\n",
              "       'avensis', 'roomster', 'sl', 'kaefer', 'santa', 'cooper', 'leon',\n",
              "       '4_reihe', 'a5', '500', 'laguna', 'ptcruiser', 'clk', 'primera',\n",
              "       'x_reihe', 'exeo', '159', 'transit', 'juke', 'qashqai', 'carisma',\n",
              "       'accord', 'corolla', 'lanos', 'phaeton', 'verso', 'swift', 'rav',\n",
              "       'picanto', 'boxster', 'kalos', 'superb', 'stilo', 'alhambra',\n",
              "       'mx_reihe', 'roadster', 'ypsilon', 'cayenne', 'galant', 'justy',\n",
              "       '90', 'sirion', 'crossfire', 'agila', 'duster', 'cr_reihe', 'v50',\n",
              "       'c_reihe', 'v_klasse', 'm_klasse', 'yaris', 'c5', 'aygo', 'cc',\n",
              "       'carnival', 'fusion', '911', 'bora', 'forfour', 'm_reihe', 'cl',\n",
              "       'tigra', '300c', 'spark', 'v70', 'kuga', 'x_type', 'ducato',\n",
              "       's_type', 'x_trail', 'toledo', 'altea', 'voyager', 'calibra',\n",
              "       'bravo', 'antara', 'tucson', 'citigo', 'jimny', 'wrangler',\n",
              "       'lybra', 'q7', 'lancer', 'captiva', 'c2', 'discovery',\n",
              "       'freelander', 'sandero', 'note', '900', 'cherokee', 'clubman',\n",
              "       'samara', 'defender', '601', 'cx_reihe', 'legacy', 'pajero',\n",
              "       'auris', 'niva', 's60', 'nubira', 'vivaro', 'g_klasse', 'lodgy',\n",
              "       '850', 'range_rover', 'q3', 'serie_2', 'glk', 'charade', 'croma',\n",
              "       'outlander', 'doblo', 'musa', 'move', '9000', 'v60', '145', 'aveo',\n",
              "       '200', 'b_max', 'range_rover_sport', 'terios', 'rangerover', 'q5',\n",
              "       'range_rover_evoque', 'materia', 'delta', 'gl', 'kalina', 'amarok',\n",
              "       'elefantino', 'i3', 'kappa', 'serie_3', 'serie_1'], dtype=object)"
            ]
          },
          "execution_count": 13,
          "metadata": {},
          "output_type": "execute_result"
        }
      ],
      "source": [
        "df['Model'].unique()"
      ]
    },
    {
      "cell_type": "code",
      "execution_count": null,
      "metadata": {
        "id": "0RnmR9YFgzIL"
      },
      "outputs": [],
      "source": [
        "df = df.fillna('no information')"
      ]
    },
    {
      "cell_type": "code",
      "execution_count": null,
      "metadata": {
        "id": "3PMP9FyLgzIL",
        "outputId": "9486605f-8440-42f2-e341-fadb3ceada5d"
      },
      "outputs": [
        {
          "name": "stdout",
          "output_type": "stream",
          "text": [
            "<class 'pandas.core.frame.DataFrame'>\n",
            "Int64Index: 354365 entries, 0 to 354368\n",
            "Data columns (total 16 columns):\n",
            " #   Column             Non-Null Count   Dtype \n",
            "---  ------             --------------   ----- \n",
            " 0   DateCrawled        354365 non-null  object\n",
            " 1   Price              354365 non-null  int64 \n",
            " 2   VehicleType        354365 non-null  object\n",
            " 3   RegistrationYear   354365 non-null  int64 \n",
            " 4   Gearbox            354365 non-null  object\n",
            " 5   Power              354365 non-null  int64 \n",
            " 6   Model              354365 non-null  object\n",
            " 7   Kilometer          354365 non-null  int64 \n",
            " 8   RegistrationMonth  354365 non-null  int64 \n",
            " 9   FuelType           354365 non-null  object\n",
            " 10  Brand              354365 non-null  object\n",
            " 11  Repaired           354365 non-null  object\n",
            " 12  DateCreated        354365 non-null  object\n",
            " 13  NumberOfPictures   354365 non-null  int64 \n",
            " 14  PostalCode         354365 non-null  int64 \n",
            " 15  LastSeen           354365 non-null  object\n",
            "dtypes: int64(7), object(9)\n",
            "memory usage: 46.0+ MB\n"
          ]
        }
      ],
      "source": [
        "df.info()"
      ]
    },
    {
      "cell_type": "markdown",
      "metadata": {
        "id": "xlBzlLQzgzIM"
      },
      "source": [
        "Восстановить пропущенные данные возможности нет. Т.к. все пропущенные данные являются категорийными - заполняем пропуски категорией 'no information'."
      ]
    },
    {
      "cell_type": "code",
      "execution_count": null,
      "metadata": {
        "id": "lOlafCMLgzIM",
        "outputId": "705fa150-d0bd-4d86-c519-a46691f105f7"
      },
      "outputs": [
        {
          "data": {
            "text/html": [
              "<div>\n",
              "<style scoped>\n",
              "    .dataframe tbody tr th:only-of-type {\n",
              "        vertical-align: middle;\n",
              "    }\n",
              "\n",
              "    .dataframe tbody tr th {\n",
              "        vertical-align: top;\n",
              "    }\n",
              "\n",
              "    .dataframe thead th {\n",
              "        text-align: right;\n",
              "    }\n",
              "</style>\n",
              "<table border=\"1\" class=\"dataframe\">\n",
              "  <thead>\n",
              "    <tr style=\"text-align: right;\">\n",
              "      <th></th>\n",
              "      <th>Price</th>\n",
              "      <th>RegistrationYear</th>\n",
              "      <th>Power</th>\n",
              "      <th>Kilometer</th>\n",
              "      <th>RegistrationMonth</th>\n",
              "      <th>NumberOfPictures</th>\n",
              "      <th>PostalCode</th>\n",
              "    </tr>\n",
              "  </thead>\n",
              "  <tbody>\n",
              "    <tr>\n",
              "      <th>count</th>\n",
              "      <td>354365.000000</td>\n",
              "      <td>354365.000000</td>\n",
              "      <td>354365.000000</td>\n",
              "      <td>354365.000000</td>\n",
              "      <td>354365.000000</td>\n",
              "      <td>354365.0</td>\n",
              "      <td>354365.000000</td>\n",
              "    </tr>\n",
              "    <tr>\n",
              "      <th>mean</th>\n",
              "      <td>4416.679830</td>\n",
              "      <td>2004.234481</td>\n",
              "      <td>110.093816</td>\n",
              "      <td>128211.363989</td>\n",
              "      <td>5.714650</td>\n",
              "      <td>0.0</td>\n",
              "      <td>50508.503800</td>\n",
              "    </tr>\n",
              "    <tr>\n",
              "      <th>std</th>\n",
              "      <td>4514.176349</td>\n",
              "      <td>90.228466</td>\n",
              "      <td>189.851330</td>\n",
              "      <td>37905.083858</td>\n",
              "      <td>3.726432</td>\n",
              "      <td>0.0</td>\n",
              "      <td>25783.100078</td>\n",
              "    </tr>\n",
              "    <tr>\n",
              "      <th>min</th>\n",
              "      <td>0.000000</td>\n",
              "      <td>1000.000000</td>\n",
              "      <td>0.000000</td>\n",
              "      <td>5000.000000</td>\n",
              "      <td>0.000000</td>\n",
              "      <td>0.0</td>\n",
              "      <td>1067.000000</td>\n",
              "    </tr>\n",
              "    <tr>\n",
              "      <th>25%</th>\n",
              "      <td>1050.000000</td>\n",
              "      <td>1999.000000</td>\n",
              "      <td>69.000000</td>\n",
              "      <td>125000.000000</td>\n",
              "      <td>3.000000</td>\n",
              "      <td>0.0</td>\n",
              "      <td>30165.000000</td>\n",
              "    </tr>\n",
              "    <tr>\n",
              "      <th>50%</th>\n",
              "      <td>2700.000000</td>\n",
              "      <td>2003.000000</td>\n",
              "      <td>105.000000</td>\n",
              "      <td>150000.000000</td>\n",
              "      <td>6.000000</td>\n",
              "      <td>0.0</td>\n",
              "      <td>49413.000000</td>\n",
              "    </tr>\n",
              "    <tr>\n",
              "      <th>75%</th>\n",
              "      <td>6400.000000</td>\n",
              "      <td>2008.000000</td>\n",
              "      <td>143.000000</td>\n",
              "      <td>150000.000000</td>\n",
              "      <td>9.000000</td>\n",
              "      <td>0.0</td>\n",
              "      <td>71083.000000</td>\n",
              "    </tr>\n",
              "    <tr>\n",
              "      <th>max</th>\n",
              "      <td>20000.000000</td>\n",
              "      <td>9999.000000</td>\n",
              "      <td>20000.000000</td>\n",
              "      <td>150000.000000</td>\n",
              "      <td>12.000000</td>\n",
              "      <td>0.0</td>\n",
              "      <td>99998.000000</td>\n",
              "    </tr>\n",
              "  </tbody>\n",
              "</table>\n",
              "</div>"
            ],
            "text/plain": [
              "               Price  RegistrationYear          Power      Kilometer  \\\n",
              "count  354365.000000     354365.000000  354365.000000  354365.000000   \n",
              "mean     4416.679830       2004.234481     110.093816  128211.363989   \n",
              "std      4514.176349         90.228466     189.851330   37905.083858   \n",
              "min         0.000000       1000.000000       0.000000    5000.000000   \n",
              "25%      1050.000000       1999.000000      69.000000  125000.000000   \n",
              "50%      2700.000000       2003.000000     105.000000  150000.000000   \n",
              "75%      6400.000000       2008.000000     143.000000  150000.000000   \n",
              "max     20000.000000       9999.000000   20000.000000  150000.000000   \n",
              "\n",
              "       RegistrationMonth  NumberOfPictures     PostalCode  \n",
              "count      354365.000000          354365.0  354365.000000  \n",
              "mean            5.714650               0.0   50508.503800  \n",
              "std             3.726432               0.0   25783.100078  \n",
              "min             0.000000               0.0    1067.000000  \n",
              "25%             3.000000               0.0   30165.000000  \n",
              "50%             6.000000               0.0   49413.000000  \n",
              "75%             9.000000               0.0   71083.000000  \n",
              "max            12.000000               0.0   99998.000000  "
            ]
          },
          "execution_count": 16,
          "metadata": {},
          "output_type": "execute_result"
        }
      ],
      "source": [
        "df.describe()"
      ]
    },
    {
      "cell_type": "code",
      "execution_count": null,
      "metadata": {
        "id": "bLHBt9c6gzIM",
        "outputId": "e0d95575-eea0-49b2-f0e3-a49480cbffe1"
      },
      "outputs": [
        {
          "data": {
            "image/png": "[encoded data removed]",
            "text/plain": [
              "<Figure size 1800x360 with 1 Axes>"
            ]
          },
          "metadata": {
            "needs_background": "light"
          },
          "output_type": "display_data"
        }
      ],
      "source": [
        "df.pivot_table(index='Price', values='Brand', aggfunc='count').plot(legend=None, figsize = (25,5));"
      ]
    },
    {
      "cell_type": "code",
      "execution_count": null,
      "metadata": {
        "id": "ndAjOvrJgzIM",
        "outputId": "4a4bb6e7-6cea-417f-d023-4a51c3be410c"
      },
      "outputs": [
        {
          "data": {
            "image/png": "[encoded data removed]",
            "text/plain": [
              "<Figure size 1800x720 with 1 Axes>"
            ]
          },
          "metadata": {
            "needs_background": "light"
          },
          "output_type": "display_data"
        }
      ],
      "source": [
        "df.pivot_table(index='Price', values='Brand', aggfunc='count').head(400).plot(legend=None, figsize = (25,10));"
      ]
    },
    {
      "cell_type": "code",
      "execution_count": null,
      "metadata": {
        "id": "2ZPvmfr3gzIM",
        "outputId": "482ef56e-8ae4-4a15-90c3-c4660be51f46"
      },
      "outputs": [
        {
          "data": {
            "text/html": [
              "<div>\n",
              "<style scoped>\n",
              "    .dataframe tbody tr th:only-of-type {\n",
              "        vertical-align: middle;\n",
              "    }\n",
              "\n",
              "    .dataframe tbody tr th {\n",
              "        vertical-align: top;\n",
              "    }\n",
              "\n",
              "    .dataframe thead th {\n",
              "        text-align: right;\n",
              "    }\n",
              "</style>\n",
              "<table border=\"1\" class=\"dataframe\">\n",
              "  <thead>\n",
              "    <tr style=\"text-align: right;\">\n",
              "      <th></th>\n",
              "      <th>DateCrawled</th>\n",
              "      <th>Price</th>\n",
              "      <th>VehicleType</th>\n",
              "      <th>RegistrationYear</th>\n",
              "      <th>Gearbox</th>\n",
              "      <th>Power</th>\n",
              "      <th>Model</th>\n",
              "      <th>Kilometer</th>\n",
              "      <th>RegistrationMonth</th>\n",
              "      <th>FuelType</th>\n",
              "      <th>Brand</th>\n",
              "      <th>Repaired</th>\n",
              "      <th>DateCreated</th>\n",
              "      <th>NumberOfPictures</th>\n",
              "      <th>PostalCode</th>\n",
              "      <th>LastSeen</th>\n",
              "    </tr>\n",
              "  </thead>\n",
              "  <tbody>\n",
              "    <tr>\n",
              "      <th>7</th>\n",
              "      <td>2016-03-21 18:54:38</td>\n",
              "      <td>0</td>\n",
              "      <td>sedan</td>\n",
              "      <td>1980</td>\n",
              "      <td>manual</td>\n",
              "      <td>50</td>\n",
              "      <td>other</td>\n",
              "      <td>40000</td>\n",
              "      <td>7</td>\n",
              "      <td>petrol</td>\n",
              "      <td>volkswagen</td>\n",
              "      <td>no</td>\n",
              "      <td>2016-03-21 00:00:00</td>\n",
              "      <td>0</td>\n",
              "      <td>19348</td>\n",
              "      <td>2016-03-25 16:47:58</td>\n",
              "    </tr>\n",
              "    <tr>\n",
              "      <th>40</th>\n",
              "      <td>2016-03-26 22:06:17</td>\n",
              "      <td>0</td>\n",
              "      <td>no information</td>\n",
              "      <td>1990</td>\n",
              "      <td>no information</td>\n",
              "      <td>0</td>\n",
              "      <td>corsa</td>\n",
              "      <td>150000</td>\n",
              "      <td>1</td>\n",
              "      <td>petrol</td>\n",
              "      <td>opel</td>\n",
              "      <td>no information</td>\n",
              "      <td>2016-03-26 00:00:00</td>\n",
              "      <td>0</td>\n",
              "      <td>56412</td>\n",
              "      <td>2016-03-27 17:43:34</td>\n",
              "    </tr>\n",
              "    <tr>\n",
              "      <th>59</th>\n",
              "      <td>2016-03-29 15:48:15</td>\n",
              "      <td>1</td>\n",
              "      <td>suv</td>\n",
              "      <td>1994</td>\n",
              "      <td>manual</td>\n",
              "      <td>286</td>\n",
              "      <td>no information</td>\n",
              "      <td>150000</td>\n",
              "      <td>11</td>\n",
              "      <td>no information</td>\n",
              "      <td>sonstige_autos</td>\n",
              "      <td>no information</td>\n",
              "      <td>2016-03-29 00:00:00</td>\n",
              "      <td>0</td>\n",
              "      <td>53721</td>\n",
              "      <td>2016-04-06 01:44:38</td>\n",
              "    </tr>\n",
              "    <tr>\n",
              "      <th>89</th>\n",
              "      <td>2016-03-28 09:37:01</td>\n",
              "      <td>1</td>\n",
              "      <td>sedan</td>\n",
              "      <td>1995</td>\n",
              "      <td>manual</td>\n",
              "      <td>113</td>\n",
              "      <td>e_klasse</td>\n",
              "      <td>150000</td>\n",
              "      <td>4</td>\n",
              "      <td>gasoline</td>\n",
              "      <td>mercedes_benz</td>\n",
              "      <td>no</td>\n",
              "      <td>2016-03-28 00:00:00</td>\n",
              "      <td>0</td>\n",
              "      <td>40589</td>\n",
              "      <td>2016-04-06 12:15:54</td>\n",
              "    </tr>\n",
              "    <tr>\n",
              "      <th>111</th>\n",
              "      <td>2016-03-19 18:40:12</td>\n",
              "      <td>0</td>\n",
              "      <td>no information</td>\n",
              "      <td>2017</td>\n",
              "      <td>manual</td>\n",
              "      <td>0</td>\n",
              "      <td>golf</td>\n",
              "      <td>5000</td>\n",
              "      <td>12</td>\n",
              "      <td>petrol</td>\n",
              "      <td>volkswagen</td>\n",
              "      <td>no information</td>\n",
              "      <td>2016-03-19 00:00:00</td>\n",
              "      <td>0</td>\n",
              "      <td>21698</td>\n",
              "      <td>2016-04-01 08:47:05</td>\n",
              "    </tr>\n",
              "    <tr>\n",
              "      <th>...</th>\n",
              "      <td>...</td>\n",
              "      <td>...</td>\n",
              "      <td>...</td>\n",
              "      <td>...</td>\n",
              "      <td>...</td>\n",
              "      <td>...</td>\n",
              "      <td>...</td>\n",
              "      <td>...</td>\n",
              "      <td>...</td>\n",
              "      <td>...</td>\n",
              "      <td>...</td>\n",
              "      <td>...</td>\n",
              "      <td>...</td>\n",
              "      <td>...</td>\n",
              "      <td>...</td>\n",
              "      <td>...</td>\n",
              "    </tr>\n",
              "    <tr>\n",
              "      <th>354238</th>\n",
              "      <td>2016-03-20 14:55:07</td>\n",
              "      <td>0</td>\n",
              "      <td>small</td>\n",
              "      <td>2002</td>\n",
              "      <td>manual</td>\n",
              "      <td>60</td>\n",
              "      <td>fiesta</td>\n",
              "      <td>150000</td>\n",
              "      <td>3</td>\n",
              "      <td>petrol</td>\n",
              "      <td>ford</td>\n",
              "      <td>no information</td>\n",
              "      <td>2016-03-20 00:00:00</td>\n",
              "      <td>0</td>\n",
              "      <td>33659</td>\n",
              "      <td>2016-04-06 18:45:23</td>\n",
              "    </tr>\n",
              "    <tr>\n",
              "      <th>354248</th>\n",
              "      <td>2016-03-24 13:48:05</td>\n",
              "      <td>0</td>\n",
              "      <td>small</td>\n",
              "      <td>1999</td>\n",
              "      <td>manual</td>\n",
              "      <td>53</td>\n",
              "      <td>swift</td>\n",
              "      <td>150000</td>\n",
              "      <td>3</td>\n",
              "      <td>petrol</td>\n",
              "      <td>suzuki</td>\n",
              "      <td>no information</td>\n",
              "      <td>2016-03-24 00:00:00</td>\n",
              "      <td>0</td>\n",
              "      <td>42329</td>\n",
              "      <td>2016-04-07 05:17:24</td>\n",
              "    </tr>\n",
              "    <tr>\n",
              "      <th>354277</th>\n",
              "      <td>2016-03-10 22:55:50</td>\n",
              "      <td>0</td>\n",
              "      <td>small</td>\n",
              "      <td>1999</td>\n",
              "      <td>manual</td>\n",
              "      <td>37</td>\n",
              "      <td>arosa</td>\n",
              "      <td>150000</td>\n",
              "      <td>7</td>\n",
              "      <td>petrol</td>\n",
              "      <td>seat</td>\n",
              "      <td>yes</td>\n",
              "      <td>2016-03-10 00:00:00</td>\n",
              "      <td>0</td>\n",
              "      <td>22559</td>\n",
              "      <td>2016-03-12 23:46:32</td>\n",
              "    </tr>\n",
              "    <tr>\n",
              "      <th>354309</th>\n",
              "      <td>2016-03-09 22:37:41</td>\n",
              "      <td>99</td>\n",
              "      <td>small</td>\n",
              "      <td>1999</td>\n",
              "      <td>manual</td>\n",
              "      <td>60</td>\n",
              "      <td>arosa</td>\n",
              "      <td>150000</td>\n",
              "      <td>1</td>\n",
              "      <td>petrol</td>\n",
              "      <td>seat</td>\n",
              "      <td>yes</td>\n",
              "      <td>2016-03-09 00:00:00</td>\n",
              "      <td>0</td>\n",
              "      <td>91301</td>\n",
              "      <td>2016-04-06 22:15:32</td>\n",
              "    </tr>\n",
              "    <tr>\n",
              "      <th>354364</th>\n",
              "      <td>2016-03-21 09:50:58</td>\n",
              "      <td>0</td>\n",
              "      <td>no information</td>\n",
              "      <td>2005</td>\n",
              "      <td>manual</td>\n",
              "      <td>0</td>\n",
              "      <td>colt</td>\n",
              "      <td>150000</td>\n",
              "      <td>7</td>\n",
              "      <td>petrol</td>\n",
              "      <td>mitsubishi</td>\n",
              "      <td>yes</td>\n",
              "      <td>2016-03-21 00:00:00</td>\n",
              "      <td>0</td>\n",
              "      <td>2694</td>\n",
              "      <td>2016-03-21 10:42:49</td>\n",
              "    </tr>\n",
              "  </tbody>\n",
              "</table>\n",
              "<p>13314 rows × 16 columns</p>\n",
              "</div>"
            ],
            "text/plain": [
              "                DateCrawled  Price     VehicleType  RegistrationYear  \\\n",
              "7       2016-03-21 18:54:38      0           sedan              1980   \n",
              "40      2016-03-26 22:06:17      0  no information              1990   \n",
              "59      2016-03-29 15:48:15      1             suv              1994   \n",
              "89      2016-03-28 09:37:01      1           sedan              1995   \n",
              "111     2016-03-19 18:40:12      0  no information              2017   \n",
              "...                     ...    ...             ...               ...   \n",
              "354238  2016-03-20 14:55:07      0           small              2002   \n",
              "354248  2016-03-24 13:48:05      0           small              1999   \n",
              "354277  2016-03-10 22:55:50      0           small              1999   \n",
              "354309  2016-03-09 22:37:41     99           small              1999   \n",
              "354364  2016-03-21 09:50:58      0  no information              2005   \n",
              "\n",
              "               Gearbox  Power           Model  Kilometer  RegistrationMonth  \\\n",
              "7               manual     50           other      40000                  7   \n",
              "40      no information      0           corsa     150000                  1   \n",
              "59              manual    286  no information     150000                 11   \n",
              "89              manual    113        e_klasse     150000                  4   \n",
              "111             manual      0            golf       5000                 12   \n",
              "...                ...    ...             ...        ...                ...   \n",
              "354238          manual     60          fiesta     150000                  3   \n",
              "354248          manual     53           swift     150000                  3   \n",
              "354277          manual     37           arosa     150000                  7   \n",
              "354309          manual     60           arosa     150000                  1   \n",
              "354364          manual      0            colt     150000                  7   \n",
              "\n",
              "              FuelType           Brand        Repaired          DateCreated  \\\n",
              "7               petrol      volkswagen              no  2016-03-21 00:00:00   \n",
              "40              petrol            opel  no information  2016-03-26 00:00:00   \n",
              "59      no information  sonstige_autos  no information  2016-03-29 00:00:00   \n",
              "89            gasoline   mercedes_benz              no  2016-03-28 00:00:00   \n",
              "111             petrol      volkswagen  no information  2016-03-19 00:00:00   \n",
              "...                ...             ...             ...                  ...   \n",
              "354238          petrol            ford  no information  2016-03-20 00:00:00   \n",
              "354248          petrol          suzuki  no information  2016-03-24 00:00:00   \n",
              "354277          petrol            seat             yes  2016-03-10 00:00:00   \n",
              "354309          petrol            seat             yes  2016-03-09 00:00:00   \n",
              "354364          petrol      mitsubishi             yes  2016-03-21 00:00:00   \n",
              "\n",
              "        NumberOfPictures  PostalCode             LastSeen  \n",
              "7                      0       19348  2016-03-25 16:47:58  \n",
              "40                     0       56412  2016-03-27 17:43:34  \n",
              "59                     0       53721  2016-04-06 01:44:38  \n",
              "89                     0       40589  2016-04-06 12:15:54  \n",
              "111                    0       21698  2016-04-01 08:47:05  \n",
              "...                  ...         ...                  ...  \n",
              "354238                 0       33659  2016-04-06 18:45:23  \n",
              "354248                 0       42329  2016-04-07 05:17:24  \n",
              "354277                 0       22559  2016-03-12 23:46:32  \n",
              "354309                 0       91301  2016-04-06 22:15:32  \n",
              "354364                 0        2694  2016-03-21 10:42:49  \n",
              "\n",
              "[13314 rows x 16 columns]"
            ]
          },
          "execution_count": 19,
          "metadata": {},
          "output_type": "execute_result"
        }
      ],
      "source": [
        "df[df['Price']<100]"
      ]
    },
    {
      "cell_type": "code",
      "execution_count": null,
      "metadata": {
        "id": "u8RXytXzgzIN"
      },
      "outputs": [],
      "source": [
        "df = df[df['Price'] >= 100]"
      ]
    },
    {
      "cell_type": "markdown",
      "metadata": {
        "id": "l5b1o2F9gzIN"
      },
      "source": [
        "В данных в целевом признике содержится большое количество значений равных 0. Также содержаться очень маленькие значения 1, 2 и т.д. здесь скорее всего ошибка. Т.к. нам необходимо научить модель прогнозировать цену удаляем все значения меньше 100."
      ]
    },
    {
      "cell_type": "code",
      "execution_count": null,
      "metadata": {
        "id": "U2Gq2EC9gzIN",
        "outputId": "b1082e27-93e3-43fe-c185-0dc65f22cd0e"
      },
      "outputs": [
        {
          "data": {
            "text/plain": [
              "[1000,\n",
              " 1001,\n",
              " 1039,\n",
              " 1111,\n",
              " 1234,\n",
              " 1255,\n",
              " 1300,\n",
              " 1400,\n",
              " 1500,\n",
              " 1600,\n",
              " 1602,\n",
              " 1800,\n",
              " 1910,\n",
              " 1923,\n",
              " 1925,\n",
              " 1927,\n",
              " 1928,\n",
              " 1929,\n",
              " 1930,\n",
              " 1931,\n",
              " 1932,\n",
              " 1933,\n",
              " 1934,\n",
              " 1935,\n",
              " 1936,\n",
              " 1937,\n",
              " 1938,\n",
              " 1940,\n",
              " 1941,\n",
              " 1942,\n",
              " 1943,\n",
              " 1944,\n",
              " 1945,\n",
              " 1946,\n",
              " 1947,\n",
              " 1948,\n",
              " 1949,\n",
              " 1950,\n",
              " 1951,\n",
              " 1952,\n",
              " 1953,\n",
              " 1954,\n",
              " 1955,\n",
              " 1956,\n",
              " 1957,\n",
              " 1958,\n",
              " 1959,\n",
              " 1960,\n",
              " 1961,\n",
              " 1962,\n",
              " 1963,\n",
              " 1964,\n",
              " 1965,\n",
              " 1966,\n",
              " 1967,\n",
              " 1968,\n",
              " 1969,\n",
              " 1970,\n",
              " 1971,\n",
              " 1972,\n",
              " 1973,\n",
              " 1974,\n",
              " 1975,\n",
              " 1976,\n",
              " 1977,\n",
              " 1978,\n",
              " 1979,\n",
              " 1980,\n",
              " 1981,\n",
              " 1982,\n",
              " 1983,\n",
              " 1984,\n",
              " 1985,\n",
              " 1986,\n",
              " 1987,\n",
              " 1988,\n",
              " 1989,\n",
              " 1990,\n",
              " 1991,\n",
              " 1992,\n",
              " 1993,\n",
              " 1994,\n",
              " 1995,\n",
              " 1996,\n",
              " 1997,\n",
              " 1998,\n",
              " 1999,\n",
              " 2000,\n",
              " 2001,\n",
              " 2002,\n",
              " 2003,\n",
              " 2004,\n",
              " 2005,\n",
              " 2006,\n",
              " 2007,\n",
              " 2008,\n",
              " 2009,\n",
              " 2010,\n",
              " 2011,\n",
              " 2012,\n",
              " 2013,\n",
              " 2014,\n",
              " 2015,\n",
              " 2016,\n",
              " 2017,\n",
              " 2018,\n",
              " 2019,\n",
              " 2066,\n",
              " 2200,\n",
              " 2222,\n",
              " 2290,\n",
              " 2500,\n",
              " 2800,\n",
              " 2900,\n",
              " 3000,\n",
              " 3200,\n",
              " 3700,\n",
              " 3800,\n",
              " 4000,\n",
              " 4100,\n",
              " 4500,\n",
              " 4800,\n",
              " 5000,\n",
              " 5300,\n",
              " 5555,\n",
              " 5600,\n",
              " 5900,\n",
              " 5911,\n",
              " 6000,\n",
              " 7000,\n",
              " 7100,\n",
              " 7800,\n",
              " 8200,\n",
              " 8500,\n",
              " 8888,\n",
              " 9000,\n",
              " 9450,\n",
              " 9999]"
            ]
          },
          "execution_count": 21,
          "metadata": {},
          "output_type": "execute_result"
        }
      ],
      "source": [
        "sorted(df['RegistrationYear'].unique())"
      ]
    },
    {
      "cell_type": "code",
      "execution_count": null,
      "metadata": {
        "id": "kdp50-OvgzIO",
        "outputId": "40464843-d83d-42fa-9d50-c2283b1edc80"
      },
      "outputs": [
        {
          "data": {
            "text/plain": [
              "('2016-04-07 14:36:58', '2016-04-07 00:00:00')"
            ]
          },
          "execution_count": 22,
          "metadata": {},
          "output_type": "execute_result"
        }
      ],
      "source": [
        "df['DateCrawled'].max(), df['DateCreated'].max()"
      ]
    },
    {
      "cell_type": "code",
      "execution_count": null,
      "metadata": {
        "id": "bwzTdI7dgzIO",
        "outputId": "e05154ae-5c19-42c6-edff-0e266711ff7f"
      },
      "outputs": [
        {
          "data": {
            "text/html": [
              "<div>\n",
              "<style scoped>\n",
              "    .dataframe tbody tr th:only-of-type {\n",
              "        vertical-align: middle;\n",
              "    }\n",
              "\n",
              "    .dataframe tbody tr th {\n",
              "        vertical-align: top;\n",
              "    }\n",
              "\n",
              "    .dataframe thead th {\n",
              "        text-align: right;\n",
              "    }\n",
              "</style>\n",
              "<table border=\"1\" class=\"dataframe\">\n",
              "  <thead>\n",
              "    <tr style=\"text-align: right;\">\n",
              "      <th></th>\n",
              "      <th>DateCrawled</th>\n",
              "      <th>Price</th>\n",
              "      <th>VehicleType</th>\n",
              "      <th>RegistrationYear</th>\n",
              "      <th>Gearbox</th>\n",
              "      <th>Power</th>\n",
              "      <th>Model</th>\n",
              "      <th>Kilometer</th>\n",
              "      <th>RegistrationMonth</th>\n",
              "      <th>FuelType</th>\n",
              "      <th>Brand</th>\n",
              "      <th>Repaired</th>\n",
              "      <th>DateCreated</th>\n",
              "      <th>NumberOfPictures</th>\n",
              "      <th>PostalCode</th>\n",
              "      <th>LastSeen</th>\n",
              "    </tr>\n",
              "  </thead>\n",
              "  <tbody>\n",
              "    <tr>\n",
              "      <th>22</th>\n",
              "      <td>2016-03-23 14:52:51</td>\n",
              "      <td>2900</td>\n",
              "      <td>no information</td>\n",
              "      <td>2018</td>\n",
              "      <td>manual</td>\n",
              "      <td>90</td>\n",
              "      <td>meriva</td>\n",
              "      <td>150000</td>\n",
              "      <td>5</td>\n",
              "      <td>petrol</td>\n",
              "      <td>opel</td>\n",
              "      <td>no</td>\n",
              "      <td>2016-03-23 00:00:00</td>\n",
              "      <td>0</td>\n",
              "      <td>49716</td>\n",
              "      <td>2016-03-31 01:16:33</td>\n",
              "    </tr>\n",
              "    <tr>\n",
              "      <th>26</th>\n",
              "      <td>2016-03-10 19:38:18</td>\n",
              "      <td>5555</td>\n",
              "      <td>no information</td>\n",
              "      <td>2017</td>\n",
              "      <td>manual</td>\n",
              "      <td>125</td>\n",
              "      <td>c4</td>\n",
              "      <td>125000</td>\n",
              "      <td>4</td>\n",
              "      <td>no information</td>\n",
              "      <td>citroen</td>\n",
              "      <td>no</td>\n",
              "      <td>2016-03-10 00:00:00</td>\n",
              "      <td>0</td>\n",
              "      <td>31139</td>\n",
              "      <td>2016-03-16 09:16:46</td>\n",
              "    </tr>\n",
              "    <tr>\n",
              "      <th>48</th>\n",
              "      <td>2016-03-25 14:40:12</td>\n",
              "      <td>7750</td>\n",
              "      <td>no information</td>\n",
              "      <td>2017</td>\n",
              "      <td>manual</td>\n",
              "      <td>80</td>\n",
              "      <td>golf</td>\n",
              "      <td>100000</td>\n",
              "      <td>1</td>\n",
              "      <td>petrol</td>\n",
              "      <td>volkswagen</td>\n",
              "      <td>no information</td>\n",
              "      <td>2016-03-25 00:00:00</td>\n",
              "      <td>0</td>\n",
              "      <td>48499</td>\n",
              "      <td>2016-03-31 21:47:44</td>\n",
              "    </tr>\n",
              "    <tr>\n",
              "      <th>51</th>\n",
              "      <td>2016-03-07 18:57:08</td>\n",
              "      <td>2000</td>\n",
              "      <td>no information</td>\n",
              "      <td>2017</td>\n",
              "      <td>manual</td>\n",
              "      <td>90</td>\n",
              "      <td>punto</td>\n",
              "      <td>150000</td>\n",
              "      <td>11</td>\n",
              "      <td>gasoline</td>\n",
              "      <td>fiat</td>\n",
              "      <td>yes</td>\n",
              "      <td>2016-03-07 00:00:00</td>\n",
              "      <td>0</td>\n",
              "      <td>66115</td>\n",
              "      <td>2016-03-07 18:57:08</td>\n",
              "    </tr>\n",
              "    <tr>\n",
              "      <th>57</th>\n",
              "      <td>2016-03-10 20:53:19</td>\n",
              "      <td>2399</td>\n",
              "      <td>no information</td>\n",
              "      <td>2018</td>\n",
              "      <td>manual</td>\n",
              "      <td>64</td>\n",
              "      <td>other</td>\n",
              "      <td>125000</td>\n",
              "      <td>3</td>\n",
              "      <td>no information</td>\n",
              "      <td>seat</td>\n",
              "      <td>no</td>\n",
              "      <td>2016-03-10 00:00:00</td>\n",
              "      <td>0</td>\n",
              "      <td>33397</td>\n",
              "      <td>2016-03-25 10:17:37</td>\n",
              "    </tr>\n",
              "    <tr>\n",
              "      <th>...</th>\n",
              "      <td>...</td>\n",
              "      <td>...</td>\n",
              "      <td>...</td>\n",
              "      <td>...</td>\n",
              "      <td>...</td>\n",
              "      <td>...</td>\n",
              "      <td>...</td>\n",
              "      <td>...</td>\n",
              "      <td>...</td>\n",
              "      <td>...</td>\n",
              "      <td>...</td>\n",
              "      <td>...</td>\n",
              "      <td>...</td>\n",
              "      <td>...</td>\n",
              "      <td>...</td>\n",
              "      <td>...</td>\n",
              "    </tr>\n",
              "    <tr>\n",
              "      <th>354112</th>\n",
              "      <td>2016-03-11 15:49:51</td>\n",
              "      <td>3600</td>\n",
              "      <td>no information</td>\n",
              "      <td>2017</td>\n",
              "      <td>manual</td>\n",
              "      <td>86</td>\n",
              "      <td>transit</td>\n",
              "      <td>150000</td>\n",
              "      <td>5</td>\n",
              "      <td>gasoline</td>\n",
              "      <td>ford</td>\n",
              "      <td>no information</td>\n",
              "      <td>2016-03-11 00:00:00</td>\n",
              "      <td>0</td>\n",
              "      <td>32339</td>\n",
              "      <td>2016-03-12 05:45:02</td>\n",
              "    </tr>\n",
              "    <tr>\n",
              "      <th>354140</th>\n",
              "      <td>2016-03-29 16:47:29</td>\n",
              "      <td>1000</td>\n",
              "      <td>no information</td>\n",
              "      <td>2017</td>\n",
              "      <td>manual</td>\n",
              "      <td>101</td>\n",
              "      <td>a4</td>\n",
              "      <td>150000</td>\n",
              "      <td>9</td>\n",
              "      <td>no information</td>\n",
              "      <td>audi</td>\n",
              "      <td>no information</td>\n",
              "      <td>2016-03-29 00:00:00</td>\n",
              "      <td>0</td>\n",
              "      <td>38315</td>\n",
              "      <td>2016-04-06 02:44:27</td>\n",
              "    </tr>\n",
              "    <tr>\n",
              "      <th>354203</th>\n",
              "      <td>2016-03-17 00:56:26</td>\n",
              "      <td>2140</td>\n",
              "      <td>no information</td>\n",
              "      <td>2018</td>\n",
              "      <td>manual</td>\n",
              "      <td>80</td>\n",
              "      <td>fiesta</td>\n",
              "      <td>150000</td>\n",
              "      <td>6</td>\n",
              "      <td>no information</td>\n",
              "      <td>ford</td>\n",
              "      <td>no</td>\n",
              "      <td>2016-03-17 00:00:00</td>\n",
              "      <td>0</td>\n",
              "      <td>44866</td>\n",
              "      <td>2016-03-29 15:45:04</td>\n",
              "    </tr>\n",
              "    <tr>\n",
              "      <th>354253</th>\n",
              "      <td>2016-03-25 09:37:59</td>\n",
              "      <td>1250</td>\n",
              "      <td>no information</td>\n",
              "      <td>2018</td>\n",
              "      <td>no information</td>\n",
              "      <td>0</td>\n",
              "      <td>corsa</td>\n",
              "      <td>150000</td>\n",
              "      <td>0</td>\n",
              "      <td>petrol</td>\n",
              "      <td>opel</td>\n",
              "      <td>no information</td>\n",
              "      <td>2016-03-25 00:00:00</td>\n",
              "      <td>0</td>\n",
              "      <td>45527</td>\n",
              "      <td>2016-04-06 07:46:13</td>\n",
              "    </tr>\n",
              "    <tr>\n",
              "      <th>354289</th>\n",
              "      <td>2016-03-05 14:55:29</td>\n",
              "      <td>5000</td>\n",
              "      <td>no information</td>\n",
              "      <td>2017</td>\n",
              "      <td>manual</td>\n",
              "      <td>120</td>\n",
              "      <td>other</td>\n",
              "      <td>150000</td>\n",
              "      <td>7</td>\n",
              "      <td>no information</td>\n",
              "      <td>citroen</td>\n",
              "      <td>yes</td>\n",
              "      <td>2016-03-05 00:00:00</td>\n",
              "      <td>0</td>\n",
              "      <td>15518</td>\n",
              "      <td>2016-04-05 11:48:09</td>\n",
              "    </tr>\n",
              "  </tbody>\n",
              "</table>\n",
              "<p>13730 rows × 16 columns</p>\n",
              "</div>"
            ],
            "text/plain": [
              "                DateCrawled  Price     VehicleType  RegistrationYear  \\\n",
              "22      2016-03-23 14:52:51   2900  no information              2018   \n",
              "26      2016-03-10 19:38:18   5555  no information              2017   \n",
              "48      2016-03-25 14:40:12   7750  no information              2017   \n",
              "51      2016-03-07 18:57:08   2000  no information              2017   \n",
              "57      2016-03-10 20:53:19   2399  no information              2018   \n",
              "...                     ...    ...             ...               ...   \n",
              "354112  2016-03-11 15:49:51   3600  no information              2017   \n",
              "354140  2016-03-29 16:47:29   1000  no information              2017   \n",
              "354203  2016-03-17 00:56:26   2140  no information              2018   \n",
              "354253  2016-03-25 09:37:59   1250  no information              2018   \n",
              "354289  2016-03-05 14:55:29   5000  no information              2017   \n",
              "\n",
              "               Gearbox  Power    Model  Kilometer  RegistrationMonth  \\\n",
              "22              manual     90   meriva     150000                  5   \n",
              "26              manual    125       c4     125000                  4   \n",
              "48              manual     80     golf     100000                  1   \n",
              "51              manual     90    punto     150000                 11   \n",
              "57              manual     64    other     125000                  3   \n",
              "...                ...    ...      ...        ...                ...   \n",
              "354112          manual     86  transit     150000                  5   \n",
              "354140          manual    101       a4     150000                  9   \n",
              "354203          manual     80   fiesta     150000                  6   \n",
              "354253  no information      0    corsa     150000                  0   \n",
              "354289          manual    120    other     150000                  7   \n",
              "\n",
              "              FuelType       Brand        Repaired          DateCreated  \\\n",
              "22              petrol        opel              no  2016-03-23 00:00:00   \n",
              "26      no information     citroen              no  2016-03-10 00:00:00   \n",
              "48              petrol  volkswagen  no information  2016-03-25 00:00:00   \n",
              "51            gasoline        fiat             yes  2016-03-07 00:00:00   \n",
              "57      no information        seat              no  2016-03-10 00:00:00   \n",
              "...                ...         ...             ...                  ...   \n",
              "354112        gasoline        ford  no information  2016-03-11 00:00:00   \n",
              "354140  no information        audi  no information  2016-03-29 00:00:00   \n",
              "354203  no information        ford              no  2016-03-17 00:00:00   \n",
              "354253          petrol        opel  no information  2016-03-25 00:00:00   \n",
              "354289  no information     citroen             yes  2016-03-05 00:00:00   \n",
              "\n",
              "        NumberOfPictures  PostalCode             LastSeen  \n",
              "22                     0       49716  2016-03-31 01:16:33  \n",
              "26                     0       31139  2016-03-16 09:16:46  \n",
              "48                     0       48499  2016-03-31 21:47:44  \n",
              "51                     0       66115  2016-03-07 18:57:08  \n",
              "57                     0       33397  2016-03-25 10:17:37  \n",
              "...                  ...         ...                  ...  \n",
              "354112                 0       32339  2016-03-12 05:45:02  \n",
              "354140                 0       38315  2016-04-06 02:44:27  \n",
              "354203                 0       44866  2016-03-29 15:45:04  \n",
              "354253                 0       45527  2016-04-06 07:46:13  \n",
              "354289                 0       15518  2016-04-05 11:48:09  \n",
              "\n",
              "[13730 rows x 16 columns]"
            ]
          },
          "execution_count": 23,
          "metadata": {},
          "output_type": "execute_result"
        }
      ],
      "source": [
        "df[(df['RegistrationYear'] < 1910) | (df['RegistrationYear'] > 2016)]"
      ]
    },
    {
      "cell_type": "code",
      "execution_count": null,
      "metadata": {
        "id": "w4LTl_RWgzIO"
      },
      "outputs": [],
      "source": [
        "df = df[(df['RegistrationYear'] >= 1910) & (df['RegistrationYear'] <= 2016)]"
      ]
    },
    {
      "cell_type": "markdown",
      "metadata": {
        "id": "POIcKkBCgzIP"
      },
      "source": [
        "2019 исправлен на 2016, т.к. max дата скачивания анкеты из базы и дата создания анкеты относятся к 2016 году, все годы ранее 1910 удаляем, т.к. первый автомобиль был изобретен в 1886 году. Предположить, что ретро-автомобили начала 20 века могут присутствовать в объявлениях можно, а 1800 год и ранее - точно ошибка."
      ]
    },
    {
      "cell_type": "code",
      "execution_count": null,
      "metadata": {
        "id": "LQu8A4efgzIQ",
        "outputId": "396defac-5cb7-44f3-b476-119af9a46fe4"
      },
      "outputs": [
        {
          "data": {
            "text/plain": [
              "[1910,\n",
              " 1923,\n",
              " 1925,\n",
              " 1927,\n",
              " 1928,\n",
              " 1929,\n",
              " 1930,\n",
              " 1931,\n",
              " 1932,\n",
              " 1933,\n",
              " 1934,\n",
              " 1935,\n",
              " 1936,\n",
              " 1937,\n",
              " 1938,\n",
              " 1940,\n",
              " 1941,\n",
              " 1942,\n",
              " 1943,\n",
              " 1944,\n",
              " 1945,\n",
              " 1946,\n",
              " 1947,\n",
              " 1948,\n",
              " 1949,\n",
              " 1950,\n",
              " 1951,\n",
              " 1952,\n",
              " 1953,\n",
              " 1954,\n",
              " 1955,\n",
              " 1956,\n",
              " 1957,\n",
              " 1958,\n",
              " 1959,\n",
              " 1960,\n",
              " 1961,\n",
              " 1962,\n",
              " 1963,\n",
              " 1964,\n",
              " 1965,\n",
              " 1966,\n",
              " 1967,\n",
              " 1968,\n",
              " 1969,\n",
              " 1970,\n",
              " 1971,\n",
              " 1972,\n",
              " 1973,\n",
              " 1974,\n",
              " 1975,\n",
              " 1976,\n",
              " 1977,\n",
              " 1978,\n",
              " 1979,\n",
              " 1980,\n",
              " 1981,\n",
              " 1982,\n",
              " 1983,\n",
              " 1984,\n",
              " 1985,\n",
              " 1986,\n",
              " 1987,\n",
              " 1988,\n",
              " 1989,\n",
              " 1990,\n",
              " 1991,\n",
              " 1992,\n",
              " 1993,\n",
              " 1994,\n",
              " 1995,\n",
              " 1996,\n",
              " 1997,\n",
              " 1998,\n",
              " 1999,\n",
              " 2000,\n",
              " 2001,\n",
              " 2002,\n",
              " 2003,\n",
              " 2004,\n",
              " 2005,\n",
              " 2006,\n",
              " 2007,\n",
              " 2008,\n",
              " 2009,\n",
              " 2010,\n",
              " 2011,\n",
              " 2012,\n",
              " 2013,\n",
              " 2014,\n",
              " 2015,\n",
              " 2016]"
            ]
          },
          "execution_count": 25,
          "metadata": {},
          "output_type": "execute_result"
        }
      ],
      "source": [
        "sorted(df['RegistrationYear'].unique())"
      ]
    },
    {
      "cell_type": "code",
      "execution_count": null,
      "metadata": {
        "id": "lvFTZRT9gzIQ",
        "outputId": "407545a2-f00b-4b6e-8a2e-adc874714371"
      },
      "outputs": [
        {
          "name": "stdout",
          "output_type": "stream",
          "text": [
            "<class 'pandas.core.frame.DataFrame'>\n",
            "Int64Index: 327321 entries, 0 to 354368\n",
            "Data columns (total 16 columns):\n",
            " #   Column             Non-Null Count   Dtype \n",
            "---  ------             --------------   ----- \n",
            " 0   DateCrawled        327321 non-null  object\n",
            " 1   Price              327321 non-null  int64 \n",
            " 2   VehicleType        327321 non-null  object\n",
            " 3   RegistrationYear   327321 non-null  int64 \n",
            " 4   Gearbox            327321 non-null  object\n",
            " 5   Power              327321 non-null  int64 \n",
            " 6   Model              327321 non-null  object\n",
            " 7   Kilometer          327321 non-null  int64 \n",
            " 8   RegistrationMonth  327321 non-null  int64 \n",
            " 9   FuelType           327321 non-null  object\n",
            " 10  Brand              327321 non-null  object\n",
            " 11  Repaired           327321 non-null  object\n",
            " 12  DateCreated        327321 non-null  object\n",
            " 13  NumberOfPictures   327321 non-null  int64 \n",
            " 14  PostalCode         327321 non-null  int64 \n",
            " 15  LastSeen           327321 non-null  object\n",
            "dtypes: int64(7), object(9)\n",
            "memory usage: 42.5+ MB\n"
          ]
        }
      ],
      "source": [
        "df.info()"
      ]
    },
    {
      "cell_type": "markdown",
      "metadata": {
        "id": "wvYIzzjkgzIR"
      },
      "source": [
        "В данных с годом регистрации автомобиля присутствовали значения, которые нельзя идентифицировать с годом, указанные данные удалены."
      ]
    },
    {
      "cell_type": "code",
      "execution_count": null,
      "metadata": {
        "id": "bmAOOCjBgzIR",
        "outputId": "ced39b77-378c-4d67-d95e-e6cca2a9b219"
      },
      "outputs": [
        {
          "data": {
            "text/plain": [
              "[0,\n",
              " 1,\n",
              " 2,\n",
              " 3,\n",
              " 4,\n",
              " 5,\n",
              " 6,\n",
              " 7,\n",
              " 8,\n",
              " 9,\n",
              " 10,\n",
              " 11,\n",
              " 12,\n",
              " 13,\n",
              " 14,\n",
              " 15,\n",
              " 16,\n",
              " 17,\n",
              " 18,\n",
              " 19,\n",
              " 20,\n",
              " 21,\n",
              " 22,\n",
              " 23,\n",
              " 24,\n",
              " 25,\n",
              " 26,\n",
              " 27,\n",
              " 28,\n",
              " 29,\n",
              " 30,\n",
              " 31,\n",
              " 32,\n",
              " 33,\n",
              " 34,\n",
              " 35,\n",
              " 36,\n",
              " 37,\n",
              " 38,\n",
              " 39,\n",
              " 40,\n",
              " 41,\n",
              " 42,\n",
              " 43,\n",
              " 44,\n",
              " 45,\n",
              " 46,\n",
              " 47,\n",
              " 48,\n",
              " 49,\n",
              " 50,\n",
              " 51,\n",
              " 52,\n",
              " 53,\n",
              " 54,\n",
              " 55,\n",
              " 56,\n",
              " 57,\n",
              " 58,\n",
              " 59,\n",
              " 60,\n",
              " 61,\n",
              " 62,\n",
              " 63,\n",
              " 64,\n",
              " 65,\n",
              " 66,\n",
              " 67,\n",
              " 68,\n",
              " 69,\n",
              " 70,\n",
              " 71,\n",
              " 72,\n",
              " 73,\n",
              " 74,\n",
              " 75,\n",
              " 76,\n",
              " 77,\n",
              " 78,\n",
              " 79,\n",
              " 80,\n",
              " 81,\n",
              " 82,\n",
              " 83,\n",
              " 84,\n",
              " 85,\n",
              " 86,\n",
              " 87,\n",
              " 88,\n",
              " 89,\n",
              " 90,\n",
              " 91,\n",
              " 92,\n",
              " 93,\n",
              " 94,\n",
              " 95,\n",
              " 96,\n",
              " 97,\n",
              " 98,\n",
              " 99,\n",
              " 100,\n",
              " 101,\n",
              " 102,\n",
              " 103,\n",
              " 104,\n",
              " 105,\n",
              " 106,\n",
              " 107,\n",
              " 108,\n",
              " 109,\n",
              " 110,\n",
              " 111,\n",
              " 112,\n",
              " 113,\n",
              " 114,\n",
              " 115,\n",
              " 116,\n",
              " 117,\n",
              " 118,\n",
              " 119,\n",
              " 120,\n",
              " 121,\n",
              " 122,\n",
              " 123,\n",
              " 124,\n",
              " 125,\n",
              " 126,\n",
              " 127,\n",
              " 128,\n",
              " 129,\n",
              " 130,\n",
              " 131,\n",
              " 132,\n",
              " 133,\n",
              " 134,\n",
              " 135,\n",
              " 136,\n",
              " 137,\n",
              " 138,\n",
              " 139,\n",
              " 140,\n",
              " 141,\n",
              " 142,\n",
              " 143,\n",
              " 144,\n",
              " 145,\n",
              " 146,\n",
              " 147,\n",
              " 148,\n",
              " 149,\n",
              " 150,\n",
              " 151,\n",
              " 152,\n",
              " 153,\n",
              " 154,\n",
              " 155,\n",
              " 156,\n",
              " 157,\n",
              " 158,\n",
              " 159,\n",
              " 160,\n",
              " 161,\n",
              " 162,\n",
              " 163,\n",
              " 164,\n",
              " 165,\n",
              " 166,\n",
              " 167,\n",
              " 168,\n",
              " 169,\n",
              " 170,\n",
              " 171,\n",
              " 172,\n",
              " 173,\n",
              " 174,\n",
              " 175,\n",
              " 176,\n",
              " 177,\n",
              " 178,\n",
              " 179,\n",
              " 180,\n",
              " 181,\n",
              " 182,\n",
              " 183,\n",
              " 184,\n",
              " 185,\n",
              " 186,\n",
              " 187,\n",
              " 188,\n",
              " 189,\n",
              " 190,\n",
              " 191,\n",
              " 192,\n",
              " 193,\n",
              " 194,\n",
              " 195,\n",
              " 196,\n",
              " 197,\n",
              " 198,\n",
              " 199,\n",
              " 200,\n",
              " 201,\n",
              " 202,\n",
              " 203,\n",
              " 204,\n",
              " 205,\n",
              " 206,\n",
              " 207,\n",
              " 208,\n",
              " 209,\n",
              " 210,\n",
              " 211,\n",
              " 212,\n",
              " 213,\n",
              " 214,\n",
              " 215,\n",
              " 216,\n",
              " 217,\n",
              " 218,\n",
              " 219,\n",
              " 220,\n",
              " 221,\n",
              " 222,\n",
              " 223,\n",
              " 224,\n",
              " 225,\n",
              " 226,\n",
              " 227,\n",
              " 228,\n",
              " 229,\n",
              " 230,\n",
              " 231,\n",
              " 232,\n",
              " 233,\n",
              " 234,\n",
              " 235,\n",
              " 236,\n",
              " 237,\n",
              " 238,\n",
              " 239,\n",
              " 240,\n",
              " 241,\n",
              " 242,\n",
              " 243,\n",
              " 244,\n",
              " 245,\n",
              " 246,\n",
              " 247,\n",
              " 248,\n",
              " 249,\n",
              " 250,\n",
              " 251,\n",
              " 252,\n",
              " 253,\n",
              " 254,\n",
              " 255,\n",
              " 256,\n",
              " 257,\n",
              " 258,\n",
              " 259,\n",
              " 260,\n",
              " 261,\n",
              " 262,\n",
              " 264,\n",
              " 265,\n",
              " 266,\n",
              " 267,\n",
              " 268,\n",
              " 269,\n",
              " 270,\n",
              " 271,\n",
              " 272,\n",
              " 273,\n",
              " 274,\n",
              " 275,\n",
              " 276,\n",
              " 277,\n",
              " 278,\n",
              " 279,\n",
              " 280,\n",
              " 281,\n",
              " 282,\n",
              " 283,\n",
              " 284,\n",
              " 285,\n",
              " 286,\n",
              " 287,\n",
              " 288,\n",
              " 289,\n",
              " 290,\n",
              " 292,\n",
              " 293,\n",
              " 294,\n",
              " 295,\n",
              " 296,\n",
              " 297,\n",
              " 298,\n",
              " 299,\n",
              " 300,\n",
              " 301,\n",
              " 303,\n",
              " 304,\n",
              " 305,\n",
              " 306,\n",
              " 307,\n",
              " 308,\n",
              " 309,\n",
              " 310,\n",
              " 311,\n",
              " 313,\n",
              " 314,\n",
              " 315,\n",
              " 316,\n",
              " 317,\n",
              " 318,\n",
              " 320,\n",
              " 321,\n",
              " 322,\n",
              " 323,\n",
              " 324,\n",
              " 325,\n",
              " 326,\n",
              " 328,\n",
              " 329,\n",
              " 330,\n",
              " 331,\n",
              " 332,\n",
              " 333,\n",
              " 334,\n",
              " 335,\n",
              " 336,\n",
              " 337,\n",
              " 338,\n",
              " 339,\n",
              " 340,\n",
              " 341,\n",
              " 343,\n",
              " 344,\n",
              " 345,\n",
              " 346,\n",
              " 347,\n",
              " 348,\n",
              " 349,\n",
              " 350,\n",
              " 351,\n",
              " 352,\n",
              " 353,\n",
              " 354,\n",
              " 355,\n",
              " 356,\n",
              " 357,\n",
              " 358,\n",
              " 360,\n",
              " 361,\n",
              " 362,\n",
              " 363,\n",
              " 364,\n",
              " 365,\n",
              " 367,\n",
              " 368,\n",
              " 370,\n",
              " 371,\n",
              " 374,\n",
              " 375,\n",
              " 376,\n",
              " 377,\n",
              " 379,\n",
              " 380,\n",
              " 381,\n",
              " 382,\n",
              " 385,\n",
              " 386,\n",
              " 387,\n",
              " 388,\n",
              " 390,\n",
              " 392,\n",
              " 394,\n",
              " 396,\n",
              " 398,\n",
              " 399,\n",
              " 400,\n",
              " 401,\n",
              " 405,\n",
              " 408,\n",
              " 409,\n",
              " 411,\n",
              " 416,\n",
              " 420,\n",
              " 421,\n",
              " 425,\n",
              " 426,\n",
              " 428,\n",
              " 430,\n",
              " 431,\n",
              " 435,\n",
              " 440,\n",
              " 442,\n",
              " 445,\n",
              " 449,\n",
              " 450,\n",
              " 454,\n",
              " 457,\n",
              " 459,\n",
              " 460,\n",
              " 475,\n",
              " 476,\n",
              " 487,\n",
              " 489,\n",
              " 490,\n",
              " 500,\n",
              " 504,\n",
              " 505,\n",
              " 507,\n",
              " 508,\n",
              " 510,\n",
              " 514,\n",
              " 515,\n",
              " 517,\n",
              " 519,\n",
              " 520,\n",
              " 521,\n",
              " 525,\n",
              " 540,\n",
              " 541,\n",
              " 544,\n",
              " 550,\n",
              " 551,\n",
              " 553,\n",
              " 560,\n",
              " 572,\n",
              " 579,\n",
              " 580,\n",
              " 584,\n",
              " 585,\n",
              " 600,\n",
              " 601,\n",
              " 602,\n",
              " 603,\n",
              " 604,\n",
              " 606,\n",
              " 610,\n",
              " 612,\n",
              " 620,\n",
              " 640,\n",
              " 645,\n",
              " 650,\n",
              " 651,\n",
              " 671,\n",
              " 678,\n",
              " 682,\n",
              " 685,\n",
              " 696,\n",
              " 700,\n",
              " 702,\n",
              " 703,\n",
              " 732,\n",
              " 743,\n",
              " 750,\n",
              " 751,\n",
              " 754,\n",
              " 771,\n",
              " 776,\n",
              " 800,\n",
              " 805,\n",
              " 850,\n",
              " 851,\n",
              " 871,\n",
              " 900,\n",
              " 902,\n",
              " 903,\n",
              " 907,\n",
              " 909,\n",
              " 923,\n",
              " 950,\n",
              " 952,\n",
              " 953,\n",
              " 998,\n",
              " 999,\n",
              " 1000,\n",
              " 1001,\n",
              " 1002,\n",
              " 1003,\n",
              " 1004,\n",
              " 1005,\n",
              " 1011,\n",
              " 1012,\n",
              " 1016,\n",
              " 1017,\n",
              " 1021,\n",
              " 1024,\n",
              " 1054,\n",
              " 1055,\n",
              " 1056,\n",
              " 1062,\n",
              " 1079,\n",
              " 1082,\n",
              " 1090,\n",
              " 1100,\n",
              " 1103,\n",
              " 1105,\n",
              " 1115,\n",
              " 1120,\n",
              " 1149,\n",
              " 1151,\n",
              " 1158,\n",
              " 1160,\n",
              " 1162,\n",
              " 1164,\n",
              " 1199,\n",
              " 1200,\n",
              " 1202,\n",
              " 1221,\n",
              " 1223,\n",
              " 1230,\n",
              " 1239,\n",
              " 1240,\n",
              " 1241,\n",
              " 1250,\n",
              " 1256,\n",
              " 1275,\n",
              " 1288,\n",
              " 1299,\n",
              " 1300,\n",
              " 1312,\n",
              " 1317,\n",
              " 1324,\n",
              " 1339,\n",
              " 1360,\n",
              " 1362,\n",
              " 1363,\n",
              " 1367,\n",
              " 1390,\n",
              " 1398,\n",
              " 1399,\n",
              " 1400,\n",
              " 1401,\n",
              " 1403,\n",
              " 1405,\n",
              " 1416,\n",
              " 1432,\n",
              " 1433,\n",
              " 1436,\n",
              " 1500,\n",
              " 1501,\n",
              " 1502,\n",
              " 1503,\n",
              " 1506,\n",
              " 1521,\n",
              " 1548,\n",
              " 1595,\n",
              " 1596,\n",
              " 1597,\n",
              " 1598,\n",
              " 1600,\n",
              " 1625,\n",
              " 1631,\n",
              " 1653,\n",
              " 1659,\n",
              " 1689,\n",
              " 1700,\n",
              " 1701,\n",
              " 1703,\n",
              " 1704,\n",
              " 1707,\n",
              " 1753,\n",
              " 1771,\n",
              " 1779,\n",
              " 1780,\n",
              " 1781,\n",
              " 1783,\n",
              " 1793,\n",
              " 1796,\n",
              " 1799,\n",
              " 1800,\n",
              " 1801,\n",
              " 1870,\n",
              " 1895,\n",
              " 1896,\n",
              " 1900,\n",
              " 1920,\n",
              " 1922,\n",
              " 1933,\n",
              " 1937,\n",
              " 1968,\n",
              " 1988,\n",
              " 1992,\n",
              " 1993,\n",
              " 1995,\n",
              " 1998,\n",
              " 1999,\n",
              " 2000,\n",
              " 2004,\n",
              " 2005,\n",
              " 2007,\n",
              " 2009,\n",
              " 2016,\n",
              " 2017,\n",
              " 2018,\n",
              " 2172,\n",
              " 2331,\n",
              " 2340,\n",
              " 2389,\n",
              " 2402,\n",
              " 2461,\n",
              " 2598,\n",
              " 2729,\n",
              " 2789,\n",
              " 2792,\n",
              " 2799,\n",
              " 3199,\n",
              " 3454,\n",
              " 3500,\n",
              " 3750,\n",
              " 4400,\n",
              " 4507,\n",
              " 4700,\n",
              " 5411,\n",
              " 5420,\n",
              " 5575,\n",
              " 5809,\n",
              " 5815,\n",
              " 5867,\n",
              " 6006,\n",
              " 6010,\n",
              " 6011,\n",
              " 6012,\n",
              " 6018,\n",
              " 6045,\n",
              " 6062,\n",
              " 6226,\n",
              " 6512,\n",
              " 6920,\n",
              " 7508,\n",
              " 7511,\n",
              " 7512,\n",
              " 7515,\n",
              " 7518,\n",
              " 7529,\n",
              " 7544,\n",
              " 8259,\n",
              " 8404,\n",
              " 8500,\n",
              " 9007,\n",
              " 9012,\n",
              " 9013,\n",
              " 10000,\n",
              " 10110,\n",
              " 10218,\n",
              " 10311,\n",
              " 10520,\n",
              " 10522,\n",
              " 10710,\n",
              " 10910,\n",
              " 10912,\n",
              " 11011,\n",
              " 11025,\n",
              " 11111,\n",
              " 11509,\n",
              " 11530,\n",
              " 11635,\n",
              " 12012,\n",
              " 12510,\n",
              " 12512,\n",
              " 12684,\n",
              " 13616,\n",
              " 13636,\n",
              " 14009,\n",
              " 15001,\n",
              " 15017,\n",
              " 15020,\n",
              " 15033,\n",
              " 16051,\n",
              " 16311,\n",
              " 16312,\n",
              " 17011,\n",
              " 17019,\n",
              " 17410,\n",
              " 17700,\n",
              " 17932,\n",
              " 19208,\n",
              " 19211,\n",
              " 19312,\n",
              " 20000]"
            ]
          },
          "execution_count": 27,
          "metadata": {},
          "output_type": "execute_result"
        }
      ],
      "source": [
        "sorted(df['Power'].unique())"
      ]
    },
    {
      "cell_type": "code",
      "execution_count": null,
      "metadata": {
        "id": "8UUtc3fogzIR",
        "outputId": "62b6ca0b-4785-4f94-9449-6fd41cc307c4"
      },
      "outputs": [
        {
          "data": {
            "text/html": [
              "<div>\n",
              "<style scoped>\n",
              "    .dataframe tbody tr th:only-of-type {\n",
              "        vertical-align: middle;\n",
              "    }\n",
              "\n",
              "    .dataframe tbody tr th {\n",
              "        vertical-align: top;\n",
              "    }\n",
              "\n",
              "    .dataframe thead th {\n",
              "        text-align: right;\n",
              "    }\n",
              "</style>\n",
              "<table border=\"1\" class=\"dataframe\">\n",
              "  <thead>\n",
              "    <tr style=\"text-align: right;\">\n",
              "      <th></th>\n",
              "      <th>DateCrawled</th>\n",
              "      <th>Price</th>\n",
              "      <th>VehicleType</th>\n",
              "      <th>RegistrationYear</th>\n",
              "      <th>Gearbox</th>\n",
              "      <th>Power</th>\n",
              "      <th>Model</th>\n",
              "      <th>Kilometer</th>\n",
              "      <th>RegistrationMonth</th>\n",
              "      <th>FuelType</th>\n",
              "      <th>Brand</th>\n",
              "      <th>Repaired</th>\n",
              "      <th>DateCreated</th>\n",
              "      <th>NumberOfPictures</th>\n",
              "      <th>PostalCode</th>\n",
              "      <th>LastSeen</th>\n",
              "    </tr>\n",
              "  </thead>\n",
              "  <tbody>\n",
              "    <tr>\n",
              "      <th>0</th>\n",
              "      <td>2016-03-24 11:52:17</td>\n",
              "      <td>480</td>\n",
              "      <td>no information</td>\n",
              "      <td>1993</td>\n",
              "      <td>manual</td>\n",
              "      <td>0</td>\n",
              "      <td>golf</td>\n",
              "      <td>150000</td>\n",
              "      <td>0</td>\n",
              "      <td>petrol</td>\n",
              "      <td>volkswagen</td>\n",
              "      <td>no information</td>\n",
              "      <td>2016-03-24 00:00:00</td>\n",
              "      <td>0</td>\n",
              "      <td>70435</td>\n",
              "      <td>2016-04-07 03:16:57</td>\n",
              "    </tr>\n",
              "    <tr>\n",
              "      <th>15</th>\n",
              "      <td>2016-03-11 21:39:15</td>\n",
              "      <td>450</td>\n",
              "      <td>small</td>\n",
              "      <td>1910</td>\n",
              "      <td>no information</td>\n",
              "      <td>0</td>\n",
              "      <td>ka</td>\n",
              "      <td>5000</td>\n",
              "      <td>0</td>\n",
              "      <td>petrol</td>\n",
              "      <td>ford</td>\n",
              "      <td>no information</td>\n",
              "      <td>2016-03-11 00:00:00</td>\n",
              "      <td>0</td>\n",
              "      <td>24148</td>\n",
              "      <td>2016-03-19 08:46:47</td>\n",
              "    </tr>\n",
              "    <tr>\n",
              "      <th>32</th>\n",
              "      <td>2016-03-15 20:59:01</td>\n",
              "      <td>245</td>\n",
              "      <td>sedan</td>\n",
              "      <td>1994</td>\n",
              "      <td>no information</td>\n",
              "      <td>0</td>\n",
              "      <td>golf</td>\n",
              "      <td>150000</td>\n",
              "      <td>2</td>\n",
              "      <td>petrol</td>\n",
              "      <td>volkswagen</td>\n",
              "      <td>no</td>\n",
              "      <td>2016-03-15 00:00:00</td>\n",
              "      <td>0</td>\n",
              "      <td>44145</td>\n",
              "      <td>2016-03-17 18:17:43</td>\n",
              "    </tr>\n",
              "    <tr>\n",
              "      <th>37</th>\n",
              "      <td>2016-03-28 17:50:15</td>\n",
              "      <td>1500</td>\n",
              "      <td>no information</td>\n",
              "      <td>2016</td>\n",
              "      <td>no information</td>\n",
              "      <td>0</td>\n",
              "      <td>kangoo</td>\n",
              "      <td>150000</td>\n",
              "      <td>1</td>\n",
              "      <td>gasoline</td>\n",
              "      <td>renault</td>\n",
              "      <td>no</td>\n",
              "      <td>2016-03-28 00:00:00</td>\n",
              "      <td>0</td>\n",
              "      <td>46483</td>\n",
              "      <td>2016-03-30 09:18:02</td>\n",
              "    </tr>\n",
              "    <tr>\n",
              "      <th>54</th>\n",
              "      <td>2016-03-17 07:56:40</td>\n",
              "      <td>4700</td>\n",
              "      <td>wagon</td>\n",
              "      <td>2005</td>\n",
              "      <td>manual</td>\n",
              "      <td>0</td>\n",
              "      <td>signum</td>\n",
              "      <td>150000</td>\n",
              "      <td>0</td>\n",
              "      <td>no information</td>\n",
              "      <td>opel</td>\n",
              "      <td>no</td>\n",
              "      <td>2016-03-17 00:00:00</td>\n",
              "      <td>0</td>\n",
              "      <td>88433</td>\n",
              "      <td>2016-04-04 04:17:32</td>\n",
              "    </tr>\n",
              "    <tr>\n",
              "      <th>...</th>\n",
              "      <td>...</td>\n",
              "      <td>...</td>\n",
              "      <td>...</td>\n",
              "      <td>...</td>\n",
              "      <td>...</td>\n",
              "      <td>...</td>\n",
              "      <td>...</td>\n",
              "      <td>...</td>\n",
              "      <td>...</td>\n",
              "      <td>...</td>\n",
              "      <td>...</td>\n",
              "      <td>...</td>\n",
              "      <td>...</td>\n",
              "      <td>...</td>\n",
              "      <td>...</td>\n",
              "      <td>...</td>\n",
              "    </tr>\n",
              "    <tr>\n",
              "      <th>354338</th>\n",
              "      <td>2016-03-31 19:52:33</td>\n",
              "      <td>180</td>\n",
              "      <td>no information</td>\n",
              "      <td>1995</td>\n",
              "      <td>no information</td>\n",
              "      <td>0</td>\n",
              "      <td>no information</td>\n",
              "      <td>125000</td>\n",
              "      <td>3</td>\n",
              "      <td>petrol</td>\n",
              "      <td>opel</td>\n",
              "      <td>no information</td>\n",
              "      <td>2016-03-31 00:00:00</td>\n",
              "      <td>0</td>\n",
              "      <td>41470</td>\n",
              "      <td>2016-04-06 14:18:04</td>\n",
              "    </tr>\n",
              "    <tr>\n",
              "      <th>354346</th>\n",
              "      <td>2016-03-07 17:06:35</td>\n",
              "      <td>2600</td>\n",
              "      <td>no information</td>\n",
              "      <td>2005</td>\n",
              "      <td>auto</td>\n",
              "      <td>0</td>\n",
              "      <td>c_klasse</td>\n",
              "      <td>150000</td>\n",
              "      <td>9</td>\n",
              "      <td>no information</td>\n",
              "      <td>mercedes_benz</td>\n",
              "      <td>no information</td>\n",
              "      <td>2016-03-07 00:00:00</td>\n",
              "      <td>0</td>\n",
              "      <td>61169</td>\n",
              "      <td>2016-03-08 21:28:38</td>\n",
              "    </tr>\n",
              "    <tr>\n",
              "      <th>354360</th>\n",
              "      <td>2016-04-02 20:37:03</td>\n",
              "      <td>3999</td>\n",
              "      <td>wagon</td>\n",
              "      <td>2005</td>\n",
              "      <td>manual</td>\n",
              "      <td>3</td>\n",
              "      <td>3er</td>\n",
              "      <td>150000</td>\n",
              "      <td>5</td>\n",
              "      <td>gasoline</td>\n",
              "      <td>bmw</td>\n",
              "      <td>no</td>\n",
              "      <td>2016-04-02 00:00:00</td>\n",
              "      <td>0</td>\n",
              "      <td>81825</td>\n",
              "      <td>2016-04-06 20:47:12</td>\n",
              "    </tr>\n",
              "    <tr>\n",
              "      <th>354363</th>\n",
              "      <td>2016-03-27 20:36:20</td>\n",
              "      <td>1150</td>\n",
              "      <td>bus</td>\n",
              "      <td>2000</td>\n",
              "      <td>manual</td>\n",
              "      <td>0</td>\n",
              "      <td>zafira</td>\n",
              "      <td>150000</td>\n",
              "      <td>3</td>\n",
              "      <td>petrol</td>\n",
              "      <td>opel</td>\n",
              "      <td>no</td>\n",
              "      <td>2016-03-27 00:00:00</td>\n",
              "      <td>0</td>\n",
              "      <td>26624</td>\n",
              "      <td>2016-03-29 10:17:23</td>\n",
              "    </tr>\n",
              "    <tr>\n",
              "      <th>354365</th>\n",
              "      <td>2016-03-14 17:48:27</td>\n",
              "      <td>2200</td>\n",
              "      <td>no information</td>\n",
              "      <td>2005</td>\n",
              "      <td>no information</td>\n",
              "      <td>0</td>\n",
              "      <td>no information</td>\n",
              "      <td>20000</td>\n",
              "      <td>1</td>\n",
              "      <td>no information</td>\n",
              "      <td>sonstige_autos</td>\n",
              "      <td>no information</td>\n",
              "      <td>2016-03-14 00:00:00</td>\n",
              "      <td>0</td>\n",
              "      <td>39576</td>\n",
              "      <td>2016-04-06 00:46:52</td>\n",
              "    </tr>\n",
              "  </tbody>\n",
              "</table>\n",
              "<p>32159 rows × 16 columns</p>\n",
              "</div>"
            ],
            "text/plain": [
              "                DateCrawled  Price     VehicleType  RegistrationYear  \\\n",
              "0       2016-03-24 11:52:17    480  no information              1993   \n",
              "15      2016-03-11 21:39:15    450           small              1910   \n",
              "32      2016-03-15 20:59:01    245           sedan              1994   \n",
              "37      2016-03-28 17:50:15   1500  no information              2016   \n",
              "54      2016-03-17 07:56:40   4700           wagon              2005   \n",
              "...                     ...    ...             ...               ...   \n",
              "354338  2016-03-31 19:52:33    180  no information              1995   \n",
              "354346  2016-03-07 17:06:35   2600  no information              2005   \n",
              "354360  2016-04-02 20:37:03   3999           wagon              2005   \n",
              "354363  2016-03-27 20:36:20   1150             bus              2000   \n",
              "354365  2016-03-14 17:48:27   2200  no information              2005   \n",
              "\n",
              "               Gearbox  Power           Model  Kilometer  RegistrationMonth  \\\n",
              "0               manual      0            golf     150000                  0   \n",
              "15      no information      0              ka       5000                  0   \n",
              "32      no information      0            golf     150000                  2   \n",
              "37      no information      0          kangoo     150000                  1   \n",
              "54              manual      0          signum     150000                  0   \n",
              "...                ...    ...             ...        ...                ...   \n",
              "354338  no information      0  no information     125000                  3   \n",
              "354346            auto      0        c_klasse     150000                  9   \n",
              "354360          manual      3             3er     150000                  5   \n",
              "354363          manual      0          zafira     150000                  3   \n",
              "354365  no information      0  no information      20000                  1   \n",
              "\n",
              "              FuelType           Brand        Repaired          DateCreated  \\\n",
              "0               petrol      volkswagen  no information  2016-03-24 00:00:00   \n",
              "15              petrol            ford  no information  2016-03-11 00:00:00   \n",
              "32              petrol      volkswagen              no  2016-03-15 00:00:00   \n",
              "37            gasoline         renault              no  2016-03-28 00:00:00   \n",
              "54      no information            opel              no  2016-03-17 00:00:00   \n",
              "...                ...             ...             ...                  ...   \n",
              "354338          petrol            opel  no information  2016-03-31 00:00:00   \n",
              "354346  no information   mercedes_benz  no information  2016-03-07 00:00:00   \n",
              "354360        gasoline             bmw              no  2016-04-02 00:00:00   \n",
              "354363          petrol            opel              no  2016-03-27 00:00:00   \n",
              "354365  no information  sonstige_autos  no information  2016-03-14 00:00:00   \n",
              "\n",
              "        NumberOfPictures  PostalCode             LastSeen  \n",
              "0                      0       70435  2016-04-07 03:16:57  \n",
              "15                     0       24148  2016-03-19 08:46:47  \n",
              "32                     0       44145  2016-03-17 18:17:43  \n",
              "37                     0       46483  2016-03-30 09:18:02  \n",
              "54                     0       88433  2016-04-04 04:17:32  \n",
              "...                  ...         ...                  ...  \n",
              "354338                 0       41470  2016-04-06 14:18:04  \n",
              "354346                 0       61169  2016-03-08 21:28:38  \n",
              "354360                 0       81825  2016-04-06 20:47:12  \n",
              "354363                 0       26624  2016-03-29 10:17:23  \n",
              "354365                 0       39576  2016-04-06 00:46:52  \n",
              "\n",
              "[32159 rows x 16 columns]"
            ]
          },
          "execution_count": 28,
          "metadata": {},
          "output_type": "execute_result"
        }
      ],
      "source": [
        "df[(df['Power']<=10) | (df['Power']>=600)]"
      ]
    },
    {
      "cell_type": "code",
      "execution_count": null,
      "metadata": {
        "id": "Clw4zREfgzIR"
      },
      "outputs": [],
      "source": [
        "df = df[(df['Power']>10) & (df['Power']<600)]"
      ]
    },
    {
      "cell_type": "code",
      "execution_count": null,
      "metadata": {
        "id": "qri4mkvegzIS",
        "outputId": "37e8b268-0cd1-433b-a695-b63542c493c0"
      },
      "outputs": [
        {
          "name": "stdout",
          "output_type": "stream",
          "text": [
            "<class 'pandas.core.frame.DataFrame'>\n",
            "Int64Index: 295162 entries, 1 to 354368\n",
            "Data columns (total 16 columns):\n",
            " #   Column             Non-Null Count   Dtype \n",
            "---  ------             --------------   ----- \n",
            " 0   DateCrawled        295162 non-null  object\n",
            " 1   Price              295162 non-null  int64 \n",
            " 2   VehicleType        295162 non-null  object\n",
            " 3   RegistrationYear   295162 non-null  int64 \n",
            " 4   Gearbox            295162 non-null  object\n",
            " 5   Power              295162 non-null  int64 \n",
            " 6   Model              295162 non-null  object\n",
            " 7   Kilometer          295162 non-null  int64 \n",
            " 8   RegistrationMonth  295162 non-null  int64 \n",
            " 9   FuelType           295162 non-null  object\n",
            " 10  Brand              295162 non-null  object\n",
            " 11  Repaired           295162 non-null  object\n",
            " 12  DateCreated        295162 non-null  object\n",
            " 13  NumberOfPictures   295162 non-null  int64 \n",
            " 14  PostalCode         295162 non-null  int64 \n",
            " 15  LastSeen           295162 non-null  object\n",
            "dtypes: int64(7), object(9)\n",
            "memory usage: 38.3+ MB\n"
          ]
        }
      ],
      "source": [
        "df.info()"
      ]
    },
    {
      "cell_type": "markdown",
      "metadata": {
        "id": "dqastyfNgzIS"
      },
      "source": [
        "В столбце Power присутствовало много строк со значением 0 (вероятно данные не были указаны), также очень маленькие и неправдоподобно большие значения мощности мотора (вероятно в случае очень маленьких значений - числа пропущены, а вслучае очень больших - должна быть запятая). Для более корректного обучения из данных были удалены все строки со значениями менее 10 и более 600."
      ]
    },
    {
      "cell_type": "code",
      "execution_count": null,
      "metadata": {
        "id": "hDAlsfrdgzIS"
      },
      "outputs": [],
      "source": [
        "columns_drop = ['DateCrawled', 'DateCreated', 'NumberOfPictures', 'PostalCode', 'LastSeen']"
      ]
    },
    {
      "cell_type": "code",
      "execution_count": null,
      "metadata": {
        "id": "BIbTN1lEgzIT"
      },
      "outputs": [],
      "source": [
        "df = df.drop(columns_drop, axis=1)"
      ]
    },
    {
      "cell_type": "code",
      "execution_count": null,
      "metadata": {
        "id": "WsvQ9jbVgzIT",
        "outputId": "5c71c9e3-8eb8-4466-c32c-fbf1978d620b"
      },
      "outputs": [
        {
          "name": "stdout",
          "output_type": "stream",
          "text": [
            "<class 'pandas.core.frame.DataFrame'>\n",
            "Int64Index: 295162 entries, 1 to 354368\n",
            "Data columns (total 11 columns):\n",
            " #   Column             Non-Null Count   Dtype \n",
            "---  ------             --------------   ----- \n",
            " 0   Price              295162 non-null  int64 \n",
            " 1   VehicleType        295162 non-null  object\n",
            " 2   RegistrationYear   295162 non-null  int64 \n",
            " 3   Gearbox            295162 non-null  object\n",
            " 4   Power              295162 non-null  int64 \n",
            " 5   Model              295162 non-null  object\n",
            " 6   Kilometer          295162 non-null  int64 \n",
            " 7   RegistrationMonth  295162 non-null  int64 \n",
            " 8   FuelType           295162 non-null  object\n",
            " 9   Brand              295162 non-null  object\n",
            " 10  Repaired           295162 non-null  object\n",
            "dtypes: int64(5), object(6)\n",
            "memory usage: 27.0+ MB\n"
          ]
        }
      ],
      "source": [
        "df.info()"
      ]
    },
    {
      "cell_type": "markdown",
      "metadata": {
        "id": "wkMof-PfgzIT"
      },
      "source": [
        "Удаляем столбцы -'DateCrawled', 'DateCreated', 'NumberOfPictures', 'PostalCode', 'LastSeen', которые не несут никакой информации для обучения."
      ]
    },
    {
      "cell_type": "code",
      "execution_count": null,
      "metadata": {
        "id": "ZPVM_z6lgzIU"
      },
      "outputs": [],
      "source": [
        "df = df.drop_duplicates()"
      ]
    },
    {
      "cell_type": "code",
      "execution_count": null,
      "metadata": {
        "id": "JN7q5fFogzIU",
        "outputId": "8d291a07-5975-47c8-d390-c914a1fa3cc2"
      },
      "outputs": [
        {
          "name": "stdout",
          "output_type": "stream",
          "text": [
            "<class 'pandas.core.frame.DataFrame'>\n",
            "Int64Index: 272076 entries, 1 to 354368\n",
            "Data columns (total 11 columns):\n",
            " #   Column             Non-Null Count   Dtype \n",
            "---  ------             --------------   ----- \n",
            " 0   Price              272076 non-null  int64 \n",
            " 1   VehicleType        272076 non-null  object\n",
            " 2   RegistrationYear   272076 non-null  int64 \n",
            " 3   Gearbox            272076 non-null  object\n",
            " 4   Power              272076 non-null  int64 \n",
            " 5   Model              272076 non-null  object\n",
            " 6   Kilometer          272076 non-null  int64 \n",
            " 7   RegistrationMonth  272076 non-null  int64 \n",
            " 8   FuelType           272076 non-null  object\n",
            " 9   Brand              272076 non-null  object\n",
            " 10  Repaired           272076 non-null  object\n",
            "dtypes: int64(5), object(6)\n",
            "memory usage: 24.9+ MB\n"
          ]
        }
      ],
      "source": [
        "df.info()"
      ]
    },
    {
      "cell_type": "markdown",
      "metadata": {
        "id": "-_g5POavgzIV"
      },
      "source": [
        "### Подготовка выборок для обучения моделей"
      ]
    },
    {
      "cell_type": "code",
      "execution_count": null,
      "metadata": {
        "id": "1489510pgzIV"
      },
      "outputs": [],
      "source": [
        "target = df['Price']\n",
        "features = df.drop('Price', axis=1)"
      ]
    },
    {
      "cell_type": "code",
      "execution_count": null,
      "metadata": {
        "id": "P7LoGfCEgzIV",
        "outputId": "bcb4fbd7-5cc1-445a-95c7-664ee67e61e5"
      },
      "outputs": [
        {
          "data": {
            "text/plain": [
              "((272076,), (272076, 10))"
            ]
          },
          "execution_count": 38,
          "metadata": {},
          "output_type": "execute_result"
        }
      ],
      "source": [
        "target.shape, features.shape"
      ]
    },
    {
      "cell_type": "code",
      "execution_count": null,
      "metadata": {
        "id": "OMnyfKXWgzIV"
      },
      "outputs": [],
      "source": [
        "features_train, features_test, target_train, target_test = train_test_split(features, target,\n",
        "                                                                            test_size=0.4,\n",
        "                                                                            random_state=12345)"
      ]
    },
    {
      "cell_type": "code",
      "execution_count": null,
      "metadata": {
        "id": "s1GJ3Vr9gzIW",
        "outputId": "9e0c31d3-ba59-455e-ee1c-53f81f285019"
      },
      "outputs": [
        {
          "data": {
            "text/plain": [
              "((163245, 10), (108831, 10), (163245,), (108831,))"
            ]
          },
          "execution_count": 40,
          "metadata": {},
          "output_type": "execute_result"
        }
      ],
      "source": [
        "features_train.shape, features_test.shape, target_train.shape, target_test.shape"
      ]
    },
    {
      "cell_type": "code",
      "execution_count": null,
      "metadata": {
        "id": "fIdivD_3gzIW"
      },
      "outputs": [],
      "source": [
        "features_test, features_valid, target_test, target_valid = train_test_split(features_test, target_test,\n",
        "                                                                            test_size=0.5,\n",
        "                                                                            random_state=12345)"
      ]
    },
    {
      "cell_type": "code",
      "execution_count": null,
      "metadata": {
        "id": "c19fc7kLgzIX",
        "outputId": "183e605e-585d-41e3-ba8f-f99f4e666426"
      },
      "outputs": [
        {
          "data": {
            "text/plain": [
              "((54416, 10), (54415, 10), (54416,), (54415,))"
            ]
          },
          "execution_count": 42,
          "metadata": {},
          "output_type": "execute_result"
        }
      ],
      "source": [
        "features_valid.shape, features_test.shape, target_valid.shape, target_test.shape"
      ]
    },
    {
      "cell_type": "code",
      "execution_count": null,
      "metadata": {
        "id": "ZR8OrY7pgzIX"
      },
      "outputs": [],
      "source": [
        "ohe_columns = ['VehicleType', 'Gearbox', 'FuelType','Repaired', 'Model','Brand']"
      ]
    },
    {
      "cell_type": "code",
      "execution_count": null,
      "metadata": {
        "id": "0b67LjqEgzIX",
        "outputId": "2736da18-af06-4058-e420-d0fd38334906"
      },
      "outputs": [
        {
          "data": {
            "text/html": [
              "<div>\n",
              "<style scoped>\n",
              "    .dataframe tbody tr th:only-of-type {\n",
              "        vertical-align: middle;\n",
              "    }\n",
              "\n",
              "    .dataframe tbody tr th {\n",
              "        vertical-align: top;\n",
              "    }\n",
              "\n",
              "    .dataframe thead th {\n",
              "        text-align: right;\n",
              "    }\n",
              "</style>\n",
              "<table border=\"1\" class=\"dataframe\">\n",
              "  <thead>\n",
              "    <tr style=\"text-align: right;\">\n",
              "      <th></th>\n",
              "      <th>VehicleType</th>\n",
              "      <th>Gearbox</th>\n",
              "      <th>FuelType</th>\n",
              "      <th>Repaired</th>\n",
              "      <th>Model</th>\n",
              "      <th>Brand</th>\n",
              "    </tr>\n",
              "  </thead>\n",
              "  <tbody>\n",
              "    <tr>\n",
              "      <th>85413</th>\n",
              "      <td>bus</td>\n",
              "      <td>manual</td>\n",
              "      <td>petrol</td>\n",
              "      <td>yes</td>\n",
              "      <td>other</td>\n",
              "      <td>mitsubishi</td>\n",
              "    </tr>\n",
              "    <tr>\n",
              "      <th>311635</th>\n",
              "      <td>sedan</td>\n",
              "      <td>manual</td>\n",
              "      <td>petrol</td>\n",
              "      <td>no information</td>\n",
              "      <td>e_klasse</td>\n",
              "      <td>mercedes_benz</td>\n",
              "    </tr>\n",
              "    <tr>\n",
              "      <th>105563</th>\n",
              "      <td>no information</td>\n",
              "      <td>manual</td>\n",
              "      <td>petrol</td>\n",
              "      <td>no information</td>\n",
              "      <td>astra</td>\n",
              "      <td>opel</td>\n",
              "    </tr>\n",
              "    <tr>\n",
              "      <th>296792</th>\n",
              "      <td>sedan</td>\n",
              "      <td>manual</td>\n",
              "      <td>petrol</td>\n",
              "      <td>no information</td>\n",
              "      <td>golf</td>\n",
              "      <td>volkswagen</td>\n",
              "    </tr>\n",
              "    <tr>\n",
              "      <th>258889</th>\n",
              "      <td>wagon</td>\n",
              "      <td>manual</td>\n",
              "      <td>petrol</td>\n",
              "      <td>no information</td>\n",
              "      <td>mondeo</td>\n",
              "      <td>ford</td>\n",
              "    </tr>\n",
              "    <tr>\n",
              "      <th>...</th>\n",
              "      <td>...</td>\n",
              "      <td>...</td>\n",
              "      <td>...</td>\n",
              "      <td>...</td>\n",
              "      <td>...</td>\n",
              "      <td>...</td>\n",
              "    </tr>\n",
              "    <tr>\n",
              "      <th>200453</th>\n",
              "      <td>sedan</td>\n",
              "      <td>manual</td>\n",
              "      <td>gasoline</td>\n",
              "      <td>no</td>\n",
              "      <td>toledo</td>\n",
              "      <td>seat</td>\n",
              "    </tr>\n",
              "    <tr>\n",
              "      <th>58645</th>\n",
              "      <td>small</td>\n",
              "      <td>manual</td>\n",
              "      <td>petrol</td>\n",
              "      <td>no</td>\n",
              "      <td>other</td>\n",
              "      <td>mercedes_benz</td>\n",
              "    </tr>\n",
              "    <tr>\n",
              "      <th>106806</th>\n",
              "      <td>sedan</td>\n",
              "      <td>no information</td>\n",
              "      <td>petrol</td>\n",
              "      <td>no</td>\n",
              "      <td>other</td>\n",
              "      <td>daewoo</td>\n",
              "    </tr>\n",
              "    <tr>\n",
              "      <th>95275</th>\n",
              "      <td>small</td>\n",
              "      <td>manual</td>\n",
              "      <td>petrol</td>\n",
              "      <td>no</td>\n",
              "      <td>other</td>\n",
              "      <td>suzuki</td>\n",
              "    </tr>\n",
              "    <tr>\n",
              "      <th>279124</th>\n",
              "      <td>sedan</td>\n",
              "      <td>auto</td>\n",
              "      <td>no information</td>\n",
              "      <td>no</td>\n",
              "      <td>c_klasse</td>\n",
              "      <td>mercedes_benz</td>\n",
              "    </tr>\n",
              "  </tbody>\n",
              "</table>\n",
              "<p>163245 rows × 6 columns</p>\n",
              "</div>"
            ],
            "text/plain": [
              "           VehicleType         Gearbox        FuelType        Repaired  \\\n",
              "85413              bus          manual          petrol             yes   \n",
              "311635           sedan          manual          petrol  no information   \n",
              "105563  no information          manual          petrol  no information   \n",
              "296792           sedan          manual          petrol  no information   \n",
              "258889           wagon          manual          petrol  no information   \n",
              "...                ...             ...             ...             ...   \n",
              "200453           sedan          manual        gasoline              no   \n",
              "58645            small          manual          petrol              no   \n",
              "106806           sedan  no information          petrol              no   \n",
              "95275            small          manual          petrol              no   \n",
              "279124           sedan            auto  no information              no   \n",
              "\n",
              "           Model          Brand  \n",
              "85413      other     mitsubishi  \n",
              "311635  e_klasse  mercedes_benz  \n",
              "105563     astra           opel  \n",
              "296792      golf     volkswagen  \n",
              "258889    mondeo           ford  \n",
              "...          ...            ...  \n",
              "200453    toledo           seat  \n",
              "58645      other  mercedes_benz  \n",
              "106806     other         daewoo  \n",
              "95275      other         suzuki  \n",
              "279124  c_klasse  mercedes_benz  \n",
              "\n",
              "[163245 rows x 6 columns]"
            ]
          },
          "execution_count": 44,
          "metadata": {},
          "output_type": "execute_result"
        }
      ],
      "source": [
        "features_train[ohe_columns]"
      ]
    },
    {
      "cell_type": "code",
      "execution_count": null,
      "metadata": {
        "id": "uO9fK-EWgzIX"
      },
      "outputs": [],
      "source": [
        "encoder_ohe = OneHotEncoder(sparse=False, handle_unknown='ignore')#drop='first'"
      ]
    },
    {
      "cell_type": "code",
      "execution_count": null,
      "metadata": {
        "id": "1wfVeBIJgzIY",
        "outputId": "11298e8f-115c-45c1-c8e3-36b37511d486"
      },
      "outputs": [
        {
          "data": {
            "text/plain": [
              "OneHotEncoder(handle_unknown='ignore', sparse=False)"
            ]
          },
          "execution_count": 46,
          "metadata": {},
          "output_type": "execute_result"
        }
      ],
      "source": [
        "encoder_ohe.fit(features_train[ohe_columns])"
      ]
    },
    {
      "cell_type": "code",
      "execution_count": null,
      "metadata": {
        "id": "ZNPDOTCogzIY"
      },
      "outputs": [],
      "source": [
        "warnings.filterwarnings('ignore')"
      ]
    },
    {
      "cell_type": "code",
      "execution_count": null,
      "metadata": {
        "id": "yCptfEddgzIY"
      },
      "outputs": [],
      "source": [
        "def func_ohe(semple):\n",
        "    semple[encoder_ohe.get_feature_names()] = encoder_ohe.transform(semple[ohe_columns])\n",
        "    semple = semple.drop(ohe_columns, axis=1)\n",
        "    return semple"
      ]
    },
    {
      "cell_type": "code",
      "execution_count": null,
      "metadata": {
        "id": "Uf7KV7rqgzIY"
      },
      "outputs": [],
      "source": [
        "features_train = func_ohe(features_train)"
      ]
    },
    {
      "cell_type": "code",
      "execution_count": null,
      "metadata": {
        "id": "FA8CGiDegzIZ",
        "outputId": "5d9b6117-deab-4c7a-a83f-ac488e1fa95a"
      },
      "outputs": [
        {
          "data": {
            "text/html": [
              "<div>\n",
              "<style scoped>\n",
              "    .dataframe tbody tr th:only-of-type {\n",
              "        vertical-align: middle;\n",
              "    }\n",
              "\n",
              "    .dataframe tbody tr th {\n",
              "        vertical-align: top;\n",
              "    }\n",
              "\n",
              "    .dataframe thead th {\n",
              "        text-align: right;\n",
              "    }\n",
              "</style>\n",
              "<table border=\"1\" class=\"dataframe\">\n",
              "  <thead>\n",
              "    <tr style=\"text-align: right;\">\n",
              "      <th></th>\n",
              "      <th>RegistrationYear</th>\n",
              "      <th>Power</th>\n",
              "      <th>Kilometer</th>\n",
              "      <th>RegistrationMonth</th>\n",
              "      <th>x0_bus</th>\n",
              "      <th>x0_convertible</th>\n",
              "      <th>x0_coupe</th>\n",
              "      <th>x0_no information</th>\n",
              "      <th>x0_other</th>\n",
              "      <th>x0_sedan</th>\n",
              "      <th>...</th>\n",
              "      <th>x5_seat</th>\n",
              "      <th>x5_skoda</th>\n",
              "      <th>x5_smart</th>\n",
              "      <th>x5_sonstige_autos</th>\n",
              "      <th>x5_subaru</th>\n",
              "      <th>x5_suzuki</th>\n",
              "      <th>x5_toyota</th>\n",
              "      <th>x5_trabant</th>\n",
              "      <th>x5_volkswagen</th>\n",
              "      <th>x5_volvo</th>\n",
              "    </tr>\n",
              "  </thead>\n",
              "  <tbody>\n",
              "    <tr>\n",
              "      <th>85413</th>\n",
              "      <td>2002</td>\n",
              "      <td>98</td>\n",
              "      <td>150000</td>\n",
              "      <td>11</td>\n",
              "      <td>1.0</td>\n",
              "      <td>0.0</td>\n",
              "      <td>0.0</td>\n",
              "      <td>0.0</td>\n",
              "      <td>0.0</td>\n",
              "      <td>0.0</td>\n",
              "      <td>...</td>\n",
              "      <td>0.0</td>\n",
              "      <td>0.0</td>\n",
              "      <td>0.0</td>\n",
              "      <td>0.0</td>\n",
              "      <td>0.0</td>\n",
              "      <td>0.0</td>\n",
              "      <td>0.0</td>\n",
              "      <td>0.0</td>\n",
              "      <td>0.0</td>\n",
              "      <td>0.0</td>\n",
              "    </tr>\n",
              "    <tr>\n",
              "      <th>311635</th>\n",
              "      <td>1993</td>\n",
              "      <td>136</td>\n",
              "      <td>150000</td>\n",
              "      <td>3</td>\n",
              "      <td>0.0</td>\n",
              "      <td>0.0</td>\n",
              "      <td>0.0</td>\n",
              "      <td>0.0</td>\n",
              "      <td>0.0</td>\n",
              "      <td>1.0</td>\n",
              "      <td>...</td>\n",
              "      <td>0.0</td>\n",
              "      <td>0.0</td>\n",
              "      <td>0.0</td>\n",
              "      <td>0.0</td>\n",
              "      <td>0.0</td>\n",
              "      <td>0.0</td>\n",
              "      <td>0.0</td>\n",
              "      <td>0.0</td>\n",
              "      <td>0.0</td>\n",
              "      <td>0.0</td>\n",
              "    </tr>\n",
              "    <tr>\n",
              "      <th>105563</th>\n",
              "      <td>2016</td>\n",
              "      <td>116</td>\n",
              "      <td>20000</td>\n",
              "      <td>2</td>\n",
              "      <td>0.0</td>\n",
              "      <td>0.0</td>\n",
              "      <td>0.0</td>\n",
              "      <td>1.0</td>\n",
              "      <td>0.0</td>\n",
              "      <td>0.0</td>\n",
              "      <td>...</td>\n",
              "      <td>0.0</td>\n",
              "      <td>0.0</td>\n",
              "      <td>0.0</td>\n",
              "      <td>0.0</td>\n",
              "      <td>0.0</td>\n",
              "      <td>0.0</td>\n",
              "      <td>0.0</td>\n",
              "      <td>0.0</td>\n",
              "      <td>0.0</td>\n",
              "      <td>0.0</td>\n",
              "    </tr>\n",
              "    <tr>\n",
              "      <th>296792</th>\n",
              "      <td>2001</td>\n",
              "      <td>75</td>\n",
              "      <td>150000</td>\n",
              "      <td>10</td>\n",
              "      <td>0.0</td>\n",
              "      <td>0.0</td>\n",
              "      <td>0.0</td>\n",
              "      <td>0.0</td>\n",
              "      <td>0.0</td>\n",
              "      <td>1.0</td>\n",
              "      <td>...</td>\n",
              "      <td>0.0</td>\n",
              "      <td>0.0</td>\n",
              "      <td>0.0</td>\n",
              "      <td>0.0</td>\n",
              "      <td>0.0</td>\n",
              "      <td>0.0</td>\n",
              "      <td>0.0</td>\n",
              "      <td>0.0</td>\n",
              "      <td>1.0</td>\n",
              "      <td>0.0</td>\n",
              "    </tr>\n",
              "    <tr>\n",
              "      <th>258889</th>\n",
              "      <td>2001</td>\n",
              "      <td>85</td>\n",
              "      <td>150000</td>\n",
              "      <td>2</td>\n",
              "      <td>0.0</td>\n",
              "      <td>0.0</td>\n",
              "      <td>0.0</td>\n",
              "      <td>0.0</td>\n",
              "      <td>0.0</td>\n",
              "      <td>0.0</td>\n",
              "      <td>...</td>\n",
              "      <td>0.0</td>\n",
              "      <td>0.0</td>\n",
              "      <td>0.0</td>\n",
              "      <td>0.0</td>\n",
              "      <td>0.0</td>\n",
              "      <td>0.0</td>\n",
              "      <td>0.0</td>\n",
              "      <td>0.0</td>\n",
              "      <td>0.0</td>\n",
              "      <td>0.0</td>\n",
              "    </tr>\n",
              "    <tr>\n",
              "      <th>...</th>\n",
              "      <td>...</td>\n",
              "      <td>...</td>\n",
              "      <td>...</td>\n",
              "      <td>...</td>\n",
              "      <td>...</td>\n",
              "      <td>...</td>\n",
              "      <td>...</td>\n",
              "      <td>...</td>\n",
              "      <td>...</td>\n",
              "      <td>...</td>\n",
              "      <td>...</td>\n",
              "      <td>...</td>\n",
              "      <td>...</td>\n",
              "      <td>...</td>\n",
              "      <td>...</td>\n",
              "      <td>...</td>\n",
              "      <td>...</td>\n",
              "      <td>...</td>\n",
              "      <td>...</td>\n",
              "      <td>...</td>\n",
              "      <td>...</td>\n",
              "    </tr>\n",
              "    <tr>\n",
              "      <th>200453</th>\n",
              "      <td>2005</td>\n",
              "      <td>140</td>\n",
              "      <td>150000</td>\n",
              "      <td>3</td>\n",
              "      <td>0.0</td>\n",
              "      <td>0.0</td>\n",
              "      <td>0.0</td>\n",
              "      <td>0.0</td>\n",
              "      <td>0.0</td>\n",
              "      <td>1.0</td>\n",
              "      <td>...</td>\n",
              "      <td>1.0</td>\n",
              "      <td>0.0</td>\n",
              "      <td>0.0</td>\n",
              "      <td>0.0</td>\n",
              "      <td>0.0</td>\n",
              "      <td>0.0</td>\n",
              "      <td>0.0</td>\n",
              "      <td>0.0</td>\n",
              "      <td>0.0</td>\n",
              "      <td>0.0</td>\n",
              "    </tr>\n",
              "    <tr>\n",
              "      <th>58645</th>\n",
              "      <td>2001</td>\n",
              "      <td>125</td>\n",
              "      <td>125000</td>\n",
              "      <td>12</td>\n",
              "      <td>0.0</td>\n",
              "      <td>0.0</td>\n",
              "      <td>0.0</td>\n",
              "      <td>0.0</td>\n",
              "      <td>0.0</td>\n",
              "      <td>0.0</td>\n",
              "      <td>...</td>\n",
              "      <td>0.0</td>\n",
              "      <td>0.0</td>\n",
              "      <td>0.0</td>\n",
              "      <td>0.0</td>\n",
              "      <td>0.0</td>\n",
              "      <td>0.0</td>\n",
              "      <td>0.0</td>\n",
              "      <td>0.0</td>\n",
              "      <td>0.0</td>\n",
              "      <td>0.0</td>\n",
              "    </tr>\n",
              "    <tr>\n",
              "      <th>106806</th>\n",
              "      <td>1997</td>\n",
              "      <td>95</td>\n",
              "      <td>80000</td>\n",
              "      <td>3</td>\n",
              "      <td>0.0</td>\n",
              "      <td>0.0</td>\n",
              "      <td>0.0</td>\n",
              "      <td>0.0</td>\n",
              "      <td>0.0</td>\n",
              "      <td>1.0</td>\n",
              "      <td>...</td>\n",
              "      <td>0.0</td>\n",
              "      <td>0.0</td>\n",
              "      <td>0.0</td>\n",
              "      <td>0.0</td>\n",
              "      <td>0.0</td>\n",
              "      <td>0.0</td>\n",
              "      <td>0.0</td>\n",
              "      <td>0.0</td>\n",
              "      <td>0.0</td>\n",
              "      <td>0.0</td>\n",
              "    </tr>\n",
              "    <tr>\n",
              "      <th>95275</th>\n",
              "      <td>1999</td>\n",
              "      <td>85</td>\n",
              "      <td>125000</td>\n",
              "      <td>3</td>\n",
              "      <td>0.0</td>\n",
              "      <td>0.0</td>\n",
              "      <td>0.0</td>\n",
              "      <td>0.0</td>\n",
              "      <td>0.0</td>\n",
              "      <td>0.0</td>\n",
              "      <td>...</td>\n",
              "      <td>0.0</td>\n",
              "      <td>0.0</td>\n",
              "      <td>0.0</td>\n",
              "      <td>0.0</td>\n",
              "      <td>0.0</td>\n",
              "      <td>1.0</td>\n",
              "      <td>0.0</td>\n",
              "      <td>0.0</td>\n",
              "      <td>0.0</td>\n",
              "      <td>0.0</td>\n",
              "    </tr>\n",
              "    <tr>\n",
              "      <th>279124</th>\n",
              "      <td>2001</td>\n",
              "      <td>170</td>\n",
              "      <td>150000</td>\n",
              "      <td>5</td>\n",
              "      <td>0.0</td>\n",
              "      <td>0.0</td>\n",
              "      <td>0.0</td>\n",
              "      <td>0.0</td>\n",
              "      <td>0.0</td>\n",
              "      <td>1.0</td>\n",
              "      <td>...</td>\n",
              "      <td>0.0</td>\n",
              "      <td>0.0</td>\n",
              "      <td>0.0</td>\n",
              "      <td>0.0</td>\n",
              "      <td>0.0</td>\n",
              "      <td>0.0</td>\n",
              "      <td>0.0</td>\n",
              "      <td>0.0</td>\n",
              "      <td>0.0</td>\n",
              "      <td>0.0</td>\n",
              "    </tr>\n",
              "  </tbody>\n",
              "</table>\n",
              "<p>163245 rows × 317 columns</p>\n",
              "</div>"
            ],
            "text/plain": [
              "        RegistrationYear  Power  Kilometer  RegistrationMonth  x0_bus  \\\n",
              "85413               2002     98     150000                 11     1.0   \n",
              "311635              1993    136     150000                  3     0.0   \n",
              "105563              2016    116      20000                  2     0.0   \n",
              "296792              2001     75     150000                 10     0.0   \n",
              "258889              2001     85     150000                  2     0.0   \n",
              "...                  ...    ...        ...                ...     ...   \n",
              "200453              2005    140     150000                  3     0.0   \n",
              "58645               2001    125     125000                 12     0.0   \n",
              "106806              1997     95      80000                  3     0.0   \n",
              "95275               1999     85     125000                  3     0.0   \n",
              "279124              2001    170     150000                  5     0.0   \n",
              "\n",
              "        x0_convertible  x0_coupe  x0_no information  x0_other  x0_sedan  ...  \\\n",
              "85413              0.0       0.0                0.0       0.0       0.0  ...   \n",
              "311635             0.0       0.0                0.0       0.0       1.0  ...   \n",
              "105563             0.0       0.0                1.0       0.0       0.0  ...   \n",
              "296792             0.0       0.0                0.0       0.0       1.0  ...   \n",
              "258889             0.0       0.0                0.0       0.0       0.0  ...   \n",
              "...                ...       ...                ...       ...       ...  ...   \n",
              "200453             0.0       0.0                0.0       0.0       1.0  ...   \n",
              "58645              0.0       0.0                0.0       0.0       0.0  ...   \n",
              "106806             0.0       0.0                0.0       0.0       1.0  ...   \n",
              "95275              0.0       0.0                0.0       0.0       0.0  ...   \n",
              "279124             0.0       0.0                0.0       0.0       1.0  ...   \n",
              "\n",
              "        x5_seat  x5_skoda  x5_smart  x5_sonstige_autos  x5_subaru  x5_suzuki  \\\n",
              "85413       0.0       0.0       0.0                0.0        0.0        0.0   \n",
              "311635      0.0       0.0       0.0                0.0        0.0        0.0   \n",
              "105563      0.0       0.0       0.0                0.0        0.0        0.0   \n",
              "296792      0.0       0.0       0.0                0.0        0.0        0.0   \n",
              "258889      0.0       0.0       0.0                0.0        0.0        0.0   \n",
              "...         ...       ...       ...                ...        ...        ...   \n",
              "200453      1.0       0.0       0.0                0.0        0.0        0.0   \n",
              "58645       0.0       0.0       0.0                0.0        0.0        0.0   \n",
              "106806      0.0       0.0       0.0                0.0        0.0        0.0   \n",
              "95275       0.0       0.0       0.0                0.0        0.0        1.0   \n",
              "279124      0.0       0.0       0.0                0.0        0.0        0.0   \n",
              "\n",
              "        x5_toyota  x5_trabant  x5_volkswagen  x5_volvo  \n",
              "85413         0.0         0.0            0.0       0.0  \n",
              "311635        0.0         0.0            0.0       0.0  \n",
              "105563        0.0         0.0            0.0       0.0  \n",
              "296792        0.0         0.0            1.0       0.0  \n",
              "258889        0.0         0.0            0.0       0.0  \n",
              "...           ...         ...            ...       ...  \n",
              "200453        0.0         0.0            0.0       0.0  \n",
              "58645         0.0         0.0            0.0       0.0  \n",
              "106806        0.0         0.0            0.0       0.0  \n",
              "95275         0.0         0.0            0.0       0.0  \n",
              "279124        0.0         0.0            0.0       0.0  \n",
              "\n",
              "[163245 rows x 317 columns]"
            ]
          },
          "execution_count": 50,
          "metadata": {},
          "output_type": "execute_result"
        }
      ],
      "source": [
        "features_train"
      ]
    },
    {
      "cell_type": "code",
      "execution_count": null,
      "metadata": {
        "id": "R6ERUqPvgzIZ"
      },
      "outputs": [],
      "source": [
        "features_valid = func_ohe(features_valid)"
      ]
    },
    {
      "cell_type": "code",
      "execution_count": null,
      "metadata": {
        "id": "TDpbqcIxgzIZ",
        "outputId": "91dfc81a-39e2-4e95-b494-8a28a7172bc5"
      },
      "outputs": [
        {
          "data": {
            "text/html": [
              "<div>\n",
              "<style scoped>\n",
              "    .dataframe tbody tr th:only-of-type {\n",
              "        vertical-align: middle;\n",
              "    }\n",
              "\n",
              "    .dataframe tbody tr th {\n",
              "        vertical-align: top;\n",
              "    }\n",
              "\n",
              "    .dataframe thead th {\n",
              "        text-align: right;\n",
              "    }\n",
              "</style>\n",
              "<table border=\"1\" class=\"dataframe\">\n",
              "  <thead>\n",
              "    <tr style=\"text-align: right;\">\n",
              "      <th></th>\n",
              "      <th>RegistrationYear</th>\n",
              "      <th>Power</th>\n",
              "      <th>Kilometer</th>\n",
              "      <th>RegistrationMonth</th>\n",
              "      <th>x0_bus</th>\n",
              "      <th>x0_convertible</th>\n",
              "      <th>x0_coupe</th>\n",
              "      <th>x0_no information</th>\n",
              "      <th>x0_other</th>\n",
              "      <th>x0_sedan</th>\n",
              "      <th>...</th>\n",
              "      <th>x5_seat</th>\n",
              "      <th>x5_skoda</th>\n",
              "      <th>x5_smart</th>\n",
              "      <th>x5_sonstige_autos</th>\n",
              "      <th>x5_subaru</th>\n",
              "      <th>x5_suzuki</th>\n",
              "      <th>x5_toyota</th>\n",
              "      <th>x5_trabant</th>\n",
              "      <th>x5_volkswagen</th>\n",
              "      <th>x5_volvo</th>\n",
              "    </tr>\n",
              "  </thead>\n",
              "  <tbody>\n",
              "    <tr>\n",
              "      <th>117379</th>\n",
              "      <td>1994</td>\n",
              "      <td>115</td>\n",
              "      <td>150000</td>\n",
              "      <td>11</td>\n",
              "      <td>0.0</td>\n",
              "      <td>0.0</td>\n",
              "      <td>0.0</td>\n",
              "      <td>0.0</td>\n",
              "      <td>0.0</td>\n",
              "      <td>1.0</td>\n",
              "      <td>...</td>\n",
              "      <td>0.0</td>\n",
              "      <td>0.0</td>\n",
              "      <td>0.0</td>\n",
              "      <td>0.0</td>\n",
              "      <td>0.0</td>\n",
              "      <td>0.0</td>\n",
              "      <td>0.0</td>\n",
              "      <td>0.0</td>\n",
              "      <td>0.0</td>\n",
              "      <td>0.0</td>\n",
              "    </tr>\n",
              "    <tr>\n",
              "      <th>47866</th>\n",
              "      <td>1968</td>\n",
              "      <td>50</td>\n",
              "      <td>5000</td>\n",
              "      <td>7</td>\n",
              "      <td>0.0</td>\n",
              "      <td>0.0</td>\n",
              "      <td>0.0</td>\n",
              "      <td>0.0</td>\n",
              "      <td>0.0</td>\n",
              "      <td>0.0</td>\n",
              "      <td>...</td>\n",
              "      <td>0.0</td>\n",
              "      <td>0.0</td>\n",
              "      <td>0.0</td>\n",
              "      <td>0.0</td>\n",
              "      <td>0.0</td>\n",
              "      <td>0.0</td>\n",
              "      <td>0.0</td>\n",
              "      <td>0.0</td>\n",
              "      <td>0.0</td>\n",
              "      <td>0.0</td>\n",
              "    </tr>\n",
              "    <tr>\n",
              "      <th>139646</th>\n",
              "      <td>2000</td>\n",
              "      <td>60</td>\n",
              "      <td>150000</td>\n",
              "      <td>9</td>\n",
              "      <td>0.0</td>\n",
              "      <td>0.0</td>\n",
              "      <td>0.0</td>\n",
              "      <td>0.0</td>\n",
              "      <td>0.0</td>\n",
              "      <td>0.0</td>\n",
              "      <td>...</td>\n",
              "      <td>0.0</td>\n",
              "      <td>0.0</td>\n",
              "      <td>0.0</td>\n",
              "      <td>0.0</td>\n",
              "      <td>0.0</td>\n",
              "      <td>0.0</td>\n",
              "      <td>0.0</td>\n",
              "      <td>0.0</td>\n",
              "      <td>0.0</td>\n",
              "      <td>0.0</td>\n",
              "    </tr>\n",
              "    <tr>\n",
              "      <th>19398</th>\n",
              "      <td>2005</td>\n",
              "      <td>178</td>\n",
              "      <td>150000</td>\n",
              "      <td>5</td>\n",
              "      <td>0.0</td>\n",
              "      <td>0.0</td>\n",
              "      <td>0.0</td>\n",
              "      <td>0.0</td>\n",
              "      <td>0.0</td>\n",
              "      <td>0.0</td>\n",
              "      <td>...</td>\n",
              "      <td>0.0</td>\n",
              "      <td>0.0</td>\n",
              "      <td>0.0</td>\n",
              "      <td>0.0</td>\n",
              "      <td>0.0</td>\n",
              "      <td>0.0</td>\n",
              "      <td>0.0</td>\n",
              "      <td>0.0</td>\n",
              "      <td>1.0</td>\n",
              "      <td>0.0</td>\n",
              "    </tr>\n",
              "    <tr>\n",
              "      <th>207306</th>\n",
              "      <td>2000</td>\n",
              "      <td>105</td>\n",
              "      <td>150000</td>\n",
              "      <td>8</td>\n",
              "      <td>0.0</td>\n",
              "      <td>0.0</td>\n",
              "      <td>0.0</td>\n",
              "      <td>0.0</td>\n",
              "      <td>0.0</td>\n",
              "      <td>1.0</td>\n",
              "      <td>...</td>\n",
              "      <td>0.0</td>\n",
              "      <td>0.0</td>\n",
              "      <td>0.0</td>\n",
              "      <td>0.0</td>\n",
              "      <td>0.0</td>\n",
              "      <td>0.0</td>\n",
              "      <td>0.0</td>\n",
              "      <td>0.0</td>\n",
              "      <td>0.0</td>\n",
              "      <td>0.0</td>\n",
              "    </tr>\n",
              "    <tr>\n",
              "      <th>...</th>\n",
              "      <td>...</td>\n",
              "      <td>...</td>\n",
              "      <td>...</td>\n",
              "      <td>...</td>\n",
              "      <td>...</td>\n",
              "      <td>...</td>\n",
              "      <td>...</td>\n",
              "      <td>...</td>\n",
              "      <td>...</td>\n",
              "      <td>...</td>\n",
              "      <td>...</td>\n",
              "      <td>...</td>\n",
              "      <td>...</td>\n",
              "      <td>...</td>\n",
              "      <td>...</td>\n",
              "      <td>...</td>\n",
              "      <td>...</td>\n",
              "      <td>...</td>\n",
              "      <td>...</td>\n",
              "      <td>...</td>\n",
              "      <td>...</td>\n",
              "    </tr>\n",
              "    <tr>\n",
              "      <th>353801</th>\n",
              "      <td>2003</td>\n",
              "      <td>105</td>\n",
              "      <td>150000</td>\n",
              "      <td>11</td>\n",
              "      <td>1.0</td>\n",
              "      <td>0.0</td>\n",
              "      <td>0.0</td>\n",
              "      <td>0.0</td>\n",
              "      <td>0.0</td>\n",
              "      <td>0.0</td>\n",
              "      <td>...</td>\n",
              "      <td>0.0</td>\n",
              "      <td>0.0</td>\n",
              "      <td>0.0</td>\n",
              "      <td>0.0</td>\n",
              "      <td>0.0</td>\n",
              "      <td>0.0</td>\n",
              "      <td>0.0</td>\n",
              "      <td>0.0</td>\n",
              "      <td>1.0</td>\n",
              "      <td>0.0</td>\n",
              "    </tr>\n",
              "    <tr>\n",
              "      <th>171429</th>\n",
              "      <td>2008</td>\n",
              "      <td>143</td>\n",
              "      <td>125000</td>\n",
              "      <td>8</td>\n",
              "      <td>0.0</td>\n",
              "      <td>0.0</td>\n",
              "      <td>0.0</td>\n",
              "      <td>0.0</td>\n",
              "      <td>0.0</td>\n",
              "      <td>0.0</td>\n",
              "      <td>...</td>\n",
              "      <td>0.0</td>\n",
              "      <td>0.0</td>\n",
              "      <td>0.0</td>\n",
              "      <td>0.0</td>\n",
              "      <td>0.0</td>\n",
              "      <td>0.0</td>\n",
              "      <td>0.0</td>\n",
              "      <td>0.0</td>\n",
              "      <td>0.0</td>\n",
              "      <td>0.0</td>\n",
              "    </tr>\n",
              "    <tr>\n",
              "      <th>247628</th>\n",
              "      <td>2009</td>\n",
              "      <td>140</td>\n",
              "      <td>150000</td>\n",
              "      <td>7</td>\n",
              "      <td>1.0</td>\n",
              "      <td>0.0</td>\n",
              "      <td>0.0</td>\n",
              "      <td>0.0</td>\n",
              "      <td>0.0</td>\n",
              "      <td>0.0</td>\n",
              "      <td>...</td>\n",
              "      <td>0.0</td>\n",
              "      <td>0.0</td>\n",
              "      <td>0.0</td>\n",
              "      <td>0.0</td>\n",
              "      <td>0.0</td>\n",
              "      <td>0.0</td>\n",
              "      <td>0.0</td>\n",
              "      <td>0.0</td>\n",
              "      <td>0.0</td>\n",
              "      <td>0.0</td>\n",
              "    </tr>\n",
              "    <tr>\n",
              "      <th>1878</th>\n",
              "      <td>2007</td>\n",
              "      <td>60</td>\n",
              "      <td>90000</td>\n",
              "      <td>1</td>\n",
              "      <td>0.0</td>\n",
              "      <td>0.0</td>\n",
              "      <td>0.0</td>\n",
              "      <td>0.0</td>\n",
              "      <td>0.0</td>\n",
              "      <td>0.0</td>\n",
              "      <td>...</td>\n",
              "      <td>0.0</td>\n",
              "      <td>0.0</td>\n",
              "      <td>0.0</td>\n",
              "      <td>0.0</td>\n",
              "      <td>0.0</td>\n",
              "      <td>0.0</td>\n",
              "      <td>0.0</td>\n",
              "      <td>0.0</td>\n",
              "      <td>0.0</td>\n",
              "      <td>0.0</td>\n",
              "    </tr>\n",
              "    <tr>\n",
              "      <th>19663</th>\n",
              "      <td>1987</td>\n",
              "      <td>105</td>\n",
              "      <td>150000</td>\n",
              "      <td>8</td>\n",
              "      <td>0.0</td>\n",
              "      <td>0.0</td>\n",
              "      <td>0.0</td>\n",
              "      <td>0.0</td>\n",
              "      <td>0.0</td>\n",
              "      <td>1.0</td>\n",
              "      <td>...</td>\n",
              "      <td>0.0</td>\n",
              "      <td>0.0</td>\n",
              "      <td>0.0</td>\n",
              "      <td>0.0</td>\n",
              "      <td>0.0</td>\n",
              "      <td>0.0</td>\n",
              "      <td>0.0</td>\n",
              "      <td>0.0</td>\n",
              "      <td>0.0</td>\n",
              "      <td>0.0</td>\n",
              "    </tr>\n",
              "  </tbody>\n",
              "</table>\n",
              "<p>54416 rows × 317 columns</p>\n",
              "</div>"
            ],
            "text/plain": [
              "        RegistrationYear  Power  Kilometer  RegistrationMonth  x0_bus  \\\n",
              "117379              1994    115     150000                 11     0.0   \n",
              "47866               1968     50       5000                  7     0.0   \n",
              "139646              2000     60     150000                  9     0.0   \n",
              "19398               2005    178     150000                  5     0.0   \n",
              "207306              2000    105     150000                  8     0.0   \n",
              "...                  ...    ...        ...                ...     ...   \n",
              "353801              2003    105     150000                 11     1.0   \n",
              "171429              2008    143     125000                  8     0.0   \n",
              "247628              2009    140     150000                  7     1.0   \n",
              "1878                2007     60      90000                  1     0.0   \n",
              "19663               1987    105     150000                  8     0.0   \n",
              "\n",
              "        x0_convertible  x0_coupe  x0_no information  x0_other  x0_sedan  ...  \\\n",
              "117379             0.0       0.0                0.0       0.0       1.0  ...   \n",
              "47866              0.0       0.0                0.0       0.0       0.0  ...   \n",
              "139646             0.0       0.0                0.0       0.0       0.0  ...   \n",
              "19398              0.0       0.0                0.0       0.0       0.0  ...   \n",
              "207306             0.0       0.0                0.0       0.0       1.0  ...   \n",
              "...                ...       ...                ...       ...       ...  ...   \n",
              "353801             0.0       0.0                0.0       0.0       0.0  ...   \n",
              "171429             0.0       0.0                0.0       0.0       0.0  ...   \n",
              "247628             0.0       0.0                0.0       0.0       0.0  ...   \n",
              "1878               0.0       0.0                0.0       0.0       0.0  ...   \n",
              "19663              0.0       0.0                0.0       0.0       1.0  ...   \n",
              "\n",
              "        x5_seat  x5_skoda  x5_smart  x5_sonstige_autos  x5_subaru  x5_suzuki  \\\n",
              "117379      0.0       0.0       0.0                0.0        0.0        0.0   \n",
              "47866       0.0       0.0       0.0                0.0        0.0        0.0   \n",
              "139646      0.0       0.0       0.0                0.0        0.0        0.0   \n",
              "19398       0.0       0.0       0.0                0.0        0.0        0.0   \n",
              "207306      0.0       0.0       0.0                0.0        0.0        0.0   \n",
              "...         ...       ...       ...                ...        ...        ...   \n",
              "353801      0.0       0.0       0.0                0.0        0.0        0.0   \n",
              "171429      0.0       0.0       0.0                0.0        0.0        0.0   \n",
              "247628      0.0       0.0       0.0                0.0        0.0        0.0   \n",
              "1878        0.0       0.0       0.0                0.0        0.0        0.0   \n",
              "19663       0.0       0.0       0.0                0.0        0.0        0.0   \n",
              "\n",
              "        x5_toyota  x5_trabant  x5_volkswagen  x5_volvo  \n",
              "117379        0.0         0.0            0.0       0.0  \n",
              "47866         0.0         0.0            0.0       0.0  \n",
              "139646        0.0         0.0            0.0       0.0  \n",
              "19398         0.0         0.0            1.0       0.0  \n",
              "207306        0.0         0.0            0.0       0.0  \n",
              "...           ...         ...            ...       ...  \n",
              "353801        0.0         0.0            1.0       0.0  \n",
              "171429        0.0         0.0            0.0       0.0  \n",
              "247628        0.0         0.0            0.0       0.0  \n",
              "1878          0.0         0.0            0.0       0.0  \n",
              "19663         0.0         0.0            0.0       0.0  \n",
              "\n",
              "[54416 rows x 317 columns]"
            ]
          },
          "execution_count": 52,
          "metadata": {},
          "output_type": "execute_result"
        }
      ],
      "source": [
        "features_valid"
      ]
    },
    {
      "cell_type": "code",
      "execution_count": null,
      "metadata": {
        "id": "PLoXn5p4gzIa"
      },
      "outputs": [],
      "source": [
        "features_test = func_ohe(features_test)"
      ]
    },
    {
      "cell_type": "code",
      "execution_count": null,
      "metadata": {
        "id": "HKsuxONdgzIa",
        "outputId": "fb7d4295-18f5-49a6-dcc9-d894a20a6466"
      },
      "outputs": [
        {
          "data": {
            "text/html": [
              "<div>\n",
              "<style scoped>\n",
              "    .dataframe tbody tr th:only-of-type {\n",
              "        vertical-align: middle;\n",
              "    }\n",
              "\n",
              "    .dataframe tbody tr th {\n",
              "        vertical-align: top;\n",
              "    }\n",
              "\n",
              "    .dataframe thead th {\n",
              "        text-align: right;\n",
              "    }\n",
              "</style>\n",
              "<table border=\"1\" class=\"dataframe\">\n",
              "  <thead>\n",
              "    <tr style=\"text-align: right;\">\n",
              "      <th></th>\n",
              "      <th>RegistrationYear</th>\n",
              "      <th>Power</th>\n",
              "      <th>Kilometer</th>\n",
              "      <th>RegistrationMonth</th>\n",
              "      <th>x0_bus</th>\n",
              "      <th>x0_convertible</th>\n",
              "      <th>x0_coupe</th>\n",
              "      <th>x0_no information</th>\n",
              "      <th>x0_other</th>\n",
              "      <th>x0_sedan</th>\n",
              "      <th>...</th>\n",
              "      <th>x5_seat</th>\n",
              "      <th>x5_skoda</th>\n",
              "      <th>x5_smart</th>\n",
              "      <th>x5_sonstige_autos</th>\n",
              "      <th>x5_subaru</th>\n",
              "      <th>x5_suzuki</th>\n",
              "      <th>x5_toyota</th>\n",
              "      <th>x5_trabant</th>\n",
              "      <th>x5_volkswagen</th>\n",
              "      <th>x5_volvo</th>\n",
              "    </tr>\n",
              "  </thead>\n",
              "  <tbody>\n",
              "    <tr>\n",
              "      <th>210845</th>\n",
              "      <td>2003</td>\n",
              "      <td>218</td>\n",
              "      <td>150000</td>\n",
              "      <td>5</td>\n",
              "      <td>0.0</td>\n",
              "      <td>0.0</td>\n",
              "      <td>0.0</td>\n",
              "      <td>0.0</td>\n",
              "      <td>0.0</td>\n",
              "      <td>0.0</td>\n",
              "      <td>...</td>\n",
              "      <td>0.0</td>\n",
              "      <td>0.0</td>\n",
              "      <td>0.0</td>\n",
              "      <td>0.0</td>\n",
              "      <td>0.0</td>\n",
              "      <td>0.0</td>\n",
              "      <td>0.0</td>\n",
              "      <td>0.0</td>\n",
              "      <td>0.0</td>\n",
              "      <td>0.0</td>\n",
              "    </tr>\n",
              "    <tr>\n",
              "      <th>41422</th>\n",
              "      <td>2000</td>\n",
              "      <td>143</td>\n",
              "      <td>150000</td>\n",
              "      <td>7</td>\n",
              "      <td>0.0</td>\n",
              "      <td>0.0</td>\n",
              "      <td>0.0</td>\n",
              "      <td>0.0</td>\n",
              "      <td>0.0</td>\n",
              "      <td>1.0</td>\n",
              "      <td>...</td>\n",
              "      <td>0.0</td>\n",
              "      <td>0.0</td>\n",
              "      <td>0.0</td>\n",
              "      <td>0.0</td>\n",
              "      <td>0.0</td>\n",
              "      <td>0.0</td>\n",
              "      <td>0.0</td>\n",
              "      <td>0.0</td>\n",
              "      <td>0.0</td>\n",
              "      <td>0.0</td>\n",
              "    </tr>\n",
              "    <tr>\n",
              "      <th>73077</th>\n",
              "      <td>1998</td>\n",
              "      <td>101</td>\n",
              "      <td>150000</td>\n",
              "      <td>0</td>\n",
              "      <td>0.0</td>\n",
              "      <td>0.0</td>\n",
              "      <td>0.0</td>\n",
              "      <td>0.0</td>\n",
              "      <td>0.0</td>\n",
              "      <td>0.0</td>\n",
              "      <td>...</td>\n",
              "      <td>0.0</td>\n",
              "      <td>0.0</td>\n",
              "      <td>0.0</td>\n",
              "      <td>0.0</td>\n",
              "      <td>0.0</td>\n",
              "      <td>0.0</td>\n",
              "      <td>0.0</td>\n",
              "      <td>0.0</td>\n",
              "      <td>1.0</td>\n",
              "      <td>0.0</td>\n",
              "    </tr>\n",
              "    <tr>\n",
              "      <th>41608</th>\n",
              "      <td>2005</td>\n",
              "      <td>60</td>\n",
              "      <td>90000</td>\n",
              "      <td>7</td>\n",
              "      <td>0.0</td>\n",
              "      <td>0.0</td>\n",
              "      <td>0.0</td>\n",
              "      <td>0.0</td>\n",
              "      <td>0.0</td>\n",
              "      <td>0.0</td>\n",
              "      <td>...</td>\n",
              "      <td>0.0</td>\n",
              "      <td>0.0</td>\n",
              "      <td>0.0</td>\n",
              "      <td>0.0</td>\n",
              "      <td>0.0</td>\n",
              "      <td>0.0</td>\n",
              "      <td>0.0</td>\n",
              "      <td>0.0</td>\n",
              "      <td>0.0</td>\n",
              "      <td>0.0</td>\n",
              "    </tr>\n",
              "    <tr>\n",
              "      <th>1608</th>\n",
              "      <td>2005</td>\n",
              "      <td>116</td>\n",
              "      <td>150000</td>\n",
              "      <td>6</td>\n",
              "      <td>0.0</td>\n",
              "      <td>0.0</td>\n",
              "      <td>0.0</td>\n",
              "      <td>0.0</td>\n",
              "      <td>0.0</td>\n",
              "      <td>0.0</td>\n",
              "      <td>...</td>\n",
              "      <td>0.0</td>\n",
              "      <td>0.0</td>\n",
              "      <td>0.0</td>\n",
              "      <td>0.0</td>\n",
              "      <td>0.0</td>\n",
              "      <td>0.0</td>\n",
              "      <td>1.0</td>\n",
              "      <td>0.0</td>\n",
              "      <td>0.0</td>\n",
              "      <td>0.0</td>\n",
              "    </tr>\n",
              "    <tr>\n",
              "      <th>...</th>\n",
              "      <td>...</td>\n",
              "      <td>...</td>\n",
              "      <td>...</td>\n",
              "      <td>...</td>\n",
              "      <td>...</td>\n",
              "      <td>...</td>\n",
              "      <td>...</td>\n",
              "      <td>...</td>\n",
              "      <td>...</td>\n",
              "      <td>...</td>\n",
              "      <td>...</td>\n",
              "      <td>...</td>\n",
              "      <td>...</td>\n",
              "      <td>...</td>\n",
              "      <td>...</td>\n",
              "      <td>...</td>\n",
              "      <td>...</td>\n",
              "      <td>...</td>\n",
              "      <td>...</td>\n",
              "      <td>...</td>\n",
              "      <td>...</td>\n",
              "    </tr>\n",
              "    <tr>\n",
              "      <th>330350</th>\n",
              "      <td>1990</td>\n",
              "      <td>99</td>\n",
              "      <td>150000</td>\n",
              "      <td>2</td>\n",
              "      <td>0.0</td>\n",
              "      <td>0.0</td>\n",
              "      <td>0.0</td>\n",
              "      <td>0.0</td>\n",
              "      <td>0.0</td>\n",
              "      <td>1.0</td>\n",
              "      <td>...</td>\n",
              "      <td>0.0</td>\n",
              "      <td>0.0</td>\n",
              "      <td>0.0</td>\n",
              "      <td>0.0</td>\n",
              "      <td>0.0</td>\n",
              "      <td>0.0</td>\n",
              "      <td>0.0</td>\n",
              "      <td>0.0</td>\n",
              "      <td>0.0</td>\n",
              "      <td>0.0</td>\n",
              "    </tr>\n",
              "    <tr>\n",
              "      <th>97298</th>\n",
              "      <td>2009</td>\n",
              "      <td>122</td>\n",
              "      <td>70000</td>\n",
              "      <td>9</td>\n",
              "      <td>0.0</td>\n",
              "      <td>1.0</td>\n",
              "      <td>0.0</td>\n",
              "      <td>0.0</td>\n",
              "      <td>0.0</td>\n",
              "      <td>0.0</td>\n",
              "      <td>...</td>\n",
              "      <td>0.0</td>\n",
              "      <td>0.0</td>\n",
              "      <td>0.0</td>\n",
              "      <td>0.0</td>\n",
              "      <td>0.0</td>\n",
              "      <td>0.0</td>\n",
              "      <td>0.0</td>\n",
              "      <td>0.0</td>\n",
              "      <td>1.0</td>\n",
              "      <td>0.0</td>\n",
              "    </tr>\n",
              "    <tr>\n",
              "      <th>35494</th>\n",
              "      <td>2001</td>\n",
              "      <td>272</td>\n",
              "      <td>150000</td>\n",
              "      <td>12</td>\n",
              "      <td>0.0</td>\n",
              "      <td>0.0</td>\n",
              "      <td>0.0</td>\n",
              "      <td>0.0</td>\n",
              "      <td>0.0</td>\n",
              "      <td>1.0</td>\n",
              "      <td>...</td>\n",
              "      <td>0.0</td>\n",
              "      <td>0.0</td>\n",
              "      <td>0.0</td>\n",
              "      <td>0.0</td>\n",
              "      <td>0.0</td>\n",
              "      <td>0.0</td>\n",
              "      <td>0.0</td>\n",
              "      <td>0.0</td>\n",
              "      <td>0.0</td>\n",
              "      <td>0.0</td>\n",
              "    </tr>\n",
              "    <tr>\n",
              "      <th>118827</th>\n",
              "      <td>2002</td>\n",
              "      <td>75</td>\n",
              "      <td>100000</td>\n",
              "      <td>7</td>\n",
              "      <td>0.0</td>\n",
              "      <td>0.0</td>\n",
              "      <td>0.0</td>\n",
              "      <td>0.0</td>\n",
              "      <td>0.0</td>\n",
              "      <td>1.0</td>\n",
              "      <td>...</td>\n",
              "      <td>0.0</td>\n",
              "      <td>0.0</td>\n",
              "      <td>0.0</td>\n",
              "      <td>0.0</td>\n",
              "      <td>0.0</td>\n",
              "      <td>0.0</td>\n",
              "      <td>0.0</td>\n",
              "      <td>0.0</td>\n",
              "      <td>0.0</td>\n",
              "      <td>0.0</td>\n",
              "    </tr>\n",
              "    <tr>\n",
              "      <th>294009</th>\n",
              "      <td>2006</td>\n",
              "      <td>60</td>\n",
              "      <td>100000</td>\n",
              "      <td>4</td>\n",
              "      <td>0.0</td>\n",
              "      <td>0.0</td>\n",
              "      <td>0.0</td>\n",
              "      <td>0.0</td>\n",
              "      <td>0.0</td>\n",
              "      <td>0.0</td>\n",
              "      <td>...</td>\n",
              "      <td>0.0</td>\n",
              "      <td>0.0</td>\n",
              "      <td>0.0</td>\n",
              "      <td>0.0</td>\n",
              "      <td>0.0</td>\n",
              "      <td>0.0</td>\n",
              "      <td>0.0</td>\n",
              "      <td>0.0</td>\n",
              "      <td>0.0</td>\n",
              "      <td>0.0</td>\n",
              "    </tr>\n",
              "  </tbody>\n",
              "</table>\n",
              "<p>54415 rows × 317 columns</p>\n",
              "</div>"
            ],
            "text/plain": [
              "        RegistrationYear  Power  Kilometer  RegistrationMonth  x0_bus  \\\n",
              "210845              2003    218     150000                  5     0.0   \n",
              "41422               2000    143     150000                  7     0.0   \n",
              "73077               1998    101     150000                  0     0.0   \n",
              "41608               2005     60      90000                  7     0.0   \n",
              "1608                2005    116     150000                  6     0.0   \n",
              "...                  ...    ...        ...                ...     ...   \n",
              "330350              1990     99     150000                  2     0.0   \n",
              "97298               2009    122      70000                  9     0.0   \n",
              "35494               2001    272     150000                 12     0.0   \n",
              "118827              2002     75     100000                  7     0.0   \n",
              "294009              2006     60     100000                  4     0.0   \n",
              "\n",
              "        x0_convertible  x0_coupe  x0_no information  x0_other  x0_sedan  ...  \\\n",
              "210845             0.0       0.0                0.0       0.0       0.0  ...   \n",
              "41422              0.0       0.0                0.0       0.0       1.0  ...   \n",
              "73077              0.0       0.0                0.0       0.0       0.0  ...   \n",
              "41608              0.0       0.0                0.0       0.0       0.0  ...   \n",
              "1608               0.0       0.0                0.0       0.0       0.0  ...   \n",
              "...                ...       ...                ...       ...       ...  ...   \n",
              "330350             0.0       0.0                0.0       0.0       1.0  ...   \n",
              "97298              1.0       0.0                0.0       0.0       0.0  ...   \n",
              "35494              0.0       0.0                0.0       0.0       1.0  ...   \n",
              "118827             0.0       0.0                0.0       0.0       1.0  ...   \n",
              "294009             0.0       0.0                0.0       0.0       0.0  ...   \n",
              "\n",
              "        x5_seat  x5_skoda  x5_smart  x5_sonstige_autos  x5_subaru  x5_suzuki  \\\n",
              "210845      0.0       0.0       0.0                0.0        0.0        0.0   \n",
              "41422       0.0       0.0       0.0                0.0        0.0        0.0   \n",
              "73077       0.0       0.0       0.0                0.0        0.0        0.0   \n",
              "41608       0.0       0.0       0.0                0.0        0.0        0.0   \n",
              "1608        0.0       0.0       0.0                0.0        0.0        0.0   \n",
              "...         ...       ...       ...                ...        ...        ...   \n",
              "330350      0.0       0.0       0.0                0.0        0.0        0.0   \n",
              "97298       0.0       0.0       0.0                0.0        0.0        0.0   \n",
              "35494       0.0       0.0       0.0                0.0        0.0        0.0   \n",
              "118827      0.0       0.0       0.0                0.0        0.0        0.0   \n",
              "294009      0.0       0.0       0.0                0.0        0.0        0.0   \n",
              "\n",
              "        x5_toyota  x5_trabant  x5_volkswagen  x5_volvo  \n",
              "210845        0.0         0.0            0.0       0.0  \n",
              "41422         0.0         0.0            0.0       0.0  \n",
              "73077         0.0         0.0            1.0       0.0  \n",
              "41608         0.0         0.0            0.0       0.0  \n",
              "1608          1.0         0.0            0.0       0.0  \n",
              "...           ...         ...            ...       ...  \n",
              "330350        0.0         0.0            0.0       0.0  \n",
              "97298         0.0         0.0            1.0       0.0  \n",
              "35494         0.0         0.0            0.0       0.0  \n",
              "118827        0.0         0.0            0.0       0.0  \n",
              "294009        0.0         0.0            0.0       0.0  \n",
              "\n",
              "[54415 rows x 317 columns]"
            ]
          },
          "execution_count": 54,
          "metadata": {},
          "output_type": "execute_result"
        }
      ],
      "source": [
        "features_test"
      ]
    },
    {
      "cell_type": "markdown",
      "metadata": {
        "id": "ToUfo_4-gzIa"
      },
      "source": [
        "Данные содержали 16 столбцов и 354369 строк, в строках присутствовали пропуски. Т.к. все пропущенные данные являлись категорийными и восстановить их значения возможности не было - пропуски были заполнены категорией 'no information'.\n",
        "В целевом признаке содержалось большое количество значений равных 0. Также присутствовали очень маленькие значения 1, 2 и т.д. Т.к. нам необходимо научить модель прогнозировать цену были удалены все значения меньше 100.\n",
        "В данных с годом регистрации автомобиля присутствовали значения, которые нельзя идентифицировать с годом, они были удалены.\n",
        "В столбце Power присутствовало много строк со значением 0, также очень маленькие и неправдоподобно большие значения мощности. Для более корректного обучения были удалены все строки со значениями менее 10 и более 600.\n",
        "Были удалены столбцы -'DateCrawled', 'DateCreated', 'NumberOfPictures', 'PostalCode', 'LastSeen', которые не несут никакой информации для обучения. Данные были разбиты на обучающую, валидационную и тестовую выборки. Категориальные признаки были закодированы."
      ]
    },
    {
      "cell_type": "markdown",
      "metadata": {
        "id": "igni2XjGgzIa"
      },
      "source": [
        "## Обучение моделей"
      ]
    },
    {
      "cell_type": "markdown",
      "metadata": {
        "id": "7GosMUQdgzIb"
      },
      "source": [
        "**LGBMRegressor**"
      ]
    },
    {
      "cell_type": "code",
      "execution_count": null,
      "metadata": {
        "id": "g8YI6fGBgzIb",
        "outputId": "35f290c5-3d89-4e66-cbb7-07081edc3cff"
      },
      "outputs": [
        {
          "name": "stdout",
          "output_type": "stream",
          "text": [
            "RMSE 1572.5297863985313 , n_estimators = 650 , max_depth 12\n"
          ]
        }
      ],
      "source": [
        "estimators = [50, 150, 300, 650]\n",
        "best_model_lgbmr = None\n",
        "best_result_lgbmr = 2500\n",
        "n_estimators_lgbmr = 0\n",
        "max_depth_lgbmr = 0\n",
        "for est in estimators:\n",
        "    for depth in range(11, 16):\n",
        "        model_lgbmr = lgb.LGBMRegressor(n_estimators=est, max_depth=depth, random_state=12345)\n",
        "        model_lgbmr.fit(features_train, target_train, verbose=25)\n",
        "        predict_lgbmr = model_lgbmr.predict(features_valid)\n",
        "        result_lgbmr = mean_squared_error(target_valid, predict_lgbmr)**0.5\n",
        "        if result_lgbmr < best_result_lgbmr:\n",
        "            best_model_lgbmr = model_lgbmr\n",
        "            best_result_lgbmr = result_lgbmr\n",
        "            n_estimators_lgbmr = est\n",
        "            max_depth_lgbmr = depth\n",
        "print(\"RMSE\", best_result_lgbmr, ', n_estimators =', n_estimators_lgbmr, ', max_depth', max_depth_lgbmr)"
      ]
    },
    {
      "cell_type": "code",
      "execution_count": null,
      "metadata": {
        "id": "Q9YpAX3vgzIc",
        "outputId": "1e4dfd48-ce27-48af-987f-52714be5e6f0"
      },
      "outputs": [
        {
          "name": "stdout",
          "output_type": "stream",
          "text": [
            "время обучения 22.300128936767578\n",
            "время предсказания 2.5262386798858643\n",
            "RMSE 1572.5297863985313\n"
          ]
        }
      ],
      "source": [
        "start = time.time()\n",
        "model_lgbmr = lgb.LGBMRegressor(n_estimators=n_estimators_lgbmr, max_depth=max_depth_lgbmr, random_state=12345)\n",
        "model_lgbmr.fit(features_train, target_train, verbose=25)\n",
        "end = time.time()\n",
        "fit_time_lgbmr = end - start\n",
        "print('время обучения', fit_time_lgbmr)\n",
        "start2 = time.time()\n",
        "predict_lgbmr = model_lgbmr.predict(features_valid)\n",
        "end2 = time.time()\n",
        "predict_time_lgbmr = end2 - start2\n",
        "print('время предсказания', predict_time_lgbmr)\n",
        "rmse_lgbmr = mean_squared_error(target_valid, predict_lgbmr)**0.5\n",
        "print(\"RMSE\", rmse_lgbmr)"
      ]
    },
    {
      "cell_type": "markdown",
      "metadata": {
        "id": "BNQwAxxDgzIc"
      },
      "source": [
        "**CatBoostRegressor**"
      ]
    },
    {
      "cell_type": "code",
      "execution_count": null,
      "metadata": {
        "id": "mIbKrBzogzIc",
        "outputId": "c8e18839-f814-4707-a647-333fa8f10cb7"
      },
      "outputs": [
        {
          "name": "stdout",
          "output_type": "stream",
          "text": [
            "Learning rate set to 0.5\n",
            "0:\tlearn: 3148.4511651\ttotal: 88.6ms\tremaining: 4.34s\n",
            "49:\tlearn: 1564.0968476\ttotal: 1.49s\tremaining: 0us\n",
            "Learning rate set to 0.5\n",
            "0:\tlearn: 3107.6724790\ttotal: 47.1ms\tremaining: 2.31s\n",
            "49:\tlearn: 1538.6806779\ttotal: 2.27s\tremaining: 0us\n",
            "Learning rate set to 0.5\n",
            "0:\tlearn: 3088.8470918\ttotal: 62.9ms\tremaining: 3.08s\n",
            "49:\tlearn: 1512.7896250\ttotal: 2.96s\tremaining: 0us\n",
            "Learning rate set to 0.5\n",
            "0:\tlearn: 3081.9952343\ttotal: 81.7ms\tremaining: 4s\n",
            "49:\tlearn: 1477.2629573\ttotal: 4.13s\tremaining: 0us\n",
            "Learning rate set to 0.428199\n",
            "0:\tlearn: 3330.3733482\ttotal: 30.6ms\tremaining: 4.56s\n",
            "100:\tlearn: 1494.0830186\ttotal: 2.82s\tremaining: 1.37s\n",
            "149:\tlearn: 1439.3417493\ttotal: 4.19s\tremaining: 0us\n",
            "Learning rate set to 0.428199\n",
            "0:\tlearn: 3295.9151353\ttotal: 44.2ms\tremaining: 6.58s\n",
            "100:\tlearn: 1459.2489969\ttotal: 4.63s\tremaining: 2.25s\n",
            "149:\tlearn: 1400.4368259\ttotal: 6.83s\tremaining: 0us\n",
            "Learning rate set to 0.428199\n",
            "0:\tlearn: 3280.0529026\ttotal: 56ms\tremaining: 8.34s\n",
            "100:\tlearn: 1424.3892640\ttotal: 5.9s\tremaining: 2.86s\n",
            "149:\tlearn: 1360.0017324\ttotal: 8.72s\tremaining: 0us\n",
            "Learning rate set to 0.428199\n",
            "0:\tlearn: 3274.5982329\ttotal: 78.4ms\tremaining: 11.7s\n",
            "100:\tlearn: 1379.7405555\ttotal: 8.42s\tremaining: 4.08s\n",
            "149:\tlearn: 1313.8348737\ttotal: 12.5s\tremaining: 0us\n",
            "Learning rate set to 0.282672\n",
            "0:\tlearn: 3736.5382898\ttotal: 33.8ms\tremaining: 8.42s\n",
            "100:\tlearn: 1535.7841260\ttotal: 2.88s\tremaining: 4.25s\n",
            "200:\tlearn: 1449.0729359\ttotal: 5.65s\tremaining: 1.38s\n",
            "249:\tlearn: 1420.7796725\ttotal: 7.02s\tremaining: 0us\n",
            "Learning rate set to 0.282672\n",
            "0:\tlearn: 3714.5404420\ttotal: 42.8ms\tremaining: 10.7s\n",
            "100:\tlearn: 1505.5730454\ttotal: 4.53s\tremaining: 6.69s\n",
            "200:\tlearn: 1409.9539568\ttotal: 9.01s\tremaining: 2.2s\n",
            "249:\tlearn: 1377.8162481\ttotal: 11.2s\tremaining: 0us\n",
            "Learning rate set to 0.282672\n",
            "0:\tlearn: 3704.4638386\ttotal: 56.2ms\tremaining: 14s\n",
            "100:\tlearn: 1480.6843190\ttotal: 5.87s\tremaining: 8.65s\n",
            "200:\tlearn: 1373.1211330\ttotal: 11.7s\tremaining: 2.84s\n",
            "249:\tlearn: 1338.8546037\ttotal: 14.5s\tremaining: 0us\n",
            "Learning rate set to 0.282672\n",
            "0:\tlearn: 3701.3593204\ttotal: 81.6ms\tremaining: 20.3s\n",
            "100:\tlearn: 1447.8004615\ttotal: 8.23s\tremaining: 12.1s\n",
            "200:\tlearn: 1328.3876190\ttotal: 16.4s\tremaining: 3.99s\n",
            "249:\tlearn: 1290.8644525\ttotal: 20.4s\tremaining: 0us\n",
            "Learning rate set to 0.215021\n",
            "0:\tlearn: 3938.9825073\ttotal: 31ms\tremaining: 10.8s\n",
            "100:\tlearn: 1564.7484738\ttotal: 2.83s\tremaining: 6.98s\n",
            "200:\tlearn: 1476.9574436\ttotal: 5.6s\tremaining: 4.15s\n",
            "300:\tlearn: 1423.9361027\ttotal: 8.4s\tremaining: 1.37s\n",
            "349:\tlearn: 1403.4626852\ttotal: 9.76s\tremaining: 0us\n",
            "Learning rate set to 0.215021\n",
            "0:\tlearn: 3922.5302114\ttotal: 42.4ms\tremaining: 14.8s\n",
            "100:\tlearn: 1538.5647520\ttotal: 4.53s\tremaining: 11.2s\n",
            "200:\tlearn: 1446.6899933\ttotal: 9.13s\tremaining: 6.76s\n",
            "300:\tlearn: 1388.9763973\ttotal: 13.6s\tremaining: 2.22s\n",
            "349:\tlearn: 1368.2944044\ttotal: 15.9s\tremaining: 0us\n",
            "Learning rate set to 0.215021\n",
            "0:\tlearn: 3915.0083663\ttotal: 55.9ms\tremaining: 19.5s\n",
            "100:\tlearn: 1511.4820252\ttotal: 5.84s\tremaining: 14.4s\n",
            "200:\tlearn: 1410.5867076\ttotal: 11.7s\tremaining: 8.71s\n",
            "300:\tlearn: 1346.3145427\ttotal: 17.6s\tremaining: 2.86s\n",
            "349:\tlearn: 1321.6019999\ttotal: 20.4s\tremaining: 0us\n",
            "Learning rate set to 0.215021\n",
            "0:\tlearn: 3912.8017430\ttotal: 77ms\tremaining: 26.9s\n",
            "100:\tlearn: 1485.5685089\ttotal: 8.39s\tremaining: 20.7s\n",
            "200:\tlearn: 1376.9094974\ttotal: 16.5s\tremaining: 12.2s\n",
            "300:\tlearn: 1306.7578236\ttotal: 24.6s\tremaining: 4.01s\n",
            "349:\tlearn: 1279.9912762\ttotal: 28.6s\tremaining: 0us\n",
            "RMSE 1559.7212039048775 , iterations = 350 , depth 12\n"
          ]
        }
      ],
      "source": [
        "best_model_cb = None\n",
        "best_result_cb = 2500\n",
        "iterations = 0\n",
        "depth = 0\n",
        "for iteration in range(50, 351, 100):\n",
        "    for depth in range(9, 13):\n",
        "        model_cb = CatBoostRegressor(depth=depth, iterations=iteration, random_state=12345)\n",
        "        model_cb.fit(features_train, target_train, verbose=100)\n",
        "        predict_cb = model_cb.predict(features_valid)\n",
        "        result_cb = mean_squared_error(target_valid, predict_cb)**0.5\n",
        "        if result_cb < best_result_cb:\n",
        "            best_model_cb = model_cb\n",
        "            best_result_cb = result_cb\n",
        "            iterations = iteration\n",
        "            depth = depth\n",
        "print(\"RMSE\", best_result_cb, ', iterations =', iterations, ', depth', depth)"
      ]
    },
    {
      "cell_type": "code",
      "execution_count": null,
      "metadata": {
        "id": "2Kw4o1ukgzId",
        "outputId": "4ad43365-aee7-4fb4-f81e-2b1f5ef8dfc7"
      },
      "outputs": [
        {
          "name": "stdout",
          "output_type": "stream",
          "text": [
            "Learning rate set to 0.215021\n",
            "0:\tlearn: 3912.8017430\ttotal: 80ms\tremaining: 27.9s\n",
            "50:\tlearn: 1577.3762208\ttotal: 4.11s\tremaining: 24.1s\n",
            "100:\tlearn: 1485.5685089\ttotal: 8.15s\tremaining: 20.1s\n",
            "150:\tlearn: 1425.9598799\ttotal: 12.2s\tremaining: 16.1s\n",
            "200:\tlearn: 1376.9094974\ttotal: 16.3s\tremaining: 12.1s\n",
            "250:\tlearn: 1341.4307713\ttotal: 20.4s\tremaining: 8.04s\n",
            "300:\tlearn: 1306.7578236\ttotal: 24.5s\tremaining: 3.99s\n",
            "349:\tlearn: 1279.9912762\ttotal: 28.6s\tremaining: 0us\n",
            "время обучения 30.589542388916016\n",
            "время предсказания 0.11799836158752441\n",
            "RMSE: 1559.7212039048775\n"
          ]
        }
      ],
      "source": [
        "start = time.time()\n",
        "model_cb = CatBoostRegressor(depth=depth, iterations=iterations, random_state=12345)\n",
        "model_cb.fit(features_train, target_train, verbose=50)\n",
        "end = time.time()\n",
        "fit_time_cb = end - start\n",
        "print('время обучения', fit_time_cb)\n",
        "start2 = time.time()\n",
        "predict_cb = model_cb.predict(features_valid)\n",
        "end2 = time.time()\n",
        "predict_time_cb = end2 - start2\n",
        "print('время предсказания', predict_time_cb)\n",
        "rmse_cb = mean_squared_error(target_valid, predict_cb)**0.5\n",
        "print('RMSE:', rmse_cb)"
      ]
    },
    {
      "cell_type": "markdown",
      "metadata": {
        "id": "35-0ItpwgzId"
      },
      "source": [
        "**RandomForestRegressor**"
      ]
    },
    {
      "cell_type": "code",
      "execution_count": null,
      "metadata": {
        "id": "ik_rmeaegzId",
        "outputId": "a37563a7-db44-4b9f-af1a-bb00827b18be"
      },
      "outputs": [
        {
          "name": "stdout",
          "output_type": "stream",
          "text": [
            "RMSE 1679.9804184438353 , n_estimators = 50 , max_depth 16\n"
          ]
        }
      ],
      "source": [
        "best_model_rf = None\n",
        "best_result_rf = 2500\n",
        "n_estimators = 0\n",
        "max_depth = 0\n",
        "for est in range(30, 51, 10):\n",
        "    for depth in range(14, 17):\n",
        "        model_rf = RandomForestRegressor(random_state=12345, n_estimators=est,\n",
        "                                        max_depth=depth)\n",
        "        model_rf.fit(features_train, target_train)\n",
        "        predict_rf = model_rf.predict(features_valid)\n",
        "        result = mean_squared_error(target_valid, predict_rf)**0.5\n",
        "        if result < best_result_rf:\n",
        "            best_model_rf = model_rf\n",
        "            best_result_rf = result\n",
        "            n_estimators = est\n",
        "            max_depth = depth\n",
        "print(\"RMSE\", best_result_rf, ', n_estimators =', n_estimators, ', max_depth', max_depth)"
      ]
    },
    {
      "cell_type": "code",
      "execution_count": null,
      "metadata": {
        "id": "bwsvwPqtgzIe",
        "outputId": "504b676f-39fe-4956-df7a-8681935c4ea1"
      },
      "outputs": [
        {
          "name": "stdout",
          "output_type": "stream",
          "text": [
            "время обучения 92.32510900497437\n",
            "время предсказания 0.5732195377349854\n",
            "RMSE: 1679.9804184438353\n"
          ]
        }
      ],
      "source": [
        "start = time.time()\n",
        "model_rf = RandomForestRegressor(random_state=12345, n_estimators=n_estimators, max_depth=max_depth)\n",
        "model_rf.fit(features_train, target_train)\n",
        "end = time.time()\n",
        "fit_time_rf = end - start\n",
        "print('время обучения', fit_time_rf)\n",
        "start2 = time.time()\n",
        "predict_rf = model_rf.predict(features_valid)\n",
        "end2 = time.time()\n",
        "predict_time_rf = end2 - start2\n",
        "print('время предсказания', predict_time_rf)\n",
        "rmse_rf = mean_squared_error(target_valid, predict_rf)**0.5\n",
        "print('RMSE:', rmse_rf)"
      ]
    },
    {
      "cell_type": "markdown",
      "metadata": {
        "id": "9H7NXMgOgzIe"
      },
      "source": [
        "**LinearRegression**"
      ]
    },
    {
      "cell_type": "code",
      "execution_count": null,
      "metadata": {
        "id": "breMIB0cgzIe",
        "outputId": "1f0e7d2a-9e36-4806-b2c0-fbfccf9d933d"
      },
      "outputs": [
        {
          "name": "stdout",
          "output_type": "stream",
          "text": [
            "RMSE: 2582.488439684079\n"
          ]
        }
      ],
      "source": [
        "model_lr = LinearRegression()\n",
        "model_lr.fit(features_train, target_train)\n",
        "predict_lr = model_lr.predict(features_valid)\n",
        "print('RMSE:', mean_squared_error(target_valid, predict_lr)**0.5)"
      ]
    },
    {
      "cell_type": "markdown",
      "metadata": {
        "id": "VoshIVh2gzIf"
      },
      "source": [
        "У модели LinearRegression качество хуже рекомендованого, поэтому ее далее в анализе не будем использовать."
      ]
    },
    {
      "cell_type": "markdown",
      "metadata": {
        "id": "EyZxSXCygzIf"
      },
      "source": [
        "## Анализ моделей"
      ]
    },
    {
      "cell_type": "code",
      "execution_count": null,
      "metadata": {
        "id": "hbD9j_2rgzIf"
      },
      "outputs": [],
      "source": [
        "data = pd.DataFrame([['LGBMRegressor', rmse_lgbmr, fit_time_lgbmr, predict_time_lgbmr],\n",
        "                    ['CatBoostRegressor', rmse_cb, fit_time_cb, predict_time_cb],\n",
        "                    ['RandomForestRegressor',rmse_rf, fit_time_rf, predict_time_rf]],\n",
        "                    columns=['модель', 'rmse', 'время обучения', 'время предсказания'])"
      ]
    },
    {
      "cell_type": "code",
      "execution_count": null,
      "metadata": {
        "id": "l56tXVHJgzIf",
        "outputId": "a53a5706-ba22-4bef-e8ff-e1995b84a8ba"
      },
      "outputs": [
        {
          "data": {
            "text/html": [
              "<div>\n",
              "<style scoped>\n",
              "    .dataframe tbody tr th:only-of-type {\n",
              "        vertical-align: middle;\n",
              "    }\n",
              "\n",
              "    .dataframe tbody tr th {\n",
              "        vertical-align: top;\n",
              "    }\n",
              "\n",
              "    .dataframe thead th {\n",
              "        text-align: right;\n",
              "    }\n",
              "</style>\n",
              "<table border=\"1\" class=\"dataframe\">\n",
              "  <thead>\n",
              "    <tr style=\"text-align: right;\">\n",
              "      <th></th>\n",
              "      <th>модель</th>\n",
              "      <th>rmse</th>\n",
              "      <th>время обучения</th>\n",
              "      <th>время предсказания</th>\n",
              "    </tr>\n",
              "  </thead>\n",
              "  <tbody>\n",
              "    <tr>\n",
              "      <th>0</th>\n",
              "      <td>LGBMRegressor</td>\n",
              "      <td>1572.529786</td>\n",
              "      <td>22.300129</td>\n",
              "      <td>2.526239</td>\n",
              "    </tr>\n",
              "    <tr>\n",
              "      <th>1</th>\n",
              "      <td>CatBoostRegressor</td>\n",
              "      <td>1559.721204</td>\n",
              "      <td>30.589542</td>\n",
              "      <td>0.117998</td>\n",
              "    </tr>\n",
              "    <tr>\n",
              "      <th>2</th>\n",
              "      <td>RandomForestRegressor</td>\n",
              "      <td>1679.980418</td>\n",
              "      <td>92.325109</td>\n",
              "      <td>0.573220</td>\n",
              "    </tr>\n",
              "  </tbody>\n",
              "</table>\n",
              "</div>"
            ],
            "text/plain": [
              "                  модель         rmse  время обучения  время предсказания\n",
              "0          LGBMRegressor  1572.529786       22.300129            2.526239\n",
              "1      CatBoostRegressor  1559.721204       30.589542            0.117998\n",
              "2  RandomForestRegressor  1679.980418       92.325109            0.573220"
            ]
          },
          "execution_count": 63,
          "metadata": {},
          "output_type": "execute_result"
        }
      ],
      "source": [
        "data"
      ]
    },
    {
      "cell_type": "code",
      "execution_count": null,
      "metadata": {
        "id": "bHV5ke2RgzIg",
        "outputId": "920f3bd9-40c3-44be-a191-0504cc5babe8"
      },
      "outputs": [
        {
          "data": {
            "image/png": "[encoded data removed]",
            "text/plain": [
              "<Figure size 1080x720 with 1 Axes>"
            ]
          },
          "metadata": {
            "needs_background": "light"
          },
          "output_type": "display_data"
        }
      ],
      "source": [
        "data.plot.bar(x='модель', xlabel='модель', figsize=(15,10));"
      ]
    },
    {
      "cell_type": "markdown",
      "metadata": {
        "id": "nA11WrtigzIg"
      },
      "source": [
        "Лучшее время предсказания и точность результата у модели CatBoostRegressor, а время обучения лучше у LGBMRegressor. Т.к. стоит задача быстро прогнозировать рыночную стоимость автомобиля, то время предсказания и точность результата являются более значимыми параметрами, тем более, что разница во времени обучения у двух моделей не сильно отличается. Т.о. далее в качестве лучшей модели будет проверена на тестовой выборке CatBoostRegressor."
      ]
    },
    {
      "cell_type": "markdown",
      "metadata": {
        "id": "_E2h9d9kgzIh"
      },
      "source": [
        "**Проверка лучшей модели на тестовой выборке**"
      ]
    },
    {
      "cell_type": "code",
      "execution_count": null,
      "metadata": {
        "id": "4U9WT8mWgzIh",
        "outputId": "50a7787a-5bd2-4656-b62e-9c7bbdae7f5a"
      },
      "outputs": [
        {
          "name": "stdout",
          "output_type": "stream",
          "text": [
            "Learning rate set to 0.215021\n",
            "0:\tlearn: 3912.8017430\ttotal: 83.6ms\tremaining: 29.2s\n",
            "50:\tlearn: 1577.3762208\ttotal: 4.2s\tremaining: 24.6s\n",
            "100:\tlearn: 1485.5685089\ttotal: 8.43s\tremaining: 20.8s\n",
            "150:\tlearn: 1425.9598799\ttotal: 12.6s\tremaining: 16.6s\n",
            "200:\tlearn: 1376.9094974\ttotal: 16.7s\tremaining: 12.4s\n",
            "250:\tlearn: 1341.4307713\ttotal: 20.8s\tremaining: 8.21s\n",
            "300:\tlearn: 1306.7578236\ttotal: 24.8s\tremaining: 4.03s\n",
            "349:\tlearn: 1279.9912762\ttotal: 28.8s\tremaining: 0us\n",
            "время обучения 30.795867204666138\n",
            "время предсказания 0.11187934875488281\n",
            "RMSE: 1532.0861343847828\n"
          ]
        }
      ],
      "source": [
        "start = time.time()\n",
        "model_cb.fit(features_train, target_train, verbose=50)\n",
        "end = time.time()\n",
        "fit_time = end - start\n",
        "print('время обучения', fit_time)\n",
        "start2 = time.time()\n",
        "predict = model.predict(features_test)\n",
        "end2 = time.time()\n",
        "predict_time = end2 - start2\n",
        "print('время предсказания', predict_time)\n",
        "rmse = mean_squared_error(target_test, predict)**0.5\n",
        "print('RMSE:', rmse)"
      ]
    },
    {
      "cell_type": "markdown",
      "metadata": {
        "id": "dkV-o7j0gzIi"
      },
      "source": [
        "Для проекта были использованы исторические данные: технические характеристики, комплектации и цены автомобилей. В данных присутствовали пропуски, которые были заполнены категорией 'no information'.\n",
        "В целевом признаке содержалось большое количество значений равных 0. Также присутствовали очень маленькие значения 1, 2 и т.д., все значения меньше 100 были удалены.\n",
        "В данных с годом регистрации автомобиля присутствовали значения, которые нельзя идентифицировать с годом, они были удалены.\n",
        "В столбце Power присутствовало много строк со значением 0, также очень маленькие и неправдоподобно большие значения мощности,  все строки со значениями менее 10 и более 600 были удалены.\n",
        "Были удалены столбцы -'DateCrawled', 'DateCreated', 'NumberOfPictures', 'PostalCode', 'LastSeen'. Данные были разбиты на обучающую, валидационную и тестовую выборки. Категориальные признаки были закодированы.\n",
        "Были обучены модели LinearRegression, LGBMRegressor, CatBoostRegressor, RandomForestRegressor. Для определения качества моделей использовалась метрика RMSE. LinearRegression показала очень плохие значения метрики (ниже рекомендуемых) и более не рассматривалась. Результат  RandomForestRegressor RMSE: 1679.9804184438353 при n_estimators = 50 и max_depth 16.\n",
        "Лучшие показатели были получены у моделей LGBMRegressor при n_estimators=650, max_depth=12, время обучения 21.250996112823486,\n",
        "время предсказания 3.225551128387451, RMSE 1572.5297863985313 и CatBoostRegressor при depth=12, iterations=350, время обучения 38.728684425354004, время предсказания 0.16374874114990234, RMSE: 1559.7212039048775. Однако, рассматривая все показатели и  учитывая тот факт, что качество предсказания и время предсказания меньше у модели CatBoostRegressor, именно данная модель была проверена на тестовой выборке. Результаты проверки - время обучения 30.795867204666138, время предсказания 0.11187934875488281, RMSE: 1532.0861343847828.\n",
        "Т.о. заказчику для предсказания рыночной стоимости автомобиля можно рекомендовать модель CatBoostRegressor (depth=12, iterations=350)."
      ]
    },
    {
      "cell_type": "code",
      "execution_count": null,
      "metadata": {
        "id": "LU6FA8PUgzIj"
      },
      "outputs": [],
      "source": []
    }
  ],
  "metadata": {
    "ExecuteTimeLog": [
      {
        "duration": 44,
        "start_time": "2023-05-25T08:44:37.488Z"
      },
      {
        "duration": 1554,
        "start_time": "2023-05-25T08:44:46.539Z"
      },
      {
        "duration": 887,
        "start_time": "2023-05-25T08:44:48.095Z"
      },
      {
        "duration": 16,
        "start_time": "2023-05-25T08:45:48.003Z"
      },
      {
        "duration": 109,
        "start_time": "2023-05-25T08:46:29.163Z"
      },
      {
        "duration": 107,
        "start_time": "2023-05-25T08:47:03.915Z"
      },
      {
        "duration": 202,
        "start_time": "2023-05-25T08:47:33.552Z"
      },
      {
        "duration": 93,
        "start_time": "2023-05-25T08:47:50.230Z"
      },
      {
        "duration": 108,
        "start_time": "2023-05-25T08:50:03.098Z"
      },
      {
        "duration": 177,
        "start_time": "2023-05-25T08:50:37.788Z"
      },
      {
        "duration": 93,
        "start_time": "2023-05-25T08:50:54.020Z"
      },
      {
        "duration": 95,
        "start_time": "2023-05-25T08:52:26.494Z"
      },
      {
        "duration": 112,
        "start_time": "2023-05-25T08:52:46.456Z"
      },
      {
        "duration": 18,
        "start_time": "2023-05-25T09:47:31.124Z"
      },
      {
        "duration": 24,
        "start_time": "2023-05-25T09:49:26.137Z"
      },
      {
        "duration": 23,
        "start_time": "2023-05-25T09:50:02.583Z"
      },
      {
        "duration": 17,
        "start_time": "2023-05-25T09:50:54.811Z"
      },
      {
        "duration": 19,
        "start_time": "2023-05-25T09:51:28.560Z"
      },
      {
        "duration": 9,
        "start_time": "2023-05-25T09:55:29.199Z"
      },
      {
        "duration": 38,
        "start_time": "2023-05-25T09:56:06.002Z"
      },
      {
        "duration": 86,
        "start_time": "2023-05-25T09:57:08.501Z"
      },
      {
        "duration": 24,
        "start_time": "2023-05-25T09:59:13.454Z"
      },
      {
        "duration": 7,
        "start_time": "2023-05-25T10:00:24.577Z"
      },
      {
        "duration": 36,
        "start_time": "2023-05-25T10:00:59.365Z"
      },
      {
        "duration": 8,
        "start_time": "2023-05-25T10:01:34.162Z"
      },
      {
        "duration": 8,
        "start_time": "2023-05-25T10:02:05.830Z"
      },
      {
        "duration": 70,
        "start_time": "2023-05-25T10:04:33.447Z"
      },
      {
        "duration": 8,
        "start_time": "2023-05-25T10:04:55.619Z"
      },
      {
        "duration": 62,
        "start_time": "2023-05-25T10:05:08.580Z"
      },
      {
        "duration": 508,
        "start_time": "2023-05-25T10:11:04.925Z"
      },
      {
        "duration": 406,
        "start_time": "2023-05-25T10:11:49.300Z"
      },
      {
        "duration": 30,
        "start_time": "2023-05-25T10:12:08.065Z"
      },
      {
        "duration": 29,
        "start_time": "2023-05-25T10:12:27.972Z"
      },
      {
        "duration": 29,
        "start_time": "2023-05-25T10:12:57.503Z"
      },
      {
        "duration": 82,
        "start_time": "2023-05-25T10:14:52.815Z"
      },
      {
        "duration": 18,
        "start_time": "2023-05-25T10:14:58.709Z"
      },
      {
        "duration": 14,
        "start_time": "2023-05-25T10:15:23.278Z"
      },
      {
        "duration": 12,
        "start_time": "2023-05-25T10:15:39.209Z"
      },
      {
        "duration": 11,
        "start_time": "2023-05-25T10:15:51.419Z"
      },
      {
        "duration": 24,
        "start_time": "2023-05-25T10:16:00.061Z"
      },
      {
        "duration": 21,
        "start_time": "2023-05-25T10:16:47.870Z"
      },
      {
        "duration": 30,
        "start_time": "2023-05-25T10:17:24.272Z"
      },
      {
        "duration": 39,
        "start_time": "2023-05-25T10:18:43.026Z"
      },
      {
        "duration": 37,
        "start_time": "2023-05-25T10:20:22.095Z"
      },
      {
        "duration": 20,
        "start_time": "2023-05-25T10:20:33.517Z"
      },
      {
        "duration": 8,
        "start_time": "2023-05-25T10:21:04.530Z"
      },
      {
        "duration": 3,
        "start_time": "2023-05-25T10:21:14.324Z"
      },
      {
        "duration": 692,
        "start_time": "2023-05-25T10:21:14.328Z"
      },
      {
        "duration": 11,
        "start_time": "2023-05-25T10:21:15.022Z"
      },
      {
        "duration": 128,
        "start_time": "2023-05-25T10:21:15.034Z"
      },
      {
        "duration": 100,
        "start_time": "2023-05-25T10:21:15.163Z"
      },
      {
        "duration": 23,
        "start_time": "2023-05-25T10:21:15.265Z"
      },
      {
        "duration": 23,
        "start_time": "2023-05-25T10:21:15.290Z"
      },
      {
        "duration": 32,
        "start_time": "2023-05-25T10:21:15.314Z"
      },
      {
        "duration": 19,
        "start_time": "2023-05-25T10:21:15.347Z"
      },
      {
        "duration": 25,
        "start_time": "2023-05-25T10:21:15.368Z"
      },
      {
        "duration": 93,
        "start_time": "2023-05-25T10:21:15.395Z"
      },
      {
        "duration": 31,
        "start_time": "2023-05-25T10:21:15.489Z"
      },
      {
        "duration": 24,
        "start_time": "2023-05-25T10:21:15.521Z"
      },
      {
        "duration": 42,
        "start_time": "2023-05-25T10:21:15.547Z"
      },
      {
        "duration": 18,
        "start_time": "2023-05-25T10:21:15.590Z"
      },
      {
        "duration": 8,
        "start_time": "2023-05-25T10:21:43.974Z"
      },
      {
        "duration": 4,
        "start_time": "2023-05-25T10:22:51.053Z"
      },
      {
        "duration": 3,
        "start_time": "2023-05-25T10:23:21.935Z"
      },
      {
        "duration": 690,
        "start_time": "2023-05-25T10:23:21.940Z"
      },
      {
        "duration": 11,
        "start_time": "2023-05-25T10:23:22.632Z"
      },
      {
        "duration": 129,
        "start_time": "2023-05-25T10:23:22.645Z"
      },
      {
        "duration": 120,
        "start_time": "2023-05-25T10:23:22.777Z"
      },
      {
        "duration": 22,
        "start_time": "2023-05-25T10:23:22.898Z"
      },
      {
        "duration": 36,
        "start_time": "2023-05-25T10:23:22.921Z"
      },
      {
        "duration": 26,
        "start_time": "2023-05-25T10:23:22.959Z"
      },
      {
        "duration": 19,
        "start_time": "2023-05-25T10:23:22.987Z"
      },
      {
        "duration": 24,
        "start_time": "2023-05-25T10:23:23.007Z"
      },
      {
        "duration": 88,
        "start_time": "2023-05-25T10:23:23.033Z"
      },
      {
        "duration": 30,
        "start_time": "2023-05-25T10:23:23.122Z"
      },
      {
        "duration": 37,
        "start_time": "2023-05-25T10:23:23.154Z"
      },
      {
        "duration": 2,
        "start_time": "2023-05-25T10:23:23.193Z"
      },
      {
        "duration": 22,
        "start_time": "2023-05-25T10:23:23.196Z"
      },
      {
        "duration": 3,
        "start_time": "2023-05-25T10:23:23.219Z"
      },
      {
        "duration": 24,
        "start_time": "2023-05-25T10:23:46.094Z"
      },
      {
        "duration": 84,
        "start_time": "2023-05-25T10:24:37.352Z"
      },
      {
        "duration": 19,
        "start_time": "2023-05-25T10:24:38.670Z"
      },
      {
        "duration": 26,
        "start_time": "2023-05-25T10:24:58.414Z"
      },
      {
        "duration": 28,
        "start_time": "2023-05-25T10:25:12.143Z"
      },
      {
        "duration": 19,
        "start_time": "2023-05-25T10:25:16.124Z"
      },
      {
        "duration": 4,
        "start_time": "2023-05-25T10:25:36.167Z"
      },
      {
        "duration": 133,
        "start_time": "2023-05-25T10:26:06.155Z"
      },
      {
        "duration": 8,
        "start_time": "2023-05-25T10:28:58.897Z"
      },
      {
        "duration": 50,
        "start_time": "2023-05-25T13:49:10.411Z"
      },
      {
        "duration": 6,
        "start_time": "2023-05-25T13:50:19.653Z"
      },
      {
        "duration": 1524,
        "start_time": "2023-05-25T13:50:25.143Z"
      },
      {
        "duration": 987,
        "start_time": "2023-05-25T13:50:26.669Z"
      },
      {
        "duration": 17,
        "start_time": "2023-05-25T13:50:27.657Z"
      },
      {
        "duration": 116,
        "start_time": "2023-05-25T13:50:27.676Z"
      },
      {
        "duration": 124,
        "start_time": "2023-05-25T13:50:27.794Z"
      },
      {
        "duration": 19,
        "start_time": "2023-05-25T13:50:27.919Z"
      },
      {
        "duration": 30,
        "start_time": "2023-05-25T13:50:27.939Z"
      },
      {
        "duration": 34,
        "start_time": "2023-05-25T13:50:27.971Z"
      },
      {
        "duration": 25,
        "start_time": "2023-05-25T13:50:28.006Z"
      },
      {
        "duration": 61,
        "start_time": "2023-05-25T13:50:28.033Z"
      },
      {
        "duration": 140,
        "start_time": "2023-05-25T13:50:28.095Z"
      },
      {
        "duration": 38,
        "start_time": "2023-05-25T13:50:28.237Z"
      },
      {
        "duration": 23,
        "start_time": "2023-05-25T13:50:28.277Z"
      },
      {
        "duration": 51,
        "start_time": "2023-05-25T13:50:28.301Z"
      },
      {
        "duration": 18,
        "start_time": "2023-05-25T13:50:28.354Z"
      },
      {
        "duration": 47,
        "start_time": "2023-05-25T13:50:28.374Z"
      },
      {
        "duration": 106,
        "start_time": "2023-05-25T13:50:28.423Z"
      },
      {
        "duration": 26,
        "start_time": "2023-05-25T13:55:38.674Z"
      },
      {
        "duration": 44,
        "start_time": "2023-05-25T14:00:41.257Z"
      },
      {
        "duration": 1161,
        "start_time": "2023-05-25T14:00:51.454Z"
      },
      {
        "duration": 15,
        "start_time": "2023-05-25T14:04:24.901Z"
      },
      {
        "duration": 14,
        "start_time": "2023-05-25T14:05:59.540Z"
      },
      {
        "duration": 14,
        "start_time": "2023-05-25T14:06:33.986Z"
      },
      {
        "duration": 523,
        "start_time": "2023-05-25T14:07:27.511Z"
      },
      {
        "duration": 41,
        "start_time": "2023-05-25T14:08:31.976Z"
      },
      {
        "duration": 404,
        "start_time": "2023-05-25T14:11:14.460Z"
      },
      {
        "duration": 332,
        "start_time": "2023-05-25T14:11:29.289Z"
      },
      {
        "duration": 351,
        "start_time": "2023-05-25T14:13:29.754Z"
      },
      {
        "duration": 348,
        "start_time": "2023-05-25T14:13:55.418Z"
      },
      {
        "duration": 401,
        "start_time": "2023-05-25T14:15:50.576Z"
      },
      {
        "duration": 405,
        "start_time": "2023-05-25T14:17:47.215Z"
      },
      {
        "duration": 9,
        "start_time": "2023-05-25T14:18:09.200Z"
      },
      {
        "duration": 451,
        "start_time": "2023-05-25T14:19:04.478Z"
      },
      {
        "duration": 387,
        "start_time": "2023-05-25T14:20:00.257Z"
      },
      {
        "duration": 386,
        "start_time": "2023-05-25T14:20:18.189Z"
      },
      {
        "duration": 365,
        "start_time": "2023-05-25T14:20:20.304Z"
      },
      {
        "duration": 98,
        "start_time": "2023-05-25T14:20:29.011Z"
      },
      {
        "duration": 22,
        "start_time": "2023-05-25T14:25:19.347Z"
      },
      {
        "duration": 101,
        "start_time": "2023-05-25T14:49:15.226Z"
      },
      {
        "duration": 93,
        "start_time": "2023-05-25T14:49:28.090Z"
      },
      {
        "duration": 99,
        "start_time": "2023-05-25T14:49:37.675Z"
      },
      {
        "duration": 108,
        "start_time": "2023-05-25T14:50:01.973Z"
      },
      {
        "duration": 99,
        "start_time": "2023-05-25T14:50:11.028Z"
      },
      {
        "duration": 21,
        "start_time": "2023-05-25T15:24:33.804Z"
      },
      {
        "duration": 20,
        "start_time": "2023-05-25T15:27:59.130Z"
      },
      {
        "duration": 21,
        "start_time": "2023-05-25T15:31:48.515Z"
      },
      {
        "duration": 21,
        "start_time": "2023-05-25T15:38:36.976Z"
      },
      {
        "duration": 21,
        "start_time": "2023-05-25T15:39:23.012Z"
      },
      {
        "duration": 14,
        "start_time": "2023-05-25T15:40:23.488Z"
      },
      {
        "duration": 12,
        "start_time": "2023-05-25T15:41:44.901Z"
      },
      {
        "duration": 21,
        "start_time": "2023-05-25T15:42:10.023Z"
      },
      {
        "duration": 22,
        "start_time": "2023-05-25T15:42:58.476Z"
      },
      {
        "duration": 13,
        "start_time": "2023-05-25T15:44:35.626Z"
      },
      {
        "duration": 11,
        "start_time": "2023-05-25T15:45:25.243Z"
      },
      {
        "duration": 8,
        "start_time": "2023-05-25T15:45:38.584Z"
      },
      {
        "duration": 13,
        "start_time": "2023-05-25T15:45:48.644Z"
      },
      {
        "duration": 12,
        "start_time": "2023-05-25T15:46:47.599Z"
      },
      {
        "duration": 11,
        "start_time": "2023-05-25T15:48:21.710Z"
      },
      {
        "duration": 8,
        "start_time": "2023-05-25T15:49:47.605Z"
      },
      {
        "duration": 12,
        "start_time": "2023-05-25T15:49:55.784Z"
      },
      {
        "duration": 10,
        "start_time": "2023-05-25T15:50:16.292Z"
      },
      {
        "duration": 14,
        "start_time": "2023-05-25T15:50:26.896Z"
      },
      {
        "duration": 11,
        "start_time": "2023-05-25T15:50:56.621Z"
      },
      {
        "duration": 20,
        "start_time": "2023-05-25T15:51:22.622Z"
      },
      {
        "duration": 24,
        "start_time": "2023-05-25T15:52:41.274Z"
      },
      {
        "duration": 22,
        "start_time": "2023-05-25T15:53:38.320Z"
      },
      {
        "duration": 25,
        "start_time": "2023-05-25T15:58:04.816Z"
      },
      {
        "duration": 5,
        "start_time": "2023-05-25T15:59:45.432Z"
      },
      {
        "duration": 9,
        "start_time": "2023-05-25T16:01:29.540Z"
      },
      {
        "duration": 4,
        "start_time": "2023-05-25T16:02:25.425Z"
      },
      {
        "duration": 7,
        "start_time": "2023-05-25T16:03:36.303Z"
      },
      {
        "duration": 5,
        "start_time": "2023-05-25T16:03:52.340Z"
      },
      {
        "duration": 4,
        "start_time": "2023-05-25T16:05:18.499Z"
      },
      {
        "duration": 9,
        "start_time": "2023-05-25T16:05:29.488Z"
      },
      {
        "duration": 10,
        "start_time": "2023-05-25T16:05:48.848Z"
      },
      {
        "duration": 4,
        "start_time": "2023-05-25T16:07:23.632Z"
      },
      {
        "duration": 7,
        "start_time": "2023-05-25T16:08:52.780Z"
      },
      {
        "duration": 151,
        "start_time": "2023-05-25T16:21:08.958Z"
      },
      {
        "duration": 101,
        "start_time": "2023-05-25T16:21:41.193Z"
      },
      {
        "duration": 150,
        "start_time": "2023-05-25T16:21:55.480Z"
      },
      {
        "duration": 103,
        "start_time": "2023-05-25T16:21:57.217Z"
      },
      {
        "duration": 107,
        "start_time": "2023-05-25T16:29:47.294Z"
      },
      {
        "duration": 543,
        "start_time": "2023-05-25T16:30:35.867Z"
      },
      {
        "duration": 1281,
        "start_time": "2023-05-25T16:32:58.820Z"
      },
      {
        "duration": 837,
        "start_time": "2023-05-25T16:33:00.103Z"
      },
      {
        "duration": 17,
        "start_time": "2023-05-25T16:33:00.941Z"
      },
      {
        "duration": 148,
        "start_time": "2023-05-25T16:33:00.960Z"
      },
      {
        "duration": 447,
        "start_time": "2023-05-25T16:33:01.110Z"
      },
      {
        "duration": 474,
        "start_time": "2023-05-25T16:33:01.559Z"
      },
      {
        "duration": 120,
        "start_time": "2023-05-25T16:33:02.035Z"
      },
      {
        "duration": 39,
        "start_time": "2023-05-25T16:33:02.157Z"
      },
      {
        "duration": 35,
        "start_time": "2023-05-25T16:33:02.198Z"
      },
      {
        "duration": 28,
        "start_time": "2023-05-25T16:33:02.235Z"
      },
      {
        "duration": 24,
        "start_time": "2023-05-25T16:33:02.265Z"
      },
      {
        "duration": 21,
        "start_time": "2023-05-25T16:33:02.290Z"
      },
      {
        "duration": 169,
        "start_time": "2023-05-25T16:33:02.325Z"
      },
      {
        "duration": 127,
        "start_time": "2023-05-25T16:33:02.496Z"
      },
      {
        "duration": 207,
        "start_time": "2023-05-25T16:33:02.624Z"
      },
      {
        "duration": 2,
        "start_time": "2023-05-25T16:33:02.833Z"
      },
      {
        "duration": 42,
        "start_time": "2023-05-25T16:33:02.836Z"
      },
      {
        "duration": 49,
        "start_time": "2023-05-25T16:33:02.879Z"
      },
      {
        "duration": 107,
        "start_time": "2023-05-25T16:33:02.930Z"
      },
      {
        "duration": 33,
        "start_time": "2023-05-25T16:33:03.039Z"
      },
      {
        "duration": 23,
        "start_time": "2023-05-25T16:33:03.074Z"
      },
      {
        "duration": 64,
        "start_time": "2023-05-25T16:33:03.099Z"
      },
      {
        "duration": 30,
        "start_time": "2023-05-25T16:33:03.165Z"
      },
      {
        "duration": 47,
        "start_time": "2023-05-25T16:33:03.196Z"
      },
      {
        "duration": 110,
        "start_time": "2023-05-25T16:33:03.245Z"
      },
      {
        "duration": 118,
        "start_time": "2023-05-25T16:33:03.357Z"
      },
      {
        "duration": 7,
        "start_time": "2023-05-25T16:33:03.476Z"
      },
      {
        "duration": 116,
        "start_time": "2023-05-25T17:59:28.352Z"
      },
      {
        "duration": 11,
        "start_time": "2023-05-25T18:00:35.358Z"
      },
      {
        "duration": 13,
        "start_time": "2023-05-25T18:04:50.221Z"
      },
      {
        "duration": 31,
        "start_time": "2023-05-25T18:06:10.976Z"
      },
      {
        "duration": 157,
        "start_time": "2023-05-25T18:06:48.750Z"
      },
      {
        "duration": 5,
        "start_time": "2023-05-25T18:07:23.345Z"
      },
      {
        "duration": 789,
        "start_time": "2023-05-25T18:07:23.352Z"
      },
      {
        "duration": 14,
        "start_time": "2023-05-25T18:07:24.142Z"
      },
      {
        "duration": 120,
        "start_time": "2023-05-25T18:07:24.159Z"
      },
      {
        "duration": 394,
        "start_time": "2023-05-25T18:07:24.281Z"
      },
      {
        "duration": 411,
        "start_time": "2023-05-25T18:07:24.677Z"
      },
      {
        "duration": 113,
        "start_time": "2023-05-25T18:07:25.090Z"
      },
      {
        "duration": 42,
        "start_time": "2023-05-25T18:07:25.204Z"
      },
      {
        "duration": 38,
        "start_time": "2023-05-25T18:07:25.249Z"
      },
      {
        "duration": 46,
        "start_time": "2023-05-25T18:07:25.288Z"
      },
      {
        "duration": 51,
        "start_time": "2023-05-25T18:07:25.336Z"
      },
      {
        "duration": 32,
        "start_time": "2023-05-25T18:07:25.389Z"
      },
      {
        "duration": 177,
        "start_time": "2023-05-25T18:07:25.422Z"
      },
      {
        "duration": 109,
        "start_time": "2023-05-25T18:07:25.601Z"
      },
      {
        "duration": 142,
        "start_time": "2023-05-25T18:07:25.717Z"
      },
      {
        "duration": 158,
        "start_time": "2023-05-25T18:07:25.861Z"
      },
      {
        "duration": 26,
        "start_time": "2023-05-25T18:07:26.021Z"
      },
      {
        "duration": 49,
        "start_time": "2023-05-25T18:07:26.048Z"
      },
      {
        "duration": 124,
        "start_time": "2023-05-25T18:07:26.099Z"
      },
      {
        "duration": 44,
        "start_time": "2023-05-25T18:07:26.225Z"
      },
      {
        "duration": 23,
        "start_time": "2023-05-25T18:07:26.271Z"
      },
      {
        "duration": 49,
        "start_time": "2023-05-25T18:07:26.296Z"
      },
      {
        "duration": 27,
        "start_time": "2023-05-25T18:07:26.347Z"
      },
      {
        "duration": 39,
        "start_time": "2023-05-25T18:07:26.378Z"
      },
      {
        "duration": 107,
        "start_time": "2023-05-25T18:07:26.419Z"
      },
      {
        "duration": 106,
        "start_time": "2023-05-25T18:07:26.527Z"
      },
      {
        "duration": 6,
        "start_time": "2023-05-25T18:07:26.635Z"
      },
      {
        "duration": 130,
        "start_time": "2023-05-25T18:12:06.102Z"
      },
      {
        "duration": 119,
        "start_time": "2023-05-25T18:14:34.301Z"
      },
      {
        "duration": 180,
        "start_time": "2023-05-25T18:14:59.373Z"
      },
      {
        "duration": 125,
        "start_time": "2023-05-25T18:15:19.217Z"
      },
      {
        "duration": 10,
        "start_time": "2023-05-25T18:16:11.850Z"
      },
      {
        "duration": 119,
        "start_time": "2023-05-25T18:16:23.805Z"
      },
      {
        "duration": 515,
        "start_time": "2023-05-25T18:17:14.798Z"
      },
      {
        "duration": 262,
        "start_time": "2023-05-25T18:17:29.138Z"
      },
      {
        "duration": 142,
        "start_time": "2023-05-25T18:17:46.346Z"
      },
      {
        "duration": 158,
        "start_time": "2023-05-25T18:18:01.748Z"
      },
      {
        "duration": 176,
        "start_time": "2023-05-25T18:18:28.423Z"
      },
      {
        "duration": 194,
        "start_time": "2023-05-25T18:18:47.615Z"
      },
      {
        "duration": 172,
        "start_time": "2023-05-25T18:19:43.054Z"
      },
      {
        "duration": 177,
        "start_time": "2023-05-25T18:19:56.696Z"
      },
      {
        "duration": 179,
        "start_time": "2023-05-25T18:20:23.084Z"
      },
      {
        "duration": 4,
        "start_time": "2023-05-25T18:20:51.478Z"
      },
      {
        "duration": 746,
        "start_time": "2023-05-25T18:20:51.483Z"
      },
      {
        "duration": 12,
        "start_time": "2023-05-25T18:20:52.230Z"
      },
      {
        "duration": 124,
        "start_time": "2023-05-25T18:20:52.243Z"
      },
      {
        "duration": 355,
        "start_time": "2023-05-25T18:20:52.369Z"
      },
      {
        "duration": 377,
        "start_time": "2023-05-25T18:20:52.729Z"
      },
      {
        "duration": 122,
        "start_time": "2023-05-25T18:20:53.108Z"
      },
      {
        "duration": 19,
        "start_time": "2023-05-25T18:20:53.232Z"
      },
      {
        "duration": 28,
        "start_time": "2023-05-25T18:20:53.253Z"
      },
      {
        "duration": 23,
        "start_time": "2023-05-25T18:20:53.282Z"
      },
      {
        "duration": 46,
        "start_time": "2023-05-25T18:20:53.307Z"
      },
      {
        "duration": 23,
        "start_time": "2023-05-25T18:20:53.354Z"
      },
      {
        "duration": 160,
        "start_time": "2023-05-25T18:20:53.378Z"
      },
      {
        "duration": 117,
        "start_time": "2023-05-25T18:20:53.541Z"
      },
      {
        "duration": 170,
        "start_time": "2023-05-25T18:20:53.660Z"
      },
      {
        "duration": 203,
        "start_time": "2023-05-25T18:20:53.831Z"
      },
      {
        "duration": 198,
        "start_time": "2023-05-25T18:20:54.036Z"
      },
      {
        "duration": 25,
        "start_time": "2023-05-25T18:20:54.236Z"
      },
      {
        "duration": 6,
        "start_time": "2023-05-25T18:20:54.263Z"
      },
      {
        "duration": 125,
        "start_time": "2023-05-25T18:20:54.270Z"
      },
      {
        "duration": 36,
        "start_time": "2023-05-25T18:20:54.397Z"
      },
      {
        "duration": 25,
        "start_time": "2023-05-25T18:20:54.434Z"
      },
      {
        "duration": 43,
        "start_time": "2023-05-25T18:20:54.460Z"
      },
      {
        "duration": 41,
        "start_time": "2023-05-25T18:20:54.528Z"
      },
      {
        "duration": 23,
        "start_time": "2023-05-25T18:20:54.571Z"
      },
      {
        "duration": 160,
        "start_time": "2023-05-25T18:20:54.596Z"
      },
      {
        "duration": 113,
        "start_time": "2023-05-25T18:20:54.757Z"
      },
      {
        "duration": 6,
        "start_time": "2023-05-25T18:20:54.871Z"
      },
      {
        "duration": 215,
        "start_time": "2023-05-25T18:21:36.468Z"
      },
      {
        "duration": 266,
        "start_time": "2023-05-25T18:22:16.152Z"
      },
      {
        "duration": 222,
        "start_time": "2023-05-25T18:22:31.693Z"
      },
      {
        "duration": 223,
        "start_time": "2023-05-25T18:22:57.474Z"
      },
      {
        "duration": 25,
        "start_time": "2023-05-25T18:23:55.543Z"
      },
      {
        "duration": 7,
        "start_time": "2023-05-25T18:33:44.259Z"
      },
      {
        "duration": 21,
        "start_time": "2023-05-25T18:35:48.485Z"
      },
      {
        "duration": 46,
        "start_time": "2023-05-25T18:36:44.313Z"
      },
      {
        "duration": 8,
        "start_time": "2023-05-25T18:37:10.578Z"
      },
      {
        "duration": 61,
        "start_time": "2023-05-25T18:37:19.122Z"
      },
      {
        "duration": 14,
        "start_time": "2023-05-25T18:37:19.884Z"
      },
      {
        "duration": 63,
        "start_time": "2023-05-25T18:37:37.247Z"
      },
      {
        "duration": 1293,
        "start_time": "2023-05-25T18:37:38.080Z"
      },
      {
        "duration": 60,
        "start_time": "2023-05-25T18:39:06.448Z"
      },
      {
        "duration": 34,
        "start_time": "2023-05-25T18:41:43.337Z"
      },
      {
        "duration": 4,
        "start_time": "2023-05-25T18:43:51.661Z"
      },
      {
        "duration": 1152,
        "start_time": "2023-05-25T18:43:51.668Z"
      },
      {
        "duration": 21,
        "start_time": "2023-05-25T18:43:52.822Z"
      },
      {
        "duration": 294,
        "start_time": "2023-05-25T18:43:52.845Z"
      },
      {
        "duration": 605,
        "start_time": "2023-05-25T18:43:53.142Z"
      },
      {
        "duration": 492,
        "start_time": "2023-05-25T18:43:53.750Z"
      },
      {
        "duration": 167,
        "start_time": "2023-05-25T18:43:54.246Z"
      },
      {
        "duration": 53,
        "start_time": "2023-05-25T18:43:54.414Z"
      },
      {
        "duration": 43,
        "start_time": "2023-05-25T18:43:54.471Z"
      },
      {
        "duration": 86,
        "start_time": "2023-05-25T18:43:54.516Z"
      },
      {
        "duration": 99,
        "start_time": "2023-05-25T18:43:54.604Z"
      },
      {
        "duration": 49,
        "start_time": "2023-05-25T18:43:54.706Z"
      },
      {
        "duration": 317,
        "start_time": "2023-05-25T18:43:54.758Z"
      },
      {
        "duration": 194,
        "start_time": "2023-05-25T18:43:55.079Z"
      },
      {
        "duration": 160,
        "start_time": "2023-05-25T18:43:55.275Z"
      },
      {
        "duration": 230,
        "start_time": "2023-05-25T18:43:55.436Z"
      },
      {
        "duration": 300,
        "start_time": "2023-05-25T18:43:55.668Z"
      },
      {
        "duration": 29,
        "start_time": "2023-05-25T18:43:55.969Z"
      },
      {
        "duration": 52,
        "start_time": "2023-05-25T18:43:55.999Z"
      },
      {
        "duration": 8,
        "start_time": "2023-05-25T18:43:56.057Z"
      },
      {
        "duration": 24,
        "start_time": "2023-05-25T18:43:56.067Z"
      },
      {
        "duration": 79,
        "start_time": "2023-05-25T18:43:56.092Z"
      },
      {
        "duration": 39,
        "start_time": "2023-05-25T18:43:56.173Z"
      },
      {
        "duration": 67,
        "start_time": "2023-05-25T18:43:56.214Z"
      },
      {
        "duration": 162,
        "start_time": "2023-05-25T18:43:56.283Z"
      },
      {
        "duration": 56,
        "start_time": "2023-05-25T18:43:56.447Z"
      },
      {
        "duration": 43,
        "start_time": "2023-05-25T18:43:56.505Z"
      },
      {
        "duration": 24,
        "start_time": "2023-05-25T18:43:56.550Z"
      },
      {
        "duration": 129,
        "start_time": "2023-05-25T18:43:56.576Z"
      },
      {
        "duration": 135,
        "start_time": "2023-05-25T18:43:56.706Z"
      },
      {
        "duration": 23,
        "start_time": "2023-05-25T18:43:56.842Z"
      },
      {
        "duration": 5,
        "start_time": "2023-05-25T18:45:47.478Z"
      },
      {
        "duration": 70,
        "start_time": "2023-05-25T18:48:18.510Z"
      },
      {
        "duration": 19,
        "start_time": "2023-05-25T18:48:58.327Z"
      },
      {
        "duration": 64,
        "start_time": "2023-05-25T18:49:13.305Z"
      },
      {
        "duration": 58,
        "start_time": "2023-05-25T18:49:38.197Z"
      },
      {
        "duration": 10,
        "start_time": "2023-05-25T18:49:47.412Z"
      },
      {
        "duration": 21,
        "start_time": "2023-05-25T18:50:11.536Z"
      },
      {
        "duration": 4,
        "start_time": "2023-05-25T18:50:47.913Z"
      },
      {
        "duration": 5,
        "start_time": "2023-05-25T18:51:06.935Z"
      },
      {
        "duration": 17,
        "start_time": "2023-05-25T18:57:04.653Z"
      },
      {
        "duration": 114,
        "start_time": "2023-05-25T18:59:01.456Z"
      },
      {
        "duration": 1679,
        "start_time": "2023-05-26T07:43:05.725Z"
      },
      {
        "duration": 3489,
        "start_time": "2023-05-26T07:43:07.406Z"
      },
      {
        "duration": 20,
        "start_time": "2023-05-26T07:43:10.897Z"
      },
      {
        "duration": 143,
        "start_time": "2023-05-26T07:43:10.918Z"
      },
      {
        "duration": 530,
        "start_time": "2023-05-26T07:43:11.063Z"
      },
      {
        "duration": 557,
        "start_time": "2023-05-26T07:43:11.596Z"
      },
      {
        "duration": 142,
        "start_time": "2023-05-26T07:43:12.155Z"
      },
      {
        "duration": 139,
        "start_time": "2023-05-26T07:43:12.299Z"
      },
      {
        "duration": 42,
        "start_time": "2023-05-26T07:43:12.439Z"
      },
      {
        "duration": 34,
        "start_time": "2023-05-26T07:43:12.482Z"
      },
      {
        "duration": 26,
        "start_time": "2023-05-26T07:43:12.519Z"
      },
      {
        "duration": 45,
        "start_time": "2023-05-26T07:43:12.547Z"
      },
      {
        "duration": 40,
        "start_time": "2023-05-26T07:43:12.594Z"
      },
      {
        "duration": 230,
        "start_time": "2023-05-26T07:43:12.638Z"
      },
      {
        "duration": 172,
        "start_time": "2023-05-26T07:43:12.869Z"
      },
      {
        "duration": 203,
        "start_time": "2023-05-26T07:43:13.043Z"
      },
      {
        "duration": 224,
        "start_time": "2023-05-26T07:43:13.248Z"
      },
      {
        "duration": 248,
        "start_time": "2023-05-26T07:43:13.480Z"
      },
      {
        "duration": 29,
        "start_time": "2023-05-26T07:43:13.729Z"
      },
      {
        "duration": 76,
        "start_time": "2023-05-26T07:43:13.759Z"
      },
      {
        "duration": 7,
        "start_time": "2023-05-26T07:43:13.837Z"
      },
      {
        "duration": 53,
        "start_time": "2023-05-26T07:43:13.846Z"
      },
      {
        "duration": 60,
        "start_time": "2023-05-26T07:43:13.901Z"
      },
      {
        "duration": 28,
        "start_time": "2023-05-26T07:43:13.963Z"
      },
      {
        "duration": 177,
        "start_time": "2023-05-26T07:43:13.993Z"
      },
      {
        "duration": 53,
        "start_time": "2023-05-26T07:43:14.173Z"
      },
      {
        "duration": 24,
        "start_time": "2023-05-26T07:43:14.229Z"
      },
      {
        "duration": 59,
        "start_time": "2023-05-26T07:43:14.255Z"
      },
      {
        "duration": 30,
        "start_time": "2023-05-26T07:43:14.316Z"
      },
      {
        "duration": 160,
        "start_time": "2023-05-26T07:43:14.347Z"
      },
      {
        "duration": 6,
        "start_time": "2023-05-26T07:43:14.508Z"
      },
      {
        "duration": 27,
        "start_time": "2023-05-26T07:44:29.415Z"
      },
      {
        "duration": 22,
        "start_time": "2023-05-26T07:44:43.921Z"
      },
      {
        "duration": 28,
        "start_time": "2023-05-26T07:45:29.283Z"
      },
      {
        "duration": 16,
        "start_time": "2023-05-26T07:48:04.755Z"
      },
      {
        "duration": 37,
        "start_time": "2023-05-26T07:48:51.254Z"
      },
      {
        "duration": 15,
        "start_time": "2023-05-26T07:50:14.016Z"
      },
      {
        "duration": 47,
        "start_time": "2023-05-26T07:50:44.506Z"
      },
      {
        "duration": 50,
        "start_time": "2023-05-26T07:52:24.422Z"
      },
      {
        "duration": 193,
        "start_time": "2023-05-26T07:53:56.869Z"
      },
      {
        "duration": 4,
        "start_time": "2023-05-26T07:54:42.897Z"
      },
      {
        "duration": 875,
        "start_time": "2023-05-26T07:54:42.904Z"
      },
      {
        "duration": 29,
        "start_time": "2023-05-26T07:54:43.781Z"
      },
      {
        "duration": 155,
        "start_time": "2023-05-26T07:54:43.812Z"
      },
      {
        "duration": 552,
        "start_time": "2023-05-26T07:54:43.970Z"
      },
      {
        "duration": 534,
        "start_time": "2023-05-26T07:54:44.524Z"
      },
      {
        "duration": 174,
        "start_time": "2023-05-26T07:54:45.060Z"
      },
      {
        "duration": 169,
        "start_time": "2023-05-26T07:54:45.236Z"
      },
      {
        "duration": 21,
        "start_time": "2023-05-26T07:54:45.407Z"
      },
      {
        "duration": 27,
        "start_time": "2023-05-26T07:54:45.430Z"
      },
      {
        "duration": 37,
        "start_time": "2023-05-26T07:54:45.481Z"
      },
      {
        "duration": 25,
        "start_time": "2023-05-26T07:54:45.520Z"
      },
      {
        "duration": 40,
        "start_time": "2023-05-26T07:54:45.547Z"
      },
      {
        "duration": 171,
        "start_time": "2023-05-26T07:54:45.594Z"
      },
      {
        "duration": 164,
        "start_time": "2023-05-26T07:54:45.767Z"
      },
      {
        "duration": 190,
        "start_time": "2023-05-26T07:54:45.933Z"
      },
      {
        "duration": 237,
        "start_time": "2023-05-26T07:54:46.125Z"
      },
      {
        "duration": 293,
        "start_time": "2023-05-26T07:54:46.364Z"
      },
      {
        "duration": 50,
        "start_time": "2023-05-26T07:54:46.659Z"
      },
      {
        "duration": 39,
        "start_time": "2023-05-26T07:54:46.711Z"
      },
      {
        "duration": 34,
        "start_time": "2023-05-26T07:54:46.752Z"
      },
      {
        "duration": 35,
        "start_time": "2023-05-26T07:54:46.792Z"
      },
      {
        "duration": 40,
        "start_time": "2023-05-26T07:54:46.829Z"
      },
      {
        "duration": 13,
        "start_time": "2023-05-26T07:54:46.877Z"
      },
      {
        "duration": 157,
        "start_time": "2023-05-26T07:54:46.892Z"
      },
      {
        "duration": 14,
        "start_time": "2023-05-26T07:54:47.051Z"
      },
      {
        "duration": 48,
        "start_time": "2023-05-26T07:54:47.077Z"
      },
      {
        "duration": 58,
        "start_time": "2023-05-26T07:54:47.126Z"
      },
      {
        "duration": 131,
        "start_time": "2023-05-26T07:54:47.187Z"
      },
      {
        "duration": 4,
        "start_time": "2023-05-26T07:55:55.157Z"
      },
      {
        "duration": 3,
        "start_time": "2023-05-26T08:07:39.766Z"
      },
      {
        "duration": 31,
        "start_time": "2023-05-26T08:08:36.306Z"
      },
      {
        "duration": 141,
        "start_time": "2023-05-26T08:08:55.415Z"
      },
      {
        "duration": 27,
        "start_time": "2023-05-26T08:09:13.424Z"
      },
      {
        "duration": 121,
        "start_time": "2023-05-26T08:09:15.136Z"
      },
      {
        "duration": 2,
        "start_time": "2023-05-26T09:07:04.552Z"
      },
      {
        "duration": 14,
        "start_time": "2023-05-26T09:07:05.699Z"
      },
      {
        "duration": 5,
        "start_time": "2023-05-26T09:07:29.191Z"
      },
      {
        "duration": 15,
        "start_time": "2023-05-26T09:11:32.727Z"
      },
      {
        "duration": 5,
        "start_time": "2023-05-26T09:11:33.513Z"
      },
      {
        "duration": 161,
        "start_time": "2023-05-26T09:11:34.326Z"
      },
      {
        "duration": 4,
        "start_time": "2023-05-26T09:12:30.353Z"
      },
      {
        "duration": 39,
        "start_time": "2023-05-26T09:13:07.084Z"
      },
      {
        "duration": 66,
        "start_time": "2023-05-26T09:13:32.550Z"
      },
      {
        "duration": 5,
        "start_time": "2023-05-26T09:13:58.742Z"
      },
      {
        "duration": 5,
        "start_time": "2023-05-26T09:14:42.885Z"
      },
      {
        "duration": 4,
        "start_time": "2023-05-26T09:32:23.394Z"
      },
      {
        "duration": 4,
        "start_time": "2023-05-26T09:32:24.043Z"
      },
      {
        "duration": 167,
        "start_time": "2023-05-26T09:32:25.011Z"
      },
      {
        "duration": 3,
        "start_time": "2023-05-26T09:32:25.699Z"
      },
      {
        "duration": 1358,
        "start_time": "2023-05-26T09:40:18.391Z"
      },
      {
        "duration": 3252,
        "start_time": "2023-05-26T09:40:19.752Z"
      },
      {
        "duration": 16,
        "start_time": "2023-05-26T09:40:23.006Z"
      },
      {
        "duration": 386,
        "start_time": "2023-05-26T09:40:23.024Z"
      },
      {
        "duration": 94,
        "start_time": "2023-05-26T09:40:23.412Z"
      },
      {
        "duration": 484,
        "start_time": "2023-05-26T09:40:23.508Z"
      },
      {
        "duration": 569,
        "start_time": "2023-05-26T09:40:23.993Z"
      },
      {
        "duration": 145,
        "start_time": "2023-05-26T09:40:24.564Z"
      },
      {
        "duration": 173,
        "start_time": "2023-05-26T09:40:24.711Z"
      },
      {
        "duration": 33,
        "start_time": "2023-05-26T09:40:24.887Z"
      },
      {
        "duration": 33,
        "start_time": "2023-05-26T09:40:24.921Z"
      },
      {
        "duration": 48,
        "start_time": "2023-05-26T09:40:24.956Z"
      },
      {
        "duration": 33,
        "start_time": "2023-05-26T09:40:25.006Z"
      },
      {
        "duration": 52,
        "start_time": "2023-05-26T09:40:25.043Z"
      },
      {
        "duration": 205,
        "start_time": "2023-05-26T09:40:25.098Z"
      },
      {
        "duration": 148,
        "start_time": "2023-05-26T09:40:25.304Z"
      },
      {
        "duration": 235,
        "start_time": "2023-05-26T09:40:25.454Z"
      },
      {
        "duration": 229,
        "start_time": "2023-05-26T09:40:25.694Z"
      },
      {
        "duration": 267,
        "start_time": "2023-05-26T09:40:25.925Z"
      },
      {
        "duration": 37,
        "start_time": "2023-05-26T09:40:26.195Z"
      },
      {
        "duration": 66,
        "start_time": "2023-05-26T09:40:26.234Z"
      },
      {
        "duration": 10,
        "start_time": "2023-05-26T09:40:26.302Z"
      },
      {
        "duration": 28,
        "start_time": "2023-05-26T09:40:26.314Z"
      },
      {
        "duration": 67,
        "start_time": "2023-05-26T09:40:26.344Z"
      },
      {
        "duration": 6,
        "start_time": "2023-05-26T09:40:26.413Z"
      },
      {
        "duration": 163,
        "start_time": "2023-05-26T09:40:26.421Z"
      },
      {
        "duration": 21,
        "start_time": "2023-05-26T09:40:26.586Z"
      },
      {
        "duration": 34,
        "start_time": "2023-05-26T09:40:26.609Z"
      },
      {
        "duration": 69,
        "start_time": "2023-05-26T09:40:26.646Z"
      },
      {
        "duration": 141,
        "start_time": "2023-05-26T09:40:26.717Z"
      },
      {
        "duration": 3,
        "start_time": "2023-05-26T09:40:26.861Z"
      },
      {
        "duration": 36,
        "start_time": "2023-05-26T09:40:26.875Z"
      },
      {
        "duration": 108,
        "start_time": "2023-05-26T09:40:26.913Z"
      },
      {
        "duration": 29,
        "start_time": "2023-05-26T09:40:27.024Z"
      },
      {
        "duration": 9,
        "start_time": "2023-05-26T09:40:27.055Z"
      },
      {
        "duration": 99,
        "start_time": "2023-05-26T09:40:27.083Z"
      },
      {
        "duration": 5,
        "start_time": "2023-05-26T09:40:27.190Z"
      },
      {
        "duration": 3,
        "start_time": "2023-05-26T09:40:27.197Z"
      },
      {
        "duration": 18,
        "start_time": "2023-05-26T09:40:27.202Z"
      },
      {
        "duration": 60,
        "start_time": "2023-05-26T09:40:27.222Z"
      },
      {
        "duration": 10,
        "start_time": "2023-05-26T09:40:27.286Z"
      },
      {
        "duration": 2,
        "start_time": "2023-05-26T09:40:27.298Z"
      },
      {
        "duration": 46,
        "start_time": "2023-05-26T09:41:34.666Z"
      },
      {
        "duration": 62,
        "start_time": "2023-05-26T09:51:43.359Z"
      },
      {
        "duration": 1490,
        "start_time": "2023-05-26T09:52:23.370Z"
      },
      {
        "duration": 2938,
        "start_time": "2023-05-26T09:52:24.862Z"
      },
      {
        "duration": 18,
        "start_time": "2023-05-26T09:52:27.802Z"
      },
      {
        "duration": 151,
        "start_time": "2023-05-26T09:52:27.822Z"
      },
      {
        "duration": 512,
        "start_time": "2023-05-26T09:52:27.978Z"
      },
      {
        "duration": 536,
        "start_time": "2023-05-26T09:52:28.492Z"
      },
      {
        "duration": 132,
        "start_time": "2023-05-26T09:52:29.030Z"
      },
      {
        "duration": 168,
        "start_time": "2023-05-26T09:52:29.164Z"
      },
      {
        "duration": 21,
        "start_time": "2023-05-26T09:52:29.333Z"
      },
      {
        "duration": 45,
        "start_time": "2023-05-26T09:52:29.357Z"
      },
      {
        "duration": 33,
        "start_time": "2023-05-26T09:52:29.403Z"
      },
      {
        "duration": 22,
        "start_time": "2023-05-26T09:52:29.438Z"
      },
      {
        "duration": 40,
        "start_time": "2023-05-26T09:52:29.461Z"
      },
      {
        "duration": 196,
        "start_time": "2023-05-26T09:52:29.503Z"
      },
      {
        "duration": 152,
        "start_time": "2023-05-26T09:52:29.700Z"
      },
      {
        "duration": 199,
        "start_time": "2023-05-26T09:52:29.854Z"
      },
      {
        "duration": 249,
        "start_time": "2023-05-26T09:52:30.055Z"
      },
      {
        "duration": 251,
        "start_time": "2023-05-26T09:52:30.306Z"
      },
      {
        "duration": 44,
        "start_time": "2023-05-26T09:52:30.559Z"
      },
      {
        "duration": 52,
        "start_time": "2023-05-26T09:52:30.604Z"
      },
      {
        "duration": 19,
        "start_time": "2023-05-26T09:52:30.657Z"
      },
      {
        "duration": 73,
        "start_time": "2023-05-26T09:52:30.678Z"
      },
      {
        "duration": 63,
        "start_time": "2023-05-26T09:52:30.753Z"
      },
      {
        "duration": 8,
        "start_time": "2023-05-26T09:52:30.818Z"
      },
      {
        "duration": 169,
        "start_time": "2023-05-26T09:52:30.828Z"
      },
      {
        "duration": 32,
        "start_time": "2023-05-26T09:52:30.999Z"
      },
      {
        "duration": 98,
        "start_time": "2023-05-26T09:52:31.033Z"
      },
      {
        "duration": 68,
        "start_time": "2023-05-26T09:52:31.135Z"
      },
      {
        "duration": 127,
        "start_time": "2023-05-26T09:52:31.205Z"
      },
      {
        "duration": 90,
        "start_time": "2023-05-26T09:52:31.334Z"
      },
      {
        "duration": 3,
        "start_time": "2023-05-26T09:52:31.427Z"
      },
      {
        "duration": 64,
        "start_time": "2023-05-26T09:52:31.432Z"
      },
      {
        "duration": 118,
        "start_time": "2023-05-26T09:52:31.498Z"
      },
      {
        "duration": 32,
        "start_time": "2023-05-26T09:52:31.617Z"
      },
      {
        "duration": 22,
        "start_time": "2023-05-26T09:52:31.650Z"
      },
      {
        "duration": 84,
        "start_time": "2023-05-26T09:52:31.673Z"
      },
      {
        "duration": 5,
        "start_time": "2023-05-26T09:52:31.759Z"
      },
      {
        "duration": 7,
        "start_time": "2023-05-26T09:52:31.766Z"
      },
      {
        "duration": 29,
        "start_time": "2023-05-26T09:52:31.779Z"
      },
      {
        "duration": 8,
        "start_time": "2023-05-26T09:52:31.810Z"
      },
      {
        "duration": 78,
        "start_time": "2023-05-26T09:52:31.819Z"
      },
      {
        "duration": 3,
        "start_time": "2023-05-26T09:52:31.899Z"
      },
      {
        "duration": 5,
        "start_time": "2023-05-26T09:52:31.904Z"
      },
      {
        "duration": 19,
        "start_time": "2023-05-26T09:53:24.992Z"
      },
      {
        "duration": 33,
        "start_time": "2023-05-26T09:54:02.474Z"
      },
      {
        "duration": 28,
        "start_time": "2023-05-26T09:54:14.469Z"
      },
      {
        "duration": 114,
        "start_time": "2023-05-26T09:54:27.475Z"
      },
      {
        "duration": 22,
        "start_time": "2023-05-26T09:54:34.592Z"
      },
      {
        "duration": 4,
        "start_time": "2023-05-26T09:55:17.863Z"
      },
      {
        "duration": 35,
        "start_time": "2023-05-26T09:55:18.711Z"
      },
      {
        "duration": 8,
        "start_time": "2023-05-26T09:55:19.474Z"
      },
      {
        "duration": 2162,
        "start_time": "2023-05-26T09:55:23.645Z"
      },
      {
        "duration": 1587,
        "start_time": "2023-05-26T12:41:17.727Z"
      },
      {
        "duration": 3167,
        "start_time": "2023-05-26T12:41:19.317Z"
      },
      {
        "duration": 18,
        "start_time": "2023-05-26T12:41:22.486Z"
      },
      {
        "duration": 134,
        "start_time": "2023-05-26T12:41:22.506Z"
      },
      {
        "duration": 494,
        "start_time": "2023-05-26T12:41:22.641Z"
      },
      {
        "duration": 537,
        "start_time": "2023-05-26T12:41:23.136Z"
      },
      {
        "duration": 122,
        "start_time": "2023-05-26T12:41:23.676Z"
      },
      {
        "duration": 123,
        "start_time": "2023-05-26T12:41:23.800Z"
      },
      {
        "duration": 41,
        "start_time": "2023-05-26T12:41:23.924Z"
      },
      {
        "duration": 29,
        "start_time": "2023-05-26T12:41:23.969Z"
      },
      {
        "duration": 21,
        "start_time": "2023-05-26T12:41:23.999Z"
      },
      {
        "duration": 53,
        "start_time": "2023-05-26T12:41:24.022Z"
      },
      {
        "duration": 26,
        "start_time": "2023-05-26T12:41:24.076Z"
      },
      {
        "duration": 231,
        "start_time": "2023-05-26T12:41:24.104Z"
      },
      {
        "duration": 163,
        "start_time": "2023-05-26T12:41:24.337Z"
      },
      {
        "duration": 203,
        "start_time": "2023-05-26T12:41:24.503Z"
      },
      {
        "duration": 234,
        "start_time": "2023-05-26T12:41:24.708Z"
      },
      {
        "duration": 254,
        "start_time": "2023-05-26T12:41:24.945Z"
      },
      {
        "duration": 29,
        "start_time": "2023-05-26T12:41:25.200Z"
      },
      {
        "duration": 70,
        "start_time": "2023-05-26T12:41:25.230Z"
      },
      {
        "duration": 9,
        "start_time": "2023-05-26T12:41:25.302Z"
      },
      {
        "duration": 30,
        "start_time": "2023-05-26T12:41:25.312Z"
      },
      {
        "duration": 53,
        "start_time": "2023-05-26T12:41:25.352Z"
      },
      {
        "duration": 6,
        "start_time": "2023-05-26T12:41:25.407Z"
      },
      {
        "duration": 128,
        "start_time": "2023-05-26T12:41:25.415Z"
      },
      {
        "duration": 22,
        "start_time": "2023-05-26T12:41:25.553Z"
      },
      {
        "duration": 34,
        "start_time": "2023-05-26T12:41:25.577Z"
      },
      {
        "duration": 71,
        "start_time": "2023-05-26T12:41:25.614Z"
      },
      {
        "duration": 106,
        "start_time": "2023-05-26T12:41:25.687Z"
      },
      {
        "duration": 85,
        "start_time": "2023-05-26T12:41:25.795Z"
      },
      {
        "duration": 3,
        "start_time": "2023-05-26T12:41:25.883Z"
      },
      {
        "duration": 33,
        "start_time": "2023-05-26T12:41:25.888Z"
      },
      {
        "duration": 85,
        "start_time": "2023-05-26T12:41:25.922Z"
      },
      {
        "duration": 22,
        "start_time": "2023-05-26T12:41:26.009Z"
      },
      {
        "duration": 22,
        "start_time": "2023-05-26T12:41:26.033Z"
      },
      {
        "duration": 83,
        "start_time": "2023-05-26T12:41:26.056Z"
      },
      {
        "duration": 10,
        "start_time": "2023-05-26T12:41:26.141Z"
      },
      {
        "duration": 8,
        "start_time": "2023-05-26T12:41:26.161Z"
      },
      {
        "duration": 19,
        "start_time": "2023-05-26T12:41:26.172Z"
      },
      {
        "duration": 16,
        "start_time": "2023-05-26T12:41:26.192Z"
      },
      {
        "duration": 21,
        "start_time": "2023-05-26T12:41:26.210Z"
      },
      {
        "duration": 23,
        "start_time": "2023-05-26T12:41:26.233Z"
      },
      {
        "duration": 45,
        "start_time": "2023-05-26T12:41:26.263Z"
      },
      {
        "duration": 3,
        "start_time": "2023-05-26T12:41:26.309Z"
      },
      {
        "duration": 4,
        "start_time": "2023-05-26T12:41:26.314Z"
      },
      {
        "duration": 291,
        "start_time": "2023-05-26T12:42:02.891Z"
      },
      {
        "duration": 18,
        "start_time": "2023-05-26T12:42:29.121Z"
      },
      {
        "duration": 31,
        "start_time": "2023-05-26T12:43:05.944Z"
      },
      {
        "duration": 258,
        "start_time": "2023-05-26T12:47:57.422Z"
      },
      {
        "duration": 4,
        "start_time": "2023-05-26T12:47:59.991Z"
      },
      {
        "duration": 108,
        "start_time": "2023-05-26T12:48:59.692Z"
      },
      {
        "duration": 3,
        "start_time": "2023-05-26T12:49:06.681Z"
      },
      {
        "duration": 819,
        "start_time": "2023-05-26T12:49:06.686Z"
      },
      {
        "duration": 15,
        "start_time": "2023-05-26T12:49:07.506Z"
      },
      {
        "duration": 137,
        "start_time": "2023-05-26T12:49:07.523Z"
      },
      {
        "duration": 439,
        "start_time": "2023-05-26T12:49:07.662Z"
      },
      {
        "duration": 462,
        "start_time": "2023-05-26T12:49:08.103Z"
      },
      {
        "duration": 112,
        "start_time": "2023-05-26T12:49:08.567Z"
      },
      {
        "duration": 119,
        "start_time": "2023-05-26T12:49:08.681Z"
      },
      {
        "duration": 19,
        "start_time": "2023-05-26T12:49:08.801Z"
      },
      {
        "duration": 43,
        "start_time": "2023-05-26T12:49:08.822Z"
      },
      {
        "duration": 25,
        "start_time": "2023-05-26T12:49:08.867Z"
      },
      {
        "duration": 30,
        "start_time": "2023-05-26T12:49:08.894Z"
      },
      {
        "duration": 37,
        "start_time": "2023-05-26T12:49:08.927Z"
      },
      {
        "duration": 154,
        "start_time": "2023-05-26T12:49:08.966Z"
      },
      {
        "duration": 123,
        "start_time": "2023-05-26T12:49:09.122Z"
      },
      {
        "duration": 159,
        "start_time": "2023-05-26T12:49:09.247Z"
      },
      {
        "duration": 209,
        "start_time": "2023-05-26T12:49:09.408Z"
      },
      {
        "duration": 245,
        "start_time": "2023-05-26T12:49:09.619Z"
      },
      {
        "duration": 28,
        "start_time": "2023-05-26T12:49:09.866Z"
      },
      {
        "duration": 41,
        "start_time": "2023-05-26T12:49:09.896Z"
      },
      {
        "duration": 21,
        "start_time": "2023-05-26T12:49:09.939Z"
      },
      {
        "duration": 23,
        "start_time": "2023-05-26T12:49:09.961Z"
      },
      {
        "duration": 41,
        "start_time": "2023-05-26T12:49:09.986Z"
      },
      {
        "duration": 32,
        "start_time": "2023-05-26T12:49:10.029Z"
      },
      {
        "duration": 107,
        "start_time": "2023-05-26T12:49:10.063Z"
      },
      {
        "duration": 15,
        "start_time": "2023-05-26T12:49:10.172Z"
      },
      {
        "duration": 32,
        "start_time": "2023-05-26T12:49:10.189Z"
      },
      {
        "duration": 42,
        "start_time": "2023-05-26T12:49:10.254Z"
      },
      {
        "duration": 111,
        "start_time": "2023-05-26T12:49:10.298Z"
      },
      {
        "duration": 80,
        "start_time": "2023-05-26T12:49:10.410Z"
      },
      {
        "duration": 3,
        "start_time": "2023-05-26T12:49:10.491Z"
      },
      {
        "duration": 26,
        "start_time": "2023-05-26T12:49:10.496Z"
      },
      {
        "duration": 84,
        "start_time": "2023-05-26T12:49:10.524Z"
      },
      {
        "duration": 17,
        "start_time": "2023-05-26T12:49:10.609Z"
      },
      {
        "duration": 4,
        "start_time": "2023-05-26T12:49:10.628Z"
      },
      {
        "duration": 80,
        "start_time": "2023-05-26T12:49:10.634Z"
      },
      {
        "duration": 4,
        "start_time": "2023-05-26T12:49:10.717Z"
      },
      {
        "duration": 5,
        "start_time": "2023-05-26T12:49:10.722Z"
      },
      {
        "duration": 45,
        "start_time": "2023-05-26T12:49:10.728Z"
      },
      {
        "duration": 17,
        "start_time": "2023-05-26T12:49:10.775Z"
      },
      {
        "duration": 20,
        "start_time": "2023-05-26T12:49:10.794Z"
      },
      {
        "duration": 2,
        "start_time": "2023-05-26T12:49:10.816Z"
      },
      {
        "duration": 44,
        "start_time": "2023-05-26T12:49:10.819Z"
      },
      {
        "duration": 34,
        "start_time": "2023-05-26T12:49:10.865Z"
      },
      {
        "duration": 272,
        "start_time": "2023-05-26T12:49:10.900Z"
      },
      {
        "duration": 17,
        "start_time": "2023-05-26T12:49:11.175Z"
      },
      {
        "duration": 3,
        "start_time": "2023-05-26T12:49:11.194Z"
      },
      {
        "duration": 3,
        "start_time": "2023-05-26T12:49:11.199Z"
      },
      {
        "duration": 3,
        "start_time": "2023-05-26T12:52:32.186Z"
      },
      {
        "duration": 33,
        "start_time": "2023-05-26T12:52:33.010Z"
      },
      {
        "duration": 267,
        "start_time": "2023-05-26T12:52:35.679Z"
      },
      {
        "duration": 3,
        "start_time": "2023-05-26T12:54:24.673Z"
      },
      {
        "duration": 19,
        "start_time": "2023-05-26T12:54:25.630Z"
      },
      {
        "duration": 3,
        "start_time": "2023-05-26T12:54:33.284Z"
      },
      {
        "duration": 50,
        "start_time": "2023-05-26T12:54:34.985Z"
      },
      {
        "duration": 976,
        "start_time": "2023-05-26T12:54:36.163Z"
      },
      {
        "duration": 924,
        "start_time": "2023-05-26T13:10:25.076Z"
      },
      {
        "duration": 968,
        "start_time": "2023-05-26T13:11:00.545Z"
      },
      {
        "duration": 937,
        "start_time": "2023-05-26T13:18:40.801Z"
      },
      {
        "duration": 1085,
        "start_time": "2023-05-26T13:20:13.710Z"
      },
      {
        "duration": 288,
        "start_time": "2023-05-26T13:20:27.185Z"
      },
      {
        "duration": 1814,
        "start_time": "2023-05-26T13:22:05.374Z"
      },
      {
        "duration": 208,
        "start_time": "2023-05-26T13:22:23.108Z"
      },
      {
        "duration": 114,
        "start_time": "2023-05-26T13:32:10.225Z"
      },
      {
        "duration": 29,
        "start_time": "2023-05-26T13:32:31.335Z"
      },
      {
        "duration": 182,
        "start_time": "2023-05-26T13:33:09.733Z"
      },
      {
        "duration": 1454,
        "start_time": "2023-05-26T13:38:50.175Z"
      },
      {
        "duration": 3208,
        "start_time": "2023-05-26T13:38:51.632Z"
      },
      {
        "duration": 28,
        "start_time": "2023-05-26T13:38:54.842Z"
      },
      {
        "duration": 130,
        "start_time": "2023-05-26T13:38:54.872Z"
      },
      {
        "duration": 528,
        "start_time": "2023-05-26T13:38:55.004Z"
      },
      {
        "duration": 568,
        "start_time": "2023-05-26T13:38:55.534Z"
      },
      {
        "duration": 131,
        "start_time": "2023-05-26T13:38:56.104Z"
      },
      {
        "duration": 155,
        "start_time": "2023-05-26T13:38:56.236Z"
      },
      {
        "duration": 21,
        "start_time": "2023-05-26T13:38:56.393Z"
      },
      {
        "duration": 52,
        "start_time": "2023-05-26T13:38:56.418Z"
      },
      {
        "duration": 21,
        "start_time": "2023-05-26T13:38:56.472Z"
      },
      {
        "duration": 21,
        "start_time": "2023-05-26T13:38:56.495Z"
      },
      {
        "duration": 23,
        "start_time": "2023-05-26T13:38:56.518Z"
      },
      {
        "duration": 188,
        "start_time": "2023-05-26T13:38:56.551Z"
      },
      {
        "duration": 137,
        "start_time": "2023-05-26T13:38:56.740Z"
      },
      {
        "duration": 263,
        "start_time": "2023-05-26T13:38:56.880Z"
      },
      {
        "duration": 275,
        "start_time": "2023-05-26T13:38:57.145Z"
      },
      {
        "duration": 267,
        "start_time": "2023-05-26T13:38:57.421Z"
      },
      {
        "duration": 31,
        "start_time": "2023-05-26T13:38:57.689Z"
      },
      {
        "duration": 78,
        "start_time": "2023-05-26T13:38:57.722Z"
      },
      {
        "duration": 12,
        "start_time": "2023-05-26T13:38:57.801Z"
      },
      {
        "duration": 56,
        "start_time": "2023-05-26T13:38:57.815Z"
      },
      {
        "duration": 52,
        "start_time": "2023-05-26T13:38:57.873Z"
      },
      {
        "duration": 8,
        "start_time": "2023-05-26T13:38:57.927Z"
      },
      {
        "duration": 131,
        "start_time": "2023-05-26T13:38:57.936Z"
      },
      {
        "duration": 15,
        "start_time": "2023-05-26T13:38:58.068Z"
      },
      {
        "duration": 34,
        "start_time": "2023-05-26T13:38:58.085Z"
      },
      {
        "duration": 65,
        "start_time": "2023-05-26T13:38:58.122Z"
      },
      {
        "duration": 136,
        "start_time": "2023-05-26T13:38:58.188Z"
      },
      {
        "duration": 81,
        "start_time": "2023-05-26T13:38:58.326Z"
      },
      {
        "duration": 3,
        "start_time": "2023-05-26T13:38:58.409Z"
      },
      {
        "duration": 40,
        "start_time": "2023-05-26T13:38:58.413Z"
      },
      {
        "duration": 80,
        "start_time": "2023-05-26T13:38:58.455Z"
      },
      {
        "duration": 28,
        "start_time": "2023-05-26T13:38:58.537Z"
      },
      {
        "duration": 5,
        "start_time": "2023-05-26T13:38:58.568Z"
      },
      {
        "duration": 77,
        "start_time": "2023-05-26T13:38:58.575Z"
      },
      {
        "duration": 9,
        "start_time": "2023-05-26T13:38:58.654Z"
      },
      {
        "duration": 9,
        "start_time": "2023-05-26T13:38:58.670Z"
      },
      {
        "duration": 27,
        "start_time": "2023-05-26T13:38:58.680Z"
      },
      {
        "duration": 20,
        "start_time": "2023-05-26T13:38:58.709Z"
      },
      {
        "duration": 48,
        "start_time": "2023-05-26T13:38:58.731Z"
      },
      {
        "duration": 3,
        "start_time": "2023-05-26T13:38:58.781Z"
      },
      {
        "duration": 24,
        "start_time": "2023-05-26T13:38:58.786Z"
      },
      {
        "duration": 3,
        "start_time": "2023-05-26T13:38:58.812Z"
      },
      {
        "duration": 69,
        "start_time": "2023-05-26T13:38:58.817Z"
      },
      {
        "duration": 2207,
        "start_time": "2023-05-26T13:38:58.888Z"
      },
      {
        "duration": 124,
        "start_time": "2023-05-26T13:39:01.097Z"
      },
      {
        "duration": 0,
        "start_time": "2023-05-26T13:39:01.223Z"
      },
      {
        "duration": 0,
        "start_time": "2023-05-26T13:39:01.224Z"
      },
      {
        "duration": 0,
        "start_time": "2023-05-26T13:39:01.225Z"
      },
      {
        "duration": 0,
        "start_time": "2023-05-26T13:39:01.226Z"
      },
      {
        "duration": 208,
        "start_time": "2023-05-26T13:39:20.099Z"
      },
      {
        "duration": 312,
        "start_time": "2023-05-26T13:47:35.993Z"
      },
      {
        "duration": 1927,
        "start_time": "2023-05-26T13:47:52.051Z"
      },
      {
        "duration": 384,
        "start_time": "2023-05-26T13:49:13.662Z"
      },
      {
        "duration": 1950,
        "start_time": "2023-05-26T13:49:58.350Z"
      },
      {
        "duration": 1529,
        "start_time": "2023-05-26T16:41:28.503Z"
      },
      {
        "duration": 2864,
        "start_time": "2023-05-26T16:41:30.034Z"
      },
      {
        "duration": 21,
        "start_time": "2023-05-26T16:41:32.899Z"
      },
      {
        "duration": 129,
        "start_time": "2023-05-26T16:41:32.923Z"
      },
      {
        "duration": 465,
        "start_time": "2023-05-26T16:41:33.054Z"
      },
      {
        "duration": 521,
        "start_time": "2023-05-26T16:41:33.521Z"
      },
      {
        "duration": 135,
        "start_time": "2023-05-26T16:41:34.045Z"
      },
      {
        "duration": 113,
        "start_time": "2023-05-26T16:41:34.181Z"
      },
      {
        "duration": 21,
        "start_time": "2023-05-26T16:41:34.295Z"
      },
      {
        "duration": 21,
        "start_time": "2023-05-26T16:41:34.318Z"
      },
      {
        "duration": 20,
        "start_time": "2023-05-26T16:41:34.358Z"
      },
      {
        "duration": 19,
        "start_time": "2023-05-26T16:41:34.380Z"
      },
      {
        "duration": 32,
        "start_time": "2023-05-26T16:41:34.401Z"
      },
      {
        "duration": 168,
        "start_time": "2023-05-26T16:41:34.436Z"
      },
      {
        "duration": 115,
        "start_time": "2023-05-26T16:41:34.606Z"
      },
      {
        "duration": 188,
        "start_time": "2023-05-26T16:41:34.722Z"
      },
      {
        "duration": 211,
        "start_time": "2023-05-26T16:41:34.911Z"
      },
      {
        "duration": 236,
        "start_time": "2023-05-26T16:41:35.124Z"
      },
      {
        "duration": 28,
        "start_time": "2023-05-26T16:41:35.361Z"
      },
      {
        "duration": 68,
        "start_time": "2023-05-26T16:41:35.391Z"
      },
      {
        "duration": 7,
        "start_time": "2023-05-26T16:41:35.461Z"
      },
      {
        "duration": 24,
        "start_time": "2023-05-26T16:41:35.470Z"
      },
      {
        "duration": 64,
        "start_time": "2023-05-26T16:41:35.496Z"
      },
      {
        "duration": 6,
        "start_time": "2023-05-26T16:41:35.562Z"
      },
      {
        "duration": 104,
        "start_time": "2023-05-26T16:41:35.570Z"
      },
      {
        "duration": 13,
        "start_time": "2023-05-26T16:41:35.675Z"
      },
      {
        "duration": 30,
        "start_time": "2023-05-26T16:41:35.690Z"
      },
      {
        "duration": 60,
        "start_time": "2023-05-26T16:41:35.721Z"
      },
      {
        "duration": 102,
        "start_time": "2023-05-26T16:41:35.783Z"
      },
      {
        "duration": 75,
        "start_time": "2023-05-26T16:41:35.887Z"
      },
      {
        "duration": 3,
        "start_time": "2023-05-26T16:41:35.964Z"
      },
      {
        "duration": 52,
        "start_time": "2023-05-26T16:41:35.969Z"
      },
      {
        "duration": 66,
        "start_time": "2023-05-26T16:41:36.023Z"
      },
      {
        "duration": 16,
        "start_time": "2023-05-26T16:41:36.091Z"
      },
      {
        "duration": 22,
        "start_time": "2023-05-26T16:41:36.109Z"
      },
      {
        "duration": 76,
        "start_time": "2023-05-26T16:41:36.133Z"
      },
      {
        "duration": 5,
        "start_time": "2023-05-26T16:41:36.211Z"
      },
      {
        "duration": 29,
        "start_time": "2023-05-26T16:41:36.217Z"
      },
      {
        "duration": 36,
        "start_time": "2023-05-26T16:41:36.248Z"
      },
      {
        "duration": 19,
        "start_time": "2023-05-26T16:41:36.286Z"
      },
      {
        "duration": 24,
        "start_time": "2023-05-26T16:41:36.308Z"
      },
      {
        "duration": 10,
        "start_time": "2023-05-26T16:41:36.333Z"
      },
      {
        "duration": 27,
        "start_time": "2023-05-26T16:41:36.344Z"
      },
      {
        "duration": 5,
        "start_time": "2023-05-26T16:41:36.373Z"
      },
      {
        "duration": 51,
        "start_time": "2023-05-26T16:41:36.380Z"
      },
      {
        "duration": 887,
        "start_time": "2023-05-26T16:41:36.433Z"
      },
      {
        "duration": 103,
        "start_time": "2023-05-26T16:41:37.322Z"
      },
      {
        "duration": 0,
        "start_time": "2023-05-26T16:41:37.426Z"
      },
      {
        "duration": 0,
        "start_time": "2023-05-26T16:41:37.428Z"
      },
      {
        "duration": 1,
        "start_time": "2023-05-26T16:41:37.428Z"
      },
      {
        "duration": 0,
        "start_time": "2023-05-26T16:41:37.430Z"
      },
      {
        "duration": 0,
        "start_time": "2023-05-26T16:41:37.431Z"
      },
      {
        "duration": 0,
        "start_time": "2023-05-26T16:41:37.432Z"
      },
      {
        "duration": 0,
        "start_time": "2023-05-26T16:41:37.433Z"
      },
      {
        "duration": 11,
        "start_time": "2023-05-26T16:42:57.935Z"
      },
      {
        "duration": 5,
        "start_time": "2023-05-26T16:46:12.345Z"
      },
      {
        "duration": 20,
        "start_time": "2023-05-26T16:46:20.667Z"
      },
      {
        "duration": 52,
        "start_time": "2023-05-26T16:46:57.776Z"
      },
      {
        "duration": 4,
        "start_time": "2023-05-26T16:47:20.556Z"
      },
      {
        "duration": 10,
        "start_time": "2023-05-26T16:47:26.836Z"
      },
      {
        "duration": 3,
        "start_time": "2023-05-26T16:48:00.672Z"
      },
      {
        "duration": 4,
        "start_time": "2023-05-26T16:48:08.238Z"
      },
      {
        "duration": 19,
        "start_time": "2023-05-26T16:50:17.705Z"
      },
      {
        "duration": 9,
        "start_time": "2023-05-26T16:51:37.280Z"
      },
      {
        "duration": 904,
        "start_time": "2023-05-26T16:52:22.972Z"
      },
      {
        "duration": 3,
        "start_time": "2023-05-26T16:52:24.557Z"
      },
      {
        "duration": 283,
        "start_time": "2023-05-26T16:52:38.493Z"
      },
      {
        "duration": 7,
        "start_time": "2023-05-26T16:55:45.490Z"
      },
      {
        "duration": 2342,
        "start_time": "2023-05-26T16:56:06.392Z"
      },
      {
        "duration": 213,
        "start_time": "2023-05-26T16:56:10.598Z"
      },
      {
        "duration": 17,
        "start_time": "2023-05-26T16:58:58.045Z"
      },
      {
        "duration": 11,
        "start_time": "2023-05-26T17:00:02.751Z"
      },
      {
        "duration": 8662,
        "start_time": "2023-05-26T17:00:30.498Z"
      },
      {
        "duration": 269,
        "start_time": "2023-05-26T17:00:39.162Z"
      },
      {
        "duration": 1982,
        "start_time": "2023-05-27T17:53:45.161Z"
      },
      {
        "duration": 4732,
        "start_time": "2023-05-27T17:53:47.145Z"
      },
      {
        "duration": 37,
        "start_time": "2023-05-27T17:53:51.879Z"
      },
      {
        "duration": 249,
        "start_time": "2023-05-27T17:53:51.918Z"
      },
      {
        "duration": 675,
        "start_time": "2023-05-27T17:53:52.169Z"
      },
      {
        "duration": 668,
        "start_time": "2023-05-27T17:53:52.846Z"
      },
      {
        "duration": 153,
        "start_time": "2023-05-27T17:53:53.515Z"
      },
      {
        "duration": 139,
        "start_time": "2023-05-27T17:53:53.673Z"
      },
      {
        "duration": 21,
        "start_time": "2023-05-27T17:53:53.817Z"
      },
      {
        "duration": 53,
        "start_time": "2023-05-27T17:53:53.841Z"
      },
      {
        "duration": 43,
        "start_time": "2023-05-27T17:53:53.895Z"
      },
      {
        "duration": 124,
        "start_time": "2023-05-27T17:53:53.940Z"
      },
      {
        "duration": 46,
        "start_time": "2023-05-27T17:53:54.066Z"
      },
      {
        "duration": 224,
        "start_time": "2023-05-27T17:53:54.116Z"
      },
      {
        "duration": 211,
        "start_time": "2023-05-27T17:53:54.342Z"
      },
      {
        "duration": 237,
        "start_time": "2023-05-27T17:53:54.555Z"
      },
      {
        "duration": 255,
        "start_time": "2023-05-27T17:53:54.794Z"
      },
      {
        "duration": 312,
        "start_time": "2023-05-27T17:53:55.051Z"
      },
      {
        "duration": 48,
        "start_time": "2023-05-27T17:53:55.365Z"
      },
      {
        "duration": 73,
        "start_time": "2023-05-27T17:53:55.415Z"
      },
      {
        "duration": 19,
        "start_time": "2023-05-27T17:53:55.494Z"
      },
      {
        "duration": 28,
        "start_time": "2023-05-27T17:53:55.523Z"
      },
      {
        "duration": 84,
        "start_time": "2023-05-27T17:53:55.553Z"
      },
      {
        "duration": 8,
        "start_time": "2023-05-27T17:53:55.639Z"
      },
      {
        "duration": 176,
        "start_time": "2023-05-27T17:53:55.649Z"
      },
      {
        "duration": 21,
        "start_time": "2023-05-27T17:53:55.829Z"
      },
      {
        "duration": 74,
        "start_time": "2023-05-27T17:53:55.852Z"
      },
      {
        "duration": 77,
        "start_time": "2023-05-27T17:53:55.936Z"
      },
      {
        "duration": 204,
        "start_time": "2023-05-27T17:53:56.015Z"
      },
      {
        "duration": 93,
        "start_time": "2023-05-27T17:53:56.222Z"
      },
      {
        "duration": 8,
        "start_time": "2023-05-27T17:53:56.318Z"
      },
      {
        "duration": 45,
        "start_time": "2023-05-27T17:53:56.329Z"
      },
      {
        "duration": 123,
        "start_time": "2023-05-27T17:53:56.379Z"
      },
      {
        "duration": 23,
        "start_time": "2023-05-27T17:53:56.505Z"
      },
      {
        "duration": 8,
        "start_time": "2023-05-27T17:53:56.534Z"
      },
      {
        "duration": 111,
        "start_time": "2023-05-27T17:53:56.543Z"
      },
      {
        "duration": 6,
        "start_time": "2023-05-27T17:53:56.656Z"
      },
      {
        "duration": 16,
        "start_time": "2023-05-27T17:53:56.669Z"
      },
      {
        "duration": 50,
        "start_time": "2023-05-27T17:53:56.687Z"
      },
      {
        "duration": 19,
        "start_time": "2023-05-27T17:53:56.739Z"
      },
      {
        "duration": 63,
        "start_time": "2023-05-27T17:53:56.771Z"
      },
      {
        "duration": 5,
        "start_time": "2023-05-27T17:53:56.837Z"
      },
      {
        "duration": 60,
        "start_time": "2023-05-27T17:53:56.846Z"
      },
      {
        "duration": 8,
        "start_time": "2023-05-27T17:53:56.908Z"
      },
      {
        "duration": 81,
        "start_time": "2023-05-27T17:53:56.917Z"
      },
      {
        "duration": 1139,
        "start_time": "2023-05-27T17:53:57.002Z"
      },
      {
        "duration": 5,
        "start_time": "2023-05-27T17:53:58.143Z"
      },
      {
        "duration": 373,
        "start_time": "2023-05-27T17:53:58.149Z"
      },
      {
        "duration": 7,
        "start_time": "2023-05-27T17:53:58.531Z"
      },
      {
        "duration": 14,
        "start_time": "2023-05-27T17:53:58.541Z"
      },
      {
        "duration": 3386,
        "start_time": "2023-05-27T17:53:58.568Z"
      },
      {
        "duration": 380,
        "start_time": "2023-05-27T17:54:01.972Z"
      },
      {
        "duration": 14,
        "start_time": "2023-05-27T17:54:02.354Z"
      },
      {
        "duration": 18,
        "start_time": "2023-05-27T17:54:02.374Z"
      },
      {
        "duration": 138,
        "start_time": "2023-05-27T17:54:37.087Z"
      },
      {
        "duration": 16,
        "start_time": "2023-05-27T18:06:50.747Z"
      },
      {
        "duration": 23,
        "start_time": "2023-05-27T18:07:42.099Z"
      },
      {
        "duration": 88,
        "start_time": "2023-05-27T18:10:57.852Z"
      },
      {
        "duration": 11,
        "start_time": "2023-05-27T18:10:58.507Z"
      },
      {
        "duration": 12,
        "start_time": "2023-05-27T18:11:00.604Z"
      },
      {
        "duration": 1603,
        "start_time": "2023-05-27T18:11:05.943Z"
      },
      {
        "duration": 6382,
        "start_time": "2023-05-27T18:11:07.548Z"
      },
      {
        "duration": 27,
        "start_time": "2023-05-27T18:11:13.933Z"
      },
      {
        "duration": 210,
        "start_time": "2023-05-27T18:11:13.963Z"
      },
      {
        "duration": 617,
        "start_time": "2023-05-27T18:11:14.175Z"
      },
      {
        "duration": 631,
        "start_time": "2023-05-27T18:11:14.796Z"
      },
      {
        "duration": 157,
        "start_time": "2023-05-27T18:11:15.429Z"
      },
      {
        "duration": 152,
        "start_time": "2023-05-27T18:11:15.587Z"
      },
      {
        "duration": 35,
        "start_time": "2023-05-27T18:11:15.741Z"
      },
      {
        "duration": 33,
        "start_time": "2023-05-27T18:11:15.786Z"
      },
      {
        "duration": 23,
        "start_time": "2023-05-27T18:11:15.821Z"
      },
      {
        "duration": 76,
        "start_time": "2023-05-27T18:11:15.846Z"
      },
      {
        "duration": 59,
        "start_time": "2023-05-27T18:11:15.926Z"
      },
      {
        "duration": 196,
        "start_time": "2023-05-27T18:11:15.989Z"
      },
      {
        "duration": 155,
        "start_time": "2023-05-27T18:11:16.190Z"
      },
      {
        "duration": 214,
        "start_time": "2023-05-27T18:11:16.347Z"
      },
      {
        "duration": 251,
        "start_time": "2023-05-27T18:11:16.562Z"
      },
      {
        "duration": 276,
        "start_time": "2023-05-27T18:11:16.815Z"
      },
      {
        "duration": 38,
        "start_time": "2023-05-27T18:11:17.093Z"
      },
      {
        "duration": 80,
        "start_time": "2023-05-27T18:11:17.133Z"
      },
      {
        "duration": 8,
        "start_time": "2023-05-27T18:11:17.217Z"
      },
      {
        "duration": 41,
        "start_time": "2023-05-27T18:11:17.227Z"
      },
      {
        "duration": 61,
        "start_time": "2023-05-27T18:11:17.269Z"
      },
      {
        "duration": 7,
        "start_time": "2023-05-27T18:11:17.332Z"
      },
      {
        "duration": 167,
        "start_time": "2023-05-27T18:11:17.341Z"
      },
      {
        "duration": 23,
        "start_time": "2023-05-27T18:11:17.509Z"
      },
      {
        "duration": 49,
        "start_time": "2023-05-27T18:11:17.534Z"
      },
      {
        "duration": 53,
        "start_time": "2023-05-27T18:11:17.587Z"
      },
      {
        "duration": 141,
        "start_time": "2023-05-27T18:11:17.642Z"
      },
      {
        "duration": 82,
        "start_time": "2023-05-27T18:11:17.788Z"
      },
      {
        "duration": 2,
        "start_time": "2023-05-27T18:11:17.881Z"
      },
      {
        "duration": 44,
        "start_time": "2023-05-27T18:11:17.889Z"
      },
      {
        "duration": 107,
        "start_time": "2023-05-27T18:11:17.935Z"
      },
      {
        "duration": 26,
        "start_time": "2023-05-27T18:11:18.044Z"
      },
      {
        "duration": 7,
        "start_time": "2023-05-27T18:11:18.073Z"
      },
      {
        "duration": 111,
        "start_time": "2023-05-27T18:11:18.082Z"
      },
      {
        "duration": 10,
        "start_time": "2023-05-27T18:11:18.199Z"
      },
      {
        "duration": 27,
        "start_time": "2023-05-27T18:11:18.212Z"
      },
      {
        "duration": 41,
        "start_time": "2023-05-27T18:11:18.241Z"
      },
      {
        "duration": 39,
        "start_time": "2023-05-27T18:11:18.287Z"
      },
      {
        "duration": 4,
        "start_time": "2023-05-27T18:11:18.328Z"
      },
      {
        "duration": 42,
        "start_time": "2023-05-27T18:11:18.334Z"
      },
      {
        "duration": 4,
        "start_time": "2023-05-27T18:11:18.378Z"
      },
      {
        "duration": 103,
        "start_time": "2023-05-27T18:11:18.384Z"
      },
      {
        "duration": 68173,
        "start_time": "2023-05-27T18:11:18.489Z"
      },
      {
        "duration": 12,
        "start_time": "2023-05-27T18:12:26.667Z"
      },
      {
        "duration": 5,
        "start_time": "2023-05-27T18:12:26.682Z"
      },
      {
        "duration": 3,
        "start_time": "2023-05-27T18:12:26.698Z"
      },
      {
        "duration": 7,
        "start_time": "2023-05-27T18:12:26.702Z"
      },
      {
        "duration": 4,
        "start_time": "2023-05-27T18:12:26.711Z"
      },
      {
        "duration": 10,
        "start_time": "2023-05-27T18:12:26.717Z"
      },
      {
        "duration": 23,
        "start_time": "2023-05-27T18:12:26.729Z"
      },
      {
        "duration": 29,
        "start_time": "2023-05-27T18:12:26.755Z"
      },
      {
        "duration": 10,
        "start_time": "2023-05-27T18:12:26.785Z"
      },
      {
        "duration": 200,
        "start_time": "2023-05-27T18:13:03.207Z"
      },
      {
        "duration": 3,
        "start_time": "2023-05-27T18:13:39.641Z"
      },
      {
        "duration": 69568,
        "start_time": "2023-05-27T18:13:44.609Z"
      },
      {
        "duration": 64,
        "start_time": "2023-05-27T18:16:39.477Z"
      },
      {
        "duration": 33509,
        "start_time": "2023-05-27T18:17:55.495Z"
      },
      {
        "duration": 3,
        "start_time": "2023-05-27T18:28:30.296Z"
      },
      {
        "duration": 95,
        "start_time": "2023-05-27T18:28:31.297Z"
      },
      {
        "duration": 5,
        "start_time": "2023-05-27T18:29:12.904Z"
      },
      {
        "duration": 891,
        "start_time": "2023-05-27T18:29:12.912Z"
      },
      {
        "duration": 14,
        "start_time": "2023-05-27T18:29:13.805Z"
      },
      {
        "duration": 163,
        "start_time": "2023-05-27T18:29:13.821Z"
      },
      {
        "duration": 523,
        "start_time": "2023-05-27T18:29:13.989Z"
      },
      {
        "duration": 518,
        "start_time": "2023-05-27T18:29:14.514Z"
      },
      {
        "duration": 139,
        "start_time": "2023-05-27T18:29:15.036Z"
      },
      {
        "duration": 114,
        "start_time": "2023-05-27T18:29:15.176Z"
      },
      {
        "duration": 18,
        "start_time": "2023-05-27T18:29:15.293Z"
      },
      {
        "duration": 24,
        "start_time": "2023-05-27T18:29:15.313Z"
      },
      {
        "duration": 49,
        "start_time": "2023-05-27T18:29:15.339Z"
      },
      {
        "duration": 19,
        "start_time": "2023-05-27T18:29:15.391Z"
      },
      {
        "duration": 23,
        "start_time": "2023-05-27T18:29:15.412Z"
      },
      {
        "duration": 200,
        "start_time": "2023-05-27T18:29:15.436Z"
      },
      {
        "duration": 143,
        "start_time": "2023-05-27T18:29:15.637Z"
      },
      {
        "duration": 159,
        "start_time": "2023-05-27T18:29:15.782Z"
      },
      {
        "duration": 234,
        "start_time": "2023-05-27T18:29:15.943Z"
      },
      {
        "duration": 286,
        "start_time": "2023-05-27T18:29:16.179Z"
      },
      {
        "duration": 37,
        "start_time": "2023-05-27T18:29:16.472Z"
      },
      {
        "duration": 42,
        "start_time": "2023-05-27T18:29:16.510Z"
      },
      {
        "duration": 9,
        "start_time": "2023-05-27T18:29:16.560Z"
      },
      {
        "duration": 32,
        "start_time": "2023-05-27T18:29:16.570Z"
      },
      {
        "duration": 54,
        "start_time": "2023-05-27T18:29:16.604Z"
      },
      {
        "duration": 11,
        "start_time": "2023-05-27T18:29:16.664Z"
      },
      {
        "duration": 208,
        "start_time": "2023-05-27T18:29:16.677Z"
      },
      {
        "duration": 14,
        "start_time": "2023-05-27T18:29:16.887Z"
      },
      {
        "duration": 33,
        "start_time": "2023-05-27T18:29:16.903Z"
      },
      {
        "duration": 68,
        "start_time": "2023-05-27T18:29:16.937Z"
      },
      {
        "duration": 115,
        "start_time": "2023-05-27T18:29:17.007Z"
      },
      {
        "duration": 90,
        "start_time": "2023-05-27T18:29:17.123Z"
      },
      {
        "duration": 3,
        "start_time": "2023-05-27T18:29:17.214Z"
      },
      {
        "duration": 50,
        "start_time": "2023-05-27T18:29:17.219Z"
      },
      {
        "duration": 74,
        "start_time": "2023-05-27T18:29:17.271Z"
      },
      {
        "duration": 32,
        "start_time": "2023-05-27T18:29:17.347Z"
      },
      {
        "duration": 7,
        "start_time": "2023-05-27T18:29:17.381Z"
      },
      {
        "duration": 104,
        "start_time": "2023-05-27T18:29:17.391Z"
      },
      {
        "duration": 5,
        "start_time": "2023-05-27T18:29:17.496Z"
      },
      {
        "duration": 32,
        "start_time": "2023-05-27T18:29:17.503Z"
      },
      {
        "duration": 44,
        "start_time": "2023-05-27T18:29:17.536Z"
      },
      {
        "duration": 25,
        "start_time": "2023-05-27T18:29:17.581Z"
      },
      {
        "duration": 3,
        "start_time": "2023-05-27T18:29:17.608Z"
      },
      {
        "duration": 53,
        "start_time": "2023-05-27T18:29:17.612Z"
      },
      {
        "duration": 4,
        "start_time": "2023-05-27T18:29:17.666Z"
      },
      {
        "duration": 52,
        "start_time": "2023-05-27T18:29:17.673Z"
      },
      {
        "duration": 4,
        "start_time": "2023-05-27T18:29:17.726Z"
      },
      {
        "duration": 8,
        "start_time": "2023-05-27T18:29:17.731Z"
      },
      {
        "duration": 11,
        "start_time": "2023-05-27T18:29:17.740Z"
      },
      {
        "duration": 11,
        "start_time": "2023-05-27T18:29:17.752Z"
      },
      {
        "duration": 11,
        "start_time": "2023-05-27T18:29:17.771Z"
      },
      {
        "duration": 4,
        "start_time": "2023-05-27T18:29:17.783Z"
      },
      {
        "duration": 7,
        "start_time": "2023-05-27T18:29:17.788Z"
      },
      {
        "duration": 5,
        "start_time": "2023-05-27T18:29:17.796Z"
      },
      {
        "duration": 6,
        "start_time": "2023-05-27T18:29:17.803Z"
      },
      {
        "duration": 1036,
        "start_time": "2023-05-27T18:29:17.810Z"
      },
      {
        "duration": 0,
        "start_time": "2023-05-27T18:29:18.848Z"
      },
      {
        "duration": 0,
        "start_time": "2023-05-27T18:29:18.849Z"
      },
      {
        "duration": 3,
        "start_time": "2023-05-27T18:37:08.274Z"
      },
      {
        "duration": 1463,
        "start_time": "2023-05-27T18:37:34.987Z"
      },
      {
        "duration": 3268,
        "start_time": "2023-05-27T18:37:36.451Z"
      },
      {
        "duration": 18,
        "start_time": "2023-05-27T18:37:39.721Z"
      },
      {
        "duration": 147,
        "start_time": "2023-05-27T18:37:39.741Z"
      },
      {
        "duration": 546,
        "start_time": "2023-05-27T18:37:39.890Z"
      },
      {
        "duration": 573,
        "start_time": "2023-05-27T18:37:40.437Z"
      },
      {
        "duration": 115,
        "start_time": "2023-05-27T18:37:41.012Z"
      },
      {
        "duration": 156,
        "start_time": "2023-05-27T18:37:41.128Z"
      },
      {
        "duration": 20,
        "start_time": "2023-05-27T18:37:41.286Z"
      },
      {
        "duration": 28,
        "start_time": "2023-05-27T18:37:41.309Z"
      },
      {
        "duration": 32,
        "start_time": "2023-05-27T18:37:41.339Z"
      },
      {
        "duration": 21,
        "start_time": "2023-05-27T18:37:41.377Z"
      },
      {
        "duration": 33,
        "start_time": "2023-05-27T18:37:41.399Z"
      },
      {
        "duration": 178,
        "start_time": "2023-05-27T18:37:41.433Z"
      },
      {
        "duration": 135,
        "start_time": "2023-05-27T18:37:41.613Z"
      },
      {
        "duration": 190,
        "start_time": "2023-05-27T18:37:41.750Z"
      },
      {
        "duration": 227,
        "start_time": "2023-05-27T18:37:41.942Z"
      },
      {
        "duration": 276,
        "start_time": "2023-05-27T18:37:42.171Z"
      },
      {
        "duration": 49,
        "start_time": "2023-05-27T18:37:42.450Z"
      },
      {
        "duration": 74,
        "start_time": "2023-05-27T18:37:42.502Z"
      },
      {
        "duration": 8,
        "start_time": "2023-05-27T18:37:42.579Z"
      },
      {
        "duration": 26,
        "start_time": "2023-05-27T18:37:42.588Z"
      },
      {
        "duration": 77,
        "start_time": "2023-05-27T18:37:42.617Z"
      },
      {
        "duration": 7,
        "start_time": "2023-05-27T18:37:42.695Z"
      },
      {
        "duration": 109,
        "start_time": "2023-05-27T18:37:42.703Z"
      },
      {
        "duration": 14,
        "start_time": "2023-05-27T18:37:42.814Z"
      },
      {
        "duration": 49,
        "start_time": "2023-05-27T18:37:42.830Z"
      },
      {
        "duration": 40,
        "start_time": "2023-05-27T18:37:42.883Z"
      },
      {
        "duration": 108,
        "start_time": "2023-05-27T18:37:42.924Z"
      },
      {
        "duration": 79,
        "start_time": "2023-05-27T18:37:43.034Z"
      },
      {
        "duration": 3,
        "start_time": "2023-05-27T18:37:43.115Z"
      },
      {
        "duration": 24,
        "start_time": "2023-05-27T18:37:43.119Z"
      },
      {
        "duration": 78,
        "start_time": "2023-05-27T18:37:43.145Z"
      },
      {
        "duration": 14,
        "start_time": "2023-05-27T18:37:43.225Z"
      },
      {
        "duration": 4,
        "start_time": "2023-05-27T18:37:43.241Z"
      },
      {
        "duration": 79,
        "start_time": "2023-05-27T18:37:43.258Z"
      },
      {
        "duration": 4,
        "start_time": "2023-05-27T18:37:43.339Z"
      },
      {
        "duration": 31,
        "start_time": "2023-05-27T18:37:43.358Z"
      },
      {
        "duration": 16,
        "start_time": "2023-05-27T18:37:43.391Z"
      },
      {
        "duration": 20,
        "start_time": "2023-05-27T18:37:43.409Z"
      },
      {
        "duration": 3,
        "start_time": "2023-05-27T18:37:43.431Z"
      },
      {
        "duration": 45,
        "start_time": "2023-05-27T18:37:43.435Z"
      },
      {
        "duration": 3,
        "start_time": "2023-05-27T18:37:43.481Z"
      },
      {
        "duration": 50,
        "start_time": "2023-05-27T18:37:43.485Z"
      },
      {
        "duration": 26,
        "start_time": "2023-05-27T18:37:43.537Z"
      },
      {
        "duration": 6,
        "start_time": "2023-05-27T18:37:43.565Z"
      },
      {
        "duration": 4,
        "start_time": "2023-05-27T18:37:43.575Z"
      },
      {
        "duration": 6,
        "start_time": "2023-05-27T18:37:43.580Z"
      },
      {
        "duration": 9,
        "start_time": "2023-05-27T18:37:43.588Z"
      },
      {
        "duration": 4,
        "start_time": "2023-05-27T18:37:43.599Z"
      },
      {
        "duration": 7,
        "start_time": "2023-05-27T18:37:43.604Z"
      },
      {
        "duration": 4,
        "start_time": "2023-05-27T18:37:43.613Z"
      },
      {
        "duration": 4,
        "start_time": "2023-05-27T18:37:43.618Z"
      },
      {
        "duration": 72822,
        "start_time": "2023-05-27T18:37:43.624Z"
      },
      {
        "duration": 86,
        "start_time": "2023-05-27T18:38:56.448Z"
      },
      {
        "duration": 32894,
        "start_time": "2023-05-27T18:38:56.535Z"
      },
      {
        "duration": 120,
        "start_time": "2023-05-27T18:39:29.432Z"
      },
      {
        "duration": 4,
        "start_time": "2023-05-27T18:41:56.943Z"
      },
      {
        "duration": 851,
        "start_time": "2023-05-27T18:41:56.949Z"
      },
      {
        "duration": 13,
        "start_time": "2023-05-27T18:41:57.802Z"
      },
      {
        "duration": 135,
        "start_time": "2023-05-27T18:41:57.818Z"
      },
      {
        "duration": 467,
        "start_time": "2023-05-27T18:41:57.957Z"
      },
      {
        "duration": 508,
        "start_time": "2023-05-27T18:41:58.426Z"
      },
      {
        "duration": 138,
        "start_time": "2023-05-27T18:41:58.936Z"
      },
      {
        "duration": 116,
        "start_time": "2023-05-27T18:41:59.076Z"
      },
      {
        "duration": 21,
        "start_time": "2023-05-27T18:41:59.195Z"
      },
      {
        "duration": 41,
        "start_time": "2023-05-27T18:41:59.218Z"
      },
      {
        "duration": 25,
        "start_time": "2023-05-27T18:41:59.264Z"
      },
      {
        "duration": 22,
        "start_time": "2023-05-27T18:41:59.291Z"
      },
      {
        "duration": 50,
        "start_time": "2023-05-27T18:41:59.315Z"
      },
      {
        "duration": 185,
        "start_time": "2023-05-27T18:41:59.372Z"
      },
      {
        "duration": 138,
        "start_time": "2023-05-27T18:41:59.559Z"
      },
      {
        "duration": 179,
        "start_time": "2023-05-27T18:41:59.700Z"
      },
      {
        "duration": 248,
        "start_time": "2023-05-27T18:41:59.881Z"
      },
      {
        "duration": 268,
        "start_time": "2023-05-27T18:42:00.131Z"
      },
      {
        "duration": 29,
        "start_time": "2023-05-27T18:42:00.401Z"
      },
      {
        "duration": 68,
        "start_time": "2023-05-27T18:42:00.432Z"
      },
      {
        "duration": 7,
        "start_time": "2023-05-27T18:42:00.502Z"
      },
      {
        "duration": 34,
        "start_time": "2023-05-27T18:42:00.511Z"
      },
      {
        "duration": 64,
        "start_time": "2023-05-27T18:42:00.548Z"
      },
      {
        "duration": 8,
        "start_time": "2023-05-27T18:42:00.616Z"
      },
      {
        "duration": 244,
        "start_time": "2023-05-27T18:42:00.625Z"
      },
      {
        "duration": 14,
        "start_time": "2023-05-27T18:42:00.871Z"
      },
      {
        "duration": 48,
        "start_time": "2023-05-27T18:42:00.887Z"
      },
      {
        "duration": 49,
        "start_time": "2023-05-27T18:42:00.937Z"
      },
      {
        "duration": 115,
        "start_time": "2023-05-27T18:42:00.988Z"
      },
      {
        "duration": 78,
        "start_time": "2023-05-27T18:42:01.105Z"
      },
      {
        "duration": 3,
        "start_time": "2023-05-27T18:42:01.186Z"
      },
      {
        "duration": 38,
        "start_time": "2023-05-27T18:42:01.191Z"
      },
      {
        "duration": 93,
        "start_time": "2023-05-27T18:42:01.230Z"
      },
      {
        "duration": 65,
        "start_time": "2023-05-27T18:42:01.325Z"
      },
      {
        "duration": 16,
        "start_time": "2023-05-27T18:42:01.392Z"
      },
      {
        "duration": 103,
        "start_time": "2023-05-27T18:42:01.410Z"
      },
      {
        "duration": 5,
        "start_time": "2023-05-27T18:42:01.516Z"
      },
      {
        "duration": 72,
        "start_time": "2023-05-27T18:42:01.523Z"
      },
      {
        "duration": 67,
        "start_time": "2023-05-27T18:42:01.598Z"
      },
      {
        "duration": 46,
        "start_time": "2023-05-27T18:42:01.669Z"
      },
      {
        "duration": 36,
        "start_time": "2023-05-27T18:42:01.717Z"
      },
      {
        "duration": 60,
        "start_time": "2023-05-27T18:42:01.762Z"
      },
      {
        "duration": 35,
        "start_time": "2023-05-27T18:42:01.824Z"
      },
      {
        "duration": 125,
        "start_time": "2023-05-27T18:42:01.861Z"
      },
      {
        "duration": 8,
        "start_time": "2023-05-27T18:42:01.988Z"
      },
      {
        "duration": 75,
        "start_time": "2023-05-27T18:42:01.998Z"
      },
      {
        "duration": 51,
        "start_time": "2023-05-27T18:42:02.074Z"
      },
      {
        "duration": 42,
        "start_time": "2023-05-27T18:42:02.128Z"
      },
      {
        "duration": 62,
        "start_time": "2023-05-27T18:42:02.172Z"
      },
      {
        "duration": 60,
        "start_time": "2023-05-27T18:42:02.237Z"
      },
      {
        "duration": 12,
        "start_time": "2023-05-27T18:42:02.300Z"
      },
      {
        "duration": 9,
        "start_time": "2023-05-27T18:42:02.314Z"
      },
      {
        "duration": 19,
        "start_time": "2023-05-27T18:42:02.325Z"
      },
      {
        "duration": 21,
        "start_time": "2023-05-27T18:42:02.347Z"
      },
      {
        "duration": 1390,
        "start_time": "2023-05-27T18:42:28.922Z"
      },
      {
        "duration": 3429,
        "start_time": "2023-05-27T18:42:30.313Z"
      },
      {
        "duration": 28,
        "start_time": "2023-05-27T18:42:33.744Z"
      },
      {
        "duration": 120,
        "start_time": "2023-05-27T18:42:33.774Z"
      },
      {
        "duration": 550,
        "start_time": "2023-05-27T18:42:33.898Z"
      },
      {
        "duration": 519,
        "start_time": "2023-05-27T18:42:34.450Z"
      },
      {
        "duration": 105,
        "start_time": "2023-05-27T18:42:34.971Z"
      },
      {
        "duration": 109,
        "start_time": "2023-05-27T18:42:35.078Z"
      },
      {
        "duration": 18,
        "start_time": "2023-05-27T18:42:35.189Z"
      },
      {
        "duration": 19,
        "start_time": "2023-05-27T18:42:35.208Z"
      },
      {
        "duration": 51,
        "start_time": "2023-05-27T18:42:35.228Z"
      },
      {
        "duration": 20,
        "start_time": "2023-05-27T18:42:35.281Z"
      },
      {
        "duration": 22,
        "start_time": "2023-05-27T18:42:35.303Z"
      },
      {
        "duration": 212,
        "start_time": "2023-05-27T18:42:35.328Z"
      },
      {
        "duration": 130,
        "start_time": "2023-05-27T18:42:35.542Z"
      },
      {
        "duration": 207,
        "start_time": "2023-05-27T18:42:35.677Z"
      },
      {
        "duration": 217,
        "start_time": "2023-05-27T18:42:35.886Z"
      },
      {
        "duration": 237,
        "start_time": "2023-05-27T18:42:36.104Z"
      },
      {
        "duration": 46,
        "start_time": "2023-05-27T18:42:36.343Z"
      },
      {
        "duration": 50,
        "start_time": "2023-05-27T18:42:36.391Z"
      },
      {
        "duration": 17,
        "start_time": "2023-05-27T18:42:36.443Z"
      },
      {
        "duration": 24,
        "start_time": "2023-05-27T18:42:36.471Z"
      },
      {
        "duration": 50,
        "start_time": "2023-05-27T18:42:36.497Z"
      },
      {
        "duration": 18,
        "start_time": "2023-05-27T18:42:36.556Z"
      },
      {
        "duration": 114,
        "start_time": "2023-05-27T18:42:36.576Z"
      },
      {
        "duration": 13,
        "start_time": "2023-05-27T18:42:36.692Z"
      },
      {
        "duration": 66,
        "start_time": "2023-05-27T18:42:36.707Z"
      },
      {
        "duration": 49,
        "start_time": "2023-05-27T18:42:36.775Z"
      },
      {
        "duration": 106,
        "start_time": "2023-05-27T18:42:36.826Z"
      },
      {
        "duration": 77,
        "start_time": "2023-05-27T18:42:36.933Z"
      },
      {
        "duration": 3,
        "start_time": "2023-05-27T18:42:37.012Z"
      },
      {
        "duration": 56,
        "start_time": "2023-05-27T18:42:37.016Z"
      },
      {
        "duration": 66,
        "start_time": "2023-05-27T18:42:37.075Z"
      },
      {
        "duration": 37,
        "start_time": "2023-05-27T18:42:37.143Z"
      },
      {
        "duration": 16,
        "start_time": "2023-05-27T18:42:37.182Z"
      },
      {
        "duration": 81,
        "start_time": "2023-05-27T18:42:37.200Z"
      },
      {
        "duration": 6,
        "start_time": "2023-05-27T18:42:37.283Z"
      },
      {
        "duration": 32,
        "start_time": "2023-05-27T18:42:37.291Z"
      },
      {
        "duration": 21,
        "start_time": "2023-05-27T18:42:37.325Z"
      },
      {
        "duration": 35,
        "start_time": "2023-05-27T18:42:37.348Z"
      },
      {
        "duration": 21,
        "start_time": "2023-05-27T18:42:37.386Z"
      },
      {
        "duration": 29,
        "start_time": "2023-05-27T18:42:37.409Z"
      },
      {
        "duration": 3,
        "start_time": "2023-05-27T18:42:37.439Z"
      },
      {
        "duration": 86,
        "start_time": "2023-05-27T18:42:37.444Z"
      },
      {
        "duration": 2,
        "start_time": "2023-05-27T18:42:37.532Z"
      },
      {
        "duration": 17,
        "start_time": "2023-05-27T18:42:37.537Z"
      },
      {
        "duration": 16,
        "start_time": "2023-05-27T18:42:37.558Z"
      },
      {
        "duration": 7,
        "start_time": "2023-05-27T18:42:37.576Z"
      },
      {
        "duration": 10,
        "start_time": "2023-05-27T18:42:37.584Z"
      },
      {
        "duration": 7,
        "start_time": "2023-05-27T18:42:37.596Z"
      },
      {
        "duration": 4,
        "start_time": "2023-05-27T18:42:37.605Z"
      },
      {
        "duration": 5,
        "start_time": "2023-05-27T18:42:37.610Z"
      },
      {
        "duration": 6,
        "start_time": "2023-05-27T18:42:37.617Z"
      },
      {
        "duration": 9,
        "start_time": "2023-05-27T18:42:37.625Z"
      },
      {
        "duration": 72392,
        "start_time": "2023-05-27T18:42:37.636Z"
      },
      {
        "duration": 94,
        "start_time": "2023-05-27T18:43:50.030Z"
      },
      {
        "duration": 33130,
        "start_time": "2023-05-27T18:43:50.125Z"
      },
      {
        "duration": 65,
        "start_time": "2023-05-27T18:45:48.331Z"
      },
      {
        "duration": 4,
        "start_time": "2023-05-27T18:52:52.015Z"
      },
      {
        "duration": 50,
        "start_time": "2023-05-27T19:18:33.593Z"
      },
      {
        "duration": 117,
        "start_time": "2023-05-27T19:21:51.282Z"
      },
      {
        "duration": 9,
        "start_time": "2023-05-27T19:28:38.941Z"
      },
      {
        "duration": 4,
        "start_time": "2023-05-27T19:29:06.441Z"
      },
      {
        "duration": 4,
        "start_time": "2023-05-27T19:29:10.303Z"
      },
      {
        "duration": 3952,
        "start_time": "2023-05-27T19:29:23.030Z"
      },
      {
        "duration": 3508,
        "start_time": "2023-05-27T19:30:43.965Z"
      },
      {
        "duration": 22687,
        "start_time": "2023-05-27T19:30:55.462Z"
      },
      {
        "duration": 48248,
        "start_time": "2023-05-27T19:41:16.813Z"
      },
      {
        "duration": 161464,
        "start_time": "2023-05-27T19:43:59.002Z"
      },
      {
        "duration": 103,
        "start_time": "2023-05-27T19:53:04.970Z"
      },
      {
        "duration": 67382,
        "start_time": "2023-05-27T19:53:25.878Z"
      },
      {
        "duration": 4,
        "start_time": "2023-05-27T19:55:41.976Z"
      },
      {
        "duration": 72975,
        "start_time": "2023-05-27T19:56:10.276Z"
      },
      {
        "duration": 73529,
        "start_time": "2023-05-27T19:59:00.894Z"
      },
      {
        "duration": 67,
        "start_time": "2023-05-27T20:08:47.885Z"
      },
      {
        "duration": 4,
        "start_time": "2023-05-27T20:08:48.673Z"
      },
      {
        "duration": 32,
        "start_time": "2023-05-27T20:08:49.474Z"
      },
      {
        "duration": 4,
        "start_time": "2023-05-27T20:08:50.226Z"
      },
      {
        "duration": 18,
        "start_time": "2023-05-27T20:09:20.499Z"
      },
      {
        "duration": 170,
        "start_time": "2023-05-27T20:12:01.545Z"
      },
      {
        "duration": 5,
        "start_time": "2023-05-27T20:12:11.335Z"
      },
      {
        "duration": 1029,
        "start_time": "2023-05-27T20:12:11.343Z"
      },
      {
        "duration": 17,
        "start_time": "2023-05-27T20:12:12.375Z"
      },
      {
        "duration": 143,
        "start_time": "2023-05-27T20:12:12.394Z"
      },
      {
        "duration": 486,
        "start_time": "2023-05-27T20:12:12.539Z"
      },
      {
        "duration": 523,
        "start_time": "2023-05-27T20:12:13.027Z"
      },
      {
        "duration": 119,
        "start_time": "2023-05-27T20:12:13.552Z"
      },
      {
        "duration": 115,
        "start_time": "2023-05-27T20:12:13.675Z"
      },
      {
        "duration": 19,
        "start_time": "2023-05-27T20:12:13.792Z"
      },
      {
        "duration": 23,
        "start_time": "2023-05-27T20:12:13.813Z"
      },
      {
        "duration": 51,
        "start_time": "2023-05-27T20:12:13.838Z"
      },
      {
        "duration": 40,
        "start_time": "2023-05-27T20:12:13.891Z"
      },
      {
        "duration": 43,
        "start_time": "2023-05-27T20:12:13.937Z"
      },
      {
        "duration": 201,
        "start_time": "2023-05-27T20:12:13.983Z"
      },
      {
        "duration": 138,
        "start_time": "2023-05-27T20:12:14.186Z"
      },
      {
        "duration": 184,
        "start_time": "2023-05-27T20:12:14.326Z"
      },
      {
        "duration": 292,
        "start_time": "2023-05-27T20:12:14.512Z"
      },
      {
        "duration": 246,
        "start_time": "2023-05-27T20:12:14.805Z"
      },
      {
        "duration": 32,
        "start_time": "2023-05-27T20:12:15.053Z"
      },
      {
        "duration": 53,
        "start_time": "2023-05-27T20:12:15.086Z"
      },
      {
        "duration": 32,
        "start_time": "2023-05-27T20:12:15.140Z"
      },
      {
        "duration": 31,
        "start_time": "2023-05-27T20:12:15.174Z"
      },
      {
        "duration": 45,
        "start_time": "2023-05-27T20:12:15.207Z"
      },
      {
        "duration": 17,
        "start_time": "2023-05-27T20:12:15.254Z"
      },
      {
        "duration": 113,
        "start_time": "2023-05-27T20:12:15.274Z"
      },
      {
        "duration": 13,
        "start_time": "2023-05-27T20:12:15.389Z"
      },
      {
        "duration": 34,
        "start_time": "2023-05-27T20:12:15.404Z"
      },
      {
        "duration": 67,
        "start_time": "2023-05-27T20:12:15.439Z"
      },
      {
        "duration": 102,
        "start_time": "2023-05-27T20:12:15.508Z"
      },
      {
        "duration": 80,
        "start_time": "2023-05-27T20:12:15.612Z"
      },
      {
        "duration": 2,
        "start_time": "2023-05-27T20:12:15.694Z"
      },
      {
        "duration": 26,
        "start_time": "2023-05-27T20:12:15.698Z"
      },
      {
        "duration": 85,
        "start_time": "2023-05-27T20:12:15.726Z"
      },
      {
        "duration": 19,
        "start_time": "2023-05-27T20:12:15.813Z"
      },
      {
        "duration": 28,
        "start_time": "2023-05-27T20:12:15.834Z"
      },
      {
        "duration": 72,
        "start_time": "2023-05-27T20:12:15.867Z"
      },
      {
        "duration": 5,
        "start_time": "2023-05-27T20:12:15.942Z"
      },
      {
        "duration": 53,
        "start_time": "2023-05-27T20:12:15.948Z"
      },
      {
        "duration": 4,
        "start_time": "2023-05-27T20:12:16.003Z"
      },
      {
        "duration": 10,
        "start_time": "2023-05-27T20:12:16.009Z"
      },
      {
        "duration": 20,
        "start_time": "2023-05-27T20:12:16.021Z"
      },
      {
        "duration": 3,
        "start_time": "2023-05-27T20:12:16.043Z"
      },
      {
        "duration": 71,
        "start_time": "2023-05-27T20:12:16.047Z"
      },
      {
        "duration": 3,
        "start_time": "2023-05-27T20:12:16.120Z"
      },
      {
        "duration": 4,
        "start_time": "2023-05-27T20:12:16.125Z"
      },
      {
        "duration": 1533,
        "start_time": "2023-05-27T20:13:46.152Z"
      },
      {
        "duration": 3132,
        "start_time": "2023-05-27T20:13:47.687Z"
      },
      {
        "duration": 18,
        "start_time": "2023-05-27T20:13:50.821Z"
      },
      {
        "duration": 124,
        "start_time": "2023-05-27T20:13:50.841Z"
      },
      {
        "duration": 532,
        "start_time": "2023-05-27T20:13:50.967Z"
      },
      {
        "duration": 580,
        "start_time": "2023-05-27T20:13:51.500Z"
      },
      {
        "duration": 116,
        "start_time": "2023-05-27T20:13:52.081Z"
      },
      {
        "duration": 127,
        "start_time": "2023-05-27T20:13:52.199Z"
      },
      {
        "duration": 19,
        "start_time": "2023-05-27T20:13:52.327Z"
      },
      {
        "duration": 27,
        "start_time": "2023-05-27T20:13:52.358Z"
      },
      {
        "duration": 20,
        "start_time": "2023-05-27T20:13:52.387Z"
      },
      {
        "duration": 26,
        "start_time": "2023-05-27T20:13:52.410Z"
      },
      {
        "duration": 37,
        "start_time": "2023-05-27T20:13:52.438Z"
      },
      {
        "duration": 187,
        "start_time": "2023-05-27T20:13:52.477Z"
      },
      {
        "duration": 112,
        "start_time": "2023-05-27T20:13:52.665Z"
      },
      {
        "duration": 213,
        "start_time": "2023-05-27T20:13:52.779Z"
      },
      {
        "duration": 224,
        "start_time": "2023-05-27T20:13:52.994Z"
      },
      {
        "duration": 255,
        "start_time": "2023-05-27T20:13:53.220Z"
      },
      {
        "duration": 31,
        "start_time": "2023-05-27T20:13:53.477Z"
      },
      {
        "duration": 75,
        "start_time": "2023-05-27T20:13:53.509Z"
      },
      {
        "duration": 7,
        "start_time": "2023-05-27T20:13:53.586Z"
      },
      {
        "duration": 26,
        "start_time": "2023-05-27T20:13:53.595Z"
      },
      {
        "duration": 78,
        "start_time": "2023-05-27T20:13:53.622Z"
      },
      {
        "duration": 6,
        "start_time": "2023-05-27T20:13:53.701Z"
      },
      {
        "duration": 113,
        "start_time": "2023-05-27T20:13:53.709Z"
      },
      {
        "duration": 14,
        "start_time": "2023-05-27T20:13:53.824Z"
      },
      {
        "duration": 41,
        "start_time": "2023-05-27T20:13:53.858Z"
      },
      {
        "duration": 65,
        "start_time": "2023-05-27T20:13:53.904Z"
      },
      {
        "duration": 132,
        "start_time": "2023-05-27T20:13:53.971Z"
      },
      {
        "duration": 85,
        "start_time": "2023-05-27T20:13:54.105Z"
      },
      {
        "duration": 3,
        "start_time": "2023-05-27T20:13:54.192Z"
      },
      {
        "duration": 30,
        "start_time": "2023-05-27T20:13:54.197Z"
      },
      {
        "duration": 81,
        "start_time": "2023-05-27T20:13:54.229Z"
      },
      {
        "duration": 14,
        "start_time": "2023-05-27T20:13:54.312Z"
      },
      {
        "duration": 4,
        "start_time": "2023-05-27T20:13:54.328Z"
      },
      {
        "duration": 93,
        "start_time": "2023-05-27T20:13:54.334Z"
      },
      {
        "duration": 4,
        "start_time": "2023-05-27T20:13:54.429Z"
      },
      {
        "duration": 47,
        "start_time": "2023-05-27T20:13:54.435Z"
      },
      {
        "duration": 4,
        "start_time": "2023-05-27T20:13:54.484Z"
      },
      {
        "duration": 3,
        "start_time": "2023-05-27T20:13:54.490Z"
      },
      {
        "duration": 19,
        "start_time": "2023-05-27T20:13:54.495Z"
      },
      {
        "duration": 3,
        "start_time": "2023-05-27T20:13:54.516Z"
      },
      {
        "duration": 77,
        "start_time": "2023-05-27T20:13:54.521Z"
      },
      {
        "duration": 3,
        "start_time": "2023-05-27T20:13:54.600Z"
      },
      {
        "duration": 6,
        "start_time": "2023-05-27T20:13:54.604Z"
      },
      {
        "duration": 49760,
        "start_time": "2023-05-27T20:13:54.611Z"
      },
      {
        "duration": 58,
        "start_time": "2023-05-27T20:14:44.373Z"
      },
      {
        "duration": 17230,
        "start_time": "2023-05-27T20:14:44.433Z"
      },
      {
        "duration": 45,
        "start_time": "2023-05-27T20:15:01.674Z"
      },
      {
        "duration": 21352,
        "start_time": "2023-05-27T20:15:01.721Z"
      },
      {
        "duration": 38,
        "start_time": "2023-05-27T20:15:23.075Z"
      },
      {
        "duration": 23107,
        "start_time": "2023-05-27T20:15:23.115Z"
      },
      {
        "duration": 166960,
        "start_time": "2023-05-27T20:15:46.223Z"
      },
      {
        "duration": 62412,
        "start_time": "2023-05-27T20:18:33.184Z"
      },
      {
        "duration": 60089,
        "start_time": "2023-05-27T20:20:29.219Z"
      },
      {
        "duration": 77782,
        "start_time": "2023-05-27T20:21:50.020Z"
      },
      {
        "duration": 1565,
        "start_time": "2023-05-31T07:52:10.278Z"
      },
      {
        "duration": 1096,
        "start_time": "2023-05-31T07:52:11.845Z"
      },
      {
        "duration": 17,
        "start_time": "2023-05-31T07:52:12.943Z"
      },
      {
        "duration": 128,
        "start_time": "2023-05-31T07:52:12.962Z"
      },
      {
        "duration": 443,
        "start_time": "2023-05-31T07:52:13.092Z"
      },
      {
        "duration": 458,
        "start_time": "2023-05-31T07:52:13.537Z"
      },
      {
        "duration": 136,
        "start_time": "2023-05-31T07:52:13.996Z"
      },
      {
        "duration": 173,
        "start_time": "2023-05-31T07:52:14.136Z"
      },
      {
        "duration": 27,
        "start_time": "2023-05-31T07:52:14.310Z"
      },
      {
        "duration": 21,
        "start_time": "2023-05-31T07:52:14.338Z"
      },
      {
        "duration": 23,
        "start_time": "2023-05-31T07:52:14.361Z"
      },
      {
        "duration": 46,
        "start_time": "2023-05-31T07:52:14.385Z"
      },
      {
        "duration": 37,
        "start_time": "2023-05-31T07:52:14.436Z"
      },
      {
        "duration": 200,
        "start_time": "2023-05-31T07:52:14.477Z"
      },
      {
        "duration": 155,
        "start_time": "2023-05-31T07:52:14.680Z"
      },
      {
        "duration": 199,
        "start_time": "2023-05-31T07:52:14.837Z"
      },
      {
        "duration": 212,
        "start_time": "2023-05-31T07:52:15.037Z"
      },
      {
        "duration": 239,
        "start_time": "2023-05-31T07:52:15.252Z"
      },
      {
        "duration": 42,
        "start_time": "2023-05-31T07:52:15.493Z"
      },
      {
        "duration": 50,
        "start_time": "2023-05-31T07:52:15.537Z"
      },
      {
        "duration": 10,
        "start_time": "2023-05-31T07:52:15.588Z"
      },
      {
        "duration": 44,
        "start_time": "2023-05-31T07:52:15.600Z"
      },
      {
        "duration": 48,
        "start_time": "2023-05-31T07:52:15.646Z"
      },
      {
        "duration": 6,
        "start_time": "2023-05-31T07:52:15.696Z"
      },
      {
        "duration": 146,
        "start_time": "2023-05-31T07:52:15.704Z"
      },
      {
        "duration": 14,
        "start_time": "2023-05-31T07:52:15.851Z"
      },
      {
        "duration": 32,
        "start_time": "2023-05-31T07:52:15.866Z"
      },
      {
        "duration": 40,
        "start_time": "2023-05-31T07:52:15.927Z"
      },
      {
        "duration": 110,
        "start_time": "2023-05-31T07:52:15.969Z"
      },
      {
        "duration": 101,
        "start_time": "2023-05-31T07:52:16.080Z"
      },
      {
        "duration": 2,
        "start_time": "2023-05-31T07:52:16.183Z"
      },
      {
        "duration": 36,
        "start_time": "2023-05-31T07:52:16.187Z"
      },
      {
        "duration": 67,
        "start_time": "2023-05-31T07:52:16.224Z"
      },
      {
        "duration": 23,
        "start_time": "2023-05-31T07:52:16.293Z"
      },
      {
        "duration": 7,
        "start_time": "2023-05-31T07:52:16.326Z"
      },
      {
        "duration": 55,
        "start_time": "2023-05-31T07:52:16.334Z"
      },
      {
        "duration": 4,
        "start_time": "2023-05-31T07:52:16.391Z"
      },
      {
        "duration": 38,
        "start_time": "2023-05-31T07:52:16.396Z"
      },
      {
        "duration": 21,
        "start_time": "2023-05-31T07:52:16.436Z"
      },
      {
        "duration": 4,
        "start_time": "2023-05-31T07:52:16.458Z"
      },
      {
        "duration": 17,
        "start_time": "2023-05-31T07:52:16.465Z"
      },
      {
        "duration": 3,
        "start_time": "2023-05-31T07:52:16.483Z"
      },
      {
        "duration": 71,
        "start_time": "2023-05-31T07:52:16.487Z"
      },
      {
        "duration": 2,
        "start_time": "2023-05-31T07:52:16.559Z"
      },
      {
        "duration": 4,
        "start_time": "2023-05-31T07:52:16.563Z"
      },
      {
        "duration": 34593,
        "start_time": "2023-05-31T07:52:16.568Z"
      },
      {
        "duration": 49,
        "start_time": "2023-05-31T07:52:51.162Z"
      },
      {
        "duration": 8535,
        "start_time": "2023-05-31T07:52:51.217Z"
      },
      {
        "duration": 32,
        "start_time": "2023-05-31T07:52:59.753Z"
      },
      {
        "duration": 11220,
        "start_time": "2023-05-31T07:52:59.788Z"
      },
      {
        "duration": 50,
        "start_time": "2023-05-31T07:53:11.010Z"
      },
      {
        "duration": 20507,
        "start_time": "2023-05-31T07:53:11.061Z"
      },
      {
        "duration": 479275,
        "start_time": "2023-05-31T07:53:31.570Z"
      },
      {
        "duration": 28815,
        "start_time": "2023-05-31T08:01:30.923Z"
      },
      {
        "duration": 80902,
        "start_time": "2023-05-31T08:01:59.742Z"
      },
      {
        "duration": 64559,
        "start_time": "2023-05-31T08:03:47.196Z"
      },
      {
        "duration": 39221,
        "start_time": "2023-05-31T08:08:25.404Z"
      },
      {
        "duration": 5,
        "start_time": "2023-05-31T08:12:03.876Z"
      },
      {
        "duration": 6,
        "start_time": "2023-05-31T08:12:17.840Z"
      },
      {
        "duration": 7,
        "start_time": "2023-05-31T08:12:35.087Z"
      },
      {
        "duration": 11,
        "start_time": "2023-05-31T08:13:20.973Z"
      },
      {
        "duration": 76221,
        "start_time": "2023-05-31T08:16:10.514Z"
      },
      {
        "duration": 77343,
        "start_time": "2023-05-31T08:23:50.700Z"
      },
      {
        "duration": 29304,
        "start_time": "2023-05-31T08:25:15.378Z"
      },
      {
        "duration": 31283,
        "start_time": "2023-05-31T09:27:27.852Z"
      },
      {
        "duration": 211,
        "start_time": "2023-05-31T09:27:59.137Z"
      },
      {
        "duration": 29331,
        "start_time": "2023-05-31T09:29:23.313Z"
      },
      {
        "duration": 16,
        "start_time": "2023-05-31T09:38:39.013Z"
      },
      {
        "duration": 11,
        "start_time": "2023-05-31T09:39:25.955Z"
      },
      {
        "duration": 11,
        "start_time": "2023-05-31T09:39:47.350Z"
      },
      {
        "duration": 942,
        "start_time": "2023-05-31T09:40:20.683Z"
      },
      {
        "duration": 1768,
        "start_time": "2023-06-01T06:55:00.638Z"
      },
      {
        "duration": 1160,
        "start_time": "2023-06-01T06:55:02.408Z"
      },
      {
        "duration": 16,
        "start_time": "2023-06-01T06:55:03.570Z"
      },
      {
        "duration": 197,
        "start_time": "2023-06-01T06:55:03.589Z"
      },
      {
        "duration": 479,
        "start_time": "2023-06-01T06:55:03.787Z"
      },
      {
        "duration": 524,
        "start_time": "2023-06-01T06:55:04.268Z"
      },
      {
        "duration": 165,
        "start_time": "2023-06-01T06:55:04.794Z"
      },
      {
        "duration": 257,
        "start_time": "2023-06-01T06:55:04.961Z"
      },
      {
        "duration": 118,
        "start_time": "2023-06-01T06:55:05.225Z"
      },
      {
        "duration": 41,
        "start_time": "2023-06-01T06:55:05.345Z"
      },
      {
        "duration": 61,
        "start_time": "2023-06-01T06:55:05.388Z"
      },
      {
        "duration": 43,
        "start_time": "2023-06-01T06:55:05.452Z"
      },
      {
        "duration": 59,
        "start_time": "2023-06-01T06:55:05.497Z"
      },
      {
        "duration": 263,
        "start_time": "2023-06-01T06:55:05.558Z"
      },
      {
        "duration": 162,
        "start_time": "2023-06-01T06:55:05.823Z"
      },
      {
        "duration": 200,
        "start_time": "2023-06-01T06:55:05.987Z"
      },
      {
        "duration": 247,
        "start_time": "2023-06-01T06:55:06.189Z"
      },
      {
        "duration": 257,
        "start_time": "2023-06-01T06:55:06.438Z"
      },
      {
        "duration": 36,
        "start_time": "2023-06-01T06:55:06.697Z"
      },
      {
        "duration": 77,
        "start_time": "2023-06-01T06:55:06.735Z"
      },
      {
        "duration": 7,
        "start_time": "2023-06-01T06:55:06.814Z"
      },
      {
        "duration": 53,
        "start_time": "2023-06-01T06:55:06.822Z"
      },
      {
        "duration": 54,
        "start_time": "2023-06-01T06:55:06.877Z"
      },
      {
        "duration": 10,
        "start_time": "2023-06-01T06:55:06.936Z"
      },
      {
        "duration": 152,
        "start_time": "2023-06-01T06:55:06.948Z"
      },
      {
        "duration": 15,
        "start_time": "2023-06-01T06:55:07.101Z"
      },
      {
        "duration": 58,
        "start_time": "2023-06-01T06:55:07.126Z"
      },
      {
        "duration": 58,
        "start_time": "2023-06-01T06:55:07.191Z"
      },
      {
        "duration": 183,
        "start_time": "2023-06-01T06:55:07.251Z"
      },
      {
        "duration": 75,
        "start_time": "2023-06-01T06:55:07.437Z"
      },
      {
        "duration": 55,
        "start_time": "2023-06-01T06:55:07.514Z"
      },
      {
        "duration": 34,
        "start_time": "2023-06-01T06:55:07.571Z"
      },
      {
        "duration": 113,
        "start_time": "2023-06-01T06:55:07.607Z"
      },
      {
        "duration": 59,
        "start_time": "2023-06-01T06:55:07.722Z"
      },
      {
        "duration": 23,
        "start_time": "2023-06-01T06:55:07.783Z"
      },
      {
        "duration": 107,
        "start_time": "2023-06-01T06:55:07.807Z"
      },
      {
        "duration": 6,
        "start_time": "2023-06-01T06:55:07.915Z"
      },
      {
        "duration": 67,
        "start_time": "2023-06-01T06:55:07.922Z"
      },
      {
        "duration": 10,
        "start_time": "2023-06-01T06:55:07.991Z"
      },
      {
        "duration": 60,
        "start_time": "2023-06-01T06:55:08.003Z"
      },
      {
        "duration": 67,
        "start_time": "2023-06-01T06:55:08.065Z"
      },
      {
        "duration": 27,
        "start_time": "2023-06-01T06:55:08.134Z"
      },
      {
        "duration": 133,
        "start_time": "2023-06-01T06:55:08.163Z"
      },
      {
        "duration": 47,
        "start_time": "2023-06-01T06:55:08.297Z"
      },
      {
        "duration": 70,
        "start_time": "2023-06-01T06:55:08.345Z"
      },
      {
        "duration": 49175,
        "start_time": "2023-06-01T06:55:08.416Z"
      },
      {
        "duration": 60,
        "start_time": "2023-06-01T06:55:57.593Z"
      },
      {
        "duration": 11055,
        "start_time": "2023-06-01T06:55:57.654Z"
      },
      {
        "duration": 42,
        "start_time": "2023-06-01T06:56:08.711Z"
      },
      {
        "duration": 10990,
        "start_time": "2023-06-01T06:56:08.755Z"
      },
      {
        "duration": 38,
        "start_time": "2023-06-01T06:56:19.746Z"
      },
      {
        "duration": 19842,
        "start_time": "2023-06-01T06:56:19.786Z"
      },
      {
        "duration": 23707,
        "start_time": "2023-06-01T06:56:39.630Z"
      },
      {
        "duration": 31842,
        "start_time": "2023-06-01T06:57:03.339Z"
      },
      {
        "duration": 1883,
        "start_time": "2023-06-01T07:22:43.510Z"
      },
      {
        "duration": 885,
        "start_time": "2023-06-01T07:22:45.395Z"
      },
      {
        "duration": 17,
        "start_time": "2023-06-01T07:22:46.282Z"
      },
      {
        "duration": 159,
        "start_time": "2023-06-01T07:22:46.300Z"
      },
      {
        "duration": 484,
        "start_time": "2023-06-01T07:22:46.462Z"
      },
      {
        "duration": 544,
        "start_time": "2023-06-01T07:22:46.949Z"
      },
      {
        "duration": 151,
        "start_time": "2023-06-01T07:22:47.495Z"
      },
      {
        "duration": 164,
        "start_time": "2023-06-01T07:22:47.647Z"
      },
      {
        "duration": 46,
        "start_time": "2023-06-01T07:22:47.812Z"
      },
      {
        "duration": 37,
        "start_time": "2023-06-01T07:22:47.860Z"
      },
      {
        "duration": 54,
        "start_time": "2023-06-01T07:22:47.898Z"
      },
      {
        "duration": 26,
        "start_time": "2023-06-01T07:22:47.954Z"
      },
      {
        "duration": 46,
        "start_time": "2023-06-01T07:22:47.981Z"
      },
      {
        "duration": 216,
        "start_time": "2023-06-01T07:22:48.033Z"
      },
      {
        "duration": 129,
        "start_time": "2023-06-01T07:22:48.251Z"
      },
      {
        "duration": 161,
        "start_time": "2023-06-01T07:22:48.382Z"
      },
      {
        "duration": 208,
        "start_time": "2023-06-01T07:22:48.545Z"
      },
      {
        "duration": 247,
        "start_time": "2023-06-01T07:22:48.754Z"
      },
      {
        "duration": 46,
        "start_time": "2023-06-01T07:22:49.003Z"
      },
      {
        "duration": 48,
        "start_time": "2023-06-01T07:22:49.051Z"
      },
      {
        "duration": 30,
        "start_time": "2023-06-01T07:22:49.101Z"
      },
      {
        "duration": 27,
        "start_time": "2023-06-01T07:22:49.133Z"
      },
      {
        "duration": 168,
        "start_time": "2023-06-01T07:22:49.162Z"
      },
      {
        "duration": 9,
        "start_time": "2023-06-01T07:22:49.333Z"
      },
      {
        "duration": 146,
        "start_time": "2023-06-01T07:22:49.344Z"
      },
      {
        "duration": 13,
        "start_time": "2023-06-01T07:22:49.491Z"
      },
      {
        "duration": 44,
        "start_time": "2023-06-01T07:22:49.506Z"
      },
      {
        "duration": 38,
        "start_time": "2023-06-01T07:22:49.551Z"
      },
      {
        "duration": 138,
        "start_time": "2023-06-01T07:22:49.590Z"
      },
      {
        "duration": 87,
        "start_time": "2023-06-01T07:22:49.730Z"
      },
      {
        "duration": 3,
        "start_time": "2023-06-01T07:22:49.818Z"
      },
      {
        "duration": 59,
        "start_time": "2023-06-01T07:22:49.823Z"
      },
      {
        "duration": 84,
        "start_time": "2023-06-01T07:22:49.883Z"
      },
      {
        "duration": 22,
        "start_time": "2023-06-01T07:22:49.969Z"
      },
      {
        "duration": 36,
        "start_time": "2023-06-01T07:22:49.993Z"
      },
      {
        "duration": 88,
        "start_time": "2023-06-01T07:22:50.031Z"
      },
      {
        "duration": 5,
        "start_time": "2023-06-01T07:22:50.120Z"
      },
      {
        "duration": 48,
        "start_time": "2023-06-01T07:22:50.127Z"
      },
      {
        "duration": 12,
        "start_time": "2023-06-01T07:22:50.177Z"
      },
      {
        "duration": 23,
        "start_time": "2023-06-01T07:22:50.191Z"
      },
      {
        "duration": 50,
        "start_time": "2023-06-01T07:22:50.217Z"
      },
      {
        "duration": 20,
        "start_time": "2023-06-01T07:22:50.269Z"
      },
      {
        "duration": 86,
        "start_time": "2023-06-01T07:22:50.291Z"
      },
      {
        "duration": 2,
        "start_time": "2023-06-01T07:22:50.379Z"
      },
      {
        "duration": 25,
        "start_time": "2023-06-01T07:22:50.383Z"
      },
      {
        "duration": 51203,
        "start_time": "2023-06-01T07:22:50.410Z"
      },
      {
        "duration": 60,
        "start_time": "2023-06-01T07:23:41.614Z"
      },
      {
        "duration": 12500,
        "start_time": "2023-06-01T07:23:41.677Z"
      },
      {
        "duration": 54,
        "start_time": "2023-06-01T07:23:54.179Z"
      },
      {
        "duration": 13023,
        "start_time": "2023-06-01T07:23:54.235Z"
      },
      {
        "duration": 43,
        "start_time": "2023-06-01T07:24:07.260Z"
      },
      {
        "duration": 19487,
        "start_time": "2023-06-01T07:24:07.307Z"
      },
      {
        "duration": 30136,
        "start_time": "2023-06-01T07:24:26.796Z"
      },
      {
        "duration": 33670,
        "start_time": "2023-06-01T07:24:56.933Z"
      },
      {
        "duration": 5,
        "start_time": "2023-06-01T07:25:30.604Z"
      },
      {
        "duration": 0,
        "start_time": "2023-06-01T07:25:30.611Z"
      },
      {
        "duration": 0,
        "start_time": "2023-06-01T07:25:30.612Z"
      },
      {
        "duration": 0,
        "start_time": "2023-06-01T07:25:30.625Z"
      },
      {
        "duration": 0,
        "start_time": "2023-06-01T07:25:30.626Z"
      },
      {
        "duration": 0,
        "start_time": "2023-06-01T07:25:30.628Z"
      },
      {
        "duration": 1718,
        "start_time": "2023-06-01T08:20:43.453Z"
      },
      {
        "duration": 1248,
        "start_time": "2023-06-01T08:20:45.177Z"
      },
      {
        "duration": 28,
        "start_time": "2023-06-01T08:20:46.427Z"
      },
      {
        "duration": 256,
        "start_time": "2023-06-01T08:20:46.457Z"
      },
      {
        "duration": 765,
        "start_time": "2023-06-01T08:20:46.730Z"
      },
      {
        "duration": 762,
        "start_time": "2023-06-01T08:20:47.497Z"
      },
      {
        "duration": 173,
        "start_time": "2023-06-01T08:20:48.261Z"
      },
      {
        "duration": 245,
        "start_time": "2023-06-01T08:20:48.436Z"
      },
      {
        "duration": 34,
        "start_time": "2023-06-01T08:20:48.683Z"
      },
      {
        "duration": 36,
        "start_time": "2023-06-01T08:20:48.725Z"
      },
      {
        "duration": 40,
        "start_time": "2023-06-01T08:20:48.763Z"
      },
      {
        "duration": 75,
        "start_time": "2023-06-01T08:20:48.806Z"
      },
      {
        "duration": 40,
        "start_time": "2023-06-01T08:20:48.883Z"
      },
      {
        "duration": 258,
        "start_time": "2023-06-01T08:20:48.927Z"
      },
      {
        "duration": 172,
        "start_time": "2023-06-01T08:20:49.186Z"
      },
      {
        "duration": 196,
        "start_time": "2023-06-01T08:20:49.360Z"
      },
      {
        "duration": 235,
        "start_time": "2023-06-01T08:20:49.558Z"
      },
      {
        "duration": 279,
        "start_time": "2023-06-01T08:20:49.797Z"
      },
      {
        "duration": 37,
        "start_time": "2023-06-01T08:20:50.077Z"
      },
      {
        "duration": 67,
        "start_time": "2023-06-01T08:20:50.127Z"
      },
      {
        "duration": 10,
        "start_time": "2023-06-01T08:20:50.196Z"
      },
      {
        "duration": 50,
        "start_time": "2023-06-01T08:20:50.207Z"
      },
      {
        "duration": 76,
        "start_time": "2023-06-01T08:20:50.259Z"
      },
      {
        "duration": 12,
        "start_time": "2023-06-01T08:20:50.341Z"
      },
      {
        "duration": 162,
        "start_time": "2023-06-01T08:20:50.354Z"
      },
      {
        "duration": 50,
        "start_time": "2023-06-01T08:20:50.518Z"
      },
      {
        "duration": 37,
        "start_time": "2023-06-01T08:20:50.570Z"
      },
      {
        "duration": 49,
        "start_time": "2023-06-01T08:20:50.609Z"
      },
      {
        "duration": 137,
        "start_time": "2023-06-01T08:20:50.659Z"
      },
      {
        "duration": 91,
        "start_time": "2023-06-01T08:20:50.798Z"
      },
      {
        "duration": 3,
        "start_time": "2023-06-01T08:20:50.892Z"
      },
      {
        "duration": 49,
        "start_time": "2023-06-01T08:20:50.897Z"
      },
      {
        "duration": 167,
        "start_time": "2023-06-01T08:20:50.953Z"
      },
      {
        "duration": 63,
        "start_time": "2023-06-01T08:20:51.122Z"
      },
      {
        "duration": 24,
        "start_time": "2023-06-01T08:20:51.188Z"
      },
      {
        "duration": 172,
        "start_time": "2023-06-01T08:20:51.214Z"
      },
      {
        "duration": 5,
        "start_time": "2023-06-01T08:20:51.388Z"
      },
      {
        "duration": 120,
        "start_time": "2023-06-01T08:20:51.395Z"
      },
      {
        "duration": 5,
        "start_time": "2023-06-01T08:20:51.517Z"
      },
      {
        "duration": 42,
        "start_time": "2023-06-01T08:20:51.524Z"
      },
      {
        "duration": 39,
        "start_time": "2023-06-01T08:20:51.572Z"
      },
      {
        "duration": 4,
        "start_time": "2023-06-01T08:20:51.613Z"
      },
      {
        "duration": 95,
        "start_time": "2023-06-01T08:20:51.619Z"
      },
      {
        "duration": 3,
        "start_time": "2023-06-01T08:20:51.716Z"
      },
      {
        "duration": 47,
        "start_time": "2023-06-01T08:20:51.721Z"
      },
      {
        "duration": 56213,
        "start_time": "2023-06-01T08:20:51.770Z"
      },
      {
        "duration": 70,
        "start_time": "2023-06-01T08:21:47.985Z"
      },
      {
        "duration": 16241,
        "start_time": "2023-06-01T08:21:48.060Z"
      },
      {
        "duration": 45,
        "start_time": "2023-06-01T08:22:04.303Z"
      },
      {
        "duration": 17198,
        "start_time": "2023-06-01T08:22:04.350Z"
      },
      {
        "duration": 57,
        "start_time": "2023-06-01T08:22:21.550Z"
      },
      {
        "duration": 26751,
        "start_time": "2023-06-01T08:22:21.608Z"
      },
      {
        "duration": 172266,
        "start_time": "2023-06-01T08:22:48.362Z"
      },
      {
        "duration": 42174,
        "start_time": "2023-06-01T08:25:40.634Z"
      },
      {
        "duration": 5,
        "start_time": "2023-06-01T08:26:22.810Z"
      },
      {
        "duration": 0,
        "start_time": "2023-06-01T08:26:22.817Z"
      },
      {
        "duration": 0,
        "start_time": "2023-06-01T08:26:22.826Z"
      },
      {
        "duration": 0,
        "start_time": "2023-06-01T08:26:22.829Z"
      },
      {
        "duration": 0,
        "start_time": "2023-06-01T08:26:22.832Z"
      },
      {
        "duration": 0,
        "start_time": "2023-06-01T08:26:22.834Z"
      },
      {
        "duration": 0,
        "start_time": "2023-06-01T08:26:22.840Z"
      },
      {
        "duration": 1142080,
        "start_time": "2023-06-01T08:26:29.752Z"
      },
      {
        "duration": 1275643,
        "start_time": "2023-06-01T08:48:56.975Z"
      },
      {
        "duration": 38291,
        "start_time": "2023-06-01T09:11:47.459Z"
      },
      {
        "duration": 29128,
        "start_time": "2023-06-01T09:12:35.520Z"
      },
      {
        "duration": 42162,
        "start_time": "2023-06-01T09:21:29.676Z"
      },
      {
        "duration": 160081,
        "start_time": "2023-06-01T09:56:52.154Z"
      },
      {
        "duration": 194968,
        "start_time": "2023-06-01T10:00:34.606Z"
      },
      {
        "duration": 49,
        "start_time": "2023-06-01T13:38:57.653Z"
      },
      {
        "duration": 12,
        "start_time": "2023-06-01T13:39:12.850Z"
      },
      {
        "duration": 1883,
        "start_time": "2023-06-01T13:39:18.362Z"
      },
      {
        "duration": 1450,
        "start_time": "2023-06-01T13:39:20.248Z"
      },
      {
        "duration": 20,
        "start_time": "2023-06-01T13:39:21.700Z"
      },
      {
        "duration": 259,
        "start_time": "2023-06-01T13:39:21.722Z"
      },
      {
        "duration": 569,
        "start_time": "2023-06-01T13:39:21.984Z"
      },
      {
        "duration": 591,
        "start_time": "2023-06-01T13:39:22.557Z"
      },
      {
        "duration": 144,
        "start_time": "2023-06-01T13:39:23.152Z"
      },
      {
        "duration": 173,
        "start_time": "2023-06-01T13:39:23.298Z"
      },
      {
        "duration": 22,
        "start_time": "2023-06-01T13:39:23.472Z"
      },
      {
        "duration": 49,
        "start_time": "2023-06-01T13:39:23.496Z"
      },
      {
        "duration": 34,
        "start_time": "2023-06-01T13:39:23.547Z"
      },
      {
        "duration": 26,
        "start_time": "2023-06-01T13:39:23.582Z"
      },
      {
        "duration": 39,
        "start_time": "2023-06-01T13:39:23.610Z"
      },
      {
        "duration": 230,
        "start_time": "2023-06-01T13:39:23.654Z"
      },
      {
        "duration": 178,
        "start_time": "2023-06-01T13:39:23.886Z"
      },
      {
        "duration": 220,
        "start_time": "2023-06-01T13:39:24.066Z"
      },
      {
        "duration": 279,
        "start_time": "2023-06-01T13:39:24.287Z"
      },
      {
        "duration": 280,
        "start_time": "2023-06-01T13:39:24.568Z"
      },
      {
        "duration": 39,
        "start_time": "2023-06-01T13:39:24.851Z"
      },
      {
        "duration": 85,
        "start_time": "2023-06-01T13:39:24.892Z"
      },
      {
        "duration": 11,
        "start_time": "2023-06-01T13:39:24.979Z"
      },
      {
        "duration": 68,
        "start_time": "2023-06-01T13:39:24.992Z"
      },
      {
        "duration": 110,
        "start_time": "2023-06-01T13:39:25.065Z"
      },
      {
        "duration": 8,
        "start_time": "2023-06-01T13:39:25.177Z"
      },
      {
        "duration": 198,
        "start_time": "2023-06-01T13:39:25.186Z"
      },
      {
        "duration": 17,
        "start_time": "2023-06-01T13:39:25.385Z"
      },
      {
        "duration": 61,
        "start_time": "2023-06-01T13:39:25.404Z"
      },
      {
        "duration": 58,
        "start_time": "2023-06-01T13:39:25.467Z"
      },
      {
        "duration": 158,
        "start_time": "2023-06-01T13:39:25.526Z"
      },
      {
        "duration": 97,
        "start_time": "2023-06-01T13:39:25.686Z"
      },
      {
        "duration": 2,
        "start_time": "2023-06-01T13:39:25.785Z"
      },
      {
        "duration": 39,
        "start_time": "2023-06-01T13:39:25.789Z"
      },
      {
        "duration": 88,
        "start_time": "2023-06-01T13:39:25.836Z"
      },
      {
        "duration": 23,
        "start_time": "2023-06-01T13:39:25.926Z"
      },
      {
        "duration": 16,
        "start_time": "2023-06-01T13:39:25.951Z"
      },
      {
        "duration": 80,
        "start_time": "2023-06-01T13:39:25.969Z"
      },
      {
        "duration": 7,
        "start_time": "2023-06-01T13:39:26.051Z"
      },
      {
        "duration": 39,
        "start_time": "2023-06-01T13:39:26.061Z"
      },
      {
        "duration": 5,
        "start_time": "2023-06-01T13:39:26.102Z"
      },
      {
        "duration": 21,
        "start_time": "2023-06-01T13:39:26.109Z"
      },
      {
        "duration": 72,
        "start_time": "2023-06-01T13:39:26.136Z"
      },
      {
        "duration": 45,
        "start_time": "2023-06-01T13:39:26.209Z"
      },
      {
        "duration": 89,
        "start_time": "2023-06-01T13:39:26.256Z"
      },
      {
        "duration": 36,
        "start_time": "2023-06-01T13:39:26.347Z"
      },
      {
        "duration": 39,
        "start_time": "2023-06-01T13:39:26.385Z"
      },
      {
        "duration": 57421,
        "start_time": "2023-06-01T13:39:26.425Z"
      },
      {
        "duration": 59,
        "start_time": "2023-06-01T13:40:23.849Z"
      },
      {
        "duration": 20134,
        "start_time": "2023-06-01T13:40:23.910Z"
      },
      {
        "duration": 39,
        "start_time": "2023-06-01T13:40:44.046Z"
      },
      {
        "duration": 19742,
        "start_time": "2023-06-01T13:40:44.087Z"
      },
      {
        "duration": 38,
        "start_time": "2023-06-01T13:41:03.837Z"
      },
      {
        "duration": 22157,
        "start_time": "2023-06-01T13:41:03.876Z"
      },
      {
        "duration": 1379,
        "start_time": "2023-06-01T13:43:56.963Z"
      },
      {
        "duration": 832,
        "start_time": "2023-06-01T13:43:58.344Z"
      },
      {
        "duration": 20,
        "start_time": "2023-06-01T13:43:59.177Z"
      },
      {
        "duration": 184,
        "start_time": "2023-06-01T13:43:59.199Z"
      },
      {
        "duration": 505,
        "start_time": "2023-06-01T13:43:59.384Z"
      },
      {
        "duration": 561,
        "start_time": "2023-06-01T13:43:59.891Z"
      },
      {
        "duration": 132,
        "start_time": "2023-06-01T13:44:00.454Z"
      },
      {
        "duration": 177,
        "start_time": "2023-06-01T13:44:00.588Z"
      },
      {
        "duration": 20,
        "start_time": "2023-06-01T13:44:00.767Z"
      },
      {
        "duration": 51,
        "start_time": "2023-06-01T13:44:00.790Z"
      },
      {
        "duration": 55,
        "start_time": "2023-06-01T13:44:00.843Z"
      },
      {
        "duration": 61,
        "start_time": "2023-06-01T13:44:00.900Z"
      },
      {
        "duration": 58,
        "start_time": "2023-06-01T13:44:00.963Z"
      },
      {
        "duration": 261,
        "start_time": "2023-06-01T13:44:01.022Z"
      },
      {
        "duration": 151,
        "start_time": "2023-06-01T13:44:01.285Z"
      },
      {
        "duration": 174,
        "start_time": "2023-06-01T13:44:01.440Z"
      },
      {
        "duration": 264,
        "start_time": "2023-06-01T13:44:01.615Z"
      },
      {
        "duration": 293,
        "start_time": "2023-06-01T13:44:01.880Z"
      },
      {
        "duration": 49,
        "start_time": "2023-06-01T13:44:02.175Z"
      },
      {
        "duration": 135,
        "start_time": "2023-06-01T13:44:02.226Z"
      },
      {
        "duration": 37,
        "start_time": "2023-06-01T13:44:02.362Z"
      },
      {
        "duration": 86,
        "start_time": "2023-06-01T13:44:02.402Z"
      },
      {
        "duration": 109,
        "start_time": "2023-06-01T13:44:02.490Z"
      },
      {
        "duration": 8,
        "start_time": "2023-06-01T13:44:02.602Z"
      },
      {
        "duration": 165,
        "start_time": "2023-06-01T13:44:02.611Z"
      },
      {
        "duration": 13,
        "start_time": "2023-06-01T13:44:02.778Z"
      },
      {
        "duration": 63,
        "start_time": "2023-06-01T13:44:02.793Z"
      },
      {
        "duration": 88,
        "start_time": "2023-06-01T13:44:02.859Z"
      },
      {
        "duration": 136,
        "start_time": "2023-06-01T13:44:02.949Z"
      },
      {
        "duration": 101,
        "start_time": "2023-06-01T13:44:03.087Z"
      },
      {
        "duration": 6,
        "start_time": "2023-06-01T13:44:03.191Z"
      },
      {
        "duration": 63,
        "start_time": "2023-06-01T13:44:03.199Z"
      },
      {
        "duration": 120,
        "start_time": "2023-06-01T13:44:03.263Z"
      },
      {
        "duration": 57,
        "start_time": "2023-06-01T13:44:03.386Z"
      },
      {
        "duration": 45,
        "start_time": "2023-06-01T13:44:03.445Z"
      },
      {
        "duration": 109,
        "start_time": "2023-06-01T13:44:03.492Z"
      },
      {
        "duration": 10,
        "start_time": "2023-06-01T13:44:03.602Z"
      },
      {
        "duration": 55,
        "start_time": "2023-06-01T13:44:03.613Z"
      },
      {
        "duration": 4,
        "start_time": "2023-06-01T13:44:03.669Z"
      },
      {
        "duration": 21,
        "start_time": "2023-06-01T13:44:03.674Z"
      },
      {
        "duration": 38,
        "start_time": "2023-06-01T13:44:03.696Z"
      },
      {
        "duration": 28,
        "start_time": "2023-06-01T13:44:03.739Z"
      },
      {
        "duration": 93,
        "start_time": "2023-06-01T13:44:03.770Z"
      },
      {
        "duration": 3,
        "start_time": "2023-06-01T13:44:03.865Z"
      },
      {
        "duration": 43,
        "start_time": "2023-06-01T13:44:03.869Z"
      },
      {
        "duration": 54540,
        "start_time": "2023-06-01T13:44:03.914Z"
      },
      {
        "duration": 58,
        "start_time": "2023-06-01T13:44:58.456Z"
      },
      {
        "duration": 20632,
        "start_time": "2023-06-01T13:44:58.516Z"
      },
      {
        "duration": 38,
        "start_time": "2023-06-01T13:45:19.149Z"
      },
      {
        "duration": 20377,
        "start_time": "2023-06-01T13:45:19.189Z"
      },
      {
        "duration": 38,
        "start_time": "2023-06-01T13:45:39.568Z"
      },
      {
        "duration": 23543,
        "start_time": "2023-06-01T13:45:39.607Z"
      },
      {
        "duration": 154788,
        "start_time": "2023-06-01T13:46:03.152Z"
      },
      {
        "duration": 185311,
        "start_time": "2023-06-01T13:48:37.942Z"
      },
      {
        "duration": 5,
        "start_time": "2023-06-01T13:51:43.255Z"
      },
      {
        "duration": 0,
        "start_time": "2023-06-01T13:51:43.262Z"
      },
      {
        "duration": 0,
        "start_time": "2023-06-01T13:51:43.264Z"
      },
      {
        "duration": 0,
        "start_time": "2023-06-01T13:51:43.265Z"
      },
      {
        "duration": 0,
        "start_time": "2023-06-01T13:51:43.266Z"
      },
      {
        "duration": 0,
        "start_time": "2023-06-01T13:51:43.268Z"
      },
      {
        "duration": 0,
        "start_time": "2023-06-01T13:51:43.326Z"
      },
      {
        "duration": 217019,
        "start_time": "2023-06-01T14:03:24.051Z"
      },
      {
        "duration": 580,
        "start_time": "2023-06-01T14:07:01.073Z"
      },
      {
        "duration": 24442,
        "start_time": "2023-06-01T14:11:27.604Z"
      },
      {
        "duration": 149183,
        "start_time": "2023-06-01T14:12:49.574Z"
      },
      {
        "duration": 584,
        "start_time": "2023-06-01T14:15:18.760Z"
      },
      {
        "duration": 213892,
        "start_time": "2023-06-01T14:19:17.568Z"
      },
      {
        "duration": 1626,
        "start_time": "2023-06-01T17:39:52.670Z"
      },
      {
        "duration": 3364,
        "start_time": "2023-06-01T17:39:54.299Z"
      },
      {
        "duration": 18,
        "start_time": "2023-06-01T17:39:57.664Z"
      },
      {
        "duration": 166,
        "start_time": "2023-06-01T17:39:57.684Z"
      },
      {
        "duration": 479,
        "start_time": "2023-06-01T17:39:57.853Z"
      },
      {
        "duration": 511,
        "start_time": "2023-06-01T17:39:58.334Z"
      },
      {
        "duration": 141,
        "start_time": "2023-06-01T17:39:58.847Z"
      },
      {
        "duration": 144,
        "start_time": "2023-06-01T17:39:58.990Z"
      },
      {
        "duration": 28,
        "start_time": "2023-06-01T17:39:59.136Z"
      },
      {
        "duration": 37,
        "start_time": "2023-06-01T17:39:59.166Z"
      },
      {
        "duration": 33,
        "start_time": "2023-06-01T17:39:59.204Z"
      },
      {
        "duration": 19,
        "start_time": "2023-06-01T17:39:59.239Z"
      },
      {
        "duration": 34,
        "start_time": "2023-06-01T17:39:59.260Z"
      },
      {
        "duration": 195,
        "start_time": "2023-06-01T17:39:59.298Z"
      },
      {
        "duration": 187,
        "start_time": "2023-06-01T17:39:59.495Z"
      },
      {
        "duration": 221,
        "start_time": "2023-06-01T17:39:59.684Z"
      },
      {
        "duration": 244,
        "start_time": "2023-06-01T17:39:59.906Z"
      },
      {
        "duration": 258,
        "start_time": "2023-06-01T17:40:00.152Z"
      },
      {
        "duration": 42,
        "start_time": "2023-06-01T17:40:00.412Z"
      },
      {
        "duration": 69,
        "start_time": "2023-06-01T17:40:00.456Z"
      },
      {
        "duration": 10,
        "start_time": "2023-06-01T17:40:00.527Z"
      },
      {
        "duration": 34,
        "start_time": "2023-06-01T17:40:00.539Z"
      },
      {
        "duration": 57,
        "start_time": "2023-06-01T17:40:00.575Z"
      },
      {
        "duration": 10,
        "start_time": "2023-06-01T17:40:00.634Z"
      },
      {
        "duration": 166,
        "start_time": "2023-06-01T17:40:00.646Z"
      },
      {
        "duration": 84,
        "start_time": "2023-06-01T17:40:00.814Z"
      },
      {
        "duration": 48,
        "start_time": "2023-06-01T17:40:00.900Z"
      },
      {
        "duration": 44,
        "start_time": "2023-06-01T17:40:00.950Z"
      },
      {
        "duration": 136,
        "start_time": "2023-06-01T17:40:00.996Z"
      },
      {
        "duration": 63,
        "start_time": "2023-06-01T17:40:01.134Z"
      },
      {
        "duration": 3,
        "start_time": "2023-06-01T17:40:01.199Z"
      },
      {
        "duration": 68,
        "start_time": "2023-06-01T17:40:01.226Z"
      },
      {
        "duration": 81,
        "start_time": "2023-06-01T17:40:01.296Z"
      },
      {
        "duration": 47,
        "start_time": "2023-06-01T17:40:01.379Z"
      },
      {
        "duration": 28,
        "start_time": "2023-06-01T17:40:01.429Z"
      },
      {
        "duration": 136,
        "start_time": "2023-06-01T17:40:01.458Z"
      },
      {
        "duration": 84,
        "start_time": "2023-06-01T17:40:01.596Z"
      },
      {
        "duration": 61,
        "start_time": "2023-06-01T17:40:01.682Z"
      },
      {
        "duration": 47,
        "start_time": "2023-06-01T17:40:01.745Z"
      },
      {
        "duration": 53,
        "start_time": "2023-06-01T17:40:01.794Z"
      },
      {
        "duration": 62,
        "start_time": "2023-06-01T17:40:01.854Z"
      },
      {
        "duration": 24,
        "start_time": "2023-06-01T17:40:01.918Z"
      },
      {
        "duration": 129,
        "start_time": "2023-06-01T17:40:01.944Z"
      },
      {
        "duration": 2,
        "start_time": "2023-06-01T17:40:02.076Z"
      },
      {
        "duration": 65,
        "start_time": "2023-06-01T17:40:02.081Z"
      },
      {
        "duration": 49906,
        "start_time": "2023-06-01T17:40:02.148Z"
      },
      {
        "duration": 69,
        "start_time": "2023-06-01T17:40:52.056Z"
      },
      {
        "duration": 20153,
        "start_time": "2023-06-01T17:40:52.127Z"
      },
      {
        "duration": 73,
        "start_time": "2023-06-01T17:41:12.282Z"
      },
      {
        "duration": 20076,
        "start_time": "2023-06-01T17:41:12.358Z"
      },
      {
        "duration": 37,
        "start_time": "2023-06-01T17:41:32.436Z"
      },
      {
        "duration": 22715,
        "start_time": "2023-06-01T17:41:32.475Z"
      },
      {
        "duration": 39037,
        "start_time": "2023-06-01T17:52:48.816Z"
      },
      {
        "duration": 515,
        "start_time": "2023-06-01T17:53:27.925Z"
      },
      {
        "duration": 18203,
        "start_time": "2023-06-01T17:53:28.442Z"
      },
      {
        "duration": 589,
        "start_time": "2023-06-01T17:53:46.648Z"
      },
      {
        "duration": 5,
        "start_time": "2023-06-01T17:53:47.239Z"
      },
      {
        "duration": 0,
        "start_time": "2023-06-01T17:53:47.246Z"
      },
      {
        "duration": 0,
        "start_time": "2023-06-01T17:53:47.246Z"
      },
      {
        "duration": 0,
        "start_time": "2023-06-01T17:53:47.248Z"
      },
      {
        "duration": 0,
        "start_time": "2023-06-01T17:53:47.249Z"
      },
      {
        "duration": 0,
        "start_time": "2023-06-01T17:53:47.250Z"
      },
      {
        "duration": 0,
        "start_time": "2023-06-01T17:53:47.251Z"
      },
      {
        "duration": 0,
        "start_time": "2023-06-01T17:53:47.252Z"
      },
      {
        "duration": 2054,
        "start_time": "2023-06-01T17:54:03.252Z"
      },
      {
        "duration": 715278,
        "start_time": "2023-06-01T17:55:28.480Z"
      },
      {
        "duration": 106958,
        "start_time": "2023-06-01T18:08:34.279Z"
      },
      {
        "duration": 71315,
        "start_time": "2023-06-01T18:11:07.910Z"
      },
      {
        "duration": 32577,
        "start_time": "2023-06-01T18:12:38.113Z"
      },
      {
        "duration": 32406,
        "start_time": "2023-06-01T18:14:17.054Z"
      },
      {
        "duration": 1617,
        "start_time": "2023-06-02T07:21:18.556Z"
      },
      {
        "duration": 2892,
        "start_time": "2023-06-02T07:21:20.176Z"
      },
      {
        "duration": 16,
        "start_time": "2023-06-02T07:21:23.070Z"
      },
      {
        "duration": 123,
        "start_time": "2023-06-02T07:21:23.088Z"
      },
      {
        "duration": 441,
        "start_time": "2023-06-02T07:21:23.213Z"
      },
      {
        "duration": 470,
        "start_time": "2023-06-02T07:21:23.655Z"
      },
      {
        "duration": 116,
        "start_time": "2023-06-02T07:21:24.127Z"
      },
      {
        "duration": 132,
        "start_time": "2023-06-02T07:21:24.245Z"
      },
      {
        "duration": 19,
        "start_time": "2023-06-02T07:21:24.379Z"
      },
      {
        "duration": 32,
        "start_time": "2023-06-02T07:21:24.400Z"
      },
      {
        "duration": 39,
        "start_time": "2023-06-02T07:21:24.434Z"
      },
      {
        "duration": 23,
        "start_time": "2023-06-02T07:21:24.474Z"
      },
      {
        "duration": 29,
        "start_time": "2023-06-02T07:21:24.498Z"
      },
      {
        "duration": 177,
        "start_time": "2023-06-02T07:21:24.529Z"
      },
      {
        "duration": 124,
        "start_time": "2023-06-02T07:21:24.707Z"
      },
      {
        "duration": 179,
        "start_time": "2023-06-02T07:21:24.833Z"
      },
      {
        "duration": 205,
        "start_time": "2023-06-02T07:21:25.014Z"
      },
      {
        "duration": 207,
        "start_time": "2023-06-02T07:21:25.221Z"
      },
      {
        "duration": 26,
        "start_time": "2023-06-02T07:21:25.430Z"
      },
      {
        "duration": 75,
        "start_time": "2023-06-02T07:21:25.457Z"
      },
      {
        "duration": 6,
        "start_time": "2023-06-02T07:21:25.534Z"
      },
      {
        "duration": 19,
        "start_time": "2023-06-02T07:21:25.542Z"
      },
      {
        "duration": 62,
        "start_time": "2023-06-02T07:21:25.563Z"
      },
      {
        "duration": 6,
        "start_time": "2023-06-02T07:21:25.627Z"
      },
      {
        "duration": 123,
        "start_time": "2023-06-02T07:21:25.634Z"
      },
      {
        "duration": 11,
        "start_time": "2023-06-02T07:21:25.759Z"
      },
      {
        "duration": 27,
        "start_time": "2023-06-02T07:21:25.772Z"
      },
      {
        "duration": 60,
        "start_time": "2023-06-02T07:21:25.800Z"
      },
      {
        "duration": 116,
        "start_time": "2023-06-02T07:21:25.861Z"
      },
      {
        "duration": 65,
        "start_time": "2023-06-02T07:21:25.978Z"
      },
      {
        "duration": 3,
        "start_time": "2023-06-02T07:21:26.044Z"
      },
      {
        "duration": 29,
        "start_time": "2023-06-02T07:21:26.048Z"
      },
      {
        "duration": 75,
        "start_time": "2023-06-02T07:21:26.079Z"
      },
      {
        "duration": 20,
        "start_time": "2023-06-02T07:21:26.156Z"
      },
      {
        "duration": 3,
        "start_time": "2023-06-02T07:21:26.177Z"
      },
      {
        "duration": 74,
        "start_time": "2023-06-02T07:21:26.182Z"
      },
      {
        "duration": 3,
        "start_time": "2023-06-02T07:21:26.258Z"
      },
      {
        "duration": 28,
        "start_time": "2023-06-02T07:21:26.262Z"
      },
      {
        "duration": 4,
        "start_time": "2023-06-02T07:21:26.292Z"
      },
      {
        "duration": 5,
        "start_time": "2023-06-02T07:21:26.297Z"
      },
      {
        "duration": 16,
        "start_time": "2023-06-02T07:21:26.324Z"
      },
      {
        "duration": 3,
        "start_time": "2023-06-02T07:21:26.342Z"
      },
      {
        "duration": 45,
        "start_time": "2023-06-02T07:21:26.346Z"
      },
      {
        "duration": 2,
        "start_time": "2023-06-02T07:21:26.393Z"
      },
      {
        "duration": 7,
        "start_time": "2023-06-02T07:21:26.396Z"
      },
      {
        "duration": 57568,
        "start_time": "2023-06-02T07:21:26.404Z"
      },
      {
        "duration": 62,
        "start_time": "2023-06-02T07:22:23.974Z"
      },
      {
        "duration": 14783,
        "start_time": "2023-06-02T07:22:24.038Z"
      },
      {
        "duration": 35,
        "start_time": "2023-06-02T07:22:38.823Z"
      },
      {
        "duration": 14465,
        "start_time": "2023-06-02T07:22:38.860Z"
      },
      {
        "duration": 35,
        "start_time": "2023-06-02T07:22:53.326Z"
      },
      {
        "duration": 29364,
        "start_time": "2023-06-02T07:22:53.362Z"
      },
      {
        "duration": 1438,
        "start_time": "2023-06-02T07:31:26.756Z"
      },
      {
        "duration": 759,
        "start_time": "2023-06-02T07:31:28.196Z"
      },
      {
        "duration": 19,
        "start_time": "2023-06-02T07:31:28.957Z"
      },
      {
        "duration": 136,
        "start_time": "2023-06-02T07:31:28.978Z"
      },
      {
        "duration": 446,
        "start_time": "2023-06-02T07:31:29.116Z"
      },
      {
        "duration": 561,
        "start_time": "2023-06-02T07:31:29.564Z"
      },
      {
        "duration": 118,
        "start_time": "2023-06-02T07:31:30.127Z"
      },
      {
        "duration": 150,
        "start_time": "2023-06-02T07:31:30.247Z"
      },
      {
        "duration": 40,
        "start_time": "2023-06-02T07:31:30.398Z"
      },
      {
        "duration": 69,
        "start_time": "2023-06-02T07:31:30.440Z"
      },
      {
        "duration": 114,
        "start_time": "2023-06-02T07:31:30.511Z"
      },
      {
        "duration": 88,
        "start_time": "2023-06-02T07:31:30.627Z"
      },
      {
        "duration": 62,
        "start_time": "2023-06-02T07:31:30.717Z"
      },
      {
        "duration": 234,
        "start_time": "2023-06-02T07:31:30.784Z"
      },
      {
        "duration": 136,
        "start_time": "2023-06-02T07:31:31.021Z"
      },
      {
        "duration": 193,
        "start_time": "2023-06-02T07:31:31.159Z"
      },
      {
        "duration": 203,
        "start_time": "2023-06-02T07:31:31.353Z"
      },
      {
        "duration": 258,
        "start_time": "2023-06-02T07:31:31.558Z"
      },
      {
        "duration": 33,
        "start_time": "2023-06-02T07:31:31.824Z"
      },
      {
        "duration": 47,
        "start_time": "2023-06-02T07:31:31.859Z"
      },
      {
        "duration": 19,
        "start_time": "2023-06-02T07:31:31.908Z"
      },
      {
        "duration": 42,
        "start_time": "2023-06-02T07:31:31.929Z"
      },
      {
        "duration": 49,
        "start_time": "2023-06-02T07:31:31.972Z"
      },
      {
        "duration": 8,
        "start_time": "2023-06-02T07:31:32.022Z"
      },
      {
        "duration": 131,
        "start_time": "2023-06-02T07:31:32.032Z"
      },
      {
        "duration": 18,
        "start_time": "2023-06-02T07:31:32.165Z"
      },
      {
        "duration": 42,
        "start_time": "2023-06-02T07:31:32.185Z"
      },
      {
        "duration": 41,
        "start_time": "2023-06-02T07:31:32.229Z"
      },
      {
        "duration": 122,
        "start_time": "2023-06-02T07:31:32.272Z"
      },
      {
        "duration": 74,
        "start_time": "2023-06-02T07:31:32.396Z"
      },
      {
        "duration": 3,
        "start_time": "2023-06-02T07:31:32.471Z"
      },
      {
        "duration": 27,
        "start_time": "2023-06-02T07:31:32.476Z"
      },
      {
        "duration": 85,
        "start_time": "2023-06-02T07:31:32.505Z"
      },
      {
        "duration": 20,
        "start_time": "2023-06-02T07:31:32.591Z"
      },
      {
        "duration": 22,
        "start_time": "2023-06-02T07:31:32.613Z"
      },
      {
        "duration": 64,
        "start_time": "2023-06-02T07:31:32.636Z"
      },
      {
        "duration": 4,
        "start_time": "2023-06-02T07:31:32.702Z"
      },
      {
        "duration": 52,
        "start_time": "2023-06-02T07:31:32.708Z"
      },
      {
        "duration": 5,
        "start_time": "2023-06-02T07:31:32.762Z"
      },
      {
        "duration": 7,
        "start_time": "2023-06-02T07:31:32.768Z"
      },
      {
        "duration": 21,
        "start_time": "2023-06-02T07:31:32.779Z"
      },
      {
        "duration": 28,
        "start_time": "2023-06-02T07:31:32.802Z"
      },
      {
        "duration": 68,
        "start_time": "2023-06-02T07:31:32.832Z"
      },
      {
        "duration": 3,
        "start_time": "2023-06-02T07:31:32.902Z"
      },
      {
        "duration": 10,
        "start_time": "2023-06-02T07:31:32.906Z"
      },
      {
        "duration": 58936,
        "start_time": "2023-06-02T07:31:32.917Z"
      },
      {
        "duration": 76,
        "start_time": "2023-06-02T07:32:31.855Z"
      },
      {
        "duration": 15185,
        "start_time": "2023-06-02T07:32:31.933Z"
      },
      {
        "duration": 37,
        "start_time": "2023-06-02T07:32:47.120Z"
      },
      {
        "duration": 16165,
        "start_time": "2023-06-02T07:32:47.158Z"
      },
      {
        "duration": 37,
        "start_time": "2023-06-02T07:33:03.326Z"
      },
      {
        "duration": 30301,
        "start_time": "2023-06-02T07:33:03.364Z"
      },
      {
        "duration": 5,
        "start_time": "2023-06-02T07:33:33.666Z"
      },
      {
        "duration": 0,
        "start_time": "2023-06-02T07:33:33.672Z"
      },
      {
        "duration": 0,
        "start_time": "2023-06-02T07:33:33.673Z"
      },
      {
        "duration": 0,
        "start_time": "2023-06-02T07:33:33.675Z"
      },
      {
        "duration": 0,
        "start_time": "2023-06-02T07:33:33.676Z"
      },
      {
        "duration": 0,
        "start_time": "2023-06-02T07:33:33.678Z"
      },
      {
        "duration": 0,
        "start_time": "2023-06-02T07:33:33.679Z"
      },
      {
        "duration": 1,
        "start_time": "2023-06-02T07:33:33.680Z"
      },
      {
        "duration": 0,
        "start_time": "2023-06-02T07:33:33.682Z"
      },
      {
        "duration": 0,
        "start_time": "2023-06-02T07:33:33.683Z"
      },
      {
        "duration": 0,
        "start_time": "2023-06-02T07:33:33.684Z"
      },
      {
        "duration": 0,
        "start_time": "2023-06-02T07:33:33.685Z"
      },
      {
        "duration": 0,
        "start_time": "2023-06-02T07:33:33.686Z"
      },
      {
        "duration": 129182,
        "start_time": "2023-06-02T07:33:50.780Z"
      },
      {
        "duration": 576,
        "start_time": "2023-06-02T07:35:59.965Z"
      },
      {
        "duration": 2504,
        "start_time": "2023-06-02T07:36:00.545Z"
      },
      {
        "duration": 2386,
        "start_time": "2023-06-02T07:36:30.253Z"
      },
      {
        "duration": 669614,
        "start_time": "2023-06-02T07:38:34.313Z"
      },
      {
        "duration": 469761,
        "start_time": "2023-06-02T07:50:40.881Z"
      },
      {
        "duration": 1721,
        "start_time": "2023-06-02T11:04:57.755Z"
      },
      {
        "duration": 1224,
        "start_time": "2023-06-02T11:04:59.483Z"
      },
      {
        "duration": 19,
        "start_time": "2023-06-02T11:05:00.709Z"
      },
      {
        "duration": 180,
        "start_time": "2023-06-02T11:05:00.730Z"
      },
      {
        "duration": 528,
        "start_time": "2023-06-02T11:05:00.912Z"
      },
      {
        "duration": 562,
        "start_time": "2023-06-02T11:05:01.442Z"
      },
      {
        "duration": 143,
        "start_time": "2023-06-02T11:05:02.006Z"
      },
      {
        "duration": 184,
        "start_time": "2023-06-02T11:05:02.150Z"
      },
      {
        "duration": 21,
        "start_time": "2023-06-02T11:05:02.336Z"
      },
      {
        "duration": 38,
        "start_time": "2023-06-02T11:05:02.359Z"
      },
      {
        "duration": 35,
        "start_time": "2023-06-02T11:05:02.399Z"
      },
      {
        "duration": 24,
        "start_time": "2023-06-02T11:05:02.435Z"
      },
      {
        "duration": 48,
        "start_time": "2023-06-02T11:05:02.461Z"
      },
      {
        "duration": 204,
        "start_time": "2023-06-02T11:05:02.513Z"
      },
      {
        "duration": 143,
        "start_time": "2023-06-02T11:05:02.719Z"
      },
      {
        "duration": 200,
        "start_time": "2023-06-02T11:05:02.863Z"
      },
      {
        "duration": 238,
        "start_time": "2023-06-02T11:05:03.065Z"
      },
      {
        "duration": 245,
        "start_time": "2023-06-02T11:05:03.304Z"
      },
      {
        "duration": 54,
        "start_time": "2023-06-02T11:05:03.551Z"
      },
      {
        "duration": 52,
        "start_time": "2023-06-02T11:05:03.607Z"
      },
      {
        "duration": 27,
        "start_time": "2023-06-02T11:05:03.661Z"
      },
      {
        "duration": 25,
        "start_time": "2023-06-02T11:05:03.690Z"
      },
      {
        "duration": 64,
        "start_time": "2023-06-02T11:05:03.717Z"
      },
      {
        "duration": 8,
        "start_time": "2023-06-02T11:05:03.789Z"
      },
      {
        "duration": 152,
        "start_time": "2023-06-02T11:05:03.798Z"
      },
      {
        "duration": 21,
        "start_time": "2023-06-02T11:05:03.952Z"
      },
      {
        "duration": 53,
        "start_time": "2023-06-02T11:05:03.975Z"
      },
      {
        "duration": 56,
        "start_time": "2023-06-02T11:05:04.030Z"
      },
      {
        "duration": 128,
        "start_time": "2023-06-02T11:05:04.089Z"
      },
      {
        "duration": 72,
        "start_time": "2023-06-02T11:05:04.219Z"
      },
      {
        "duration": 3,
        "start_time": "2023-06-02T11:05:04.293Z"
      },
      {
        "duration": 56,
        "start_time": "2023-06-02T11:05:04.298Z"
      },
      {
        "duration": 88,
        "start_time": "2023-06-02T11:05:04.356Z"
      },
      {
        "duration": 22,
        "start_time": "2023-06-02T11:05:04.446Z"
      },
      {
        "duration": 19,
        "start_time": "2023-06-02T11:05:04.470Z"
      },
      {
        "duration": 99,
        "start_time": "2023-06-02T11:05:04.491Z"
      },
      {
        "duration": 4,
        "start_time": "2023-06-02T11:05:04.592Z"
      },
      {
        "duration": 45,
        "start_time": "2023-06-02T11:05:04.598Z"
      },
      {
        "duration": 4,
        "start_time": "2023-06-02T11:05:04.645Z"
      },
      {
        "duration": 20,
        "start_time": "2023-06-02T11:05:04.650Z"
      },
      {
        "duration": 38,
        "start_time": "2023-06-02T11:05:04.674Z"
      },
      {
        "duration": 3,
        "start_time": "2023-06-02T11:05:04.714Z"
      },
      {
        "duration": 63,
        "start_time": "2023-06-02T11:05:04.719Z"
      },
      {
        "duration": 7,
        "start_time": "2023-06-02T11:05:04.784Z"
      },
      {
        "duration": 12,
        "start_time": "2023-06-02T11:05:04.793Z"
      },
      {
        "duration": 53042,
        "start_time": "2023-06-02T11:05:04.807Z"
      },
      {
        "duration": 79,
        "start_time": "2023-06-02T11:05:57.851Z"
      },
      {
        "duration": 18343,
        "start_time": "2023-06-02T11:05:57.931Z"
      },
      {
        "duration": 55,
        "start_time": "2023-06-02T11:06:16.276Z"
      },
      {
        "duration": 17568,
        "start_time": "2023-06-02T11:06:16.333Z"
      },
      {
        "duration": 36,
        "start_time": "2023-06-02T11:06:33.903Z"
      },
      {
        "duration": 35446,
        "start_time": "2023-06-02T11:06:33.940Z"
      },
      {
        "duration": 12,
        "start_time": "2023-06-02T11:07:09.396Z"
      },
      {
        "duration": 0,
        "start_time": "2023-06-02T11:07:09.410Z"
      },
      {
        "duration": 0,
        "start_time": "2023-06-02T11:07:09.412Z"
      },
      {
        "duration": 0,
        "start_time": "2023-06-02T11:07:09.414Z"
      },
      {
        "duration": 0,
        "start_time": "2023-06-02T11:07:09.416Z"
      },
      {
        "duration": 0,
        "start_time": "2023-06-02T11:07:09.424Z"
      },
      {
        "duration": 0,
        "start_time": "2023-06-02T11:07:09.426Z"
      },
      {
        "duration": 0,
        "start_time": "2023-06-02T11:07:09.427Z"
      },
      {
        "duration": 0,
        "start_time": "2023-06-02T11:07:09.428Z"
      },
      {
        "duration": 0,
        "start_time": "2023-06-02T11:07:09.431Z"
      },
      {
        "duration": 0,
        "start_time": "2023-06-02T11:07:09.433Z"
      },
      {
        "duration": 0,
        "start_time": "2023-06-02T11:07:09.434Z"
      },
      {
        "duration": 0,
        "start_time": "2023-06-02T11:07:09.434Z"
      },
      {
        "duration": 0,
        "start_time": "2023-06-02T11:07:09.436Z"
      },
      {
        "duration": 0,
        "start_time": "2023-06-02T11:07:09.437Z"
      },
      {
        "duration": 1616,
        "start_time": "2023-06-02T11:26:33.244Z"
      },
      {
        "duration": 1283,
        "start_time": "2023-06-02T11:26:34.862Z"
      },
      {
        "duration": 38,
        "start_time": "2023-06-02T11:26:36.147Z"
      },
      {
        "duration": 250,
        "start_time": "2023-06-02T11:26:36.191Z"
      },
      {
        "duration": 681,
        "start_time": "2023-06-02T11:26:36.445Z"
      },
      {
        "duration": 638,
        "start_time": "2023-06-02T11:26:37.129Z"
      },
      {
        "duration": 186,
        "start_time": "2023-06-02T11:26:37.770Z"
      },
      {
        "duration": 187,
        "start_time": "2023-06-02T11:26:37.958Z"
      },
      {
        "duration": 44,
        "start_time": "2023-06-02T11:26:38.147Z"
      },
      {
        "duration": 42,
        "start_time": "2023-06-02T11:26:38.193Z"
      },
      {
        "duration": 57,
        "start_time": "2023-06-02T11:26:38.237Z"
      },
      {
        "duration": 36,
        "start_time": "2023-06-02T11:26:38.298Z"
      },
      {
        "duration": 61,
        "start_time": "2023-06-02T11:26:38.336Z"
      },
      {
        "duration": 233,
        "start_time": "2023-06-02T11:26:38.401Z"
      },
      {
        "duration": 196,
        "start_time": "2023-06-02T11:26:38.636Z"
      },
      {
        "duration": 252,
        "start_time": "2023-06-02T11:26:38.834Z"
      },
      {
        "duration": 286,
        "start_time": "2023-06-02T11:26:39.088Z"
      },
      {
        "duration": 335,
        "start_time": "2023-06-02T11:26:39.376Z"
      },
      {
        "duration": 54,
        "start_time": "2023-06-02T11:26:39.714Z"
      },
      {
        "duration": 73,
        "start_time": "2023-06-02T11:26:39.779Z"
      },
      {
        "duration": 25,
        "start_time": "2023-06-02T11:26:39.855Z"
      },
      {
        "duration": 35,
        "start_time": "2023-06-02T11:26:39.885Z"
      },
      {
        "duration": 59,
        "start_time": "2023-06-02T11:26:39.923Z"
      },
      {
        "duration": 12,
        "start_time": "2023-06-02T11:26:39.988Z"
      },
      {
        "duration": 186,
        "start_time": "2023-06-02T11:26:40.003Z"
      },
      {
        "duration": 21,
        "start_time": "2023-06-02T11:26:40.196Z"
      },
      {
        "duration": 36,
        "start_time": "2023-06-02T11:26:40.220Z"
      },
      {
        "duration": 64,
        "start_time": "2023-06-02T11:26:40.258Z"
      },
      {
        "duration": 157,
        "start_time": "2023-06-02T11:26:40.324Z"
      },
      {
        "duration": 66,
        "start_time": "2023-06-02T11:26:40.485Z"
      },
      {
        "duration": 3,
        "start_time": "2023-06-02T11:26:40.553Z"
      },
      {
        "duration": 46,
        "start_time": "2023-06-02T11:26:40.558Z"
      },
      {
        "duration": 102,
        "start_time": "2023-06-02T11:26:40.606Z"
      },
      {
        "duration": 22,
        "start_time": "2023-06-02T11:26:40.711Z"
      },
      {
        "duration": 5,
        "start_time": "2023-06-02T11:26:40.735Z"
      },
      {
        "duration": 97,
        "start_time": "2023-06-02T11:26:40.742Z"
      },
      {
        "duration": 6,
        "start_time": "2023-06-02T11:26:40.841Z"
      },
      {
        "duration": 53,
        "start_time": "2023-06-02T11:26:40.849Z"
      },
      {
        "duration": 5,
        "start_time": "2023-06-02T11:26:40.904Z"
      },
      {
        "duration": 10,
        "start_time": "2023-06-02T11:26:40.912Z"
      },
      {
        "duration": 29,
        "start_time": "2023-06-02T11:26:40.928Z"
      },
      {
        "duration": 22,
        "start_time": "2023-06-02T11:26:40.959Z"
      },
      {
        "duration": 115,
        "start_time": "2023-06-02T11:26:40.983Z"
      },
      {
        "duration": 4,
        "start_time": "2023-06-02T11:26:41.100Z"
      },
      {
        "duration": 13,
        "start_time": "2023-06-02T11:26:41.106Z"
      },
      {
        "duration": 53339,
        "start_time": "2023-06-02T11:26:41.121Z"
      },
      {
        "duration": 68,
        "start_time": "2023-06-02T11:27:34.462Z"
      },
      {
        "duration": 17791,
        "start_time": "2023-06-02T11:27:34.532Z"
      },
      {
        "duration": 42,
        "start_time": "2023-06-02T11:27:52.325Z"
      },
      {
        "duration": 18692,
        "start_time": "2023-06-02T11:27:52.384Z"
      },
      {
        "duration": 63,
        "start_time": "2023-06-02T11:28:11.084Z"
      },
      {
        "duration": 38230,
        "start_time": "2023-06-02T11:28:11.150Z"
      },
      {
        "duration": 9,
        "start_time": "2023-06-02T11:28:49.382Z"
      },
      {
        "duration": 0,
        "start_time": "2023-06-02T11:28:49.393Z"
      },
      {
        "duration": 0,
        "start_time": "2023-06-02T11:28:49.394Z"
      },
      {
        "duration": 0,
        "start_time": "2023-06-02T11:28:49.395Z"
      },
      {
        "duration": 0,
        "start_time": "2023-06-02T11:28:49.398Z"
      },
      {
        "duration": 0,
        "start_time": "2023-06-02T11:28:49.403Z"
      },
      {
        "duration": 0,
        "start_time": "2023-06-02T11:28:49.405Z"
      },
      {
        "duration": 0,
        "start_time": "2023-06-02T11:28:49.406Z"
      },
      {
        "duration": 0,
        "start_time": "2023-06-02T11:28:49.407Z"
      },
      {
        "duration": 0,
        "start_time": "2023-06-02T11:28:49.408Z"
      },
      {
        "duration": 0,
        "start_time": "2023-06-02T11:28:49.410Z"
      },
      {
        "duration": 0,
        "start_time": "2023-06-02T11:28:49.411Z"
      },
      {
        "duration": 0,
        "start_time": "2023-06-02T11:28:49.412Z"
      },
      {
        "duration": 0,
        "start_time": "2023-06-02T11:28:49.413Z"
      },
      {
        "duration": 0,
        "start_time": "2023-06-02T11:28:49.417Z"
      },
      {
        "duration": 217247,
        "start_time": "2023-06-02T11:29:53.951Z"
      },
      {
        "duration": 616,
        "start_time": "2023-06-02T11:33:31.210Z"
      },
      {
        "duration": 397055,
        "start_time": "2023-06-02T11:33:31.828Z"
      },
      {
        "duration": 35261,
        "start_time": "2023-06-02T11:50:58.050Z"
      },
      {
        "duration": 37064,
        "start_time": "2023-06-02T11:52:56.271Z"
      },
      {
        "duration": 163682,
        "start_time": "2023-06-02T11:56:23.115Z"
      },
      {
        "duration": 138,
        "start_time": "2023-06-02T12:04:02.058Z"
      },
      {
        "duration": 162702,
        "start_time": "2023-06-02T12:04:22.193Z"
      },
      {
        "duration": 162751,
        "start_time": "2023-06-02T12:09:48.328Z"
      },
      {
        "duration": 36927,
        "start_time": "2023-06-02T12:14:26.393Z"
      },
      {
        "duration": 5,
        "start_time": "2023-06-02T12:16:13.574Z"
      },
      {
        "duration": 43836,
        "start_time": "2023-06-02T12:17:06.559Z"
      },
      {
        "duration": 586109,
        "start_time": "2023-06-02T12:18:09.874Z"
      },
      {
        "duration": 469303,
        "start_time": "2023-06-02T12:36:06.995Z"
      },
      {
        "duration": 543708,
        "start_time": "2023-06-02T12:43:56.303Z"
      },
      {
        "duration": 1488,
        "start_time": "2023-06-02T13:55:44.004Z"
      },
      {
        "duration": 936,
        "start_time": "2023-06-02T13:55:45.495Z"
      },
      {
        "duration": 24,
        "start_time": "2023-06-02T13:55:46.433Z"
      },
      {
        "duration": 229,
        "start_time": "2023-06-02T13:55:46.460Z"
      },
      {
        "duration": 529,
        "start_time": "2023-06-02T13:55:46.695Z"
      },
      {
        "duration": 569,
        "start_time": "2023-06-02T13:55:47.227Z"
      },
      {
        "duration": 142,
        "start_time": "2023-06-02T13:55:47.799Z"
      },
      {
        "duration": 177,
        "start_time": "2023-06-02T13:55:47.943Z"
      },
      {
        "duration": 24,
        "start_time": "2023-06-02T13:55:48.122Z"
      },
      {
        "duration": 50,
        "start_time": "2023-06-02T13:55:48.150Z"
      },
      {
        "duration": 51,
        "start_time": "2023-06-02T13:55:48.201Z"
      },
      {
        "duration": 41,
        "start_time": "2023-06-02T13:55:48.254Z"
      },
      {
        "duration": 33,
        "start_time": "2023-06-02T13:55:48.297Z"
      },
      {
        "duration": 216,
        "start_time": "2023-06-02T13:55:48.332Z"
      },
      {
        "duration": 158,
        "start_time": "2023-06-02T13:55:48.550Z"
      },
      {
        "duration": 209,
        "start_time": "2023-06-02T13:55:48.709Z"
      },
      {
        "duration": 229,
        "start_time": "2023-06-02T13:55:48.920Z"
      },
      {
        "duration": 265,
        "start_time": "2023-06-02T13:55:49.151Z"
      },
      {
        "duration": 29,
        "start_time": "2023-06-02T13:55:49.418Z"
      },
      {
        "duration": 72,
        "start_time": "2023-06-02T13:55:49.449Z"
      },
      {
        "duration": 8,
        "start_time": "2023-06-02T13:55:49.523Z"
      },
      {
        "duration": 38,
        "start_time": "2023-06-02T13:55:49.532Z"
      },
      {
        "duration": 58,
        "start_time": "2023-06-02T13:55:49.571Z"
      },
      {
        "duration": 7,
        "start_time": "2023-06-02T13:55:49.631Z"
      },
      {
        "duration": 187,
        "start_time": "2023-06-02T13:55:49.640Z"
      },
      {
        "duration": 14,
        "start_time": "2023-06-02T13:55:49.830Z"
      },
      {
        "duration": 56,
        "start_time": "2023-06-02T13:55:49.846Z"
      },
      {
        "duration": 42,
        "start_time": "2023-06-02T13:55:49.905Z"
      },
      {
        "duration": 158,
        "start_time": "2023-06-02T13:55:49.949Z"
      },
      {
        "duration": 86,
        "start_time": "2023-06-02T13:55:50.109Z"
      },
      {
        "duration": 3,
        "start_time": "2023-06-02T13:55:50.196Z"
      },
      {
        "duration": 46,
        "start_time": "2023-06-02T13:55:50.201Z"
      },
      {
        "duration": 94,
        "start_time": "2023-06-02T13:55:50.249Z"
      },
      {
        "duration": 41,
        "start_time": "2023-06-02T13:55:50.346Z"
      },
      {
        "duration": 9,
        "start_time": "2023-06-02T13:55:50.392Z"
      },
      {
        "duration": 94,
        "start_time": "2023-06-02T13:55:50.403Z"
      },
      {
        "duration": 5,
        "start_time": "2023-06-02T13:55:50.498Z"
      },
      {
        "duration": 78,
        "start_time": "2023-06-02T13:55:50.504Z"
      },
      {
        "duration": 8,
        "start_time": "2023-06-02T13:55:50.586Z"
      },
      {
        "duration": 32,
        "start_time": "2023-06-02T13:55:50.595Z"
      },
      {
        "duration": 44,
        "start_time": "2023-06-02T13:55:50.629Z"
      },
      {
        "duration": 44,
        "start_time": "2023-06-02T13:55:50.675Z"
      },
      {
        "duration": 80,
        "start_time": "2023-06-02T13:55:50.721Z"
      },
      {
        "duration": 2,
        "start_time": "2023-06-02T13:55:50.803Z"
      },
      {
        "duration": 23,
        "start_time": "2023-06-02T13:55:50.806Z"
      },
      {
        "duration": 52716,
        "start_time": "2023-06-02T13:55:50.830Z"
      },
      {
        "duration": 74,
        "start_time": "2023-06-02T13:56:43.548Z"
      },
      {
        "duration": 16660,
        "start_time": "2023-06-02T13:56:43.624Z"
      },
      {
        "duration": 41,
        "start_time": "2023-06-02T13:57:00.286Z"
      },
      {
        "duration": 15728,
        "start_time": "2023-06-02T13:57:00.330Z"
      },
      {
        "duration": 45,
        "start_time": "2023-06-02T13:57:16.060Z"
      },
      {
        "duration": 33123,
        "start_time": "2023-06-02T13:57:16.106Z"
      },
      {
        "duration": 33188,
        "start_time": "2023-06-02T13:57:49.231Z"
      },
      {
        "duration": 5,
        "start_time": "2023-06-02T13:58:22.421Z"
      },
      {
        "duration": 0,
        "start_time": "2023-06-02T13:58:22.428Z"
      },
      {
        "duration": 0,
        "start_time": "2023-06-02T13:58:22.429Z"
      },
      {
        "duration": 0,
        "start_time": "2023-06-02T13:58:22.431Z"
      },
      {
        "duration": 0,
        "start_time": "2023-06-02T13:58:22.432Z"
      },
      {
        "duration": 0,
        "start_time": "2023-06-02T13:58:22.434Z"
      },
      {
        "duration": 0,
        "start_time": "2023-06-02T13:58:22.435Z"
      },
      {
        "duration": 0,
        "start_time": "2023-06-02T13:58:22.437Z"
      },
      {
        "duration": 0,
        "start_time": "2023-06-02T13:58:22.438Z"
      },
      {
        "duration": 0,
        "start_time": "2023-06-02T13:58:22.439Z"
      },
      {
        "duration": 1,
        "start_time": "2023-06-02T13:58:22.440Z"
      },
      {
        "duration": 0,
        "start_time": "2023-06-02T13:58:22.442Z"
      },
      {
        "duration": 0,
        "start_time": "2023-06-02T13:58:22.443Z"
      },
      {
        "duration": 0,
        "start_time": "2023-06-02T13:58:22.481Z"
      },
      {
        "duration": 0,
        "start_time": "2023-06-02T13:58:22.482Z"
      },
      {
        "duration": 0,
        "start_time": "2023-06-02T13:58:22.483Z"
      },
      {
        "duration": 0,
        "start_time": "2023-06-02T13:58:22.484Z"
      },
      {
        "duration": 0,
        "start_time": "2023-06-02T13:58:22.485Z"
      },
      {
        "duration": 118,
        "start_time": "2023-06-02T14:00:05.689Z"
      },
      {
        "duration": 2556,
        "start_time": "2023-06-02T14:00:19.042Z"
      },
      {
        "duration": 2509,
        "start_time": "2023-06-02T14:00:49.603Z"
      },
      {
        "duration": 2702,
        "start_time": "2023-06-02T14:15:04.528Z"
      },
      {
        "duration": 3013,
        "start_time": "2023-06-02T14:24:08.219Z"
      },
      {
        "duration": 61652,
        "start_time": "2023-06-02T15:20:42.333Z"
      },
      {
        "duration": 408,
        "start_time": "2023-06-02T15:21:43.988Z"
      },
      {
        "duration": 58733,
        "start_time": "2023-06-02T15:23:26.561Z"
      },
      {
        "duration": 1507,
        "start_time": "2023-06-02T15:33:56.889Z"
      },
      {
        "duration": 907,
        "start_time": "2023-06-02T15:33:58.399Z"
      },
      {
        "duration": 18,
        "start_time": "2023-06-02T15:33:59.308Z"
      },
      {
        "duration": 156,
        "start_time": "2023-06-02T15:33:59.327Z"
      },
      {
        "duration": 520,
        "start_time": "2023-06-02T15:33:59.486Z"
      },
      {
        "duration": 567,
        "start_time": "2023-06-02T15:34:00.008Z"
      },
      {
        "duration": 128,
        "start_time": "2023-06-02T15:34:00.577Z"
      },
      {
        "duration": 166,
        "start_time": "2023-06-02T15:34:00.707Z"
      },
      {
        "duration": 21,
        "start_time": "2023-06-02T15:34:00.875Z"
      },
      {
        "duration": 67,
        "start_time": "2023-06-02T15:34:00.898Z"
      },
      {
        "duration": 54,
        "start_time": "2023-06-02T15:34:00.967Z"
      },
      {
        "duration": 71,
        "start_time": "2023-06-02T15:34:01.023Z"
      },
      {
        "duration": 54,
        "start_time": "2023-06-02T15:34:01.096Z"
      },
      {
        "duration": 201,
        "start_time": "2023-06-02T15:34:01.154Z"
      },
      {
        "duration": 138,
        "start_time": "2023-06-02T15:34:01.356Z"
      },
      {
        "duration": 183,
        "start_time": "2023-06-02T15:34:01.496Z"
      },
      {
        "duration": 251,
        "start_time": "2023-06-02T15:34:01.681Z"
      },
      {
        "duration": 264,
        "start_time": "2023-06-02T15:34:01.934Z"
      },
      {
        "duration": 30,
        "start_time": "2023-06-02T15:34:02.200Z"
      },
      {
        "duration": 72,
        "start_time": "2023-06-02T15:34:02.232Z"
      },
      {
        "duration": 9,
        "start_time": "2023-06-02T15:34:02.306Z"
      },
      {
        "duration": 63,
        "start_time": "2023-06-02T15:34:02.317Z"
      },
      {
        "duration": 52,
        "start_time": "2023-06-02T15:34:02.382Z"
      },
      {
        "duration": 8,
        "start_time": "2023-06-02T15:34:02.437Z"
      },
      {
        "duration": 147,
        "start_time": "2023-06-02T15:34:02.447Z"
      },
      {
        "duration": 15,
        "start_time": "2023-06-02T15:34:02.596Z"
      },
      {
        "duration": 38,
        "start_time": "2023-06-02T15:34:02.613Z"
      },
      {
        "duration": 64,
        "start_time": "2023-06-02T15:34:02.653Z"
      },
      {
        "duration": 132,
        "start_time": "2023-06-02T15:34:02.719Z"
      },
      {
        "duration": 69,
        "start_time": "2023-06-02T15:34:02.853Z"
      },
      {
        "duration": 3,
        "start_time": "2023-06-02T15:34:02.924Z"
      },
      {
        "duration": 31,
        "start_time": "2023-06-02T15:34:02.929Z"
      },
      {
        "duration": 94,
        "start_time": "2023-06-02T15:34:02.962Z"
      },
      {
        "duration": 29,
        "start_time": "2023-06-02T15:34:03.058Z"
      },
      {
        "duration": 4,
        "start_time": "2023-06-02T15:34:03.089Z"
      },
      {
        "duration": 82,
        "start_time": "2023-06-02T15:34:03.095Z"
      },
      {
        "duration": 4,
        "start_time": "2023-06-02T15:34:03.179Z"
      },
      {
        "duration": 31,
        "start_time": "2023-06-02T15:34:03.184Z"
      },
      {
        "duration": 4,
        "start_time": "2023-06-02T15:34:03.217Z"
      },
      {
        "duration": 7,
        "start_time": "2023-06-02T15:34:03.223Z"
      },
      {
        "duration": 45,
        "start_time": "2023-06-02T15:34:03.234Z"
      },
      {
        "duration": 4,
        "start_time": "2023-06-02T15:34:03.281Z"
      },
      {
        "duration": 63,
        "start_time": "2023-06-02T15:34:03.287Z"
      },
      {
        "duration": 2,
        "start_time": "2023-06-02T15:34:03.352Z"
      },
      {
        "duration": 35,
        "start_time": "2023-06-02T15:34:03.356Z"
      },
      {
        "duration": 52690,
        "start_time": "2023-06-02T15:34:03.393Z"
      },
      {
        "duration": 60,
        "start_time": "2023-06-02T15:34:56.085Z"
      },
      {
        "duration": 18868,
        "start_time": "2023-06-02T15:34:56.146Z"
      },
      {
        "duration": 43,
        "start_time": "2023-06-02T15:35:15.016Z"
      },
      {
        "duration": 19806,
        "start_time": "2023-06-02T15:35:15.060Z"
      },
      {
        "duration": 42,
        "start_time": "2023-06-02T15:35:34.868Z"
      },
      {
        "duration": 33093,
        "start_time": "2023-06-02T15:35:34.912Z"
      },
      {
        "duration": 33135,
        "start_time": "2023-06-02T15:36:08.007Z"
      },
      {
        "duration": 319653,
        "start_time": "2023-06-02T15:36:41.144Z"
      },
      {
        "duration": 177714,
        "start_time": "2023-06-02T15:42:00.799Z"
      },
      {
        "duration": 659,
        "start_time": "2023-06-02T15:44:58.519Z"
      },
      {
        "duration": 1775,
        "start_time": "2023-06-02T15:46:31.810Z"
      },
      {
        "duration": 1157,
        "start_time": "2023-06-02T15:46:33.589Z"
      },
      {
        "duration": 27,
        "start_time": "2023-06-02T15:46:34.749Z"
      },
      {
        "duration": 152,
        "start_time": "2023-06-02T15:46:34.778Z"
      },
      {
        "duration": 556,
        "start_time": "2023-06-02T15:46:34.933Z"
      },
      {
        "duration": 651,
        "start_time": "2023-06-02T15:46:35.492Z"
      },
      {
        "duration": 142,
        "start_time": "2023-06-02T15:46:36.145Z"
      },
      {
        "duration": 203,
        "start_time": "2023-06-02T15:46:36.289Z"
      },
      {
        "duration": 41,
        "start_time": "2023-06-02T15:46:36.495Z"
      },
      {
        "duration": 77,
        "start_time": "2023-06-02T15:46:36.538Z"
      },
      {
        "duration": 43,
        "start_time": "2023-06-02T15:46:36.617Z"
      },
      {
        "duration": 63,
        "start_time": "2023-06-02T15:46:36.662Z"
      },
      {
        "duration": 60,
        "start_time": "2023-06-02T15:46:36.728Z"
      },
      {
        "duration": 286,
        "start_time": "2023-06-02T15:46:36.794Z"
      },
      {
        "duration": 284,
        "start_time": "2023-06-02T15:46:37.082Z"
      },
      {
        "duration": 263,
        "start_time": "2023-06-02T15:46:37.368Z"
      },
      {
        "duration": 343,
        "start_time": "2023-06-02T15:46:37.634Z"
      },
      {
        "duration": 271,
        "start_time": "2023-06-02T15:46:37.979Z"
      },
      {
        "duration": 40,
        "start_time": "2023-06-02T15:46:38.253Z"
      },
      {
        "duration": 59,
        "start_time": "2023-06-02T15:46:38.295Z"
      },
      {
        "duration": 25,
        "start_time": "2023-06-02T15:46:38.356Z"
      },
      {
        "duration": 23,
        "start_time": "2023-06-02T15:46:38.383Z"
      },
      {
        "duration": 79,
        "start_time": "2023-06-02T15:46:38.409Z"
      },
      {
        "duration": 8,
        "start_time": "2023-06-02T15:46:38.490Z"
      },
      {
        "duration": 210,
        "start_time": "2023-06-02T15:46:38.501Z"
      },
      {
        "duration": 20,
        "start_time": "2023-06-02T15:46:38.713Z"
      },
      {
        "duration": 75,
        "start_time": "2023-06-02T15:46:38.736Z"
      },
      {
        "duration": 45,
        "start_time": "2023-06-02T15:46:38.814Z"
      },
      {
        "duration": 132,
        "start_time": "2023-06-02T15:46:38.861Z"
      },
      {
        "duration": 98,
        "start_time": "2023-06-02T15:46:38.995Z"
      },
      {
        "duration": 4,
        "start_time": "2023-06-02T15:46:39.096Z"
      },
      {
        "duration": 68,
        "start_time": "2023-06-02T15:46:39.102Z"
      },
      {
        "duration": 174,
        "start_time": "2023-06-02T15:46:39.172Z"
      },
      {
        "duration": 19,
        "start_time": "2023-06-02T15:46:39.348Z"
      },
      {
        "duration": 22,
        "start_time": "2023-06-02T15:46:39.369Z"
      },
      {
        "duration": 128,
        "start_time": "2023-06-02T15:46:39.393Z"
      },
      {
        "duration": 6,
        "start_time": "2023-06-02T15:46:39.524Z"
      },
      {
        "duration": 91,
        "start_time": "2023-06-02T15:46:39.532Z"
      },
      {
        "duration": 7,
        "start_time": "2023-06-02T15:46:39.626Z"
      },
      {
        "duration": 36,
        "start_time": "2023-06-02T15:46:39.635Z"
      },
      {
        "duration": 52,
        "start_time": "2023-06-02T15:46:39.677Z"
      },
      {
        "duration": 32,
        "start_time": "2023-06-02T15:46:39.731Z"
      },
      {
        "duration": 60,
        "start_time": "2023-06-02T15:46:39.765Z"
      },
      {
        "duration": 3,
        "start_time": "2023-06-02T15:46:39.828Z"
      },
      {
        "duration": 31,
        "start_time": "2023-06-02T15:46:39.834Z"
      },
      {
        "duration": 56585,
        "start_time": "2023-06-02T15:46:39.868Z"
      },
      {
        "duration": 94,
        "start_time": "2023-06-02T15:47:36.456Z"
      },
      {
        "duration": 21787,
        "start_time": "2023-06-02T15:47:36.553Z"
      },
      {
        "duration": 51,
        "start_time": "2023-06-02T15:47:58.342Z"
      },
      {
        "duration": 22832,
        "start_time": "2023-06-02T15:47:58.396Z"
      },
      {
        "duration": 39,
        "start_time": "2023-06-02T15:48:21.230Z"
      },
      {
        "duration": 2356,
        "start_time": "2023-06-02T15:48:21.270Z"
      },
      {
        "duration": 0,
        "start_time": "2023-06-02T15:48:23.628Z"
      },
      {
        "duration": 0,
        "start_time": "2023-06-02T15:48:23.630Z"
      },
      {
        "duration": 1,
        "start_time": "2023-06-02T15:48:23.631Z"
      },
      {
        "duration": 0,
        "start_time": "2023-06-02T15:48:23.633Z"
      },
      {
        "duration": 0,
        "start_time": "2023-06-02T15:48:23.634Z"
      },
      {
        "duration": 0,
        "start_time": "2023-06-02T15:48:23.635Z"
      },
      {
        "duration": 0,
        "start_time": "2023-06-02T15:48:23.637Z"
      },
      {
        "duration": 0,
        "start_time": "2023-06-02T15:48:23.639Z"
      },
      {
        "duration": 0,
        "start_time": "2023-06-02T15:48:23.640Z"
      },
      {
        "duration": 0,
        "start_time": "2023-06-02T15:48:23.643Z"
      },
      {
        "duration": 0,
        "start_time": "2023-06-02T15:48:23.645Z"
      },
      {
        "duration": 0,
        "start_time": "2023-06-02T15:48:23.646Z"
      },
      {
        "duration": 0,
        "start_time": "2023-06-02T15:48:23.648Z"
      },
      {
        "duration": 0,
        "start_time": "2023-06-02T15:48:23.650Z"
      },
      {
        "duration": 0,
        "start_time": "2023-06-02T15:48:23.651Z"
      },
      {
        "duration": 0,
        "start_time": "2023-06-02T15:48:23.653Z"
      },
      {
        "duration": 0,
        "start_time": "2023-06-02T15:48:23.655Z"
      },
      {
        "duration": 0,
        "start_time": "2023-06-02T15:48:23.656Z"
      },
      {
        "duration": 0,
        "start_time": "2023-06-02T15:48:23.657Z"
      },
      {
        "duration": 0,
        "start_time": "2023-06-02T15:48:23.659Z"
      },
      {
        "duration": 40474,
        "start_time": "2023-06-02T15:51:40.524Z"
      },
      {
        "duration": 41828,
        "start_time": "2023-06-02T15:53:38.310Z"
      },
      {
        "duration": 42298,
        "start_time": "2023-06-02T15:54:20.141Z"
      },
      {
        "duration": 68837,
        "start_time": "2023-06-02T16:02:08.320Z"
      },
      {
        "duration": 498684,
        "start_time": "2023-06-02T16:04:23.349Z"
      },
      {
        "duration": 1680,
        "start_time": "2023-06-02T16:19:51.453Z"
      },
      {
        "duration": 1214,
        "start_time": "2023-06-02T16:19:53.136Z"
      },
      {
        "duration": 20,
        "start_time": "2023-06-02T16:19:54.351Z"
      },
      {
        "duration": 139,
        "start_time": "2023-06-02T16:19:54.373Z"
      },
      {
        "duration": 517,
        "start_time": "2023-06-02T16:19:54.515Z"
      },
      {
        "duration": 569,
        "start_time": "2023-06-02T16:19:55.034Z"
      },
      {
        "duration": 128,
        "start_time": "2023-06-02T16:19:55.605Z"
      },
      {
        "duration": 174,
        "start_time": "2023-06-02T16:19:55.735Z"
      },
      {
        "duration": 41,
        "start_time": "2023-06-02T16:19:55.911Z"
      },
      {
        "duration": 38,
        "start_time": "2023-06-02T16:19:55.953Z"
      },
      {
        "duration": 50,
        "start_time": "2023-06-02T16:19:55.993Z"
      },
      {
        "duration": 41,
        "start_time": "2023-06-02T16:19:56.045Z"
      },
      {
        "duration": 44,
        "start_time": "2023-06-02T16:19:56.088Z"
      },
      {
        "duration": 279,
        "start_time": "2023-06-02T16:19:56.137Z"
      },
      {
        "duration": 205,
        "start_time": "2023-06-02T16:19:56.418Z"
      },
      {
        "duration": 174,
        "start_time": "2023-06-02T16:19:56.626Z"
      },
      {
        "duration": 214,
        "start_time": "2023-06-02T16:19:56.802Z"
      },
      {
        "duration": 274,
        "start_time": "2023-06-02T16:19:57.018Z"
      },
      {
        "duration": 30,
        "start_time": "2023-06-02T16:19:57.294Z"
      },
      {
        "duration": 78,
        "start_time": "2023-06-02T16:19:57.326Z"
      },
      {
        "duration": 8,
        "start_time": "2023-06-02T16:19:57.406Z"
      },
      {
        "duration": 25,
        "start_time": "2023-06-02T16:19:57.416Z"
      },
      {
        "duration": 83,
        "start_time": "2023-06-02T16:19:57.444Z"
      },
      {
        "duration": 8,
        "start_time": "2023-06-02T16:19:57.529Z"
      },
      {
        "duration": 139,
        "start_time": "2023-06-02T16:19:57.539Z"
      },
      {
        "duration": 14,
        "start_time": "2023-06-02T16:19:57.680Z"
      },
      {
        "duration": 48,
        "start_time": "2023-06-02T16:19:57.696Z"
      },
      {
        "duration": 75,
        "start_time": "2023-06-02T16:19:57.746Z"
      },
      {
        "duration": 162,
        "start_time": "2023-06-02T16:19:57.823Z"
      },
      {
        "duration": 67,
        "start_time": "2023-06-02T16:19:57.987Z"
      },
      {
        "duration": 4,
        "start_time": "2023-06-02T16:19:58.076Z"
      },
      {
        "duration": 51,
        "start_time": "2023-06-02T16:19:58.082Z"
      },
      {
        "duration": 85,
        "start_time": "2023-06-02T16:19:58.135Z"
      },
      {
        "duration": 24,
        "start_time": "2023-06-02T16:19:58.222Z"
      },
      {
        "duration": 10,
        "start_time": "2023-06-02T16:19:58.249Z"
      },
      {
        "duration": 125,
        "start_time": "2023-06-02T16:19:58.281Z"
      },
      {
        "duration": 5,
        "start_time": "2023-06-02T16:19:58.408Z"
      },
      {
        "duration": 32,
        "start_time": "2023-06-02T16:19:58.415Z"
      },
      {
        "duration": 5,
        "start_time": "2023-06-02T16:19:58.450Z"
      },
      {
        "duration": 24,
        "start_time": "2023-06-02T16:19:58.456Z"
      },
      {
        "duration": 19,
        "start_time": "2023-06-02T16:19:58.485Z"
      },
      {
        "duration": 3,
        "start_time": "2023-06-02T16:19:58.507Z"
      },
      {
        "duration": 78,
        "start_time": "2023-06-02T16:19:58.513Z"
      },
      {
        "duration": 4,
        "start_time": "2023-06-02T16:19:58.593Z"
      },
      {
        "duration": 9,
        "start_time": "2023-06-02T16:19:58.599Z"
      },
      {
        "duration": 51534,
        "start_time": "2023-06-02T16:19:58.610Z"
      },
      {
        "duration": 70,
        "start_time": "2023-06-02T16:20:50.146Z"
      },
      {
        "duration": 18452,
        "start_time": "2023-06-02T16:20:50.218Z"
      },
      {
        "duration": 52,
        "start_time": "2023-06-02T16:21:08.672Z"
      },
      {
        "duration": 21236,
        "start_time": "2023-06-02T16:21:08.726Z"
      },
      {
        "duration": 61,
        "start_time": "2023-06-02T16:21:29.964Z"
      },
      {
        "duration": 62732,
        "start_time": "2023-06-02T16:21:30.029Z"
      },
      {
        "duration": 40966,
        "start_time": "2023-06-02T16:22:32.763Z"
      },
      {
        "duration": 9,
        "start_time": "2023-06-02T16:23:13.731Z"
      },
      {
        "duration": 0,
        "start_time": "2023-06-02T16:23:13.743Z"
      },
      {
        "duration": 0,
        "start_time": "2023-06-02T16:23:13.744Z"
      },
      {
        "duration": 0,
        "start_time": "2023-06-02T16:23:13.745Z"
      },
      {
        "duration": 0,
        "start_time": "2023-06-02T16:23:13.747Z"
      },
      {
        "duration": 0,
        "start_time": "2023-06-02T16:23:13.750Z"
      },
      {
        "duration": 1,
        "start_time": "2023-06-02T16:23:13.751Z"
      },
      {
        "duration": 0,
        "start_time": "2023-06-02T16:23:13.753Z"
      },
      {
        "duration": 0,
        "start_time": "2023-06-02T16:23:13.755Z"
      },
      {
        "duration": 0,
        "start_time": "2023-06-02T16:23:13.780Z"
      },
      {
        "duration": 0,
        "start_time": "2023-06-02T16:23:13.782Z"
      },
      {
        "duration": 0,
        "start_time": "2023-06-02T16:23:13.783Z"
      },
      {
        "duration": 0,
        "start_time": "2023-06-02T16:23:13.785Z"
      },
      {
        "duration": 0,
        "start_time": "2023-06-02T16:23:13.787Z"
      },
      {
        "duration": 0,
        "start_time": "2023-06-02T16:23:13.790Z"
      },
      {
        "duration": 0,
        "start_time": "2023-06-02T16:23:13.791Z"
      },
      {
        "duration": 0,
        "start_time": "2023-06-02T16:23:13.793Z"
      },
      {
        "duration": 0,
        "start_time": "2023-06-02T16:23:13.795Z"
      },
      {
        "duration": 0,
        "start_time": "2023-06-02T16:23:13.796Z"
      },
      {
        "duration": 92054,
        "start_time": "2023-06-02T16:52:17.168Z"
      },
      {
        "duration": 180832,
        "start_time": "2023-06-02T16:54:02.515Z"
      },
      {
        "duration": 124938,
        "start_time": "2023-06-02T16:57:39.976Z"
      },
      {
        "duration": 5,
        "start_time": "2023-06-02T16:59:44.916Z"
      },
      {
        "duration": 0,
        "start_time": "2023-06-02T16:59:44.923Z"
      },
      {
        "duration": 135964,
        "start_time": "2023-06-02T17:00:24.746Z"
      },
      {
        "duration": 142878,
        "start_time": "2023-06-02T17:02:40.713Z"
      },
      {
        "duration": 922,
        "start_time": "2023-06-02T17:05:03.593Z"
      },
      {
        "duration": 30567,
        "start_time": "2023-06-02T17:05:04.517Z"
      },
      {
        "duration": 27774,
        "start_time": "2023-06-02T17:05:35.089Z"
      },
      {
        "duration": 5,
        "start_time": "2023-06-02T17:06:29.159Z"
      },
      {
        "duration": 163858,
        "start_time": "2023-06-02T17:06:34.937Z"
      },
      {
        "duration": 132599,
        "start_time": "2023-06-02T17:09:18.796Z"
      },
      {
        "duration": 30819,
        "start_time": "2023-06-02T17:11:31.398Z"
      },
      {
        "duration": 34821,
        "start_time": "2023-06-02T17:12:36.597Z"
      },
      {
        "duration": 6,
        "start_time": "2023-06-02T17:13:53.501Z"
      },
      {
        "duration": 1472,
        "start_time": "2023-06-02T17:49:17.930Z"
      },
      {
        "duration": 1246,
        "start_time": "2023-06-02T17:49:19.407Z"
      },
      {
        "duration": 19,
        "start_time": "2023-06-02T17:49:20.654Z"
      },
      {
        "duration": 152,
        "start_time": "2023-06-02T17:49:20.674Z"
      },
      {
        "duration": 520,
        "start_time": "2023-06-02T17:49:20.829Z"
      },
      {
        "duration": 619,
        "start_time": "2023-06-02T17:49:21.350Z"
      },
      {
        "duration": 144,
        "start_time": "2023-06-02T17:49:21.970Z"
      },
      {
        "duration": 143,
        "start_time": "2023-06-02T17:49:22.116Z"
      },
      {
        "duration": 44,
        "start_time": "2023-06-02T17:49:22.261Z"
      },
      {
        "duration": 23,
        "start_time": "2023-06-02T17:49:22.307Z"
      },
      {
        "duration": 25,
        "start_time": "2023-06-02T17:49:22.331Z"
      },
      {
        "duration": 53,
        "start_time": "2023-06-02T17:49:22.357Z"
      },
      {
        "duration": 29,
        "start_time": "2023-06-02T17:49:22.412Z"
      },
      {
        "duration": 309,
        "start_time": "2023-06-02T17:49:22.444Z"
      },
      {
        "duration": 187,
        "start_time": "2023-06-02T17:49:22.755Z"
      },
      {
        "duration": 220,
        "start_time": "2023-06-02T17:49:22.943Z"
      },
      {
        "duration": 245,
        "start_time": "2023-06-02T17:49:23.165Z"
      },
      {
        "duration": 268,
        "start_time": "2023-06-02T17:49:23.411Z"
      },
      {
        "duration": 37,
        "start_time": "2023-06-02T17:49:23.681Z"
      },
      {
        "duration": 85,
        "start_time": "2023-06-02T17:49:23.720Z"
      },
      {
        "duration": 7,
        "start_time": "2023-06-02T17:49:23.807Z"
      },
      {
        "duration": 28,
        "start_time": "2023-06-02T17:49:23.816Z"
      },
      {
        "duration": 76,
        "start_time": "2023-06-02T17:49:23.846Z"
      },
      {
        "duration": 10,
        "start_time": "2023-06-02T17:49:23.923Z"
      },
      {
        "duration": 168,
        "start_time": "2023-06-02T17:49:23.935Z"
      },
      {
        "duration": 15,
        "start_time": "2023-06-02T17:49:24.105Z"
      },
      {
        "duration": 58,
        "start_time": "2023-06-02T17:49:24.122Z"
      },
      {
        "duration": 48,
        "start_time": "2023-06-02T17:49:24.182Z"
      },
      {
        "duration": 145,
        "start_time": "2023-06-02T17:49:24.232Z"
      },
      {
        "duration": 68,
        "start_time": "2023-06-02T17:49:24.379Z"
      },
      {
        "duration": 3,
        "start_time": "2023-06-02T17:49:24.449Z"
      },
      {
        "duration": 50,
        "start_time": "2023-06-02T17:49:24.454Z"
      },
      {
        "duration": 94,
        "start_time": "2023-06-02T17:49:24.506Z"
      },
      {
        "duration": 13,
        "start_time": "2023-06-02T17:49:24.602Z"
      },
      {
        "duration": 4,
        "start_time": "2023-06-02T17:49:24.617Z"
      },
      {
        "duration": 88,
        "start_time": "2023-06-02T17:49:24.622Z"
      },
      {
        "duration": 5,
        "start_time": "2023-06-02T17:49:24.712Z"
      },
      {
        "duration": 42,
        "start_time": "2023-06-02T17:49:24.719Z"
      },
      {
        "duration": 5,
        "start_time": "2023-06-02T17:49:24.763Z"
      },
      {
        "duration": 23,
        "start_time": "2023-06-02T17:49:24.769Z"
      },
      {
        "duration": 30,
        "start_time": "2023-06-02T17:49:24.799Z"
      },
      {
        "duration": 8,
        "start_time": "2023-06-02T17:49:24.831Z"
      },
      {
        "duration": 74,
        "start_time": "2023-06-02T17:49:24.840Z"
      },
      {
        "duration": 19,
        "start_time": "2023-06-02T17:49:24.915Z"
      },
      {
        "duration": 163,
        "start_time": "2023-06-02T17:49:24.936Z"
      },
      {
        "duration": 57281,
        "start_time": "2023-06-02T17:49:25.101Z"
      },
      {
        "duration": 65,
        "start_time": "2023-06-02T17:50:22.384Z"
      },
      {
        "duration": 21039,
        "start_time": "2023-06-02T17:50:22.450Z"
      },
      {
        "duration": 56,
        "start_time": "2023-06-02T17:50:43.492Z"
      },
      {
        "duration": 22080,
        "start_time": "2023-06-02T17:50:43.550Z"
      },
      {
        "duration": 49,
        "start_time": "2023-06-02T17:51:05.632Z"
      },
      {
        "duration": 136351,
        "start_time": "2023-06-02T17:51:05.683Z"
      },
      {
        "duration": 34720,
        "start_time": "2023-06-02T17:53:22.037Z"
      },
      {
        "duration": 5,
        "start_time": "2023-06-02T17:53:56.759Z"
      },
      {
        "duration": 0,
        "start_time": "2023-06-02T17:53:56.766Z"
      },
      {
        "duration": 0,
        "start_time": "2023-06-02T17:53:56.777Z"
      },
      {
        "duration": 0,
        "start_time": "2023-06-02T17:53:56.778Z"
      },
      {
        "duration": 0,
        "start_time": "2023-06-02T17:53:56.780Z"
      },
      {
        "duration": 0,
        "start_time": "2023-06-02T17:53:56.782Z"
      },
      {
        "duration": 0,
        "start_time": "2023-06-02T17:53:56.783Z"
      },
      {
        "duration": 0,
        "start_time": "2023-06-02T17:53:56.785Z"
      },
      {
        "duration": 0,
        "start_time": "2023-06-02T17:53:56.787Z"
      },
      {
        "duration": 0,
        "start_time": "2023-06-02T17:53:56.788Z"
      },
      {
        "duration": 0,
        "start_time": "2023-06-02T17:53:56.789Z"
      },
      {
        "duration": 0,
        "start_time": "2023-06-02T17:53:56.791Z"
      },
      {
        "duration": 0,
        "start_time": "2023-06-02T17:53:56.792Z"
      },
      {
        "duration": 0,
        "start_time": "2023-06-02T17:53:56.794Z"
      },
      {
        "duration": 0,
        "start_time": "2023-06-02T17:53:56.795Z"
      },
      {
        "duration": 0,
        "start_time": "2023-06-02T17:53:56.796Z"
      },
      {
        "duration": 0,
        "start_time": "2023-06-02T17:53:56.797Z"
      },
      {
        "duration": 0,
        "start_time": "2023-06-02T17:53:56.799Z"
      },
      {
        "duration": 0,
        "start_time": "2023-06-02T17:53:56.800Z"
      },
      {
        "duration": 55211,
        "start_time": "2023-06-02T17:55:32.646Z"
      },
      {
        "duration": 91537,
        "start_time": "2023-06-02T17:56:52.969Z"
      },
      {
        "duration": 1429,
        "start_time": "2023-06-02T18:36:56.536Z"
      },
      {
        "duration": 857,
        "start_time": "2023-06-02T18:36:57.967Z"
      },
      {
        "duration": 19,
        "start_time": "2023-06-02T18:36:58.826Z"
      },
      {
        "duration": 149,
        "start_time": "2023-06-02T18:36:58.847Z"
      },
      {
        "duration": 508,
        "start_time": "2023-06-02T18:36:58.999Z"
      },
      {
        "duration": 552,
        "start_time": "2023-06-02T18:36:59.509Z"
      },
      {
        "duration": 126,
        "start_time": "2023-06-02T18:37:00.063Z"
      },
      {
        "duration": 141,
        "start_time": "2023-06-02T18:37:00.191Z"
      },
      {
        "duration": 21,
        "start_time": "2023-06-02T18:37:00.334Z"
      },
      {
        "duration": 60,
        "start_time": "2023-06-02T18:37:00.357Z"
      },
      {
        "duration": 65,
        "start_time": "2023-06-02T18:37:00.419Z"
      },
      {
        "duration": 40,
        "start_time": "2023-06-02T18:37:00.486Z"
      },
      {
        "duration": 55,
        "start_time": "2023-06-02T18:37:00.527Z"
      },
      {
        "duration": 232,
        "start_time": "2023-06-02T18:37:00.587Z"
      },
      {
        "duration": 183,
        "start_time": "2023-06-02T18:37:00.822Z"
      },
      {
        "duration": 208,
        "start_time": "2023-06-02T18:37:01.007Z"
      },
      {
        "duration": 226,
        "start_time": "2023-06-02T18:37:01.216Z"
      },
      {
        "duration": 293,
        "start_time": "2023-06-02T18:37:01.444Z"
      },
      {
        "duration": 43,
        "start_time": "2023-06-02T18:37:01.740Z"
      },
      {
        "duration": 69,
        "start_time": "2023-06-02T18:37:01.785Z"
      },
      {
        "duration": 23,
        "start_time": "2023-06-02T18:37:01.857Z"
      },
      {
        "duration": 49,
        "start_time": "2023-06-02T18:37:01.882Z"
      },
      {
        "duration": 67,
        "start_time": "2023-06-02T18:37:01.933Z"
      },
      {
        "duration": 8,
        "start_time": "2023-06-02T18:37:02.001Z"
      },
      {
        "duration": 150,
        "start_time": "2023-06-02T18:37:02.010Z"
      },
      {
        "duration": 21,
        "start_time": "2023-06-02T18:37:02.163Z"
      },
      {
        "duration": 43,
        "start_time": "2023-06-02T18:37:02.186Z"
      },
      {
        "duration": 47,
        "start_time": "2023-06-02T18:37:02.231Z"
      },
      {
        "duration": 111,
        "start_time": "2023-06-02T18:37:02.280Z"
      },
      {
        "duration": 62,
        "start_time": "2023-06-02T18:37:02.393Z"
      },
      {
        "duration": 20,
        "start_time": "2023-06-02T18:37:02.457Z"
      },
      {
        "duration": 43,
        "start_time": "2023-06-02T18:37:02.479Z"
      },
      {
        "duration": 82,
        "start_time": "2023-06-02T18:37:02.524Z"
      },
      {
        "duration": 17,
        "start_time": "2023-06-02T18:37:02.608Z"
      },
      {
        "duration": 4,
        "start_time": "2023-06-02T18:37:02.627Z"
      },
      {
        "duration": 82,
        "start_time": "2023-06-02T18:37:02.632Z"
      },
      {
        "duration": 4,
        "start_time": "2023-06-02T18:37:02.715Z"
      },
      {
        "duration": 66,
        "start_time": "2023-06-02T18:37:02.721Z"
      },
      {
        "duration": 4,
        "start_time": "2023-06-02T18:37:02.789Z"
      },
      {
        "duration": 17,
        "start_time": "2023-06-02T18:37:02.794Z"
      },
      {
        "duration": 30,
        "start_time": "2023-06-02T18:37:02.815Z"
      },
      {
        "duration": 3,
        "start_time": "2023-06-02T18:37:02.846Z"
      },
      {
        "duration": 52,
        "start_time": "2023-06-02T18:37:02.850Z"
      },
      {
        "duration": 3,
        "start_time": "2023-06-02T18:37:02.903Z"
      },
      {
        "duration": 12,
        "start_time": "2023-06-02T18:37:02.907Z"
      },
      {
        "duration": 50700,
        "start_time": "2023-06-02T18:37:02.920Z"
      },
      {
        "duration": 64,
        "start_time": "2023-06-02T18:37:53.622Z"
      },
      {
        "duration": 17244,
        "start_time": "2023-06-02T18:37:53.687Z"
      },
      {
        "duration": 45,
        "start_time": "2023-06-02T18:38:10.932Z"
      },
      {
        "duration": 17432,
        "start_time": "2023-06-02T18:38:10.978Z"
      },
      {
        "duration": 39,
        "start_time": "2023-06-02T18:38:28.412Z"
      },
      {
        "duration": 118588,
        "start_time": "2023-06-02T18:38:28.454Z"
      },
      {
        "duration": 30959,
        "start_time": "2023-06-02T18:40:27.044Z"
      },
      {
        "duration": 5,
        "start_time": "2023-06-02T18:40:58.005Z"
      },
      {
        "duration": 0,
        "start_time": "2023-06-02T18:40:58.012Z"
      },
      {
        "duration": 0,
        "start_time": "2023-06-02T18:40:58.013Z"
      },
      {
        "duration": 0,
        "start_time": "2023-06-02T18:40:58.015Z"
      },
      {
        "duration": 0,
        "start_time": "2023-06-02T18:40:58.016Z"
      },
      {
        "duration": 0,
        "start_time": "2023-06-02T18:40:58.018Z"
      },
      {
        "duration": 0,
        "start_time": "2023-06-02T18:40:58.019Z"
      },
      {
        "duration": 0,
        "start_time": "2023-06-02T18:40:58.020Z"
      },
      {
        "duration": 0,
        "start_time": "2023-06-02T18:40:58.021Z"
      },
      {
        "duration": 0,
        "start_time": "2023-06-02T18:40:58.022Z"
      },
      {
        "duration": 0,
        "start_time": "2023-06-02T18:40:58.023Z"
      },
      {
        "duration": 0,
        "start_time": "2023-06-02T18:40:58.024Z"
      },
      {
        "duration": 0,
        "start_time": "2023-06-02T18:40:58.025Z"
      },
      {
        "duration": 0,
        "start_time": "2023-06-02T18:40:58.025Z"
      },
      {
        "duration": 0,
        "start_time": "2023-06-02T18:40:58.026Z"
      },
      {
        "duration": 0,
        "start_time": "2023-06-02T18:40:58.027Z"
      },
      {
        "duration": 0,
        "start_time": "2023-06-02T18:40:58.028Z"
      },
      {
        "duration": 0,
        "start_time": "2023-06-02T18:40:58.030Z"
      },
      {
        "duration": 0,
        "start_time": "2023-06-02T18:40:58.031Z"
      },
      {
        "duration": 0,
        "start_time": "2023-06-02T18:40:58.032Z"
      },
      {
        "duration": 614773,
        "start_time": "2023-06-02T18:42:26.709Z"
      },
      {
        "duration": 150687,
        "start_time": "2023-06-02T18:54:01.660Z"
      },
      {
        "duration": 53,
        "start_time": "2023-06-03T08:46:15.821Z"
      },
      {
        "duration": 1551,
        "start_time": "2023-06-03T08:46:34.917Z"
      },
      {
        "duration": 2857,
        "start_time": "2023-06-03T08:46:36.470Z"
      },
      {
        "duration": 18,
        "start_time": "2023-06-03T08:46:39.329Z"
      },
      {
        "duration": 131,
        "start_time": "2023-06-03T08:46:39.348Z"
      },
      {
        "duration": 490,
        "start_time": "2023-06-03T08:46:39.481Z"
      },
      {
        "duration": 519,
        "start_time": "2023-06-03T08:46:39.973Z"
      },
      {
        "duration": 109,
        "start_time": "2023-06-03T08:46:40.494Z"
      },
      {
        "duration": 130,
        "start_time": "2023-06-03T08:46:40.604Z"
      },
      {
        "duration": 39,
        "start_time": "2023-06-03T08:46:40.736Z"
      },
      {
        "duration": 22,
        "start_time": "2023-06-03T08:46:40.777Z"
      },
      {
        "duration": 26,
        "start_time": "2023-06-03T08:46:40.801Z"
      },
      {
        "duration": 62,
        "start_time": "2023-06-03T08:46:40.829Z"
      },
      {
        "duration": 101,
        "start_time": "2023-06-03T08:46:40.892Z"
      },
      {
        "duration": 161,
        "start_time": "2023-06-03T08:46:40.997Z"
      },
      {
        "duration": 117,
        "start_time": "2023-06-03T08:46:41.160Z"
      },
      {
        "duration": 169,
        "start_time": "2023-06-03T08:46:41.278Z"
      },
      {
        "duration": 216,
        "start_time": "2023-06-03T08:46:41.449Z"
      },
      {
        "duration": 231,
        "start_time": "2023-06-03T08:46:41.667Z"
      },
      {
        "duration": 29,
        "start_time": "2023-06-03T08:46:41.900Z"
      },
      {
        "duration": 69,
        "start_time": "2023-06-03T08:46:41.931Z"
      },
      {
        "duration": 8,
        "start_time": "2023-06-03T08:46:42.001Z"
      },
      {
        "duration": 22,
        "start_time": "2023-06-03T08:46:42.010Z"
      },
      {
        "duration": 70,
        "start_time": "2023-06-03T08:46:42.034Z"
      },
      {
        "duration": 8,
        "start_time": "2023-06-03T08:46:42.105Z"
      },
      {
        "duration": 120,
        "start_time": "2023-06-03T08:46:42.114Z"
      },
      {
        "duration": 21,
        "start_time": "2023-06-03T08:46:42.236Z"
      },
      {
        "duration": 34,
        "start_time": "2023-06-03T08:46:42.259Z"
      },
      {
        "duration": 62,
        "start_time": "2023-06-03T08:46:42.295Z"
      },
      {
        "duration": 107,
        "start_time": "2023-06-03T08:46:42.360Z"
      },
      {
        "duration": 63,
        "start_time": "2023-06-03T08:46:42.469Z"
      },
      {
        "duration": 22,
        "start_time": "2023-06-03T08:46:42.534Z"
      },
      {
        "duration": 26,
        "start_time": "2023-06-03T08:46:42.558Z"
      },
      {
        "duration": 79,
        "start_time": "2023-06-03T08:46:42.585Z"
      },
      {
        "duration": 15,
        "start_time": "2023-06-03T08:46:42.666Z"
      },
      {
        "duration": 4,
        "start_time": "2023-06-03T08:46:42.682Z"
      },
      {
        "duration": 87,
        "start_time": "2023-06-03T08:46:42.688Z"
      },
      {
        "duration": 5,
        "start_time": "2023-06-03T08:46:42.777Z"
      },
      {
        "duration": 31,
        "start_time": "2023-06-03T08:46:42.783Z"
      },
      {
        "duration": 4,
        "start_time": "2023-06-03T08:46:42.816Z"
      },
      {
        "duration": 4,
        "start_time": "2023-06-03T08:46:42.821Z"
      },
      {
        "duration": 44,
        "start_time": "2023-06-03T08:46:42.829Z"
      },
      {
        "duration": 3,
        "start_time": "2023-06-03T08:46:42.875Z"
      },
      {
        "duration": 50,
        "start_time": "2023-06-03T08:46:42.879Z"
      },
      {
        "duration": 3,
        "start_time": "2023-06-03T08:46:42.930Z"
      },
      {
        "duration": 23,
        "start_time": "2023-06-03T08:46:42.934Z"
      },
      {
        "duration": 70848,
        "start_time": "2023-06-03T08:46:42.958Z"
      },
      {
        "duration": 75,
        "start_time": "2023-06-03T08:47:53.808Z"
      },
      {
        "duration": 22425,
        "start_time": "2023-06-03T08:47:53.884Z"
      },
      {
        "duration": 47,
        "start_time": "2023-06-03T08:48:16.311Z"
      },
      {
        "duration": 21140,
        "start_time": "2023-06-03T08:48:16.360Z"
      },
      {
        "duration": 38,
        "start_time": "2023-06-03T08:48:37.502Z"
      },
      {
        "duration": 118695,
        "start_time": "2023-06-03T08:48:37.542Z"
      },
      {
        "duration": 31484,
        "start_time": "2023-06-03T08:50:36.238Z"
      },
      {
        "duration": 4,
        "start_time": "2023-06-03T08:51:07.724Z"
      },
      {
        "duration": 0,
        "start_time": "2023-06-03T08:51:07.729Z"
      },
      {
        "duration": 0,
        "start_time": "2023-06-03T08:51:07.731Z"
      },
      {
        "duration": 0,
        "start_time": "2023-06-03T08:51:07.732Z"
      },
      {
        "duration": 0,
        "start_time": "2023-06-03T08:51:07.733Z"
      },
      {
        "duration": 0,
        "start_time": "2023-06-03T08:51:07.735Z"
      },
      {
        "duration": 0,
        "start_time": "2023-06-03T08:51:07.736Z"
      },
      {
        "duration": 0,
        "start_time": "2023-06-03T08:51:07.737Z"
      },
      {
        "duration": 0,
        "start_time": "2023-06-03T08:51:07.756Z"
      },
      {
        "duration": 0,
        "start_time": "2023-06-03T08:51:07.758Z"
      },
      {
        "duration": 0,
        "start_time": "2023-06-03T08:51:07.759Z"
      },
      {
        "duration": 0,
        "start_time": "2023-06-03T08:51:07.760Z"
      },
      {
        "duration": 0,
        "start_time": "2023-06-03T08:51:07.761Z"
      },
      {
        "duration": 0,
        "start_time": "2023-06-03T08:51:07.762Z"
      },
      {
        "duration": 0,
        "start_time": "2023-06-03T08:51:07.763Z"
      },
      {
        "duration": 0,
        "start_time": "2023-06-03T08:51:07.765Z"
      },
      {
        "duration": 0,
        "start_time": "2023-06-03T08:51:07.766Z"
      },
      {
        "duration": 0,
        "start_time": "2023-06-03T08:51:07.766Z"
      },
      {
        "duration": 0,
        "start_time": "2023-06-03T08:51:07.768Z"
      },
      {
        "duration": 0,
        "start_time": "2023-06-03T08:51:07.769Z"
      },
      {
        "duration": 81444,
        "start_time": "2023-06-03T08:51:59.713Z"
      },
      {
        "duration": 234968,
        "start_time": "2023-06-03T08:54:40.409Z"
      },
      {
        "duration": 4,
        "start_time": "2023-06-03T08:59:04.814Z"
      },
      {
        "duration": 21158,
        "start_time": "2023-06-03T08:59:53.117Z"
      },
      {
        "duration": 19234,
        "start_time": "2023-06-03T09:00:52.722Z"
      },
      {
        "duration": 22545,
        "start_time": "2023-06-03T09:01:26.940Z"
      },
      {
        "duration": 26728,
        "start_time": "2023-06-03T09:02:24.556Z"
      },
      {
        "duration": 43668,
        "start_time": "2023-06-03T09:22:25.290Z"
      },
      {
        "duration": 37845,
        "start_time": "2023-06-03T09:24:53.013Z"
      },
      {
        "duration": 1594,
        "start_time": "2023-06-03T09:48:34.222Z"
      },
      {
        "duration": 859,
        "start_time": "2023-06-03T09:48:35.818Z"
      },
      {
        "duration": 19,
        "start_time": "2023-06-03T09:48:36.679Z"
      },
      {
        "duration": 144,
        "start_time": "2023-06-03T09:48:36.700Z"
      },
      {
        "duration": 492,
        "start_time": "2023-06-03T09:48:36.846Z"
      },
      {
        "duration": 565,
        "start_time": "2023-06-03T09:48:37.340Z"
      },
      {
        "duration": 107,
        "start_time": "2023-06-03T09:48:37.906Z"
      },
      {
        "duration": 112,
        "start_time": "2023-06-03T09:48:38.015Z"
      },
      {
        "duration": 30,
        "start_time": "2023-06-03T09:48:38.129Z"
      },
      {
        "duration": 20,
        "start_time": "2023-06-03T09:48:38.161Z"
      },
      {
        "duration": 21,
        "start_time": "2023-06-03T09:48:38.182Z"
      },
      {
        "duration": 53,
        "start_time": "2023-06-03T09:48:38.205Z"
      },
      {
        "duration": 24,
        "start_time": "2023-06-03T09:48:38.260Z"
      },
      {
        "duration": 179,
        "start_time": "2023-06-03T09:48:38.286Z"
      },
      {
        "duration": 117,
        "start_time": "2023-06-03T09:48:38.468Z"
      },
      {
        "duration": 206,
        "start_time": "2023-06-03T09:48:38.587Z"
      },
      {
        "duration": 289,
        "start_time": "2023-06-03T09:48:38.795Z"
      },
      {
        "duration": 282,
        "start_time": "2023-06-03T09:48:39.086Z"
      },
      {
        "duration": 30,
        "start_time": "2023-06-03T09:48:39.370Z"
      },
      {
        "duration": 77,
        "start_time": "2023-06-03T09:48:39.402Z"
      },
      {
        "duration": 8,
        "start_time": "2023-06-03T09:48:39.481Z"
      },
      {
        "duration": 24,
        "start_time": "2023-06-03T09:48:39.490Z"
      },
      {
        "duration": 73,
        "start_time": "2023-06-03T09:48:39.516Z"
      },
      {
        "duration": 7,
        "start_time": "2023-06-03T09:48:39.591Z"
      },
      {
        "duration": 118,
        "start_time": "2023-06-03T09:48:39.599Z"
      },
      {
        "duration": 14,
        "start_time": "2023-06-03T09:48:39.719Z"
      },
      {
        "duration": 48,
        "start_time": "2023-06-03T09:48:39.734Z"
      },
      {
        "duration": 44,
        "start_time": "2023-06-03T09:48:39.786Z"
      },
      {
        "duration": 125,
        "start_time": "2023-06-03T09:48:39.832Z"
      },
      {
        "duration": 62,
        "start_time": "2023-06-03T09:48:39.959Z"
      },
      {
        "duration": 4,
        "start_time": "2023-06-03T09:48:40.022Z"
      },
      {
        "duration": 55,
        "start_time": "2023-06-03T09:48:40.027Z"
      },
      {
        "duration": 62,
        "start_time": "2023-06-03T09:48:40.083Z"
      },
      {
        "duration": 23,
        "start_time": "2023-06-03T09:48:40.147Z"
      },
      {
        "duration": 3,
        "start_time": "2023-06-03T09:48:40.172Z"
      },
      {
        "duration": 84,
        "start_time": "2023-06-03T09:48:40.177Z"
      },
      {
        "duration": 4,
        "start_time": "2023-06-03T09:48:40.263Z"
      },
      {
        "duration": 33,
        "start_time": "2023-06-03T09:48:40.268Z"
      },
      {
        "duration": 4,
        "start_time": "2023-06-03T09:48:40.303Z"
      },
      {
        "duration": 5,
        "start_time": "2023-06-03T09:48:40.308Z"
      },
      {
        "duration": 46,
        "start_time": "2023-06-03T09:48:40.314Z"
      },
      {
        "duration": 4,
        "start_time": "2023-06-03T09:48:40.361Z"
      },
      {
        "duration": 52,
        "start_time": "2023-06-03T09:48:40.367Z"
      },
      {
        "duration": 3,
        "start_time": "2023-06-03T09:48:40.421Z"
      },
      {
        "duration": 9,
        "start_time": "2023-06-03T09:48:40.426Z"
      },
      {
        "duration": 59383,
        "start_time": "2023-06-03T09:48:40.437Z"
      },
      {
        "duration": 75,
        "start_time": "2023-06-03T09:49:39.822Z"
      },
      {
        "duration": 19074,
        "start_time": "2023-06-03T09:49:39.899Z"
      },
      {
        "duration": 52,
        "start_time": "2023-06-03T09:49:58.975Z"
      },
      {
        "duration": 18801,
        "start_time": "2023-06-03T09:49:59.030Z"
      },
      {
        "duration": 54,
        "start_time": "2023-06-03T09:50:17.833Z"
      },
      {
        "duration": 122927,
        "start_time": "2023-06-03T09:50:17.889Z"
      },
      {
        "duration": 32234,
        "start_time": "2023-06-03T09:52:20.818Z"
      },
      {
        "duration": 12,
        "start_time": "2023-06-03T09:52:53.055Z"
      },
      {
        "duration": 0,
        "start_time": "2023-06-03T09:52:53.072Z"
      },
      {
        "duration": 0,
        "start_time": "2023-06-03T09:52:53.074Z"
      },
      {
        "duration": 0,
        "start_time": "2023-06-03T09:52:53.075Z"
      },
      {
        "duration": 0,
        "start_time": "2023-06-03T09:52:53.075Z"
      },
      {
        "duration": 0,
        "start_time": "2023-06-03T09:52:53.078Z"
      },
      {
        "duration": 0,
        "start_time": "2023-06-03T09:52:53.080Z"
      },
      {
        "duration": 0,
        "start_time": "2023-06-03T09:52:53.081Z"
      },
      {
        "duration": 1,
        "start_time": "2023-06-03T09:52:53.082Z"
      },
      {
        "duration": 0,
        "start_time": "2023-06-03T09:52:53.084Z"
      },
      {
        "duration": 0,
        "start_time": "2023-06-03T09:52:53.085Z"
      },
      {
        "duration": 0,
        "start_time": "2023-06-03T09:52:53.086Z"
      },
      {
        "duration": 0,
        "start_time": "2023-06-03T09:52:53.087Z"
      },
      {
        "duration": 0,
        "start_time": "2023-06-03T09:52:53.089Z"
      },
      {
        "duration": 0,
        "start_time": "2023-06-03T09:52:53.090Z"
      },
      {
        "duration": 0,
        "start_time": "2023-06-03T09:52:53.091Z"
      },
      {
        "duration": 0,
        "start_time": "2023-06-03T09:52:53.092Z"
      },
      {
        "duration": 1,
        "start_time": "2023-06-03T09:52:53.093Z"
      },
      {
        "duration": 0,
        "start_time": "2023-06-03T09:52:53.094Z"
      },
      {
        "duration": 0,
        "start_time": "2023-06-03T09:52:53.096Z"
      },
      {
        "duration": 0,
        "start_time": "2023-06-03T09:52:53.097Z"
      },
      {
        "duration": 650042,
        "start_time": "2023-06-03T09:56:17.248Z"
      },
      {
        "duration": 6677,
        "start_time": "2023-06-03T10:07:46.183Z"
      },
      {
        "duration": 5207,
        "start_time": "2023-06-03T10:07:52.862Z"
      },
      {
        "duration": 5173,
        "start_time": "2023-06-03T10:08:13.199Z"
      },
      {
        "duration": 5021,
        "start_time": "2023-06-03T10:08:33.341Z"
      },
      {
        "duration": 5526,
        "start_time": "2023-06-03T10:08:56.132Z"
      },
      {
        "duration": 1604,
        "start_time": "2023-06-03T10:14:06.429Z"
      },
      {
        "duration": 886,
        "start_time": "2023-06-03T10:14:08.035Z"
      },
      {
        "duration": 34,
        "start_time": "2023-06-03T10:14:08.924Z"
      },
      {
        "duration": 154,
        "start_time": "2023-06-03T10:14:08.960Z"
      },
      {
        "duration": 534,
        "start_time": "2023-06-03T10:14:09.119Z"
      },
      {
        "duration": 553,
        "start_time": "2023-06-03T10:14:09.655Z"
      },
      {
        "duration": 115,
        "start_time": "2023-06-03T10:14:10.210Z"
      },
      {
        "duration": 123,
        "start_time": "2023-06-03T10:14:10.327Z"
      },
      {
        "duration": 22,
        "start_time": "2023-06-03T10:14:10.452Z"
      },
      {
        "duration": 39,
        "start_time": "2023-06-03T10:14:10.476Z"
      },
      {
        "duration": 52,
        "start_time": "2023-06-03T10:14:10.518Z"
      },
      {
        "duration": 26,
        "start_time": "2023-06-03T10:14:10.572Z"
      },
      {
        "duration": 27,
        "start_time": "2023-06-03T10:14:10.599Z"
      },
      {
        "duration": 176,
        "start_time": "2023-06-03T10:14:10.630Z"
      },
      {
        "duration": 118,
        "start_time": "2023-06-03T10:14:10.808Z"
      },
      {
        "duration": 210,
        "start_time": "2023-06-03T10:14:10.928Z"
      },
      {
        "duration": 223,
        "start_time": "2023-06-03T10:14:11.140Z"
      },
      {
        "duration": 248,
        "start_time": "2023-06-03T10:14:11.365Z"
      },
      {
        "duration": 29,
        "start_time": "2023-06-03T10:14:11.615Z"
      },
      {
        "duration": 77,
        "start_time": "2023-06-03T10:14:11.656Z"
      },
      {
        "duration": 28,
        "start_time": "2023-06-03T10:14:11.735Z"
      },
      {
        "duration": 24,
        "start_time": "2023-06-03T10:14:11.766Z"
      },
      {
        "duration": 71,
        "start_time": "2023-06-03T10:14:11.792Z"
      },
      {
        "duration": 8,
        "start_time": "2023-06-03T10:14:11.865Z"
      },
      {
        "duration": 139,
        "start_time": "2023-06-03T10:14:11.875Z"
      },
      {
        "duration": 15,
        "start_time": "2023-06-03T10:14:12.016Z"
      },
      {
        "duration": 48,
        "start_time": "2023-06-03T10:14:12.033Z"
      },
      {
        "duration": 54,
        "start_time": "2023-06-03T10:14:12.084Z"
      },
      {
        "duration": 107,
        "start_time": "2023-06-03T10:14:12.156Z"
      },
      {
        "duration": 69,
        "start_time": "2023-06-03T10:14:12.265Z"
      },
      {
        "duration": 21,
        "start_time": "2023-06-03T10:14:12.336Z"
      },
      {
        "duration": 48,
        "start_time": "2023-06-03T10:14:12.359Z"
      },
      {
        "duration": 74,
        "start_time": "2023-06-03T10:14:12.409Z"
      },
      {
        "duration": 24,
        "start_time": "2023-06-03T10:14:12.485Z"
      },
      {
        "duration": 4,
        "start_time": "2023-06-03T10:14:12.511Z"
      },
      {
        "duration": 109,
        "start_time": "2023-06-03T10:14:12.517Z"
      },
      {
        "duration": 4,
        "start_time": "2023-06-03T10:14:12.629Z"
      },
      {
        "duration": 55,
        "start_time": "2023-06-03T10:14:12.636Z"
      },
      {
        "duration": 5,
        "start_time": "2023-06-03T10:14:12.693Z"
      },
      {
        "duration": 3,
        "start_time": "2023-06-03T10:14:12.701Z"
      },
      {
        "duration": 20,
        "start_time": "2023-06-03T10:14:12.709Z"
      },
      {
        "duration": 28,
        "start_time": "2023-06-03T10:14:12.731Z"
      },
      {
        "duration": 73,
        "start_time": "2023-06-03T10:14:12.761Z"
      },
      {
        "duration": 6,
        "start_time": "2023-06-03T10:14:12.835Z"
      },
      {
        "duration": 5,
        "start_time": "2023-06-03T10:14:12.843Z"
      },
      {
        "duration": 59491,
        "start_time": "2023-06-03T10:14:12.850Z"
      },
      {
        "duration": 72,
        "start_time": "2023-06-03T10:15:12.343Z"
      },
      {
        "duration": 20716,
        "start_time": "2023-06-03T10:15:12.417Z"
      },
      {
        "duration": 51,
        "start_time": "2023-06-03T10:15:33.136Z"
      },
      {
        "duration": 20604,
        "start_time": "2023-06-03T10:15:33.189Z"
      },
      {
        "duration": 41,
        "start_time": "2023-06-03T10:15:53.795Z"
      },
      {
        "duration": 122116,
        "start_time": "2023-06-03T10:15:53.839Z"
      },
      {
        "duration": 34403,
        "start_time": "2023-06-03T10:17:55.957Z"
      },
      {
        "duration": 10,
        "start_time": "2023-06-03T10:18:30.361Z"
      },
      {
        "duration": 0,
        "start_time": "2023-06-03T10:18:30.374Z"
      },
      {
        "duration": 0,
        "start_time": "2023-06-03T10:18:30.375Z"
      },
      {
        "duration": 0,
        "start_time": "2023-06-03T10:18:30.376Z"
      },
      {
        "duration": 0,
        "start_time": "2023-06-03T10:18:30.378Z"
      },
      {
        "duration": 0,
        "start_time": "2023-06-03T10:18:30.378Z"
      },
      {
        "duration": 0,
        "start_time": "2023-06-03T10:18:30.379Z"
      },
      {
        "duration": 0,
        "start_time": "2023-06-03T10:18:30.380Z"
      },
      {
        "duration": 0,
        "start_time": "2023-06-03T10:18:30.381Z"
      },
      {
        "duration": 0,
        "start_time": "2023-06-03T10:18:30.382Z"
      },
      {
        "duration": 0,
        "start_time": "2023-06-03T10:18:30.383Z"
      },
      {
        "duration": 0,
        "start_time": "2023-06-03T10:18:30.385Z"
      },
      {
        "duration": 0,
        "start_time": "2023-06-03T10:18:30.385Z"
      },
      {
        "duration": 0,
        "start_time": "2023-06-03T10:18:30.386Z"
      },
      {
        "duration": 0,
        "start_time": "2023-06-03T10:18:30.387Z"
      },
      {
        "duration": 0,
        "start_time": "2023-06-03T10:18:30.389Z"
      },
      {
        "duration": 0,
        "start_time": "2023-06-03T10:18:30.390Z"
      },
      {
        "duration": 0,
        "start_time": "2023-06-03T10:18:30.391Z"
      },
      {
        "duration": 0,
        "start_time": "2023-06-03T10:18:30.392Z"
      },
      {
        "duration": 0,
        "start_time": "2023-06-03T10:18:30.393Z"
      },
      {
        "duration": 0,
        "start_time": "2023-06-03T10:18:30.394Z"
      },
      {
        "duration": 26191,
        "start_time": "2023-06-03T10:19:14.282Z"
      },
      {
        "duration": 35115,
        "start_time": "2023-06-03T10:19:40.475Z"
      },
      {
        "duration": 190187,
        "start_time": "2023-06-03T10:20:15.593Z"
      },
      {
        "duration": 230597,
        "start_time": "2023-06-03T10:23:42.074Z"
      },
      {
        "duration": 187478,
        "start_time": "2023-06-03T10:27:43.782Z"
      },
      {
        "duration": 188981,
        "start_time": "2023-06-03T10:39:28.005Z"
      },
      {
        "duration": 57,
        "start_time": "2023-06-03T13:22:17.140Z"
      },
      {
        "duration": 1528,
        "start_time": "2023-06-03T13:22:22.587Z"
      },
      {
        "duration": 1058,
        "start_time": "2023-06-03T13:22:24.117Z"
      },
      {
        "duration": 17,
        "start_time": "2023-06-03T13:22:25.177Z"
      },
      {
        "duration": 138,
        "start_time": "2023-06-03T13:22:25.196Z"
      },
      {
        "duration": 423,
        "start_time": "2023-06-03T13:22:25.336Z"
      },
      {
        "duration": 431,
        "start_time": "2023-06-03T13:22:25.760Z"
      },
      {
        "duration": 102,
        "start_time": "2023-06-03T13:22:26.192Z"
      },
      {
        "duration": 106,
        "start_time": "2023-06-03T13:22:26.295Z"
      },
      {
        "duration": 28,
        "start_time": "2023-06-03T13:22:26.402Z"
      },
      {
        "duration": 28,
        "start_time": "2023-06-03T13:22:26.432Z"
      },
      {
        "duration": 20,
        "start_time": "2023-06-03T13:22:26.461Z"
      },
      {
        "duration": 21,
        "start_time": "2023-06-03T13:22:26.482Z"
      },
      {
        "duration": 28,
        "start_time": "2023-06-03T13:22:26.504Z"
      },
      {
        "duration": 159,
        "start_time": "2023-06-03T13:22:26.533Z"
      },
      {
        "duration": 114,
        "start_time": "2023-06-03T13:22:26.694Z"
      },
      {
        "duration": 175,
        "start_time": "2023-06-03T13:22:26.816Z"
      },
      {
        "duration": 198,
        "start_time": "2023-06-03T13:22:26.993Z"
      },
      {
        "duration": 216,
        "start_time": "2023-06-03T13:22:27.192Z"
      },
      {
        "duration": 23,
        "start_time": "2023-06-03T13:22:27.415Z"
      },
      {
        "duration": 45,
        "start_time": "2023-06-03T13:22:27.439Z"
      },
      {
        "duration": 7,
        "start_time": "2023-06-03T13:22:27.485Z"
      },
      {
        "duration": 40,
        "start_time": "2023-06-03T13:22:27.494Z"
      },
      {
        "duration": 42,
        "start_time": "2023-06-03T13:22:27.535Z"
      },
      {
        "duration": 6,
        "start_time": "2023-06-03T13:22:27.578Z"
      },
      {
        "duration": 123,
        "start_time": "2023-06-03T13:22:27.585Z"
      },
      {
        "duration": 15,
        "start_time": "2023-06-03T13:22:27.715Z"
      },
      {
        "duration": 42,
        "start_time": "2023-06-03T13:22:27.732Z"
      },
      {
        "duration": 39,
        "start_time": "2023-06-03T13:22:27.779Z"
      },
      {
        "duration": 101,
        "start_time": "2023-06-03T13:22:27.819Z"
      },
      {
        "duration": 62,
        "start_time": "2023-06-03T13:22:27.922Z"
      },
      {
        "duration": 3,
        "start_time": "2023-06-03T13:22:27.986Z"
      },
      {
        "duration": 51,
        "start_time": "2023-06-03T13:22:27.991Z"
      },
      {
        "duration": 125,
        "start_time": "2023-06-03T13:22:28.044Z"
      },
      {
        "duration": 14,
        "start_time": "2023-06-03T13:22:28.170Z"
      },
      {
        "duration": 4,
        "start_time": "2023-06-03T13:22:28.186Z"
      },
      {
        "duration": 66,
        "start_time": "2023-06-03T13:22:28.192Z"
      },
      {
        "duration": 4,
        "start_time": "2023-06-03T13:22:28.259Z"
      },
      {
        "duration": 21,
        "start_time": "2023-06-03T13:22:28.265Z"
      },
      {
        "duration": 4,
        "start_time": "2023-06-03T13:22:28.288Z"
      },
      {
        "duration": 3,
        "start_time": "2023-06-03T13:22:28.294Z"
      },
      {
        "duration": 15,
        "start_time": "2023-06-03T13:22:28.316Z"
      },
      {
        "duration": 2,
        "start_time": "2023-06-03T13:22:28.333Z"
      },
      {
        "duration": 47,
        "start_time": "2023-06-03T13:22:28.337Z"
      },
      {
        "duration": 2,
        "start_time": "2023-06-03T13:22:28.385Z"
      },
      {
        "duration": 6,
        "start_time": "2023-06-03T13:22:28.389Z"
      },
      {
        "duration": 31127,
        "start_time": "2023-06-03T13:22:28.416Z"
      },
      {
        "duration": 48,
        "start_time": "2023-06-03T13:22:59.544Z"
      },
      {
        "duration": 6784,
        "start_time": "2023-06-03T13:22:59.594Z"
      },
      {
        "duration": 50,
        "start_time": "2023-06-03T13:23:06.380Z"
      },
      {
        "duration": 6308,
        "start_time": "2023-06-03T13:23:06.432Z"
      },
      {
        "duration": 31,
        "start_time": "2023-06-03T13:23:12.741Z"
      },
      {
        "duration": 96483,
        "start_time": "2023-06-03T13:23:12.773Z"
      },
      {
        "duration": 27036,
        "start_time": "2023-06-03T13:24:49.258Z"
      },
      {
        "duration": 5,
        "start_time": "2023-06-03T13:25:16.295Z"
      },
      {
        "duration": 0,
        "start_time": "2023-06-03T13:25:16.301Z"
      },
      {
        "duration": 0,
        "start_time": "2023-06-03T13:25:16.302Z"
      },
      {
        "duration": 0,
        "start_time": "2023-06-03T13:25:16.304Z"
      },
      {
        "duration": 0,
        "start_time": "2023-06-03T13:25:16.305Z"
      },
      {
        "duration": 0,
        "start_time": "2023-06-03T13:25:16.316Z"
      },
      {
        "duration": 0,
        "start_time": "2023-06-03T13:25:16.317Z"
      },
      {
        "duration": 0,
        "start_time": "2023-06-03T13:25:16.319Z"
      },
      {
        "duration": 0,
        "start_time": "2023-06-03T13:25:16.320Z"
      },
      {
        "duration": 0,
        "start_time": "2023-06-03T13:25:16.321Z"
      },
      {
        "duration": 0,
        "start_time": "2023-06-03T13:25:16.323Z"
      },
      {
        "duration": 0,
        "start_time": "2023-06-03T13:25:16.324Z"
      },
      {
        "duration": 1,
        "start_time": "2023-06-03T13:25:16.325Z"
      },
      {
        "duration": 0,
        "start_time": "2023-06-03T13:25:16.327Z"
      },
      {
        "duration": 0,
        "start_time": "2023-06-03T13:25:16.328Z"
      },
      {
        "duration": 0,
        "start_time": "2023-06-03T13:25:16.329Z"
      },
      {
        "duration": 0,
        "start_time": "2023-06-03T13:25:16.330Z"
      },
      {
        "duration": 0,
        "start_time": "2023-06-03T13:25:16.332Z"
      },
      {
        "duration": 0,
        "start_time": "2023-06-03T13:25:16.333Z"
      },
      {
        "duration": 0,
        "start_time": "2023-06-03T13:25:16.334Z"
      },
      {
        "duration": 0,
        "start_time": "2023-06-03T13:25:16.335Z"
      },
      {
        "duration": 1527,
        "start_time": "2023-06-03T13:33:40.577Z"
      },
      {
        "duration": 761,
        "start_time": "2023-06-03T13:33:42.106Z"
      },
      {
        "duration": 21,
        "start_time": "2023-06-03T13:33:42.869Z"
      },
      {
        "duration": 175,
        "start_time": "2023-06-03T13:33:42.892Z"
      },
      {
        "duration": 412,
        "start_time": "2023-06-03T13:33:43.069Z"
      },
      {
        "duration": 471,
        "start_time": "2023-06-03T13:33:43.483Z"
      },
      {
        "duration": 108,
        "start_time": "2023-06-03T13:33:43.956Z"
      },
      {
        "duration": 116,
        "start_time": "2023-06-03T13:33:44.066Z"
      },
      {
        "duration": 19,
        "start_time": "2023-06-03T13:33:44.184Z"
      },
      {
        "duration": 36,
        "start_time": "2023-06-03T13:33:44.216Z"
      },
      {
        "duration": 24,
        "start_time": "2023-06-03T13:33:44.254Z"
      },
      {
        "duration": 37,
        "start_time": "2023-06-03T13:33:44.281Z"
      },
      {
        "duration": 40,
        "start_time": "2023-06-03T13:33:44.320Z"
      },
      {
        "duration": 178,
        "start_time": "2023-06-03T13:33:44.364Z"
      },
      {
        "duration": 117,
        "start_time": "2023-06-03T13:33:44.544Z"
      },
      {
        "duration": 209,
        "start_time": "2023-06-03T13:33:44.662Z"
      },
      {
        "duration": 230,
        "start_time": "2023-06-03T13:33:44.872Z"
      },
      {
        "duration": 219,
        "start_time": "2023-06-03T13:33:45.104Z"
      },
      {
        "duration": 43,
        "start_time": "2023-06-03T13:33:45.325Z"
      },
      {
        "duration": 81,
        "start_time": "2023-06-03T13:33:45.370Z"
      },
      {
        "duration": 11,
        "start_time": "2023-06-03T13:33:45.454Z"
      },
      {
        "duration": 52,
        "start_time": "2023-06-03T13:33:45.467Z"
      },
      {
        "duration": 59,
        "start_time": "2023-06-03T13:33:45.522Z"
      },
      {
        "duration": 10,
        "start_time": "2023-06-03T13:33:45.583Z"
      },
      {
        "duration": 184,
        "start_time": "2023-06-03T13:33:45.595Z"
      },
      {
        "duration": 14,
        "start_time": "2023-06-03T13:33:45.781Z"
      },
      {
        "duration": 44,
        "start_time": "2023-06-03T13:33:45.796Z"
      },
      {
        "duration": 48,
        "start_time": "2023-06-03T13:33:45.842Z"
      },
      {
        "duration": 110,
        "start_time": "2023-06-03T13:33:45.892Z"
      },
      {
        "duration": 87,
        "start_time": "2023-06-03T13:33:46.005Z"
      },
      {
        "duration": 6,
        "start_time": "2023-06-03T13:33:46.094Z"
      },
      {
        "duration": 39,
        "start_time": "2023-06-03T13:33:46.102Z"
      },
      {
        "duration": 76,
        "start_time": "2023-06-03T13:33:46.142Z"
      },
      {
        "duration": 18,
        "start_time": "2023-06-03T13:33:46.220Z"
      },
      {
        "duration": 22,
        "start_time": "2023-06-03T13:33:46.240Z"
      },
      {
        "duration": 53,
        "start_time": "2023-06-03T13:33:46.264Z"
      },
      {
        "duration": 5,
        "start_time": "2023-06-03T13:33:46.319Z"
      },
      {
        "duration": 47,
        "start_time": "2023-06-03T13:33:46.325Z"
      },
      {
        "duration": 5,
        "start_time": "2023-06-03T13:33:46.374Z"
      },
      {
        "duration": 5,
        "start_time": "2023-06-03T13:33:46.381Z"
      },
      {
        "duration": 39,
        "start_time": "2023-06-03T13:33:46.392Z"
      },
      {
        "duration": 4,
        "start_time": "2023-06-03T13:33:46.434Z"
      },
      {
        "duration": 48,
        "start_time": "2023-06-03T13:33:46.439Z"
      },
      {
        "duration": 3,
        "start_time": "2023-06-03T13:33:46.489Z"
      },
      {
        "duration": 25,
        "start_time": "2023-06-03T13:33:46.494Z"
      },
      {
        "duration": 32516,
        "start_time": "2023-06-03T13:33:46.521Z"
      },
      {
        "duration": 49,
        "start_time": "2023-06-03T13:34:19.039Z"
      },
      {
        "duration": 10771,
        "start_time": "2023-06-03T13:34:19.089Z"
      },
      {
        "duration": 41,
        "start_time": "2023-06-03T13:34:29.863Z"
      },
      {
        "duration": 10617,
        "start_time": "2023-06-03T13:34:29.905Z"
      },
      {
        "duration": 47,
        "start_time": "2023-06-03T13:34:40.524Z"
      },
      {
        "duration": 102454,
        "start_time": "2023-06-03T13:34:40.572Z"
      },
      {
        "duration": 27625,
        "start_time": "2023-06-03T13:36:23.028Z"
      },
      {
        "duration": 5,
        "start_time": "2023-06-03T13:36:50.655Z"
      },
      {
        "duration": 0,
        "start_time": "2023-06-03T13:36:50.662Z"
      },
      {
        "duration": 0,
        "start_time": "2023-06-03T13:36:50.664Z"
      },
      {
        "duration": 0,
        "start_time": "2023-06-03T13:36:50.665Z"
      },
      {
        "duration": 0,
        "start_time": "2023-06-03T13:36:50.666Z"
      },
      {
        "duration": 0,
        "start_time": "2023-06-03T13:36:50.667Z"
      },
      {
        "duration": 0,
        "start_time": "2023-06-03T13:36:50.668Z"
      },
      {
        "duration": 0,
        "start_time": "2023-06-03T13:36:50.669Z"
      },
      {
        "duration": 0,
        "start_time": "2023-06-03T13:36:50.670Z"
      },
      {
        "duration": 0,
        "start_time": "2023-06-03T13:36:50.671Z"
      },
      {
        "duration": 0,
        "start_time": "2023-06-03T13:36:50.672Z"
      },
      {
        "duration": 0,
        "start_time": "2023-06-03T13:36:50.674Z"
      },
      {
        "duration": 0,
        "start_time": "2023-06-03T13:36:50.674Z"
      },
      {
        "duration": 0,
        "start_time": "2023-06-03T13:36:50.675Z"
      },
      {
        "duration": 0,
        "start_time": "2023-06-03T13:36:50.676Z"
      },
      {
        "duration": 0,
        "start_time": "2023-06-03T13:36:50.677Z"
      },
      {
        "duration": 0,
        "start_time": "2023-06-03T13:36:50.678Z"
      },
      {
        "duration": 0,
        "start_time": "2023-06-03T13:36:50.679Z"
      },
      {
        "duration": 0,
        "start_time": "2023-06-03T13:36:50.722Z"
      },
      {
        "duration": 0,
        "start_time": "2023-06-03T13:36:50.724Z"
      },
      {
        "duration": 0,
        "start_time": "2023-06-03T13:36:50.725Z"
      },
      {
        "duration": 26229,
        "start_time": "2023-06-03T13:37:34.789Z"
      },
      {
        "duration": 97944,
        "start_time": "2023-06-03T13:38:48.172Z"
      },
      {
        "duration": 991061,
        "start_time": "2023-06-03T13:45:25.980Z"
      },
      {
        "duration": 31610,
        "start_time": "2023-06-03T14:11:42.671Z"
      },
      {
        "duration": 9860,
        "start_time": "2023-06-03T14:13:16.256Z"
      },
      {
        "duration": 481027,
        "start_time": "2023-06-03T14:13:57.499Z"
      },
      {
        "duration": 1398,
        "start_time": "2023-06-03T14:36:14.456Z"
      },
      {
        "duration": 778,
        "start_time": "2023-06-03T14:36:15.856Z"
      },
      {
        "duration": 18,
        "start_time": "2023-06-03T14:36:16.635Z"
      },
      {
        "duration": 124,
        "start_time": "2023-06-03T14:36:16.655Z"
      },
      {
        "duration": 447,
        "start_time": "2023-06-03T14:36:16.781Z"
      },
      {
        "duration": 437,
        "start_time": "2023-06-03T14:36:17.230Z"
      },
      {
        "duration": 100,
        "start_time": "2023-06-03T14:36:17.668Z"
      },
      {
        "duration": 116,
        "start_time": "2023-06-03T14:36:17.769Z"
      },
      {
        "duration": 46,
        "start_time": "2023-06-03T14:36:17.887Z"
      },
      {
        "duration": 37,
        "start_time": "2023-06-03T14:36:17.935Z"
      },
      {
        "duration": 47,
        "start_time": "2023-06-03T14:36:17.974Z"
      },
      {
        "duration": 35,
        "start_time": "2023-06-03T14:36:18.024Z"
      },
      {
        "duration": 37,
        "start_time": "2023-06-03T14:36:18.061Z"
      },
      {
        "duration": 176,
        "start_time": "2023-06-03T14:36:18.115Z"
      },
      {
        "duration": 129,
        "start_time": "2023-06-03T14:36:18.292Z"
      },
      {
        "duration": 205,
        "start_time": "2023-06-03T14:36:18.423Z"
      },
      {
        "duration": 213,
        "start_time": "2023-06-03T14:36:18.630Z"
      },
      {
        "duration": 246,
        "start_time": "2023-06-03T14:36:18.845Z"
      },
      {
        "duration": 49,
        "start_time": "2023-06-03T14:36:19.093Z"
      },
      {
        "duration": 55,
        "start_time": "2023-06-03T14:36:19.144Z"
      },
      {
        "duration": 20,
        "start_time": "2023-06-03T14:36:19.200Z"
      },
      {
        "duration": 22,
        "start_time": "2023-06-03T14:36:19.222Z"
      },
      {
        "duration": 74,
        "start_time": "2023-06-03T14:36:19.245Z"
      },
      {
        "duration": 8,
        "start_time": "2023-06-03T14:36:19.321Z"
      },
      {
        "duration": 125,
        "start_time": "2023-06-03T14:36:19.331Z"
      },
      {
        "duration": 14,
        "start_time": "2023-06-03T14:36:19.458Z"
      },
      {
        "duration": 48,
        "start_time": "2023-06-03T14:36:19.474Z"
      },
      {
        "duration": 40,
        "start_time": "2023-06-03T14:36:19.523Z"
      },
      {
        "duration": 114,
        "start_time": "2023-06-03T14:36:19.564Z"
      },
      {
        "duration": 73,
        "start_time": "2023-06-03T14:36:19.680Z"
      },
      {
        "duration": 2,
        "start_time": "2023-06-03T14:36:19.755Z"
      },
      {
        "duration": 39,
        "start_time": "2023-06-03T14:36:19.759Z"
      },
      {
        "duration": 72,
        "start_time": "2023-06-03T14:36:19.800Z"
      },
      {
        "duration": 27,
        "start_time": "2023-06-03T14:36:19.874Z"
      },
      {
        "duration": 23,
        "start_time": "2023-06-03T14:36:19.903Z"
      },
      {
        "duration": 58,
        "start_time": "2023-06-03T14:36:19.928Z"
      },
      {
        "duration": 5,
        "start_time": "2023-06-03T14:36:19.988Z"
      },
      {
        "duration": 36,
        "start_time": "2023-06-03T14:36:19.995Z"
      },
      {
        "duration": 5,
        "start_time": "2023-06-03T14:36:20.032Z"
      },
      {
        "duration": 32,
        "start_time": "2023-06-03T14:36:20.038Z"
      },
      {
        "duration": 26,
        "start_time": "2023-06-03T14:36:20.076Z"
      },
      {
        "duration": 4,
        "start_time": "2023-06-03T14:36:20.104Z"
      },
      {
        "duration": 53,
        "start_time": "2023-06-03T14:36:20.110Z"
      },
      {
        "duration": 3,
        "start_time": "2023-06-03T14:36:20.164Z"
      },
      {
        "duration": 19,
        "start_time": "2023-06-03T14:36:20.168Z"
      },
      {
        "duration": 33767,
        "start_time": "2023-06-03T14:36:20.189Z"
      },
      {
        "duration": 48,
        "start_time": "2023-06-03T14:36:53.958Z"
      },
      {
        "duration": 9965,
        "start_time": "2023-06-03T14:36:54.015Z"
      },
      {
        "duration": 40,
        "start_time": "2023-06-03T14:37:03.982Z"
      },
      {
        "duration": 9365,
        "start_time": "2023-06-03T14:37:04.025Z"
      },
      {
        "duration": 34,
        "start_time": "2023-06-03T14:37:13.391Z"
      },
      {
        "duration": 4,
        "start_time": "2023-06-03T14:37:13.427Z"
      },
      {
        "duration": 0,
        "start_time": "2023-06-03T14:37:13.433Z"
      },
      {
        "duration": 0,
        "start_time": "2023-06-03T14:37:13.435Z"
      },
      {
        "duration": 0,
        "start_time": "2023-06-03T14:37:13.435Z"
      },
      {
        "duration": 0,
        "start_time": "2023-06-03T14:37:13.437Z"
      },
      {
        "duration": 0,
        "start_time": "2023-06-03T14:37:13.438Z"
      },
      {
        "duration": 1,
        "start_time": "2023-06-03T14:37:13.438Z"
      },
      {
        "duration": 0,
        "start_time": "2023-06-03T14:37:13.439Z"
      },
      {
        "duration": 0,
        "start_time": "2023-06-03T14:37:13.441Z"
      },
      {
        "duration": 0,
        "start_time": "2023-06-03T14:37:13.442Z"
      },
      {
        "duration": 1,
        "start_time": "2023-06-03T14:37:13.443Z"
      },
      {
        "duration": 0,
        "start_time": "2023-06-03T14:37:13.445Z"
      },
      {
        "duration": 0,
        "start_time": "2023-06-03T14:37:13.446Z"
      },
      {
        "duration": 0,
        "start_time": "2023-06-03T14:37:13.448Z"
      },
      {
        "duration": 0,
        "start_time": "2023-06-03T14:37:13.449Z"
      },
      {
        "duration": 0,
        "start_time": "2023-06-03T14:37:13.450Z"
      },
      {
        "duration": 0,
        "start_time": "2023-06-03T14:37:13.451Z"
      },
      {
        "duration": 0,
        "start_time": "2023-06-03T14:37:13.453Z"
      },
      {
        "duration": 0,
        "start_time": "2023-06-03T14:37:13.455Z"
      },
      {
        "duration": 0,
        "start_time": "2023-06-03T14:37:13.457Z"
      },
      {
        "duration": 0,
        "start_time": "2023-06-03T14:37:13.458Z"
      },
      {
        "duration": 0,
        "start_time": "2023-06-03T14:37:13.460Z"
      },
      {
        "duration": 0,
        "start_time": "2023-06-03T14:37:13.517Z"
      },
      {
        "duration": 0,
        "start_time": "2023-06-03T14:37:13.519Z"
      },
      {
        "duration": 0,
        "start_time": "2023-06-03T14:37:13.520Z"
      },
      {
        "duration": 0,
        "start_time": "2023-06-03T14:37:13.521Z"
      },
      {
        "duration": 1416,
        "start_time": "2023-06-03T14:46:48.179Z"
      },
      {
        "duration": 864,
        "start_time": "2023-06-03T14:46:49.597Z"
      },
      {
        "duration": 22,
        "start_time": "2023-06-03T14:46:50.463Z"
      },
      {
        "duration": 147,
        "start_time": "2023-06-03T14:46:50.487Z"
      },
      {
        "duration": 549,
        "start_time": "2023-06-03T14:46:50.638Z"
      },
      {
        "duration": 481,
        "start_time": "2023-06-03T14:46:51.189Z"
      },
      {
        "duration": 120,
        "start_time": "2023-06-03T14:46:51.672Z"
      },
      {
        "duration": 138,
        "start_time": "2023-06-03T14:46:51.793Z"
      },
      {
        "duration": 20,
        "start_time": "2023-06-03T14:46:51.933Z"
      },
      {
        "duration": 28,
        "start_time": "2023-06-03T14:46:51.954Z"
      },
      {
        "duration": 32,
        "start_time": "2023-06-03T14:46:51.984Z"
      },
      {
        "duration": 20,
        "start_time": "2023-06-03T14:46:52.018Z"
      },
      {
        "duration": 25,
        "start_time": "2023-06-03T14:46:52.039Z"
      },
      {
        "duration": 188,
        "start_time": "2023-06-03T14:46:52.067Z"
      },
      {
        "duration": 125,
        "start_time": "2023-06-03T14:46:52.258Z"
      },
      {
        "duration": 211,
        "start_time": "2023-06-03T14:46:52.385Z"
      },
      {
        "duration": 223,
        "start_time": "2023-06-03T14:46:52.598Z"
      },
      {
        "duration": 244,
        "start_time": "2023-06-03T14:46:52.822Z"
      },
      {
        "duration": 26,
        "start_time": "2023-06-03T14:46:53.068Z"
      },
      {
        "duration": 61,
        "start_time": "2023-06-03T14:46:53.096Z"
      },
      {
        "duration": 8,
        "start_time": "2023-06-03T14:46:53.159Z"
      },
      {
        "duration": 41,
        "start_time": "2023-06-03T14:46:53.169Z"
      },
      {
        "duration": 52,
        "start_time": "2023-06-03T14:46:53.216Z"
      },
      {
        "duration": 8,
        "start_time": "2023-06-03T14:46:53.270Z"
      },
      {
        "duration": 130,
        "start_time": "2023-06-03T14:46:53.280Z"
      },
      {
        "duration": 23,
        "start_time": "2023-06-03T14:46:53.417Z"
      },
      {
        "duration": 31,
        "start_time": "2023-06-03T14:46:53.443Z"
      },
      {
        "duration": 71,
        "start_time": "2023-06-03T14:46:53.476Z"
      },
      {
        "duration": 96,
        "start_time": "2023-06-03T14:46:53.549Z"
      },
      {
        "duration": 78,
        "start_time": "2023-06-03T14:46:53.647Z"
      },
      {
        "duration": 3,
        "start_time": "2023-06-03T14:46:53.727Z"
      },
      {
        "duration": 51,
        "start_time": "2023-06-03T14:46:53.732Z"
      },
      {
        "duration": 83,
        "start_time": "2023-06-03T14:46:53.785Z"
      },
      {
        "duration": 22,
        "start_time": "2023-06-03T14:46:53.870Z"
      },
      {
        "duration": 27,
        "start_time": "2023-06-03T14:46:53.894Z"
      },
      {
        "duration": 63,
        "start_time": "2023-06-03T14:46:53.922Z"
      },
      {
        "duration": 5,
        "start_time": "2023-06-03T14:46:53.987Z"
      },
      {
        "duration": 37,
        "start_time": "2023-06-03T14:46:53.994Z"
      },
      {
        "duration": 6,
        "start_time": "2023-06-03T14:46:54.033Z"
      },
      {
        "duration": 5,
        "start_time": "2023-06-03T14:46:54.040Z"
      },
      {
        "duration": 21,
        "start_time": "2023-06-03T14:46:54.050Z"
      },
      {
        "duration": 3,
        "start_time": "2023-06-03T14:46:54.072Z"
      },
      {
        "duration": 93,
        "start_time": "2023-06-03T14:46:54.077Z"
      },
      {
        "duration": 3,
        "start_time": "2023-06-03T14:46:54.172Z"
      },
      {
        "duration": 7,
        "start_time": "2023-06-03T14:46:54.177Z"
      },
      {
        "duration": 35760,
        "start_time": "2023-06-03T14:46:54.187Z"
      },
      {
        "duration": 51,
        "start_time": "2023-06-03T14:47:29.949Z"
      },
      {
        "duration": 9429,
        "start_time": "2023-06-03T14:47:30.001Z"
      },
      {
        "duration": 32,
        "start_time": "2023-06-03T14:47:39.432Z"
      },
      {
        "duration": 9599,
        "start_time": "2023-06-03T14:47:39.466Z"
      },
      {
        "duration": 33,
        "start_time": "2023-06-03T14:47:49.067Z"
      },
      {
        "duration": 8923,
        "start_time": "2023-06-03T14:47:49.102Z"
      },
      {
        "duration": 88,
        "start_time": "2023-06-03T14:47:58.028Z"
      },
      {
        "duration": 0,
        "start_time": "2023-06-03T14:47:58.118Z"
      },
      {
        "duration": 0,
        "start_time": "2023-06-03T14:47:58.122Z"
      },
      {
        "duration": 0,
        "start_time": "2023-06-03T14:47:58.125Z"
      },
      {
        "duration": 0,
        "start_time": "2023-06-03T14:47:58.126Z"
      },
      {
        "duration": 0,
        "start_time": "2023-06-03T14:47:58.128Z"
      },
      {
        "duration": 0,
        "start_time": "2023-06-03T14:47:58.129Z"
      },
      {
        "duration": 0,
        "start_time": "2023-06-03T14:47:58.131Z"
      },
      {
        "duration": 0,
        "start_time": "2023-06-03T14:47:58.133Z"
      },
      {
        "duration": 0,
        "start_time": "2023-06-03T14:47:58.135Z"
      },
      {
        "duration": 1,
        "start_time": "2023-06-03T14:47:58.136Z"
      },
      {
        "duration": 0,
        "start_time": "2023-06-03T14:47:58.138Z"
      },
      {
        "duration": 0,
        "start_time": "2023-06-03T14:47:58.140Z"
      },
      {
        "duration": 0,
        "start_time": "2023-06-03T14:47:58.141Z"
      },
      {
        "duration": 0,
        "start_time": "2023-06-03T14:47:58.142Z"
      },
      {
        "duration": 0,
        "start_time": "2023-06-03T14:47:58.144Z"
      },
      {
        "duration": 0,
        "start_time": "2023-06-03T14:47:58.145Z"
      },
      {
        "duration": 0,
        "start_time": "2023-06-03T14:47:58.148Z"
      },
      {
        "duration": 0,
        "start_time": "2023-06-03T14:47:58.149Z"
      },
      {
        "duration": 1,
        "start_time": "2023-06-03T14:47:58.150Z"
      },
      {
        "duration": 0,
        "start_time": "2023-06-03T14:47:58.152Z"
      },
      {
        "duration": 0,
        "start_time": "2023-06-03T14:47:58.153Z"
      },
      {
        "duration": 0,
        "start_time": "2023-06-03T14:47:58.154Z"
      },
      {
        "duration": 0,
        "start_time": "2023-06-03T14:47:58.156Z"
      },
      {
        "duration": 0,
        "start_time": "2023-06-03T14:47:58.158Z"
      },
      {
        "duration": 0,
        "start_time": "2023-06-03T14:47:58.216Z"
      },
      {
        "duration": 2460,
        "start_time": "2023-06-03T14:54:34.457Z"
      },
      {
        "duration": 2703,
        "start_time": "2023-06-03T14:54:52.219Z"
      },
      {
        "duration": 302725,
        "start_time": "2023-06-03T14:56:45.814Z"
      },
      {
        "duration": 30477,
        "start_time": "2023-06-03T15:02:22.921Z"
      },
      {
        "duration": 910407,
        "start_time": "2023-06-03T15:05:06.694Z"
      },
      {
        "duration": 31637,
        "start_time": "2023-06-03T15:21:29.489Z"
      },
      {
        "duration": 1271,
        "start_time": "2023-06-03T15:33:37.960Z"
      },
      {
        "duration": 762,
        "start_time": "2023-06-03T15:33:39.233Z"
      },
      {
        "duration": 22,
        "start_time": "2023-06-03T15:33:39.996Z"
      },
      {
        "duration": 134,
        "start_time": "2023-06-03T15:33:40.020Z"
      },
      {
        "duration": 430,
        "start_time": "2023-06-03T15:33:40.156Z"
      },
      {
        "duration": 433,
        "start_time": "2023-06-03T15:33:40.587Z"
      },
      {
        "duration": 100,
        "start_time": "2023-06-03T15:33:41.021Z"
      },
      {
        "duration": 104,
        "start_time": "2023-06-03T15:33:41.122Z"
      },
      {
        "duration": 27,
        "start_time": "2023-06-03T15:33:41.228Z"
      },
      {
        "duration": 22,
        "start_time": "2023-06-03T15:33:41.257Z"
      },
      {
        "duration": 20,
        "start_time": "2023-06-03T15:33:41.280Z"
      },
      {
        "duration": 26,
        "start_time": "2023-06-03T15:33:41.302Z"
      },
      {
        "duration": 19,
        "start_time": "2023-06-03T15:33:41.330Z"
      },
      {
        "duration": 168,
        "start_time": "2023-06-03T15:33:41.351Z"
      },
      {
        "duration": 105,
        "start_time": "2023-06-03T15:33:41.521Z"
      },
      {
        "duration": 178,
        "start_time": "2023-06-03T15:33:41.627Z"
      },
      {
        "duration": 197,
        "start_time": "2023-06-03T15:33:41.806Z"
      },
      {
        "duration": 220,
        "start_time": "2023-06-03T15:33:42.004Z"
      },
      {
        "duration": 24,
        "start_time": "2023-06-03T15:33:42.225Z"
      },
      {
        "duration": 68,
        "start_time": "2023-06-03T15:33:42.250Z"
      },
      {
        "duration": 7,
        "start_time": "2023-06-03T15:33:42.320Z"
      },
      {
        "duration": 50,
        "start_time": "2023-06-03T15:33:42.329Z"
      },
      {
        "duration": 53,
        "start_time": "2023-06-03T15:33:42.381Z"
      },
      {
        "duration": 6,
        "start_time": "2023-06-03T15:33:42.435Z"
      },
      {
        "duration": 134,
        "start_time": "2023-06-03T15:33:42.443Z"
      },
      {
        "duration": 12,
        "start_time": "2023-06-03T15:33:42.578Z"
      },
      {
        "duration": 36,
        "start_time": "2023-06-03T15:33:42.592Z"
      },
      {
        "duration": 38,
        "start_time": "2023-06-03T15:33:42.631Z"
      },
      {
        "duration": 97,
        "start_time": "2023-06-03T15:33:42.671Z"
      },
      {
        "duration": 67,
        "start_time": "2023-06-03T15:33:42.770Z"
      },
      {
        "duration": 2,
        "start_time": "2023-06-03T15:33:42.839Z"
      },
      {
        "duration": 62,
        "start_time": "2023-06-03T15:33:42.843Z"
      },
      {
        "duration": 63,
        "start_time": "2023-06-03T15:33:42.907Z"
      },
      {
        "duration": 14,
        "start_time": "2023-06-03T15:33:42.972Z"
      },
      {
        "duration": 33,
        "start_time": "2023-06-03T15:33:42.987Z"
      },
      {
        "duration": 82,
        "start_time": "2023-06-03T15:33:43.021Z"
      },
      {
        "duration": 4,
        "start_time": "2023-06-03T15:33:43.104Z"
      },
      {
        "duration": 38,
        "start_time": "2023-06-03T15:33:43.110Z"
      },
      {
        "duration": 19,
        "start_time": "2023-06-03T15:33:43.150Z"
      },
      {
        "duration": 17,
        "start_time": "2023-06-03T15:33:43.171Z"
      },
      {
        "duration": 22,
        "start_time": "2023-06-03T15:33:43.189Z"
      },
      {
        "duration": 30,
        "start_time": "2023-06-03T15:33:43.214Z"
      },
      {
        "duration": 69,
        "start_time": "2023-06-03T15:33:43.246Z"
      },
      {
        "duration": 3,
        "start_time": "2023-06-03T15:33:43.317Z"
      },
      {
        "duration": 17,
        "start_time": "2023-06-03T15:33:43.322Z"
      },
      {
        "duration": 26945,
        "start_time": "2023-06-03T15:33:43.341Z"
      },
      {
        "duration": 51,
        "start_time": "2023-06-03T15:34:10.288Z"
      },
      {
        "duration": 6481,
        "start_time": "2023-06-03T15:34:10.340Z"
      },
      {
        "duration": 43,
        "start_time": "2023-06-03T15:34:16.823Z"
      },
      {
        "duration": 6384,
        "start_time": "2023-06-03T15:34:16.868Z"
      },
      {
        "duration": 30,
        "start_time": "2023-06-03T15:34:23.253Z"
      },
      {
        "duration": 1252,
        "start_time": "2023-06-03T15:44:07.968Z"
      },
      {
        "duration": 736,
        "start_time": "2023-06-03T15:44:09.222Z"
      },
      {
        "duration": 16,
        "start_time": "2023-06-03T15:44:09.960Z"
      },
      {
        "duration": 111,
        "start_time": "2023-06-03T15:44:09.977Z"
      },
      {
        "duration": 385,
        "start_time": "2023-06-03T15:44:10.089Z"
      },
      {
        "duration": 404,
        "start_time": "2023-06-03T15:44:10.477Z"
      },
      {
        "duration": 101,
        "start_time": "2023-06-03T15:44:10.882Z"
      },
      {
        "duration": 112,
        "start_time": "2023-06-03T15:44:10.984Z"
      },
      {
        "duration": 21,
        "start_time": "2023-06-03T15:44:11.097Z"
      },
      {
        "duration": 28,
        "start_time": "2023-06-03T15:44:11.120Z"
      },
      {
        "duration": 22,
        "start_time": "2023-06-03T15:44:11.149Z"
      },
      {
        "duration": 25,
        "start_time": "2023-06-03T15:44:11.172Z"
      },
      {
        "duration": 25,
        "start_time": "2023-06-03T15:44:11.199Z"
      },
      {
        "duration": 158,
        "start_time": "2023-06-03T15:44:11.225Z"
      },
      {
        "duration": 109,
        "start_time": "2023-06-03T15:44:11.385Z"
      },
      {
        "duration": 181,
        "start_time": "2023-06-03T15:44:11.496Z"
      },
      {
        "duration": 187,
        "start_time": "2023-06-03T15:44:11.679Z"
      },
      {
        "duration": 220,
        "start_time": "2023-06-03T15:44:11.868Z"
      },
      {
        "duration": 30,
        "start_time": "2023-06-03T15:44:12.090Z"
      },
      {
        "duration": 48,
        "start_time": "2023-06-03T15:44:12.121Z"
      },
      {
        "duration": 7,
        "start_time": "2023-06-03T15:44:12.170Z"
      },
      {
        "duration": 43,
        "start_time": "2023-06-03T15:44:12.179Z"
      },
      {
        "duration": 49,
        "start_time": "2023-06-03T15:44:12.224Z"
      },
      {
        "duration": 7,
        "start_time": "2023-06-03T15:44:12.274Z"
      },
      {
        "duration": 132,
        "start_time": "2023-06-03T15:44:12.282Z"
      },
      {
        "duration": 13,
        "start_time": "2023-06-03T15:44:12.415Z"
      },
      {
        "duration": 30,
        "start_time": "2023-06-03T15:44:12.429Z"
      },
      {
        "duration": 67,
        "start_time": "2023-06-03T15:44:12.462Z"
      },
      {
        "duration": 97,
        "start_time": "2023-06-03T15:44:12.531Z"
      },
      {
        "duration": 62,
        "start_time": "2023-06-03T15:44:12.629Z"
      },
      {
        "duration": 3,
        "start_time": "2023-06-03T15:44:12.692Z"
      },
      {
        "duration": 48,
        "start_time": "2023-06-03T15:44:12.696Z"
      },
      {
        "duration": 69,
        "start_time": "2023-06-03T15:44:12.746Z"
      },
      {
        "duration": 20,
        "start_time": "2023-06-03T15:44:12.817Z"
      },
      {
        "duration": 6,
        "start_time": "2023-06-03T15:44:12.839Z"
      },
      {
        "duration": 54,
        "start_time": "2023-06-03T15:44:12.846Z"
      },
      {
        "duration": 17,
        "start_time": "2023-06-03T15:44:12.901Z"
      },
      {
        "duration": 25,
        "start_time": "2023-06-03T15:44:12.920Z"
      },
      {
        "duration": 4,
        "start_time": "2023-06-03T15:44:12.947Z"
      },
      {
        "duration": 12,
        "start_time": "2023-06-03T15:44:12.953Z"
      },
      {
        "duration": 40,
        "start_time": "2023-06-03T15:44:12.966Z"
      },
      {
        "duration": 8,
        "start_time": "2023-06-03T15:44:13.008Z"
      },
      {
        "duration": 50,
        "start_time": "2023-06-03T15:44:13.018Z"
      },
      {
        "duration": 2,
        "start_time": "2023-06-03T15:44:13.069Z"
      },
      {
        "duration": 16,
        "start_time": "2023-06-03T15:44:13.072Z"
      },
      {
        "duration": 28273,
        "start_time": "2023-06-03T15:44:13.090Z"
      },
      {
        "duration": 52,
        "start_time": "2023-06-03T15:44:41.364Z"
      },
      {
        "duration": 7014,
        "start_time": "2023-06-03T15:44:41.417Z"
      },
      {
        "duration": 33,
        "start_time": "2023-06-03T15:44:48.433Z"
      },
      {
        "duration": 7108,
        "start_time": "2023-06-03T15:44:48.467Z"
      },
      {
        "duration": 41,
        "start_time": "2023-06-03T15:44:55.577Z"
      },
      {
        "duration": 6601,
        "start_time": "2023-06-03T15:44:55.619Z"
      },
      {
        "duration": 4,
        "start_time": "2023-06-03T15:45:02.222Z"
      },
      {
        "duration": 0,
        "start_time": "2023-06-03T15:45:02.228Z"
      },
      {
        "duration": 0,
        "start_time": "2023-06-03T15:45:02.229Z"
      },
      {
        "duration": 0,
        "start_time": "2023-06-03T15:45:02.230Z"
      },
      {
        "duration": 0,
        "start_time": "2023-06-03T15:45:02.232Z"
      },
      {
        "duration": 0,
        "start_time": "2023-06-03T15:45:02.233Z"
      },
      {
        "duration": 0,
        "start_time": "2023-06-03T15:45:02.234Z"
      },
      {
        "duration": 0,
        "start_time": "2023-06-03T15:45:02.235Z"
      },
      {
        "duration": 1453,
        "start_time": "2023-06-03T15:47:57.888Z"
      },
      {
        "duration": 820,
        "start_time": "2023-06-03T15:47:59.343Z"
      },
      {
        "duration": 18,
        "start_time": "2023-06-03T15:48:00.164Z"
      },
      {
        "duration": 137,
        "start_time": "2023-06-03T15:48:00.186Z"
      },
      {
        "duration": 489,
        "start_time": "2023-06-03T15:48:00.325Z"
      },
      {
        "duration": 484,
        "start_time": "2023-06-03T15:48:00.816Z"
      },
      {
        "duration": 126,
        "start_time": "2023-06-03T15:48:01.301Z"
      },
      {
        "duration": 121,
        "start_time": "2023-06-03T15:48:01.428Z"
      },
      {
        "duration": 45,
        "start_time": "2023-06-03T15:48:01.551Z"
      },
      {
        "duration": 28,
        "start_time": "2023-06-03T15:48:01.600Z"
      },
      {
        "duration": 71,
        "start_time": "2023-06-03T15:48:01.630Z"
      },
      {
        "duration": 35,
        "start_time": "2023-06-03T15:48:01.703Z"
      },
      {
        "duration": 63,
        "start_time": "2023-06-03T15:48:01.740Z"
      },
      {
        "duration": 208,
        "start_time": "2023-06-03T15:48:01.804Z"
      },
      {
        "duration": 128,
        "start_time": "2023-06-03T15:48:02.014Z"
      },
      {
        "duration": 190,
        "start_time": "2023-06-03T15:48:02.144Z"
      },
      {
        "duration": 232,
        "start_time": "2023-06-03T15:48:02.336Z"
      },
      {
        "duration": 263,
        "start_time": "2023-06-03T15:48:02.570Z"
      },
      {
        "duration": 37,
        "start_time": "2023-06-03T15:48:02.835Z"
      },
      {
        "duration": 74,
        "start_time": "2023-06-03T15:48:02.874Z"
      },
      {
        "duration": 9,
        "start_time": "2023-06-03T15:48:02.951Z"
      },
      {
        "duration": 48,
        "start_time": "2023-06-03T15:48:02.961Z"
      },
      {
        "duration": 47,
        "start_time": "2023-06-03T15:48:03.010Z"
      },
      {
        "duration": 9,
        "start_time": "2023-06-03T15:48:03.059Z"
      },
      {
        "duration": 121,
        "start_time": "2023-06-03T15:48:03.070Z"
      },
      {
        "duration": 12,
        "start_time": "2023-06-03T15:48:03.193Z"
      },
      {
        "duration": 36,
        "start_time": "2023-06-03T15:48:03.216Z"
      },
      {
        "duration": 37,
        "start_time": "2023-06-03T15:48:03.256Z"
      },
      {
        "duration": 107,
        "start_time": "2023-06-03T15:48:03.295Z"
      },
      {
        "duration": 73,
        "start_time": "2023-06-03T15:48:03.403Z"
      },
      {
        "duration": 2,
        "start_time": "2023-06-03T15:48:03.478Z"
      },
      {
        "duration": 34,
        "start_time": "2023-06-03T15:48:03.482Z"
      },
      {
        "duration": 75,
        "start_time": "2023-06-03T15:48:03.517Z"
      },
      {
        "duration": 25,
        "start_time": "2023-06-03T15:48:03.594Z"
      },
      {
        "duration": 4,
        "start_time": "2023-06-03T15:48:03.621Z"
      },
      {
        "duration": 48,
        "start_time": "2023-06-03T15:48:03.627Z"
      },
      {
        "duration": 4,
        "start_time": "2023-06-03T15:48:03.676Z"
      },
      {
        "duration": 53,
        "start_time": "2023-06-03T15:48:03.682Z"
      },
      {
        "duration": 5,
        "start_time": "2023-06-03T15:48:03.737Z"
      },
      {
        "duration": 8,
        "start_time": "2023-06-03T15:48:03.744Z"
      },
      {
        "duration": 25,
        "start_time": "2023-06-03T15:48:03.754Z"
      },
      {
        "duration": 5,
        "start_time": "2023-06-03T15:48:03.780Z"
      },
      {
        "duration": 57,
        "start_time": "2023-06-03T15:48:03.787Z"
      },
      {
        "duration": 3,
        "start_time": "2023-06-03T15:48:03.846Z"
      },
      {
        "duration": 36,
        "start_time": "2023-06-03T15:48:03.855Z"
      },
      {
        "duration": 30370,
        "start_time": "2023-06-03T15:48:03.893Z"
      },
      {
        "duration": 53,
        "start_time": "2023-06-03T15:48:34.265Z"
      },
      {
        "duration": 8011,
        "start_time": "2023-06-03T15:48:34.320Z"
      },
      {
        "duration": 46,
        "start_time": "2023-06-03T15:48:42.333Z"
      },
      {
        "duration": 7445,
        "start_time": "2023-06-03T15:48:42.381Z"
      },
      {
        "duration": 39,
        "start_time": "2023-06-03T15:48:49.828Z"
      },
      {
        "duration": 6956,
        "start_time": "2023-06-03T15:48:49.869Z"
      },
      {
        "duration": 5,
        "start_time": "2023-06-03T15:48:56.827Z"
      },
      {
        "duration": 0,
        "start_time": "2023-06-03T15:48:56.834Z"
      },
      {
        "duration": 0,
        "start_time": "2023-06-03T15:48:56.836Z"
      },
      {
        "duration": 0,
        "start_time": "2023-06-03T15:48:56.838Z"
      },
      {
        "duration": 0,
        "start_time": "2023-06-03T15:48:56.839Z"
      },
      {
        "duration": 0,
        "start_time": "2023-06-03T15:48:56.841Z"
      },
      {
        "duration": 0,
        "start_time": "2023-06-03T15:48:56.916Z"
      },
      {
        "duration": 0,
        "start_time": "2023-06-03T15:48:56.917Z"
      },
      {
        "duration": 426415,
        "start_time": "2023-06-03T15:51:26.940Z"
      },
      {
        "duration": 107868,
        "start_time": "2023-06-03T15:59:22.509Z"
      },
      {
        "duration": 68,
        "start_time": "2023-06-03T16:01:51.793Z"
      },
      {
        "duration": 13,
        "start_time": "2023-06-03T16:09:22.627Z"
      },
      {
        "duration": 6967,
        "start_time": "2023-06-03T16:16:46.849Z"
      },
      {
        "duration": 1257,
        "start_time": "2023-06-03T16:23:12.046Z"
      },
      {
        "duration": 703,
        "start_time": "2023-06-03T16:23:13.305Z"
      },
      {
        "duration": 18,
        "start_time": "2023-06-03T16:23:14.009Z"
      },
      {
        "duration": 114,
        "start_time": "2023-06-03T16:23:14.028Z"
      },
      {
        "duration": 395,
        "start_time": "2023-06-03T16:23:14.144Z"
      },
      {
        "duration": 414,
        "start_time": "2023-06-03T16:23:14.540Z"
      },
      {
        "duration": 102,
        "start_time": "2023-06-03T16:23:14.955Z"
      },
      {
        "duration": 111,
        "start_time": "2023-06-03T16:23:15.058Z"
      },
      {
        "duration": 20,
        "start_time": "2023-06-03T16:23:15.170Z"
      },
      {
        "duration": 28,
        "start_time": "2023-06-03T16:23:15.191Z"
      },
      {
        "duration": 27,
        "start_time": "2023-06-03T16:23:15.221Z"
      },
      {
        "duration": 23,
        "start_time": "2023-06-03T16:23:15.249Z"
      },
      {
        "duration": 20,
        "start_time": "2023-06-03T16:23:15.274Z"
      },
      {
        "duration": 208,
        "start_time": "2023-06-03T16:23:15.298Z"
      },
      {
        "duration": 119,
        "start_time": "2023-06-03T16:23:15.508Z"
      },
      {
        "duration": 178,
        "start_time": "2023-06-03T16:23:15.628Z"
      },
      {
        "duration": 190,
        "start_time": "2023-06-03T16:23:15.815Z"
      },
      {
        "duration": 214,
        "start_time": "2023-06-03T16:23:16.006Z"
      },
      {
        "duration": 24,
        "start_time": "2023-06-03T16:23:16.221Z"
      },
      {
        "duration": 50,
        "start_time": "2023-06-03T16:23:16.246Z"
      },
      {
        "duration": 6,
        "start_time": "2023-06-03T16:23:16.315Z"
      },
      {
        "duration": 18,
        "start_time": "2023-06-03T16:23:16.322Z"
      },
      {
        "duration": 45,
        "start_time": "2023-06-03T16:23:16.341Z"
      },
      {
        "duration": 6,
        "start_time": "2023-06-03T16:23:16.387Z"
      },
      {
        "duration": 99,
        "start_time": "2023-06-03T16:23:16.416Z"
      },
      {
        "duration": 11,
        "start_time": "2023-06-03T16:23:16.517Z"
      },
      {
        "duration": 26,
        "start_time": "2023-06-03T16:23:16.530Z"
      },
      {
        "duration": 37,
        "start_time": "2023-06-03T16:23:16.557Z"
      },
      {
        "duration": 105,
        "start_time": "2023-06-03T16:23:16.595Z"
      },
      {
        "duration": 70,
        "start_time": "2023-06-03T16:23:16.702Z"
      },
      {
        "duration": 3,
        "start_time": "2023-06-03T16:23:16.773Z"
      },
      {
        "duration": 37,
        "start_time": "2023-06-03T16:23:16.779Z"
      },
      {
        "duration": 63,
        "start_time": "2023-06-03T16:23:16.817Z"
      },
      {
        "duration": 13,
        "start_time": "2023-06-03T16:23:16.882Z"
      },
      {
        "duration": 19,
        "start_time": "2023-06-03T16:23:16.897Z"
      },
      {
        "duration": 49,
        "start_time": "2023-06-03T16:23:16.918Z"
      },
      {
        "duration": 5,
        "start_time": "2023-06-03T16:23:16.968Z"
      },
      {
        "duration": 21,
        "start_time": "2023-06-03T16:23:16.974Z"
      },
      {
        "duration": 20,
        "start_time": "2023-06-03T16:23:16.997Z"
      },
      {
        "duration": 5,
        "start_time": "2023-06-03T16:23:17.018Z"
      },
      {
        "duration": 15,
        "start_time": "2023-06-03T16:23:17.027Z"
      },
      {
        "duration": 3,
        "start_time": "2023-06-03T16:23:17.043Z"
      },
      {
        "duration": 50,
        "start_time": "2023-06-03T16:23:17.047Z"
      },
      {
        "duration": 3,
        "start_time": "2023-06-03T16:23:17.098Z"
      },
      {
        "duration": 3,
        "start_time": "2023-06-03T16:23:17.115Z"
      },
      {
        "duration": 27604,
        "start_time": "2023-06-03T16:23:17.119Z"
      },
      {
        "duration": 44,
        "start_time": "2023-06-03T16:23:44.725Z"
      },
      {
        "duration": 6649,
        "start_time": "2023-06-03T16:23:44.771Z"
      },
      {
        "duration": 28,
        "start_time": "2023-06-03T16:23:51.422Z"
      },
      {
        "duration": 6515,
        "start_time": "2023-06-03T16:23:51.452Z"
      },
      {
        "duration": 31,
        "start_time": "2023-06-03T16:23:57.968Z"
      },
      {
        "duration": 6621,
        "start_time": "2023-06-03T16:23:58.001Z"
      },
      {
        "duration": 1275,
        "start_time": "2023-06-03T16:38:53.618Z"
      },
      {
        "duration": 742,
        "start_time": "2023-06-03T16:38:54.895Z"
      },
      {
        "duration": 17,
        "start_time": "2023-06-03T16:38:55.639Z"
      },
      {
        "duration": 130,
        "start_time": "2023-06-03T16:38:55.657Z"
      },
      {
        "duration": 426,
        "start_time": "2023-06-03T16:38:55.789Z"
      },
      {
        "duration": 447,
        "start_time": "2023-06-03T16:38:56.217Z"
      },
      {
        "duration": 97,
        "start_time": "2023-06-03T16:38:56.666Z"
      },
      {
        "duration": 122,
        "start_time": "2023-06-03T16:38:56.764Z"
      },
      {
        "duration": 17,
        "start_time": "2023-06-03T16:38:56.887Z"
      },
      {
        "duration": 26,
        "start_time": "2023-06-03T16:38:56.905Z"
      },
      {
        "duration": 17,
        "start_time": "2023-06-03T16:38:56.932Z"
      },
      {
        "duration": 16,
        "start_time": "2023-06-03T16:38:56.951Z"
      },
      {
        "duration": 22,
        "start_time": "2023-06-03T16:38:56.968Z"
      },
      {
        "duration": 157,
        "start_time": "2023-06-03T16:38:57.015Z"
      },
      {
        "duration": 104,
        "start_time": "2023-06-03T16:38:57.173Z"
      },
      {
        "duration": 184,
        "start_time": "2023-06-03T16:38:57.278Z"
      },
      {
        "duration": 188,
        "start_time": "2023-06-03T16:38:57.463Z"
      },
      {
        "duration": 205,
        "start_time": "2023-06-03T16:38:57.652Z"
      },
      {
        "duration": 25,
        "start_time": "2023-06-03T16:38:57.858Z"
      },
      {
        "duration": 63,
        "start_time": "2023-06-03T16:38:57.884Z"
      },
      {
        "duration": 8,
        "start_time": "2023-06-03T16:38:57.949Z"
      },
      {
        "duration": 20,
        "start_time": "2023-06-03T16:38:57.959Z"
      },
      {
        "duration": 65,
        "start_time": "2023-06-03T16:38:57.981Z"
      },
      {
        "duration": 8,
        "start_time": "2023-06-03T16:38:58.048Z"
      },
      {
        "duration": 125,
        "start_time": "2023-06-03T16:38:58.057Z"
      },
      {
        "duration": 14,
        "start_time": "2023-06-03T16:38:58.183Z"
      },
      {
        "duration": 42,
        "start_time": "2023-06-03T16:38:58.198Z"
      },
      {
        "duration": 43,
        "start_time": "2023-06-03T16:38:58.242Z"
      },
      {
        "duration": 104,
        "start_time": "2023-06-03T16:38:58.287Z"
      },
      {
        "duration": 72,
        "start_time": "2023-06-03T16:38:58.393Z"
      },
      {
        "duration": 3,
        "start_time": "2023-06-03T16:38:58.466Z"
      },
      {
        "duration": 24,
        "start_time": "2023-06-03T16:38:58.471Z"
      },
      {
        "duration": 69,
        "start_time": "2023-06-03T16:38:58.496Z"
      },
      {
        "duration": 13,
        "start_time": "2023-06-03T16:38:58.566Z"
      },
      {
        "duration": 6,
        "start_time": "2023-06-03T16:38:58.580Z"
      },
      {
        "duration": 55,
        "start_time": "2023-06-03T16:38:58.587Z"
      },
      {
        "duration": 4,
        "start_time": "2023-06-03T16:38:58.643Z"
      },
      {
        "duration": 20,
        "start_time": "2023-06-03T16:38:58.649Z"
      },
      {
        "duration": 3,
        "start_time": "2023-06-03T16:38:58.671Z"
      },
      {
        "duration": 5,
        "start_time": "2023-06-03T16:38:58.675Z"
      },
      {
        "duration": 34,
        "start_time": "2023-06-03T16:38:58.684Z"
      },
      {
        "duration": 3,
        "start_time": "2023-06-03T16:38:58.719Z"
      },
      {
        "duration": 43,
        "start_time": "2023-06-03T16:38:58.723Z"
      },
      {
        "duration": 2,
        "start_time": "2023-06-03T16:38:58.767Z"
      },
      {
        "duration": 26,
        "start_time": "2023-06-03T16:38:58.771Z"
      },
      {
        "duration": 28719,
        "start_time": "2023-06-03T16:38:58.798Z"
      },
      {
        "duration": 46,
        "start_time": "2023-06-03T16:39:27.518Z"
      },
      {
        "duration": 7037,
        "start_time": "2023-06-03T16:39:27.565Z"
      },
      {
        "duration": 36,
        "start_time": "2023-06-03T16:39:34.603Z"
      },
      {
        "duration": 6805,
        "start_time": "2023-06-03T16:39:34.641Z"
      },
      {
        "duration": 29,
        "start_time": "2023-06-03T16:39:41.448Z"
      },
      {
        "duration": 6938,
        "start_time": "2023-06-03T16:39:41.479Z"
      },
      {
        "duration": 4,
        "start_time": "2023-06-03T16:39:48.419Z"
      },
      {
        "duration": 0,
        "start_time": "2023-06-03T16:39:48.424Z"
      },
      {
        "duration": 0,
        "start_time": "2023-06-03T16:39:48.425Z"
      },
      {
        "duration": 0,
        "start_time": "2023-06-03T16:39:48.426Z"
      },
      {
        "duration": 0,
        "start_time": "2023-06-03T16:39:48.427Z"
      },
      {
        "duration": 0,
        "start_time": "2023-06-03T16:39:48.428Z"
      },
      {
        "duration": 0,
        "start_time": "2023-06-03T16:39:48.430Z"
      },
      {
        "duration": 0,
        "start_time": "2023-06-03T16:39:48.430Z"
      },
      {
        "duration": 0,
        "start_time": "2023-06-03T16:39:48.431Z"
      },
      {
        "duration": 0,
        "start_time": "2023-06-03T16:39:48.433Z"
      },
      {
        "duration": 6406,
        "start_time": "2023-06-03T17:15:48.411Z"
      },
      {
        "duration": 6844,
        "start_time": "2023-06-03T17:16:47.381Z"
      },
      {
        "duration": 6717,
        "start_time": "2023-06-03T17:17:44.106Z"
      },
      {
        "duration": 6785,
        "start_time": "2023-06-03T17:17:56.841Z"
      },
      {
        "duration": 930231,
        "start_time": "2023-06-03T17:18:20.253Z"
      },
      {
        "duration": 29312,
        "start_time": "2023-06-03T17:33:50.485Z"
      },
      {
        "duration": 0,
        "start_time": "2023-06-03T17:34:19.798Z"
      },
      {
        "duration": 29536,
        "start_time": "2023-06-03T17:34:55.688Z"
      },
      {
        "duration": 718843,
        "start_time": "2023-06-03T17:35:37.323Z"
      },
      {
        "duration": 103570,
        "start_time": "2023-06-03T17:48:05.142Z"
      },
      {
        "duration": 18300,
        "start_time": "2023-06-03T17:49:48.715Z"
      },
      {
        "duration": 4,
        "start_time": "2023-06-03T17:52:50.792Z"
      },
      {
        "duration": 8,
        "start_time": "2023-06-03T17:52:52.442Z"
      },
      {
        "duration": 121,
        "start_time": "2023-06-03T17:53:07.944Z"
      },
      {
        "duration": 4,
        "start_time": "2023-06-03T17:55:02.092Z"
      },
      {
        "duration": 7,
        "start_time": "2023-06-03T17:55:02.761Z"
      },
      {
        "duration": 109,
        "start_time": "2023-06-03T17:58:44.522Z"
      },
      {
        "duration": 184,
        "start_time": "2023-06-03T18:01:55.517Z"
      },
      {
        "duration": 151,
        "start_time": "2023-06-03T18:02:17.722Z"
      },
      {
        "duration": 126,
        "start_time": "2023-06-03T18:02:37.163Z"
      },
      {
        "duration": 148,
        "start_time": "2023-06-03T18:02:49.825Z"
      },
      {
        "duration": 148,
        "start_time": "2023-06-03T18:03:36.740Z"
      },
      {
        "duration": 5,
        "start_time": "2023-06-03T18:05:30.324Z"
      },
      {
        "duration": 6,
        "start_time": "2023-06-03T18:05:31.186Z"
      },
      {
        "duration": 4,
        "start_time": "2023-06-03T18:05:41.182Z"
      },
      {
        "duration": 8,
        "start_time": "2023-06-03T18:05:41.874Z"
      },
      {
        "duration": 346,
        "start_time": "2023-06-03T18:11:36.883Z"
      },
      {
        "duration": 456,
        "start_time": "2023-06-03T18:11:53.179Z"
      },
      {
        "duration": 142,
        "start_time": "2023-06-03T18:12:20.082Z"
      },
      {
        "duration": 29648,
        "start_time": "2023-06-03T18:17:17.898Z"
      },
      {
        "duration": 29866,
        "start_time": "2023-06-03T18:18:30.211Z"
      },
      {
        "duration": 30476,
        "start_time": "2023-06-03T18:20:05.039Z"
      },
      {
        "duration": 163,
        "start_time": "2023-06-03T19:02:08.013Z"
      },
      {
        "duration": 2312,
        "start_time": "2023-06-03T19:03:24.410Z"
      },
      {
        "duration": 1274,
        "start_time": "2023-06-03T19:04:18.544Z"
      },
      {
        "duration": 706,
        "start_time": "2023-06-03T19:04:19.820Z"
      },
      {
        "duration": 16,
        "start_time": "2023-06-03T19:04:20.527Z"
      },
      {
        "duration": 110,
        "start_time": "2023-06-03T19:04:20.545Z"
      },
      {
        "duration": 397,
        "start_time": "2023-06-03T19:04:20.657Z"
      },
      {
        "duration": 411,
        "start_time": "2023-06-03T19:04:21.056Z"
      },
      {
        "duration": 118,
        "start_time": "2023-06-03T19:04:21.469Z"
      },
      {
        "duration": 110,
        "start_time": "2023-06-03T19:04:21.588Z"
      },
      {
        "duration": 24,
        "start_time": "2023-06-03T19:04:21.699Z"
      },
      {
        "duration": 26,
        "start_time": "2023-06-03T19:04:21.724Z"
      },
      {
        "duration": 29,
        "start_time": "2023-06-03T19:04:21.752Z"
      },
      {
        "duration": 19,
        "start_time": "2023-06-03T19:04:21.783Z"
      },
      {
        "duration": 24,
        "start_time": "2023-06-03T19:04:21.804Z"
      },
      {
        "duration": 160,
        "start_time": "2023-06-03T19:04:21.831Z"
      },
      {
        "duration": 115,
        "start_time": "2023-06-03T19:04:21.993Z"
      },
      {
        "duration": 194,
        "start_time": "2023-06-03T19:04:22.109Z"
      },
      {
        "duration": 197,
        "start_time": "2023-06-03T19:04:22.305Z"
      },
      {
        "duration": 217,
        "start_time": "2023-06-03T19:04:22.504Z"
      },
      {
        "duration": 22,
        "start_time": "2023-06-03T19:04:22.723Z"
      },
      {
        "duration": 46,
        "start_time": "2023-06-03T19:04:22.747Z"
      },
      {
        "duration": 22,
        "start_time": "2023-06-03T19:04:22.794Z"
      },
      {
        "duration": 20,
        "start_time": "2023-06-03T19:04:22.817Z"
      },
      {
        "duration": 46,
        "start_time": "2023-06-03T19:04:22.838Z"
      },
      {
        "duration": 6,
        "start_time": "2023-06-03T19:04:22.886Z"
      },
      {
        "duration": 113,
        "start_time": "2023-06-03T19:04:22.893Z"
      },
      {
        "duration": 18,
        "start_time": "2023-06-03T19:04:23.008Z"
      },
      {
        "duration": 26,
        "start_time": "2023-06-03T19:04:23.027Z"
      },
      {
        "duration": 60,
        "start_time": "2023-06-03T19:04:23.055Z"
      },
      {
        "duration": 91,
        "start_time": "2023-06-03T19:04:23.117Z"
      },
      {
        "duration": 61,
        "start_time": "2023-06-03T19:04:23.215Z"
      },
      {
        "duration": 2,
        "start_time": "2023-06-03T19:04:23.277Z"
      },
      {
        "duration": 40,
        "start_time": "2023-06-03T19:04:23.280Z"
      },
      {
        "duration": 57,
        "start_time": "2023-06-03T19:04:23.322Z"
      },
      {
        "duration": 18,
        "start_time": "2023-06-03T19:04:23.380Z"
      },
      {
        "duration": 17,
        "start_time": "2023-06-03T19:04:23.399Z"
      },
      {
        "duration": 51,
        "start_time": "2023-06-03T19:04:23.417Z"
      },
      {
        "duration": 3,
        "start_time": "2023-06-03T19:04:23.470Z"
      },
      {
        "duration": 24,
        "start_time": "2023-06-03T19:04:23.475Z"
      },
      {
        "duration": 17,
        "start_time": "2023-06-03T19:04:23.500Z"
      },
      {
        "duration": 9,
        "start_time": "2023-06-03T19:04:23.518Z"
      },
      {
        "duration": 17,
        "start_time": "2023-06-03T19:04:23.530Z"
      },
      {
        "duration": 2,
        "start_time": "2023-06-03T19:04:23.549Z"
      },
      {
        "duration": 48,
        "start_time": "2023-06-03T19:04:23.552Z"
      },
      {
        "duration": 15,
        "start_time": "2023-06-03T19:04:23.601Z"
      },
      {
        "duration": 5,
        "start_time": "2023-06-03T19:04:23.617Z"
      },
      {
        "duration": 31543,
        "start_time": "2023-06-03T19:04:23.623Z"
      },
      {
        "duration": 56,
        "start_time": "2023-06-03T19:04:55.168Z"
      },
      {
        "duration": 7723,
        "start_time": "2023-06-03T19:04:55.225Z"
      },
      {
        "duration": 30,
        "start_time": "2023-06-03T19:05:02.950Z"
      },
      {
        "duration": 7018,
        "start_time": "2023-06-03T19:05:02.982Z"
      },
      {
        "duration": 38,
        "start_time": "2023-06-03T19:05:10.001Z"
      },
      {
        "duration": 254976,
        "start_time": "2023-06-03T19:05:10.041Z"
      },
      {
        "duration": 4,
        "start_time": "2023-06-03T19:09:25.018Z"
      },
      {
        "duration": 0,
        "start_time": "2023-06-03T19:09:25.024Z"
      },
      {
        "duration": 0,
        "start_time": "2023-06-03T19:09:25.025Z"
      },
      {
        "duration": 0,
        "start_time": "2023-06-03T19:09:25.026Z"
      },
      {
        "duration": 0,
        "start_time": "2023-06-03T19:09:25.027Z"
      },
      {
        "duration": 0,
        "start_time": "2023-06-03T19:09:25.028Z"
      },
      {
        "duration": 0,
        "start_time": "2023-06-03T19:09:25.029Z"
      },
      {
        "duration": 0,
        "start_time": "2023-06-03T19:09:25.030Z"
      },
      {
        "duration": 0,
        "start_time": "2023-06-03T19:09:25.030Z"
      },
      {
        "duration": 0,
        "start_time": "2023-06-03T19:09:25.031Z"
      },
      {
        "duration": 24057,
        "start_time": "2023-06-03T19:11:06.260Z"
      },
      {
        "duration": 936512,
        "start_time": "2023-06-03T19:12:11.718Z"
      },
      {
        "duration": 29290,
        "start_time": "2023-06-03T19:27:48.231Z"
      },
      {
        "duration": 696670,
        "start_time": "2023-06-03T19:28:17.523Z"
      },
      {
        "duration": 103357,
        "start_time": "2023-06-03T19:39:54.195Z"
      },
      {
        "duration": 12968,
        "start_time": "2023-06-03T19:41:37.554Z"
      },
      {
        "duration": 4,
        "start_time": "2023-06-03T19:46:26.397Z"
      },
      {
        "duration": 8,
        "start_time": "2023-06-03T19:46:28.046Z"
      },
      {
        "duration": 187,
        "start_time": "2023-06-03T19:46:49.306Z"
      },
      {
        "duration": 172,
        "start_time": "2023-06-03T19:47:33.971Z"
      },
      {
        "duration": 176,
        "start_time": "2023-06-03T19:48:03.239Z"
      },
      {
        "duration": 174,
        "start_time": "2023-06-03T19:53:04.233Z"
      },
      {
        "duration": 30070,
        "start_time": "2023-06-03T20:02:34.192Z"
      },
      {
        "duration": 6619,
        "start_time": "2023-06-03T23:52:02.847Z"
      },
      {
        "duration": 5332,
        "start_time": "2023-06-03T23:52:12.747Z"
      },
      {
        "duration": 26,
        "start_time": "2023-06-03T23:52:18.145Z"
      },
      {
        "duration": 1370,
        "start_time": "2023-06-03T23:52:18.175Z"
      },
      {
        "duration": 3302,
        "start_time": "2023-06-03T23:52:19.551Z"
      },
      {
        "duration": 3003,
        "start_time": "2023-06-03T23:52:22.860Z"
      },
      {
        "duration": 1600,
        "start_time": "2023-06-03T23:52:25.865Z"
      },
      {
        "duration": 1192,
        "start_time": "2023-06-03T23:52:27.468Z"
      },
      {
        "duration": 200,
        "start_time": "2023-06-03T23:52:28.664Z"
      },
      {
        "duration": 405,
        "start_time": "2023-06-03T23:52:28.947Z"
      },
      {
        "duration": 195,
        "start_time": "2023-06-03T23:52:29.358Z"
      },
      {
        "duration": 215,
        "start_time": "2023-06-03T23:52:29.555Z"
      },
      {
        "duration": 320,
        "start_time": "2023-06-03T23:52:29.850Z"
      },
      {
        "duration": 1610,
        "start_time": "2023-06-03T23:52:30.252Z"
      },
      {
        "duration": 1196,
        "start_time": "2023-06-03T23:52:31.864Z"
      },
      {
        "duration": 903,
        "start_time": "2023-06-03T23:52:33.063Z"
      },
      {
        "duration": 1409,
        "start_time": "2023-06-03T23:52:34.049Z"
      },
      {
        "duration": 1706,
        "start_time": "2023-06-03T23:52:35.460Z"
      },
      {
        "duration": 199,
        "start_time": "2023-06-03T23:52:37.248Z"
      },
      {
        "duration": 396,
        "start_time": "2023-06-03T23:52:37.449Z"
      },
      {
        "duration": 13,
        "start_time": "2023-06-03T23:52:37.850Z"
      },
      {
        "duration": 598,
        "start_time": "2023-06-03T23:52:37.865Z"
      },
      {
        "duration": 316,
        "start_time": "2023-06-03T23:52:38.545Z"
      },
      {
        "duration": 195,
        "start_time": "2023-06-03T23:52:38.864Z"
      },
      {
        "duration": 1586,
        "start_time": "2023-06-03T23:52:39.064Z"
      },
      {
        "duration": 117,
        "start_time": "2023-06-03T23:52:40.652Z"
      },
      {
        "duration": 295,
        "start_time": "2023-06-03T23:52:40.770Z"
      },
      {
        "duration": 294,
        "start_time": "2023-06-03T23:52:41.067Z"
      },
      {
        "duration": 1105,
        "start_time": "2023-06-03T23:52:41.364Z"
      },
      {
        "duration": 84,
        "start_time": "2023-06-03T23:52:42.472Z"
      },
      {
        "duration": 206,
        "start_time": "2023-06-03T23:52:42.559Z"
      },
      {
        "duration": 601,
        "start_time": "2023-06-03T23:52:42.767Z"
      },
      {
        "duration": 1114,
        "start_time": "2023-06-03T23:52:58.848Z"
      },
      {
        "duration": 111,
        "start_time": "2023-06-03T23:54:17.346Z"
      },
      {
        "duration": 94,
        "start_time": "2023-06-03T23:54:17.463Z"
      },
      {
        "duration": 506,
        "start_time": "2023-06-03T23:54:17.651Z"
      },
      {
        "duration": 5,
        "start_time": "2023-06-03T23:54:18.164Z"
      },
      {
        "duration": 202,
        "start_time": "2023-06-03T23:54:18.447Z"
      },
      {
        "duration": 49,
        "start_time": "2023-06-04T15:45:27.605Z"
      },
      {
        "duration": 1618,
        "start_time": "2023-06-04T16:00:54.508Z"
      },
      {
        "duration": 1412,
        "start_time": "2023-06-04T16:00:56.130Z"
      },
      {
        "duration": 17,
        "start_time": "2023-06-04T16:00:57.543Z"
      },
      {
        "duration": 137,
        "start_time": "2023-06-04T16:00:57.561Z"
      },
      {
        "duration": 440,
        "start_time": "2023-06-04T16:00:57.703Z"
      },
      {
        "duration": 459,
        "start_time": "2023-06-04T16:00:58.145Z"
      },
      {
        "duration": 122,
        "start_time": "2023-06-04T16:00:58.619Z"
      },
      {
        "duration": 118,
        "start_time": "2023-06-04T16:00:58.743Z"
      },
      {
        "duration": 30,
        "start_time": "2023-06-04T16:00:58.863Z"
      },
      {
        "duration": 51,
        "start_time": "2023-06-04T16:00:58.895Z"
      },
      {
        "duration": 28,
        "start_time": "2023-06-04T16:00:58.947Z"
      },
      {
        "duration": 62,
        "start_time": "2023-06-04T16:00:58.976Z"
      },
      {
        "duration": 23,
        "start_time": "2023-06-04T16:00:59.039Z"
      },
      {
        "duration": 194,
        "start_time": "2023-06-04T16:00:59.063Z"
      },
      {
        "duration": 114,
        "start_time": "2023-06-04T16:00:59.259Z"
      },
      {
        "duration": 153,
        "start_time": "2023-06-04T16:00:59.374Z"
      },
      {
        "duration": 204,
        "start_time": "2023-06-04T16:00:59.529Z"
      },
      {
        "duration": 236,
        "start_time": "2023-06-04T16:00:59.735Z"
      },
      {
        "duration": 39,
        "start_time": "2023-06-04T16:00:59.973Z"
      },
      {
        "duration": 49,
        "start_time": "2023-06-04T16:01:00.012Z"
      },
      {
        "duration": 11,
        "start_time": "2023-06-04T16:01:00.062Z"
      },
      {
        "duration": 82,
        "start_time": "2023-06-04T16:01:00.074Z"
      },
      {
        "duration": 67,
        "start_time": "2023-06-04T16:01:00.158Z"
      },
      {
        "duration": 16,
        "start_time": "2023-06-04T16:01:00.227Z"
      },
      {
        "duration": 170,
        "start_time": "2023-06-04T16:01:00.244Z"
      },
      {
        "duration": 18,
        "start_time": "2023-06-04T16:01:00.415Z"
      },
      {
        "duration": 49,
        "start_time": "2023-06-04T16:01:00.434Z"
      },
      {
        "duration": 81,
        "start_time": "2023-06-04T16:01:00.497Z"
      },
      {
        "duration": 148,
        "start_time": "2023-06-04T16:01:00.579Z"
      },
      {
        "duration": 2,
        "start_time": "2023-06-04T16:01:00.729Z"
      },
      {
        "duration": 65,
        "start_time": "2023-06-04T16:01:00.733Z"
      },
      {
        "duration": 140,
        "start_time": "2023-06-04T16:01:00.800Z"
      },
      {
        "duration": 182,
        "start_time": "2023-06-04T16:01:00.941Z"
      },
      {
        "duration": 154,
        "start_time": "2023-06-04T16:01:01.127Z"
      },
      {
        "duration": 19,
        "start_time": "2023-06-04T16:01:01.282Z"
      },
      {
        "duration": 0,
        "start_time": "2023-06-04T16:01:01.303Z"
      },
      {
        "duration": 0,
        "start_time": "2023-06-04T16:01:01.304Z"
      },
      {
        "duration": 0,
        "start_time": "2023-06-04T16:01:01.304Z"
      },
      {
        "duration": 0,
        "start_time": "2023-06-04T16:01:01.305Z"
      },
      {
        "duration": 0,
        "start_time": "2023-06-04T16:01:01.306Z"
      },
      {
        "duration": 0,
        "start_time": "2023-06-04T16:01:01.307Z"
      },
      {
        "duration": 0,
        "start_time": "2023-06-04T16:01:01.307Z"
      },
      {
        "duration": 0,
        "start_time": "2023-06-04T16:01:01.308Z"
      },
      {
        "duration": 0,
        "start_time": "2023-06-04T16:01:01.309Z"
      },
      {
        "duration": 0,
        "start_time": "2023-06-04T16:01:01.309Z"
      },
      {
        "duration": 0,
        "start_time": "2023-06-04T16:01:01.310Z"
      },
      {
        "duration": 0,
        "start_time": "2023-06-04T16:01:01.311Z"
      },
      {
        "duration": 0,
        "start_time": "2023-06-04T16:01:01.312Z"
      },
      {
        "duration": 0,
        "start_time": "2023-06-04T16:01:01.313Z"
      },
      {
        "duration": 0,
        "start_time": "2023-06-04T16:01:01.314Z"
      },
      {
        "duration": 0,
        "start_time": "2023-06-04T16:01:01.315Z"
      },
      {
        "duration": 0,
        "start_time": "2023-06-04T16:01:01.316Z"
      },
      {
        "duration": 0,
        "start_time": "2023-06-04T16:01:01.316Z"
      },
      {
        "duration": 0,
        "start_time": "2023-06-04T16:01:01.317Z"
      },
      {
        "duration": 0,
        "start_time": "2023-06-04T16:01:01.318Z"
      },
      {
        "duration": 0,
        "start_time": "2023-06-04T16:01:01.319Z"
      },
      {
        "duration": 0,
        "start_time": "2023-06-04T16:01:01.320Z"
      },
      {
        "duration": 0,
        "start_time": "2023-06-04T16:01:01.321Z"
      },
      {
        "duration": 0,
        "start_time": "2023-06-04T16:01:01.322Z"
      },
      {
        "duration": 0,
        "start_time": "2023-06-04T16:01:01.323Z"
      },
      {
        "duration": 0,
        "start_time": "2023-06-04T16:01:01.324Z"
      },
      {
        "duration": 0,
        "start_time": "2023-06-04T16:01:01.324Z"
      },
      {
        "duration": 0,
        "start_time": "2023-06-04T16:01:01.325Z"
      },
      {
        "duration": 80,
        "start_time": "2023-06-04T16:01:32.457Z"
      },
      {
        "duration": 1386,
        "start_time": "2023-06-04T16:02:37.820Z"
      },
      {
        "duration": 806,
        "start_time": "2023-06-04T16:02:39.208Z"
      },
      {
        "duration": 20,
        "start_time": "2023-06-04T16:02:40.015Z"
      },
      {
        "duration": 135,
        "start_time": "2023-06-04T16:02:40.037Z"
      },
      {
        "duration": 432,
        "start_time": "2023-06-04T16:02:40.174Z"
      },
      {
        "duration": 446,
        "start_time": "2023-06-04T16:02:40.610Z"
      },
      {
        "duration": 115,
        "start_time": "2023-06-04T16:02:41.057Z"
      },
      {
        "duration": 137,
        "start_time": "2023-06-04T16:02:41.173Z"
      },
      {
        "duration": 25,
        "start_time": "2023-06-04T16:02:41.311Z"
      },
      {
        "duration": 17,
        "start_time": "2023-06-04T16:02:41.338Z"
      },
      {
        "duration": 20,
        "start_time": "2023-06-04T16:02:41.356Z"
      },
      {
        "duration": 45,
        "start_time": "2023-06-04T16:02:41.377Z"
      },
      {
        "duration": 22,
        "start_time": "2023-06-04T16:02:41.423Z"
      },
      {
        "duration": 192,
        "start_time": "2023-06-04T16:02:41.448Z"
      },
      {
        "duration": 120,
        "start_time": "2023-06-04T16:02:41.642Z"
      },
      {
        "duration": 183,
        "start_time": "2023-06-04T16:02:41.764Z"
      },
      {
        "duration": 194,
        "start_time": "2023-06-04T16:02:41.948Z"
      },
      {
        "duration": 226,
        "start_time": "2023-06-04T16:02:42.144Z"
      },
      {
        "duration": 42,
        "start_time": "2023-06-04T16:02:42.372Z"
      },
      {
        "duration": 58,
        "start_time": "2023-06-04T16:02:42.415Z"
      },
      {
        "duration": 6,
        "start_time": "2023-06-04T16:02:42.475Z"
      },
      {
        "duration": 56,
        "start_time": "2023-06-04T16:02:42.482Z"
      },
      {
        "duration": 50,
        "start_time": "2023-06-04T16:02:42.539Z"
      },
      {
        "duration": 16,
        "start_time": "2023-06-04T16:02:42.590Z"
      },
      {
        "duration": 148,
        "start_time": "2023-06-04T16:02:42.607Z"
      },
      {
        "duration": 12,
        "start_time": "2023-06-04T16:02:42.756Z"
      },
      {
        "duration": 40,
        "start_time": "2023-06-04T16:02:42.770Z"
      },
      {
        "duration": 38,
        "start_time": "2023-06-04T16:02:42.811Z"
      },
      {
        "duration": 110,
        "start_time": "2023-06-04T16:02:42.851Z"
      },
      {
        "duration": 2,
        "start_time": "2023-06-04T16:02:42.962Z"
      },
      {
        "duration": 53,
        "start_time": "2023-06-04T16:02:42.965Z"
      },
      {
        "duration": 59,
        "start_time": "2023-06-04T16:02:43.023Z"
      },
      {
        "duration": 166,
        "start_time": "2023-06-04T16:02:43.083Z"
      },
      {
        "duration": 177,
        "start_time": "2023-06-04T16:02:43.250Z"
      },
      {
        "duration": 70,
        "start_time": "2023-06-04T16:02:43.429Z"
      },
      {
        "duration": 30,
        "start_time": "2023-06-04T16:02:43.506Z"
      },
      {
        "duration": 4,
        "start_time": "2023-06-04T16:02:43.537Z"
      },
      {
        "duration": 66,
        "start_time": "2023-06-04T16:02:43.543Z"
      },
      {
        "duration": 4,
        "start_time": "2023-06-04T16:02:43.611Z"
      },
      {
        "duration": 45,
        "start_time": "2023-06-04T16:02:43.616Z"
      },
      {
        "duration": 4,
        "start_time": "2023-06-04T16:02:43.665Z"
      },
      {
        "duration": 4,
        "start_time": "2023-06-04T16:02:43.671Z"
      },
      {
        "duration": 50,
        "start_time": "2023-06-04T16:02:43.676Z"
      },
      {
        "duration": 4,
        "start_time": "2023-06-04T16:02:43.728Z"
      },
      {
        "duration": 49,
        "start_time": "2023-06-04T16:02:43.733Z"
      },
      {
        "duration": 9,
        "start_time": "2023-06-04T16:02:43.783Z"
      },
      {
        "duration": 41,
        "start_time": "2023-06-04T16:02:43.794Z"
      },
      {
        "duration": 29830,
        "start_time": "2023-06-04T16:02:43.837Z"
      },
      {
        "duration": 63,
        "start_time": "2023-06-04T16:03:13.669Z"
      },
      {
        "duration": 197,
        "start_time": "2023-06-04T16:03:13.733Z"
      },
      {
        "duration": 0,
        "start_time": "2023-06-04T16:03:13.932Z"
      },
      {
        "duration": 0,
        "start_time": "2023-06-04T16:03:13.933Z"
      },
      {
        "duration": 0,
        "start_time": "2023-06-04T16:03:13.934Z"
      },
      {
        "duration": 0,
        "start_time": "2023-06-04T16:03:13.935Z"
      },
      {
        "duration": 0,
        "start_time": "2023-06-04T16:03:13.936Z"
      },
      {
        "duration": 0,
        "start_time": "2023-06-04T16:03:13.937Z"
      },
      {
        "duration": 0,
        "start_time": "2023-06-04T16:03:13.937Z"
      },
      {
        "duration": 0,
        "start_time": "2023-06-04T16:03:13.939Z"
      },
      {
        "duration": 0,
        "start_time": "2023-06-04T16:03:13.939Z"
      },
      {
        "duration": 0,
        "start_time": "2023-06-04T16:03:13.940Z"
      },
      {
        "duration": 0,
        "start_time": "2023-06-04T16:03:13.941Z"
      },
      {
        "duration": 0,
        "start_time": "2023-06-04T16:03:13.942Z"
      },
      {
        "duration": 0,
        "start_time": "2023-06-04T16:03:13.943Z"
      },
      {
        "duration": 0,
        "start_time": "2023-06-04T16:03:13.944Z"
      },
      {
        "duration": 69,
        "start_time": "2023-06-04T16:05:48.529Z"
      },
      {
        "duration": 3,
        "start_time": "2023-06-04T16:12:25.622Z"
      },
      {
        "duration": 16,
        "start_time": "2023-06-04T16:12:26.464Z"
      },
      {
        "duration": 1433,
        "start_time": "2023-06-04T16:12:43.070Z"
      },
      {
        "duration": 816,
        "start_time": "2023-06-04T16:12:44.507Z"
      },
      {
        "duration": 17,
        "start_time": "2023-06-04T16:12:45.325Z"
      },
      {
        "duration": 158,
        "start_time": "2023-06-04T16:12:45.344Z"
      },
      {
        "duration": 525,
        "start_time": "2023-06-04T16:12:45.509Z"
      },
      {
        "duration": 582,
        "start_time": "2023-06-04T16:12:46.036Z"
      },
      {
        "duration": 137,
        "start_time": "2023-06-04T16:12:46.630Z"
      },
      {
        "duration": 146,
        "start_time": "2023-06-04T16:12:46.768Z"
      },
      {
        "duration": 50,
        "start_time": "2023-06-04T16:12:46.918Z"
      },
      {
        "duration": 33,
        "start_time": "2023-06-04T16:12:46.969Z"
      },
      {
        "duration": 57,
        "start_time": "2023-06-04T16:12:47.004Z"
      },
      {
        "duration": 51,
        "start_time": "2023-06-04T16:12:47.063Z"
      },
      {
        "duration": 39,
        "start_time": "2023-06-04T16:12:47.123Z"
      },
      {
        "duration": 302,
        "start_time": "2023-06-04T16:12:47.166Z"
      },
      {
        "duration": 162,
        "start_time": "2023-06-04T16:12:47.469Z"
      },
      {
        "duration": 215,
        "start_time": "2023-06-04T16:12:47.632Z"
      },
      {
        "duration": 266,
        "start_time": "2023-06-04T16:12:47.849Z"
      },
      {
        "duration": 247,
        "start_time": "2023-06-04T16:12:48.124Z"
      },
      {
        "duration": 54,
        "start_time": "2023-06-04T16:12:48.372Z"
      },
      {
        "duration": 63,
        "start_time": "2023-06-04T16:12:48.427Z"
      },
      {
        "duration": 10,
        "start_time": "2023-06-04T16:12:48.492Z"
      },
      {
        "duration": 48,
        "start_time": "2023-06-04T16:12:48.503Z"
      },
      {
        "duration": 55,
        "start_time": "2023-06-04T16:12:48.553Z"
      },
      {
        "duration": 10,
        "start_time": "2023-06-04T16:12:48.615Z"
      },
      {
        "duration": 137,
        "start_time": "2023-06-04T16:12:48.626Z"
      },
      {
        "duration": 14,
        "start_time": "2023-06-04T16:12:48.765Z"
      },
      {
        "duration": 34,
        "start_time": "2023-06-04T16:12:48.780Z"
      },
      {
        "duration": 52,
        "start_time": "2023-06-04T16:12:48.815Z"
      },
      {
        "duration": 149,
        "start_time": "2023-06-04T16:12:48.869Z"
      },
      {
        "duration": 14,
        "start_time": "2023-06-04T16:12:49.019Z"
      },
      {
        "duration": 32,
        "start_time": "2023-06-04T16:12:49.034Z"
      },
      {
        "duration": 91,
        "start_time": "2023-06-04T16:12:49.067Z"
      },
      {
        "duration": 178,
        "start_time": "2023-06-04T16:12:49.160Z"
      },
      {
        "duration": 204,
        "start_time": "2023-06-04T16:12:49.340Z"
      },
      {
        "duration": 85,
        "start_time": "2023-06-04T16:12:49.546Z"
      },
      {
        "duration": 25,
        "start_time": "2023-06-04T16:12:49.632Z"
      },
      {
        "duration": 9,
        "start_time": "2023-06-04T16:12:49.658Z"
      },
      {
        "duration": 72,
        "start_time": "2023-06-04T16:12:49.668Z"
      },
      {
        "duration": 5,
        "start_time": "2023-06-04T16:12:49.742Z"
      },
      {
        "duration": 24,
        "start_time": "2023-06-04T16:12:49.749Z"
      },
      {
        "duration": 4,
        "start_time": "2023-06-04T16:12:49.777Z"
      },
      {
        "duration": 41,
        "start_time": "2023-06-04T16:12:49.784Z"
      },
      {
        "duration": 19,
        "start_time": "2023-06-04T16:12:49.826Z"
      },
      {
        "duration": 2,
        "start_time": "2023-06-04T16:12:49.847Z"
      },
      {
        "duration": 142,
        "start_time": "2023-06-04T16:12:49.851Z"
      },
      {
        "duration": 1,
        "start_time": "2023-06-04T16:12:49.994Z"
      },
      {
        "duration": 0,
        "start_time": "2023-06-04T16:12:49.996Z"
      },
      {
        "duration": 0,
        "start_time": "2023-06-04T16:12:49.997Z"
      },
      {
        "duration": 0,
        "start_time": "2023-06-04T16:12:49.998Z"
      },
      {
        "duration": 0,
        "start_time": "2023-06-04T16:12:49.999Z"
      },
      {
        "duration": 0,
        "start_time": "2023-06-04T16:12:50.000Z"
      },
      {
        "duration": 1,
        "start_time": "2023-06-04T16:12:50.001Z"
      },
      {
        "duration": 0,
        "start_time": "2023-06-04T16:12:50.002Z"
      },
      {
        "duration": 0,
        "start_time": "2023-06-04T16:12:50.003Z"
      },
      {
        "duration": 0,
        "start_time": "2023-06-04T16:12:50.003Z"
      },
      {
        "duration": 0,
        "start_time": "2023-06-04T16:12:50.004Z"
      },
      {
        "duration": 0,
        "start_time": "2023-06-04T16:12:50.005Z"
      },
      {
        "duration": 0,
        "start_time": "2023-06-04T16:12:50.005Z"
      },
      {
        "duration": 0,
        "start_time": "2023-06-04T16:12:50.006Z"
      },
      {
        "duration": 0,
        "start_time": "2023-06-04T16:12:50.007Z"
      },
      {
        "duration": 0,
        "start_time": "2023-06-04T16:12:50.009Z"
      },
      {
        "duration": 0,
        "start_time": "2023-06-04T16:12:50.010Z"
      },
      {
        "duration": 0,
        "start_time": "2023-06-04T16:12:50.020Z"
      },
      {
        "duration": 0,
        "start_time": "2023-06-04T16:12:50.021Z"
      },
      {
        "duration": 2,
        "start_time": "2023-06-04T16:16:46.842Z"
      },
      {
        "duration": 25,
        "start_time": "2023-06-04T16:16:49.305Z"
      },
      {
        "duration": 9,
        "start_time": "2023-06-04T16:18:21.785Z"
      },
      {
        "duration": 29,
        "start_time": "2023-06-04T16:18:24.111Z"
      },
      {
        "duration": 9,
        "start_time": "2023-06-04T16:20:35.114Z"
      },
      {
        "duration": 76,
        "start_time": "2023-06-04T16:20:36.054Z"
      },
      {
        "duration": 7,
        "start_time": "2023-06-04T16:20:38.316Z"
      },
      {
        "duration": 3,
        "start_time": "2023-06-04T16:20:39.144Z"
      },
      {
        "duration": 37511,
        "start_time": "2023-06-04T16:20:40.063Z"
      },
      {
        "duration": 60,
        "start_time": "2023-06-04T16:21:24.011Z"
      },
      {
        "duration": 9517,
        "start_time": "2023-06-04T16:22:29.230Z"
      },
      {
        "duration": 36,
        "start_time": "2023-06-04T16:22:41.514Z"
      },
      {
        "duration": 9484,
        "start_time": "2023-06-04T16:22:52.928Z"
      },
      {
        "duration": 39,
        "start_time": "2023-06-04T16:23:02.414Z"
      },
      {
        "duration": 1415,
        "start_time": "2023-06-04T16:23:17.016Z"
      },
      {
        "duration": 906,
        "start_time": "2023-06-04T16:23:18.433Z"
      },
      {
        "duration": 16,
        "start_time": "2023-06-04T16:23:19.341Z"
      },
      {
        "duration": 164,
        "start_time": "2023-06-04T16:23:19.358Z"
      },
      {
        "duration": 526,
        "start_time": "2023-06-04T16:23:19.524Z"
      },
      {
        "duration": 563,
        "start_time": "2023-06-04T16:23:20.052Z"
      },
      {
        "duration": 151,
        "start_time": "2023-06-04T16:23:20.617Z"
      },
      {
        "duration": 171,
        "start_time": "2023-06-04T16:23:20.769Z"
      },
      {
        "duration": 20,
        "start_time": "2023-06-04T16:23:20.942Z"
      },
      {
        "duration": 87,
        "start_time": "2023-06-04T16:23:20.964Z"
      },
      {
        "duration": 108,
        "start_time": "2023-06-04T16:23:21.053Z"
      },
      {
        "duration": 88,
        "start_time": "2023-06-04T16:23:21.162Z"
      },
      {
        "duration": 29,
        "start_time": "2023-06-04T16:23:21.252Z"
      },
      {
        "duration": 264,
        "start_time": "2023-06-04T16:23:21.285Z"
      },
      {
        "duration": 152,
        "start_time": "2023-06-04T16:23:21.551Z"
      },
      {
        "duration": 214,
        "start_time": "2023-06-04T16:23:21.710Z"
      },
      {
        "duration": 212,
        "start_time": "2023-06-04T16:23:21.931Z"
      },
      {
        "duration": 275,
        "start_time": "2023-06-04T16:23:22.146Z"
      },
      {
        "duration": 37,
        "start_time": "2023-06-04T16:23:22.431Z"
      },
      {
        "duration": 78,
        "start_time": "2023-06-04T16:23:22.469Z"
      },
      {
        "duration": 6,
        "start_time": "2023-06-04T16:23:22.549Z"
      },
      {
        "duration": 69,
        "start_time": "2023-06-04T16:23:22.557Z"
      },
      {
        "duration": 91,
        "start_time": "2023-06-04T16:23:22.635Z"
      },
      {
        "duration": 10,
        "start_time": "2023-06-04T16:23:22.728Z"
      },
      {
        "duration": 159,
        "start_time": "2023-06-04T16:23:22.739Z"
      },
      {
        "duration": 47,
        "start_time": "2023-06-04T16:23:22.899Z"
      },
      {
        "duration": 30,
        "start_time": "2023-06-04T16:23:22.948Z"
      },
      {
        "duration": 55,
        "start_time": "2023-06-04T16:23:22.979Z"
      },
      {
        "duration": 116,
        "start_time": "2023-06-04T16:23:23.036Z"
      },
      {
        "duration": 5,
        "start_time": "2023-06-04T16:23:23.154Z"
      },
      {
        "duration": 34,
        "start_time": "2023-06-04T16:23:23.160Z"
      },
      {
        "duration": 99,
        "start_time": "2023-06-04T16:23:23.195Z"
      },
      {
        "duration": 171,
        "start_time": "2023-06-04T16:23:23.296Z"
      },
      {
        "duration": 193,
        "start_time": "2023-06-04T16:23:23.469Z"
      },
      {
        "duration": 85,
        "start_time": "2023-06-04T16:23:23.664Z"
      },
      {
        "duration": 19,
        "start_time": "2023-06-04T16:23:23.750Z"
      },
      {
        "duration": 65,
        "start_time": "2023-06-04T16:23:23.771Z"
      },
      {
        "duration": 85,
        "start_time": "2023-06-04T16:23:23.837Z"
      },
      {
        "duration": 7,
        "start_time": "2023-06-04T16:23:23.923Z"
      },
      {
        "duration": 29,
        "start_time": "2023-06-04T16:23:23.932Z"
      },
      {
        "duration": 4,
        "start_time": "2023-06-04T16:23:23.964Z"
      },
      {
        "duration": 4,
        "start_time": "2023-06-04T16:23:23.970Z"
      },
      {
        "duration": 75,
        "start_time": "2023-06-04T16:23:23.976Z"
      },
      {
        "duration": 6,
        "start_time": "2023-06-04T16:23:24.053Z"
      },
      {
        "duration": 74,
        "start_time": "2023-06-04T16:23:24.060Z"
      },
      {
        "duration": 3,
        "start_time": "2023-06-04T16:23:24.136Z"
      },
      {
        "duration": 4,
        "start_time": "2023-06-04T16:23:24.141Z"
      },
      {
        "duration": 36077,
        "start_time": "2023-06-04T16:23:24.147Z"
      },
      {
        "duration": 63,
        "start_time": "2023-06-04T16:24:00.226Z"
      },
      {
        "duration": 8253,
        "start_time": "2023-06-04T16:24:00.290Z"
      },
      {
        "duration": 31,
        "start_time": "2023-06-04T16:24:08.545Z"
      },
      {
        "duration": 7768,
        "start_time": "2023-06-04T16:24:08.577Z"
      },
      {
        "duration": 57,
        "start_time": "2023-06-04T16:24:16.346Z"
      },
      {
        "duration": 1391,
        "start_time": "2023-06-04T17:12:56.315Z"
      },
      {
        "duration": 839,
        "start_time": "2023-06-04T17:12:57.715Z"
      },
      {
        "duration": 16,
        "start_time": "2023-06-04T17:12:58.556Z"
      },
      {
        "duration": 156,
        "start_time": "2023-06-04T17:12:58.573Z"
      },
      {
        "duration": 419,
        "start_time": "2023-06-04T17:12:58.731Z"
      },
      {
        "duration": 449,
        "start_time": "2023-06-04T17:12:59.152Z"
      },
      {
        "duration": 128,
        "start_time": "2023-06-04T17:12:59.604Z"
      },
      {
        "duration": 123,
        "start_time": "2023-06-04T17:12:59.734Z"
      },
      {
        "duration": 17,
        "start_time": "2023-06-04T17:12:59.858Z"
      },
      {
        "duration": 60,
        "start_time": "2023-06-04T17:12:59.877Z"
      },
      {
        "duration": 27,
        "start_time": "2023-06-04T17:12:59.939Z"
      },
      {
        "duration": 43,
        "start_time": "2023-06-04T17:12:59.967Z"
      },
      {
        "duration": 62,
        "start_time": "2023-06-04T17:13:00.011Z"
      },
      {
        "duration": 242,
        "start_time": "2023-06-04T17:13:00.076Z"
      },
      {
        "duration": 135,
        "start_time": "2023-06-04T17:13:00.323Z"
      },
      {
        "duration": 184,
        "start_time": "2023-06-04T17:13:00.459Z"
      },
      {
        "duration": 201,
        "start_time": "2023-06-04T17:13:00.645Z"
      },
      {
        "duration": 228,
        "start_time": "2023-06-04T17:13:00.847Z"
      },
      {
        "duration": 56,
        "start_time": "2023-06-04T17:13:01.077Z"
      },
      {
        "duration": 148,
        "start_time": "2023-06-04T17:13:01.135Z"
      },
      {
        "duration": 21,
        "start_time": "2023-06-04T17:13:01.284Z"
      },
      {
        "duration": 53,
        "start_time": "2023-06-04T17:13:01.307Z"
      },
      {
        "duration": 72,
        "start_time": "2023-06-04T17:13:01.361Z"
      },
      {
        "duration": 18,
        "start_time": "2023-06-04T17:13:01.434Z"
      },
      {
        "duration": 160,
        "start_time": "2023-06-04T17:13:01.454Z"
      },
      {
        "duration": 13,
        "start_time": "2023-06-04T17:13:01.621Z"
      },
      {
        "duration": 27,
        "start_time": "2023-06-04T17:13:01.635Z"
      },
      {
        "duration": 58,
        "start_time": "2023-06-04T17:13:01.663Z"
      },
      {
        "duration": 140,
        "start_time": "2023-06-04T17:13:01.729Z"
      },
      {
        "duration": 3,
        "start_time": "2023-06-04T17:13:01.871Z"
      },
      {
        "duration": 64,
        "start_time": "2023-06-04T17:13:01.875Z"
      },
      {
        "duration": 94,
        "start_time": "2023-06-04T17:13:01.940Z"
      },
      {
        "duration": 191,
        "start_time": "2023-06-04T17:13:02.036Z"
      },
      {
        "duration": 149,
        "start_time": "2023-06-04T17:13:02.229Z"
      },
      {
        "duration": 82,
        "start_time": "2023-06-04T17:13:02.379Z"
      },
      {
        "duration": 12,
        "start_time": "2023-06-04T17:13:02.463Z"
      },
      {
        "duration": 24,
        "start_time": "2023-06-04T17:13:02.486Z"
      },
      {
        "duration": 56,
        "start_time": "2023-06-04T17:13:02.511Z"
      },
      {
        "duration": 4,
        "start_time": "2023-06-04T17:13:02.569Z"
      },
      {
        "duration": 77,
        "start_time": "2023-06-04T17:13:02.574Z"
      },
      {
        "duration": 4,
        "start_time": "2023-06-04T17:13:02.654Z"
      },
      {
        "duration": 7,
        "start_time": "2023-06-04T17:13:02.659Z"
      },
      {
        "duration": 16,
        "start_time": "2023-06-04T17:13:02.667Z"
      },
      {
        "duration": 37,
        "start_time": "2023-06-04T17:13:02.684Z"
      },
      {
        "duration": 46,
        "start_time": "2023-06-04T17:13:02.722Z"
      },
      {
        "duration": 2,
        "start_time": "2023-06-04T17:13:02.769Z"
      },
      {
        "duration": 6,
        "start_time": "2023-06-04T17:13:02.773Z"
      },
      {
        "duration": 26047,
        "start_time": "2023-06-04T17:13:02.780Z"
      },
      {
        "duration": 43,
        "start_time": "2023-06-04T17:13:28.828Z"
      },
      {
        "duration": 6455,
        "start_time": "2023-06-04T17:13:28.872Z"
      },
      {
        "duration": 30,
        "start_time": "2023-06-04T17:13:35.328Z"
      },
      {
        "duration": 6232,
        "start_time": "2023-06-04T17:13:35.359Z"
      },
      {
        "duration": 40,
        "start_time": "2023-06-04T17:13:41.596Z"
      },
      {
        "duration": 4,
        "start_time": "2023-06-04T17:13:41.637Z"
      },
      {
        "duration": 0,
        "start_time": "2023-06-04T17:13:41.642Z"
      },
      {
        "duration": 0,
        "start_time": "2023-06-04T17:13:41.643Z"
      },
      {
        "duration": 0,
        "start_time": "2023-06-04T17:13:41.644Z"
      },
      {
        "duration": 0,
        "start_time": "2023-06-04T17:13:41.645Z"
      },
      {
        "duration": 0,
        "start_time": "2023-06-04T17:13:41.645Z"
      },
      {
        "duration": 0,
        "start_time": "2023-06-04T17:13:41.646Z"
      },
      {
        "duration": 0,
        "start_time": "2023-06-04T17:13:41.648Z"
      },
      {
        "duration": 0,
        "start_time": "2023-06-04T17:13:41.649Z"
      },
      {
        "duration": 0,
        "start_time": "2023-06-04T17:13:41.650Z"
      },
      {
        "duration": 0,
        "start_time": "2023-06-04T17:13:41.651Z"
      },
      {
        "duration": 5249,
        "start_time": "2023-06-04T17:13:58.581Z"
      },
      {
        "duration": 976,
        "start_time": "2023-06-04T17:16:04.983Z"
      },
      {
        "duration": 3,
        "start_time": "2023-06-04T17:16:24.067Z"
      },
      {
        "duration": 818,
        "start_time": "2023-06-04T17:16:24.072Z"
      },
      {
        "duration": 28,
        "start_time": "2023-06-04T17:16:24.891Z"
      },
      {
        "duration": 130,
        "start_time": "2023-06-04T17:16:24.921Z"
      },
      {
        "duration": 404,
        "start_time": "2023-06-04T17:16:25.053Z"
      },
      {
        "duration": 443,
        "start_time": "2023-06-04T17:16:25.459Z"
      },
      {
        "duration": 117,
        "start_time": "2023-06-04T17:16:25.911Z"
      },
      {
        "duration": 143,
        "start_time": "2023-06-04T17:16:26.030Z"
      },
      {
        "duration": 66,
        "start_time": "2023-06-04T17:16:26.175Z"
      },
      {
        "duration": 68,
        "start_time": "2023-06-04T17:16:26.242Z"
      },
      {
        "duration": 60,
        "start_time": "2023-06-04T17:16:26.317Z"
      },
      {
        "duration": 79,
        "start_time": "2023-06-04T17:16:26.379Z"
      },
      {
        "duration": 50,
        "start_time": "2023-06-04T17:16:26.460Z"
      },
      {
        "duration": 200,
        "start_time": "2023-06-04T17:16:26.511Z"
      },
      {
        "duration": 131,
        "start_time": "2023-06-04T17:16:26.715Z"
      },
      {
        "duration": 170,
        "start_time": "2023-06-04T17:16:26.848Z"
      },
      {
        "duration": 199,
        "start_time": "2023-06-04T17:16:27.020Z"
      },
      {
        "duration": 296,
        "start_time": "2023-06-04T17:16:27.220Z"
      },
      {
        "duration": 25,
        "start_time": "2023-06-04T17:16:27.517Z"
      },
      {
        "duration": 53,
        "start_time": "2023-06-04T17:16:27.544Z"
      },
      {
        "duration": 20,
        "start_time": "2023-06-04T17:16:27.611Z"
      },
      {
        "duration": 26,
        "start_time": "2023-06-04T17:16:27.632Z"
      },
      {
        "duration": 57,
        "start_time": "2023-06-04T17:16:27.660Z"
      },
      {
        "duration": 209,
        "start_time": "2023-06-04T17:16:27.719Z"
      },
      {
        "duration": 8,
        "start_time": "2023-06-04T17:16:27.929Z"
      },
      {
        "duration": 136,
        "start_time": "2023-06-04T17:16:27.939Z"
      },
      {
        "duration": 40,
        "start_time": "2023-06-04T17:16:28.077Z"
      },
      {
        "duration": 38,
        "start_time": "2023-06-04T17:16:28.121Z"
      },
      {
        "duration": 61,
        "start_time": "2023-06-04T17:16:28.165Z"
      },
      {
        "duration": 126,
        "start_time": "2023-06-04T17:16:28.228Z"
      },
      {
        "duration": 2,
        "start_time": "2023-06-04T17:16:28.356Z"
      },
      {
        "duration": 51,
        "start_time": "2023-06-04T17:16:28.359Z"
      },
      {
        "duration": 77,
        "start_time": "2023-06-04T17:16:28.419Z"
      },
      {
        "duration": 165,
        "start_time": "2023-06-04T17:16:28.499Z"
      },
      {
        "duration": 154,
        "start_time": "2023-06-04T17:16:28.665Z"
      },
      {
        "duration": 74,
        "start_time": "2023-06-04T17:16:28.820Z"
      },
      {
        "duration": 36,
        "start_time": "2023-06-04T17:16:28.900Z"
      },
      {
        "duration": 10,
        "start_time": "2023-06-04T17:16:28.937Z"
      },
      {
        "duration": 66,
        "start_time": "2023-06-04T17:16:28.948Z"
      },
      {
        "duration": 5,
        "start_time": "2023-06-04T17:16:29.016Z"
      },
      {
        "duration": 38,
        "start_time": "2023-06-04T17:16:29.022Z"
      },
      {
        "duration": 3,
        "start_time": "2023-06-04T17:16:29.062Z"
      },
      {
        "duration": 14,
        "start_time": "2023-06-04T17:16:29.067Z"
      },
      {
        "duration": 49,
        "start_time": "2023-06-04T17:16:29.083Z"
      },
      {
        "duration": 9,
        "start_time": "2023-06-04T17:16:29.133Z"
      },
      {
        "duration": 58,
        "start_time": "2023-06-04T17:16:29.143Z"
      },
      {
        "duration": 2,
        "start_time": "2023-06-04T17:16:29.202Z"
      },
      {
        "duration": 18,
        "start_time": "2023-06-04T17:16:29.205Z"
      },
      {
        "duration": 64,
        "start_time": "2023-06-04T17:17:37.246Z"
      },
      {
        "duration": 1406,
        "start_time": "2023-06-04T17:17:45.569Z"
      },
      {
        "duration": 1258,
        "start_time": "2023-06-04T17:17:46.977Z"
      },
      {
        "duration": 15,
        "start_time": "2023-06-04T17:17:48.236Z"
      },
      {
        "duration": 126,
        "start_time": "2023-06-04T17:17:48.252Z"
      },
      {
        "duration": 440,
        "start_time": "2023-06-04T17:17:48.380Z"
      },
      {
        "duration": 444,
        "start_time": "2023-06-04T17:17:48.821Z"
      },
      {
        "duration": 119,
        "start_time": "2023-06-04T17:17:49.267Z"
      },
      {
        "duration": 151,
        "start_time": "2023-06-04T17:17:49.387Z"
      },
      {
        "duration": 17,
        "start_time": "2023-06-04T17:17:49.539Z"
      },
      {
        "duration": 18,
        "start_time": "2023-06-04T17:17:49.558Z"
      },
      {
        "duration": 39,
        "start_time": "2023-06-04T17:17:49.589Z"
      },
      {
        "duration": 19,
        "start_time": "2023-06-04T17:17:49.630Z"
      },
      {
        "duration": 20,
        "start_time": "2023-06-04T17:17:49.650Z"
      },
      {
        "duration": 199,
        "start_time": "2023-06-04T17:17:49.672Z"
      },
      {
        "duration": 130,
        "start_time": "2023-06-04T17:17:49.872Z"
      },
      {
        "duration": 155,
        "start_time": "2023-06-04T17:17:50.003Z"
      },
      {
        "duration": 204,
        "start_time": "2023-06-04T17:17:50.159Z"
      },
      {
        "duration": 253,
        "start_time": "2023-06-04T17:17:50.365Z"
      },
      {
        "duration": 24,
        "start_time": "2023-06-04T17:17:50.620Z"
      },
      {
        "duration": 71,
        "start_time": "2023-06-04T17:17:50.645Z"
      },
      {
        "duration": 8,
        "start_time": "2023-06-04T17:17:50.717Z"
      },
      {
        "duration": 22,
        "start_time": "2023-06-04T17:17:50.726Z"
      },
      {
        "duration": 63,
        "start_time": "2023-06-04T17:17:50.750Z"
      },
      {
        "duration": 30,
        "start_time": "2023-06-04T17:17:50.815Z"
      },
      {
        "duration": 9,
        "start_time": "2023-06-04T17:17:50.847Z"
      },
      {
        "duration": 117,
        "start_time": "2023-06-04T17:17:50.858Z"
      },
      {
        "duration": 17,
        "start_time": "2023-06-04T17:17:50.977Z"
      },
      {
        "duration": 51,
        "start_time": "2023-06-04T17:17:50.995Z"
      },
      {
        "duration": 42,
        "start_time": "2023-06-04T17:17:51.048Z"
      },
      {
        "duration": 90,
        "start_time": "2023-06-04T17:17:51.102Z"
      },
      {
        "duration": 5,
        "start_time": "2023-06-04T17:17:51.207Z"
      },
      {
        "duration": 31,
        "start_time": "2023-06-04T17:17:51.214Z"
      },
      {
        "duration": 78,
        "start_time": "2023-06-04T17:17:51.247Z"
      },
      {
        "duration": 149,
        "start_time": "2023-06-04T17:17:51.326Z"
      },
      {
        "duration": 161,
        "start_time": "2023-06-04T17:17:51.477Z"
      },
      {
        "duration": 66,
        "start_time": "2023-06-04T17:17:51.640Z"
      },
      {
        "duration": 36,
        "start_time": "2023-06-04T17:17:51.707Z"
      },
      {
        "duration": 16,
        "start_time": "2023-06-04T17:17:51.746Z"
      },
      {
        "duration": 70,
        "start_time": "2023-06-04T17:17:51.764Z"
      },
      {
        "duration": 4,
        "start_time": "2023-06-04T17:17:51.836Z"
      },
      {
        "duration": 25,
        "start_time": "2023-06-04T17:17:51.845Z"
      },
      {
        "duration": 22,
        "start_time": "2023-06-04T17:17:51.872Z"
      },
      {
        "duration": 8,
        "start_time": "2023-06-04T17:17:51.906Z"
      },
      {
        "duration": 24,
        "start_time": "2023-06-04T17:17:51.915Z"
      },
      {
        "duration": 3,
        "start_time": "2023-06-04T17:17:51.940Z"
      },
      {
        "duration": 63,
        "start_time": "2023-06-04T17:17:51.944Z"
      },
      {
        "duration": 7,
        "start_time": "2023-06-04T17:17:52.008Z"
      },
      {
        "duration": 4,
        "start_time": "2023-06-04T17:17:52.016Z"
      },
      {
        "duration": 31246,
        "start_time": "2023-06-04T17:17:52.022Z"
      },
      {
        "duration": 53,
        "start_time": "2023-06-04T17:18:23.269Z"
      },
      {
        "duration": 7138,
        "start_time": "2023-06-04T17:18:23.324Z"
      },
      {
        "duration": 44,
        "start_time": "2023-06-04T17:18:30.463Z"
      },
      {
        "duration": 7191,
        "start_time": "2023-06-04T17:18:30.509Z"
      },
      {
        "duration": 31,
        "start_time": "2023-06-04T17:18:37.713Z"
      },
      {
        "duration": 5652,
        "start_time": "2023-06-04T17:18:37.745Z"
      },
      {
        "duration": 8,
        "start_time": "2023-06-04T17:18:43.412Z"
      },
      {
        "duration": 0,
        "start_time": "2023-06-04T17:18:43.421Z"
      },
      {
        "duration": 0,
        "start_time": "2023-06-04T17:18:43.422Z"
      },
      {
        "duration": 0,
        "start_time": "2023-06-04T17:18:43.423Z"
      },
      {
        "duration": 0,
        "start_time": "2023-06-04T17:18:43.425Z"
      },
      {
        "duration": 0,
        "start_time": "2023-06-04T17:18:43.426Z"
      },
      {
        "duration": 0,
        "start_time": "2023-06-04T17:18:43.427Z"
      },
      {
        "duration": 0,
        "start_time": "2023-06-04T17:18:43.428Z"
      },
      {
        "duration": 0,
        "start_time": "2023-06-04T17:18:43.429Z"
      },
      {
        "duration": 0,
        "start_time": "2023-06-04T17:18:43.430Z"
      },
      {
        "duration": 0,
        "start_time": "2023-06-04T17:18:43.431Z"
      },
      {
        "duration": 964,
        "start_time": "2023-06-04T17:21:02.124Z"
      },
      {
        "duration": 3,
        "start_time": "2023-06-04T17:21:09.127Z"
      },
      {
        "duration": 770,
        "start_time": "2023-06-04T17:21:09.132Z"
      },
      {
        "duration": 15,
        "start_time": "2023-06-04T17:21:09.915Z"
      },
      {
        "duration": 119,
        "start_time": "2023-06-04T17:21:09.931Z"
      },
      {
        "duration": 381,
        "start_time": "2023-06-04T17:21:10.052Z"
      },
      {
        "duration": 390,
        "start_time": "2023-06-04T17:21:10.435Z"
      },
      {
        "duration": 120,
        "start_time": "2023-06-04T17:21:10.827Z"
      },
      {
        "duration": 136,
        "start_time": "2023-06-04T17:21:10.949Z"
      },
      {
        "duration": 63,
        "start_time": "2023-06-04T17:21:11.086Z"
      },
      {
        "duration": 22,
        "start_time": "2023-06-04T17:21:11.150Z"
      },
      {
        "duration": 73,
        "start_time": "2023-06-04T17:21:11.175Z"
      },
      {
        "duration": 26,
        "start_time": "2023-06-04T17:21:11.249Z"
      },
      {
        "duration": 67,
        "start_time": "2023-06-04T17:21:11.277Z"
      },
      {
        "duration": 178,
        "start_time": "2023-06-04T17:21:11.345Z"
      },
      {
        "duration": 130,
        "start_time": "2023-06-04T17:21:11.524Z"
      },
      {
        "duration": 125,
        "start_time": "2023-06-04T17:21:11.656Z"
      },
      {
        "duration": 208,
        "start_time": "2023-06-04T17:21:11.795Z"
      },
      {
        "duration": 291,
        "start_time": "2023-06-04T17:21:12.004Z"
      },
      {
        "duration": 26,
        "start_time": "2023-06-04T17:21:12.303Z"
      },
      {
        "duration": 84,
        "start_time": "2023-06-04T17:21:12.330Z"
      },
      {
        "duration": 11,
        "start_time": "2023-06-04T17:21:12.420Z"
      },
      {
        "duration": 30,
        "start_time": "2023-06-04T17:21:12.432Z"
      },
      {
        "duration": 51,
        "start_time": "2023-06-04T17:21:12.464Z"
      },
      {
        "duration": 21,
        "start_time": "2023-06-04T17:21:12.517Z"
      },
      {
        "duration": 24,
        "start_time": "2023-06-04T17:21:12.540Z"
      },
      {
        "duration": 8,
        "start_time": "2023-06-04T17:21:12.565Z"
      },
      {
        "duration": 154,
        "start_time": "2023-06-04T17:21:12.574Z"
      },
      {
        "duration": 12,
        "start_time": "2023-06-04T17:21:12.729Z"
      },
      {
        "duration": 59,
        "start_time": "2023-06-04T17:21:12.746Z"
      },
      {
        "duration": 50,
        "start_time": "2023-06-04T17:21:12.806Z"
      },
      {
        "duration": 124,
        "start_time": "2023-06-04T17:21:12.858Z"
      },
      {
        "duration": 14,
        "start_time": "2023-06-04T17:21:12.984Z"
      },
      {
        "duration": 60,
        "start_time": "2023-06-04T17:21:13.002Z"
      },
      {
        "duration": 82,
        "start_time": "2023-06-04T17:21:13.064Z"
      },
      {
        "duration": 172,
        "start_time": "2023-06-04T17:21:13.147Z"
      },
      {
        "duration": 146,
        "start_time": "2023-06-04T17:21:13.321Z"
      },
      {
        "duration": 72,
        "start_time": "2023-06-04T17:21:13.469Z"
      },
      {
        "duration": 22,
        "start_time": "2023-06-04T17:21:13.542Z"
      },
      {
        "duration": 12,
        "start_time": "2023-06-04T17:21:13.566Z"
      },
      {
        "duration": 97,
        "start_time": "2023-06-04T17:21:13.580Z"
      },
      {
        "duration": 4,
        "start_time": "2023-06-04T17:21:13.679Z"
      },
      {
        "duration": 67,
        "start_time": "2023-06-04T17:21:13.694Z"
      },
      {
        "duration": 5,
        "start_time": "2023-06-04T17:21:13.763Z"
      },
      {
        "duration": 5,
        "start_time": "2023-06-04T17:21:13.770Z"
      },
      {
        "duration": 36,
        "start_time": "2023-06-04T17:21:13.776Z"
      },
      {
        "duration": 8,
        "start_time": "2023-06-04T17:21:13.813Z"
      },
      {
        "duration": 45,
        "start_time": "2023-06-04T17:21:13.822Z"
      },
      {
        "duration": 2,
        "start_time": "2023-06-04T17:21:13.869Z"
      },
      {
        "duration": 10,
        "start_time": "2023-06-04T17:21:13.872Z"
      },
      {
        "duration": 1352,
        "start_time": "2023-06-04T17:27:30.108Z"
      },
      {
        "duration": 1153,
        "start_time": "2023-06-04T17:27:31.462Z"
      },
      {
        "duration": 16,
        "start_time": "2023-06-04T17:27:32.617Z"
      },
      {
        "duration": 142,
        "start_time": "2023-06-04T17:27:32.635Z"
      },
      {
        "duration": 382,
        "start_time": "2023-06-04T17:27:32.779Z"
      },
      {
        "duration": 427,
        "start_time": "2023-06-04T17:27:33.162Z"
      },
      {
        "duration": 115,
        "start_time": "2023-06-04T17:27:33.596Z"
      },
      {
        "duration": 114,
        "start_time": "2023-06-04T17:27:33.713Z"
      },
      {
        "duration": 16,
        "start_time": "2023-06-04T17:27:33.829Z"
      },
      {
        "duration": 35,
        "start_time": "2023-06-04T17:27:33.847Z"
      },
      {
        "duration": 46,
        "start_time": "2023-06-04T17:27:33.883Z"
      },
      {
        "duration": 22,
        "start_time": "2023-06-04T17:27:33.930Z"
      },
      {
        "duration": 20,
        "start_time": "2023-06-04T17:27:33.953Z"
      },
      {
        "duration": 164,
        "start_time": "2023-06-04T17:27:33.975Z"
      },
      {
        "duration": 114,
        "start_time": "2023-06-04T17:27:34.141Z"
      },
      {
        "duration": 182,
        "start_time": "2023-06-04T17:27:34.257Z"
      },
      {
        "duration": 211,
        "start_time": "2023-06-04T17:27:34.440Z"
      },
      {
        "duration": 222,
        "start_time": "2023-06-04T17:27:34.653Z"
      },
      {
        "duration": 42,
        "start_time": "2023-06-04T17:27:34.877Z"
      },
      {
        "duration": 44,
        "start_time": "2023-06-04T17:27:34.921Z"
      },
      {
        "duration": 7,
        "start_time": "2023-06-04T17:27:34.966Z"
      },
      {
        "duration": 58,
        "start_time": "2023-06-04T17:27:34.974Z"
      },
      {
        "duration": 22,
        "start_time": "2023-06-04T17:27:35.033Z"
      },
      {
        "duration": 61,
        "start_time": "2023-06-04T17:27:35.056Z"
      },
      {
        "duration": 110,
        "start_time": "2023-06-04T17:27:35.119Z"
      },
      {
        "duration": 0,
        "start_time": "2023-06-04T17:27:35.232Z"
      },
      {
        "duration": 0,
        "start_time": "2023-06-04T17:27:35.233Z"
      },
      {
        "duration": 0,
        "start_time": "2023-06-04T17:27:35.234Z"
      },
      {
        "duration": 0,
        "start_time": "2023-06-04T17:27:35.235Z"
      },
      {
        "duration": 0,
        "start_time": "2023-06-04T17:27:35.236Z"
      },
      {
        "duration": 0,
        "start_time": "2023-06-04T17:27:35.238Z"
      },
      {
        "duration": 0,
        "start_time": "2023-06-04T17:27:35.239Z"
      },
      {
        "duration": 0,
        "start_time": "2023-06-04T17:27:35.241Z"
      },
      {
        "duration": 0,
        "start_time": "2023-06-04T17:27:35.242Z"
      },
      {
        "duration": 0,
        "start_time": "2023-06-04T17:27:35.243Z"
      },
      {
        "duration": 0,
        "start_time": "2023-06-04T17:27:35.244Z"
      },
      {
        "duration": 0,
        "start_time": "2023-06-04T17:27:35.245Z"
      },
      {
        "duration": 0,
        "start_time": "2023-06-04T17:27:35.246Z"
      },
      {
        "duration": 0,
        "start_time": "2023-06-04T17:27:35.248Z"
      },
      {
        "duration": 0,
        "start_time": "2023-06-04T17:27:35.249Z"
      },
      {
        "duration": 1,
        "start_time": "2023-06-04T17:27:35.284Z"
      },
      {
        "duration": 0,
        "start_time": "2023-06-04T17:27:35.286Z"
      },
      {
        "duration": 0,
        "start_time": "2023-06-04T17:27:35.289Z"
      },
      {
        "duration": 0,
        "start_time": "2023-06-04T17:27:35.290Z"
      },
      {
        "duration": 0,
        "start_time": "2023-06-04T17:27:35.291Z"
      },
      {
        "duration": 0,
        "start_time": "2023-06-04T17:27:35.291Z"
      },
      {
        "duration": 0,
        "start_time": "2023-06-04T17:27:35.292Z"
      },
      {
        "duration": 0,
        "start_time": "2023-06-04T17:27:35.293Z"
      },
      {
        "duration": 0,
        "start_time": "2023-06-04T17:27:35.294Z"
      },
      {
        "duration": 0,
        "start_time": "2023-06-04T17:27:35.295Z"
      },
      {
        "duration": 0,
        "start_time": "2023-06-04T17:27:35.296Z"
      },
      {
        "duration": 0,
        "start_time": "2023-06-04T17:27:35.297Z"
      },
      {
        "duration": 0,
        "start_time": "2023-06-04T17:27:35.297Z"
      },
      {
        "duration": 0,
        "start_time": "2023-06-04T17:27:35.298Z"
      },
      {
        "duration": 0,
        "start_time": "2023-06-04T17:27:35.310Z"
      },
      {
        "duration": 0,
        "start_time": "2023-06-04T17:27:35.311Z"
      },
      {
        "duration": 0,
        "start_time": "2023-06-04T17:27:35.311Z"
      },
      {
        "duration": 0,
        "start_time": "2023-06-04T17:27:35.312Z"
      },
      {
        "duration": 0,
        "start_time": "2023-06-04T17:27:35.313Z"
      },
      {
        "duration": 0,
        "start_time": "2023-06-04T17:27:35.314Z"
      },
      {
        "duration": 0,
        "start_time": "2023-06-04T17:27:35.315Z"
      },
      {
        "duration": 0,
        "start_time": "2023-06-04T17:27:35.322Z"
      },
      {
        "duration": 0,
        "start_time": "2023-06-04T17:27:35.324Z"
      },
      {
        "duration": 0,
        "start_time": "2023-06-04T17:27:35.324Z"
      },
      {
        "duration": 0,
        "start_time": "2023-06-04T17:27:35.325Z"
      },
      {
        "duration": 0,
        "start_time": "2023-06-04T17:27:35.326Z"
      },
      {
        "duration": 0,
        "start_time": "2023-06-04T17:27:35.327Z"
      },
      {
        "duration": 11,
        "start_time": "2023-06-04T17:28:29.079Z"
      },
      {
        "duration": 103,
        "start_time": "2023-06-04T17:28:38.035Z"
      },
      {
        "duration": 1314,
        "start_time": "2023-06-04T17:39:26.026Z"
      },
      {
        "duration": 741,
        "start_time": "2023-06-04T17:39:27.342Z"
      },
      {
        "duration": 26,
        "start_time": "2023-06-04T17:39:28.090Z"
      },
      {
        "duration": 120,
        "start_time": "2023-06-04T17:39:28.118Z"
      },
      {
        "duration": 396,
        "start_time": "2023-06-04T17:39:28.239Z"
      },
      {
        "duration": 423,
        "start_time": "2023-06-04T17:39:28.637Z"
      },
      {
        "duration": 106,
        "start_time": "2023-06-04T17:39:29.062Z"
      },
      {
        "duration": 134,
        "start_time": "2023-06-04T17:39:29.169Z"
      },
      {
        "duration": 19,
        "start_time": "2023-06-04T17:39:29.304Z"
      },
      {
        "duration": 20,
        "start_time": "2023-06-04T17:39:29.325Z"
      },
      {
        "duration": 22,
        "start_time": "2023-06-04T17:39:29.346Z"
      },
      {
        "duration": 38,
        "start_time": "2023-06-04T17:39:29.370Z"
      },
      {
        "duration": 24,
        "start_time": "2023-06-04T17:39:29.409Z"
      },
      {
        "duration": 179,
        "start_time": "2023-06-04T17:39:29.434Z"
      },
      {
        "duration": 116,
        "start_time": "2023-06-04T17:39:29.615Z"
      },
      {
        "duration": 144,
        "start_time": "2023-06-04T17:39:29.732Z"
      },
      {
        "duration": 205,
        "start_time": "2023-06-04T17:39:29.878Z"
      },
      {
        "duration": 231,
        "start_time": "2023-06-04T17:39:30.084Z"
      },
      {
        "duration": 22,
        "start_time": "2023-06-04T17:39:30.316Z"
      },
      {
        "duration": 75,
        "start_time": "2023-06-04T17:39:30.339Z"
      },
      {
        "duration": 8,
        "start_time": "2023-06-04T17:39:30.415Z"
      },
      {
        "duration": 101,
        "start_time": "2023-06-04T17:39:30.424Z"
      },
      {
        "duration": 51,
        "start_time": "2023-06-04T17:39:30.526Z"
      },
      {
        "duration": 82,
        "start_time": "2023-06-04T17:39:30.578Z"
      },
      {
        "duration": 6,
        "start_time": "2023-06-04T17:39:30.661Z"
      },
      {
        "duration": 165,
        "start_time": "2023-06-04T17:39:30.669Z"
      },
      {
        "duration": 23,
        "start_time": "2023-06-04T17:39:30.835Z"
      },
      {
        "duration": 45,
        "start_time": "2023-06-04T17:39:30.861Z"
      },
      {
        "duration": 60,
        "start_time": "2023-06-04T17:39:30.907Z"
      },
      {
        "duration": 100,
        "start_time": "2023-06-04T17:39:30.969Z"
      },
      {
        "duration": 10,
        "start_time": "2023-06-04T17:39:31.070Z"
      },
      {
        "duration": 74,
        "start_time": "2023-06-04T17:39:31.081Z"
      },
      {
        "duration": 85,
        "start_time": "2023-06-04T17:39:31.157Z"
      },
      {
        "duration": 170,
        "start_time": "2023-06-04T17:39:31.244Z"
      },
      {
        "duration": 145,
        "start_time": "2023-06-04T17:39:31.416Z"
      },
      {
        "duration": 69,
        "start_time": "2023-06-04T17:39:31.563Z"
      },
      {
        "duration": 16,
        "start_time": "2023-06-04T17:39:31.634Z"
      },
      {
        "duration": 4,
        "start_time": "2023-06-04T17:39:31.651Z"
      },
      {
        "duration": 78,
        "start_time": "2023-06-04T17:39:31.657Z"
      },
      {
        "duration": 5,
        "start_time": "2023-06-04T17:39:31.737Z"
      },
      {
        "duration": 57,
        "start_time": "2023-06-04T17:39:31.744Z"
      },
      {
        "duration": 26,
        "start_time": "2023-06-04T17:39:31.802Z"
      },
      {
        "duration": 25,
        "start_time": "2023-06-04T17:39:31.829Z"
      },
      {
        "duration": 37,
        "start_time": "2023-06-04T17:39:31.855Z"
      },
      {
        "duration": 19,
        "start_time": "2023-06-04T17:39:31.893Z"
      },
      {
        "duration": 51,
        "start_time": "2023-06-04T17:39:31.914Z"
      },
      {
        "duration": 2,
        "start_time": "2023-06-04T17:39:31.967Z"
      },
      {
        "duration": 54,
        "start_time": "2023-06-04T17:39:31.970Z"
      },
      {
        "duration": 24586,
        "start_time": "2023-06-04T17:39:32.025Z"
      },
      {
        "duration": 44,
        "start_time": "2023-06-04T17:39:56.613Z"
      },
      {
        "duration": 6155,
        "start_time": "2023-06-04T17:39:56.658Z"
      },
      {
        "duration": 31,
        "start_time": "2023-06-04T17:40:02.814Z"
      },
      {
        "duration": 6155,
        "start_time": "2023-06-04T17:40:02.847Z"
      },
      {
        "duration": 35,
        "start_time": "2023-06-04T17:40:09.003Z"
      },
      {
        "duration": 5574,
        "start_time": "2023-06-04T17:40:09.040Z"
      },
      {
        "duration": 6,
        "start_time": "2023-06-04T17:40:14.617Z"
      },
      {
        "duration": 0,
        "start_time": "2023-06-04T17:40:14.624Z"
      },
      {
        "duration": 0,
        "start_time": "2023-06-04T17:40:14.625Z"
      },
      {
        "duration": 0,
        "start_time": "2023-06-04T17:40:14.627Z"
      },
      {
        "duration": 0,
        "start_time": "2023-06-04T17:40:14.628Z"
      },
      {
        "duration": 1,
        "start_time": "2023-06-04T17:40:14.628Z"
      },
      {
        "duration": 0,
        "start_time": "2023-06-04T17:40:14.629Z"
      },
      {
        "duration": 0,
        "start_time": "2023-06-04T17:40:14.631Z"
      },
      {
        "duration": 0,
        "start_time": "2023-06-04T17:40:14.631Z"
      },
      {
        "duration": 0,
        "start_time": "2023-06-04T17:40:14.632Z"
      },
      {
        "duration": 0,
        "start_time": "2023-06-04T17:40:14.633Z"
      },
      {
        "duration": 5970,
        "start_time": "2023-06-04T17:40:55.919Z"
      },
      {
        "duration": 5435,
        "start_time": "2023-06-04T17:41:16.076Z"
      },
      {
        "duration": 4988,
        "start_time": "2023-06-04T17:41:31.802Z"
      },
      {
        "duration": 4,
        "start_time": "2023-06-04T17:41:44.978Z"
      },
      {
        "duration": 1353,
        "start_time": "2023-06-04T17:42:05.215Z"
      },
      {
        "duration": 771,
        "start_time": "2023-06-04T17:42:06.569Z"
      },
      {
        "duration": 15,
        "start_time": "2023-06-04T17:42:07.341Z"
      },
      {
        "duration": 133,
        "start_time": "2023-06-04T17:42:07.357Z"
      },
      {
        "duration": 392,
        "start_time": "2023-06-04T17:42:07.492Z"
      },
      {
        "duration": 454,
        "start_time": "2023-06-04T17:42:07.885Z"
      },
      {
        "duration": 112,
        "start_time": "2023-06-04T17:42:08.341Z"
      },
      {
        "duration": 115,
        "start_time": "2023-06-04T17:42:08.454Z"
      },
      {
        "duration": 48,
        "start_time": "2023-06-04T17:42:08.571Z"
      },
      {
        "duration": 23,
        "start_time": "2023-06-04T17:42:08.621Z"
      },
      {
        "duration": 22,
        "start_time": "2023-06-04T17:42:08.646Z"
      },
      {
        "duration": 33,
        "start_time": "2023-06-04T17:42:08.669Z"
      },
      {
        "duration": 24,
        "start_time": "2023-06-04T17:42:08.704Z"
      },
      {
        "duration": 179,
        "start_time": "2023-06-04T17:42:08.731Z"
      },
      {
        "duration": 121,
        "start_time": "2023-06-04T17:42:08.912Z"
      },
      {
        "duration": 177,
        "start_time": "2023-06-04T17:42:09.035Z"
      },
      {
        "duration": 199,
        "start_time": "2023-06-04T17:42:09.214Z"
      },
      {
        "duration": 237,
        "start_time": "2023-06-04T17:42:09.414Z"
      },
      {
        "duration": 37,
        "start_time": "2023-06-04T17:42:09.653Z"
      },
      {
        "duration": 53,
        "start_time": "2023-06-04T17:42:09.691Z"
      },
      {
        "duration": 7,
        "start_time": "2023-06-04T17:42:09.745Z"
      },
      {
        "duration": 64,
        "start_time": "2023-06-04T17:42:09.754Z"
      },
      {
        "duration": 24,
        "start_time": "2023-06-04T17:42:09.819Z"
      },
      {
        "duration": 53,
        "start_time": "2023-06-04T17:42:09.844Z"
      },
      {
        "duration": 16,
        "start_time": "2023-06-04T17:42:09.898Z"
      },
      {
        "duration": 106,
        "start_time": "2023-06-04T17:42:09.916Z"
      },
      {
        "duration": 12,
        "start_time": "2023-06-04T17:42:10.023Z"
      },
      {
        "duration": 30,
        "start_time": "2023-06-04T17:42:10.037Z"
      },
      {
        "duration": 59,
        "start_time": "2023-06-04T17:42:10.068Z"
      },
      {
        "duration": 96,
        "start_time": "2023-06-04T17:42:10.129Z"
      },
      {
        "duration": 2,
        "start_time": "2023-06-04T17:42:10.227Z"
      },
      {
        "duration": 23,
        "start_time": "2023-06-04T17:42:10.231Z"
      },
      {
        "duration": 84,
        "start_time": "2023-06-04T17:42:10.256Z"
      },
      {
        "duration": 165,
        "start_time": "2023-06-04T17:42:10.341Z"
      },
      {
        "duration": 141,
        "start_time": "2023-06-04T17:42:10.507Z"
      },
      {
        "duration": 69,
        "start_time": "2023-06-04T17:42:10.649Z"
      },
      {
        "duration": 12,
        "start_time": "2023-06-04T17:42:10.719Z"
      },
      {
        "duration": 3,
        "start_time": "2023-06-04T17:42:10.732Z"
      },
      {
        "duration": 75,
        "start_time": "2023-06-04T17:42:10.737Z"
      },
      {
        "duration": 4,
        "start_time": "2023-06-04T17:42:10.813Z"
      },
      {
        "duration": 28,
        "start_time": "2023-06-04T17:42:10.821Z"
      },
      {
        "duration": 3,
        "start_time": "2023-06-04T17:42:10.850Z"
      },
      {
        "duration": 9,
        "start_time": "2023-06-04T17:42:10.855Z"
      },
      {
        "duration": 16,
        "start_time": "2023-06-04T17:42:10.865Z"
      },
      {
        "duration": 4,
        "start_time": "2023-06-04T17:42:10.882Z"
      },
      {
        "duration": 72,
        "start_time": "2023-06-04T17:42:10.887Z"
      },
      {
        "duration": 2,
        "start_time": "2023-06-04T17:42:10.960Z"
      },
      {
        "duration": 5,
        "start_time": "2023-06-04T17:42:10.963Z"
      },
      {
        "duration": 25354,
        "start_time": "2023-06-04T17:42:10.969Z"
      },
      {
        "duration": 49,
        "start_time": "2023-06-04T17:42:36.327Z"
      },
      {
        "duration": 5969,
        "start_time": "2023-06-04T17:42:36.378Z"
      },
      {
        "duration": 30,
        "start_time": "2023-06-04T17:42:42.348Z"
      },
      {
        "duration": 5913,
        "start_time": "2023-06-04T17:42:42.399Z"
      },
      {
        "duration": 31,
        "start_time": "2023-06-04T17:42:48.313Z"
      },
      {
        "duration": 4,
        "start_time": "2023-06-04T17:42:48.346Z"
      },
      {
        "duration": 0,
        "start_time": "2023-06-04T17:42:48.351Z"
      },
      {
        "duration": 0,
        "start_time": "2023-06-04T17:42:48.353Z"
      },
      {
        "duration": 0,
        "start_time": "2023-06-04T17:42:48.354Z"
      },
      {
        "duration": 0,
        "start_time": "2023-06-04T17:42:48.355Z"
      },
      {
        "duration": 0,
        "start_time": "2023-06-04T17:42:48.356Z"
      },
      {
        "duration": 0,
        "start_time": "2023-06-04T17:42:48.357Z"
      },
      {
        "duration": 0,
        "start_time": "2023-06-04T17:42:48.358Z"
      },
      {
        "duration": 0,
        "start_time": "2023-06-04T17:42:48.384Z"
      },
      {
        "duration": 0,
        "start_time": "2023-06-04T17:42:48.385Z"
      },
      {
        "duration": 0,
        "start_time": "2023-06-04T17:42:48.386Z"
      },
      {
        "duration": 0,
        "start_time": "2023-06-04T17:42:48.386Z"
      },
      {
        "duration": 5262,
        "start_time": "2023-06-04T17:45:09.228Z"
      },
      {
        "duration": 4,
        "start_time": "2023-06-04T17:45:29.152Z"
      },
      {
        "duration": 1334,
        "start_time": "2023-06-04T17:45:58.448Z"
      },
      {
        "duration": 826,
        "start_time": "2023-06-04T17:45:59.784Z"
      },
      {
        "duration": 18,
        "start_time": "2023-06-04T17:46:00.624Z"
      },
      {
        "duration": 205,
        "start_time": "2023-06-04T17:46:00.643Z"
      },
      {
        "duration": 497,
        "start_time": "2023-06-04T17:46:00.849Z"
      },
      {
        "duration": 479,
        "start_time": "2023-06-04T17:46:01.348Z"
      },
      {
        "duration": 128,
        "start_time": "2023-06-04T17:46:01.828Z"
      },
      {
        "duration": 166,
        "start_time": "2023-06-04T17:46:01.958Z"
      },
      {
        "duration": 17,
        "start_time": "2023-06-04T17:46:02.126Z"
      },
      {
        "duration": 34,
        "start_time": "2023-06-04T17:46:02.145Z"
      },
      {
        "duration": 62,
        "start_time": "2023-06-04T17:46:02.180Z"
      },
      {
        "duration": 25,
        "start_time": "2023-06-04T17:46:02.243Z"
      },
      {
        "duration": 61,
        "start_time": "2023-06-04T17:46:02.270Z"
      },
      {
        "duration": 196,
        "start_time": "2023-06-04T17:46:02.334Z"
      },
      {
        "duration": 135,
        "start_time": "2023-06-04T17:46:02.533Z"
      },
      {
        "duration": 171,
        "start_time": "2023-06-04T17:46:02.670Z"
      },
      {
        "duration": 201,
        "start_time": "2023-06-04T17:46:02.842Z"
      },
      {
        "duration": 231,
        "start_time": "2023-06-04T17:46:03.045Z"
      },
      {
        "duration": 46,
        "start_time": "2023-06-04T17:46:03.278Z"
      },
      {
        "duration": 45,
        "start_time": "2023-06-04T17:46:03.325Z"
      },
      {
        "duration": 7,
        "start_time": "2023-06-04T17:46:03.372Z"
      },
      {
        "duration": 67,
        "start_time": "2023-06-04T17:46:03.380Z"
      },
      {
        "duration": 25,
        "start_time": "2023-06-04T17:46:03.448Z"
      },
      {
        "duration": 50,
        "start_time": "2023-06-04T17:46:03.474Z"
      },
      {
        "duration": 6,
        "start_time": "2023-06-04T17:46:03.526Z"
      },
      {
        "duration": 115,
        "start_time": "2023-06-04T17:46:03.533Z"
      },
      {
        "duration": 11,
        "start_time": "2023-06-04T17:46:03.650Z"
      },
      {
        "duration": 61,
        "start_time": "2023-06-04T17:46:03.662Z"
      },
      {
        "duration": 36,
        "start_time": "2023-06-04T17:46:03.724Z"
      },
      {
        "duration": 107,
        "start_time": "2023-06-04T17:46:03.761Z"
      },
      {
        "duration": 2,
        "start_time": "2023-06-04T17:46:03.870Z"
      },
      {
        "duration": 27,
        "start_time": "2023-06-04T17:46:03.873Z"
      },
      {
        "duration": 71,
        "start_time": "2023-06-04T17:46:03.911Z"
      },
      {
        "duration": 151,
        "start_time": "2023-06-04T17:46:03.994Z"
      },
      {
        "duration": 173,
        "start_time": "2023-06-04T17:46:04.147Z"
      },
      {
        "duration": 71,
        "start_time": "2023-06-04T17:46:04.325Z"
      },
      {
        "duration": 42,
        "start_time": "2023-06-04T17:46:04.402Z"
      },
      {
        "duration": 17,
        "start_time": "2023-06-04T17:46:04.445Z"
      },
      {
        "duration": 61,
        "start_time": "2023-06-04T17:46:04.464Z"
      },
      {
        "duration": 7,
        "start_time": "2023-06-04T17:46:04.526Z"
      },
      {
        "duration": 25,
        "start_time": "2023-06-04T17:46:04.536Z"
      },
      {
        "duration": 4,
        "start_time": "2023-06-04T17:46:04.562Z"
      },
      {
        "duration": 10,
        "start_time": "2023-06-04T17:46:04.567Z"
      },
      {
        "duration": 67,
        "start_time": "2023-06-04T17:46:04.579Z"
      },
      {
        "duration": 10,
        "start_time": "2023-06-04T17:46:04.647Z"
      },
      {
        "duration": 66,
        "start_time": "2023-06-04T17:46:04.658Z"
      },
      {
        "duration": 2,
        "start_time": "2023-06-04T17:46:04.725Z"
      },
      {
        "duration": 27,
        "start_time": "2023-06-04T17:46:04.729Z"
      },
      {
        "duration": 26096,
        "start_time": "2023-06-04T17:46:04.757Z"
      },
      {
        "duration": 59,
        "start_time": "2023-06-04T17:46:30.854Z"
      },
      {
        "duration": 6331,
        "start_time": "2023-06-04T17:46:30.914Z"
      },
      {
        "duration": 29,
        "start_time": "2023-06-04T17:46:37.246Z"
      },
      {
        "duration": 6235,
        "start_time": "2023-06-04T17:46:37.294Z"
      },
      {
        "duration": 28,
        "start_time": "2023-06-04T17:46:43.531Z"
      },
      {
        "duration": 1651,
        "start_time": "2023-06-04T20:24:21.383Z"
      },
      {
        "duration": 1011,
        "start_time": "2023-06-04T20:24:23.036Z"
      },
      {
        "duration": 17,
        "start_time": "2023-06-04T20:24:24.048Z"
      },
      {
        "duration": 163,
        "start_time": "2023-06-04T20:24:24.066Z"
      },
      {
        "duration": 500,
        "start_time": "2023-06-04T20:24:24.244Z"
      },
      {
        "duration": 480,
        "start_time": "2023-06-04T20:24:24.746Z"
      },
      {
        "duration": 122,
        "start_time": "2023-06-04T20:24:25.230Z"
      },
      {
        "duration": 128,
        "start_time": "2023-06-04T20:24:25.353Z"
      },
      {
        "duration": 31,
        "start_time": "2023-06-04T20:24:25.485Z"
      },
      {
        "duration": 40,
        "start_time": "2023-06-04T20:24:25.520Z"
      },
      {
        "duration": 70,
        "start_time": "2023-06-04T20:24:25.561Z"
      },
      {
        "duration": 21,
        "start_time": "2023-06-04T20:24:25.633Z"
      },
      {
        "duration": 31,
        "start_time": "2023-06-04T20:24:25.656Z"
      },
      {
        "duration": 222,
        "start_time": "2023-06-04T20:24:25.704Z"
      },
      {
        "duration": 205,
        "start_time": "2023-06-04T20:24:25.929Z"
      },
      {
        "duration": 228,
        "start_time": "2023-06-04T20:24:26.139Z"
      },
      {
        "duration": 250,
        "start_time": "2023-06-04T20:24:26.369Z"
      },
      {
        "duration": 277,
        "start_time": "2023-06-04T20:24:26.629Z"
      },
      {
        "duration": 34,
        "start_time": "2023-06-04T20:24:26.907Z"
      },
      {
        "duration": 83,
        "start_time": "2023-06-04T20:24:26.943Z"
      },
      {
        "duration": 10,
        "start_time": "2023-06-04T20:24:27.035Z"
      },
      {
        "duration": 69,
        "start_time": "2023-06-04T20:24:27.046Z"
      },
      {
        "duration": 56,
        "start_time": "2023-06-04T20:24:27.116Z"
      },
      {
        "duration": 60,
        "start_time": "2023-06-04T20:24:27.173Z"
      },
      {
        "duration": 15,
        "start_time": "2023-06-04T20:24:27.234Z"
      },
      {
        "duration": 125,
        "start_time": "2023-06-04T20:24:27.250Z"
      },
      {
        "duration": 41,
        "start_time": "2023-06-04T20:24:27.377Z"
      },
      {
        "duration": 49,
        "start_time": "2023-06-04T20:24:27.427Z"
      },
      {
        "duration": 40,
        "start_time": "2023-06-04T20:24:27.477Z"
      },
      {
        "duration": 121,
        "start_time": "2023-06-04T20:24:27.519Z"
      },
      {
        "duration": 7,
        "start_time": "2023-06-04T20:24:27.642Z"
      },
      {
        "duration": 28,
        "start_time": "2023-06-04T20:24:27.650Z"
      },
      {
        "duration": 90,
        "start_time": "2023-06-04T20:24:27.679Z"
      },
      {
        "duration": 161,
        "start_time": "2023-06-04T20:24:27.771Z"
      },
      {
        "duration": 177,
        "start_time": "2023-06-04T20:24:27.933Z"
      },
      {
        "duration": 62,
        "start_time": "2023-06-04T20:24:28.111Z"
      },
      {
        "duration": 35,
        "start_time": "2023-06-04T20:24:28.175Z"
      },
      {
        "duration": 9,
        "start_time": "2023-06-04T20:24:28.223Z"
      },
      {
        "duration": 50,
        "start_time": "2023-06-04T20:24:28.233Z"
      },
      {
        "duration": 34,
        "start_time": "2023-06-04T20:24:28.288Z"
      },
      {
        "duration": 23,
        "start_time": "2023-06-04T20:24:28.330Z"
      },
      {
        "duration": 4,
        "start_time": "2023-06-04T20:24:28.354Z"
      },
      {
        "duration": 7,
        "start_time": "2023-06-04T20:24:28.359Z"
      },
      {
        "duration": 35,
        "start_time": "2023-06-04T20:24:28.368Z"
      },
      {
        "duration": 6,
        "start_time": "2023-06-04T20:24:28.406Z"
      },
      {
        "duration": 98,
        "start_time": "2023-06-04T20:24:28.416Z"
      },
      {
        "duration": 5,
        "start_time": "2023-06-04T20:24:28.515Z"
      },
      {
        "duration": 19,
        "start_time": "2023-06-04T20:24:28.521Z"
      },
      {
        "duration": 28604,
        "start_time": "2023-06-04T20:24:28.541Z"
      },
      {
        "duration": 83,
        "start_time": "2023-06-04T20:24:57.147Z"
      },
      {
        "duration": 8200,
        "start_time": "2023-06-04T20:24:57.232Z"
      },
      {
        "duration": 32,
        "start_time": "2023-06-04T20:25:05.434Z"
      },
      {
        "duration": 8034,
        "start_time": "2023-06-04T20:25:05.467Z"
      },
      {
        "duration": 41,
        "start_time": "2023-06-04T20:25:13.504Z"
      },
      {
        "duration": 6046,
        "start_time": "2023-06-04T20:25:13.547Z"
      },
      {
        "duration": 1438,
        "start_time": "2023-06-04T20:28:19.120Z"
      },
      {
        "duration": 861,
        "start_time": "2023-06-04T20:28:20.561Z"
      },
      {
        "duration": 18,
        "start_time": "2023-06-04T20:28:21.423Z"
      },
      {
        "duration": 134,
        "start_time": "2023-06-04T20:28:21.442Z"
      },
      {
        "duration": 446,
        "start_time": "2023-06-04T20:28:21.578Z"
      },
      {
        "duration": 483,
        "start_time": "2023-06-04T20:28:22.027Z"
      },
      {
        "duration": 127,
        "start_time": "2023-06-04T20:28:22.512Z"
      },
      {
        "duration": 123,
        "start_time": "2023-06-04T20:28:22.640Z"
      },
      {
        "duration": 18,
        "start_time": "2023-06-04T20:28:22.764Z"
      },
      {
        "duration": 44,
        "start_time": "2023-06-04T20:28:22.790Z"
      },
      {
        "duration": 20,
        "start_time": "2023-06-04T20:28:22.835Z"
      },
      {
        "duration": 20,
        "start_time": "2023-06-04T20:28:22.857Z"
      },
      {
        "duration": 75,
        "start_time": "2023-06-04T20:28:22.878Z"
      },
      {
        "duration": 180,
        "start_time": "2023-06-04T20:28:22.956Z"
      },
      {
        "duration": 126,
        "start_time": "2023-06-04T20:28:23.137Z"
      },
      {
        "duration": 177,
        "start_time": "2023-06-04T20:28:23.264Z"
      },
      {
        "duration": 202,
        "start_time": "2023-06-04T20:28:23.442Z"
      },
      {
        "duration": 249,
        "start_time": "2023-06-04T20:28:23.645Z"
      },
      {
        "duration": 32,
        "start_time": "2023-06-04T20:28:23.903Z"
      },
      {
        "duration": 71,
        "start_time": "2023-06-04T20:28:23.937Z"
      },
      {
        "duration": 9,
        "start_time": "2023-06-04T20:28:24.016Z"
      },
      {
        "duration": 40,
        "start_time": "2023-06-04T20:28:24.026Z"
      },
      {
        "duration": 46,
        "start_time": "2023-06-04T20:28:24.069Z"
      },
      {
        "duration": 51,
        "start_time": "2023-06-04T20:28:24.116Z"
      },
      {
        "duration": 7,
        "start_time": "2023-06-04T20:28:24.169Z"
      },
      {
        "duration": 144,
        "start_time": "2023-06-04T20:28:24.178Z"
      },
      {
        "duration": 21,
        "start_time": "2023-06-04T20:28:24.323Z"
      },
      {
        "duration": 76,
        "start_time": "2023-06-04T20:28:24.346Z"
      },
      {
        "duration": 47,
        "start_time": "2023-06-04T20:28:24.429Z"
      },
      {
        "duration": 121,
        "start_time": "2023-06-04T20:28:24.478Z"
      },
      {
        "duration": 2,
        "start_time": "2023-06-04T20:28:24.607Z"
      },
      {
        "duration": 26,
        "start_time": "2023-06-04T20:28:24.610Z"
      },
      {
        "duration": 81,
        "start_time": "2023-06-04T20:28:24.638Z"
      },
      {
        "duration": 162,
        "start_time": "2023-06-04T20:28:24.721Z"
      },
      {
        "duration": 149,
        "start_time": "2023-06-04T20:28:24.890Z"
      },
      {
        "duration": 67,
        "start_time": "2023-06-04T20:28:25.040Z"
      },
      {
        "duration": 25,
        "start_time": "2023-06-04T20:28:25.108Z"
      },
      {
        "duration": 4,
        "start_time": "2023-06-04T20:28:25.134Z"
      },
      {
        "duration": 64,
        "start_time": "2023-06-04T20:28:25.139Z"
      },
      {
        "duration": 6,
        "start_time": "2023-06-04T20:28:25.204Z"
      },
      {
        "duration": 31,
        "start_time": "2023-06-04T20:28:25.217Z"
      },
      {
        "duration": 4,
        "start_time": "2023-06-04T20:28:25.250Z"
      },
      {
        "duration": 4,
        "start_time": "2023-06-04T20:28:25.255Z"
      },
      {
        "duration": 17,
        "start_time": "2023-06-04T20:28:25.261Z"
      },
      {
        "duration": 28,
        "start_time": "2023-06-04T20:28:25.280Z"
      },
      {
        "duration": 51,
        "start_time": "2023-06-04T20:28:25.312Z"
      },
      {
        "duration": 3,
        "start_time": "2023-06-04T20:28:25.364Z"
      },
      {
        "duration": 7,
        "start_time": "2023-06-04T20:28:25.368Z"
      },
      {
        "duration": 35897,
        "start_time": "2023-06-04T20:28:25.376Z"
      },
      {
        "duration": 50,
        "start_time": "2023-06-04T20:29:01.275Z"
      },
      {
        "duration": 7272,
        "start_time": "2023-06-04T20:29:01.326Z"
      },
      {
        "duration": 33,
        "start_time": "2023-06-04T20:29:08.607Z"
      },
      {
        "duration": 7378,
        "start_time": "2023-06-04T20:29:08.641Z"
      },
      {
        "duration": 34,
        "start_time": "2023-06-04T20:29:16.021Z"
      },
      {
        "duration": 5966,
        "start_time": "2023-06-04T20:29:16.056Z"
      },
      {
        "duration": 208277,
        "start_time": "2023-06-04T20:29:22.024Z"
      },
      {
        "duration": 1398,
        "start_time": "2023-06-04T20:34:51.678Z"
      },
      {
        "duration": 791,
        "start_time": "2023-06-04T20:34:53.078Z"
      },
      {
        "duration": 36,
        "start_time": "2023-06-04T20:34:53.870Z"
      },
      {
        "duration": 133,
        "start_time": "2023-06-04T20:34:53.907Z"
      },
      {
        "duration": 470,
        "start_time": "2023-06-04T20:34:54.042Z"
      },
      {
        "duration": 454,
        "start_time": "2023-06-04T20:34:54.513Z"
      },
      {
        "duration": 127,
        "start_time": "2023-06-04T20:34:54.969Z"
      },
      {
        "duration": 114,
        "start_time": "2023-06-04T20:34:55.108Z"
      },
      {
        "duration": 20,
        "start_time": "2023-06-04T20:34:55.223Z"
      },
      {
        "duration": 20,
        "start_time": "2023-06-04T20:34:55.244Z"
      },
      {
        "duration": 46,
        "start_time": "2023-06-04T20:34:55.265Z"
      },
      {
        "duration": 33,
        "start_time": "2023-06-04T20:34:55.312Z"
      },
      {
        "duration": 21,
        "start_time": "2023-06-04T20:34:55.347Z"
      },
      {
        "duration": 199,
        "start_time": "2023-06-04T20:34:55.371Z"
      },
      {
        "duration": 139,
        "start_time": "2023-06-04T20:34:55.571Z"
      },
      {
        "duration": 202,
        "start_time": "2023-06-04T20:34:55.712Z"
      },
      {
        "duration": 277,
        "start_time": "2023-06-04T20:34:55.915Z"
      },
      {
        "duration": 260,
        "start_time": "2023-06-04T20:34:56.194Z"
      },
      {
        "duration": 41,
        "start_time": "2023-06-04T20:34:56.456Z"
      },
      {
        "duration": 49,
        "start_time": "2023-06-04T20:34:56.498Z"
      },
      {
        "duration": 8,
        "start_time": "2023-06-04T20:34:56.549Z"
      },
      {
        "duration": 69,
        "start_time": "2023-06-04T20:34:56.559Z"
      },
      {
        "duration": 23,
        "start_time": "2023-06-04T20:34:56.630Z"
      },
      {
        "duration": 59,
        "start_time": "2023-06-04T20:34:56.655Z"
      },
      {
        "duration": 6,
        "start_time": "2023-06-04T20:34:56.716Z"
      },
      {
        "duration": 117,
        "start_time": "2023-06-04T20:34:56.723Z"
      },
      {
        "duration": 11,
        "start_time": "2023-06-04T20:34:56.841Z"
      },
      {
        "duration": 38,
        "start_time": "2023-06-04T20:34:56.854Z"
      },
      {
        "duration": 39,
        "start_time": "2023-06-04T20:34:56.907Z"
      },
      {
        "duration": 112,
        "start_time": "2023-06-04T20:34:56.948Z"
      },
      {
        "duration": 2,
        "start_time": "2023-06-04T20:34:57.062Z"
      },
      {
        "duration": 43,
        "start_time": "2023-06-04T20:34:57.066Z"
      },
      {
        "duration": 72,
        "start_time": "2023-06-04T20:34:57.111Z"
      },
      {
        "duration": 150,
        "start_time": "2023-06-04T20:34:57.191Z"
      },
      {
        "duration": 164,
        "start_time": "2023-06-04T20:34:57.342Z"
      },
      {
        "duration": 58,
        "start_time": "2023-06-04T20:34:57.507Z"
      },
      {
        "duration": 13,
        "start_time": "2023-06-04T20:34:57.567Z"
      },
      {
        "duration": 12,
        "start_time": "2023-06-04T20:34:57.594Z"
      },
      {
        "duration": 52,
        "start_time": "2023-06-04T20:34:57.607Z"
      },
      {
        "duration": 3,
        "start_time": "2023-06-04T20:34:57.661Z"
      },
      {
        "duration": 27,
        "start_time": "2023-06-04T20:34:57.667Z"
      },
      {
        "duration": 4,
        "start_time": "2023-06-04T20:34:57.696Z"
      },
      {
        "duration": 2,
        "start_time": "2023-06-04T20:34:57.701Z"
      },
      {
        "duration": 40,
        "start_time": "2023-06-04T20:34:57.704Z"
      },
      {
        "duration": 3,
        "start_time": "2023-06-04T20:34:57.745Z"
      },
      {
        "duration": 89,
        "start_time": "2023-06-04T20:34:57.749Z"
      },
      {
        "duration": 3,
        "start_time": "2023-06-04T20:34:57.840Z"
      },
      {
        "duration": 5,
        "start_time": "2023-06-04T20:34:57.845Z"
      },
      {
        "duration": 36571,
        "start_time": "2023-06-04T20:34:57.851Z"
      },
      {
        "duration": 50,
        "start_time": "2023-06-04T20:35:34.423Z"
      },
      {
        "duration": 7149,
        "start_time": "2023-06-04T20:35:34.484Z"
      },
      {
        "duration": 29,
        "start_time": "2023-06-04T20:35:41.634Z"
      },
      {
        "duration": 7310,
        "start_time": "2023-06-04T20:35:41.664Z"
      },
      {
        "duration": 50,
        "start_time": "2023-06-04T20:35:48.976Z"
      },
      {
        "duration": 6260,
        "start_time": "2023-06-04T20:35:49.034Z"
      },
      {
        "duration": 1591,
        "start_time": "2023-06-04T20:38:47.111Z"
      },
      {
        "duration": 867,
        "start_time": "2023-06-04T20:38:48.704Z"
      },
      {
        "duration": 33,
        "start_time": "2023-06-04T20:38:49.573Z"
      },
      {
        "duration": 168,
        "start_time": "2023-06-04T20:38:49.609Z"
      },
      {
        "duration": 568,
        "start_time": "2023-06-04T20:38:49.787Z"
      },
      {
        "duration": 610,
        "start_time": "2023-06-04T20:38:50.357Z"
      },
      {
        "duration": 140,
        "start_time": "2023-06-04T20:38:50.968Z"
      },
      {
        "duration": 136,
        "start_time": "2023-06-04T20:38:51.109Z"
      },
      {
        "duration": 21,
        "start_time": "2023-06-04T20:38:51.248Z"
      },
      {
        "duration": 49,
        "start_time": "2023-06-04T20:38:51.273Z"
      },
      {
        "duration": 34,
        "start_time": "2023-06-04T20:38:51.325Z"
      },
      {
        "duration": 53,
        "start_time": "2023-06-04T20:38:51.362Z"
      },
      {
        "duration": 51,
        "start_time": "2023-06-04T20:38:51.417Z"
      },
      {
        "duration": 204,
        "start_time": "2023-06-04T20:38:51.470Z"
      },
      {
        "duration": 168,
        "start_time": "2023-06-04T20:38:51.677Z"
      },
      {
        "duration": 211,
        "start_time": "2023-06-04T20:38:51.847Z"
      },
      {
        "duration": 233,
        "start_time": "2023-06-04T20:38:52.059Z"
      },
      {
        "duration": 278,
        "start_time": "2023-06-04T20:38:52.298Z"
      },
      {
        "duration": 53,
        "start_time": "2023-06-04T20:38:52.578Z"
      },
      {
        "duration": 69,
        "start_time": "2023-06-04T20:38:52.633Z"
      },
      {
        "duration": 13,
        "start_time": "2023-06-04T20:38:52.705Z"
      },
      {
        "duration": 73,
        "start_time": "2023-06-04T20:38:52.720Z"
      },
      {
        "duration": 39,
        "start_time": "2023-06-04T20:38:52.797Z"
      },
      {
        "duration": 72,
        "start_time": "2023-06-04T20:38:52.838Z"
      },
      {
        "duration": 10,
        "start_time": "2023-06-04T20:38:52.911Z"
      },
      {
        "duration": 139,
        "start_time": "2023-06-04T20:38:52.926Z"
      },
      {
        "duration": 34,
        "start_time": "2023-06-04T20:38:53.068Z"
      },
      {
        "duration": 36,
        "start_time": "2023-06-04T20:38:53.107Z"
      },
      {
        "duration": 70,
        "start_time": "2023-06-04T20:38:53.145Z"
      },
      {
        "duration": 179,
        "start_time": "2023-06-04T20:38:53.217Z"
      },
      {
        "duration": 10,
        "start_time": "2023-06-04T20:38:53.399Z"
      },
      {
        "duration": 45,
        "start_time": "2023-06-04T20:38:53.411Z"
      },
      {
        "duration": 149,
        "start_time": "2023-06-04T20:38:53.458Z"
      },
      {
        "duration": 215,
        "start_time": "2023-06-04T20:38:53.611Z"
      },
      {
        "duration": 238,
        "start_time": "2023-06-04T20:38:53.829Z"
      },
      {
        "duration": 107,
        "start_time": "2023-06-04T20:38:54.069Z"
      },
      {
        "duration": 33,
        "start_time": "2023-06-04T20:38:54.178Z"
      },
      {
        "duration": 31,
        "start_time": "2023-06-04T20:38:54.218Z"
      },
      {
        "duration": 81,
        "start_time": "2023-06-04T20:38:54.251Z"
      },
      {
        "duration": 7,
        "start_time": "2023-06-04T20:38:54.338Z"
      },
      {
        "duration": 46,
        "start_time": "2023-06-04T20:38:54.355Z"
      },
      {
        "duration": 41,
        "start_time": "2023-06-04T20:38:54.405Z"
      },
      {
        "duration": 9,
        "start_time": "2023-06-04T20:38:54.448Z"
      },
      {
        "duration": 37,
        "start_time": "2023-06-04T20:38:54.459Z"
      },
      {
        "duration": 43,
        "start_time": "2023-06-04T20:38:54.497Z"
      },
      {
        "duration": 70,
        "start_time": "2023-06-04T20:38:54.542Z"
      },
      {
        "duration": 8,
        "start_time": "2023-06-04T20:38:54.614Z"
      },
      {
        "duration": 8,
        "start_time": "2023-06-04T20:38:54.624Z"
      },
      {
        "duration": 38275,
        "start_time": "2023-06-04T20:38:54.633Z"
      },
      {
        "duration": 43,
        "start_time": "2023-06-04T20:39:32.913Z"
      },
      {
        "duration": 8159,
        "start_time": "2023-06-04T20:39:32.957Z"
      },
      {
        "duration": 35,
        "start_time": "2023-06-04T20:39:41.118Z"
      },
      {
        "duration": 8812,
        "start_time": "2023-06-04T20:39:41.155Z"
      },
      {
        "duration": 49,
        "start_time": "2023-06-04T20:39:49.969Z"
      },
      {
        "duration": 6373,
        "start_time": "2023-06-04T20:39:50.019Z"
      },
      {
        "duration": 1438,
        "start_time": "2023-06-04T20:47:44.001Z"
      },
      {
        "duration": 817,
        "start_time": "2023-06-04T20:47:45.441Z"
      },
      {
        "duration": 16,
        "start_time": "2023-06-04T20:47:46.260Z"
      },
      {
        "duration": 234,
        "start_time": "2023-06-04T20:47:46.294Z"
      },
      {
        "duration": 396,
        "start_time": "2023-06-04T20:47:46.531Z"
      },
      {
        "duration": 436,
        "start_time": "2023-06-04T20:47:46.928Z"
      },
      {
        "duration": 106,
        "start_time": "2023-06-04T20:47:47.366Z"
      },
      {
        "duration": 126,
        "start_time": "2023-06-04T20:47:47.473Z"
      },
      {
        "duration": 18,
        "start_time": "2023-06-04T20:47:47.601Z"
      },
      {
        "duration": 22,
        "start_time": "2023-06-04T20:47:47.621Z"
      },
      {
        "duration": 22,
        "start_time": "2023-06-04T20:47:47.644Z"
      },
      {
        "duration": 36,
        "start_time": "2023-06-04T20:47:47.667Z"
      },
      {
        "duration": 19,
        "start_time": "2023-06-04T20:47:47.705Z"
      },
      {
        "duration": 174,
        "start_time": "2023-06-04T20:47:47.727Z"
      },
      {
        "duration": 125,
        "start_time": "2023-06-04T20:47:47.903Z"
      },
      {
        "duration": 188,
        "start_time": "2023-06-04T20:47:48.030Z"
      },
      {
        "duration": 226,
        "start_time": "2023-06-04T20:47:48.220Z"
      },
      {
        "duration": 258,
        "start_time": "2023-06-04T20:47:48.447Z"
      },
      {
        "duration": 26,
        "start_time": "2023-06-04T20:47:48.706Z"
      },
      {
        "duration": 67,
        "start_time": "2023-06-04T20:47:48.734Z"
      },
      {
        "duration": 8,
        "start_time": "2023-06-04T20:47:48.803Z"
      },
      {
        "duration": 63,
        "start_time": "2023-06-04T20:47:48.813Z"
      },
      {
        "duration": 29,
        "start_time": "2023-06-04T20:47:48.878Z"
      },
      {
        "duration": 50,
        "start_time": "2023-06-04T20:47:48.909Z"
      },
      {
        "duration": 8,
        "start_time": "2023-06-04T20:47:48.960Z"
      },
      {
        "duration": 116,
        "start_time": "2023-06-04T20:47:48.984Z"
      },
      {
        "duration": 14,
        "start_time": "2023-06-04T20:47:49.103Z"
      },
      {
        "duration": 28,
        "start_time": "2023-06-04T20:47:49.118Z"
      },
      {
        "duration": 62,
        "start_time": "2023-06-04T20:47:49.148Z"
      },
      {
        "duration": 101,
        "start_time": "2023-06-04T20:47:49.212Z"
      },
      {
        "duration": 4,
        "start_time": "2023-06-04T20:47:49.315Z"
      },
      {
        "duration": 35,
        "start_time": "2023-06-04T20:47:49.320Z"
      },
      {
        "duration": 79,
        "start_time": "2023-06-04T20:47:49.356Z"
      },
      {
        "duration": 167,
        "start_time": "2023-06-04T20:47:49.436Z"
      },
      {
        "duration": 162,
        "start_time": "2023-06-04T20:47:49.605Z"
      },
      {
        "duration": 68,
        "start_time": "2023-06-04T20:47:49.769Z"
      },
      {
        "duration": 30,
        "start_time": "2023-06-04T20:47:49.838Z"
      },
      {
        "duration": 10,
        "start_time": "2023-06-04T20:47:49.870Z"
      },
      {
        "duration": 74,
        "start_time": "2023-06-04T20:47:49.881Z"
      },
      {
        "duration": 4,
        "start_time": "2023-06-04T20:47:49.957Z"
      },
      {
        "duration": 57,
        "start_time": "2023-06-04T20:47:49.966Z"
      },
      {
        "duration": 13,
        "start_time": "2023-06-04T20:47:50.025Z"
      },
      {
        "duration": 10,
        "start_time": "2023-06-04T20:47:50.040Z"
      },
      {
        "duration": 20,
        "start_time": "2023-06-04T20:47:50.052Z"
      },
      {
        "duration": 4,
        "start_time": "2023-06-04T20:47:50.074Z"
      },
      {
        "duration": 69,
        "start_time": "2023-06-04T20:47:50.080Z"
      },
      {
        "duration": 3,
        "start_time": "2023-06-04T20:47:50.151Z"
      },
      {
        "duration": 8,
        "start_time": "2023-06-04T20:47:50.156Z"
      },
      {
        "duration": 35464,
        "start_time": "2023-06-04T20:47:50.165Z"
      },
      {
        "duration": 43,
        "start_time": "2023-06-04T20:48:25.631Z"
      },
      {
        "duration": 6977,
        "start_time": "2023-06-04T20:48:25.685Z"
      },
      {
        "duration": 40,
        "start_time": "2023-06-04T20:48:32.664Z"
      },
      {
        "duration": 6737,
        "start_time": "2023-06-04T20:48:32.705Z"
      },
      {
        "duration": 31,
        "start_time": "2023-06-04T20:48:39.443Z"
      },
      {
        "duration": 5510,
        "start_time": "2023-06-04T20:48:39.475Z"
      },
      {
        "duration": 1593,
        "start_time": "2023-06-05T03:48:55.324Z"
      },
      {
        "duration": 2738,
        "start_time": "2023-06-05T03:48:56.919Z"
      },
      {
        "duration": 17,
        "start_time": "2023-06-05T03:48:59.659Z"
      },
      {
        "duration": 116,
        "start_time": "2023-06-05T03:48:59.677Z"
      },
      {
        "duration": 476,
        "start_time": "2023-06-05T03:48:59.795Z"
      },
      {
        "duration": 521,
        "start_time": "2023-06-05T03:49:00.273Z"
      },
      {
        "duration": 108,
        "start_time": "2023-06-05T03:49:00.795Z"
      },
      {
        "duration": 112,
        "start_time": "2023-06-05T03:49:00.904Z"
      },
      {
        "duration": 20,
        "start_time": "2023-06-05T03:49:01.017Z"
      },
      {
        "duration": 30,
        "start_time": "2023-06-05T03:49:01.049Z"
      },
      {
        "duration": 32,
        "start_time": "2023-06-05T03:49:01.081Z"
      },
      {
        "duration": 30,
        "start_time": "2023-06-05T03:49:01.115Z"
      },
      {
        "duration": 44,
        "start_time": "2023-06-05T03:49:01.147Z"
      },
      {
        "duration": 192,
        "start_time": "2023-06-05T03:49:01.194Z"
      },
      {
        "duration": 123,
        "start_time": "2023-06-05T03:49:01.388Z"
      },
      {
        "duration": 197,
        "start_time": "2023-06-05T03:49:01.513Z"
      },
      {
        "duration": 215,
        "start_time": "2023-06-05T03:49:01.711Z"
      },
      {
        "duration": 245,
        "start_time": "2023-06-05T03:49:01.928Z"
      },
      {
        "duration": 30,
        "start_time": "2023-06-05T03:49:02.175Z"
      },
      {
        "duration": 71,
        "start_time": "2023-06-05T03:49:02.207Z"
      },
      {
        "duration": 7,
        "start_time": "2023-06-05T03:49:02.280Z"
      },
      {
        "duration": 44,
        "start_time": "2023-06-05T03:49:02.289Z"
      },
      {
        "duration": 30,
        "start_time": "2023-06-05T03:49:02.350Z"
      },
      {
        "duration": 49,
        "start_time": "2023-06-05T03:49:02.381Z"
      },
      {
        "duration": 18,
        "start_time": "2023-06-05T03:49:02.433Z"
      },
      {
        "duration": 125,
        "start_time": "2023-06-05T03:49:02.453Z"
      },
      {
        "duration": 12,
        "start_time": "2023-06-05T03:49:02.579Z"
      },
      {
        "duration": 28,
        "start_time": "2023-06-05T03:49:02.593Z"
      },
      {
        "duration": 66,
        "start_time": "2023-06-05T03:49:02.623Z"
      },
      {
        "duration": 96,
        "start_time": "2023-06-05T03:49:02.691Z"
      },
      {
        "duration": 3,
        "start_time": "2023-06-05T03:49:02.789Z"
      },
      {
        "duration": 24,
        "start_time": "2023-06-05T03:49:02.793Z"
      },
      {
        "duration": 75,
        "start_time": "2023-06-05T03:49:02.818Z"
      },
      {
        "duration": 145,
        "start_time": "2023-06-05T03:49:02.895Z"
      },
      {
        "duration": 145,
        "start_time": "2023-06-05T03:49:03.042Z"
      },
      {
        "duration": 61,
        "start_time": "2023-06-05T03:49:03.189Z"
      },
      {
        "duration": 12,
        "start_time": "2023-06-05T03:49:03.252Z"
      },
      {
        "duration": 3,
        "start_time": "2023-06-05T03:49:03.266Z"
      },
      {
        "duration": 82,
        "start_time": "2023-06-05T03:49:03.271Z"
      },
      {
        "duration": 4,
        "start_time": "2023-06-05T03:49:03.354Z"
      },
      {
        "duration": 29,
        "start_time": "2023-06-05T03:49:03.364Z"
      },
      {
        "duration": 3,
        "start_time": "2023-06-05T03:49:03.395Z"
      },
      {
        "duration": 3,
        "start_time": "2023-06-05T03:49:03.400Z"
      },
      {
        "duration": 16,
        "start_time": "2023-06-05T03:49:03.404Z"
      },
      {
        "duration": 28,
        "start_time": "2023-06-05T03:49:03.422Z"
      },
      {
        "duration": 42,
        "start_time": "2023-06-05T03:49:03.452Z"
      },
      {
        "duration": 2,
        "start_time": "2023-06-05T03:49:03.496Z"
      },
      {
        "duration": 9,
        "start_time": "2023-06-05T03:49:03.499Z"
      },
      {
        "duration": 56330,
        "start_time": "2023-06-05T03:49:03.510Z"
      },
      {
        "duration": 55,
        "start_time": "2023-06-05T03:49:59.842Z"
      },
      {
        "duration": 14073,
        "start_time": "2023-06-05T03:49:59.899Z"
      },
      {
        "duration": 36,
        "start_time": "2023-06-05T03:50:13.974Z"
      },
      {
        "duration": 14462,
        "start_time": "2023-06-05T03:50:14.011Z"
      },
      {
        "duration": 37,
        "start_time": "2023-06-05T03:50:28.475Z"
      },
      {
        "duration": 2542,
        "start_time": "2023-06-05T03:50:28.514Z"
      },
      {
        "duration": 4,
        "start_time": "2023-06-05T03:50:31.058Z"
      },
      {
        "duration": 0,
        "start_time": "2023-06-05T03:50:31.063Z"
      },
      {
        "duration": 0,
        "start_time": "2023-06-05T03:50:31.064Z"
      },
      {
        "duration": 0,
        "start_time": "2023-06-05T03:50:31.065Z"
      },
      {
        "duration": 0,
        "start_time": "2023-06-05T03:50:31.066Z"
      },
      {
        "duration": 0,
        "start_time": "2023-06-05T03:50:31.067Z"
      },
      {
        "duration": 0,
        "start_time": "2023-06-05T03:50:31.068Z"
      },
      {
        "duration": 0,
        "start_time": "2023-06-05T03:50:31.069Z"
      },
      {
        "duration": 0,
        "start_time": "2023-06-05T03:50:31.070Z"
      },
      {
        "duration": 0,
        "start_time": "2023-06-05T03:50:31.071Z"
      },
      {
        "duration": 1,
        "start_time": "2023-06-05T03:50:31.072Z"
      },
      {
        "duration": 0,
        "start_time": "2023-06-05T03:50:31.073Z"
      },
      {
        "duration": 0,
        "start_time": "2023-06-05T03:50:31.075Z"
      },
      {
        "duration": 249163,
        "start_time": "2023-06-05T03:52:44.817Z"
      },
      {
        "duration": 24483,
        "start_time": "2023-06-05T03:57:44.297Z"
      },
      {
        "duration": 1154107,
        "start_time": "2023-06-05T03:58:38.986Z"
      },
      {
        "duration": 244066,
        "start_time": "2023-06-05T04:18:04.642Z"
      },
      {
        "duration": 334640,
        "start_time": "2023-06-05T04:22:42.228Z"
      },
      {
        "duration": 58156,
        "start_time": "2023-06-05T04:28:36.897Z"
      },
      {
        "duration": 243514,
        "start_time": "2023-06-05T04:30:58.249Z"
      },
      {
        "duration": 38899,
        "start_time": "2023-06-05T04:35:13.124Z"
      },
      {
        "duration": 979093,
        "start_time": "2023-06-05T04:36:07.885Z"
      },
      {
        "duration": 134136,
        "start_time": "2023-06-05T04:52:50.669Z"
      },
      {
        "duration": 36462,
        "start_time": "2023-06-05T04:55:19.788Z"
      },
      {
        "duration": 4,
        "start_time": "2023-06-05T04:56:04.778Z"
      },
      {
        "duration": 9,
        "start_time": "2023-06-05T04:56:08.590Z"
      },
      {
        "duration": 215,
        "start_time": "2023-06-05T04:56:51.481Z"
      },
      {
        "duration": 38133,
        "start_time": "2023-06-05T04:58:01.504Z"
      },
      {
        "duration": 534494,
        "start_time": "2023-06-05T05:09:38.978Z"
      },
      {
        "duration": 39980,
        "start_time": "2023-06-05T05:18:49.067Z"
      },
      {
        "duration": 1776,
        "start_time": "2023-10-21T12:35:26.025Z"
      },
      {
        "duration": 1227,
        "start_time": "2023-10-21T12:35:27.803Z"
      },
      {
        "duration": 20,
        "start_time": "2023-10-21T12:35:29.032Z"
      },
      {
        "duration": 172,
        "start_time": "2023-10-21T12:35:29.055Z"
      },
      {
        "duration": 502,
        "start_time": "2023-10-21T12:35:29.229Z"
      },
      {
        "duration": 579,
        "start_time": "2023-10-21T12:35:29.732Z"
      },
      {
        "duration": 174,
        "start_time": "2023-10-21T12:35:30.313Z"
      },
      {
        "duration": 203,
        "start_time": "2023-10-21T12:35:30.489Z"
      },
      {
        "duration": 24,
        "start_time": "2023-10-21T12:35:30.694Z"
      },
      {
        "duration": 49,
        "start_time": "2023-10-21T12:35:30.721Z"
      },
      {
        "duration": 88,
        "start_time": "2023-10-21T12:35:30.772Z"
      },
      {
        "duration": 55,
        "start_time": "2023-10-21T12:35:30.862Z"
      },
      {
        "duration": 89,
        "start_time": "2023-10-21T12:35:30.918Z"
      },
      {
        "duration": 307,
        "start_time": "2023-10-21T12:35:31.009Z"
      },
      {
        "duration": 176,
        "start_time": "2023-10-21T12:35:31.318Z"
      },
      {
        "duration": 221,
        "start_time": "2023-10-21T12:35:31.496Z"
      },
      {
        "duration": 244,
        "start_time": "2023-10-21T12:35:31.718Z"
      },
      {
        "duration": 292,
        "start_time": "2023-10-21T12:35:31.964Z"
      },
      {
        "duration": 32,
        "start_time": "2023-10-21T12:35:32.258Z"
      },
      {
        "duration": 70,
        "start_time": "2023-10-21T12:35:32.292Z"
      },
      {
        "duration": 7,
        "start_time": "2023-10-21T12:35:32.364Z"
      },
      {
        "duration": 75,
        "start_time": "2023-10-21T12:35:32.373Z"
      },
      {
        "duration": 31,
        "start_time": "2023-10-21T12:35:32.449Z"
      },
      {
        "duration": 68,
        "start_time": "2023-10-21T12:35:32.482Z"
      },
      {
        "duration": 8,
        "start_time": "2023-10-21T12:35:32.551Z"
      },
      {
        "duration": 233,
        "start_time": "2023-10-21T12:35:32.561Z"
      },
      {
        "duration": 15,
        "start_time": "2023-10-21T12:35:32.796Z"
      },
      {
        "duration": 52,
        "start_time": "2023-10-21T12:35:32.815Z"
      },
      {
        "duration": 39,
        "start_time": "2023-10-21T12:35:32.869Z"
      },
      {
        "duration": 154,
        "start_time": "2023-10-21T12:35:32.910Z"
      },
      {
        "duration": 8,
        "start_time": "2023-10-21T12:35:33.066Z"
      },
      {
        "duration": 31,
        "start_time": "2023-10-21T12:35:33.076Z"
      },
      {
        "duration": 110,
        "start_time": "2023-10-21T12:35:33.109Z"
      },
      {
        "duration": 180,
        "start_time": "2023-10-21T12:35:33.222Z"
      },
      {
        "duration": 170,
        "start_time": "2023-10-21T12:35:33.404Z"
      },
      {
        "duration": 92,
        "start_time": "2023-10-21T12:35:33.576Z"
      },
      {
        "duration": 16,
        "start_time": "2023-10-21T12:35:33.670Z"
      },
      {
        "duration": 4,
        "start_time": "2023-10-21T12:35:33.688Z"
      },
      {
        "duration": 96,
        "start_time": "2023-10-21T12:35:33.694Z"
      },
      {
        "duration": 4,
        "start_time": "2023-10-21T12:35:33.792Z"
      },
      {
        "duration": 37,
        "start_time": "2023-10-21T12:35:33.798Z"
      },
      {
        "duration": 11,
        "start_time": "2023-10-21T12:35:33.837Z"
      },
      {
        "duration": 10,
        "start_time": "2023-10-21T12:35:33.849Z"
      },
      {
        "duration": 27,
        "start_time": "2023-10-21T12:35:33.861Z"
      },
      {
        "duration": 3,
        "start_time": "2023-10-21T12:35:33.890Z"
      },
      {
        "duration": 65,
        "start_time": "2023-10-21T12:35:33.895Z"
      },
      {
        "duration": 3,
        "start_time": "2023-10-21T12:35:33.962Z"
      },
      {
        "duration": 11,
        "start_time": "2023-10-21T12:35:33.967Z"
      },
      {
        "duration": 49301,
        "start_time": "2023-10-21T12:35:33.980Z"
      },
      {
        "duration": 64,
        "start_time": "2023-10-21T12:36:23.282Z"
      },
      {
        "duration": 13020,
        "start_time": "2023-10-21T12:36:23.348Z"
      },
      {
        "duration": 41,
        "start_time": "2023-10-21T12:36:36.370Z"
      },
      {
        "duration": 12166,
        "start_time": "2023-10-21T12:36:36.413Z"
      },
      {
        "duration": 40,
        "start_time": "2023-10-21T12:36:48.581Z"
      },
      {
        "duration": 1711,
        "start_time": "2023-10-21T14:00:28.174Z"
      },
      {
        "duration": 1063,
        "start_time": "2023-10-21T14:00:29.888Z"
      },
      {
        "duration": 20,
        "start_time": "2023-10-21T14:00:30.953Z"
      },
      {
        "duration": 290,
        "start_time": "2023-10-21T14:00:30.975Z"
      },
      {
        "duration": 567,
        "start_time": "2023-10-21T14:00:31.267Z"
      },
      {
        "duration": 612,
        "start_time": "2023-10-21T14:00:31.835Z"
      },
      {
        "duration": 184,
        "start_time": "2023-10-21T14:00:32.449Z"
      },
      {
        "duration": 182,
        "start_time": "2023-10-21T14:00:32.635Z"
      },
      {
        "duration": 29,
        "start_time": "2023-10-21T14:00:32.819Z"
      },
      {
        "duration": 48,
        "start_time": "2023-10-21T14:00:32.850Z"
      },
      {
        "duration": 46,
        "start_time": "2023-10-21T14:00:32.899Z"
      },
      {
        "duration": 66,
        "start_time": "2023-10-21T14:00:32.947Z"
      },
      {
        "duration": 36,
        "start_time": "2023-10-21T14:00:33.015Z"
      },
      {
        "duration": 223,
        "start_time": "2023-10-21T14:00:33.055Z"
      },
      {
        "duration": 181,
        "start_time": "2023-10-21T14:00:33.281Z"
      },
      {
        "duration": 177,
        "start_time": "2023-10-21T14:00:33.464Z"
      },
      {
        "duration": 237,
        "start_time": "2023-10-21T14:00:33.647Z"
      },
      {
        "duration": 265,
        "start_time": "2023-10-21T14:00:33.886Z"
      },
      {
        "duration": 30,
        "start_time": "2023-10-21T14:00:34.153Z"
      },
      {
        "duration": 75,
        "start_time": "2023-10-21T14:00:34.186Z"
      },
      {
        "duration": 8,
        "start_time": "2023-10-21T14:00:34.263Z"
      },
      {
        "duration": 79,
        "start_time": "2023-10-21T14:00:34.272Z"
      },
      {
        "duration": 31,
        "start_time": "2023-10-21T14:00:34.353Z"
      },
      {
        "duration": 76,
        "start_time": "2023-10-21T14:00:34.386Z"
      },
      {
        "duration": 8,
        "start_time": "2023-10-21T14:00:34.464Z"
      },
      {
        "duration": 196,
        "start_time": "2023-10-21T14:00:34.474Z"
      },
      {
        "duration": 15,
        "start_time": "2023-10-21T14:00:34.671Z"
      },
      {
        "duration": 43,
        "start_time": "2023-10-21T14:00:34.688Z"
      },
      {
        "duration": 55,
        "start_time": "2023-10-21T14:00:34.733Z"
      },
      {
        "duration": 157,
        "start_time": "2023-10-21T14:00:34.790Z"
      },
      {
        "duration": 4,
        "start_time": "2023-10-21T14:00:34.948Z"
      },
      {
        "duration": 58,
        "start_time": "2023-10-21T14:00:34.954Z"
      },
      {
        "duration": 116,
        "start_time": "2023-10-21T14:00:35.014Z"
      },
      {
        "duration": 236,
        "start_time": "2023-10-21T14:00:35.132Z"
      },
      {
        "duration": 179,
        "start_time": "2023-10-21T14:00:35.370Z"
      },
      {
        "duration": 96,
        "start_time": "2023-10-21T14:00:35.551Z"
      },
      {
        "duration": 15,
        "start_time": "2023-10-21T14:00:35.649Z"
      },
      {
        "duration": 5,
        "start_time": "2023-10-21T14:00:35.665Z"
      },
      {
        "duration": 79,
        "start_time": "2023-10-21T14:00:35.671Z"
      },
      {
        "duration": 5,
        "start_time": "2023-10-21T14:00:35.752Z"
      },
      {
        "duration": 41,
        "start_time": "2023-10-21T14:00:35.761Z"
      },
      {
        "duration": 12,
        "start_time": "2023-10-21T14:00:35.804Z"
      },
      {
        "duration": 13,
        "start_time": "2023-10-21T14:00:35.817Z"
      },
      {
        "duration": 30,
        "start_time": "2023-10-21T14:00:35.832Z"
      },
      {
        "duration": 22,
        "start_time": "2023-10-21T14:00:35.863Z"
      },
      {
        "duration": 92,
        "start_time": "2023-10-21T14:00:35.887Z"
      },
      {
        "duration": 10,
        "start_time": "2023-10-21T14:00:35.981Z"
      },
      {
        "duration": 52,
        "start_time": "2023-10-21T14:00:35.993Z"
      },
      {
        "duration": 56424,
        "start_time": "2023-10-21T14:00:36.047Z"
      },
      {
        "duration": 58,
        "start_time": "2023-10-21T14:01:32.473Z"
      },
      {
        "duration": 17590,
        "start_time": "2023-10-21T14:01:32.533Z"
      },
      {
        "duration": 44,
        "start_time": "2023-10-21T14:01:50.125Z"
      },
      {
        "duration": 17325,
        "start_time": "2023-10-21T14:01:50.171Z"
      },
      {
        "duration": 39,
        "start_time": "2023-10-21T14:02:07.497Z"
      },
      {
        "duration": 1541,
        "start_time": "2023-10-21T18:05:08.233Z"
      },
      {
        "duration": 984,
        "start_time": "2023-10-21T18:05:09.776Z"
      },
      {
        "duration": 15,
        "start_time": "2023-10-21T18:05:10.762Z"
      },
      {
        "duration": 118,
        "start_time": "2023-10-21T18:05:10.779Z"
      },
      {
        "duration": 389,
        "start_time": "2023-10-21T18:05:10.899Z"
      },
      {
        "duration": 424,
        "start_time": "2023-10-21T18:05:11.289Z"
      },
      {
        "duration": 109,
        "start_time": "2023-10-21T18:05:11.714Z"
      },
      {
        "duration": 126,
        "start_time": "2023-10-21T18:05:11.825Z"
      },
      {
        "duration": 21,
        "start_time": "2023-10-21T18:05:11.952Z"
      },
      {
        "duration": 19,
        "start_time": "2023-10-21T18:05:11.974Z"
      },
      {
        "duration": 19,
        "start_time": "2023-10-21T18:05:11.994Z"
      },
      {
        "duration": 43,
        "start_time": "2023-10-21T18:05:12.015Z"
      },
      {
        "duration": 20,
        "start_time": "2023-10-21T18:05:12.060Z"
      },
      {
        "duration": 163,
        "start_time": "2023-10-21T18:05:12.084Z"
      },
      {
        "duration": 115,
        "start_time": "2023-10-21T18:05:12.249Z"
      },
      {
        "duration": 155,
        "start_time": "2023-10-21T18:05:12.365Z"
      },
      {
        "duration": 234,
        "start_time": "2023-10-21T18:05:12.523Z"
      },
      {
        "duration": 229,
        "start_time": "2023-10-21T18:05:12.758Z"
      },
      {
        "duration": 21,
        "start_time": "2023-10-21T18:05:12.989Z"
      },
      {
        "duration": 57,
        "start_time": "2023-10-21T18:05:13.011Z"
      },
      {
        "duration": 6,
        "start_time": "2023-10-21T18:05:13.070Z"
      },
      {
        "duration": 36,
        "start_time": "2023-10-21T18:05:13.077Z"
      },
      {
        "duration": 43,
        "start_time": "2023-10-21T18:05:13.114Z"
      },
      {
        "duration": 43,
        "start_time": "2023-10-21T18:05:13.158Z"
      },
      {
        "duration": 5,
        "start_time": "2023-10-21T18:05:13.202Z"
      },
      {
        "duration": 117,
        "start_time": "2023-10-21T18:05:13.208Z"
      },
      {
        "duration": 21,
        "start_time": "2023-10-21T18:05:13.326Z"
      },
      {
        "duration": 26,
        "start_time": "2023-10-21T18:05:13.348Z"
      },
      {
        "duration": 34,
        "start_time": "2023-10-21T18:05:13.375Z"
      },
      {
        "duration": 106,
        "start_time": "2023-10-21T18:05:13.410Z"
      },
      {
        "duration": 4,
        "start_time": "2023-10-21T18:05:13.517Z"
      },
      {
        "duration": 33,
        "start_time": "2023-10-21T18:05:13.523Z"
      },
      {
        "duration": 57,
        "start_time": "2023-10-21T18:05:13.558Z"
      },
      {
        "duration": 152,
        "start_time": "2023-10-21T18:05:13.617Z"
      },
      {
        "duration": 146,
        "start_time": "2023-10-21T18:05:13.770Z"
      },
      {
        "duration": 68,
        "start_time": "2023-10-21T18:05:13.917Z"
      },
      {
        "duration": 15,
        "start_time": "2023-10-21T18:05:13.987Z"
      },
      {
        "duration": 4,
        "start_time": "2023-10-21T18:05:14.003Z"
      },
      {
        "duration": 56,
        "start_time": "2023-10-21T18:05:14.008Z"
      },
      {
        "duration": 3,
        "start_time": "2023-10-21T18:05:14.066Z"
      },
      {
        "duration": 17,
        "start_time": "2023-10-21T18:05:14.072Z"
      },
      {
        "duration": 3,
        "start_time": "2023-10-21T18:05:14.090Z"
      },
      {
        "duration": 3,
        "start_time": "2023-10-21T18:05:14.095Z"
      },
      {
        "duration": 15,
        "start_time": "2023-10-21T18:05:14.099Z"
      },
      {
        "duration": 2,
        "start_time": "2023-10-21T18:05:14.115Z"
      },
      {
        "duration": 45,
        "start_time": "2023-10-21T18:05:14.139Z"
      },
      {
        "duration": 3,
        "start_time": "2023-10-21T18:05:14.185Z"
      },
      {
        "duration": 8,
        "start_time": "2023-10-21T18:05:14.189Z"
      },
      {
        "duration": 18661,
        "start_time": "2023-10-21T18:05:14.199Z"
      },
      {
        "duration": 43,
        "start_time": "2023-10-21T18:05:32.862Z"
      },
      {
        "duration": 4498,
        "start_time": "2023-10-21T18:05:32.906Z"
      },
      {
        "duration": 37,
        "start_time": "2023-10-21T18:05:37.405Z"
      },
      {
        "duration": 5080,
        "start_time": "2023-10-21T18:05:37.444Z"
      },
      {
        "duration": 56,
        "start_time": "2023-10-21T18:05:42.525Z"
      },
      {
        "duration": 357257,
        "start_time": "2023-10-21T18:05:42.583Z"
      },
      {
        "duration": 24898,
        "start_time": "2023-10-21T18:11:39.842Z"
      },
      {
        "duration": 201294,
        "start_time": "2023-10-21T18:12:04.742Z"
      },
      {
        "duration": 30713,
        "start_time": "2023-10-21T18:15:26.037Z"
      },
      {
        "duration": 646535,
        "start_time": "2023-10-21T18:15:56.751Z"
      },
      {
        "duration": 92904,
        "start_time": "2023-10-21T18:26:43.287Z"
      },
      {
        "duration": 11952,
        "start_time": "2023-10-21T18:28:16.192Z"
      },
      {
        "duration": 94,
        "start_time": "2023-10-21T18:28:28.145Z"
      },
      {
        "duration": 11,
        "start_time": "2023-10-21T18:28:28.241Z"
      },
      {
        "duration": 227,
        "start_time": "2023-10-21T18:28:28.253Z"
      },
      {
        "duration": 31360,
        "start_time": "2023-10-21T18:28:28.481Z"
      },
      {
        "duration": 30913,
        "start_time": "2023-10-21T18:30:53.976Z"
      }
    ],
    "kernelspec": {
      "display_name": "Python 3 (ipykernel)",
      "language": "python",
      "name": "python3"
    },
    "language_info": {
      "codemirror_mode": {
        "name": "ipython",
        "version": 3
      },
      "file_extension": ".py",
      "mimetype": "text/x-python",
      "name": "python",
      "nbconvert_exporter": "python",
      "pygments_lexer": "ipython3",
      "version": "3.9.5"
    },
    "toc": {
      "base_numbering": 1,
      "nav_menu": {},
      "number_sections": true,
      "sideBar": true,
      "skip_h1_title": true,
      "title_cell": "Table of Contents",
      "title_sidebar": "Contents",
      "toc_cell": false,
      "toc_position": {},
      "toc_section_display": true,
      "toc_window_display": false
    },
    "colab": {
      "provenance": []
    }
  },
  "nbformat": 4,
  "nbformat_minor": 0
}
